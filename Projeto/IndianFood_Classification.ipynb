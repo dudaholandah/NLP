{
  "nbformat": 4,
  "nbformat_minor": 0,
  "metadata": {
    "colab": {
      "provenance": [],
      "collapsed_sections": [
        "WcLihi-R1K51",
        "7ykGfuKI1Qza",
        "VNAfDGAw1lC2",
        "JUwu7ggfBuKk",
        "iPpD__hB11D2",
        "uOfX_m_m5HQ4",
        "6RhLUtYqmRHE"
      ],
      "authorship_tag": "ABX9TyNFycOJOQEMia6SQLQvgFwp",
      "include_colab_link": true
    },
    "kernelspec": {
      "name": "python3",
      "display_name": "Python 3"
    },
    "language_info": {
      "name": "python"
    }
  },
  "cells": [
    {
      "cell_type": "markdown",
      "metadata": {
        "id": "view-in-github",
        "colab_type": "text"
      },
      "source": [
        "<a href=\"https://colab.research.google.com/github/dudaholandah/NLP/blob/main/Projeto/IndianFood_Classification.ipynb\" target=\"_parent\"><img src=\"https://colab.research.google.com/assets/colab-badge.svg\" alt=\"Open In Colab\"/></a>"
      ]
    },
    {
      "cell_type": "markdown",
      "source": [
        "# Google Drive"
      ],
      "metadata": {
        "id": "WcLihi-R1K51"
      }
    },
    {
      "cell_type": "code",
      "execution_count": null,
      "metadata": {
        "id": "HF2bJKuw07dg",
        "outputId": "7dbc9426-259d-4853-c2de-0d97a1f5c9ec",
        "colab": {
          "base_uri": "https://localhost:8080/"
        }
      },
      "outputs": [
        {
          "output_type": "stream",
          "name": "stdout",
          "text": [
            "Mounted at /content/drive\n"
          ]
        }
      ],
      "source": [
        "from google.colab import drive\n",
        "drive.mount('/content/drive')"
      ]
    },
    {
      "cell_type": "code",
      "source": [
        "!cp -r '/content/drive/MyDrive/NLP-Project/indian-food' 'indian-food'"
      ],
      "metadata": {
        "id": "sFVXDnEj1ISk"
      },
      "execution_count": null,
      "outputs": []
    },
    {
      "cell_type": "markdown",
      "source": [
        "# Imports"
      ],
      "metadata": {
        "id": "7ykGfuKI1Qza"
      }
    },
    {
      "cell_type": "code",
      "source": [
        "!pip install gensim --upgrade\n",
        "!pip install keras\n",
        "!pip install tensorflow\n",
        "!pip install keras-tuner --upgrade\n",
        "!pip install glove-python-binary"
      ],
      "metadata": {
        "id": "SwIN9CAP1Rwu"
      },
      "execution_count": null,
      "outputs": []
    },
    {
      "cell_type": "code",
      "source": [
        "#WORD2VEC\n",
        "from gensim.models import Word2Vec\n",
        "import nltk\n",
        "from tensorflow.keras.preprocessing.text import Tokenizer\n",
        "from tensorflow.keras.preprocessing.sequence import pad_sequences\n",
        "nltk.download('punkt')\n",
        "#GLOVE\n",
        "from glove import Corpus, Glove\n",
        "#Neural Network\n",
        "import keras_tuner as kt\n",
        "from tensorflow import keras\n",
        "from keras.models import Sequential\n",
        "from keras.layers import Dense,Conv1D,Embedding,GlobalMaxPooling1D,Activation,SimpleRNN,Dropout,Masking,LSTM\n",
        "from sklearn.feature_extraction.text import TfidfVectorizer\n",
        "from tensorflow.keras.optimizers import SGD\n",
        "from keras_tuner import HyperModel\n",
        "import matplotlib.pyplot as plt\n",
        "from sklearn.metrics import classification_report\n",
        "from sklearn.metrics import ConfusionMatrixDisplay\n",
        "#Data\n",
        "import json\n",
        "import os\n",
        "import pandas as pd\n",
        "import re\n",
        "import numpy as np\n",
        "from sklearn.model_selection import train_test_split\n",
        "from keras.utils.np_utils import to_categorical"
      ],
      "metadata": {
        "id": "-chQxYTs1eCT"
      },
      "execution_count": null,
      "outputs": []
    },
    {
      "cell_type": "markdown",
      "source": [
        "# Data"
      ],
      "metadata": {
        "id": "VNAfDGAw1lC2"
      }
    },
    {
      "cell_type": "code",
      "source": [
        "path = 'indian-food/indian_food.csv'\n",
        "df_indian = pd.read_csv(path)"
      ],
      "metadata": {
        "id": "yKvncD4rxi2s"
      },
      "execution_count": null,
      "outputs": []
    },
    {
      "cell_type": "code",
      "source": [
        "df_indian.head(5)"
      ],
      "metadata": {
        "colab": {
          "base_uri": "https://localhost:8080/"
        },
        "id": "hoD6uJYQyi3j",
        "outputId": "7143126e-ed33-4a29-946a-a9c8b4fced62"
      },
      "execution_count": null,
      "outputs": [
        {
          "output_type": "execute_result",
          "data": {
            "text/plain": [
              "             name                                        ingredients  \\\n",
              "0      Balu shahi                    Maida flour, yogurt, oil, sugar   \n",
              "1          Boondi                            Gram flour, ghee, sugar   \n",
              "2  Gajar ka halwa       Carrots, milk, sugar, ghee, cashews, raisins   \n",
              "3          Ghevar  Flour, ghee, kewra, milk, clarified butter, su...   \n",
              "4     Gulab jamun  Milk powder, plain flour, baking powder, ghee,...   \n",
              "\n",
              "         diet  prep_time  cook_time flavor_profile   course        state  \\\n",
              "0  vegetarian         45         25          sweet  dessert  West Bengal   \n",
              "1  vegetarian         80         30          sweet  dessert    Rajasthan   \n",
              "2  vegetarian         15         60          sweet  dessert       Punjab   \n",
              "3  vegetarian         15         30          sweet  dessert    Rajasthan   \n",
              "4  vegetarian         15         40          sweet  dessert  West Bengal   \n",
              "\n",
              "  region  \n",
              "0   East  \n",
              "1   West  \n",
              "2  North  \n",
              "3   West  \n",
              "4   East  "
            ],
            "text/html": [
              "\n",
              "  <div id=\"df-c48468e6-b095-4f74-96ba-781b743a6a21\">\n",
              "    <div class=\"colab-df-container\">\n",
              "      <div>\n",
              "<style scoped>\n",
              "    .dataframe tbody tr th:only-of-type {\n",
              "        vertical-align: middle;\n",
              "    }\n",
              "\n",
              "    .dataframe tbody tr th {\n",
              "        vertical-align: top;\n",
              "    }\n",
              "\n",
              "    .dataframe thead th {\n",
              "        text-align: right;\n",
              "    }\n",
              "</style>\n",
              "<table border=\"1\" class=\"dataframe\">\n",
              "  <thead>\n",
              "    <tr style=\"text-align: right;\">\n",
              "      <th></th>\n",
              "      <th>name</th>\n",
              "      <th>ingredients</th>\n",
              "      <th>diet</th>\n",
              "      <th>prep_time</th>\n",
              "      <th>cook_time</th>\n",
              "      <th>flavor_profile</th>\n",
              "      <th>course</th>\n",
              "      <th>state</th>\n",
              "      <th>region</th>\n",
              "    </tr>\n",
              "  </thead>\n",
              "  <tbody>\n",
              "    <tr>\n",
              "      <th>0</th>\n",
              "      <td>Balu shahi</td>\n",
              "      <td>Maida flour, yogurt, oil, sugar</td>\n",
              "      <td>vegetarian</td>\n",
              "      <td>45</td>\n",
              "      <td>25</td>\n",
              "      <td>sweet</td>\n",
              "      <td>dessert</td>\n",
              "      <td>West Bengal</td>\n",
              "      <td>East</td>\n",
              "    </tr>\n",
              "    <tr>\n",
              "      <th>1</th>\n",
              "      <td>Boondi</td>\n",
              "      <td>Gram flour, ghee, sugar</td>\n",
              "      <td>vegetarian</td>\n",
              "      <td>80</td>\n",
              "      <td>30</td>\n",
              "      <td>sweet</td>\n",
              "      <td>dessert</td>\n",
              "      <td>Rajasthan</td>\n",
              "      <td>West</td>\n",
              "    </tr>\n",
              "    <tr>\n",
              "      <th>2</th>\n",
              "      <td>Gajar ka halwa</td>\n",
              "      <td>Carrots, milk, sugar, ghee, cashews, raisins</td>\n",
              "      <td>vegetarian</td>\n",
              "      <td>15</td>\n",
              "      <td>60</td>\n",
              "      <td>sweet</td>\n",
              "      <td>dessert</td>\n",
              "      <td>Punjab</td>\n",
              "      <td>North</td>\n",
              "    </tr>\n",
              "    <tr>\n",
              "      <th>3</th>\n",
              "      <td>Ghevar</td>\n",
              "      <td>Flour, ghee, kewra, milk, clarified butter, su...</td>\n",
              "      <td>vegetarian</td>\n",
              "      <td>15</td>\n",
              "      <td>30</td>\n",
              "      <td>sweet</td>\n",
              "      <td>dessert</td>\n",
              "      <td>Rajasthan</td>\n",
              "      <td>West</td>\n",
              "    </tr>\n",
              "    <tr>\n",
              "      <th>4</th>\n",
              "      <td>Gulab jamun</td>\n",
              "      <td>Milk powder, plain flour, baking powder, ghee,...</td>\n",
              "      <td>vegetarian</td>\n",
              "      <td>15</td>\n",
              "      <td>40</td>\n",
              "      <td>sweet</td>\n",
              "      <td>dessert</td>\n",
              "      <td>West Bengal</td>\n",
              "      <td>East</td>\n",
              "    </tr>\n",
              "  </tbody>\n",
              "</table>\n",
              "</div>\n",
              "      <button class=\"colab-df-convert\" onclick=\"convertToInteractive('df-c48468e6-b095-4f74-96ba-781b743a6a21')\"\n",
              "              title=\"Convert this dataframe to an interactive table.\"\n",
              "              style=\"display:none;\">\n",
              "        \n",
              "  <svg xmlns=\"http://www.w3.org/2000/svg\" height=\"24px\"viewBox=\"0 0 24 24\"\n",
              "       width=\"24px\">\n",
              "    <path d=\"M0 0h24v24H0V0z\" fill=\"none\"/>\n",
              "    <path d=\"M18.56 5.44l.94 2.06.94-2.06 2.06-.94-2.06-.94-.94-2.06-.94 2.06-2.06.94zm-11 1L8.5 8.5l.94-2.06 2.06-.94-2.06-.94L8.5 2.5l-.94 2.06-2.06.94zm10 10l.94 2.06.94-2.06 2.06-.94-2.06-.94-.94-2.06-.94 2.06-2.06.94z\"/><path d=\"M17.41 7.96l-1.37-1.37c-.4-.4-.92-.59-1.43-.59-.52 0-1.04.2-1.43.59L10.3 9.45l-7.72 7.72c-.78.78-.78 2.05 0 2.83L4 21.41c.39.39.9.59 1.41.59.51 0 1.02-.2 1.41-.59l7.78-7.78 2.81-2.81c.8-.78.8-2.07 0-2.86zM5.41 20L4 18.59l7.72-7.72 1.47 1.35L5.41 20z\"/>\n",
              "  </svg>\n",
              "      </button>\n",
              "      \n",
              "  <style>\n",
              "    .colab-df-container {\n",
              "      display:flex;\n",
              "      flex-wrap:wrap;\n",
              "      gap: 12px;\n",
              "    }\n",
              "\n",
              "    .colab-df-convert {\n",
              "      background-color: #E8F0FE;\n",
              "      border: none;\n",
              "      border-radius: 50%;\n",
              "      cursor: pointer;\n",
              "      display: none;\n",
              "      fill: #1967D2;\n",
              "      height: 32px;\n",
              "      padding: 0 0 0 0;\n",
              "      width: 32px;\n",
              "    }\n",
              "\n",
              "    .colab-df-convert:hover {\n",
              "      background-color: #E2EBFA;\n",
              "      box-shadow: 0px 1px 2px rgba(60, 64, 67, 0.3), 0px 1px 3px 1px rgba(60, 64, 67, 0.15);\n",
              "      fill: #174EA6;\n",
              "    }\n",
              "\n",
              "    [theme=dark] .colab-df-convert {\n",
              "      background-color: #3B4455;\n",
              "      fill: #D2E3FC;\n",
              "    }\n",
              "\n",
              "    [theme=dark] .colab-df-convert:hover {\n",
              "      background-color: #434B5C;\n",
              "      box-shadow: 0px 1px 3px 1px rgba(0, 0, 0, 0.15);\n",
              "      filter: drop-shadow(0px 1px 2px rgba(0, 0, 0, 0.3));\n",
              "      fill: #FFFFFF;\n",
              "    }\n",
              "  </style>\n",
              "\n",
              "      <script>\n",
              "        const buttonEl =\n",
              "          document.querySelector('#df-c48468e6-b095-4f74-96ba-781b743a6a21 button.colab-df-convert');\n",
              "        buttonEl.style.display =\n",
              "          google.colab.kernel.accessAllowed ? 'block' : 'none';\n",
              "\n",
              "        async function convertToInteractive(key) {\n",
              "          const element = document.querySelector('#df-c48468e6-b095-4f74-96ba-781b743a6a21');\n",
              "          const dataTable =\n",
              "            await google.colab.kernel.invokeFunction('convertToInteractive',\n",
              "                                                     [key], {});\n",
              "          if (!dataTable) return;\n",
              "\n",
              "          const docLinkHtml = 'Like what you see? Visit the ' +\n",
              "            '<a target=\"_blank\" href=https://colab.research.google.com/notebooks/data_table.ipynb>data table notebook</a>'\n",
              "            + ' to learn more about interactive tables.';\n",
              "          element.innerHTML = '';\n",
              "          dataTable['output_type'] = 'display_data';\n",
              "          await google.colab.output.renderOutput(dataTable, element);\n",
              "          const docLink = document.createElement('div');\n",
              "          docLink.innerHTML = docLinkHtml;\n",
              "          element.appendChild(docLink);\n",
              "        }\n",
              "      </script>\n",
              "    </div>\n",
              "  </div>\n",
              "  "
            ]
          },
          "metadata": {},
          "execution_count": 6
        }
      ]
    },
    {
      "cell_type": "markdown",
      "metadata": {
        "id": "J-FJCLP-bOqe"
      },
      "source": [
        "## Pre-Processing"
      ]
    },
    {
      "cell_type": "code",
      "execution_count": null,
      "metadata": {
        "id": "MRibRNivbUE1"
      },
      "outputs": [],
      "source": [
        "def pre_processing(text):\n",
        "  new = \"\"\n",
        "  for word in text.split(','):\n",
        "    word = re.sub(r'[^\\w\\s]', '', word.lower())\n",
        "    word = re.sub(r'[0-9]+', '', word)\n",
        "    word = re.sub(r'\\boz\\b', '', word)\n",
        "    word = re.sub(r'\\ba taste of\\b', '', word)\n",
        "    new = new + word.strip() + \" \"\n",
        "\n",
        "  return new[:-1]"
      ]
    },
    {
      "cell_type": "code",
      "source": [
        "df_indian['ingredients'] = [pre_processing(x) for x in df_indian['ingredients']]"
      ],
      "metadata": {
        "id": "DLs5igUXytMt"
      },
      "execution_count": null,
      "outputs": []
    },
    {
      "cell_type": "code",
      "source": [
        "X = df_indian['ingredients']\n",
        "y = df_indian['diet']\n",
        "\n",
        "# dados de teste = 20% do treinamento\n",
        "X_train, X_test, y_train, y_test = train_test_split(X, y, test_size=0.2)\n",
        "\n",
        "# dados de validacao = 50% do teste\n",
        "X_test, X_valid, y_test, y_valid = train_test_split(X, y, test_size=0.5)"
      ],
      "metadata": {
        "id": "kSIBzujzy8rI"
      },
      "execution_count": null,
      "outputs": []
    },
    {
      "cell_type": "code",
      "source": [
        "y_train = pd.Categorical(y_train)\n",
        "y_train_int = y_train.codes\n",
        "\n",
        "y_valid = pd.Categorical(y_valid)\n",
        "y_valid_int = y_valid.codes\n",
        "\n",
        "y_test = pd.Categorical(y_test)\n",
        "target_names = y_test.categories\n",
        "y_test_int = y_test.codes\n",
        "\n",
        "y_train = to_categorical(y_train_int)\n",
        "y_valid = to_categorical(y_valid_int)\n",
        "y_test = to_categorical(y_test_int)"
      ],
      "metadata": {
        "id": "WMGPvdJF7VxY"
      },
      "execution_count": null,
      "outputs": []
    },
    {
      "cell_type": "markdown",
      "source": [
        "# Embeddings"
      ],
      "metadata": {
        "id": "JUwu7ggfBuKk"
      }
    },
    {
      "cell_type": "code",
      "source": [
        "MAX_LENGTH = 12"
      ],
      "metadata": {
        "id": "8q6eOy_DFW1S"
      },
      "execution_count": null,
      "outputs": []
    },
    {
      "cell_type": "markdown",
      "source": [
        "## Word2Vec"
      ],
      "metadata": {
        "id": "iPpD__hB11D2"
      }
    },
    {
      "cell_type": "code",
      "source": [
        "def create_embedding_w2v(tokenizer, model, vocab_size, embedding_dim):\n",
        "  embedding_w2v = np.zeros((vocab_size, embedding_dim))\n",
        "  for word, i in tokenizer.word_index.items():\n",
        "    if word in model.wv:\n",
        "      embedding_w2v[i] = model.wv.get_vector(word)\n",
        "    else:\n",
        "      embedding_w2v[i]=np.random.normal(0,np.sqrt(0.25), embedding_dim)\n",
        "  return embedding_w2v"
      ],
      "metadata": {
        "id": "9seXGB8U9Gd1"
      },
      "execution_count": null,
      "outputs": []
    },
    {
      "cell_type": "code",
      "source": [
        "# Tokenizer\n",
        "tokenizer = Tokenizer()\n",
        "tokenizer.fit_on_texts(X_train)\n",
        "vocab_size = len(tokenizer.word_index) + 1"
      ],
      "metadata": {
        "id": "XWFgwCcVW00s"
      },
      "execution_count": null,
      "outputs": []
    },
    {
      "cell_type": "code",
      "source": [
        "# Train Data\n",
        "encoded_w2v = tokenizer.texts_to_sequences(X_train)\n",
        "X_train_w2v_padded = pad_sequences(encoded_w2v, maxlen=MAX_LENGTH, padding='post', truncating='post')\n",
        "\n",
        "# Valid Data\n",
        "encoded_w2v = tokenizer.texts_to_sequences(X_valid)\n",
        "X_valid_w2v_padded = pad_sequences(encoded_w2v, maxlen=MAX_LENGTH, padding='post', truncating='post')\n",
        "\n",
        "# Test Data\n",
        "encoded_w2v = tokenizer.texts_to_sequences(X_test)\n",
        "X_test_w2v_padded = pad_sequences(encoded_w2v, maxlen=MAX_LENGTH, padding='post', truncating='post')"
      ],
      "metadata": {
        "id": "b6PPurhP6Blz"
      },
      "execution_count": null,
      "outputs": []
    },
    {
      "cell_type": "code",
      "source": [
        "# EMBEDDING LAYER\n",
        "\n",
        "EMBEDDING_DIM_W2V = 50\n",
        "\n",
        "sentences = [sentence.split() for sentence in X_train]\n",
        "model_word2vec = Word2Vec(sentences, vector_size=EMBEDDING_DIM_W2V, min_count=1, window=5, sg=1,workers=4)\n",
        "\n",
        "embedding_w2v = create_embedding_w2v(tokenizer, model_word2vec, vocab_size, EMBEDDING_DIM_W2V)"
      ],
      "metadata": {
        "id": "sOvL-7eLDrwb"
      },
      "execution_count": null,
      "outputs": []
    },
    {
      "cell_type": "markdown",
      "source": [
        "## GloVe"
      ],
      "metadata": {
        "id": "uOfX_m_m5HQ4"
      }
    },
    {
      "cell_type": "code",
      "source": [
        "def create_embedding_glove(glove, vocab_size, embedding_dim):\n",
        "  embedding_glove = np.zeros((vocab_size, embedding_dim))\n",
        "  for i, word in enumerate(glove.dictionary):\n",
        "    embedding_glove[i+1] = glove.word_vectors[i]\n",
        "  return embedding_glove"
      ],
      "metadata": {
        "id": "ZNQQnNMUGrKU"
      },
      "execution_count": null,
      "outputs": []
    },
    {
      "cell_type": "code",
      "source": [
        "def texts_to_sequences(df_text):\n",
        "  encoded_glove = []\n",
        "  for sentence in df_text:\n",
        "    xs = []\n",
        "    for word in sentence.split():\n",
        "      if glove.dictionary.get(word) is not None:\n",
        "        xs.append(glove.dictionary[word]+1)\n",
        "      else:\n",
        "        xs.append(0)\n",
        "    encoded_glove.append(xs)\n",
        "  return encoded_glove"
      ],
      "metadata": {
        "id": "uc6EkGgTPcIK"
      },
      "execution_count": null,
      "outputs": []
    },
    {
      "cell_type": "code",
      "source": [
        "corpus = Corpus() \n",
        " \n",
        "sentences = [sentence.split() for sentence in X_train]\n",
        "corpus.fit(sentences, window=10)"
      ],
      "metadata": {
        "id": "rjV8P7qfEj-g"
      },
      "execution_count": null,
      "outputs": []
    },
    {
      "cell_type": "code",
      "source": [
        "# EMBEDDING LAYER\n",
        "\n",
        "EMBEDDING_DIM_GLV = 50\n",
        "\n",
        "glove = Glove(no_components=EMBEDDING_DIM_GLV, learning_rate=0.05)\n",
        "glove.fit(corpus.matrix, epochs=30, no_threads=2)\n",
        "glove.add_dictionary(corpus.dictionary)\n",
        "embedding_glove = create_embedding_glove(glove, vocab_size, EMBEDDING_DIM_GLV)"
      ],
      "metadata": {
        "id": "xr9rXW2hE4oZ"
      },
      "execution_count": null,
      "outputs": []
    },
    {
      "cell_type": "code",
      "source": [
        "# Train Data\n",
        "encoded_glove = texts_to_sequences(X_train)\n",
        "X_train_glove_padded = pad_sequences(encoded_glove, maxlen=MAX_LENGTH, padding='post', truncating='post')\n",
        "\n",
        "# Valid Data\n",
        "encoded_glove = texts_to_sequences(X_valid)\n",
        "X_valid_glove_padded = pad_sequences(encoded_glove, maxlen=MAX_LENGTH, padding='post', truncating='post')\n",
        "\n",
        "# Test Data\n",
        "encoded_glove = texts_to_sequences(X_test)\n",
        "X_test_glove_padded = pad_sequences(encoded_glove, maxlen=MAX_LENGTH, padding='post', truncating='post')"
      ],
      "metadata": {
        "id": "11XjPAq3Oh7P"
      },
      "execution_count": null,
      "outputs": []
    },
    {
      "cell_type": "markdown",
      "source": [
        "# CNN"
      ],
      "metadata": {
        "id": "HIQ72WsJ3gAx"
      }
    },
    {
      "cell_type": "code",
      "source": [
        "class CNNHyperModel(HyperModel):\n",
        "  def __init__(self, embedding_layer, output):\n",
        "    self.embedding_layer = embedding_layer\n",
        "    self.output = output\n",
        "\n",
        "  def build(self, hp):\n",
        "    model = Sequential()\n",
        "    model.add(self.embedding_layer)\n",
        "    model.add(Conv1D(filters=hp.Choice(\"conv\", [64,128,256]), kernel_size=6, strides=1, activation='relu'))\n",
        "    model.add(Dropout(0.5))\n",
        "    model.add(GlobalMaxPooling1D())\n",
        "    model.add(Dense(hp.Choice(\"dense1\", [64,128]), activation='relu'))\n",
        "    model.add(Dense(hp.Choice(\"dense2\", [32,64]), activation='relu'))\n",
        "    model.add(Dense(self.output, activation='softmax'))\n",
        "    sgd = SGD(learning_rate=0.01)\n",
        "    model.compile(loss=\"categorical_crossentropy\",optimizer=sgd,metrics=['accuracy'])\n",
        "    return model"
      ],
      "metadata": {
        "id": "E0Mz-bZ03iwE"
      },
      "execution_count": null,
      "outputs": []
    },
    {
      "cell_type": "markdown",
      "source": [
        "### WORD2VEC"
      ],
      "metadata": {
        "id": "K_Ew4Uj3IqFx"
      }
    },
    {
      "cell_type": "code",
      "source": [
        "embedding_layer = Embedding(input_dim=vocab_size, output_dim=EMBEDDING_DIM_W2V, weights=[embedding_w2v], input_length=MAX_LENGTH, trainable=False)"
      ],
      "metadata": {
        "id": "QMLmqm2szEo7"
      },
      "execution_count": null,
      "outputs": []
    },
    {
      "cell_type": "code",
      "source": [
        "model_CNN = CNNHyperModel(embedding_layer, 2)"
      ],
      "metadata": {
        "id": "FyEDxSA5IFwZ"
      },
      "execution_count": null,
      "outputs": []
    },
    {
      "cell_type": "code",
      "source": [
        "tuner = kt.Hyperband(\n",
        "    model_CNN,\n",
        "    objective='val_accuracy',\n",
        "    max_epochs=30,\n",
        "    hyperband_iterations=2,\n",
        "    overwrite=True)"
      ],
      "metadata": {
        "id": "ToxMDjVMxPkp"
      },
      "execution_count": null,
      "outputs": []
    },
    {
      "cell_type": "code",
      "source": [
        "tuner.search(X_train_w2v_padded,y_train,validation_data=(X_valid_w2v_padded,y_valid),epochs=50)"
      ],
      "metadata": {
        "colab": {
          "base_uri": "https://localhost:8080/"
        },
        "id": "oJ629II_xrHh",
        "outputId": "26640a16-ddad-4c44-d42a-48db5f1af0b8"
      },
      "execution_count": null,
      "outputs": [
        {
          "output_type": "stream",
          "name": "stdout",
          "text": [
            "Trial 12 Complete [00h 00m 03s]\n",
            "val_accuracy: 0.8984375\n",
            "\n",
            "Best val_accuracy So Far: 0.8984375\n",
            "Total elapsed time: 00h 00m 31s\n"
          ]
        }
      ]
    },
    {
      "cell_type": "code",
      "source": [
        "best_hps = tuner.get_best_hyperparameters(num_trials=1)[0]"
      ],
      "metadata": {
        "id": "9rdOfzKC1C-_"
      },
      "execution_count": null,
      "outputs": []
    },
    {
      "cell_type": "code",
      "source": [
        "model = tuner.hypermodel.build(best_hps)"
      ],
      "metadata": {
        "id": "iE44c8wx0ncp"
      },
      "execution_count": null,
      "outputs": []
    },
    {
      "cell_type": "code",
      "source": [
        "model.summary()"
      ],
      "metadata": {
        "colab": {
          "base_uri": "https://localhost:8080/"
        },
        "id": "D7KhTzglIRu7",
        "outputId": "f57a1c65-72a8-4ca5-f3b6-0228b13681cf"
      },
      "execution_count": null,
      "outputs": [
        {
          "output_type": "stream",
          "name": "stdout",
          "text": [
            "Model: \"sequential_1\"\n",
            "_________________________________________________________________\n",
            " Layer (type)                Output Shape              Param #   \n",
            "=================================================================\n",
            " embedding (Embedding)       (None, 12, 50)            15300     \n",
            "                                                                 \n",
            " conv1d_1 (Conv1D)           (None, 7, 256)            77056     \n",
            "                                                                 \n",
            " dropout_1 (Dropout)         (None, 7, 256)            0         \n",
            "                                                                 \n",
            " global_max_pooling1d_1 (Glo  (None, 256)              0         \n",
            " balMaxPooling1D)                                                \n",
            "                                                                 \n",
            " dense_3 (Dense)             (None, 64)                16448     \n",
            "                                                                 \n",
            " dense_4 (Dense)             (None, 32)                2080      \n",
            "                                                                 \n",
            " dense_5 (Dense)             (None, 2)                 66        \n",
            "                                                                 \n",
            "=================================================================\n",
            "Total params: 110,950\n",
            "Trainable params: 95,650\n",
            "Non-trainable params: 15,300\n",
            "_________________________________________________________________\n"
          ]
        }
      ]
    },
    {
      "cell_type": "code",
      "source": [
        "history_fine = model.fit(X_train_w2v_padded,y_train,validation_data=(X_valid_w2v_padded,y_valid), epochs=100) "
      ],
      "metadata": {
        "id": "eMrbo0RMIFwa",
        "colab": {
          "base_uri": "https://localhost:8080/"
        },
        "outputId": "d95f20de-79c8-4ffa-d8a0-343e49598d12"
      },
      "execution_count": null,
      "outputs": [
        {
          "output_type": "stream",
          "name": "stdout",
          "text": [
            "Epoch 1/100\n",
            "7/7 [==============================] - 1s 41ms/step - loss: 0.6784 - accuracy: 0.6863 - val_loss: 0.6446 - val_accuracy: 0.8984\n",
            "Epoch 2/100\n",
            "7/7 [==============================] - 0s 10ms/step - loss: 0.6106 - accuracy: 0.8824 - val_loss: 0.5824 - val_accuracy: 0.8984\n",
            "Epoch 3/100\n",
            "7/7 [==============================] - 0s 10ms/step - loss: 0.5462 - accuracy: 0.8824 - val_loss: 0.5342 - val_accuracy: 0.8984\n",
            "Epoch 4/100\n",
            "7/7 [==============================] - 0s 12ms/step - loss: 0.4967 - accuracy: 0.8824 - val_loss: 0.4950 - val_accuracy: 0.8984\n",
            "Epoch 5/100\n",
            "7/7 [==============================] - 0s 11ms/step - loss: 0.4585 - accuracy: 0.8824 - val_loss: 0.4648 - val_accuracy: 0.8984\n",
            "Epoch 6/100\n",
            "7/7 [==============================] - 0s 13ms/step - loss: 0.4321 - accuracy: 0.8824 - val_loss: 0.4440 - val_accuracy: 0.8984\n",
            "Epoch 7/100\n",
            "7/7 [==============================] - 0s 11ms/step - loss: 0.4142 - accuracy: 0.8824 - val_loss: 0.4255 - val_accuracy: 0.8984\n",
            "Epoch 8/100\n",
            "7/7 [==============================] - 0s 11ms/step - loss: 0.4000 - accuracy: 0.8824 - val_loss: 0.4119 - val_accuracy: 0.8984\n",
            "Epoch 9/100\n",
            "7/7 [==============================] - 0s 13ms/step - loss: 0.3902 - accuracy: 0.8824 - val_loss: 0.4004 - val_accuracy: 0.8984\n",
            "Epoch 10/100\n",
            "7/7 [==============================] - 0s 12ms/step - loss: 0.3820 - accuracy: 0.8824 - val_loss: 0.3921 - val_accuracy: 0.8984\n",
            "Epoch 11/100\n",
            "7/7 [==============================] - 0s 12ms/step - loss: 0.3776 - accuracy: 0.8824 - val_loss: 0.3856 - val_accuracy: 0.8984\n",
            "Epoch 12/100\n",
            "7/7 [==============================] - 0s 10ms/step - loss: 0.3745 - accuracy: 0.8824 - val_loss: 0.3785 - val_accuracy: 0.8984\n",
            "Epoch 13/100\n",
            "7/7 [==============================] - 0s 11ms/step - loss: 0.3700 - accuracy: 0.8824 - val_loss: 0.3736 - val_accuracy: 0.8984\n",
            "Epoch 14/100\n",
            "7/7 [==============================] - 0s 10ms/step - loss: 0.3682 - accuracy: 0.8824 - val_loss: 0.3713 - val_accuracy: 0.8984\n",
            "Epoch 15/100\n",
            "7/7 [==============================] - 0s 11ms/step - loss: 0.3678 - accuracy: 0.8824 - val_loss: 0.3684 - val_accuracy: 0.8984\n",
            "Epoch 16/100\n",
            "7/7 [==============================] - 0s 14ms/step - loss: 0.3669 - accuracy: 0.8824 - val_loss: 0.3665 - val_accuracy: 0.8984\n",
            "Epoch 17/100\n",
            "7/7 [==============================] - 0s 10ms/step - loss: 0.3653 - accuracy: 0.8824 - val_loss: 0.3662 - val_accuracy: 0.8984\n",
            "Epoch 18/100\n",
            "7/7 [==============================] - 0s 11ms/step - loss: 0.3658 - accuracy: 0.8824 - val_loss: 0.3652 - val_accuracy: 0.8984\n",
            "Epoch 19/100\n",
            "7/7 [==============================] - 0s 13ms/step - loss: 0.3650 - accuracy: 0.8824 - val_loss: 0.3634 - val_accuracy: 0.8984\n",
            "Epoch 20/100\n",
            "7/7 [==============================] - 0s 12ms/step - loss: 0.3636 - accuracy: 0.8824 - val_loss: 0.3612 - val_accuracy: 0.8984\n",
            "Epoch 21/100\n",
            "7/7 [==============================] - 0s 10ms/step - loss: 0.3642 - accuracy: 0.8824 - val_loss: 0.3602 - val_accuracy: 0.8984\n",
            "Epoch 22/100\n",
            "7/7 [==============================] - 0s 11ms/step - loss: 0.3644 - accuracy: 0.8824 - val_loss: 0.3585 - val_accuracy: 0.8984\n",
            "Epoch 23/100\n",
            "7/7 [==============================] - 0s 10ms/step - loss: 0.3638 - accuracy: 0.8824 - val_loss: 0.3572 - val_accuracy: 0.8984\n",
            "Epoch 24/100\n",
            "7/7 [==============================] - 0s 10ms/step - loss: 0.3632 - accuracy: 0.8824 - val_loss: 0.3561 - val_accuracy: 0.8984\n",
            "Epoch 25/100\n",
            "7/7 [==============================] - 0s 11ms/step - loss: 0.3626 - accuracy: 0.8824 - val_loss: 0.3566 - val_accuracy: 0.8984\n",
            "Epoch 26/100\n",
            "7/7 [==============================] - 0s 11ms/step - loss: 0.3629 - accuracy: 0.8824 - val_loss: 0.3562 - val_accuracy: 0.8984\n",
            "Epoch 27/100\n",
            "7/7 [==============================] - 0s 13ms/step - loss: 0.3630 - accuracy: 0.8824 - val_loss: 0.3546 - val_accuracy: 0.8984\n",
            "Epoch 28/100\n",
            "7/7 [==============================] - 0s 13ms/step - loss: 0.3624 - accuracy: 0.8824 - val_loss: 0.3532 - val_accuracy: 0.8984\n",
            "Epoch 29/100\n",
            "7/7 [==============================] - 0s 11ms/step - loss: 0.3630 - accuracy: 0.8824 - val_loss: 0.3534 - val_accuracy: 0.8984\n",
            "Epoch 30/100\n",
            "7/7 [==============================] - 0s 11ms/step - loss: 0.3636 - accuracy: 0.8824 - val_loss: 0.3524 - val_accuracy: 0.8984\n",
            "Epoch 31/100\n",
            "7/7 [==============================] - 0s 11ms/step - loss: 0.3625 - accuracy: 0.8824 - val_loss: 0.3527 - val_accuracy: 0.8984\n",
            "Epoch 32/100\n",
            "7/7 [==============================] - 0s 13ms/step - loss: 0.3625 - accuracy: 0.8824 - val_loss: 0.3545 - val_accuracy: 0.8984\n",
            "Epoch 33/100\n",
            "7/7 [==============================] - 0s 11ms/step - loss: 0.3638 - accuracy: 0.8824 - val_loss: 0.3531 - val_accuracy: 0.8984\n",
            "Epoch 34/100\n",
            "7/7 [==============================] - 0s 13ms/step - loss: 0.3625 - accuracy: 0.8824 - val_loss: 0.3519 - val_accuracy: 0.8984\n",
            "Epoch 35/100\n",
            "7/7 [==============================] - 0s 12ms/step - loss: 0.3619 - accuracy: 0.8824 - val_loss: 0.3523 - val_accuracy: 0.8984\n",
            "Epoch 36/100\n",
            "7/7 [==============================] - 0s 12ms/step - loss: 0.3621 - accuracy: 0.8824 - val_loss: 0.3527 - val_accuracy: 0.8984\n",
            "Epoch 37/100\n",
            "7/7 [==============================] - 0s 12ms/step - loss: 0.3613 - accuracy: 0.8824 - val_loss: 0.3529 - val_accuracy: 0.8984\n",
            "Epoch 38/100\n",
            "7/7 [==============================] - 0s 11ms/step - loss: 0.3612 - accuracy: 0.8824 - val_loss: 0.3530 - val_accuracy: 0.8984\n",
            "Epoch 39/100\n",
            "7/7 [==============================] - 0s 11ms/step - loss: 0.3619 - accuracy: 0.8824 - val_loss: 0.3540 - val_accuracy: 0.8984\n",
            "Epoch 40/100\n",
            "7/7 [==============================] - 0s 13ms/step - loss: 0.3616 - accuracy: 0.8824 - val_loss: 0.3547 - val_accuracy: 0.8984\n",
            "Epoch 41/100\n",
            "7/7 [==============================] - 0s 11ms/step - loss: 0.3621 - accuracy: 0.8824 - val_loss: 0.3538 - val_accuracy: 0.8984\n",
            "Epoch 42/100\n",
            "7/7 [==============================] - 0s 12ms/step - loss: 0.3615 - accuracy: 0.8824 - val_loss: 0.3530 - val_accuracy: 0.8984\n",
            "Epoch 43/100\n",
            "7/7 [==============================] - 0s 11ms/step - loss: 0.3617 - accuracy: 0.8824 - val_loss: 0.3523 - val_accuracy: 0.8984\n",
            "Epoch 44/100\n",
            "7/7 [==============================] - 0s 13ms/step - loss: 0.3612 - accuracy: 0.8824 - val_loss: 0.3519 - val_accuracy: 0.8984\n",
            "Epoch 45/100\n",
            "7/7 [==============================] - 0s 11ms/step - loss: 0.3617 - accuracy: 0.8824 - val_loss: 0.3530 - val_accuracy: 0.8984\n",
            "Epoch 46/100\n",
            "7/7 [==============================] - 0s 11ms/step - loss: 0.3614 - accuracy: 0.8824 - val_loss: 0.3513 - val_accuracy: 0.8984\n",
            "Epoch 47/100\n",
            "7/7 [==============================] - 0s 12ms/step - loss: 0.3620 - accuracy: 0.8824 - val_loss: 0.3526 - val_accuracy: 0.8984\n",
            "Epoch 48/100\n",
            "7/7 [==============================] - 0s 12ms/step - loss: 0.3611 - accuracy: 0.8824 - val_loss: 0.3519 - val_accuracy: 0.8984\n",
            "Epoch 49/100\n",
            "7/7 [==============================] - 0s 10ms/step - loss: 0.3611 - accuracy: 0.8824 - val_loss: 0.3504 - val_accuracy: 0.8984\n",
            "Epoch 50/100\n",
            "7/7 [==============================] - 0s 11ms/step - loss: 0.3608 - accuracy: 0.8824 - val_loss: 0.3509 - val_accuracy: 0.8984\n",
            "Epoch 51/100\n",
            "7/7 [==============================] - 0s 12ms/step - loss: 0.3601 - accuracy: 0.8824 - val_loss: 0.3506 - val_accuracy: 0.8984\n",
            "Epoch 52/100\n",
            "7/7 [==============================] - 0s 12ms/step - loss: 0.3620 - accuracy: 0.8824 - val_loss: 0.3512 - val_accuracy: 0.8984\n",
            "Epoch 53/100\n",
            "7/7 [==============================] - 0s 11ms/step - loss: 0.3606 - accuracy: 0.8824 - val_loss: 0.3506 - val_accuracy: 0.8984\n",
            "Epoch 54/100\n",
            "7/7 [==============================] - 0s 12ms/step - loss: 0.3625 - accuracy: 0.8824 - val_loss: 0.3497 - val_accuracy: 0.8984\n",
            "Epoch 55/100\n",
            "7/7 [==============================] - 0s 11ms/step - loss: 0.3622 - accuracy: 0.8824 - val_loss: 0.3495 - val_accuracy: 0.8984\n",
            "Epoch 56/100\n",
            "7/7 [==============================] - 0s 11ms/step - loss: 0.3606 - accuracy: 0.8824 - val_loss: 0.3501 - val_accuracy: 0.8984\n",
            "Epoch 57/100\n",
            "7/7 [==============================] - 0s 11ms/step - loss: 0.3609 - accuracy: 0.8824 - val_loss: 0.3515 - val_accuracy: 0.8984\n",
            "Epoch 58/100\n",
            "7/7 [==============================] - 0s 12ms/step - loss: 0.3608 - accuracy: 0.8824 - val_loss: 0.3517 - val_accuracy: 0.8984\n",
            "Epoch 59/100\n",
            "7/7 [==============================] - 0s 11ms/step - loss: 0.3599 - accuracy: 0.8824 - val_loss: 0.3509 - val_accuracy: 0.8984\n",
            "Epoch 60/100\n",
            "7/7 [==============================] - 0s 14ms/step - loss: 0.3612 - accuracy: 0.8824 - val_loss: 0.3496 - val_accuracy: 0.8984\n",
            "Epoch 61/100\n",
            "7/7 [==============================] - 0s 11ms/step - loss: 0.3607 - accuracy: 0.8824 - val_loss: 0.3502 - val_accuracy: 0.8984\n",
            "Epoch 62/100\n",
            "7/7 [==============================] - 0s 11ms/step - loss: 0.3606 - accuracy: 0.8824 - val_loss: 0.3498 - val_accuracy: 0.8984\n",
            "Epoch 63/100\n",
            "7/7 [==============================] - 0s 11ms/step - loss: 0.3618 - accuracy: 0.8824 - val_loss: 0.3503 - val_accuracy: 0.8984\n",
            "Epoch 64/100\n",
            "7/7 [==============================] - 0s 12ms/step - loss: 0.3598 - accuracy: 0.8824 - val_loss: 0.3509 - val_accuracy: 0.8984\n",
            "Epoch 65/100\n",
            "7/7 [==============================] - 0s 11ms/step - loss: 0.3621 - accuracy: 0.8824 - val_loss: 0.3511 - val_accuracy: 0.8984\n",
            "Epoch 66/100\n",
            "7/7 [==============================] - 0s 13ms/step - loss: 0.3602 - accuracy: 0.8824 - val_loss: 0.3504 - val_accuracy: 0.8984\n",
            "Epoch 67/100\n",
            "7/7 [==============================] - 0s 13ms/step - loss: 0.3604 - accuracy: 0.8824 - val_loss: 0.3507 - val_accuracy: 0.8984\n",
            "Epoch 68/100\n",
            "7/7 [==============================] - 0s 11ms/step - loss: 0.3615 - accuracy: 0.8824 - val_loss: 0.3511 - val_accuracy: 0.8984\n",
            "Epoch 69/100\n",
            "7/7 [==============================] - 0s 11ms/step - loss: 0.3610 - accuracy: 0.8824 - val_loss: 0.3523 - val_accuracy: 0.8984\n",
            "Epoch 70/100\n",
            "7/7 [==============================] - 0s 12ms/step - loss: 0.3619 - accuracy: 0.8824 - val_loss: 0.3514 - val_accuracy: 0.8984\n",
            "Epoch 71/100\n",
            "7/7 [==============================] - 0s 11ms/step - loss: 0.3602 - accuracy: 0.8824 - val_loss: 0.3500 - val_accuracy: 0.8984\n",
            "Epoch 72/100\n",
            "7/7 [==============================] - 0s 11ms/step - loss: 0.3604 - accuracy: 0.8824 - val_loss: 0.3496 - val_accuracy: 0.8984\n",
            "Epoch 73/100\n",
            "7/7 [==============================] - 0s 12ms/step - loss: 0.3605 - accuracy: 0.8824 - val_loss: 0.3493 - val_accuracy: 0.8984\n",
            "Epoch 74/100\n",
            "7/7 [==============================] - 0s 11ms/step - loss: 0.3606 - accuracy: 0.8824 - val_loss: 0.3500 - val_accuracy: 0.8984\n",
            "Epoch 75/100\n",
            "7/7 [==============================] - 0s 12ms/step - loss: 0.3601 - accuracy: 0.8824 - val_loss: 0.3496 - val_accuracy: 0.8984\n",
            "Epoch 76/100\n",
            "7/7 [==============================] - 0s 11ms/step - loss: 0.3591 - accuracy: 0.8824 - val_loss: 0.3484 - val_accuracy: 0.8984\n",
            "Epoch 77/100\n",
            "7/7 [==============================] - 0s 11ms/step - loss: 0.3610 - accuracy: 0.8824 - val_loss: 0.3484 - val_accuracy: 0.8984\n",
            "Epoch 78/100\n",
            "7/7 [==============================] - 0s 13ms/step - loss: 0.3605 - accuracy: 0.8824 - val_loss: 0.3493 - val_accuracy: 0.8984\n",
            "Epoch 79/100\n",
            "7/7 [==============================] - 0s 12ms/step - loss: 0.3601 - accuracy: 0.8824 - val_loss: 0.3483 - val_accuracy: 0.8984\n",
            "Epoch 80/100\n",
            "7/7 [==============================] - 0s 11ms/step - loss: 0.3600 - accuracy: 0.8824 - val_loss: 0.3473 - val_accuracy: 0.8984\n",
            "Epoch 81/100\n",
            "7/7 [==============================] - 0s 12ms/step - loss: 0.3600 - accuracy: 0.8824 - val_loss: 0.3481 - val_accuracy: 0.8984\n",
            "Epoch 82/100\n",
            "7/7 [==============================] - 0s 11ms/step - loss: 0.3595 - accuracy: 0.8824 - val_loss: 0.3481 - val_accuracy: 0.8984\n",
            "Epoch 83/100\n",
            "7/7 [==============================] - 0s 12ms/step - loss: 0.3607 - accuracy: 0.8824 - val_loss: 0.3472 - val_accuracy: 0.8984\n",
            "Epoch 84/100\n",
            "7/7 [==============================] - 0s 12ms/step - loss: 0.3606 - accuracy: 0.8824 - val_loss: 0.3480 - val_accuracy: 0.8984\n",
            "Epoch 85/100\n",
            "7/7 [==============================] - 0s 12ms/step - loss: 0.3596 - accuracy: 0.8824 - val_loss: 0.3487 - val_accuracy: 0.8984\n",
            "Epoch 86/100\n",
            "7/7 [==============================] - 0s 12ms/step - loss: 0.3603 - accuracy: 0.8824 - val_loss: 0.3486 - val_accuracy: 0.8984\n",
            "Epoch 87/100\n",
            "7/7 [==============================] - 0s 17ms/step - loss: 0.3609 - accuracy: 0.8824 - val_loss: 0.3486 - val_accuracy: 0.8984\n",
            "Epoch 88/100\n",
            "7/7 [==============================] - 0s 11ms/step - loss: 0.3610 - accuracy: 0.8824 - val_loss: 0.3478 - val_accuracy: 0.8984\n",
            "Epoch 89/100\n",
            "7/7 [==============================] - 0s 12ms/step - loss: 0.3590 - accuracy: 0.8824 - val_loss: 0.3487 - val_accuracy: 0.8984\n",
            "Epoch 90/100\n",
            "7/7 [==============================] - 0s 10ms/step - loss: 0.3593 - accuracy: 0.8824 - val_loss: 0.3484 - val_accuracy: 0.8984\n",
            "Epoch 91/100\n",
            "7/7 [==============================] - 0s 11ms/step - loss: 0.3605 - accuracy: 0.8824 - val_loss: 0.3498 - val_accuracy: 0.8984\n",
            "Epoch 92/100\n",
            "7/7 [==============================] - 0s 11ms/step - loss: 0.3602 - accuracy: 0.8824 - val_loss: 0.3484 - val_accuracy: 0.8984\n",
            "Epoch 93/100\n",
            "7/7 [==============================] - 0s 13ms/step - loss: 0.3601 - accuracy: 0.8824 - val_loss: 0.3492 - val_accuracy: 0.8984\n",
            "Epoch 94/100\n",
            "7/7 [==============================] - 0s 12ms/step - loss: 0.3598 - accuracy: 0.8824 - val_loss: 0.3479 - val_accuracy: 0.8984\n",
            "Epoch 95/100\n",
            "7/7 [==============================] - 0s 12ms/step - loss: 0.3598 - accuracy: 0.8824 - val_loss: 0.3477 - val_accuracy: 0.8984\n",
            "Epoch 96/100\n",
            "7/7 [==============================] - 0s 11ms/step - loss: 0.3599 - accuracy: 0.8824 - val_loss: 0.3488 - val_accuracy: 0.8984\n",
            "Epoch 97/100\n",
            "7/7 [==============================] - 0s 11ms/step - loss: 0.3604 - accuracy: 0.8824 - val_loss: 0.3484 - val_accuracy: 0.8984\n",
            "Epoch 98/100\n",
            "7/7 [==============================] - 0s 12ms/step - loss: 0.3592 - accuracy: 0.8824 - val_loss: 0.3481 - val_accuracy: 0.8984\n",
            "Epoch 99/100\n",
            "7/7 [==============================] - 0s 13ms/step - loss: 0.3592 - accuracy: 0.8824 - val_loss: 0.3505 - val_accuracy: 0.8984\n",
            "Epoch 100/100\n",
            "7/7 [==============================] - 0s 11ms/step - loss: 0.3600 - accuracy: 0.8824 - val_loss: 0.3490 - val_accuracy: 0.8984\n"
          ]
        }
      ]
    },
    {
      "cell_type": "code",
      "source": [
        "target_names = pd.Categorical(df_indian['diet']).categories"
      ],
      "metadata": {
        "id": "U4MpTmGtNSEg"
      },
      "execution_count": null,
      "outputs": []
    },
    {
      "cell_type": "code",
      "source": [
        "y_prob = model.predict(X_test_w2v_padded)\n",
        "y_pred = np.argmax(y_prob,axis=1)\n",
        "print(classification_report(y_test_int,y_pred, target_names=target_names, zero_division=1))"
      ],
      "metadata": {
        "id": "PETPLG4XfKc5",
        "colab": {
          "base_uri": "https://localhost:8080/"
        },
        "outputId": "9a2bed2c-8293-4dc6-d22e-e01f61d02941"
      },
      "execution_count": null,
      "outputs": [
        {
          "output_type": "stream",
          "name": "stdout",
          "text": [
            "                precision    recall  f1-score   support\n",
            "\n",
            "non vegetarian       1.00      0.00      0.00        16\n",
            "    vegetarian       0.87      1.00      0.93       111\n",
            "\n",
            "      accuracy                           0.87       127\n",
            "     macro avg       0.94      0.50      0.47       127\n",
            "  weighted avg       0.89      0.87      0.82       127\n",
            "\n"
          ]
        }
      ]
    },
    {
      "cell_type": "code",
      "source": [
        "if not os.path.exists(\"figs\"):\n",
        "    os.mkdir(\"figs\")"
      ],
      "metadata": {
        "id": "IjgR2atyFTUp"
      },
      "execution_count": null,
      "outputs": []
    },
    {
      "cell_type": "code",
      "source": [
        "plt.plot(history_fine.history['loss'])\n",
        "plt.plot(history_fine.history['val_loss'])\n",
        "plt.title('model loss')\n",
        "plt.ylabel('loss')\n",
        "plt.xlabel('epoch')\n",
        "plt.legend(['training set','validation set'], loc='upper left')\n",
        "plt.savefig('figs/loss_cnn_w2v.eps', format='eps')\n",
        "plt.show()"
      ],
      "metadata": {
        "id": "sTHoxENHict8",
        "colab": {
          "base_uri": "https://localhost:8080/",
          "height": 312
        },
        "outputId": "8bb59704-77ab-45ea-9674-d79c3bfc926d"
      },
      "execution_count": null,
      "outputs": [
        {
          "output_type": "display_data",
          "data": {
            "text/plain": [
              "<Figure size 432x288 with 1 Axes>"
            ],
            "image/png": "[encoded data removed]"
          },
          "metadata": {
            "needs_background": "light"
          }
        },
        {
          "output_type": "display_data",
          "data": {
            "text/plain": [
              "<Figure size 432x288 with 0 Axes>"
            ]
          },
          "metadata": {}
        }
      ]
    },
    {
      "cell_type": "code",
      "source": [
        "plt.plot(history_fine.history['accuracy'])\n",
        "plt.plot(history_fine.history['val_accuracy'])\n",
        "plt.title('model accuracy')\n",
        "plt.ylabel('accuracy')\n",
        "plt.xlabel('epoch')\n",
        "plt.legend(['training set','validation set'], loc='upper left')\n",
        "plt.savefig('figs/acc_cnn_w2v.eps', format='eps')\n",
        "plt.show()"
      ],
      "metadata": {
        "id": "KVxNIICdict9",
        "colab": {
          "base_uri": "https://localhost:8080/",
          "height": 312
        },
        "outputId": "f746e15a-2351-4e15-88bc-922e1099b11b"
      },
      "execution_count": null,
      "outputs": [
        {
          "output_type": "display_data",
          "data": {
            "text/plain": [
              "<Figure size 432x288 with 1 Axes>"
            ],
            "image/png": "[encoded data removed]"
          },
          "metadata": {
            "needs_background": "light"
          }
        },
        {
          "output_type": "display_data",
          "data": {
            "text/plain": [
              "<Figure size 432x288 with 0 Axes>"
            ]
          },
          "metadata": {}
        }
      ]
    },
    {
      "cell_type": "code",
      "source": [
        "disp = ConfusionMatrixDisplay.from_predictions(y_test_int, y_pred)\n",
        "fig = disp.ax_.get_figure()  \n",
        "fig.set_figwidth(5) \n",
        "fig.set_figheight(5)\n",
        "plt.savefig('figs/matrixconf_cnn_w2v.eps', format='eps')\n",
        "plt.show()"
      ],
      "metadata": {
        "colab": {
          "base_uri": "https://localhost:8080/",
          "height": 326
        },
        "id": "2MUkzXBZTdQG",
        "outputId": "7565e387-383c-4886-9fc0-caeb0e226a08"
      },
      "execution_count": null,
      "outputs": [
        {
          "output_type": "display_data",
          "data": {
            "text/plain": [
              "<Figure size 360x360 with 2 Axes>"
            ],
            "image/png": "[encoded data removed]"
          },
          "metadata": {
            "needs_background": "light"
          }
        },
        {
          "output_type": "display_data",
          "data": {
            "text/plain": [
              "<Figure size 432x288 with 0 Axes>"
            ]
          },
          "metadata": {}
        }
      ]
    },
    {
      "cell_type": "markdown",
      "source": [
        "### GLOVE"
      ],
      "metadata": {
        "id": "DFYNEQqpQghM"
      }
    },
    {
      "cell_type": "code",
      "source": [
        "embedding_layer = Embedding(input_dim=vocab_size, output_dim=EMBEDDING_DIM_GLV, weights=[embedding_glove], input_length=MAX_LENGTH, trainable=False)"
      ],
      "metadata": {
        "id": "kTEZW2UFQghM"
      },
      "execution_count": null,
      "outputs": []
    },
    {
      "cell_type": "code",
      "source": [
        "model_CNN = CNNHyperModel(embedding_layer, 2)"
      ],
      "metadata": {
        "id": "e0sbiwiuQghN"
      },
      "execution_count": null,
      "outputs": []
    },
    {
      "cell_type": "code",
      "source": [
        "tuner = kt.Hyperband(\n",
        "    model_CNN,\n",
        "    objective='val_accuracy',\n",
        "    max_epochs=30,\n",
        "    hyperband_iterations=2,\n",
        "    overwrite=True)"
      ],
      "metadata": {
        "id": "1taDRaBrQghN"
      },
      "execution_count": null,
      "outputs": []
    },
    {
      "cell_type": "code",
      "source": [
        "tuner.search(X_train_glove_padded,y_train,validation_data=(X_valid_glove_padded,y_valid),epochs=50)"
      ],
      "metadata": {
        "colab": {
          "base_uri": "https://localhost:8080/"
        },
        "outputId": "d6909eb9-c962-432b-cdba-6ab20d7ae7de",
        "id": "MgiVx178QghN"
      },
      "execution_count": null,
      "outputs": [
        {
          "output_type": "stream",
          "name": "stdout",
          "text": [
            "Trial 12 Complete [00h 00m 01s]\n",
            "val_accuracy: 0.8984375\n",
            "\n",
            "Best val_accuracy So Far: 0.8984375\n",
            "Total elapsed time: 00h 00m 16s\n"
          ]
        }
      ]
    },
    {
      "cell_type": "code",
      "source": [
        "best_hps = tuner.get_best_hyperparameters(num_trials=1)[0]"
      ],
      "metadata": {
        "id": "mzO7HtPNQghN"
      },
      "execution_count": null,
      "outputs": []
    },
    {
      "cell_type": "code",
      "source": [
        "model = tuner.hypermodel.build(best_hps)"
      ],
      "metadata": {
        "id": "bEEaR_MfQghN"
      },
      "execution_count": null,
      "outputs": []
    },
    {
      "cell_type": "code",
      "source": [
        "model.summary()"
      ],
      "metadata": {
        "colab": {
          "base_uri": "https://localhost:8080/"
        },
        "outputId": "ffa6c88f-da63-4387-88c0-5df872d346ae",
        "id": "h4jxmqQwQghN"
      },
      "execution_count": null,
      "outputs": [
        {
          "output_type": "stream",
          "name": "stdout",
          "text": [
            "Model: \"sequential_1\"\n",
            "_________________________________________________________________\n",
            " Layer (type)                Output Shape              Param #   \n",
            "=================================================================\n",
            " embedding (Embedding)       (None, 12, 50)            15300     \n",
            "                                                                 \n",
            " conv1d_1 (Conv1D)           (None, 7, 64)             19264     \n",
            "                                                                 \n",
            " dropout_1 (Dropout)         (None, 7, 64)             0         \n",
            "                                                                 \n",
            " global_max_pooling1d_1 (Glo  (None, 64)               0         \n",
            " balMaxPooling1D)                                                \n",
            "                                                                 \n",
            " dense_3 (Dense)             (None, 128)               8320      \n",
            "                                                                 \n",
            " dense_4 (Dense)             (None, 64)                8256      \n",
            "                                                                 \n",
            " dense_5 (Dense)             (None, 2)                 130       \n",
            "                                                                 \n",
            "=================================================================\n",
            "Total params: 51,270\n",
            "Trainable params: 35,970\n",
            "Non-trainable params: 15,300\n",
            "_________________________________________________________________\n"
          ]
        }
      ]
    },
    {
      "cell_type": "code",
      "source": [
        "history_fine = model.fit(X_train_glove_padded,y_train,validation_data=(X_valid_glove_padded,y_valid), epochs=100) "
      ],
      "metadata": {
        "colab": {
          "base_uri": "https://localhost:8080/"
        },
        "outputId": "2cf16f92-c80e-4eb2-8599-602605e7b896",
        "id": "CPGhedV3QghN"
      },
      "execution_count": null,
      "outputs": [
        {
          "output_type": "stream",
          "name": "stdout",
          "text": [
            "Epoch 1/100\n",
            "7/7 [==============================] - 1s 42ms/step - loss: 0.6696 - accuracy: 0.8676 - val_loss: 0.6423 - val_accuracy: 0.8984\n",
            "Epoch 2/100\n",
            "7/7 [==============================] - 0s 8ms/step - loss: 0.6190 - accuracy: 0.8824 - val_loss: 0.5997 - val_accuracy: 0.8984\n",
            "Epoch 3/100\n",
            "7/7 [==============================] - 0s 10ms/step - loss: 0.5751 - accuracy: 0.8824 - val_loss: 0.5627 - val_accuracy: 0.8984\n",
            "Epoch 4/100\n",
            "7/7 [==============================] - 0s 8ms/step - loss: 0.5372 - accuracy: 0.8824 - val_loss: 0.5297 - val_accuracy: 0.8984\n",
            "Epoch 5/100\n",
            "7/7 [==============================] - 0s 8ms/step - loss: 0.5047 - accuracy: 0.8824 - val_loss: 0.5017 - val_accuracy: 0.8984\n",
            "Epoch 6/100\n",
            "7/7 [==============================] - 0s 10ms/step - loss: 0.4774 - accuracy: 0.8824 - val_loss: 0.4770 - val_accuracy: 0.8984\n",
            "Epoch 7/100\n",
            "7/7 [==============================] - 0s 10ms/step - loss: 0.4533 - accuracy: 0.8824 - val_loss: 0.4560 - val_accuracy: 0.8984\n",
            "Epoch 8/100\n",
            "7/7 [==============================] - 0s 9ms/step - loss: 0.4333 - accuracy: 0.8824 - val_loss: 0.4400 - val_accuracy: 0.8984\n",
            "Epoch 9/100\n",
            "7/7 [==============================] - 0s 8ms/step - loss: 0.4192 - accuracy: 0.8824 - val_loss: 0.4257 - val_accuracy: 0.8984\n",
            "Epoch 10/100\n",
            "7/7 [==============================] - 0s 8ms/step - loss: 0.4081 - accuracy: 0.8824 - val_loss: 0.4139 - val_accuracy: 0.8984\n",
            "Epoch 11/100\n",
            "7/7 [==============================] - 0s 8ms/step - loss: 0.3974 - accuracy: 0.8824 - val_loss: 0.4024 - val_accuracy: 0.8984\n",
            "Epoch 12/100\n",
            "7/7 [==============================] - 0s 10ms/step - loss: 0.3900 - accuracy: 0.8824 - val_loss: 0.3943 - val_accuracy: 0.8984\n",
            "Epoch 13/100\n",
            "7/7 [==============================] - 0s 8ms/step - loss: 0.3836 - accuracy: 0.8824 - val_loss: 0.3890 - val_accuracy: 0.8984\n",
            "Epoch 14/100\n",
            "7/7 [==============================] - 0s 8ms/step - loss: 0.3807 - accuracy: 0.8824 - val_loss: 0.3824 - val_accuracy: 0.8984\n",
            "Epoch 15/100\n",
            "7/7 [==============================] - 0s 11ms/step - loss: 0.3759 - accuracy: 0.8824 - val_loss: 0.3768 - val_accuracy: 0.8984\n",
            "Epoch 16/100\n",
            "7/7 [==============================] - 0s 8ms/step - loss: 0.3728 - accuracy: 0.8824 - val_loss: 0.3735 - val_accuracy: 0.8984\n",
            "Epoch 17/100\n",
            "7/7 [==============================] - 0s 8ms/step - loss: 0.3707 - accuracy: 0.8824 - val_loss: 0.3688 - val_accuracy: 0.8984\n",
            "Epoch 18/100\n",
            "7/7 [==============================] - 0s 8ms/step - loss: 0.3677 - accuracy: 0.8824 - val_loss: 0.3653 - val_accuracy: 0.8984\n",
            "Epoch 19/100\n",
            "7/7 [==============================] - 0s 11ms/step - loss: 0.3671 - accuracy: 0.8824 - val_loss: 0.3624 - val_accuracy: 0.8984\n",
            "Epoch 20/100\n",
            "7/7 [==============================] - 0s 8ms/step - loss: 0.3659 - accuracy: 0.8824 - val_loss: 0.3593 - val_accuracy: 0.8984\n",
            "Epoch 21/100\n",
            "7/7 [==============================] - 0s 10ms/step - loss: 0.3652 - accuracy: 0.8824 - val_loss: 0.3586 - val_accuracy: 0.8984\n",
            "Epoch 22/100\n",
            "7/7 [==============================] - 0s 8ms/step - loss: 0.3643 - accuracy: 0.8824 - val_loss: 0.3579 - val_accuracy: 0.8984\n",
            "Epoch 23/100\n",
            "7/7 [==============================] - 0s 10ms/step - loss: 0.3646 - accuracy: 0.8824 - val_loss: 0.3568 - val_accuracy: 0.8984\n",
            "Epoch 24/100\n",
            "7/7 [==============================] - 0s 11ms/step - loss: 0.3627 - accuracy: 0.8824 - val_loss: 0.3563 - val_accuracy: 0.8984\n",
            "Epoch 25/100\n",
            "7/7 [==============================] - 0s 10ms/step - loss: 0.3638 - accuracy: 0.8824 - val_loss: 0.3566 - val_accuracy: 0.8984\n",
            "Epoch 26/100\n",
            "7/7 [==============================] - 0s 8ms/step - loss: 0.3633 - accuracy: 0.8824 - val_loss: 0.3556 - val_accuracy: 0.8984\n",
            "Epoch 27/100\n",
            "7/7 [==============================] - 0s 8ms/step - loss: 0.3638 - accuracy: 0.8824 - val_loss: 0.3548 - val_accuracy: 0.8984\n",
            "Epoch 28/100\n",
            "7/7 [==============================] - 0s 10ms/step - loss: 0.3631 - accuracy: 0.8824 - val_loss: 0.3530 - val_accuracy: 0.8984\n",
            "Epoch 29/100\n",
            "7/7 [==============================] - 0s 8ms/step - loss: 0.3621 - accuracy: 0.8824 - val_loss: 0.3524 - val_accuracy: 0.8984\n",
            "Epoch 30/100\n",
            "7/7 [==============================] - 0s 11ms/step - loss: 0.3632 - accuracy: 0.8824 - val_loss: 0.3525 - val_accuracy: 0.8984\n",
            "Epoch 31/100\n",
            "7/7 [==============================] - 0s 8ms/step - loss: 0.3618 - accuracy: 0.8824 - val_loss: 0.3516 - val_accuracy: 0.8984\n",
            "Epoch 32/100\n",
            "7/7 [==============================] - 0s 10ms/step - loss: 0.3629 - accuracy: 0.8824 - val_loss: 0.3512 - val_accuracy: 0.8984\n",
            "Epoch 33/100\n",
            "7/7 [==============================] - 0s 8ms/step - loss: 0.3626 - accuracy: 0.8824 - val_loss: 0.3510 - val_accuracy: 0.8984\n",
            "Epoch 34/100\n",
            "7/7 [==============================] - 0s 10ms/step - loss: 0.3624 - accuracy: 0.8824 - val_loss: 0.3497 - val_accuracy: 0.8984\n",
            "Epoch 35/100\n",
            "7/7 [==============================] - 0s 10ms/step - loss: 0.3626 - accuracy: 0.8824 - val_loss: 0.3507 - val_accuracy: 0.8984\n",
            "Epoch 36/100\n",
            "7/7 [==============================] - 0s 12ms/step - loss: 0.3619 - accuracy: 0.8824 - val_loss: 0.3510 - val_accuracy: 0.8984\n",
            "Epoch 37/100\n",
            "7/7 [==============================] - 0s 9ms/step - loss: 0.3612 - accuracy: 0.8824 - val_loss: 0.3513 - val_accuracy: 0.8984\n",
            "Epoch 38/100\n",
            "7/7 [==============================] - 0s 11ms/step - loss: 0.3626 - accuracy: 0.8824 - val_loss: 0.3510 - val_accuracy: 0.8984\n",
            "Epoch 39/100\n",
            "7/7 [==============================] - 0s 10ms/step - loss: 0.3624 - accuracy: 0.8824 - val_loss: 0.3503 - val_accuracy: 0.8984\n",
            "Epoch 40/100\n",
            "7/7 [==============================] - 0s 8ms/step - loss: 0.3618 - accuracy: 0.8824 - val_loss: 0.3497 - val_accuracy: 0.8984\n",
            "Epoch 41/100\n",
            "7/7 [==============================] - 0s 11ms/step - loss: 0.3626 - accuracy: 0.8824 - val_loss: 0.3492 - val_accuracy: 0.8984\n",
            "Epoch 42/100\n",
            "7/7 [==============================] - 0s 8ms/step - loss: 0.3615 - accuracy: 0.8824 - val_loss: 0.3491 - val_accuracy: 0.8984\n",
            "Epoch 43/100\n",
            "7/7 [==============================] - 0s 8ms/step - loss: 0.3619 - accuracy: 0.8824 - val_loss: 0.3490 - val_accuracy: 0.8984\n",
            "Epoch 44/100\n",
            "7/7 [==============================] - 0s 11ms/step - loss: 0.3608 - accuracy: 0.8824 - val_loss: 0.3485 - val_accuracy: 0.8984\n",
            "Epoch 45/100\n",
            "7/7 [==============================] - 0s 10ms/step - loss: 0.3612 - accuracy: 0.8824 - val_loss: 0.3476 - val_accuracy: 0.8984\n",
            "Epoch 46/100\n",
            "7/7 [==============================] - 0s 10ms/step - loss: 0.3613 - accuracy: 0.8824 - val_loss: 0.3472 - val_accuracy: 0.8984\n",
            "Epoch 47/100\n",
            "7/7 [==============================] - 0s 8ms/step - loss: 0.3597 - accuracy: 0.8824 - val_loss: 0.3469 - val_accuracy: 0.8984\n",
            "Epoch 48/100\n",
            "7/7 [==============================] - 0s 8ms/step - loss: 0.3620 - accuracy: 0.8824 - val_loss: 0.3472 - val_accuracy: 0.8984\n",
            "Epoch 49/100\n",
            "7/7 [==============================] - 0s 8ms/step - loss: 0.3620 - accuracy: 0.8824 - val_loss: 0.3464 - val_accuracy: 0.8984\n",
            "Epoch 50/100\n",
            "7/7 [==============================] - 0s 10ms/step - loss: 0.3612 - accuracy: 0.8824 - val_loss: 0.3457 - val_accuracy: 0.8984\n",
            "Epoch 51/100\n",
            "7/7 [==============================] - 0s 11ms/step - loss: 0.3601 - accuracy: 0.8824 - val_loss: 0.3451 - val_accuracy: 0.8984\n",
            "Epoch 52/100\n",
            "7/7 [==============================] - 0s 11ms/step - loss: 0.3618 - accuracy: 0.8824 - val_loss: 0.3456 - val_accuracy: 0.8984\n",
            "Epoch 53/100\n",
            "7/7 [==============================] - 0s 9ms/step - loss: 0.3615 - accuracy: 0.8824 - val_loss: 0.3452 - val_accuracy: 0.8984\n",
            "Epoch 54/100\n",
            "7/7 [==============================] - 0s 8ms/step - loss: 0.3620 - accuracy: 0.8824 - val_loss: 0.3451 - val_accuracy: 0.8984\n",
            "Epoch 55/100\n",
            "7/7 [==============================] - 0s 8ms/step - loss: 0.3623 - accuracy: 0.8824 - val_loss: 0.3456 - val_accuracy: 0.8984\n",
            "Epoch 56/100\n",
            "7/7 [==============================] - 0s 8ms/step - loss: 0.3620 - accuracy: 0.8824 - val_loss: 0.3455 - val_accuracy: 0.8984\n",
            "Epoch 57/100\n",
            "7/7 [==============================] - 0s 8ms/step - loss: 0.3617 - accuracy: 0.8824 - val_loss: 0.3455 - val_accuracy: 0.8984\n",
            "Epoch 58/100\n",
            "7/7 [==============================] - 0s 11ms/step - loss: 0.3607 - accuracy: 0.8824 - val_loss: 0.3454 - val_accuracy: 0.8984\n",
            "Epoch 59/100\n",
            "7/7 [==============================] - 0s 11ms/step - loss: 0.3607 - accuracy: 0.8824 - val_loss: 0.3459 - val_accuracy: 0.8984\n",
            "Epoch 60/100\n",
            "7/7 [==============================] - 0s 8ms/step - loss: 0.3611 - accuracy: 0.8824 - val_loss: 0.3454 - val_accuracy: 0.8984\n",
            "Epoch 61/100\n",
            "7/7 [==============================] - 0s 10ms/step - loss: 0.3619 - accuracy: 0.8824 - val_loss: 0.3468 - val_accuracy: 0.8984\n",
            "Epoch 62/100\n",
            "7/7 [==============================] - 0s 9ms/step - loss: 0.3615 - accuracy: 0.8824 - val_loss: 0.3471 - val_accuracy: 0.8984\n",
            "Epoch 63/100\n",
            "7/7 [==============================] - 0s 8ms/step - loss: 0.3609 - accuracy: 0.8824 - val_loss: 0.3468 - val_accuracy: 0.8984\n",
            "Epoch 64/100\n",
            "7/7 [==============================] - 0s 12ms/step - loss: 0.3622 - accuracy: 0.8824 - val_loss: 0.3465 - val_accuracy: 0.8984\n",
            "Epoch 65/100\n",
            "7/7 [==============================] - 0s 10ms/step - loss: 0.3615 - accuracy: 0.8824 - val_loss: 0.3463 - val_accuracy: 0.8984\n",
            "Epoch 66/100\n",
            "7/7 [==============================] - 0s 8ms/step - loss: 0.3620 - accuracy: 0.8824 - val_loss: 0.3456 - val_accuracy: 0.8984\n",
            "Epoch 67/100\n",
            "7/7 [==============================] - 0s 10ms/step - loss: 0.3610 - accuracy: 0.8824 - val_loss: 0.3449 - val_accuracy: 0.8984\n",
            "Epoch 68/100\n",
            "7/7 [==============================] - 0s 8ms/step - loss: 0.3619 - accuracy: 0.8824 - val_loss: 0.3449 - val_accuracy: 0.8984\n",
            "Epoch 69/100\n",
            "7/7 [==============================] - 0s 10ms/step - loss: 0.3613 - accuracy: 0.8824 - val_loss: 0.3444 - val_accuracy: 0.8984\n",
            "Epoch 70/100\n",
            "7/7 [==============================] - 0s 8ms/step - loss: 0.3599 - accuracy: 0.8824 - val_loss: 0.3450 - val_accuracy: 0.8984\n",
            "Epoch 71/100\n",
            "7/7 [==============================] - 0s 9ms/step - loss: 0.3592 - accuracy: 0.8824 - val_loss: 0.3449 - val_accuracy: 0.8984\n",
            "Epoch 72/100\n",
            "7/7 [==============================] - 0s 10ms/step - loss: 0.3606 - accuracy: 0.8824 - val_loss: 0.3443 - val_accuracy: 0.8984\n",
            "Epoch 73/100\n",
            "7/7 [==============================] - 0s 10ms/step - loss: 0.3620 - accuracy: 0.8824 - val_loss: 0.3444 - val_accuracy: 0.8984\n",
            "Epoch 74/100\n",
            "7/7 [==============================] - 0s 8ms/step - loss: 0.3602 - accuracy: 0.8824 - val_loss: 0.3445 - val_accuracy: 0.8984\n",
            "Epoch 75/100\n",
            "7/7 [==============================] - 0s 8ms/step - loss: 0.3604 - accuracy: 0.8824 - val_loss: 0.3450 - val_accuracy: 0.8984\n",
            "Epoch 76/100\n",
            "7/7 [==============================] - 0s 11ms/step - loss: 0.3591 - accuracy: 0.8824 - val_loss: 0.3470 - val_accuracy: 0.8984\n",
            "Epoch 77/100\n",
            "7/7 [==============================] - 0s 8ms/step - loss: 0.3615 - accuracy: 0.8824 - val_loss: 0.3472 - val_accuracy: 0.8984\n",
            "Epoch 78/100\n",
            "7/7 [==============================] - 0s 9ms/step - loss: 0.3606 - accuracy: 0.8824 - val_loss: 0.3463 - val_accuracy: 0.8984\n",
            "Epoch 79/100\n",
            "7/7 [==============================] - 0s 9ms/step - loss: 0.3608 - accuracy: 0.8824 - val_loss: 0.3467 - val_accuracy: 0.8984\n",
            "Epoch 80/100\n",
            "7/7 [==============================] - 0s 10ms/step - loss: 0.3605 - accuracy: 0.8824 - val_loss: 0.3458 - val_accuracy: 0.8984\n",
            "Epoch 81/100\n",
            "7/7 [==============================] - 0s 8ms/step - loss: 0.3613 - accuracy: 0.8824 - val_loss: 0.3467 - val_accuracy: 0.8984\n",
            "Epoch 82/100\n",
            "7/7 [==============================] - 0s 8ms/step - loss: 0.3605 - accuracy: 0.8824 - val_loss: 0.3470 - val_accuracy: 0.8984\n",
            "Epoch 83/100\n",
            "7/7 [==============================] - 0s 8ms/step - loss: 0.3595 - accuracy: 0.8824 - val_loss: 0.3477 - val_accuracy: 0.8984\n",
            "Epoch 84/100\n",
            "7/7 [==============================] - 0s 10ms/step - loss: 0.3602 - accuracy: 0.8824 - val_loss: 0.3471 - val_accuracy: 0.8984\n",
            "Epoch 85/100\n",
            "7/7 [==============================] - 0s 8ms/step - loss: 0.3613 - accuracy: 0.8824 - val_loss: 0.3474 - val_accuracy: 0.8984\n",
            "Epoch 86/100\n",
            "7/7 [==============================] - 0s 8ms/step - loss: 0.3584 - accuracy: 0.8824 - val_loss: 0.3469 - val_accuracy: 0.8984\n",
            "Epoch 87/100\n",
            "7/7 [==============================] - 0s 9ms/step - loss: 0.3596 - accuracy: 0.8824 - val_loss: 0.3464 - val_accuracy: 0.8984\n",
            "Epoch 88/100\n",
            "7/7 [==============================] - 0s 10ms/step - loss: 0.3597 - accuracy: 0.8824 - val_loss: 0.3466 - val_accuracy: 0.8984\n",
            "Epoch 89/100\n",
            "7/7 [==============================] - 0s 8ms/step - loss: 0.3611 - accuracy: 0.8824 - val_loss: 0.3479 - val_accuracy: 0.8984\n",
            "Epoch 90/100\n",
            "7/7 [==============================] - 0s 9ms/step - loss: 0.3616 - accuracy: 0.8824 - val_loss: 0.3475 - val_accuracy: 0.8984\n",
            "Epoch 91/100\n",
            "7/7 [==============================] - 0s 11ms/step - loss: 0.3613 - accuracy: 0.8824 - val_loss: 0.3476 - val_accuracy: 0.8984\n",
            "Epoch 92/100\n",
            "7/7 [==============================] - 0s 10ms/step - loss: 0.3604 - accuracy: 0.8824 - val_loss: 0.3471 - val_accuracy: 0.8984\n",
            "Epoch 93/100\n",
            "7/7 [==============================] - 0s 9ms/step - loss: 0.3614 - accuracy: 0.8824 - val_loss: 0.3468 - val_accuracy: 0.8984\n",
            "Epoch 94/100\n",
            "7/7 [==============================] - 0s 10ms/step - loss: 0.3599 - accuracy: 0.8824 - val_loss: 0.3465 - val_accuracy: 0.8984\n",
            "Epoch 95/100\n",
            "7/7 [==============================] - 0s 8ms/step - loss: 0.3603 - accuracy: 0.8824 - val_loss: 0.3468 - val_accuracy: 0.8984\n",
            "Epoch 96/100\n",
            "7/7 [==============================] - 0s 11ms/step - loss: 0.3597 - accuracy: 0.8824 - val_loss: 0.3470 - val_accuracy: 0.8984\n",
            "Epoch 97/100\n",
            "7/7 [==============================] - 0s 9ms/step - loss: 0.3605 - accuracy: 0.8824 - val_loss: 0.3472 - val_accuracy: 0.8984\n",
            "Epoch 98/100\n",
            "7/7 [==============================] - 0s 8ms/step - loss: 0.3602 - accuracy: 0.8824 - val_loss: 0.3467 - val_accuracy: 0.8984\n",
            "Epoch 99/100\n",
            "7/7 [==============================] - 0s 11ms/step - loss: 0.3611 - accuracy: 0.8824 - val_loss: 0.3464 - val_accuracy: 0.8984\n",
            "Epoch 100/100\n",
            "7/7 [==============================] - 0s 10ms/step - loss: 0.3608 - accuracy: 0.8824 - val_loss: 0.3472 - val_accuracy: 0.8984\n"
          ]
        }
      ]
    },
    {
      "cell_type": "code",
      "source": [
        "target_names = pd.Categorical(df_indian['diet']).categories"
      ],
      "metadata": {
        "id": "QcMXHz3nQghN"
      },
      "execution_count": null,
      "outputs": []
    },
    {
      "cell_type": "code",
      "source": [
        "y_prob = model.predict(X_test_glove_padded)\n",
        "y_pred = np.argmax(y_prob,axis=1)\n",
        "print(classification_report(y_test_int,y_pred, target_names=target_names, zero_division=1))"
      ],
      "metadata": {
        "colab": {
          "base_uri": "https://localhost:8080/"
        },
        "outputId": "9e482230-7bd7-4c98-da21-5c9ff580d84b",
        "id": "X8x28HL7QghN"
      },
      "execution_count": null,
      "outputs": [
        {
          "output_type": "stream",
          "name": "stdout",
          "text": [
            "                precision    recall  f1-score   support\n",
            "\n",
            "non vegetarian       1.00      0.00      0.00        16\n",
            "    vegetarian       0.87      1.00      0.93       111\n",
            "\n",
            "      accuracy                           0.87       127\n",
            "     macro avg       0.94      0.50      0.47       127\n",
            "  weighted avg       0.89      0.87      0.82       127\n",
            "\n"
          ]
        }
      ]
    },
    {
      "cell_type": "code",
      "source": [
        "plt.plot(history_fine.history['loss'])\n",
        "plt.plot(history_fine.history['val_loss'])\n",
        "plt.title('model loss')\n",
        "plt.ylabel('loss')\n",
        "plt.xlabel('epoch')\n",
        "plt.legend(['training set','validation set'], loc='upper left')\n",
        "plt.savefig('figs/loss_cnn_glv.eps', format='eps')\n",
        "plt.show()"
      ],
      "metadata": {
        "colab": {
          "base_uri": "https://localhost:8080/",
          "height": 312
        },
        "outputId": "92031ff7-d3a1-4bff-b907-0110841b3ae8",
        "id": "BWOS_nk3QghN"
      },
      "execution_count": null,
      "outputs": [
        {
          "output_type": "display_data",
          "data": {
            "text/plain": [
              "<Figure size 432x288 with 1 Axes>"
            ],
            "image/png": "[encoded data removed]"
          },
          "metadata": {
            "needs_background": "light"
          }
        },
        {
          "output_type": "display_data",
          "data": {
            "text/plain": [
              "<Figure size 432x288 with 0 Axes>"
            ]
          },
          "metadata": {}
        }
      ]
    },
    {
      "cell_type": "code",
      "source": [
        "plt.plot(history_fine.history['accuracy'])\n",
        "plt.plot(history_fine.history['val_accuracy'])\n",
        "plt.title('model accuracy')\n",
        "plt.ylabel('accuracy')\n",
        "plt.xlabel('epoch')\n",
        "plt.legend(['training set','validation set'], loc='upper left')\n",
        "plt.savefig('figs/acc_cnn_glv.eps', format='eps')\n",
        "plt.show()"
      ],
      "metadata": {
        "colab": {
          "base_uri": "https://localhost:8080/",
          "height": 312
        },
        "outputId": "65962b77-d5ab-4557-ea17-48e8b6d1554a",
        "id": "l8RqrocMQghN"
      },
      "execution_count": null,
      "outputs": [
        {
          "output_type": "display_data",
          "data": {
            "text/plain": [
              "<Figure size 432x288 with 1 Axes>"
            ],
            "image/png": "[encoded data removed]"
          },
          "metadata": {
            "needs_background": "light"
          }
        },
        {
          "output_type": "display_data",
          "data": {
            "text/plain": [
              "<Figure size 432x288 with 0 Axes>"
            ]
          },
          "metadata": {}
        }
      ]
    },
    {
      "cell_type": "code",
      "source": [
        "disp = ConfusionMatrixDisplay.from_predictions(y_test_int, y_pred)\n",
        "fig = disp.ax_.get_figure()  \n",
        "fig.set_figwidth(5) \n",
        "fig.set_figheight(5)\n",
        "plt.savefig('figs/matrixconf_cnn_glv.eps', format='eps')\n",
        "plt.show()"
      ],
      "metadata": {
        "colab": {
          "base_uri": "https://localhost:8080/",
          "height": 326
        },
        "outputId": "ef6e7276-7d1c-4828-b667-0dab23371300",
        "id": "d_yIiiLlQghN"
      },
      "execution_count": null,
      "outputs": [
        {
          "output_type": "display_data",
          "data": {
            "text/plain": [
              "<Figure size 360x360 with 2 Axes>"
            ],
            "image/png": "[encoded data removed]"
          },
          "metadata": {
            "needs_background": "light"
          }
        },
        {
          "output_type": "display_data",
          "data": {
            "text/plain": [
              "<Figure size 432x288 with 0 Axes>"
            ]
          },
          "metadata": {}
        }
      ]
    },
    {
      "cell_type": "markdown",
      "source": [
        "# LSTM"
      ],
      "metadata": {
        "id": "6RhLUtYqmRHE"
      }
    },
    {
      "cell_type": "code",
      "source": [
        "from keras_tuner import HyperModel\n",
        "\n",
        "class LSTMHyperModel(HyperModel):\n",
        "  def __init__(self, embedding_layer, output):\n",
        "    self.embedding_layer = embedding_layer\n",
        "    self.output = output\n",
        "\n",
        "  def build(self, hp):\n",
        "    model = Sequential()\n",
        "    model.add(self.embedding_layer)\n",
        "    model.add(Masking(mask_value=0.0))\n",
        "    model.add(LSTM(hp.Choice(\"lstm\", [64,128,256]), return_sequences=False, dropout=0.1, recurrent_dropout=0.1))\n",
        "    model.add(Dense(hp.Choice(\"dense1\", [32,64]), activation='relu'))\n",
        "    model.add(Dropout(0.5))\n",
        "    model.add(Dense(self.output, activation='softmax'))\n",
        "    sgd = SGD(learning_rate=0.01)\n",
        "    model.compile(loss=\"categorical_crossentropy\",optimizer=sgd,metrics=['accuracy'])\n",
        "    return model"
      ],
      "metadata": {
        "id": "37iVKIoamPFS"
      },
      "execution_count": null,
      "outputs": []
    },
    {
      "cell_type": "markdown",
      "source": [
        "### WORD2VEC"
      ],
      "metadata": {
        "id": "l7BqsyzEeAh8"
      }
    },
    {
      "cell_type": "code",
      "source": [
        "embedding_layer = Embedding(input_dim=vocab_size, output_dim=EMBEDDING_DIM_W2V, weights=[embedding_w2v], input_length=MAX_LENGTH, trainable=False)"
      ],
      "metadata": {
        "id": "_AYT_xsQeAh8"
      },
      "execution_count": null,
      "outputs": []
    },
    {
      "cell_type": "code",
      "source": [
        "model_LSTM = LSTMHyperModel(embedding_layer, 2)"
      ],
      "metadata": {
        "id": "2PMIPxWOeAh8"
      },
      "execution_count": null,
      "outputs": []
    },
    {
      "cell_type": "code",
      "source": [
        "tuner = kt.Hyperband(\n",
        "    model_LSTM,\n",
        "    objective='val_accuracy',\n",
        "    max_epochs=30,\n",
        "    hyperband_iterations=2,\n",
        "    overwrite=True)"
      ],
      "metadata": {
        "id": "875ANa_yeAh8"
      },
      "execution_count": null,
      "outputs": []
    },
    {
      "cell_type": "code",
      "source": [
        "tuner.search(X_train_w2v_padded,y_train,validation_data=(X_valid_w2v_padded,y_valid),epochs=50)"
      ],
      "metadata": {
        "colab": {
          "base_uri": "https://localhost:8080/"
        },
        "outputId": "81219271-fd6d-4300-f93c-bc133beaddae",
        "id": "bgP9zFSweAh8"
      },
      "execution_count": null,
      "outputs": [
        {
          "output_type": "stream",
          "name": "stdout",
          "text": [
            "Trial 6 Complete [00h 00m 05s]\n",
            "val_accuracy: 0.8984375\n",
            "\n",
            "Best val_accuracy So Far: 0.8984375\n",
            "Total elapsed time: 00h 00m 32s\n"
          ]
        }
      ]
    },
    {
      "cell_type": "code",
      "source": [
        "best_hps = tuner.get_best_hyperparameters(num_trials=1)[0]"
      ],
      "metadata": {
        "id": "2px-ocKDeAh8"
      },
      "execution_count": null,
      "outputs": []
    },
    {
      "cell_type": "code",
      "source": [
        "model = tuner.hypermodel.build(best_hps)"
      ],
      "metadata": {
        "id": "3xZAjXiReAh8"
      },
      "execution_count": null,
      "outputs": []
    },
    {
      "cell_type": "code",
      "source": [
        "model.summary()"
      ],
      "metadata": {
        "colab": {
          "base_uri": "https://localhost:8080/"
        },
        "id": "ECRzOu8aeAh8",
        "outputId": "64062d2a-d665-4721-ec5e-e59550786a4c"
      },
      "execution_count": null,
      "outputs": [
        {
          "output_type": "stream",
          "name": "stdout",
          "text": [
            "Model: \"sequential_1\"\n",
            "_________________________________________________________________\n",
            " Layer (type)                Output Shape              Param #   \n",
            "=================================================================\n",
            " embedding (Embedding)       (None, 12, 50)            15300     \n",
            "                                                                 \n",
            " masking_1 (Masking)         (None, 12, 50)            0         \n",
            "                                                                 \n",
            " lstm_1 (LSTM)               (None, 64)                29440     \n",
            "                                                                 \n",
            " dense_2 (Dense)             (None, 32)                2080      \n",
            "                                                                 \n",
            " dropout_1 (Dropout)         (None, 32)                0         \n",
            "                                                                 \n",
            " dense_3 (Dense)             (None, 2)                 66        \n",
            "                                                                 \n",
            "=================================================================\n",
            "Total params: 46,886\n",
            "Trainable params: 31,586\n",
            "Non-trainable params: 15,300\n",
            "_________________________________________________________________\n"
          ]
        }
      ]
    },
    {
      "cell_type": "code",
      "source": [
        "history_fine = model.fit(X_train_w2v_padded,y_train,validation_data=(X_valid_w2v_padded,y_valid), epochs=100) "
      ],
      "metadata": {
        "id": "TEzbj1yGeAh8",
        "colab": {
          "base_uri": "https://localhost:8080/"
        },
        "outputId": "c43b019e-0727-46b4-c98a-8aa69f42ac0a"
      },
      "execution_count": null,
      "outputs": [
        {
          "output_type": "stream",
          "name": "stdout",
          "text": [
            "Epoch 1/100\n",
            "7/7 [==============================] - 4s 95ms/step - loss: 0.6723 - accuracy: 0.7843 - val_loss: 0.6336 - val_accuracy: 0.8984\n",
            "Epoch 2/100\n",
            "7/7 [==============================] - 0s 27ms/step - loss: 0.6123 - accuracy: 0.8824 - val_loss: 0.5718 - val_accuracy: 0.8984\n",
            "Epoch 3/100\n",
            "7/7 [==============================] - 0s 28ms/step - loss: 0.5649 - accuracy: 0.8824 - val_loss: 0.5250 - val_accuracy: 0.8984\n",
            "Epoch 4/100\n",
            "7/7 [==============================] - 0s 27ms/step - loss: 0.5195 - accuracy: 0.8824 - val_loss: 0.4870 - val_accuracy: 0.8984\n",
            "Epoch 5/100\n",
            "7/7 [==============================] - 0s 28ms/step - loss: 0.4913 - accuracy: 0.8824 - val_loss: 0.4599 - val_accuracy: 0.8984\n",
            "Epoch 6/100\n",
            "7/7 [==============================] - 0s 27ms/step - loss: 0.4521 - accuracy: 0.8824 - val_loss: 0.4353 - val_accuracy: 0.8984\n",
            "Epoch 7/100\n",
            "7/7 [==============================] - 0s 28ms/step - loss: 0.4457 - accuracy: 0.8824 - val_loss: 0.4193 - val_accuracy: 0.8984\n",
            "Epoch 8/100\n",
            "7/7 [==============================] - 0s 26ms/step - loss: 0.4416 - accuracy: 0.8824 - val_loss: 0.4062 - val_accuracy: 0.8984\n",
            "Epoch 9/100\n",
            "7/7 [==============================] - 0s 27ms/step - loss: 0.4211 - accuracy: 0.8824 - val_loss: 0.3943 - val_accuracy: 0.8984\n",
            "Epoch 10/100\n",
            "7/7 [==============================] - 0s 31ms/step - loss: 0.4215 - accuracy: 0.8824 - val_loss: 0.3854 - val_accuracy: 0.8984\n",
            "Epoch 11/100\n",
            "7/7 [==============================] - 0s 28ms/step - loss: 0.4006 - accuracy: 0.8824 - val_loss: 0.3768 - val_accuracy: 0.8984\n",
            "Epoch 12/100\n",
            "7/7 [==============================] - 0s 28ms/step - loss: 0.4223 - accuracy: 0.8824 - val_loss: 0.3714 - val_accuracy: 0.8984\n",
            "Epoch 13/100\n",
            "7/7 [==============================] - 0s 28ms/step - loss: 0.4029 - accuracy: 0.8824 - val_loss: 0.3669 - val_accuracy: 0.8984\n",
            "Epoch 14/100\n",
            "7/7 [==============================] - 0s 26ms/step - loss: 0.3998 - accuracy: 0.8824 - val_loss: 0.3623 - val_accuracy: 0.8984\n",
            "Epoch 15/100\n",
            "7/7 [==============================] - 0s 30ms/step - loss: 0.3992 - accuracy: 0.8824 - val_loss: 0.3584 - val_accuracy: 0.8984\n",
            "Epoch 16/100\n",
            "7/7 [==============================] - 0s 27ms/step - loss: 0.3888 - accuracy: 0.8824 - val_loss: 0.3548 - val_accuracy: 0.8984\n",
            "Epoch 17/100\n",
            "7/7 [==============================] - 0s 28ms/step - loss: 0.3727 - accuracy: 0.8824 - val_loss: 0.3523 - val_accuracy: 0.8984\n",
            "Epoch 18/100\n",
            "7/7 [==============================] - 0s 27ms/step - loss: 0.3935 - accuracy: 0.8824 - val_loss: 0.3502 - val_accuracy: 0.8984\n",
            "Epoch 19/100\n",
            "7/7 [==============================] - 0s 27ms/step - loss: 0.3920 - accuracy: 0.8824 - val_loss: 0.3490 - val_accuracy: 0.8984\n",
            "Epoch 20/100\n",
            "7/7 [==============================] - 0s 27ms/step - loss: 0.3887 - accuracy: 0.8824 - val_loss: 0.3474 - val_accuracy: 0.8984\n",
            "Epoch 21/100\n",
            "7/7 [==============================] - 0s 30ms/step - loss: 0.4028 - accuracy: 0.8824 - val_loss: 0.3467 - val_accuracy: 0.8984\n",
            "Epoch 22/100\n",
            "7/7 [==============================] - 0s 28ms/step - loss: 0.3954 - accuracy: 0.8824 - val_loss: 0.3460 - val_accuracy: 0.8984\n",
            "Epoch 23/100\n",
            "7/7 [==============================] - 0s 26ms/step - loss: 0.3932 - accuracy: 0.8824 - val_loss: 0.3461 - val_accuracy: 0.8984\n",
            "Epoch 24/100\n",
            "7/7 [==============================] - 0s 27ms/step - loss: 0.3781 - accuracy: 0.8824 - val_loss: 0.3444 - val_accuracy: 0.8984\n",
            "Epoch 25/100\n",
            "7/7 [==============================] - 0s 27ms/step - loss: 0.3885 - accuracy: 0.8824 - val_loss: 0.3437 - val_accuracy: 0.8984\n",
            "Epoch 26/100\n",
            "7/7 [==============================] - 0s 30ms/step - loss: 0.3951 - accuracy: 0.8824 - val_loss: 0.3429 - val_accuracy: 0.8984\n",
            "Epoch 27/100\n",
            "7/7 [==============================] - 0s 28ms/step - loss: 0.3893 - accuracy: 0.8824 - val_loss: 0.3427 - val_accuracy: 0.8984\n",
            "Epoch 28/100\n",
            "7/7 [==============================] - 0s 28ms/step - loss: 0.3735 - accuracy: 0.8824 - val_loss: 0.3418 - val_accuracy: 0.8984\n",
            "Epoch 29/100\n",
            "7/7 [==============================] - 0s 27ms/step - loss: 0.3914 - accuracy: 0.8824 - val_loss: 0.3412 - val_accuracy: 0.8984\n",
            "Epoch 30/100\n",
            "7/7 [==============================] - 0s 57ms/step - loss: 0.3806 - accuracy: 0.8824 - val_loss: 0.3409 - val_accuracy: 0.8984\n",
            "Epoch 31/100\n",
            "7/7 [==============================] - 1s 79ms/step - loss: 0.3911 - accuracy: 0.8824 - val_loss: 0.3406 - val_accuracy: 0.8984\n",
            "Epoch 32/100\n",
            "7/7 [==============================] - 0s 63ms/step - loss: 0.3949 - accuracy: 0.8824 - val_loss: 0.3410 - val_accuracy: 0.8984\n",
            "Epoch 33/100\n",
            "7/7 [==============================] - 0s 27ms/step - loss: 0.4031 - accuracy: 0.8824 - val_loss: 0.3409 - val_accuracy: 0.8984\n",
            "Epoch 34/100\n",
            "7/7 [==============================] - 0s 74ms/step - loss: 0.3878 - accuracy: 0.8824 - val_loss: 0.3404 - val_accuracy: 0.8984\n",
            "Epoch 35/100\n",
            "7/7 [==============================] - 1s 86ms/step - loss: 0.3625 - accuracy: 0.8824 - val_loss: 0.3399 - val_accuracy: 0.8984\n",
            "Epoch 36/100\n",
            "7/7 [==============================] - 0s 50ms/step - loss: 0.3931 - accuracy: 0.8824 - val_loss: 0.3400 - val_accuracy: 0.8984\n",
            "Epoch 37/100\n",
            "7/7 [==============================] - 0s 27ms/step - loss: 0.3788 - accuracy: 0.8824 - val_loss: 0.3396 - val_accuracy: 0.8984\n",
            "Epoch 38/100\n",
            "7/7 [==============================] - 0s 63ms/step - loss: 0.3724 - accuracy: 0.8824 - val_loss: 0.3388 - val_accuracy: 0.8984\n",
            "Epoch 39/100\n",
            "7/7 [==============================] - 1s 81ms/step - loss: 0.3649 - accuracy: 0.8824 - val_loss: 0.3385 - val_accuracy: 0.8984\n",
            "Epoch 40/100\n",
            "7/7 [==============================] - 0s 59ms/step - loss: 0.3955 - accuracy: 0.8824 - val_loss: 0.3386 - val_accuracy: 0.8984\n",
            "Epoch 41/100\n",
            "7/7 [==============================] - 0s 29ms/step - loss: 0.3831 - accuracy: 0.8824 - val_loss: 0.3384 - val_accuracy: 0.8984\n",
            "Epoch 42/100\n",
            "7/7 [==============================] - 0s 28ms/step - loss: 0.3933 - accuracy: 0.8824 - val_loss: 0.3383 - val_accuracy: 0.8984\n",
            "Epoch 43/100\n",
            "7/7 [==============================] - 0s 27ms/step - loss: 0.3589 - accuracy: 0.8824 - val_loss: 0.3379 - val_accuracy: 0.8984\n",
            "Epoch 44/100\n",
            "7/7 [==============================] - 0s 28ms/step - loss: 0.3767 - accuracy: 0.8824 - val_loss: 0.3374 - val_accuracy: 0.8984\n",
            "Epoch 45/100\n",
            "7/7 [==============================] - 0s 29ms/step - loss: 0.3861 - accuracy: 0.8824 - val_loss: 0.3370 - val_accuracy: 0.8984\n",
            "Epoch 46/100\n",
            "7/7 [==============================] - 0s 27ms/step - loss: 0.3863 - accuracy: 0.8824 - val_loss: 0.3375 - val_accuracy: 0.8984\n",
            "Epoch 47/100\n",
            "7/7 [==============================] - 0s 28ms/step - loss: 0.3811 - accuracy: 0.8824 - val_loss: 0.3374 - val_accuracy: 0.8984\n",
            "Epoch 48/100\n",
            "7/7 [==============================] - 0s 27ms/step - loss: 0.3724 - accuracy: 0.8824 - val_loss: 0.3369 - val_accuracy: 0.8984\n",
            "Epoch 49/100\n",
            "7/7 [==============================] - 0s 29ms/step - loss: 0.3792 - accuracy: 0.8824 - val_loss: 0.3368 - val_accuracy: 0.8984\n",
            "Epoch 50/100\n",
            "7/7 [==============================] - 0s 34ms/step - loss: 0.3999 - accuracy: 0.8824 - val_loss: 0.3367 - val_accuracy: 0.8984\n",
            "Epoch 51/100\n",
            "7/7 [==============================] - 0s 29ms/step - loss: 0.3848 - accuracy: 0.8824 - val_loss: 0.3368 - val_accuracy: 0.8984\n",
            "Epoch 52/100\n",
            "7/7 [==============================] - 0s 28ms/step - loss: 0.3902 - accuracy: 0.8824 - val_loss: 0.3370 - val_accuracy: 0.8984\n",
            "Epoch 53/100\n",
            "7/7 [==============================] - 0s 29ms/step - loss: 0.3831 - accuracy: 0.8824 - val_loss: 0.3371 - val_accuracy: 0.8984\n",
            "Epoch 54/100\n",
            "7/7 [==============================] - 0s 28ms/step - loss: 0.4064 - accuracy: 0.8824 - val_loss: 0.3374 - val_accuracy: 0.8984\n",
            "Epoch 55/100\n",
            "7/7 [==============================] - 0s 30ms/step - loss: 0.3791 - accuracy: 0.8824 - val_loss: 0.3374 - val_accuracy: 0.8984\n",
            "Epoch 56/100\n",
            "7/7 [==============================] - 0s 29ms/step - loss: 0.3913 - accuracy: 0.8824 - val_loss: 0.3374 - val_accuracy: 0.8984\n",
            "Epoch 57/100\n",
            "7/7 [==============================] - 0s 28ms/step - loss: 0.3798 - accuracy: 0.8824 - val_loss: 0.3372 - val_accuracy: 0.8984\n",
            "Epoch 58/100\n",
            "7/7 [==============================] - 0s 27ms/step - loss: 0.3715 - accuracy: 0.8824 - val_loss: 0.3368 - val_accuracy: 0.8984\n",
            "Epoch 59/100\n",
            "7/7 [==============================] - 0s 28ms/step - loss: 0.3878 - accuracy: 0.8824 - val_loss: 0.3368 - val_accuracy: 0.8984\n",
            "Epoch 60/100\n",
            "7/7 [==============================] - 0s 29ms/step - loss: 0.3693 - accuracy: 0.8824 - val_loss: 0.3365 - val_accuracy: 0.8984\n",
            "Epoch 61/100\n",
            "7/7 [==============================] - 0s 28ms/step - loss: 0.3686 - accuracy: 0.8824 - val_loss: 0.3363 - val_accuracy: 0.8984\n",
            "Epoch 62/100\n",
            "7/7 [==============================] - 0s 28ms/step - loss: 0.3706 - accuracy: 0.8824 - val_loss: 0.3361 - val_accuracy: 0.8984\n",
            "Epoch 63/100\n",
            "7/7 [==============================] - 0s 30ms/step - loss: 0.4008 - accuracy: 0.8824 - val_loss: 0.3365 - val_accuracy: 0.8984\n",
            "Epoch 64/100\n",
            "7/7 [==============================] - 0s 28ms/step - loss: 0.3889 - accuracy: 0.8824 - val_loss: 0.3362 - val_accuracy: 0.8984\n",
            "Epoch 65/100\n",
            "7/7 [==============================] - 0s 27ms/step - loss: 0.3717 - accuracy: 0.8824 - val_loss: 0.3360 - val_accuracy: 0.8984\n",
            "Epoch 66/100\n",
            "7/7 [==============================] - 0s 28ms/step - loss: 0.3873 - accuracy: 0.8824 - val_loss: 0.3363 - val_accuracy: 0.8984\n",
            "Epoch 67/100\n",
            "7/7 [==============================] - 0s 26ms/step - loss: 0.3900 - accuracy: 0.8824 - val_loss: 0.3363 - val_accuracy: 0.8984\n",
            "Epoch 68/100\n",
            "7/7 [==============================] - 0s 27ms/step - loss: 0.3591 - accuracy: 0.8824 - val_loss: 0.3363 - val_accuracy: 0.8984\n",
            "Epoch 69/100\n",
            "7/7 [==============================] - 0s 26ms/step - loss: 0.3728 - accuracy: 0.8824 - val_loss: 0.3362 - val_accuracy: 0.8984\n",
            "Epoch 70/100\n",
            "7/7 [==============================] - 0s 29ms/step - loss: 0.3856 - accuracy: 0.8824 - val_loss: 0.3364 - val_accuracy: 0.8984\n",
            "Epoch 71/100\n",
            "7/7 [==============================] - 0s 30ms/step - loss: 0.3718 - accuracy: 0.8824 - val_loss: 0.3361 - val_accuracy: 0.8984\n",
            "Epoch 72/100\n",
            "7/7 [==============================] - 0s 27ms/step - loss: 0.3847 - accuracy: 0.8824 - val_loss: 0.3360 - val_accuracy: 0.8984\n",
            "Epoch 73/100\n",
            "7/7 [==============================] - 0s 29ms/step - loss: 0.3632 - accuracy: 0.8824 - val_loss: 0.3357 - val_accuracy: 0.8984\n",
            "Epoch 74/100\n",
            "7/7 [==============================] - 0s 26ms/step - loss: 0.3716 - accuracy: 0.8824 - val_loss: 0.3357 - val_accuracy: 0.8984\n",
            "Epoch 75/100\n",
            "7/7 [==============================] - 0s 27ms/step - loss: 0.3694 - accuracy: 0.8824 - val_loss: 0.3355 - val_accuracy: 0.8984\n",
            "Epoch 76/100\n",
            "7/7 [==============================] - 0s 30ms/step - loss: 0.3613 - accuracy: 0.8824 - val_loss: 0.3352 - val_accuracy: 0.8984\n",
            "Epoch 77/100\n",
            "7/7 [==============================] - 0s 28ms/step - loss: 0.3884 - accuracy: 0.8824 - val_loss: 0.3353 - val_accuracy: 0.8984\n",
            "Epoch 78/100\n",
            "7/7 [==============================] - 0s 27ms/step - loss: 0.3820 - accuracy: 0.8824 - val_loss: 0.3353 - val_accuracy: 0.8984\n",
            "Epoch 79/100\n",
            "7/7 [==============================] - 0s 27ms/step - loss: 0.3836 - accuracy: 0.8824 - val_loss: 0.3351 - val_accuracy: 0.8984\n",
            "Epoch 80/100\n",
            "7/7 [==============================] - 0s 27ms/step - loss: 0.3755 - accuracy: 0.8824 - val_loss: 0.3353 - val_accuracy: 0.8984\n",
            "Epoch 81/100\n",
            "7/7 [==============================] - 0s 29ms/step - loss: 0.3738 - accuracy: 0.8824 - val_loss: 0.3358 - val_accuracy: 0.8984\n",
            "Epoch 82/100\n",
            "7/7 [==============================] - 0s 28ms/step - loss: 0.3627 - accuracy: 0.8824 - val_loss: 0.3354 - val_accuracy: 0.8984\n",
            "Epoch 83/100\n",
            "7/7 [==============================] - 0s 27ms/step - loss: 0.3684 - accuracy: 0.8824 - val_loss: 0.3352 - val_accuracy: 0.8984\n",
            "Epoch 84/100\n",
            "7/7 [==============================] - 0s 27ms/step - loss: 0.3869 - accuracy: 0.8824 - val_loss: 0.3356 - val_accuracy: 0.8984\n",
            "Epoch 85/100\n",
            "7/7 [==============================] - 0s 28ms/step - loss: 0.3845 - accuracy: 0.8824 - val_loss: 0.3355 - val_accuracy: 0.8984\n",
            "Epoch 86/100\n",
            "7/7 [==============================] - 0s 28ms/step - loss: 0.3739 - accuracy: 0.8824 - val_loss: 0.3355 - val_accuracy: 0.8984\n",
            "Epoch 87/100\n",
            "7/7 [==============================] - 0s 27ms/step - loss: 0.3791 - accuracy: 0.8824 - val_loss: 0.3357 - val_accuracy: 0.8984\n",
            "Epoch 88/100\n",
            "7/7 [==============================] - 0s 28ms/step - loss: 0.3828 - accuracy: 0.8824 - val_loss: 0.3357 - val_accuracy: 0.8984\n",
            "Epoch 89/100\n",
            "7/7 [==============================] - 0s 26ms/step - loss: 0.3696 - accuracy: 0.8824 - val_loss: 0.3356 - val_accuracy: 0.8984\n",
            "Epoch 90/100\n",
            "7/7 [==============================] - 0s 27ms/step - loss: 0.3663 - accuracy: 0.8824 - val_loss: 0.3354 - val_accuracy: 0.8984\n",
            "Epoch 91/100\n",
            "7/7 [==============================] - 0s 27ms/step - loss: 0.3797 - accuracy: 0.8824 - val_loss: 0.3353 - val_accuracy: 0.8984\n",
            "Epoch 92/100\n",
            "7/7 [==============================] - 0s 29ms/step - loss: 0.3716 - accuracy: 0.8824 - val_loss: 0.3352 - val_accuracy: 0.8984\n",
            "Epoch 93/100\n",
            "7/7 [==============================] - 0s 27ms/step - loss: 0.3879 - accuracy: 0.8824 - val_loss: 0.3353 - val_accuracy: 0.8984\n",
            "Epoch 94/100\n",
            "7/7 [==============================] - 0s 30ms/step - loss: 0.3742 - accuracy: 0.8824 - val_loss: 0.3352 - val_accuracy: 0.8984\n",
            "Epoch 95/100\n",
            "7/7 [==============================] - 0s 30ms/step - loss: 0.3920 - accuracy: 0.8824 - val_loss: 0.3354 - val_accuracy: 0.8984\n",
            "Epoch 96/100\n",
            "7/7 [==============================] - 0s 27ms/step - loss: 0.3712 - accuracy: 0.8824 - val_loss: 0.3351 - val_accuracy: 0.8984\n",
            "Epoch 97/100\n",
            "7/7 [==============================] - 0s 30ms/step - loss: 0.3864 - accuracy: 0.8824 - val_loss: 0.3352 - val_accuracy: 0.8984\n",
            "Epoch 98/100\n",
            "7/7 [==============================] - 0s 28ms/step - loss: 0.3859 - accuracy: 0.8824 - val_loss: 0.3352 - val_accuracy: 0.8984\n",
            "Epoch 99/100\n",
            "7/7 [==============================] - 0s 27ms/step - loss: 0.3660 - accuracy: 0.8824 - val_loss: 0.3350 - val_accuracy: 0.8984\n",
            "Epoch 100/100\n",
            "7/7 [==============================] - 0s 27ms/step - loss: 0.3888 - accuracy: 0.8824 - val_loss: 0.3351 - val_accuracy: 0.8984\n"
          ]
        }
      ]
    },
    {
      "cell_type": "code",
      "source": [
        "target_names = pd.Categorical(df_indian['diet']).categories"
      ],
      "metadata": {
        "id": "o0Wg2fLmeAh8"
      },
      "execution_count": null,
      "outputs": []
    },
    {
      "cell_type": "code",
      "source": [
        "y_prob = model.predict(X_test_w2v_padded)\n",
        "y_pred = np.argmax(y_prob,axis=1)\n",
        "print(classification_report(y_test_int,y_pred, target_names=target_names,zero_division=1))"
      ],
      "metadata": {
        "id": "dgx5a3KJeAh8",
        "colab": {
          "base_uri": "https://localhost:8080/"
        },
        "outputId": "2fd0f889-6dd3-4551-930b-e7954a66a489"
      },
      "execution_count": null,
      "outputs": [
        {
          "output_type": "stream",
          "name": "stdout",
          "text": [
            "                precision    recall  f1-score   support\n",
            "\n",
            "non vegetarian       1.00      0.00      0.00        16\n",
            "    vegetarian       0.87      1.00      0.93       111\n",
            "\n",
            "      accuracy                           0.87       127\n",
            "     macro avg       0.94      0.50      0.47       127\n",
            "  weighted avg       0.89      0.87      0.82       127\n",
            "\n"
          ]
        }
      ]
    },
    {
      "cell_type": "code",
      "source": [
        "plt.plot(history_fine.history['loss'])\n",
        "plt.plot(history_fine.history['val_loss'])\n",
        "plt.title('model loss')\n",
        "plt.ylabel('loss')\n",
        "plt.xlabel('epoch')\n",
        "plt.legend(['training set','validation set'], loc='upper left')\n",
        "plt.savefig('figs/loss_lstm_w2v.eps', format='eps')\n",
        "plt.show()"
      ],
      "metadata": {
        "id": "Hisr1gNQeAh8",
        "colab": {
          "base_uri": "https://localhost:8080/",
          "height": 312
        },
        "outputId": "c135a09f-13ad-47c2-85b4-452942b7f6a6"
      },
      "execution_count": null,
      "outputs": [
        {
          "output_type": "display_data",
          "data": {
            "text/plain": [
              "<Figure size 432x288 with 1 Axes>"
            ],
            "image/png": "[encoded data removed]"
          },
          "metadata": {
            "needs_background": "light"
          }
        },
        {
          "output_type": "display_data",
          "data": {
            "text/plain": [
              "<Figure size 432x288 with 0 Axes>"
            ]
          },
          "metadata": {}
        }
      ]
    },
    {
      "cell_type": "code",
      "source": [
        "plt.plot(history_fine.history['accuracy'])\n",
        "plt.plot(history_fine.history['val_accuracy'])\n",
        "plt.title('model accuracy')\n",
        "plt.ylabel('accuracy')\n",
        "plt.xlabel('epoch')\n",
        "plt.legend(['training set','validation set'], loc='upper left')\n",
        "plt.savefig('figs/acc_lstm_w2v.eps', format='eps')\n",
        "plt.show()"
      ],
      "metadata": {
        "id": "QsZaybQ9eAh8",
        "colab": {
          "base_uri": "https://localhost:8080/",
          "height": 312
        },
        "outputId": "b58aa1b4-cc97-4e06-d4fb-92a0c2c58e49"
      },
      "execution_count": null,
      "outputs": [
        {
          "output_type": "display_data",
          "data": {
            "text/plain": [
              "<Figure size 432x288 with 1 Axes>"
            ],
            "image/png": "[encoded data removed]"
          },
          "metadata": {
            "needs_background": "light"
          }
        },
        {
          "output_type": "display_data",
          "data": {
            "text/plain": [
              "<Figure size 432x288 with 0 Axes>"
            ]
          },
          "metadata": {}
        }
      ]
    },
    {
      "cell_type": "code",
      "source": [
        "disp = ConfusionMatrixDisplay.from_predictions(y_test_int, y_pred)\n",
        "fig = disp.ax_.get_figure()  \n",
        "fig.set_figwidth(5) \n",
        "fig.set_figheight(5)\n",
        "plt.savefig('figs/matrixconf_lstm_w2v.eps', format='eps')\n",
        "plt.show()"
      ],
      "metadata": {
        "id": "-Er6Ps5AeAh9",
        "colab": {
          "base_uri": "https://localhost:8080/",
          "height": 326
        },
        "outputId": "468a1fca-16f4-4fe3-9bf1-43d406e86a27"
      },
      "execution_count": null,
      "outputs": [
        {
          "output_type": "display_data",
          "data": {
            "text/plain": [
              "<Figure size 360x360 with 2 Axes>"
            ],
            "image/png": "[encoded data removed]"
          },
          "metadata": {
            "needs_background": "light"
          }
        },
        {
          "output_type": "display_data",
          "data": {
            "text/plain": [
              "<Figure size 432x288 with 0 Axes>"
            ]
          },
          "metadata": {}
        }
      ]
    },
    {
      "cell_type": "markdown",
      "source": [
        "### GLOVE"
      ],
      "metadata": {
        "id": "60zL_-_EeAh9"
      }
    },
    {
      "cell_type": "code",
      "source": [
        "embedding_layer = Embedding(input_dim=vocab_size, output_dim=EMBEDDING_DIM_GLV, weights=[embedding_glove], input_length=MAX_LENGTH, trainable=False)"
      ],
      "metadata": {
        "id": "JWal6OW4eAh9"
      },
      "execution_count": null,
      "outputs": []
    },
    {
      "cell_type": "code",
      "source": [
        "model_LSTM = LSTMHyperModel(embedding_layer, 2)"
      ],
      "metadata": {
        "id": "xQruN_HPeAh9"
      },
      "execution_count": null,
      "outputs": []
    },
    {
      "cell_type": "code",
      "source": [
        "tuner = kt.Hyperband(\n",
        "    model_LSTM,\n",
        "    objective='val_accuracy',\n",
        "    max_epochs=30,\n",
        "    hyperband_iterations=2,\n",
        "    overwrite=True)"
      ],
      "metadata": {
        "id": "MswOErzkeAh9"
      },
      "execution_count": null,
      "outputs": []
    },
    {
      "cell_type": "code",
      "source": [
        "tuner.search(X_train_glove_padded,y_train,validation_data=(X_valid_glove_padded,y_valid),epochs=50)"
      ],
      "metadata": {
        "id": "wgRwDHvheAh9",
        "colab": {
          "base_uri": "https://localhost:8080/"
        },
        "outputId": "388f0791-e67d-427c-a2b6-b0a829f3e272"
      },
      "execution_count": null,
      "outputs": [
        {
          "output_type": "stream",
          "name": "stdout",
          "text": [
            "Trial 6 Complete [00h 00m 10s]\n",
            "val_accuracy: 0.8984375\n",
            "\n",
            "Best val_accuracy So Far: 0.8984375\n",
            "Total elapsed time: 00h 00m 37s\n"
          ]
        }
      ]
    },
    {
      "cell_type": "code",
      "source": [
        "best_hps = tuner.get_best_hyperparameters(num_trials=1)[0]"
      ],
      "metadata": {
        "id": "HiopxwFSeAh9"
      },
      "execution_count": null,
      "outputs": []
    },
    {
      "cell_type": "code",
      "source": [
        "model = tuner.hypermodel.build(best_hps)"
      ],
      "metadata": {
        "id": "l4Zmr4dBeAh9"
      },
      "execution_count": null,
      "outputs": []
    },
    {
      "cell_type": "code",
      "source": [
        "model.summary()"
      ],
      "metadata": {
        "id": "l_CJBjYleAh9",
        "colab": {
          "base_uri": "https://localhost:8080/"
        },
        "outputId": "bfca38b4-02d3-4ee2-dff4-d40b62869454"
      },
      "execution_count": null,
      "outputs": [
        {
          "output_type": "stream",
          "name": "stdout",
          "text": [
            "Model: \"sequential_1\"\n",
            "_________________________________________________________________\n",
            " Layer (type)                Output Shape              Param #   \n",
            "=================================================================\n",
            " embedding (Embedding)       (None, 12, 50)            15300     \n",
            "                                                                 \n",
            " masking_1 (Masking)         (None, 12, 50)            0         \n",
            "                                                                 \n",
            " lstm_1 (LSTM)               (None, 128)               91648     \n",
            "                                                                 \n",
            " dense_2 (Dense)             (None, 32)                4128      \n",
            "                                                                 \n",
            " dropout_1 (Dropout)         (None, 32)                0         \n",
            "                                                                 \n",
            " dense_3 (Dense)             (None, 2)                 66        \n",
            "                                                                 \n",
            "=================================================================\n",
            "Total params: 111,142\n",
            "Trainable params: 95,842\n",
            "Non-trainable params: 15,300\n",
            "_________________________________________________________________\n"
          ]
        }
      ]
    },
    {
      "cell_type": "code",
      "source": [
        "history_fine = model.fit(X_train_glove_padded,y_train,validation_data=(X_valid_glove_padded,y_valid), epochs=100) "
      ],
      "metadata": {
        "id": "dkbq34pYeAh9",
        "colab": {
          "base_uri": "https://localhost:8080/"
        },
        "outputId": "8ed23428-37b9-46a6-d51b-c6da596d2057"
      },
      "execution_count": null,
      "outputs": [
        {
          "output_type": "stream",
          "name": "stdout",
          "text": [
            "Epoch 1/100\n",
            "7/7 [==============================] - 9s 250ms/step - loss: 0.6753 - accuracy: 0.8480 - val_loss: 0.6436 - val_accuracy: 0.8984\n",
            "Epoch 2/100\n",
            "7/7 [==============================] - 1s 126ms/step - loss: 0.6282 - accuracy: 0.8824 - val_loss: 0.5988 - val_accuracy: 0.8984\n",
            "Epoch 3/100\n",
            "7/7 [==============================] - 1s 90ms/step - loss: 0.5918 - accuracy: 0.8824 - val_loss: 0.5631 - val_accuracy: 0.8984\n",
            "Epoch 4/100\n",
            "7/7 [==============================] - 1s 88ms/step - loss: 0.5546 - accuracy: 0.8824 - val_loss: 0.5296 - val_accuracy: 0.8984\n",
            "Epoch 5/100\n",
            "7/7 [==============================] - 1s 118ms/step - loss: 0.5317 - accuracy: 0.8824 - val_loss: 0.5032 - val_accuracy: 0.8984\n",
            "Epoch 6/100\n",
            "7/7 [==============================] - 1s 86ms/step - loss: 0.5072 - accuracy: 0.8824 - val_loss: 0.4799 - val_accuracy: 0.8984\n",
            "Epoch 7/100\n",
            "7/7 [==============================] - 0s 51ms/step - loss: 0.4884 - accuracy: 0.8824 - val_loss: 0.4609 - val_accuracy: 0.8984\n",
            "Epoch 8/100\n",
            "7/7 [==============================] - 1s 97ms/step - loss: 0.4617 - accuracy: 0.8824 - val_loss: 0.4446 - val_accuracy: 0.8984\n",
            "Epoch 9/100\n",
            "7/7 [==============================] - 1s 106ms/step - loss: 0.4628 - accuracy: 0.8824 - val_loss: 0.4307 - val_accuracy: 0.8984\n",
            "Epoch 10/100\n",
            "7/7 [==============================] - 1s 113ms/step - loss: 0.4508 - accuracy: 0.8824 - val_loss: 0.4188 - val_accuracy: 0.8984\n",
            "Epoch 11/100\n",
            "7/7 [==============================] - 1s 127ms/step - loss: 0.4330 - accuracy: 0.8824 - val_loss: 0.4084 - val_accuracy: 0.8984\n",
            "Epoch 12/100\n",
            "7/7 [==============================] - 1s 101ms/step - loss: 0.4369 - accuracy: 0.8824 - val_loss: 0.3999 - val_accuracy: 0.8984\n",
            "Epoch 13/100\n",
            "7/7 [==============================] - 1s 106ms/step - loss: 0.4215 - accuracy: 0.8824 - val_loss: 0.3926 - val_accuracy: 0.8984\n",
            "Epoch 14/100\n",
            "7/7 [==============================] - 1s 89ms/step - loss: 0.4077 - accuracy: 0.8824 - val_loss: 0.3851 - val_accuracy: 0.8984\n",
            "Epoch 15/100\n",
            "7/7 [==============================] - 1s 96ms/step - loss: 0.4085 - accuracy: 0.8824 - val_loss: 0.3788 - val_accuracy: 0.8984\n",
            "Epoch 16/100\n",
            "7/7 [==============================] - 1s 100ms/step - loss: 0.4081 - accuracy: 0.8824 - val_loss: 0.3738 - val_accuracy: 0.8984\n",
            "Epoch 17/100\n",
            "7/7 [==============================] - 0s 58ms/step - loss: 0.4031 - accuracy: 0.8824 - val_loss: 0.3693 - val_accuracy: 0.8984\n",
            "Epoch 18/100\n",
            "7/7 [==============================] - 0s 47ms/step - loss: 0.4089 - accuracy: 0.8824 - val_loss: 0.3658 - val_accuracy: 0.8984\n",
            "Epoch 19/100\n",
            "7/7 [==============================] - 0s 42ms/step - loss: 0.4027 - accuracy: 0.8824 - val_loss: 0.3629 - val_accuracy: 0.8984\n",
            "Epoch 20/100\n",
            "7/7 [==============================] - 0s 48ms/step - loss: 0.3923 - accuracy: 0.8824 - val_loss: 0.3600 - val_accuracy: 0.8984\n",
            "Epoch 21/100\n",
            "7/7 [==============================] - 0s 71ms/step - loss: 0.3997 - accuracy: 0.8824 - val_loss: 0.3577 - val_accuracy: 0.8984\n",
            "Epoch 22/100\n",
            "7/7 [==============================] - 1s 106ms/step - loss: 0.3803 - accuracy: 0.8824 - val_loss: 0.3549 - val_accuracy: 0.8984\n",
            "Epoch 23/100\n",
            "7/7 [==============================] - 1s 134ms/step - loss: 0.3998 - accuracy: 0.8824 - val_loss: 0.3537 - val_accuracy: 0.8984\n",
            "Epoch 24/100\n",
            "7/7 [==============================] - 1s 141ms/step - loss: 0.3971 - accuracy: 0.8824 - val_loss: 0.3523 - val_accuracy: 0.8984\n",
            "Epoch 25/100\n",
            "7/7 [==============================] - 1s 107ms/step - loss: 0.4035 - accuracy: 0.8824 - val_loss: 0.3516 - val_accuracy: 0.8984\n",
            "Epoch 26/100\n",
            "7/7 [==============================] - 1s 157ms/step - loss: 0.3858 - accuracy: 0.8824 - val_loss: 0.3500 - val_accuracy: 0.8984\n",
            "Epoch 27/100\n",
            "7/7 [==============================] - 1s 119ms/step - loss: 0.3943 - accuracy: 0.8824 - val_loss: 0.3492 - val_accuracy: 0.8984\n",
            "Epoch 28/100\n",
            "7/7 [==============================] - 1s 150ms/step - loss: 0.3744 - accuracy: 0.8824 - val_loss: 0.3481 - val_accuracy: 0.8984\n",
            "Epoch 29/100\n",
            "7/7 [==============================] - 1s 162ms/step - loss: 0.3970 - accuracy: 0.8824 - val_loss: 0.3472 - val_accuracy: 0.8984\n",
            "Epoch 30/100\n",
            "7/7 [==============================] - 1s 124ms/step - loss: 0.3766 - accuracy: 0.8824 - val_loss: 0.3460 - val_accuracy: 0.8984\n",
            "Epoch 31/100\n",
            "7/7 [==============================] - 1s 107ms/step - loss: 0.3788 - accuracy: 0.8824 - val_loss: 0.3454 - val_accuracy: 0.8984\n",
            "Epoch 32/100\n",
            "7/7 [==============================] - 1s 103ms/step - loss: 0.3662 - accuracy: 0.8824 - val_loss: 0.3438 - val_accuracy: 0.8984\n",
            "Epoch 33/100\n",
            "7/7 [==============================] - 1s 98ms/step - loss: 0.3910 - accuracy: 0.8824 - val_loss: 0.3430 - val_accuracy: 0.8984\n",
            "Epoch 34/100\n",
            "7/7 [==============================] - 1s 81ms/step - loss: 0.3692 - accuracy: 0.8824 - val_loss: 0.3427 - val_accuracy: 0.8984\n",
            "Epoch 35/100\n",
            "7/7 [==============================] - 0s 43ms/step - loss: 0.3979 - accuracy: 0.8824 - val_loss: 0.3421 - val_accuracy: 0.8984\n",
            "Epoch 36/100\n",
            "7/7 [==============================] - 0s 43ms/step - loss: 0.3791 - accuracy: 0.8824 - val_loss: 0.3413 - val_accuracy: 0.8984\n",
            "Epoch 37/100\n",
            "7/7 [==============================] - 0s 44ms/step - loss: 0.3839 - accuracy: 0.8824 - val_loss: 0.3407 - val_accuracy: 0.8984\n",
            "Epoch 38/100\n",
            "7/7 [==============================] - 0s 43ms/step - loss: 0.3820 - accuracy: 0.8824 - val_loss: 0.3403 - val_accuracy: 0.8984\n",
            "Epoch 39/100\n",
            "7/7 [==============================] - 0s 43ms/step - loss: 0.3638 - accuracy: 0.8824 - val_loss: 0.3393 - val_accuracy: 0.8984\n",
            "Epoch 40/100\n",
            "7/7 [==============================] - 0s 44ms/step - loss: 0.4009 - accuracy: 0.8824 - val_loss: 0.3396 - val_accuracy: 0.8984\n",
            "Epoch 41/100\n",
            "7/7 [==============================] - 0s 42ms/step - loss: 0.3844 - accuracy: 0.8824 - val_loss: 0.3390 - val_accuracy: 0.8984\n",
            "Epoch 42/100\n",
            "7/7 [==============================] - 0s 42ms/step - loss: 0.3807 - accuracy: 0.8824 - val_loss: 0.3389 - val_accuracy: 0.8984\n",
            "Epoch 43/100\n",
            "7/7 [==============================] - 0s 43ms/step - loss: 0.3807 - accuracy: 0.8824 - val_loss: 0.3385 - val_accuracy: 0.8984\n",
            "Epoch 44/100\n",
            "7/7 [==============================] - 0s 44ms/step - loss: 0.3780 - accuracy: 0.8824 - val_loss: 0.3383 - val_accuracy: 0.8984\n",
            "Epoch 45/100\n",
            "7/7 [==============================] - 0s 43ms/step - loss: 0.3606 - accuracy: 0.8824 - val_loss: 0.3382 - val_accuracy: 0.8984\n",
            "Epoch 46/100\n",
            "7/7 [==============================] - 0s 42ms/step - loss: 0.3733 - accuracy: 0.8824 - val_loss: 0.3378 - val_accuracy: 0.8984\n",
            "Epoch 47/100\n",
            "7/7 [==============================] - 0s 45ms/step - loss: 0.3900 - accuracy: 0.8824 - val_loss: 0.3374 - val_accuracy: 0.8984\n",
            "Epoch 48/100\n",
            "7/7 [==============================] - 0s 43ms/step - loss: 0.3939 - accuracy: 0.8824 - val_loss: 0.3374 - val_accuracy: 0.8984\n",
            "Epoch 49/100\n",
            "7/7 [==============================] - 0s 43ms/step - loss: 0.3737 - accuracy: 0.8824 - val_loss: 0.3373 - val_accuracy: 0.8984\n",
            "Epoch 50/100\n",
            "7/7 [==============================] - 0s 44ms/step - loss: 0.3738 - accuracy: 0.8824 - val_loss: 0.3371 - val_accuracy: 0.8984\n",
            "Epoch 51/100\n",
            "7/7 [==============================] - 0s 42ms/step - loss: 0.3754 - accuracy: 0.8824 - val_loss: 0.3370 - val_accuracy: 0.8984\n",
            "Epoch 52/100\n",
            "7/7 [==============================] - 0s 44ms/step - loss: 0.3865 - accuracy: 0.8824 - val_loss: 0.3371 - val_accuracy: 0.8984\n",
            "Epoch 53/100\n",
            "7/7 [==============================] - 0s 44ms/step - loss: 0.3854 - accuracy: 0.8824 - val_loss: 0.3368 - val_accuracy: 0.8984\n",
            "Epoch 54/100\n",
            "7/7 [==============================] - 0s 45ms/step - loss: 0.3784 - accuracy: 0.8824 - val_loss: 0.3368 - val_accuracy: 0.8984\n",
            "Epoch 55/100\n",
            "7/7 [==============================] - 0s 44ms/step - loss: 0.3866 - accuracy: 0.8824 - val_loss: 0.3367 - val_accuracy: 0.8984\n",
            "Epoch 56/100\n",
            "7/7 [==============================] - 0s 43ms/step - loss: 0.3794 - accuracy: 0.8824 - val_loss: 0.3369 - val_accuracy: 0.8984\n",
            "Epoch 57/100\n",
            "7/7 [==============================] - 0s 45ms/step - loss: 0.3792 - accuracy: 0.8824 - val_loss: 0.3366 - val_accuracy: 0.8984\n",
            "Epoch 58/100\n",
            "7/7 [==============================] - 0s 42ms/step - loss: 0.3802 - accuracy: 0.8824 - val_loss: 0.3363 - val_accuracy: 0.8984\n",
            "Epoch 59/100\n",
            "7/7 [==============================] - 0s 42ms/step - loss: 0.3767 - accuracy: 0.8824 - val_loss: 0.3361 - val_accuracy: 0.8984\n",
            "Epoch 60/100\n",
            "7/7 [==============================] - 0s 43ms/step - loss: 0.3873 - accuracy: 0.8824 - val_loss: 0.3362 - val_accuracy: 0.8984\n",
            "Epoch 61/100\n",
            "7/7 [==============================] - 0s 44ms/step - loss: 0.3863 - accuracy: 0.8824 - val_loss: 0.3362 - val_accuracy: 0.8984\n",
            "Epoch 62/100\n",
            "7/7 [==============================] - 0s 43ms/step - loss: 0.3783 - accuracy: 0.8824 - val_loss: 0.3363 - val_accuracy: 0.8984\n",
            "Epoch 63/100\n",
            "7/7 [==============================] - 0s 43ms/step - loss: 0.3702 - accuracy: 0.8824 - val_loss: 0.3362 - val_accuracy: 0.8984\n",
            "Epoch 64/100\n",
            "7/7 [==============================] - 0s 45ms/step - loss: 0.3771 - accuracy: 0.8824 - val_loss: 0.3358 - val_accuracy: 0.8984\n",
            "Epoch 65/100\n",
            "7/7 [==============================] - 0s 45ms/step - loss: 0.3717 - accuracy: 0.8824 - val_loss: 0.3354 - val_accuracy: 0.8984\n",
            "Epoch 66/100\n",
            "7/7 [==============================] - 0s 46ms/step - loss: 0.3978 - accuracy: 0.8824 - val_loss: 0.3356 - val_accuracy: 0.8984\n",
            "Epoch 67/100\n",
            "7/7 [==============================] - 0s 45ms/step - loss: 0.3783 - accuracy: 0.8824 - val_loss: 0.3355 - val_accuracy: 0.8984\n",
            "Epoch 68/100\n",
            "7/7 [==============================] - 0s 44ms/step - loss: 0.3949 - accuracy: 0.8824 - val_loss: 0.3354 - val_accuracy: 0.8984\n",
            "Epoch 69/100\n",
            "7/7 [==============================] - 0s 43ms/step - loss: 0.3766 - accuracy: 0.8824 - val_loss: 0.3353 - val_accuracy: 0.8984\n",
            "Epoch 70/100\n",
            "7/7 [==============================] - 0s 43ms/step - loss: 0.3685 - accuracy: 0.8824 - val_loss: 0.3355 - val_accuracy: 0.8984\n",
            "Epoch 71/100\n",
            "7/7 [==============================] - 0s 43ms/step - loss: 0.3686 - accuracy: 0.8824 - val_loss: 0.3351 - val_accuracy: 0.8984\n",
            "Epoch 72/100\n",
            "7/7 [==============================] - 0s 43ms/step - loss: 0.3910 - accuracy: 0.8824 - val_loss: 0.3353 - val_accuracy: 0.8984\n",
            "Epoch 73/100\n",
            "7/7 [==============================] - 0s 43ms/step - loss: 0.3770 - accuracy: 0.8824 - val_loss: 0.3353 - val_accuracy: 0.8984\n",
            "Epoch 74/100\n",
            "7/7 [==============================] - 0s 46ms/step - loss: 0.3762 - accuracy: 0.8824 - val_loss: 0.3354 - val_accuracy: 0.8984\n",
            "Epoch 75/100\n",
            "7/7 [==============================] - 0s 44ms/step - loss: 0.3663 - accuracy: 0.8824 - val_loss: 0.3351 - val_accuracy: 0.8984\n",
            "Epoch 76/100\n",
            "7/7 [==============================] - 0s 43ms/step - loss: 0.3587 - accuracy: 0.8824 - val_loss: 0.3349 - val_accuracy: 0.8984\n",
            "Epoch 77/100\n",
            "7/7 [==============================] - 0s 45ms/step - loss: 0.3600 - accuracy: 0.8824 - val_loss: 0.3347 - val_accuracy: 0.8984\n",
            "Epoch 78/100\n",
            "7/7 [==============================] - 0s 43ms/step - loss: 0.3736 - accuracy: 0.8824 - val_loss: 0.3348 - val_accuracy: 0.8984\n",
            "Epoch 79/100\n",
            "7/7 [==============================] - 0s 43ms/step - loss: 0.3665 - accuracy: 0.8824 - val_loss: 0.3345 - val_accuracy: 0.8984\n",
            "Epoch 80/100\n",
            "7/7 [==============================] - 0s 42ms/step - loss: 0.3635 - accuracy: 0.8824 - val_loss: 0.3344 - val_accuracy: 0.8984\n",
            "Epoch 81/100\n",
            "7/7 [==============================] - 0s 46ms/step - loss: 0.3867 - accuracy: 0.8824 - val_loss: 0.3345 - val_accuracy: 0.8984\n",
            "Epoch 82/100\n",
            "7/7 [==============================] - 0s 44ms/step - loss: 0.3736 - accuracy: 0.8824 - val_loss: 0.3343 - val_accuracy: 0.8984\n",
            "Epoch 83/100\n",
            "7/7 [==============================] - 0s 43ms/step - loss: 0.3601 - accuracy: 0.8824 - val_loss: 0.3343 - val_accuracy: 0.8984\n",
            "Epoch 84/100\n",
            "7/7 [==============================] - 0s 45ms/step - loss: 0.3796 - accuracy: 0.8824 - val_loss: 0.3344 - val_accuracy: 0.8984\n",
            "Epoch 85/100\n",
            "7/7 [==============================] - 0s 43ms/step - loss: 0.3723 - accuracy: 0.8824 - val_loss: 0.3346 - val_accuracy: 0.8984\n",
            "Epoch 86/100\n",
            "7/7 [==============================] - 0s 43ms/step - loss: 0.3860 - accuracy: 0.8824 - val_loss: 0.3346 - val_accuracy: 0.8984\n",
            "Epoch 87/100\n",
            "7/7 [==============================] - 0s 42ms/step - loss: 0.3632 - accuracy: 0.8824 - val_loss: 0.3342 - val_accuracy: 0.8984\n",
            "Epoch 88/100\n",
            "7/7 [==============================] - 0s 44ms/step - loss: 0.3801 - accuracy: 0.8824 - val_loss: 0.3341 - val_accuracy: 0.8984\n",
            "Epoch 89/100\n",
            "7/7 [==============================] - 0s 42ms/step - loss: 0.3759 - accuracy: 0.8824 - val_loss: 0.3341 - val_accuracy: 0.8984\n",
            "Epoch 90/100\n",
            "7/7 [==============================] - 0s 42ms/step - loss: 0.3937 - accuracy: 0.8824 - val_loss: 0.3342 - val_accuracy: 0.8984\n",
            "Epoch 91/100\n",
            "7/7 [==============================] - 0s 46ms/step - loss: 0.3732 - accuracy: 0.8824 - val_loss: 0.3342 - val_accuracy: 0.8984\n",
            "Epoch 92/100\n",
            "7/7 [==============================] - 0s 43ms/step - loss: 0.3870 - accuracy: 0.8824 - val_loss: 0.3345 - val_accuracy: 0.8984\n",
            "Epoch 93/100\n",
            "7/7 [==============================] - 0s 43ms/step - loss: 0.3769 - accuracy: 0.8824 - val_loss: 0.3344 - val_accuracy: 0.8984\n",
            "Epoch 94/100\n",
            "7/7 [==============================] - 0s 46ms/step - loss: 0.3725 - accuracy: 0.8824 - val_loss: 0.3344 - val_accuracy: 0.8984\n",
            "Epoch 95/100\n",
            "7/7 [==============================] - 0s 44ms/step - loss: 0.3755 - accuracy: 0.8824 - val_loss: 0.3345 - val_accuracy: 0.8984\n",
            "Epoch 96/100\n",
            "7/7 [==============================] - 0s 44ms/step - loss: 0.3807 - accuracy: 0.8824 - val_loss: 0.3345 - val_accuracy: 0.8984\n",
            "Epoch 97/100\n",
            "7/7 [==============================] - 0s 46ms/step - loss: 0.3915 - accuracy: 0.8824 - val_loss: 0.3348 - val_accuracy: 0.8984\n",
            "Epoch 98/100\n",
            "7/7 [==============================] - 0s 43ms/step - loss: 0.3817 - accuracy: 0.8824 - val_loss: 0.3348 - val_accuracy: 0.8984\n",
            "Epoch 99/100\n",
            "7/7 [==============================] - 0s 45ms/step - loss: 0.3560 - accuracy: 0.8824 - val_loss: 0.3348 - val_accuracy: 0.8984\n",
            "Epoch 100/100\n",
            "7/7 [==============================] - 0s 43ms/step - loss: 0.3734 - accuracy: 0.8824 - val_loss: 0.3348 - val_accuracy: 0.8984\n"
          ]
        }
      ]
    },
    {
      "cell_type": "code",
      "source": [
        "target_names = pd.Categorical(df_indian['diet']).categories"
      ],
      "metadata": {
        "id": "Mww-4sjseAh9"
      },
      "execution_count": null,
      "outputs": []
    },
    {
      "cell_type": "code",
      "source": [
        "y_prob = model.predict(X_test_glove_padded)\n",
        "y_pred = np.argmax(y_prob,axis=1)\n",
        "print(classification_report(y_test_int,y_pred, target_names=target_names, zero_division=1))"
      ],
      "metadata": {
        "id": "kueSZDELeAh9",
        "colab": {
          "base_uri": "https://localhost:8080/"
        },
        "outputId": "bfebac40-d0dc-4023-ebf5-7433f129b217"
      },
      "execution_count": null,
      "outputs": [
        {
          "output_type": "stream",
          "name": "stdout",
          "text": [
            "                precision    recall  f1-score   support\n",
            "\n",
            "non vegetarian       1.00      0.00      0.00        16\n",
            "    vegetarian       0.87      1.00      0.93       111\n",
            "\n",
            "      accuracy                           0.87       127\n",
            "     macro avg       0.94      0.50      0.47       127\n",
            "  weighted avg       0.89      0.87      0.82       127\n",
            "\n"
          ]
        }
      ]
    },
    {
      "cell_type": "code",
      "source": [
        "plt.plot(history_fine.history['loss'])\n",
        "plt.plot(history_fine.history['val_loss'])\n",
        "plt.title('model loss')\n",
        "plt.ylabel('loss')\n",
        "plt.xlabel('epoch')\n",
        "plt.legend(['training set','validation set'], loc='upper left')\n",
        "plt.savefig('figs/loss_lstm_glv.eps', format='eps')\n",
        "plt.show()"
      ],
      "metadata": {
        "id": "E-dv1MRdeAh9",
        "colab": {
          "base_uri": "https://localhost:8080/",
          "height": 312
        },
        "outputId": "0da513d7-4df3-4a50-d9d6-22584b07a5f6"
      },
      "execution_count": null,
      "outputs": [
        {
          "output_type": "display_data",
          "data": {
            "text/plain": [
              "<Figure size 432x288 with 1 Axes>"
            ],
            "image/png": "[encoded data removed]"
          },
          "metadata": {
            "needs_background": "light"
          }
        },
        {
          "output_type": "display_data",
          "data": {
            "text/plain": [
              "<Figure size 432x288 with 0 Axes>"
            ]
          },
          "metadata": {}
        }
      ]
    },
    {
      "cell_type": "code",
      "source": [
        "plt.plot(history_fine.history['accuracy'])\n",
        "plt.plot(history_fine.history['val_accuracy'])\n",
        "plt.title('model accuracy')\n",
        "plt.ylabel('accuracy')\n",
        "plt.xlabel('epoch')\n",
        "plt.legend(['training set','validation set'], loc='upper left')\n",
        "plt.savefig('figs/acc_lstm_glv.eps', format='eps')\n",
        "plt.show()"
      ],
      "metadata": {
        "id": "r4SA0IozeAh9",
        "colab": {
          "base_uri": "https://localhost:8080/",
          "height": 312
        },
        "outputId": "43430a3f-c54b-4724-8c95-7e4a1b252813"
      },
      "execution_count": null,
      "outputs": [
        {
          "output_type": "display_data",
          "data": {
            "text/plain": [
              "<Figure size 432x288 with 1 Axes>"
            ],
            "image/png": "[encoded data removed]"
          },
          "metadata": {
            "needs_background": "light"
          }
        },
        {
          "output_type": "display_data",
          "data": {
            "text/plain": [
              "<Figure size 432x288 with 0 Axes>"
            ]
          },
          "metadata": {}
        }
      ]
    },
    {
      "cell_type": "code",
      "source": [
        "disp = ConfusionMatrixDisplay.from_predictions(y_test_int, y_pred)\n",
        "fig = disp.ax_.get_figure()  \n",
        "fig.set_figwidth(5) \n",
        "fig.set_figheight(5)\n",
        "plt.savefig('figs/matrixconf_lstm_glv.eps', format='eps')\n",
        "plt.show()"
      ],
      "metadata": {
        "id": "bw39O7WIeAh9",
        "colab": {
          "base_uri": "https://localhost:8080/",
          "height": 309
        },
        "outputId": "597ac140-8305-4cd4-c859-54876aaeb76d"
      },
      "execution_count": null,
      "outputs": [
        {
          "output_type": "display_data",
          "data": {
            "text/plain": [
              "<Figure size 360x360 with 2 Axes>"
            ],
            "image/png": "[encoded data removed]"
          },
          "metadata": {
            "needs_background": "light"
          }
        }
      ]
    }
  ]
}