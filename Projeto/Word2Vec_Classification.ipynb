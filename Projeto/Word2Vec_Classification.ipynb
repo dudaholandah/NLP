{
  "nbformat": 4,
  "nbformat_minor": 0,
  "metadata": {
    "colab": {
      "provenance": [],
      "collapsed_sections": [
        "WcLihi-R1K51",
        "7ykGfuKI1Qza",
        "VNAfDGAw1lC2",
        "J_mqxjOc19Hf",
        "W7JGhM5exbF3",
        "KKSQ-tNSxhf7",
        "J-FJCLP-bOqe",
        "zjnrlH62yWnQ",
        "LlVWjOrTCIF-"
      ],
      "toc_visible": true,
      "authorship_tag": "ABX9TyPxJV/wXW1WpOWJgi5PJbIy",
      "include_colab_link": true
    },
    "kernelspec": {
      "name": "python3",
      "display_name": "Python 3"
    },
    "language_info": {
      "name": "python"
    }
  },
  "cells": [
    {
      "cell_type": "markdown",
      "metadata": {
        "id": "view-in-github",
        "colab_type": "text"
      },
      "source": [
        "<a href=\"https://colab.research.google.com/github/dudaholandah/NLP/blob/main/Projeto/Word2Vec_Classification.ipynb\" target=\"_parent\"><img src=\"https://colab.research.google.com/assets/colab-badge.svg\" alt=\"Open In Colab\"/></a>"
      ]
    },
    {
      "cell_type": "markdown",
      "source": [
        "# Google Drive"
      ],
      "metadata": {
        "id": "WcLihi-R1K51"
      }
    },
    {
      "cell_type": "code",
      "execution_count": null,
      "metadata": {
        "id": "HF2bJKuw07dg"
      },
      "outputs": [],
      "source": [
        "from google.colab import drive\n",
        "drive.mount('/content/drive')"
      ]
    },
    {
      "cell_type": "code",
      "source": [
        "!cp -r '/content/drive/MyDrive/Datasets/cuisine-classification-ingredients' 'cuisine-classification-ingredients'"
      ],
      "metadata": {
        "id": "sFVXDnEj1ISk"
      },
      "execution_count": 2,
      "outputs": []
    },
    {
      "cell_type": "code",
      "source": [
        "!cp -r '/content/drive/MyDrive/Datasets/indian-food' 'indian-food'"
      ],
      "metadata": {
        "id": "VQNclFZ91Jop"
      },
      "execution_count": 3,
      "outputs": []
    },
    {
      "cell_type": "markdown",
      "source": [
        "# Imports"
      ],
      "metadata": {
        "id": "7ykGfuKI1Qza"
      }
    },
    {
      "cell_type": "code",
      "source": [
        "!pip install gensim --upgrade\n",
        "!pip install keras\n",
        "!pip install tensorflow\n",
        "!pip install keras-tuner --upgrade"
      ],
      "metadata": {
        "colab": {
          "base_uri": "https://localhost:8080/"
        },
        "id": "SwIN9CAP1Rwu",
        "outputId": "bcc3fa9b-e1b4-406e-c315-1e54257b4182"
      },
      "execution_count": 1,
      "outputs": [
        {
          "output_type": "stream",
          "name": "stdout",
          "text": [
            "Looking in indexes: https://pypi.org/simple, https://us-python.pkg.dev/colab-wheels/public/simple/\n",
            "Requirement already satisfied: gensim in /usr/local/lib/python3.7/dist-packages (4.2.0)\n",
            "Requirement already satisfied: scipy>=0.18.1 in /usr/local/lib/python3.7/dist-packages (from gensim) (1.7.3)\n",
            "Requirement already satisfied: smart-open>=1.8.1 in /usr/local/lib/python3.7/dist-packages (from gensim) (5.2.1)\n",
            "Requirement already satisfied: numpy>=1.17.0 in /usr/local/lib/python3.7/dist-packages (from gensim) (1.21.6)\n",
            "Looking in indexes: https://pypi.org/simple, https://us-python.pkg.dev/colab-wheels/public/simple/\n",
            "Requirement already satisfied: keras in /usr/local/lib/python3.7/dist-packages (2.8.0)\n",
            "Looking in indexes: https://pypi.org/simple, https://us-python.pkg.dev/colab-wheels/public/simple/\n",
            "Requirement already satisfied: tensorflow in /usr/local/lib/python3.7/dist-packages (2.8.2+zzzcolab20220719082949)\n",
            "Requirement already satisfied: typing-extensions>=3.6.6 in /usr/local/lib/python3.7/dist-packages (from tensorflow) (4.1.1)\n",
            "Requirement already satisfied: numpy>=1.20 in /usr/local/lib/python3.7/dist-packages (from tensorflow) (1.21.6)\n",
            "Requirement already satisfied: absl-py>=0.4.0 in /usr/local/lib/python3.7/dist-packages (from tensorflow) (1.2.0)\n",
            "Requirement already satisfied: termcolor>=1.1.0 in /usr/local/lib/python3.7/dist-packages (from tensorflow) (1.1.0)\n",
            "Requirement already satisfied: setuptools in /usr/local/lib/python3.7/dist-packages (from tensorflow) (57.4.0)\n",
            "Requirement already satisfied: protobuf<3.20,>=3.9.2 in /usr/local/lib/python3.7/dist-packages (from tensorflow) (3.17.3)\n",
            "Requirement already satisfied: six>=1.12.0 in /usr/local/lib/python3.7/dist-packages (from tensorflow) (1.15.0)\n",
            "Requirement already satisfied: wrapt>=1.11.0 in /usr/local/lib/python3.7/dist-packages (from tensorflow) (1.14.1)\n",
            "Requirement already satisfied: tensorflow-io-gcs-filesystem>=0.23.1 in /usr/local/lib/python3.7/dist-packages (from tensorflow) (0.26.0)\n",
            "Requirement already satisfied: astunparse>=1.6.0 in /usr/local/lib/python3.7/dist-packages (from tensorflow) (1.6.3)\n",
            "Requirement already satisfied: tensorboard<2.9,>=2.8 in /usr/local/lib/python3.7/dist-packages (from tensorflow) (2.8.0)\n",
            "Requirement already satisfied: opt-einsum>=2.3.2 in /usr/local/lib/python3.7/dist-packages (from tensorflow) (3.3.0)\n",
            "Requirement already satisfied: keras<2.9,>=2.8.0rc0 in /usr/local/lib/python3.7/dist-packages (from tensorflow) (2.8.0)\n",
            "Requirement already satisfied: gast>=0.2.1 in /usr/local/lib/python3.7/dist-packages (from tensorflow) (0.5.3)\n",
            "Requirement already satisfied: h5py>=2.9.0 in /usr/local/lib/python3.7/dist-packages (from tensorflow) (3.1.0)\n",
            "Requirement already satisfied: keras-preprocessing>=1.1.1 in /usr/local/lib/python3.7/dist-packages (from tensorflow) (1.1.2)\n",
            "Requirement already satisfied: grpcio<2.0,>=1.24.3 in /usr/local/lib/python3.7/dist-packages (from tensorflow) (1.48.1)\n",
            "Requirement already satisfied: flatbuffers>=1.12 in /usr/local/lib/python3.7/dist-packages (from tensorflow) (2.0.7)\n",
            "Requirement already satisfied: google-pasta>=0.1.1 in /usr/local/lib/python3.7/dist-packages (from tensorflow) (0.2.0)\n",
            "Requirement already satisfied: libclang>=9.0.1 in /usr/local/lib/python3.7/dist-packages (from tensorflow) (14.0.6)\n",
            "Requirement already satisfied: tensorflow-estimator<2.9,>=2.8 in /usr/local/lib/python3.7/dist-packages (from tensorflow) (2.8.0)\n",
            "Requirement already satisfied: wheel<1.0,>=0.23.0 in /usr/local/lib/python3.7/dist-packages (from astunparse>=1.6.0->tensorflow) (0.37.1)\n",
            "Requirement already satisfied: cached-property in /usr/local/lib/python3.7/dist-packages (from h5py>=2.9.0->tensorflow) (1.5.2)\n",
            "Requirement already satisfied: google-auth-oauthlib<0.5,>=0.4.1 in /usr/local/lib/python3.7/dist-packages (from tensorboard<2.9,>=2.8->tensorflow) (0.4.6)\n",
            "Requirement already satisfied: werkzeug>=0.11.15 in /usr/local/lib/python3.7/dist-packages (from tensorboard<2.9,>=2.8->tensorflow) (1.0.1)\n",
            "Requirement already satisfied: tensorboard-data-server<0.7.0,>=0.6.0 in /usr/local/lib/python3.7/dist-packages (from tensorboard<2.9,>=2.8->tensorflow) (0.6.1)\n",
            "Requirement already satisfied: markdown>=2.6.8 in /usr/local/lib/python3.7/dist-packages (from tensorboard<2.9,>=2.8->tensorflow) (3.4.1)\n",
            "Requirement already satisfied: requests<3,>=2.21.0 in /usr/local/lib/python3.7/dist-packages (from tensorboard<2.9,>=2.8->tensorflow) (2.23.0)\n",
            "Requirement already satisfied: tensorboard-plugin-wit>=1.6.0 in /usr/local/lib/python3.7/dist-packages (from tensorboard<2.9,>=2.8->tensorflow) (1.8.1)\n",
            "Requirement already satisfied: google-auth<3,>=1.6.3 in /usr/local/lib/python3.7/dist-packages (from tensorboard<2.9,>=2.8->tensorflow) (1.35.0)\n",
            "Requirement already satisfied: cachetools<5.0,>=2.0.0 in /usr/local/lib/python3.7/dist-packages (from google-auth<3,>=1.6.3->tensorboard<2.9,>=2.8->tensorflow) (4.2.4)\n",
            "Requirement already satisfied: pyasn1-modules>=0.2.1 in /usr/local/lib/python3.7/dist-packages (from google-auth<3,>=1.6.3->tensorboard<2.9,>=2.8->tensorflow) (0.2.8)\n",
            "Requirement already satisfied: rsa<5,>=3.1.4 in /usr/local/lib/python3.7/dist-packages (from google-auth<3,>=1.6.3->tensorboard<2.9,>=2.8->tensorflow) (4.9)\n",
            "Requirement already satisfied: requests-oauthlib>=0.7.0 in /usr/local/lib/python3.7/dist-packages (from google-auth-oauthlib<0.5,>=0.4.1->tensorboard<2.9,>=2.8->tensorflow) (1.3.1)\n",
            "Requirement already satisfied: importlib-metadata>=4.4 in /usr/local/lib/python3.7/dist-packages (from markdown>=2.6.8->tensorboard<2.9,>=2.8->tensorflow) (4.12.0)\n",
            "Requirement already satisfied: zipp>=0.5 in /usr/local/lib/python3.7/dist-packages (from importlib-metadata>=4.4->markdown>=2.6.8->tensorboard<2.9,>=2.8->tensorflow) (3.8.1)\n",
            "Requirement already satisfied: pyasn1<0.5.0,>=0.4.6 in /usr/local/lib/python3.7/dist-packages (from pyasn1-modules>=0.2.1->google-auth<3,>=1.6.3->tensorboard<2.9,>=2.8->tensorflow) (0.4.8)\n",
            "Requirement already satisfied: chardet<4,>=3.0.2 in /usr/local/lib/python3.7/dist-packages (from requests<3,>=2.21.0->tensorboard<2.9,>=2.8->tensorflow) (3.0.4)\n",
            "Requirement already satisfied: idna<3,>=2.5 in /usr/local/lib/python3.7/dist-packages (from requests<3,>=2.21.0->tensorboard<2.9,>=2.8->tensorflow) (2.10)\n",
            "Requirement already satisfied: urllib3!=1.25.0,!=1.25.1,<1.26,>=1.21.1 in /usr/local/lib/python3.7/dist-packages (from requests<3,>=2.21.0->tensorboard<2.9,>=2.8->tensorflow) (1.24.3)\n",
            "Requirement already satisfied: certifi>=2017.4.17 in /usr/local/lib/python3.7/dist-packages (from requests<3,>=2.21.0->tensorboard<2.9,>=2.8->tensorflow) (2022.6.15)\n",
            "Requirement already satisfied: oauthlib>=3.0.0 in /usr/local/lib/python3.7/dist-packages (from requests-oauthlib>=0.7.0->google-auth-oauthlib<0.5,>=0.4.1->tensorboard<2.9,>=2.8->tensorflow) (3.2.0)\n",
            "Looking in indexes: https://pypi.org/simple, https://us-python.pkg.dev/colab-wheels/public/simple/\n",
            "Requirement already satisfied: keras-tuner in /usr/local/lib/python3.7/dist-packages (1.1.3)\n",
            "Requirement already satisfied: packaging in /usr/local/lib/python3.7/dist-packages (from keras-tuner) (21.3)\n",
            "Requirement already satisfied: tensorboard in /usr/local/lib/python3.7/dist-packages (from keras-tuner) (2.8.0)\n",
            "Requirement already satisfied: ipython in /usr/local/lib/python3.7/dist-packages (from keras-tuner) (7.9.0)\n",
            "Requirement already satisfied: numpy in /usr/local/lib/python3.7/dist-packages (from keras-tuner) (1.21.6)\n",
            "Requirement already satisfied: requests in /usr/local/lib/python3.7/dist-packages (from keras-tuner) (2.23.0)\n",
            "Requirement already satisfied: kt-legacy in /usr/local/lib/python3.7/dist-packages (from keras-tuner) (1.0.4)\n",
            "Requirement already satisfied: prompt-toolkit<2.1.0,>=2.0.0 in /usr/local/lib/python3.7/dist-packages (from ipython->keras-tuner) (2.0.10)\n",
            "Requirement already satisfied: pygments in /usr/local/lib/python3.7/dist-packages (from ipython->keras-tuner) (2.6.1)\n",
            "Requirement already satisfied: backcall in /usr/local/lib/python3.7/dist-packages (from ipython->keras-tuner) (0.2.0)\n",
            "Requirement already satisfied: pexpect in /usr/local/lib/python3.7/dist-packages (from ipython->keras-tuner) (4.8.0)\n",
            "Requirement already satisfied: pickleshare in /usr/local/lib/python3.7/dist-packages (from ipython->keras-tuner) (0.7.5)\n",
            "Requirement already satisfied: jedi>=0.10 in /usr/local/lib/python3.7/dist-packages (from ipython->keras-tuner) (0.18.1)\n",
            "Requirement already satisfied: traitlets>=4.2 in /usr/local/lib/python3.7/dist-packages (from ipython->keras-tuner) (5.1.1)\n",
            "Requirement already satisfied: setuptools>=18.5 in /usr/local/lib/python3.7/dist-packages (from ipython->keras-tuner) (57.4.0)\n",
            "Requirement already satisfied: decorator in /usr/local/lib/python3.7/dist-packages (from ipython->keras-tuner) (4.4.2)\n",
            "Requirement already satisfied: parso<0.9.0,>=0.8.0 in /usr/local/lib/python3.7/dist-packages (from jedi>=0.10->ipython->keras-tuner) (0.8.3)\n",
            "Requirement already satisfied: six>=1.9.0 in /usr/local/lib/python3.7/dist-packages (from prompt-toolkit<2.1.0,>=2.0.0->ipython->keras-tuner) (1.15.0)\n",
            "Requirement already satisfied: wcwidth in /usr/local/lib/python3.7/dist-packages (from prompt-toolkit<2.1.0,>=2.0.0->ipython->keras-tuner) (0.2.5)\n",
            "Requirement already satisfied: pyparsing!=3.0.5,>=2.0.2 in /usr/local/lib/python3.7/dist-packages (from packaging->keras-tuner) (3.0.9)\n",
            "Requirement already satisfied: ptyprocess>=0.5 in /usr/local/lib/python3.7/dist-packages (from pexpect->ipython->keras-tuner) (0.7.0)\n",
            "Requirement already satisfied: certifi>=2017.4.17 in /usr/local/lib/python3.7/dist-packages (from requests->keras-tuner) (2022.6.15)\n",
            "Requirement already satisfied: chardet<4,>=3.0.2 in /usr/local/lib/python3.7/dist-packages (from requests->keras-tuner) (3.0.4)\n",
            "Requirement already satisfied: urllib3!=1.25.0,!=1.25.1,<1.26,>=1.21.1 in /usr/local/lib/python3.7/dist-packages (from requests->keras-tuner) (1.24.3)\n",
            "Requirement already satisfied: idna<3,>=2.5 in /usr/local/lib/python3.7/dist-packages (from requests->keras-tuner) (2.10)\n",
            "Requirement already satisfied: wheel>=0.26 in /usr/local/lib/python3.7/dist-packages (from tensorboard->keras-tuner) (0.37.1)\n",
            "Requirement already satisfied: google-auth-oauthlib<0.5,>=0.4.1 in /usr/local/lib/python3.7/dist-packages (from tensorboard->keras-tuner) (0.4.6)\n",
            "Requirement already satisfied: werkzeug>=0.11.15 in /usr/local/lib/python3.7/dist-packages (from tensorboard->keras-tuner) (1.0.1)\n",
            "Requirement already satisfied: markdown>=2.6.8 in /usr/local/lib/python3.7/dist-packages (from tensorboard->keras-tuner) (3.4.1)\n",
            "Requirement already satisfied: tensorboard-plugin-wit>=1.6.0 in /usr/local/lib/python3.7/dist-packages (from tensorboard->keras-tuner) (1.8.1)\n",
            "Requirement already satisfied: absl-py>=0.4 in /usr/local/lib/python3.7/dist-packages (from tensorboard->keras-tuner) (1.2.0)\n",
            "Requirement already satisfied: google-auth<3,>=1.6.3 in /usr/local/lib/python3.7/dist-packages (from tensorboard->keras-tuner) (1.35.0)\n",
            "Requirement already satisfied: protobuf>=3.6.0 in /usr/local/lib/python3.7/dist-packages (from tensorboard->keras-tuner) (3.17.3)\n",
            "Requirement already satisfied: tensorboard-data-server<0.7.0,>=0.6.0 in /usr/local/lib/python3.7/dist-packages (from tensorboard->keras-tuner) (0.6.1)\n",
            "Requirement already satisfied: grpcio>=1.24.3 in /usr/local/lib/python3.7/dist-packages (from tensorboard->keras-tuner) (1.48.1)\n",
            "Requirement already satisfied: pyasn1-modules>=0.2.1 in /usr/local/lib/python3.7/dist-packages (from google-auth<3,>=1.6.3->tensorboard->keras-tuner) (0.2.8)\n",
            "Requirement already satisfied: rsa<5,>=3.1.4 in /usr/local/lib/python3.7/dist-packages (from google-auth<3,>=1.6.3->tensorboard->keras-tuner) (4.9)\n",
            "Requirement already satisfied: cachetools<5.0,>=2.0.0 in /usr/local/lib/python3.7/dist-packages (from google-auth<3,>=1.6.3->tensorboard->keras-tuner) (4.2.4)\n",
            "Requirement already satisfied: requests-oauthlib>=0.7.0 in /usr/local/lib/python3.7/dist-packages (from google-auth-oauthlib<0.5,>=0.4.1->tensorboard->keras-tuner) (1.3.1)\n",
            "Requirement already satisfied: importlib-metadata>=4.4 in /usr/local/lib/python3.7/dist-packages (from markdown>=2.6.8->tensorboard->keras-tuner) (4.12.0)\n",
            "Requirement already satisfied: zipp>=0.5 in /usr/local/lib/python3.7/dist-packages (from importlib-metadata>=4.4->markdown>=2.6.8->tensorboard->keras-tuner) (3.8.1)\n",
            "Requirement already satisfied: typing-extensions>=3.6.4 in /usr/local/lib/python3.7/dist-packages (from importlib-metadata>=4.4->markdown>=2.6.8->tensorboard->keras-tuner) (4.1.1)\n",
            "Requirement already satisfied: pyasn1<0.5.0,>=0.4.6 in /usr/local/lib/python3.7/dist-packages (from pyasn1-modules>=0.2.1->google-auth<3,>=1.6.3->tensorboard->keras-tuner) (0.4.8)\n",
            "Requirement already satisfied: oauthlib>=3.0.0 in /usr/local/lib/python3.7/dist-packages (from requests-oauthlib>=0.7.0->google-auth-oauthlib<0.5,>=0.4.1->tensorboard->keras-tuner) (3.2.0)\n"
          ]
        }
      ]
    },
    {
      "cell_type": "code",
      "source": [
        "#WORD2VEC\n",
        "from gensim.models import Word2Vec\n",
        "import nltk\n",
        "from tensorflow.keras.preprocessing.text import Tokenizer\n",
        "from tensorflow.keras.preprocessing.sequence import pad_sequences\n",
        "nltk.download('punkt')\n",
        "#Neural Network\n",
        "import keras_tuner as kt\n",
        "from tensorflow import keras\n",
        "from keras.models import Sequential\n",
        "from keras.layers import Dense,Conv1D,Embedding,GlobalMaxPooling1D,MaxPooling1D,Activation,Flatten,SimpleRNN,Dropout,Input\n",
        "from sklearn.feature_extraction.text import TfidfVectorizer\n",
        "from tensorflow.keras.optimizers import SGD\n",
        "from keras_tuner import HyperModel\n",
        "import matplotlib.pyplot as plt\n",
        "from sklearn.metrics import classification_report\n",
        "from sklearn.metrics import ConfusionMatrixDisplay\n",
        "#Data\n",
        "import json\n",
        "import os\n",
        "import pandas as pd\n",
        "import re\n",
        "import numpy as np\n",
        "from sklearn.model_selection import train_test_split\n",
        "from keras.utils.np_utils import to_categorical"
      ],
      "metadata": {
        "colab": {
          "base_uri": "https://localhost:8080/"
        },
        "id": "-chQxYTs1eCT",
        "outputId": "d1eddda7-8772-4b21-e0b8-3656b90eb255"
      },
      "execution_count": 2,
      "outputs": [
        {
          "output_type": "stream",
          "name": "stderr",
          "text": [
            "[nltk_data] Downloading package punkt to /root/nltk_data...\n",
            "[nltk_data]   Package punkt is already up-to-date!\n"
          ]
        }
      ]
    },
    {
      "cell_type": "markdown",
      "source": [
        "# Data"
      ],
      "metadata": {
        "id": "VNAfDGAw1lC2"
      }
    },
    {
      "cell_type": "markdown",
      "source": [
        "## Download"
      ],
      "metadata": {
        "id": "J_mqxjOc19Hf"
      }
    },
    {
      "cell_type": "markdown",
      "source": [
        "### Cuisine Classification Data"
      ],
      "metadata": {
        "id": "W7JGhM5exbF3"
      }
    },
    {
      "cell_type": "code",
      "execution_count": 3,
      "metadata": {
        "id": "5JjYIn_kNSjR"
      },
      "outputs": [],
      "source": [
        "path = 'cuisine-classification-ingredients/train.json'\n",
        "\n",
        "with open(path, 'r') as f:\n",
        "  json_file = json.load(f)"
      ]
    },
    {
      "cell_type": "code",
      "execution_count": 4,
      "metadata": {
        "id": "Gb4Ib7JJP2ux"
      },
      "outputs": [],
      "source": [
        "df_cuisine = pd.DataFrame(json_file, columns=['id', 'cuisine', 'ingredients'])"
      ]
    },
    {
      "cell_type": "code",
      "execution_count": 5,
      "metadata": {
        "id": "YIld3-hEQEc7"
      },
      "outputs": [],
      "source": [
        "df_cuisine = df_cuisine.drop(['id'], axis=1)"
      ]
    },
    {
      "cell_type": "code",
      "source": [
        "df_cuisine = df_cuisine[:1000]"
      ],
      "metadata": {
        "id": "Q5FvHXN9NQZ-"
      },
      "execution_count": 6,
      "outputs": []
    },
    {
      "cell_type": "code",
      "source": [
        "df_cuisine.head(5)"
      ],
      "metadata": {
        "colab": {
          "base_uri": "https://localhost:8080/",
          "height": 0
        },
        "id": "pCXadN5t_c1O",
        "outputId": "d103e5d7-1eee-44a5-82d6-73bd8019e19f"
      },
      "execution_count": 7,
      "outputs": [
        {
          "output_type": "execute_result",
          "data": {
            "text/plain": [
              "       cuisine                                        ingredients\n",
              "0        greek  [romaine lettuce, black olives, grape tomatoes...\n",
              "1  southern_us  [plain flour, ground pepper, salt, tomatoes, g...\n",
              "2     filipino  [eggs, pepper, salt, mayonaise, cooking oil, g...\n",
              "3       indian                [water, vegetable oil, wheat, salt]\n",
              "4       indian  [black pepper, shallots, cornflour, cayenne pe..."
            ],
            "text/html": [
              "\n",
              "  <div id=\"df-2b8281c2-d0ee-4e21-8aa2-391281a400d8\">\n",
              "    <div class=\"colab-df-container\">\n",
              "      <div>\n",
              "<style scoped>\n",
              "    .dataframe tbody tr th:only-of-type {\n",
              "        vertical-align: middle;\n",
              "    }\n",
              "\n",
              "    .dataframe tbody tr th {\n",
              "        vertical-align: top;\n",
              "    }\n",
              "\n",
              "    .dataframe thead th {\n",
              "        text-align: right;\n",
              "    }\n",
              "</style>\n",
              "<table border=\"1\" class=\"dataframe\">\n",
              "  <thead>\n",
              "    <tr style=\"text-align: right;\">\n",
              "      <th></th>\n",
              "      <th>cuisine</th>\n",
              "      <th>ingredients</th>\n",
              "    </tr>\n",
              "  </thead>\n",
              "  <tbody>\n",
              "    <tr>\n",
              "      <th>0</th>\n",
              "      <td>greek</td>\n",
              "      <td>[romaine lettuce, black olives, grape tomatoes...</td>\n",
              "    </tr>\n",
              "    <tr>\n",
              "      <th>1</th>\n",
              "      <td>southern_us</td>\n",
              "      <td>[plain flour, ground pepper, salt, tomatoes, g...</td>\n",
              "    </tr>\n",
              "    <tr>\n",
              "      <th>2</th>\n",
              "      <td>filipino</td>\n",
              "      <td>[eggs, pepper, salt, mayonaise, cooking oil, g...</td>\n",
              "    </tr>\n",
              "    <tr>\n",
              "      <th>3</th>\n",
              "      <td>indian</td>\n",
              "      <td>[water, vegetable oil, wheat, salt]</td>\n",
              "    </tr>\n",
              "    <tr>\n",
              "      <th>4</th>\n",
              "      <td>indian</td>\n",
              "      <td>[black pepper, shallots, cornflour, cayenne pe...</td>\n",
              "    </tr>\n",
              "  </tbody>\n",
              "</table>\n",
              "</div>\n",
              "      <button class=\"colab-df-convert\" onclick=\"convertToInteractive('df-2b8281c2-d0ee-4e21-8aa2-391281a400d8')\"\n",
              "              title=\"Convert this dataframe to an interactive table.\"\n",
              "              style=\"display:none;\">\n",
              "        \n",
              "  <svg xmlns=\"http://www.w3.org/2000/svg\" height=\"24px\"viewBox=\"0 0 24 24\"\n",
              "       width=\"24px\">\n",
              "    <path d=\"M0 0h24v24H0V0z\" fill=\"none\"/>\n",
              "    <path d=\"M18.56 5.44l.94 2.06.94-2.06 2.06-.94-2.06-.94-.94-2.06-.94 2.06-2.06.94zm-11 1L8.5 8.5l.94-2.06 2.06-.94-2.06-.94L8.5 2.5l-.94 2.06-2.06.94zm10 10l.94 2.06.94-2.06 2.06-.94-2.06-.94-.94-2.06-.94 2.06-2.06.94z\"/><path d=\"M17.41 7.96l-1.37-1.37c-.4-.4-.92-.59-1.43-.59-.52 0-1.04.2-1.43.59L10.3 9.45l-7.72 7.72c-.78.78-.78 2.05 0 2.83L4 21.41c.39.39.9.59 1.41.59.51 0 1.02-.2 1.41-.59l7.78-7.78 2.81-2.81c.8-.78.8-2.07 0-2.86zM5.41 20L4 18.59l7.72-7.72 1.47 1.35L5.41 20z\"/>\n",
              "  </svg>\n",
              "      </button>\n",
              "      \n",
              "  <style>\n",
              "    .colab-df-container {\n",
              "      display:flex;\n",
              "      flex-wrap:wrap;\n",
              "      gap: 12px;\n",
              "    }\n",
              "\n",
              "    .colab-df-convert {\n",
              "      background-color: #E8F0FE;\n",
              "      border: none;\n",
              "      border-radius: 50%;\n",
              "      cursor: pointer;\n",
              "      display: none;\n",
              "      fill: #1967D2;\n",
              "      height: 32px;\n",
              "      padding: 0 0 0 0;\n",
              "      width: 32px;\n",
              "    }\n",
              "\n",
              "    .colab-df-convert:hover {\n",
              "      background-color: #E2EBFA;\n",
              "      box-shadow: 0px 1px 2px rgba(60, 64, 67, 0.3), 0px 1px 3px 1px rgba(60, 64, 67, 0.15);\n",
              "      fill: #174EA6;\n",
              "    }\n",
              "\n",
              "    [theme=dark] .colab-df-convert {\n",
              "      background-color: #3B4455;\n",
              "      fill: #D2E3FC;\n",
              "    }\n",
              "\n",
              "    [theme=dark] .colab-df-convert:hover {\n",
              "      background-color: #434B5C;\n",
              "      box-shadow: 0px 1px 3px 1px rgba(0, 0, 0, 0.15);\n",
              "      filter: drop-shadow(0px 1px 2px rgba(0, 0, 0, 0.3));\n",
              "      fill: #FFFFFF;\n",
              "    }\n",
              "  </style>\n",
              "\n",
              "      <script>\n",
              "        const buttonEl =\n",
              "          document.querySelector('#df-2b8281c2-d0ee-4e21-8aa2-391281a400d8 button.colab-df-convert');\n",
              "        buttonEl.style.display =\n",
              "          google.colab.kernel.accessAllowed ? 'block' : 'none';\n",
              "\n",
              "        async function convertToInteractive(key) {\n",
              "          const element = document.querySelector('#df-2b8281c2-d0ee-4e21-8aa2-391281a400d8');\n",
              "          const dataTable =\n",
              "            await google.colab.kernel.invokeFunction('convertToInteractive',\n",
              "                                                     [key], {});\n",
              "          if (!dataTable) return;\n",
              "\n",
              "          const docLinkHtml = 'Like what you see? Visit the ' +\n",
              "            '<a target=\"_blank\" href=https://colab.research.google.com/notebooks/data_table.ipynb>data table notebook</a>'\n",
              "            + ' to learn more about interactive tables.';\n",
              "          element.innerHTML = '';\n",
              "          dataTable['output_type'] = 'display_data';\n",
              "          await google.colab.output.renderOutput(dataTable, element);\n",
              "          const docLink = document.createElement('div');\n",
              "          docLink.innerHTML = docLinkHtml;\n",
              "          element.appendChild(docLink);\n",
              "        }\n",
              "      </script>\n",
              "    </div>\n",
              "  </div>\n",
              "  "
            ]
          },
          "metadata": {},
          "execution_count": 7
        }
      ]
    },
    {
      "cell_type": "markdown",
      "source": [
        "### Indian Food Data"
      ],
      "metadata": {
        "id": "KKSQ-tNSxhf7"
      }
    },
    {
      "cell_type": "code",
      "source": [
        "path = 'indian-food/indian_food.csv'\n",
        "df_indian = pd.read_csv(path)"
      ],
      "metadata": {
        "id": "yKvncD4rxi2s"
      },
      "execution_count": 8,
      "outputs": []
    },
    {
      "cell_type": "code",
      "source": [
        "df_indian.head(5)"
      ],
      "metadata": {
        "colab": {
          "base_uri": "https://localhost:8080/",
          "height": 0
        },
        "id": "hoD6uJYQyi3j",
        "outputId": "f40b3f66-32ed-4e01-82e7-d4a3f9c182c8"
      },
      "execution_count": 9,
      "outputs": [
        {
          "output_type": "execute_result",
          "data": {
            "text/plain": [
              "             name                                        ingredients  \\\n",
              "0      Balu shahi                    Maida flour, yogurt, oil, sugar   \n",
              "1          Boondi                            Gram flour, ghee, sugar   \n",
              "2  Gajar ka halwa       Carrots, milk, sugar, ghee, cashews, raisins   \n",
              "3          Ghevar  Flour, ghee, kewra, milk, clarified butter, su...   \n",
              "4     Gulab jamun  Milk powder, plain flour, baking powder, ghee,...   \n",
              "\n",
              "         diet  prep_time  cook_time flavor_profile   course        state  \\\n",
              "0  vegetarian         45         25          sweet  dessert  West Bengal   \n",
              "1  vegetarian         80         30          sweet  dessert    Rajasthan   \n",
              "2  vegetarian         15         60          sweet  dessert       Punjab   \n",
              "3  vegetarian         15         30          sweet  dessert    Rajasthan   \n",
              "4  vegetarian         15         40          sweet  dessert  West Bengal   \n",
              "\n",
              "  region  \n",
              "0   East  \n",
              "1   West  \n",
              "2  North  \n",
              "3   West  \n",
              "4   East  "
            ],
            "text/html": [
              "\n",
              "  <div id=\"df-74ef6074-8f7a-486a-83ea-a1094f760f10\">\n",
              "    <div class=\"colab-df-container\">\n",
              "      <div>\n",
              "<style scoped>\n",
              "    .dataframe tbody tr th:only-of-type {\n",
              "        vertical-align: middle;\n",
              "    }\n",
              "\n",
              "    .dataframe tbody tr th {\n",
              "        vertical-align: top;\n",
              "    }\n",
              "\n",
              "    .dataframe thead th {\n",
              "        text-align: right;\n",
              "    }\n",
              "</style>\n",
              "<table border=\"1\" class=\"dataframe\">\n",
              "  <thead>\n",
              "    <tr style=\"text-align: right;\">\n",
              "      <th></th>\n",
              "      <th>name</th>\n",
              "      <th>ingredients</th>\n",
              "      <th>diet</th>\n",
              "      <th>prep_time</th>\n",
              "      <th>cook_time</th>\n",
              "      <th>flavor_profile</th>\n",
              "      <th>course</th>\n",
              "      <th>state</th>\n",
              "      <th>region</th>\n",
              "    </tr>\n",
              "  </thead>\n",
              "  <tbody>\n",
              "    <tr>\n",
              "      <th>0</th>\n",
              "      <td>Balu shahi</td>\n",
              "      <td>Maida flour, yogurt, oil, sugar</td>\n",
              "      <td>vegetarian</td>\n",
              "      <td>45</td>\n",
              "      <td>25</td>\n",
              "      <td>sweet</td>\n",
              "      <td>dessert</td>\n",
              "      <td>West Bengal</td>\n",
              "      <td>East</td>\n",
              "    </tr>\n",
              "    <tr>\n",
              "      <th>1</th>\n",
              "      <td>Boondi</td>\n",
              "      <td>Gram flour, ghee, sugar</td>\n",
              "      <td>vegetarian</td>\n",
              "      <td>80</td>\n",
              "      <td>30</td>\n",
              "      <td>sweet</td>\n",
              "      <td>dessert</td>\n",
              "      <td>Rajasthan</td>\n",
              "      <td>West</td>\n",
              "    </tr>\n",
              "    <tr>\n",
              "      <th>2</th>\n",
              "      <td>Gajar ka halwa</td>\n",
              "      <td>Carrots, milk, sugar, ghee, cashews, raisins</td>\n",
              "      <td>vegetarian</td>\n",
              "      <td>15</td>\n",
              "      <td>60</td>\n",
              "      <td>sweet</td>\n",
              "      <td>dessert</td>\n",
              "      <td>Punjab</td>\n",
              "      <td>North</td>\n",
              "    </tr>\n",
              "    <tr>\n",
              "      <th>3</th>\n",
              "      <td>Ghevar</td>\n",
              "      <td>Flour, ghee, kewra, milk, clarified butter, su...</td>\n",
              "      <td>vegetarian</td>\n",
              "      <td>15</td>\n",
              "      <td>30</td>\n",
              "      <td>sweet</td>\n",
              "      <td>dessert</td>\n",
              "      <td>Rajasthan</td>\n",
              "      <td>West</td>\n",
              "    </tr>\n",
              "    <tr>\n",
              "      <th>4</th>\n",
              "      <td>Gulab jamun</td>\n",
              "      <td>Milk powder, plain flour, baking powder, ghee,...</td>\n",
              "      <td>vegetarian</td>\n",
              "      <td>15</td>\n",
              "      <td>40</td>\n",
              "      <td>sweet</td>\n",
              "      <td>dessert</td>\n",
              "      <td>West Bengal</td>\n",
              "      <td>East</td>\n",
              "    </tr>\n",
              "  </tbody>\n",
              "</table>\n",
              "</div>\n",
              "      <button class=\"colab-df-convert\" onclick=\"convertToInteractive('df-74ef6074-8f7a-486a-83ea-a1094f760f10')\"\n",
              "              title=\"Convert this dataframe to an interactive table.\"\n",
              "              style=\"display:none;\">\n",
              "        \n",
              "  <svg xmlns=\"http://www.w3.org/2000/svg\" height=\"24px\"viewBox=\"0 0 24 24\"\n",
              "       width=\"24px\">\n",
              "    <path d=\"M0 0h24v24H0V0z\" fill=\"none\"/>\n",
              "    <path d=\"M18.56 5.44l.94 2.06.94-2.06 2.06-.94-2.06-.94-.94-2.06-.94 2.06-2.06.94zm-11 1L8.5 8.5l.94-2.06 2.06-.94-2.06-.94L8.5 2.5l-.94 2.06-2.06.94zm10 10l.94 2.06.94-2.06 2.06-.94-2.06-.94-.94-2.06-.94 2.06-2.06.94z\"/><path d=\"M17.41 7.96l-1.37-1.37c-.4-.4-.92-.59-1.43-.59-.52 0-1.04.2-1.43.59L10.3 9.45l-7.72 7.72c-.78.78-.78 2.05 0 2.83L4 21.41c.39.39.9.59 1.41.59.51 0 1.02-.2 1.41-.59l7.78-7.78 2.81-2.81c.8-.78.8-2.07 0-2.86zM5.41 20L4 18.59l7.72-7.72 1.47 1.35L5.41 20z\"/>\n",
              "  </svg>\n",
              "      </button>\n",
              "      \n",
              "  <style>\n",
              "    .colab-df-container {\n",
              "      display:flex;\n",
              "      flex-wrap:wrap;\n",
              "      gap: 12px;\n",
              "    }\n",
              "\n",
              "    .colab-df-convert {\n",
              "      background-color: #E8F0FE;\n",
              "      border: none;\n",
              "      border-radius: 50%;\n",
              "      cursor: pointer;\n",
              "      display: none;\n",
              "      fill: #1967D2;\n",
              "      height: 32px;\n",
              "      padding: 0 0 0 0;\n",
              "      width: 32px;\n",
              "    }\n",
              "\n",
              "    .colab-df-convert:hover {\n",
              "      background-color: #E2EBFA;\n",
              "      box-shadow: 0px 1px 2px rgba(60, 64, 67, 0.3), 0px 1px 3px 1px rgba(60, 64, 67, 0.15);\n",
              "      fill: #174EA6;\n",
              "    }\n",
              "\n",
              "    [theme=dark] .colab-df-convert {\n",
              "      background-color: #3B4455;\n",
              "      fill: #D2E3FC;\n",
              "    }\n",
              "\n",
              "    [theme=dark] .colab-df-convert:hover {\n",
              "      background-color: #434B5C;\n",
              "      box-shadow: 0px 1px 3px 1px rgba(0, 0, 0, 0.15);\n",
              "      filter: drop-shadow(0px 1px 2px rgba(0, 0, 0, 0.3));\n",
              "      fill: #FFFFFF;\n",
              "    }\n",
              "  </style>\n",
              "\n",
              "      <script>\n",
              "        const buttonEl =\n",
              "          document.querySelector('#df-74ef6074-8f7a-486a-83ea-a1094f760f10 button.colab-df-convert');\n",
              "        buttonEl.style.display =\n",
              "          google.colab.kernel.accessAllowed ? 'block' : 'none';\n",
              "\n",
              "        async function convertToInteractive(key) {\n",
              "          const element = document.querySelector('#df-74ef6074-8f7a-486a-83ea-a1094f760f10');\n",
              "          const dataTable =\n",
              "            await google.colab.kernel.invokeFunction('convertToInteractive',\n",
              "                                                     [key], {});\n",
              "          if (!dataTable) return;\n",
              "\n",
              "          const docLinkHtml = 'Like what you see? Visit the ' +\n",
              "            '<a target=\"_blank\" href=https://colab.research.google.com/notebooks/data_table.ipynb>data table notebook</a>'\n",
              "            + ' to learn more about interactive tables.';\n",
              "          element.innerHTML = '';\n",
              "          dataTable['output_type'] = 'display_data';\n",
              "          await google.colab.output.renderOutput(dataTable, element);\n",
              "          const docLink = document.createElement('div');\n",
              "          docLink.innerHTML = docLinkHtml;\n",
              "          element.appendChild(docLink);\n",
              "        }\n",
              "      </script>\n",
              "    </div>\n",
              "  </div>\n",
              "  "
            ]
          },
          "metadata": {},
          "execution_count": 9
        }
      ]
    },
    {
      "cell_type": "markdown",
      "metadata": {
        "id": "J-FJCLP-bOqe"
      },
      "source": [
        "## Pre-Processing"
      ]
    },
    {
      "cell_type": "code",
      "execution_count": 10,
      "metadata": {
        "id": "MRibRNivbUE1"
      },
      "outputs": [],
      "source": [
        "def pre_processing(text):\n",
        "  new = \"\"\n",
        "  for word in text.split(','):\n",
        "    word = re.sub(r'[^\\w\\s]', '', word.lower())\n",
        "    word = re.sub(r'[0-9]+', '', word)\n",
        "    word = re.sub(r'\\boz\\b', '', word)\n",
        "    word = re.sub(r'\\ba taste of\\b', '', word)\n",
        "    new = new + word.strip() + \" \"\n",
        "\n",
        "  return new[:-1]"
      ]
    },
    {
      "cell_type": "markdown",
      "source": [
        "### Cuisine Classification Data"
      ],
      "metadata": {
        "id": "h0V6CWFayRIn"
      }
    },
    {
      "cell_type": "code",
      "execution_count": 11,
      "metadata": {
        "id": "bhmVcEwdQnjh"
      },
      "outputs": [],
      "source": [
        "df_cuisine['ingredients'] = [','.join(x).strip() for x in df_cuisine['ingredients']]"
      ]
    },
    {
      "cell_type": "code",
      "execution_count": 12,
      "metadata": {
        "id": "4qc9fp0jcaDG"
      },
      "outputs": [],
      "source": [
        "df_cuisine['ingredients'] = [pre_processing(x) for x in df_cuisine['ingredients']]"
      ]
    },
    {
      "cell_type": "code",
      "source": [
        "X = df_cuisine['ingredients']\n",
        "y = df_cuisine['cuisine']\n",
        "\n",
        "# dados de teste = 20% do treinamento\n",
        "X_train_cuisine, X_test_cuisine, y_train_cuisine, y_test_cuisine = train_test_split(X, y, test_size=0.2)\n",
        "\n",
        "# dados de validacao = 50% do teste\n",
        "X_test_cuisine, X_valid_cuisine, y_test_cuisine, y_valid_cuisine = train_test_split(X, y, test_size=0.5)"
      ],
      "metadata": {
        "id": "u96xaQ5MJO2o"
      },
      "execution_count": 13,
      "outputs": []
    },
    {
      "cell_type": "code",
      "source": [
        "y_train_cuisine = pd.Categorical(y_train_cuisine)\n",
        "y_train_int_cuisine = y_train_cuisine.codes\n",
        "\n",
        "y_valid_cuisine = pd.Categorical(y_valid_cuisine)\n",
        "y_valid_int_cuisine = y_valid_cuisine.codes\n",
        "\n",
        "y_test_cuisine = pd.Categorical(y_test_cuisine)\n",
        "target_names_cuisine = y_test_cuisine.categories\n",
        "y_test_int_cuisine = y_test_cuisine.codes\n",
        "\n",
        "y_train_cuisine = to_categorical(y_train_int_cuisine)\n",
        "y_valid_cuisine = to_categorical(y_valid_int_cuisine)\n",
        "y_test_cuisine = to_categorical(y_test_int_cuisine)"
      ],
      "metadata": {
        "id": "6hNPne2f7SxN"
      },
      "execution_count": 14,
      "outputs": []
    },
    {
      "cell_type": "markdown",
      "source": [
        "### Indian Food Data"
      ],
      "metadata": {
        "id": "zjnrlH62yWnQ"
      }
    },
    {
      "cell_type": "code",
      "source": [
        "df_indian['ingredients'] = [pre_processing(x) for x in df_indian['ingredients']]"
      ],
      "metadata": {
        "id": "DLs5igUXytMt"
      },
      "execution_count": 15,
      "outputs": []
    },
    {
      "cell_type": "code",
      "source": [
        "X = df_indian['ingredients']\n",
        "y = df_indian['diet']\n",
        "\n",
        "# dados de teste = 20% do treinamento\n",
        "X_train_indian, X_test_indian, y_train_indian, y_test_indian = train_test_split(X, y, test_size=0.2)\n",
        "\n",
        "# dados de validacao = 50% do teste\n",
        "X_test_indian, X_valid_indian, y_test_indian, y_valid_indian = train_test_split(X, y, test_size=0.5)"
      ],
      "metadata": {
        "id": "kSIBzujzy8rI"
      },
      "execution_count": 16,
      "outputs": []
    },
    {
      "cell_type": "code",
      "source": [
        "y_train_indian = pd.Categorical(y_train_indian)\n",
        "y_train_int_indian = y_train_indian.codes\n",
        "\n",
        "y_valid_indian = pd.Categorical(y_valid_indian)\n",
        "y_valid_int_indian = y_valid_indian.codes\n",
        "\n",
        "y_test_indian = pd.Categorical(y_test_indian)\n",
        "target_names_indian = y_test_indian.categories\n",
        "y_test_int_indian = y_test_indian.codes\n",
        "\n",
        "y_train_indian = to_categorical(y_train_int_indian)\n",
        "y_valid_indian = to_categorical(y_valid_int_indian)\n",
        "y_test_indian = to_categorical(y_test_int_indian)"
      ],
      "metadata": {
        "id": "WMGPvdJF7VxY"
      },
      "execution_count": 17,
      "outputs": []
    },
    {
      "cell_type": "markdown",
      "source": [
        "# Word2Vec"
      ],
      "metadata": {
        "id": "iPpD__hB11D2"
      }
    },
    {
      "cell_type": "code",
      "source": [
        "def create_embedding_matrix(tokenizer, model, vocab_size):\n",
        "  embedding_matrix = np.zeros((vocab_size, 50))\n",
        "  for word, i in tokenizer.word_index.items():\n",
        "    if word in model.wv:\n",
        "      embedding_matrix[i] = model.wv.get_vector(word)\n",
        "    else:\n",
        "      embedding_matrix[i]=np.random.normal(0,np.sqrt(0.25), 50)\n",
        "  return embedding_matrix"
      ],
      "metadata": {
        "id": "9seXGB8U9Gd1"
      },
      "execution_count": 90,
      "outputs": []
    },
    {
      "cell_type": "markdown",
      "source": [
        "### Cuisine Classification Data"
      ],
      "metadata": {
        "id": "fV8dh6od8f4o"
      }
    },
    {
      "cell_type": "code",
      "source": [
        "EMBEDDING_DIM = 50\n",
        "MAX_LENGTH_C = 50"
      ],
      "metadata": {
        "id": "8q6eOy_DFW1S"
      },
      "execution_count": 37,
      "outputs": []
    },
    {
      "cell_type": "code",
      "source": [
        "# Train Data\n",
        "\n",
        "tokenizer = Tokenizer()\n",
        "tokenizer.fit_on_texts(X_train_cuisine)\n",
        "encoded_cuisine = tokenizer.texts_to_sequences(X_train_cuisine)\n",
        "X_train_cuisine_padded = pad_sequences(encoded_cuisine, maxlen=MAX_LENGTH_C, padding='post', truncating='post')\n",
        "\n",
        "vocab_size_cuisine = len(tokenizer.word_index) + 1"
      ],
      "metadata": {
        "id": "b6PPurhP6Blz"
      },
      "execution_count": 20,
      "outputs": []
    },
    {
      "cell_type": "code",
      "source": [
        "# EMBEDDING LAYER\n",
        "\n",
        "ingredients = '. '.join(X_train_cuisine)\n",
        "sentences = nltk.sent_tokenize(ingredients)\n",
        "\n",
        "sentences = [nltk.word_tokenize(sentence) for sentence in sentences]\n",
        "model_word2vec = Word2Vec(sentences, vector_size=EMBEDDING_DIM, min_count=1, window=5, sg=1,workers=4)\n",
        "\n",
        "embedding_matrix_cuisine = create_embedding_matrix(tokenizer, model_word2vec, vocab_size_cuisine)"
      ],
      "metadata": {
        "id": "sOvL-7eLDrwb"
      },
      "execution_count": 21,
      "outputs": []
    },
    {
      "cell_type": "code",
      "source": [
        "# Valid Data\n",
        "\n",
        "tokenizer = Tokenizer()\n",
        "tokenizer.fit_on_texts(X_valid_cuisine)\n",
        "encoded_cuisine = tokenizer.texts_to_sequences(X_valid_cuisine)\n",
        "X_valid_cuisine_padded = pad_sequences(encoded_cuisine, maxlen=MAX_LENGTH_C, padding='post', truncating='post')"
      ],
      "metadata": {
        "id": "yBy4FQ-96sDy"
      },
      "execution_count": 22,
      "outputs": []
    },
    {
      "cell_type": "code",
      "source": [
        "# Test Data\n",
        "\n",
        "tokenizer = Tokenizer()\n",
        "tokenizer.fit_on_texts(X_test_cuisine)\n",
        "encoded_cuisine = tokenizer.texts_to_sequences(X_test_cuisine)\n",
        "X_test_cuisine_padded = pad_sequences(encoded_cuisine, maxlen=MAX_LENGTH_C, padding='post', truncating='post')"
      ],
      "metadata": {
        "id": "scLLDUtaHEzH"
      },
      "execution_count": 23,
      "outputs": []
    },
    {
      "cell_type": "markdown",
      "source": [
        "### Indian Food Data"
      ],
      "metadata": {
        "id": "zSNr9TDu8f4o"
      }
    },
    {
      "cell_type": "code",
      "source": [
        "EMBEDDING_DIM = 50\n",
        "MAX_LENGTH_I = 12"
      ],
      "metadata": {
        "id": "Fqph4edwF23_"
      },
      "execution_count": 91,
      "outputs": []
    },
    {
      "cell_type": "code",
      "source": [
        "# Train Data\n",
        "\n",
        "tokenizer = Tokenizer()\n",
        "tokenizer.fit_on_texts(X_train_indian)\n",
        "encoded_indian = tokenizer.texts_to_sequences(X_train_indian)\n",
        "vocab_size_indian = len(tokenizer.word_index) + 1\n",
        "X_train_indian_padded = pad_sequences(encoded_indian, maxlen=MAX_LENGTH_I, padding='post', truncating='post')"
      ],
      "metadata": {
        "id": "Tputp7348nto"
      },
      "execution_count": 92,
      "outputs": []
    },
    {
      "cell_type": "code",
      "source": [
        "# EMBEDDING LAYER\n",
        "\n",
        "ingredients = '. '.join(X_train_indian)\n",
        "sentences = nltk.sent_tokenize(ingredients)\n",
        "\n",
        "sentences = [nltk.word_tokenize(sentence) for sentence in sentences]\n",
        "model_word2vec = Word2Vec(sentences, vector_size=50, min_count=1, window=5, sg=1,workers=4)\n",
        "\n",
        "embedding_matrix_indian = create_embedding_matrix(tokenizer, model_word2vec, vocab_size_indian)"
      ],
      "metadata": {
        "id": "bnBHA5O58nto"
      },
      "execution_count": 93,
      "outputs": []
    },
    {
      "cell_type": "code",
      "source": [
        "# Validation Data\n",
        "tokenizer = Tokenizer()\n",
        "tokenizer.fit_on_texts(X_valid_indian)\n",
        "encoded_indian = tokenizer.texts_to_sequences(X_valid_indian)\n",
        "X_valid_indian_padded = pad_sequences(encoded_indian, maxlen=MAX_LENGTH_I, padding='post', truncating='post')"
      ],
      "metadata": {
        "id": "JAgEvwvJGBH9"
      },
      "execution_count": 94,
      "outputs": []
    },
    {
      "cell_type": "code",
      "source": [
        "# Test Data\n",
        "tokenizer = Tokenizer()\n",
        "tokenizer.fit_on_texts(X_test_indian)\n",
        "encoded_indian = tokenizer.texts_to_sequences(X_test_indian)\n",
        "X_test_indian_padded = pad_sequences(encoded_indian, maxlen=MAX_LENGTH_I, padding='post', truncating='post')"
      ],
      "metadata": {
        "id": "TPhFI7moGW7p"
      },
      "execution_count": 95,
      "outputs": []
    },
    {
      "cell_type": "code",
      "source": [
        "max_ingredients = 20\n",
        "\n",
        "hist = {}\n",
        "\n",
        "hist['qtde'] = [x for x in range(0,max_ingredients)]\n",
        "\n",
        "lista = [0]*(max_ingredients)\n",
        "for x in encoded_indian:\n",
        "    lista[len(x)]+=1\n",
        "\n",
        "hist['num food'] = lista\n",
        "fig = plt.figure(figsize = (10, 5))\n",
        " \n",
        "plt.bar(hist['qtde'],hist['num food'],\n",
        "        color ='blue')\n",
        " \n",
        "plt.xlabel(\"Number of ingredients\")\n",
        "plt.ylabel(\"Number of food\")\n",
        "plt.title(\"Comparing number of ingredients and number of food\")\n",
        "plt.show()"
      ],
      "metadata": {
        "colab": {
          "base_uri": "https://localhost:8080/",
          "height": 0
        },
        "outputId": "d6abca06-69eb-44ce-c8bd-5b6f8ed46073",
        "id": "hCwfro3R8nto"
      },
      "execution_count": 96,
      "outputs": [
        {
          "output_type": "display_data",
          "data": {
            "text/plain": [
              "<Figure size 720x360 with 1 Axes>"
            ],
            "image/png": "[encoded data removed]"
          },
          "metadata": {
            "needs_background": "light"
          }
        }
      ]
    },
    {
      "cell_type": "markdown",
      "source": [
        "# CNN"
      ],
      "metadata": {
        "id": "HIQ72WsJ3gAx"
      }
    },
    {
      "cell_type": "code",
      "source": [
        "class CNNHyperModel(HyperModel):\n",
        "  def __init__(self, embedding_layer, output):\n",
        "    self.embedding_layer = embedding_layer\n",
        "    self.output = output\n",
        "\n",
        "  def build(self, hp):\n",
        "    model = Sequential()\n",
        "    model.add(self.embedding_layer)\n",
        "    model.add(Conv1D(32, kernel_size=11, strides=1))\n",
        "    model.add(Activation('relu'))\n",
        "    model.add(GlobalMaxPooling1D())\n",
        "    model.add(Dense(128))\n",
        "    model.add(Activation('relu'))\n",
        "    model.add(Dense(64))\n",
        "    model.add(Activation('relu'))\n",
        "    model.add(Dense(self.output, activation='softmax'))\n",
        "    sgd = SGD(learning_rate=0.001)\n",
        "    model.compile(loss=\"categorical_crossentropy\",optimizer=sgd,metrics=['accuracy'])\n",
        "    return model"
      ],
      "metadata": {
        "id": "E0Mz-bZ03iwE"
      },
      "execution_count": 66,
      "outputs": []
    },
    {
      "cell_type": "markdown",
      "source": [
        "### Cuisine Classification Data"
      ],
      "metadata": {
        "id": "K_Ew4Uj3IqFx"
      }
    },
    {
      "cell_type": "code",
      "source": [
        "embedding_layer = Embedding(vocab_size_cuisine, EMBEDDING_DIM, weights=[embedding_matrix_cuisine], input_length=MAX_LENGTH_C, trainable=False)"
      ],
      "metadata": {
        "id": "QMLmqm2szEo7"
      },
      "execution_count": 67,
      "outputs": []
    },
    {
      "cell_type": "code",
      "source": [
        "model_CNN = CNNHyperModel(embedding_layer, 20)"
      ],
      "metadata": {
        "id": "FyEDxSA5IFwZ"
      },
      "execution_count": 68,
      "outputs": []
    },
    {
      "cell_type": "code",
      "source": [
        "model_cuisine = model_CNN.build(0)"
      ],
      "metadata": {
        "id": "gUZTEC0lIFwa"
      },
      "execution_count": 69,
      "outputs": []
    },
    {
      "cell_type": "code",
      "source": [
        "model_cuisine.summary()"
      ],
      "metadata": {
        "colab": {
          "base_uri": "https://localhost:8080/"
        },
        "id": "D7KhTzglIRu7",
        "outputId": "339e3b73-3713-495b-bf3a-baca3e428568"
      },
      "execution_count": 70,
      "outputs": [
        {
          "output_type": "stream",
          "name": "stdout",
          "text": [
            "Model: \"sequential_6\"\n",
            "_________________________________________________________________\n",
            " Layer (type)                Output Shape              Param #   \n",
            "=================================================================\n",
            " embedding_5 (Embedding)     (None, 50, 50)            55600     \n",
            "                                                                 \n",
            " conv1d_3 (Conv1D)           (None, 40, 32)            17632     \n",
            "                                                                 \n",
            " activation_12 (Activation)  (None, 40, 32)            0         \n",
            "                                                                 \n",
            " global_max_pooling1d_4 (Glo  (None, 32)               0         \n",
            " balMaxPooling1D)                                                \n",
            "                                                                 \n",
            " dense_15 (Dense)            (None, 128)               4224      \n",
            "                                                                 \n",
            " activation_13 (Activation)  (None, 128)               0         \n",
            "                                                                 \n",
            " dense_16 (Dense)            (None, 64)                8256      \n",
            "                                                                 \n",
            " activation_14 (Activation)  (None, 64)                0         \n",
            "                                                                 \n",
            " dense_17 (Dense)            (None, 20)                1300      \n",
            "                                                                 \n",
            "=================================================================\n",
            "Total params: 87,012\n",
            "Trainable params: 31,412\n",
            "Non-trainable params: 55,600\n",
            "_________________________________________________________________\n"
          ]
        }
      ]
    },
    {
      "cell_type": "code",
      "source": [
        "history_fine = model_cuisine.fit(X_train_cuisine_padded,y_train_cuisine,validation_data=(X_valid_cuisine_padded,y_valid_cuisine), epochs=50) "
      ],
      "metadata": {
        "id": "eMrbo0RMIFwa",
        "colab": {
          "base_uri": "https://localhost:8080/"
        },
        "outputId": "b54cc0ac-448d-401f-b3dd-9b12e31ec134"
      },
      "execution_count": 71,
      "outputs": [
        {
          "output_type": "stream",
          "name": "stdout",
          "text": [
            "Epoch 1/50\n",
            "25/25 [==============================] - 1s 18ms/step - loss: 2.9637 - accuracy: 0.0775 - val_loss: 2.9578 - val_accuracy: 0.0800\n",
            "Epoch 2/50\n",
            "25/25 [==============================] - 0s 11ms/step - loss: 2.9565 - accuracy: 0.0775 - val_loss: 2.9510 - val_accuracy: 0.0800\n",
            "Epoch 3/50\n",
            "25/25 [==============================] - 0s 11ms/step - loss: 2.9494 - accuracy: 0.0775 - val_loss: 2.9441 - val_accuracy: 0.0800\n",
            "Epoch 4/50\n",
            "25/25 [==============================] - 0s 11ms/step - loss: 2.9421 - accuracy: 0.0800 - val_loss: 2.9371 - val_accuracy: 0.0840\n",
            "Epoch 5/50\n",
            "25/25 [==============================] - 0s 10ms/step - loss: 2.9347 - accuracy: 0.1075 - val_loss: 2.9301 - val_accuracy: 0.1040\n",
            "Epoch 6/50\n",
            "25/25 [==============================] - 0s 12ms/step - loss: 2.9272 - accuracy: 0.1675 - val_loss: 2.9230 - val_accuracy: 0.2020\n",
            "Epoch 7/50\n",
            "25/25 [==============================] - 0s 11ms/step - loss: 2.9198 - accuracy: 0.2262 - val_loss: 2.9161 - val_accuracy: 0.2400\n",
            "Epoch 8/50\n",
            "25/25 [==============================] - 0s 10ms/step - loss: 2.9125 - accuracy: 0.2350 - val_loss: 2.9092 - val_accuracy: 0.2200\n",
            "Epoch 9/50\n",
            "25/25 [==============================] - 0s 11ms/step - loss: 2.9053 - accuracy: 0.2375 - val_loss: 2.9022 - val_accuracy: 0.2160\n",
            "Epoch 10/50\n",
            "25/25 [==============================] - 0s 10ms/step - loss: 2.8979 - accuracy: 0.2400 - val_loss: 2.8951 - val_accuracy: 0.2060\n",
            "Epoch 11/50\n",
            "25/25 [==============================] - 0s 11ms/step - loss: 2.8904 - accuracy: 0.2288 - val_loss: 2.8877 - val_accuracy: 0.1920\n",
            "Epoch 12/50\n",
            "25/25 [==============================] - 0s 11ms/step - loss: 2.8827 - accuracy: 0.2262 - val_loss: 2.8802 - val_accuracy: 0.1860\n",
            "Epoch 13/50\n",
            "25/25 [==============================] - 0s 11ms/step - loss: 2.8749 - accuracy: 0.2250 - val_loss: 2.8726 - val_accuracy: 0.1860\n",
            "Epoch 14/50\n",
            "25/25 [==============================] - 0s 10ms/step - loss: 2.8671 - accuracy: 0.2237 - val_loss: 2.8649 - val_accuracy: 0.1840\n",
            "Epoch 15/50\n",
            "25/25 [==============================] - 0s 11ms/step - loss: 2.8592 - accuracy: 0.2163 - val_loss: 2.8572 - val_accuracy: 0.1820\n",
            "Epoch 16/50\n",
            "25/25 [==============================] - 0s 10ms/step - loss: 2.8512 - accuracy: 0.2212 - val_loss: 2.8495 - val_accuracy: 0.1820\n",
            "Epoch 17/50\n",
            "25/25 [==============================] - 0s 10ms/step - loss: 2.8432 - accuracy: 0.2087 - val_loss: 2.8417 - val_accuracy: 0.1800\n",
            "Epoch 18/50\n",
            "25/25 [==============================] - 0s 11ms/step - loss: 2.8351 - accuracy: 0.2175 - val_loss: 2.8339 - val_accuracy: 0.1800\n",
            "Epoch 19/50\n",
            "25/25 [==============================] - 0s 10ms/step - loss: 2.8271 - accuracy: 0.2200 - val_loss: 2.8260 - val_accuracy: 0.1840\n",
            "Epoch 20/50\n",
            "25/25 [==============================] - 0s 10ms/step - loss: 2.8189 - accuracy: 0.2188 - val_loss: 2.8181 - val_accuracy: 0.1900\n",
            "Epoch 21/50\n",
            "25/25 [==============================] - 0s 11ms/step - loss: 2.8107 - accuracy: 0.2288 - val_loss: 2.8101 - val_accuracy: 0.1900\n",
            "Epoch 22/50\n",
            "25/25 [==============================] - 0s 11ms/step - loss: 2.8025 - accuracy: 0.2338 - val_loss: 2.8021 - val_accuracy: 0.2000\n",
            "Epoch 23/50\n",
            "25/25 [==============================] - 0s 10ms/step - loss: 2.7942 - accuracy: 0.2375 - val_loss: 2.7939 - val_accuracy: 0.2040\n",
            "Epoch 24/50\n",
            "25/25 [==============================] - 0s 10ms/step - loss: 2.7859 - accuracy: 0.2450 - val_loss: 2.7858 - val_accuracy: 0.2080\n",
            "Epoch 25/50\n",
            "25/25 [==============================] - 0s 12ms/step - loss: 2.7776 - accuracy: 0.2500 - val_loss: 2.7776 - val_accuracy: 0.2260\n",
            "Epoch 26/50\n",
            "25/25 [==============================] - 0s 17ms/step - loss: 2.7692 - accuracy: 0.2587 - val_loss: 2.7694 - val_accuracy: 0.2300\n",
            "Epoch 27/50\n",
            "25/25 [==============================] - 1s 21ms/step - loss: 2.7609 - accuracy: 0.2637 - val_loss: 2.7613 - val_accuracy: 0.2420\n",
            "Epoch 28/50\n",
            "25/25 [==============================] - 0s 20ms/step - loss: 2.7525 - accuracy: 0.2650 - val_loss: 2.7532 - val_accuracy: 0.2540\n",
            "Epoch 29/50\n",
            "25/25 [==============================] - 0s 11ms/step - loss: 2.7443 - accuracy: 0.2637 - val_loss: 2.7451 - val_accuracy: 0.2560\n",
            "Epoch 30/50\n",
            "25/25 [==============================] - 0s 12ms/step - loss: 2.7360 - accuracy: 0.2675 - val_loss: 2.7372 - val_accuracy: 0.2600\n",
            "Epoch 31/50\n",
            "25/25 [==============================] - 0s 11ms/step - loss: 2.7279 - accuracy: 0.2512 - val_loss: 2.7293 - val_accuracy: 0.2560\n",
            "Epoch 32/50\n",
            "25/25 [==============================] - 0s 10ms/step - loss: 2.7199 - accuracy: 0.2450 - val_loss: 2.7216 - val_accuracy: 0.2500\n",
            "Epoch 33/50\n",
            "25/25 [==============================] - 0s 11ms/step - loss: 2.7121 - accuracy: 0.2412 - val_loss: 2.7141 - val_accuracy: 0.2480\n",
            "Epoch 34/50\n",
            "25/25 [==============================] - 0s 11ms/step - loss: 2.7045 - accuracy: 0.2400 - val_loss: 2.7068 - val_accuracy: 0.2480\n",
            "Epoch 35/50\n",
            "25/25 [==============================] - 0s 11ms/step - loss: 2.6970 - accuracy: 0.2275 - val_loss: 2.6997 - val_accuracy: 0.2420\n",
            "Epoch 36/50\n",
            "25/25 [==============================] - 0s 11ms/step - loss: 2.6898 - accuracy: 0.2200 - val_loss: 2.6928 - val_accuracy: 0.2380\n",
            "Epoch 37/50\n",
            "25/25 [==============================] - 0s 11ms/step - loss: 2.6828 - accuracy: 0.2250 - val_loss: 2.6862 - val_accuracy: 0.2400\n",
            "Epoch 38/50\n",
            "25/25 [==============================] - 0s 10ms/step - loss: 2.6761 - accuracy: 0.2212 - val_loss: 2.6799 - val_accuracy: 0.2380\n",
            "Epoch 39/50\n",
            "25/25 [==============================] - 0s 10ms/step - loss: 2.6696 - accuracy: 0.2163 - val_loss: 2.6738 - val_accuracy: 0.2380\n",
            "Epoch 40/50\n",
            "25/25 [==============================] - 0s 11ms/step - loss: 2.6636 - accuracy: 0.2188 - val_loss: 2.6681 - val_accuracy: 0.2340\n",
            "Epoch 41/50\n",
            "25/25 [==============================] - 0s 11ms/step - loss: 2.6577 - accuracy: 0.2188 - val_loss: 2.6627 - val_accuracy: 0.2320\n",
            "Epoch 42/50\n",
            "25/25 [==============================] - 0s 11ms/step - loss: 2.6522 - accuracy: 0.2188 - val_loss: 2.6577 - val_accuracy: 0.2300\n",
            "Epoch 43/50\n",
            "25/25 [==============================] - 0s 11ms/step - loss: 2.6471 - accuracy: 0.2188 - val_loss: 2.6529 - val_accuracy: 0.2320\n",
            "Epoch 44/50\n",
            "25/25 [==============================] - 0s 11ms/step - loss: 2.6422 - accuracy: 0.2150 - val_loss: 2.6485 - val_accuracy: 0.2360\n",
            "Epoch 45/50\n",
            "25/25 [==============================] - 0s 12ms/step - loss: 2.6377 - accuracy: 0.2138 - val_loss: 2.6443 - val_accuracy: 0.2340\n",
            "Epoch 46/50\n",
            "25/25 [==============================] - 0s 11ms/step - loss: 2.6335 - accuracy: 0.2150 - val_loss: 2.6405 - val_accuracy: 0.2340\n",
            "Epoch 47/50\n",
            "25/25 [==============================] - 0s 10ms/step - loss: 2.6295 - accuracy: 0.2150 - val_loss: 2.6370 - val_accuracy: 0.2360\n",
            "Epoch 48/50\n",
            "25/25 [==============================] - 0s 10ms/step - loss: 2.6259 - accuracy: 0.2163 - val_loss: 2.6337 - val_accuracy: 0.2380\n",
            "Epoch 49/50\n",
            "25/25 [==============================] - 0s 11ms/step - loss: 2.6225 - accuracy: 0.2163 - val_loss: 2.6306 - val_accuracy: 0.2380\n",
            "Epoch 50/50\n",
            "25/25 [==============================] - 0s 11ms/step - loss: 2.6193 - accuracy: 0.2175 - val_loss: 2.6279 - val_accuracy: 0.2380\n"
          ]
        }
      ]
    },
    {
      "cell_type": "code",
      "source": [
        "target_names = pd.Categorical(df_cuisine['cuisine']).categories"
      ],
      "metadata": {
        "id": "U4MpTmGtNSEg"
      },
      "execution_count": 72,
      "outputs": []
    },
    {
      "cell_type": "code",
      "source": [
        "y_prob = model_cuisine.predict(X_test_cuisine_padded)\n",
        "y_pred = np.argmax(y_prob,axis=1)\n",
        "print(classification_report(y_test_int_cuisine,y_pred, target_names=target_names))"
      ],
      "metadata": {
        "id": "PETPLG4XfKc5",
        "colab": {
          "base_uri": "https://localhost:8080/"
        },
        "outputId": "fd6d228d-f43e-4529-c7a2-941dd3b735a4"
      },
      "execution_count": 73,
      "outputs": [
        {
          "output_type": "stream",
          "name": "stdout",
          "text": [
            "              precision    recall  f1-score   support\n",
            "\n",
            "   brazilian       0.00      0.00      0.00         4\n",
            "     british       0.00      0.00      0.00         6\n",
            "cajun_creole       0.00      0.00      0.00        18\n",
            "     chinese       0.00      0.00      0.00        32\n",
            "    filipino       0.00      0.00      0.00         7\n",
            "      french       0.00      0.00      0.00        34\n",
            "       greek       0.00      0.00      0.00        14\n",
            "      indian       0.00      0.00      0.00        36\n",
            "       irish       0.00      0.00      0.00        11\n",
            "     italian       0.18      0.99      0.31        92\n",
            "    jamaican       0.00      0.00      0.00         5\n",
            "    japanese       0.00      0.00      0.00        17\n",
            "      korean       0.00      0.00      0.00        19\n",
            "     mexican       0.50      0.01      0.02        98\n",
            "    moroccan       0.00      0.00      0.00        13\n",
            "     russian       0.00      0.00      0.00         5\n",
            " southern_us       0.00      0.00      0.00        53\n",
            "     spanish       0.00      0.00      0.00        12\n",
            "        thai       0.00      0.00      0.00        16\n",
            "  vietnamese       0.00      0.00      0.00         8\n",
            "\n",
            "    accuracy                           0.18       500\n",
            "   macro avg       0.03      0.05      0.02       500\n",
            "weighted avg       0.13      0.18      0.06       500\n",
            "\n"
          ]
        },
        {
          "output_type": "stream",
          "name": "stderr",
          "text": [
            "/usr/local/lib/python3.7/dist-packages/sklearn/metrics/_classification.py:1318: UndefinedMetricWarning: Precision and F-score are ill-defined and being set to 0.0 in labels with no predicted samples. Use `zero_division` parameter to control this behavior.\n",
            "  _warn_prf(average, modifier, msg_start, len(result))\n",
            "/usr/local/lib/python3.7/dist-packages/sklearn/metrics/_classification.py:1318: UndefinedMetricWarning: Precision and F-score are ill-defined and being set to 0.0 in labels with no predicted samples. Use `zero_division` parameter to control this behavior.\n",
            "  _warn_prf(average, modifier, msg_start, len(result))\n",
            "/usr/local/lib/python3.7/dist-packages/sklearn/metrics/_classification.py:1318: UndefinedMetricWarning: Precision and F-score are ill-defined and being set to 0.0 in labels with no predicted samples. Use `zero_division` parameter to control this behavior.\n",
            "  _warn_prf(average, modifier, msg_start, len(result))\n"
          ]
        }
      ]
    },
    {
      "cell_type": "markdown",
      "source": [
        "### Indian Food Data"
      ],
      "metadata": {
        "id": "eTR7TQNDIuhf"
      }
    },
    {
      "cell_type": "code",
      "source": [
        "embedding_layer = Embedding(vocab_size_indian, EMBEDDING_DIM, weights=[embedding_matrix_indian], input_length=MAX_LENGTH_I, trainable=False)"
      ],
      "metadata": {
        "id": "WM4MTVcjIuhf"
      },
      "execution_count": 97,
      "outputs": []
    },
    {
      "cell_type": "code",
      "source": [
        "model_CNN = CNNHyperModel(embedding_layer, 2)"
      ],
      "metadata": {
        "id": "yCrJRihuIuhf"
      },
      "execution_count": 98,
      "outputs": []
    },
    {
      "cell_type": "code",
      "source": [
        "model_indian = model_CNN.build(0)"
      ],
      "metadata": {
        "id": "50-yv0OgIuhf"
      },
      "execution_count": 99,
      "outputs": []
    },
    {
      "cell_type": "code",
      "source": [
        "model_indian.summary()"
      ],
      "metadata": {
        "colab": {
          "base_uri": "https://localhost:8080/"
        },
        "outputId": "26f583e1-0615-4884-af97-53636af0e760",
        "id": "VrETVNG4Iuhf"
      },
      "execution_count": 101,
      "outputs": [
        {
          "output_type": "stream",
          "name": "stdout",
          "text": [
            "Model: \"sequential_10\"\n",
            "_________________________________________________________________\n",
            " Layer (type)                Output Shape              Param #   \n",
            "=================================================================\n",
            " embedding_8 (Embedding)     (None, 12, 50)            15650     \n",
            "                                                                 \n",
            " conv1d_4 (Conv1D)           (None, 2, 32)             17632     \n",
            "                                                                 \n",
            " activation_15 (Activation)  (None, 2, 32)             0         \n",
            "                                                                 \n",
            " global_max_pooling1d_5 (Glo  (None, 32)               0         \n",
            " balMaxPooling1D)                                                \n",
            "                                                                 \n",
            " dense_18 (Dense)            (None, 128)               4224      \n",
            "                                                                 \n",
            " activation_16 (Activation)  (None, 128)               0         \n",
            "                                                                 \n",
            " dense_19 (Dense)            (None, 64)                8256      \n",
            "                                                                 \n",
            " activation_17 (Activation)  (None, 64)                0         \n",
            "                                                                 \n",
            " dense_20 (Dense)            (None, 2)                 130       \n",
            "                                                                 \n",
            "=================================================================\n",
            "Total params: 45,892\n",
            "Trainable params: 30,242\n",
            "Non-trainable params: 15,650\n",
            "_________________________________________________________________\n"
          ]
        }
      ]
    },
    {
      "cell_type": "code",
      "source": [
        "history_fine = model_indian.fit(X_train_indian_padded,y_train_indian,validation_data=(X_valid_indian_padded,y_valid_indian), epochs=50) "
      ],
      "metadata": {
        "colab": {
          "base_uri": "https://localhost:8080/"
        },
        "outputId": "9857296f-0c61-4044-a138-09d38e81e052",
        "id": "O8bE025MIuhf"
      },
      "execution_count": 102,
      "outputs": [
        {
          "output_type": "stream",
          "name": "stdout",
          "text": [
            "Epoch 1/50\n",
            "7/7 [==============================] - 1s 36ms/step - loss: 0.6910 - accuracy: 0.7353 - val_loss: 0.6877 - val_accuracy: 0.8672\n",
            "Epoch 2/50\n",
            "7/7 [==============================] - 0s 12ms/step - loss: 0.6856 - accuracy: 0.8824 - val_loss: 0.6828 - val_accuracy: 0.8750\n",
            "Epoch 3/50\n",
            "7/7 [==============================] - 0s 7ms/step - loss: 0.6805 - accuracy: 0.8824 - val_loss: 0.6778 - val_accuracy: 0.8750\n",
            "Epoch 4/50\n",
            "7/7 [==============================] - 0s 9ms/step - loss: 0.6755 - accuracy: 0.8824 - val_loss: 0.6731 - val_accuracy: 0.8750\n",
            "Epoch 5/50\n",
            "7/7 [==============================] - 0s 9ms/step - loss: 0.6707 - accuracy: 0.8824 - val_loss: 0.6684 - val_accuracy: 0.8750\n",
            "Epoch 6/50\n",
            "7/7 [==============================] - 0s 7ms/step - loss: 0.6658 - accuracy: 0.8824 - val_loss: 0.6636 - val_accuracy: 0.8750\n",
            "Epoch 7/50\n",
            "7/7 [==============================] - 0s 7ms/step - loss: 0.6610 - accuracy: 0.8824 - val_loss: 0.6590 - val_accuracy: 0.8750\n",
            "Epoch 8/50\n",
            "7/7 [==============================] - 0s 9ms/step - loss: 0.6563 - accuracy: 0.8824 - val_loss: 0.6545 - val_accuracy: 0.8750\n",
            "Epoch 9/50\n",
            "7/7 [==============================] - 0s 6ms/step - loss: 0.6518 - accuracy: 0.8824 - val_loss: 0.6501 - val_accuracy: 0.8750\n",
            "Epoch 10/50\n",
            "7/7 [==============================] - 0s 8ms/step - loss: 0.6473 - accuracy: 0.8824 - val_loss: 0.6457 - val_accuracy: 0.8750\n",
            "Epoch 11/50\n",
            "7/7 [==============================] - 0s 9ms/step - loss: 0.6429 - accuracy: 0.8824 - val_loss: 0.6415 - val_accuracy: 0.8750\n",
            "Epoch 12/50\n",
            "7/7 [==============================] - 0s 9ms/step - loss: 0.6386 - accuracy: 0.8824 - val_loss: 0.6374 - val_accuracy: 0.8750\n",
            "Epoch 13/50\n",
            "7/7 [==============================] - 0s 9ms/step - loss: 0.6345 - accuracy: 0.8824 - val_loss: 0.6333 - val_accuracy: 0.8750\n",
            "Epoch 14/50\n",
            "7/7 [==============================] - 0s 9ms/step - loss: 0.6303 - accuracy: 0.8824 - val_loss: 0.6294 - val_accuracy: 0.8750\n",
            "Epoch 15/50\n",
            "7/7 [==============================] - 0s 6ms/step - loss: 0.6264 - accuracy: 0.8824 - val_loss: 0.6254 - val_accuracy: 0.8750\n",
            "Epoch 16/50\n",
            "7/7 [==============================] - 0s 6ms/step - loss: 0.6223 - accuracy: 0.8824 - val_loss: 0.6216 - val_accuracy: 0.8750\n",
            "Epoch 17/50\n",
            "7/7 [==============================] - 0s 7ms/step - loss: 0.6184 - accuracy: 0.8824 - val_loss: 0.6179 - val_accuracy: 0.8750\n",
            "Epoch 18/50\n",
            "7/7 [==============================] - 0s 6ms/step - loss: 0.6147 - accuracy: 0.8824 - val_loss: 0.6141 - val_accuracy: 0.8750\n",
            "Epoch 19/50\n",
            "7/7 [==============================] - 0s 8ms/step - loss: 0.6108 - accuracy: 0.8824 - val_loss: 0.6104 - val_accuracy: 0.8750\n",
            "Epoch 20/50\n",
            "7/7 [==============================] - 0s 7ms/step - loss: 0.6070 - accuracy: 0.8824 - val_loss: 0.6067 - val_accuracy: 0.8750\n",
            "Epoch 21/50\n",
            "7/7 [==============================] - 0s 9ms/step - loss: 0.6033 - accuracy: 0.8824 - val_loss: 0.6031 - val_accuracy: 0.8750\n",
            "Epoch 22/50\n",
            "7/7 [==============================] - 0s 6ms/step - loss: 0.5996 - accuracy: 0.8824 - val_loss: 0.5996 - val_accuracy: 0.8750\n",
            "Epoch 23/50\n",
            "7/7 [==============================] - 0s 9ms/step - loss: 0.5960 - accuracy: 0.8824 - val_loss: 0.5961 - val_accuracy: 0.8750\n",
            "Epoch 24/50\n",
            "7/7 [==============================] - 0s 6ms/step - loss: 0.5925 - accuracy: 0.8824 - val_loss: 0.5928 - val_accuracy: 0.8750\n",
            "Epoch 25/50\n",
            "7/7 [==============================] - 0s 7ms/step - loss: 0.5891 - accuracy: 0.8824 - val_loss: 0.5895 - val_accuracy: 0.8750\n",
            "Epoch 26/50\n",
            "7/7 [==============================] - 0s 7ms/step - loss: 0.5856 - accuracy: 0.8824 - val_loss: 0.5861 - val_accuracy: 0.8750\n",
            "Epoch 27/50\n",
            "7/7 [==============================] - 0s 8ms/step - loss: 0.5822 - accuracy: 0.8824 - val_loss: 0.5830 - val_accuracy: 0.8750\n",
            "Epoch 28/50\n",
            "7/7 [==============================] - 0s 7ms/step - loss: 0.5790 - accuracy: 0.8824 - val_loss: 0.5797 - val_accuracy: 0.8750\n",
            "Epoch 29/50\n",
            "7/7 [==============================] - 0s 6ms/step - loss: 0.5757 - accuracy: 0.8824 - val_loss: 0.5766 - val_accuracy: 0.8750\n",
            "Epoch 30/50\n",
            "7/7 [==============================] - 0s 7ms/step - loss: 0.5726 - accuracy: 0.8824 - val_loss: 0.5737 - val_accuracy: 0.8750\n",
            "Epoch 31/50\n",
            "7/7 [==============================] - 0s 7ms/step - loss: 0.5696 - accuracy: 0.8824 - val_loss: 0.5706 - val_accuracy: 0.8750\n",
            "Epoch 32/50\n",
            "7/7 [==============================] - 0s 6ms/step - loss: 0.5664 - accuracy: 0.8824 - val_loss: 0.5675 - val_accuracy: 0.8750\n",
            "Epoch 33/50\n",
            "7/7 [==============================] - 0s 9ms/step - loss: 0.5633 - accuracy: 0.8824 - val_loss: 0.5645 - val_accuracy: 0.8750\n",
            "Epoch 34/50\n",
            "7/7 [==============================] - 0s 6ms/step - loss: 0.5602 - accuracy: 0.8824 - val_loss: 0.5615 - val_accuracy: 0.8750\n",
            "Epoch 35/50\n",
            "7/7 [==============================] - 0s 11ms/step - loss: 0.5571 - accuracy: 0.8824 - val_loss: 0.5585 - val_accuracy: 0.8750\n",
            "Epoch 36/50\n",
            "7/7 [==============================] - 0s 6ms/step - loss: 0.5540 - accuracy: 0.8824 - val_loss: 0.5556 - val_accuracy: 0.8750\n",
            "Epoch 37/50\n",
            "7/7 [==============================] - 0s 9ms/step - loss: 0.5511 - accuracy: 0.8824 - val_loss: 0.5528 - val_accuracy: 0.8750\n",
            "Epoch 38/50\n",
            "7/7 [==============================] - 0s 9ms/step - loss: 0.5482 - accuracy: 0.8824 - val_loss: 0.5499 - val_accuracy: 0.8750\n",
            "Epoch 39/50\n",
            "7/7 [==============================] - 0s 6ms/step - loss: 0.5452 - accuracy: 0.8824 - val_loss: 0.5472 - val_accuracy: 0.8750\n",
            "Epoch 40/50\n",
            "7/7 [==============================] - 0s 7ms/step - loss: 0.5424 - accuracy: 0.8824 - val_loss: 0.5445 - val_accuracy: 0.8750\n",
            "Epoch 41/50\n",
            "7/7 [==============================] - 0s 7ms/step - loss: 0.5397 - accuracy: 0.8824 - val_loss: 0.5419 - val_accuracy: 0.8750\n",
            "Epoch 42/50\n",
            "7/7 [==============================] - 0s 9ms/step - loss: 0.5371 - accuracy: 0.8824 - val_loss: 0.5393 - val_accuracy: 0.8750\n",
            "Epoch 43/50\n",
            "7/7 [==============================] - 0s 9ms/step - loss: 0.5344 - accuracy: 0.8824 - val_loss: 0.5367 - val_accuracy: 0.8750\n",
            "Epoch 44/50\n",
            "7/7 [==============================] - 0s 11ms/step - loss: 0.5317 - accuracy: 0.8824 - val_loss: 0.5342 - val_accuracy: 0.8750\n",
            "Epoch 45/50\n",
            "7/7 [==============================] - 0s 7ms/step - loss: 0.5292 - accuracy: 0.8824 - val_loss: 0.5318 - val_accuracy: 0.8750\n",
            "Epoch 46/50\n",
            "7/7 [==============================] - 0s 9ms/step - loss: 0.5266 - accuracy: 0.8824 - val_loss: 0.5293 - val_accuracy: 0.8750\n",
            "Epoch 47/50\n",
            "7/7 [==============================] - 0s 9ms/step - loss: 0.5241 - accuracy: 0.8824 - val_loss: 0.5268 - val_accuracy: 0.8750\n",
            "Epoch 48/50\n",
            "7/7 [==============================] - 0s 7ms/step - loss: 0.5216 - accuracy: 0.8824 - val_loss: 0.5243 - val_accuracy: 0.8750\n",
            "Epoch 49/50\n",
            "7/7 [==============================] - 0s 9ms/step - loss: 0.5190 - accuracy: 0.8824 - val_loss: 0.5220 - val_accuracy: 0.8750\n",
            "Epoch 50/50\n",
            "7/7 [==============================] - 0s 9ms/step - loss: 0.5166 - accuracy: 0.8824 - val_loss: 0.5196 - val_accuracy: 0.8750\n"
          ]
        }
      ]
    },
    {
      "cell_type": "code",
      "source": [
        "target_names = pd.Categorical(df_indian['diet']).categories"
      ],
      "metadata": {
        "id": "RbWSE31wIuhg"
      },
      "execution_count": 103,
      "outputs": []
    },
    {
      "cell_type": "code",
      "source": [
        "y_prob = model_indian.predict(X_test_indian_padded)\n",
        "y_pred = np.argmax(y_prob,axis=1)\n",
        "print(classification_report(y_test_int_indian,y_pred, target_names=target_names))"
      ],
      "metadata": {
        "colab": {
          "base_uri": "https://localhost:8080/"
        },
        "outputId": "55d24b55-5a4b-4f6b-bc0e-17e74ac327d8",
        "id": "sLl8kN1JIuhg"
      },
      "execution_count": 104,
      "outputs": [
        {
          "output_type": "stream",
          "name": "stdout",
          "text": [
            "                precision    recall  f1-score   support\n",
            "\n",
            "non vegetarian       0.00      0.00      0.00        13\n",
            "    vegetarian       0.90      1.00      0.95       114\n",
            "\n",
            "      accuracy                           0.90       127\n",
            "     macro avg       0.45      0.50      0.47       127\n",
            "  weighted avg       0.81      0.90      0.85       127\n",
            "\n"
          ]
        },
        {
          "output_type": "stream",
          "name": "stderr",
          "text": [
            "/usr/local/lib/python3.7/dist-packages/sklearn/metrics/_classification.py:1318: UndefinedMetricWarning: Precision and F-score are ill-defined and being set to 0.0 in labels with no predicted samples. Use `zero_division` parameter to control this behavior.\n",
            "  _warn_prf(average, modifier, msg_start, len(result))\n",
            "/usr/local/lib/python3.7/dist-packages/sklearn/metrics/_classification.py:1318: UndefinedMetricWarning: Precision and F-score are ill-defined and being set to 0.0 in labels with no predicted samples. Use `zero_division` parameter to control this behavior.\n",
            "  _warn_prf(average, modifier, msg_start, len(result))\n",
            "/usr/local/lib/python3.7/dist-packages/sklearn/metrics/_classification.py:1318: UndefinedMetricWarning: Precision and F-score are ill-defined and being set to 0.0 in labels with no predicted samples. Use `zero_division` parameter to control this behavior.\n",
            "  _warn_prf(average, modifier, msg_start, len(result))\n"
          ]
        }
      ]
    }
  ]
}