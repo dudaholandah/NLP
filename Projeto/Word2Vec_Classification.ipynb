{
  "nbformat": 4,
  "nbformat_minor": 0,
  "metadata": {
    "colab": {
      "provenance": [],
      "collapsed_sections": [
        "WcLihi-R1K51",
        "7ykGfuKI1Qza",
        "VNAfDGAw1lC2",
        "J_mqxjOc19Hf",
        "W7JGhM5exbF3",
        "KKSQ-tNSxhf7",
        "J-FJCLP-bOqe",
        "zjnrlH62yWnQ",
        "LlVWjOrTCIF-"
      ],
      "toc_visible": true,
      "authorship_tag": "ABX9TyMJoirplCv/UhEIGAe8B5EA",
      "include_colab_link": true
    },
    "kernelspec": {
      "name": "python3",
      "display_name": "Python 3"
    },
    "language_info": {
      "name": "python"
    }
  },
  "cells": [
    {
      "cell_type": "markdown",
      "metadata": {
        "id": "view-in-github",
        "colab_type": "text"
      },
      "source": [
        "<a href=\"https://colab.research.google.com/github/dudaholandah/NLP/blob/main/Projeto/Word2Vec_Classification.ipynb\" target=\"_parent\"><img src=\"https://colab.research.google.com/assets/colab-badge.svg\" alt=\"Open In Colab\"/></a>"
      ]
    },
    {
      "cell_type": "markdown",
      "source": [
        "# Google Drive"
      ],
      "metadata": {
        "id": "WcLihi-R1K51"
      }
    },
    {
      "cell_type": "code",
      "execution_count": null,
      "metadata": {
        "id": "HF2bJKuw07dg"
      },
      "outputs": [],
      "source": [
        "from google.colab import drive\n",
        "drive.mount('/content/drive')"
      ]
    },
    {
      "cell_type": "code",
      "source": [
        "!cp -r '/content/drive/MyDrive/Datasets/cuisine-classification-ingredients' 'cuisine-classification-ingredients'"
      ],
      "metadata": {
        "id": "sFVXDnEj1ISk"
      },
      "execution_count": 2,
      "outputs": []
    },
    {
      "cell_type": "code",
      "source": [
        "!cp -r '/content/drive/MyDrive/Datasets/indian-food' 'indian-food'"
      ],
      "metadata": {
        "id": "VQNclFZ91Jop"
      },
      "execution_count": 3,
      "outputs": []
    },
    {
      "cell_type": "markdown",
      "source": [
        "# Imports"
      ],
      "metadata": {
        "id": "7ykGfuKI1Qza"
      }
    },
    {
      "cell_type": "code",
      "source": [
        "!pip install gensim --upgrade\n",
        "!pip install keras\n",
        "!pip install tensorflow\n",
        "!pip install keras-tuner --upgrade"
      ],
      "metadata": {
        "id": "SwIN9CAP1Rwu"
      },
      "execution_count": null,
      "outputs": []
    },
    {
      "cell_type": "code",
      "source": [
        "#WORD2VEC\n",
        "from gensim.models import Word2Vec\n",
        "import nltk\n",
        "from tensorflow.keras.preprocessing.text import Tokenizer\n",
        "from tensorflow.keras.preprocessing.sequence import pad_sequences\n",
        "nltk.download('punkt')\n",
        "#Neural Network\n",
        "import keras_tuner as kt\n",
        "from tensorflow import keras\n",
        "from keras.models import Sequential\n",
        "from keras.layers import Dense,Conv1D,Embedding,GlobalMaxPooling1D,Activation,SimpleRNN,Dropout,Masking,LSTM\n",
        "from sklearn.feature_extraction.text import TfidfVectorizer\n",
        "from tensorflow.keras.optimizers import SGD\n",
        "from keras_tuner import HyperModel\n",
        "import matplotlib.pyplot as plt\n",
        "from sklearn.metrics import classification_report\n",
        "from sklearn.metrics import ConfusionMatrixDisplay\n",
        "#Data\n",
        "import json\n",
        "import os\n",
        "import pandas as pd\n",
        "import re\n",
        "import numpy as np\n",
        "from sklearn.model_selection import train_test_split\n",
        "from keras.utils.np_utils import to_categorical"
      ],
      "metadata": {
        "id": "-chQxYTs1eCT"
      },
      "execution_count": null,
      "outputs": []
    },
    {
      "cell_type": "markdown",
      "source": [
        "# Data"
      ],
      "metadata": {
        "id": "VNAfDGAw1lC2"
      }
    },
    {
      "cell_type": "markdown",
      "source": [
        "## Download"
      ],
      "metadata": {
        "id": "J_mqxjOc19Hf"
      }
    },
    {
      "cell_type": "markdown",
      "source": [
        "### Cuisine Classification Data"
      ],
      "metadata": {
        "id": "W7JGhM5exbF3"
      }
    },
    {
      "cell_type": "code",
      "execution_count": 232,
      "metadata": {
        "id": "5JjYIn_kNSjR"
      },
      "outputs": [],
      "source": [
        "path = 'cuisine-classification-ingredients/train.json'\n",
        "\n",
        "with open(path, 'r') as f:\n",
        "  json_file = json.load(f)"
      ]
    },
    {
      "cell_type": "code",
      "execution_count": 233,
      "metadata": {
        "id": "Gb4Ib7JJP2ux"
      },
      "outputs": [],
      "source": [
        "df_cuisine = pd.DataFrame(json_file, columns=['id', 'cuisine', 'ingredients'])"
      ]
    },
    {
      "cell_type": "code",
      "execution_count": 234,
      "metadata": {
        "id": "YIld3-hEQEc7"
      },
      "outputs": [],
      "source": [
        "df_cuisine = df_cuisine.drop(['id'], axis=1)"
      ]
    },
    {
      "cell_type": "code",
      "source": [
        "df_cuisine = df_cuisine[:10000]"
      ],
      "metadata": {
        "id": "Q5FvHXN9NQZ-"
      },
      "execution_count": 235,
      "outputs": []
    },
    {
      "cell_type": "code",
      "source": [
        "df_cuisine.head(5)"
      ],
      "metadata": {
        "colab": {
          "base_uri": "https://localhost:8080/",
          "height": 0
        },
        "id": "pCXadN5t_c1O",
        "outputId": "a85e3440-5228-4e61-9690-54a092ee2593"
      },
      "execution_count": 236,
      "outputs": [
        {
          "output_type": "execute_result",
          "data": {
            "text/plain": [
              "       cuisine                                        ingredients\n",
              "0        greek  [romaine lettuce, black olives, grape tomatoes...\n",
              "1  southern_us  [plain flour, ground pepper, salt, tomatoes, g...\n",
              "2     filipino  [eggs, pepper, salt, mayonaise, cooking oil, g...\n",
              "3       indian                [water, vegetable oil, wheat, salt]\n",
              "4       indian  [black pepper, shallots, cornflour, cayenne pe..."
            ],
            "text/html": [
              "\n",
              "  <div id=\"df-8132f233-eb84-4520-90fa-81b5cbeb6a6d\">\n",
              "    <div class=\"colab-df-container\">\n",
              "      <div>\n",
              "<style scoped>\n",
              "    .dataframe tbody tr th:only-of-type {\n",
              "        vertical-align: middle;\n",
              "    }\n",
              "\n",
              "    .dataframe tbody tr th {\n",
              "        vertical-align: top;\n",
              "    }\n",
              "\n",
              "    .dataframe thead th {\n",
              "        text-align: right;\n",
              "    }\n",
              "</style>\n",
              "<table border=\"1\" class=\"dataframe\">\n",
              "  <thead>\n",
              "    <tr style=\"text-align: right;\">\n",
              "      <th></th>\n",
              "      <th>cuisine</th>\n",
              "      <th>ingredients</th>\n",
              "    </tr>\n",
              "  </thead>\n",
              "  <tbody>\n",
              "    <tr>\n",
              "      <th>0</th>\n",
              "      <td>greek</td>\n",
              "      <td>[romaine lettuce, black olives, grape tomatoes...</td>\n",
              "    </tr>\n",
              "    <tr>\n",
              "      <th>1</th>\n",
              "      <td>southern_us</td>\n",
              "      <td>[plain flour, ground pepper, salt, tomatoes, g...</td>\n",
              "    </tr>\n",
              "    <tr>\n",
              "      <th>2</th>\n",
              "      <td>filipino</td>\n",
              "      <td>[eggs, pepper, salt, mayonaise, cooking oil, g...</td>\n",
              "    </tr>\n",
              "    <tr>\n",
              "      <th>3</th>\n",
              "      <td>indian</td>\n",
              "      <td>[water, vegetable oil, wheat, salt]</td>\n",
              "    </tr>\n",
              "    <tr>\n",
              "      <th>4</th>\n",
              "      <td>indian</td>\n",
              "      <td>[black pepper, shallots, cornflour, cayenne pe...</td>\n",
              "    </tr>\n",
              "  </tbody>\n",
              "</table>\n",
              "</div>\n",
              "      <button class=\"colab-df-convert\" onclick=\"convertToInteractive('df-8132f233-eb84-4520-90fa-81b5cbeb6a6d')\"\n",
              "              title=\"Convert this dataframe to an interactive table.\"\n",
              "              style=\"display:none;\">\n",
              "        \n",
              "  <svg xmlns=\"http://www.w3.org/2000/svg\" height=\"24px\"viewBox=\"0 0 24 24\"\n",
              "       width=\"24px\">\n",
              "    <path d=\"M0 0h24v24H0V0z\" fill=\"none\"/>\n",
              "    <path d=\"M18.56 5.44l.94 2.06.94-2.06 2.06-.94-2.06-.94-.94-2.06-.94 2.06-2.06.94zm-11 1L8.5 8.5l.94-2.06 2.06-.94-2.06-.94L8.5 2.5l-.94 2.06-2.06.94zm10 10l.94 2.06.94-2.06 2.06-.94-2.06-.94-.94-2.06-.94 2.06-2.06.94z\"/><path d=\"M17.41 7.96l-1.37-1.37c-.4-.4-.92-.59-1.43-.59-.52 0-1.04.2-1.43.59L10.3 9.45l-7.72 7.72c-.78.78-.78 2.05 0 2.83L4 21.41c.39.39.9.59 1.41.59.51 0 1.02-.2 1.41-.59l7.78-7.78 2.81-2.81c.8-.78.8-2.07 0-2.86zM5.41 20L4 18.59l7.72-7.72 1.47 1.35L5.41 20z\"/>\n",
              "  </svg>\n",
              "      </button>\n",
              "      \n",
              "  <style>\n",
              "    .colab-df-container {\n",
              "      display:flex;\n",
              "      flex-wrap:wrap;\n",
              "      gap: 12px;\n",
              "    }\n",
              "\n",
              "    .colab-df-convert {\n",
              "      background-color: #E8F0FE;\n",
              "      border: none;\n",
              "      border-radius: 50%;\n",
              "      cursor: pointer;\n",
              "      display: none;\n",
              "      fill: #1967D2;\n",
              "      height: 32px;\n",
              "      padding: 0 0 0 0;\n",
              "      width: 32px;\n",
              "    }\n",
              "\n",
              "    .colab-df-convert:hover {\n",
              "      background-color: #E2EBFA;\n",
              "      box-shadow: 0px 1px 2px rgba(60, 64, 67, 0.3), 0px 1px 3px 1px rgba(60, 64, 67, 0.15);\n",
              "      fill: #174EA6;\n",
              "    }\n",
              "\n",
              "    [theme=dark] .colab-df-convert {\n",
              "      background-color: #3B4455;\n",
              "      fill: #D2E3FC;\n",
              "    }\n",
              "\n",
              "    [theme=dark] .colab-df-convert:hover {\n",
              "      background-color: #434B5C;\n",
              "      box-shadow: 0px 1px 3px 1px rgba(0, 0, 0, 0.15);\n",
              "      filter: drop-shadow(0px 1px 2px rgba(0, 0, 0, 0.3));\n",
              "      fill: #FFFFFF;\n",
              "    }\n",
              "  </style>\n",
              "\n",
              "      <script>\n",
              "        const buttonEl =\n",
              "          document.querySelector('#df-8132f233-eb84-4520-90fa-81b5cbeb6a6d button.colab-df-convert');\n",
              "        buttonEl.style.display =\n",
              "          google.colab.kernel.accessAllowed ? 'block' : 'none';\n",
              "\n",
              "        async function convertToInteractive(key) {\n",
              "          const element = document.querySelector('#df-8132f233-eb84-4520-90fa-81b5cbeb6a6d');\n",
              "          const dataTable =\n",
              "            await google.colab.kernel.invokeFunction('convertToInteractive',\n",
              "                                                     [key], {});\n",
              "          if (!dataTable) return;\n",
              "\n",
              "          const docLinkHtml = 'Like what you see? Visit the ' +\n",
              "            '<a target=\"_blank\" href=https://colab.research.google.com/notebooks/data_table.ipynb>data table notebook</a>'\n",
              "            + ' to learn more about interactive tables.';\n",
              "          element.innerHTML = '';\n",
              "          dataTable['output_type'] = 'display_data';\n",
              "          await google.colab.output.renderOutput(dataTable, element);\n",
              "          const docLink = document.createElement('div');\n",
              "          docLink.innerHTML = docLinkHtml;\n",
              "          element.appendChild(docLink);\n",
              "        }\n",
              "      </script>\n",
              "    </div>\n",
              "  </div>\n",
              "  "
            ]
          },
          "metadata": {},
          "execution_count": 236
        }
      ]
    },
    {
      "cell_type": "markdown",
      "source": [
        "### Indian Food Data"
      ],
      "metadata": {
        "id": "KKSQ-tNSxhf7"
      }
    },
    {
      "cell_type": "code",
      "source": [
        "path = 'indian-food/indian_food.csv'\n",
        "df_indian = pd.read_csv(path)"
      ],
      "metadata": {
        "id": "yKvncD4rxi2s"
      },
      "execution_count": 237,
      "outputs": []
    },
    {
      "cell_type": "code",
      "source": [
        "df_indian.head(5)"
      ],
      "metadata": {
        "colab": {
          "base_uri": "https://localhost:8080/",
          "height": 0
        },
        "id": "hoD6uJYQyi3j",
        "outputId": "7cbc998a-889f-4740-ce72-20829aea220f"
      },
      "execution_count": 238,
      "outputs": [
        {
          "output_type": "execute_result",
          "data": {
            "text/plain": [
              "             name                                        ingredients  \\\n",
              "0      Balu shahi                    Maida flour, yogurt, oil, sugar   \n",
              "1          Boondi                            Gram flour, ghee, sugar   \n",
              "2  Gajar ka halwa       Carrots, milk, sugar, ghee, cashews, raisins   \n",
              "3          Ghevar  Flour, ghee, kewra, milk, clarified butter, su...   \n",
              "4     Gulab jamun  Milk powder, plain flour, baking powder, ghee,...   \n",
              "\n",
              "         diet  prep_time  cook_time flavor_profile   course        state  \\\n",
              "0  vegetarian         45         25          sweet  dessert  West Bengal   \n",
              "1  vegetarian         80         30          sweet  dessert    Rajasthan   \n",
              "2  vegetarian         15         60          sweet  dessert       Punjab   \n",
              "3  vegetarian         15         30          sweet  dessert    Rajasthan   \n",
              "4  vegetarian         15         40          sweet  dessert  West Bengal   \n",
              "\n",
              "  region  \n",
              "0   East  \n",
              "1   West  \n",
              "2  North  \n",
              "3   West  \n",
              "4   East  "
            ],
            "text/html": [
              "\n",
              "  <div id=\"df-ff1b451f-b28e-4d5d-a905-876092050ebb\">\n",
              "    <div class=\"colab-df-container\">\n",
              "      <div>\n",
              "<style scoped>\n",
              "    .dataframe tbody tr th:only-of-type {\n",
              "        vertical-align: middle;\n",
              "    }\n",
              "\n",
              "    .dataframe tbody tr th {\n",
              "        vertical-align: top;\n",
              "    }\n",
              "\n",
              "    .dataframe thead th {\n",
              "        text-align: right;\n",
              "    }\n",
              "</style>\n",
              "<table border=\"1\" class=\"dataframe\">\n",
              "  <thead>\n",
              "    <tr style=\"text-align: right;\">\n",
              "      <th></th>\n",
              "      <th>name</th>\n",
              "      <th>ingredients</th>\n",
              "      <th>diet</th>\n",
              "      <th>prep_time</th>\n",
              "      <th>cook_time</th>\n",
              "      <th>flavor_profile</th>\n",
              "      <th>course</th>\n",
              "      <th>state</th>\n",
              "      <th>region</th>\n",
              "    </tr>\n",
              "  </thead>\n",
              "  <tbody>\n",
              "    <tr>\n",
              "      <th>0</th>\n",
              "      <td>Balu shahi</td>\n",
              "      <td>Maida flour, yogurt, oil, sugar</td>\n",
              "      <td>vegetarian</td>\n",
              "      <td>45</td>\n",
              "      <td>25</td>\n",
              "      <td>sweet</td>\n",
              "      <td>dessert</td>\n",
              "      <td>West Bengal</td>\n",
              "      <td>East</td>\n",
              "    </tr>\n",
              "    <tr>\n",
              "      <th>1</th>\n",
              "      <td>Boondi</td>\n",
              "      <td>Gram flour, ghee, sugar</td>\n",
              "      <td>vegetarian</td>\n",
              "      <td>80</td>\n",
              "      <td>30</td>\n",
              "      <td>sweet</td>\n",
              "      <td>dessert</td>\n",
              "      <td>Rajasthan</td>\n",
              "      <td>West</td>\n",
              "    </tr>\n",
              "    <tr>\n",
              "      <th>2</th>\n",
              "      <td>Gajar ka halwa</td>\n",
              "      <td>Carrots, milk, sugar, ghee, cashews, raisins</td>\n",
              "      <td>vegetarian</td>\n",
              "      <td>15</td>\n",
              "      <td>60</td>\n",
              "      <td>sweet</td>\n",
              "      <td>dessert</td>\n",
              "      <td>Punjab</td>\n",
              "      <td>North</td>\n",
              "    </tr>\n",
              "    <tr>\n",
              "      <th>3</th>\n",
              "      <td>Ghevar</td>\n",
              "      <td>Flour, ghee, kewra, milk, clarified butter, su...</td>\n",
              "      <td>vegetarian</td>\n",
              "      <td>15</td>\n",
              "      <td>30</td>\n",
              "      <td>sweet</td>\n",
              "      <td>dessert</td>\n",
              "      <td>Rajasthan</td>\n",
              "      <td>West</td>\n",
              "    </tr>\n",
              "    <tr>\n",
              "      <th>4</th>\n",
              "      <td>Gulab jamun</td>\n",
              "      <td>Milk powder, plain flour, baking powder, ghee,...</td>\n",
              "      <td>vegetarian</td>\n",
              "      <td>15</td>\n",
              "      <td>40</td>\n",
              "      <td>sweet</td>\n",
              "      <td>dessert</td>\n",
              "      <td>West Bengal</td>\n",
              "      <td>East</td>\n",
              "    </tr>\n",
              "  </tbody>\n",
              "</table>\n",
              "</div>\n",
              "      <button class=\"colab-df-convert\" onclick=\"convertToInteractive('df-ff1b451f-b28e-4d5d-a905-876092050ebb')\"\n",
              "              title=\"Convert this dataframe to an interactive table.\"\n",
              "              style=\"display:none;\">\n",
              "        \n",
              "  <svg xmlns=\"http://www.w3.org/2000/svg\" height=\"24px\"viewBox=\"0 0 24 24\"\n",
              "       width=\"24px\">\n",
              "    <path d=\"M0 0h24v24H0V0z\" fill=\"none\"/>\n",
              "    <path d=\"M18.56 5.44l.94 2.06.94-2.06 2.06-.94-2.06-.94-.94-2.06-.94 2.06-2.06.94zm-11 1L8.5 8.5l.94-2.06 2.06-.94-2.06-.94L8.5 2.5l-.94 2.06-2.06.94zm10 10l.94 2.06.94-2.06 2.06-.94-2.06-.94-.94-2.06-.94 2.06-2.06.94z\"/><path d=\"M17.41 7.96l-1.37-1.37c-.4-.4-.92-.59-1.43-.59-.52 0-1.04.2-1.43.59L10.3 9.45l-7.72 7.72c-.78.78-.78 2.05 0 2.83L4 21.41c.39.39.9.59 1.41.59.51 0 1.02-.2 1.41-.59l7.78-7.78 2.81-2.81c.8-.78.8-2.07 0-2.86zM5.41 20L4 18.59l7.72-7.72 1.47 1.35L5.41 20z\"/>\n",
              "  </svg>\n",
              "      </button>\n",
              "      \n",
              "  <style>\n",
              "    .colab-df-container {\n",
              "      display:flex;\n",
              "      flex-wrap:wrap;\n",
              "      gap: 12px;\n",
              "    }\n",
              "\n",
              "    .colab-df-convert {\n",
              "      background-color: #E8F0FE;\n",
              "      border: none;\n",
              "      border-radius: 50%;\n",
              "      cursor: pointer;\n",
              "      display: none;\n",
              "      fill: #1967D2;\n",
              "      height: 32px;\n",
              "      padding: 0 0 0 0;\n",
              "      width: 32px;\n",
              "    }\n",
              "\n",
              "    .colab-df-convert:hover {\n",
              "      background-color: #E2EBFA;\n",
              "      box-shadow: 0px 1px 2px rgba(60, 64, 67, 0.3), 0px 1px 3px 1px rgba(60, 64, 67, 0.15);\n",
              "      fill: #174EA6;\n",
              "    }\n",
              "\n",
              "    [theme=dark] .colab-df-convert {\n",
              "      background-color: #3B4455;\n",
              "      fill: #D2E3FC;\n",
              "    }\n",
              "\n",
              "    [theme=dark] .colab-df-convert:hover {\n",
              "      background-color: #434B5C;\n",
              "      box-shadow: 0px 1px 3px 1px rgba(0, 0, 0, 0.15);\n",
              "      filter: drop-shadow(0px 1px 2px rgba(0, 0, 0, 0.3));\n",
              "      fill: #FFFFFF;\n",
              "    }\n",
              "  </style>\n",
              "\n",
              "      <script>\n",
              "        const buttonEl =\n",
              "          document.querySelector('#df-ff1b451f-b28e-4d5d-a905-876092050ebb button.colab-df-convert');\n",
              "        buttonEl.style.display =\n",
              "          google.colab.kernel.accessAllowed ? 'block' : 'none';\n",
              "\n",
              "        async function convertToInteractive(key) {\n",
              "          const element = document.querySelector('#df-ff1b451f-b28e-4d5d-a905-876092050ebb');\n",
              "          const dataTable =\n",
              "            await google.colab.kernel.invokeFunction('convertToInteractive',\n",
              "                                                     [key], {});\n",
              "          if (!dataTable) return;\n",
              "\n",
              "          const docLinkHtml = 'Like what you see? Visit the ' +\n",
              "            '<a target=\"_blank\" href=https://colab.research.google.com/notebooks/data_table.ipynb>data table notebook</a>'\n",
              "            + ' to learn more about interactive tables.';\n",
              "          element.innerHTML = '';\n",
              "          dataTable['output_type'] = 'display_data';\n",
              "          await google.colab.output.renderOutput(dataTable, element);\n",
              "          const docLink = document.createElement('div');\n",
              "          docLink.innerHTML = docLinkHtml;\n",
              "          element.appendChild(docLink);\n",
              "        }\n",
              "      </script>\n",
              "    </div>\n",
              "  </div>\n",
              "  "
            ]
          },
          "metadata": {},
          "execution_count": 238
        }
      ]
    },
    {
      "cell_type": "markdown",
      "metadata": {
        "id": "J-FJCLP-bOqe"
      },
      "source": [
        "## Pre-Processing"
      ]
    },
    {
      "cell_type": "code",
      "execution_count": 239,
      "metadata": {
        "id": "MRibRNivbUE1"
      },
      "outputs": [],
      "source": [
        "def pre_processing(text):\n",
        "  new = \"\"\n",
        "  for word in text.split(','):\n",
        "    word = re.sub(r'[^\\w\\s]', '', word.lower())\n",
        "    word = re.sub(r'[0-9]+', '', word)\n",
        "    word = re.sub(r'\\boz\\b', '', word)\n",
        "    word = re.sub(r'\\ba taste of\\b', '', word)\n",
        "    new = new + word.strip() + \" \"\n",
        "\n",
        "  return new[:-1]"
      ]
    },
    {
      "cell_type": "markdown",
      "source": [
        "### Cuisine Classification Data"
      ],
      "metadata": {
        "id": "h0V6CWFayRIn"
      }
    },
    {
      "cell_type": "code",
      "execution_count": 240,
      "metadata": {
        "id": "bhmVcEwdQnjh"
      },
      "outputs": [],
      "source": [
        "df_cuisine['ingredients'] = [','.join(x).strip() for x in df_cuisine['ingredients']]"
      ]
    },
    {
      "cell_type": "code",
      "execution_count": 241,
      "metadata": {
        "id": "4qc9fp0jcaDG"
      },
      "outputs": [],
      "source": [
        "df_cuisine['ingredients'] = [pre_processing(x) for x in df_cuisine['ingredients']]"
      ]
    },
    {
      "cell_type": "code",
      "source": [
        "X = df_cuisine['ingredients']\n",
        "y = df_cuisine['cuisine']\n",
        "\n",
        "# dados de teste = 20% do treinamento\n",
        "X_train_cuisine, X_test_cuisine, y_train_cuisine, y_test_cuisine = train_test_split(X, y, test_size=0.2)\n",
        "\n",
        "# dados de validacao = 50% do teste\n",
        "X_test_cuisine, X_valid_cuisine, y_test_cuisine, y_valid_cuisine = train_test_split(X, y, test_size=0.5)"
      ],
      "metadata": {
        "id": "u96xaQ5MJO2o"
      },
      "execution_count": 242,
      "outputs": []
    },
    {
      "cell_type": "code",
      "source": [
        "y_train_cuisine = pd.Categorical(y_train_cuisine)\n",
        "y_train_int_cuisine = y_train_cuisine.codes\n",
        "\n",
        "y_valid_cuisine = pd.Categorical(y_valid_cuisine)\n",
        "y_valid_int_cuisine = y_valid_cuisine.codes\n",
        "\n",
        "y_test_cuisine = pd.Categorical(y_test_cuisine)\n",
        "target_names_cuisine = y_test_cuisine.categories\n",
        "y_test_int_cuisine = y_test_cuisine.codes\n",
        "\n",
        "y_train_cuisine = to_categorical(y_train_int_cuisine)\n",
        "y_valid_cuisine = to_categorical(y_valid_int_cuisine)\n",
        "y_test_cuisine = to_categorical(y_test_int_cuisine)"
      ],
      "metadata": {
        "id": "6hNPne2f7SxN"
      },
      "execution_count": 243,
      "outputs": []
    },
    {
      "cell_type": "markdown",
      "source": [
        "### Indian Food Data"
      ],
      "metadata": {
        "id": "zjnrlH62yWnQ"
      }
    },
    {
      "cell_type": "code",
      "source": [
        "df_indian['ingredients'] = [pre_processing(x) for x in df_indian['ingredients']]"
      ],
      "metadata": {
        "id": "DLs5igUXytMt"
      },
      "execution_count": 244,
      "outputs": []
    },
    {
      "cell_type": "code",
      "source": [
        "X = df_indian['ingredients']\n",
        "y = df_indian['diet']\n",
        "\n",
        "# dados de teste = 20% do treinamento\n",
        "X_train_indian, X_test_indian, y_train_indian, y_test_indian = train_test_split(X, y, test_size=0.2)\n",
        "\n",
        "# dados de validacao = 50% do teste\n",
        "X_test_indian, X_valid_indian, y_test_indian, y_valid_indian = train_test_split(X, y, test_size=0.5)"
      ],
      "metadata": {
        "id": "kSIBzujzy8rI"
      },
      "execution_count": 245,
      "outputs": []
    },
    {
      "cell_type": "code",
      "source": [
        "y_train_indian = pd.Categorical(y_train_indian)\n",
        "y_train_int_indian = y_train_indian.codes\n",
        "\n",
        "y_valid_indian = pd.Categorical(y_valid_indian)\n",
        "y_valid_int_indian = y_valid_indian.codes\n",
        "\n",
        "y_test_indian = pd.Categorical(y_test_indian)\n",
        "target_names_indian = y_test_indian.categories\n",
        "y_test_int_indian = y_test_indian.codes\n",
        "\n",
        "y_train_indian = to_categorical(y_train_int_indian)\n",
        "y_valid_indian = to_categorical(y_valid_int_indian)\n",
        "y_test_indian = to_categorical(y_test_int_indian)"
      ],
      "metadata": {
        "id": "WMGPvdJF7VxY"
      },
      "execution_count": 246,
      "outputs": []
    },
    {
      "cell_type": "markdown",
      "source": [
        "# Word2Vec"
      ],
      "metadata": {
        "id": "iPpD__hB11D2"
      }
    },
    {
      "cell_type": "code",
      "source": [
        "def create_embedding_matrix(tokenizer, model, vocab_size, embedding_dim):\n",
        "  embedding_matrix = np.zeros((vocab_size, embedding_dim))\n",
        "  for word, i in tokenizer.word_index.items():\n",
        "    if word in model.wv:\n",
        "      embedding_matrix[i] = model.wv.get_vector(word)\n",
        "    else:\n",
        "      embedding_matrix[i]=np.random.normal(0,np.sqrt(0.25), embedding_dim)\n",
        "  return embedding_matrix"
      ],
      "metadata": {
        "id": "9seXGB8U9Gd1"
      },
      "execution_count": 271,
      "outputs": []
    },
    {
      "cell_type": "markdown",
      "source": [
        "### Cuisine Classification Data"
      ],
      "metadata": {
        "id": "fV8dh6od8f4o"
      }
    },
    {
      "cell_type": "code",
      "source": [
        "EMBEDDING_DIM = 100\n",
        "MAX_LENGTH_C = 50"
      ],
      "metadata": {
        "id": "8q6eOy_DFW1S"
      },
      "execution_count": 272,
      "outputs": []
    },
    {
      "cell_type": "code",
      "source": [
        "# Tokenizer\n",
        "tokenizer = Tokenizer()\n",
        "tokenizer.fit_on_texts(X_train_cuisine)\n",
        "vocab_size_cuisine = len(tokenizer.word_index) + 1"
      ],
      "metadata": {
        "id": "XWFgwCcVW00s"
      },
      "execution_count": 273,
      "outputs": []
    },
    {
      "cell_type": "code",
      "source": [
        "# Train Data\n",
        "encoded_cuisine = tokenizer.texts_to_sequences(X_train_cuisine)\n",
        "X_train_cuisine_padded = pad_sequences(encoded_cuisine, maxlen=MAX_LENGTH_C, padding='post', truncating='post')\n",
        "\n",
        "# Valid Data\n",
        "encoded_cuisine = tokenizer.texts_to_sequences(X_valid_cuisine)\n",
        "X_valid_cuisine_padded = pad_sequences(encoded_cuisine, maxlen=MAX_LENGTH_C, padding='post', truncating='post')\n",
        "\n",
        "# Test Data\n",
        "encoded_cuisine = tokenizer.texts_to_sequences(X_test_cuisine)\n",
        "X_test_cuisine_padded = pad_sequences(encoded_cuisine, maxlen=MAX_LENGTH_C, padding='post', truncating='post')"
      ],
      "metadata": {
        "id": "b6PPurhP6Blz"
      },
      "execution_count": 274,
      "outputs": []
    },
    {
      "cell_type": "code",
      "source": [
        "# EMBEDDING LAYER\n",
        "\n",
        "ingredients = '. '.join(X_train_cuisine)\n",
        "sentences = nltk.sent_tokenize(ingredients)\n",
        "\n",
        "sentences = [nltk.word_tokenize(sentence) for sentence in sentences]\n",
        "model_word2vec = Word2Vec(sentences, vector_size=EMBEDDING_DIM, min_count=1, window=5, sg=1,workers=4)\n",
        "\n",
        "embedding_matrix_cuisine = create_embedding_matrix(tokenizer, model_word2vec, vocab_size_cuisine, EMBEDDING_DIM)"
      ],
      "metadata": {
        "id": "sOvL-7eLDrwb"
      },
      "execution_count": 275,
      "outputs": []
    },
    {
      "cell_type": "code",
      "source": [
        "embedding_matrix_cuisine.shape"
      ],
      "metadata": {
        "colab": {
          "base_uri": "https://localhost:8080/"
        },
        "id": "rcmG5StZa_sy",
        "outputId": "fa753dd5-f552-426d-8cec-970ea0c6aaa3"
      },
      "execution_count": 276,
      "outputs": [
        {
          "output_type": "execute_result",
          "data": {
            "text/plain": [
              "(2151, 100)"
            ]
          },
          "metadata": {},
          "execution_count": 276
        }
      ]
    },
    {
      "cell_type": "markdown",
      "source": [
        "### Indian Food Data"
      ],
      "metadata": {
        "id": "zSNr9TDu8f4o"
      }
    },
    {
      "cell_type": "code",
      "source": [
        "EMBEDDING_DIM = 100\n",
        "MAX_LENGTH_I = 12"
      ],
      "metadata": {
        "id": "Fqph4edwF23_"
      },
      "execution_count": 286,
      "outputs": []
    },
    {
      "cell_type": "code",
      "source": [
        "# Tokenizer\n",
        "tokenizer = Tokenizer()\n",
        "tokenizer.fit_on_texts(X_train_indian)\n",
        "vocab_size_indian = len(tokenizer.word_index) + 1"
      ],
      "metadata": {
        "id": "vrIWHLp-XADN"
      },
      "execution_count": 287,
      "outputs": []
    },
    {
      "cell_type": "code",
      "source": [
        "# Train Data\n",
        "encoded_indian = tokenizer.texts_to_sequences(X_train_indian)\n",
        "X_train_indian_padded = pad_sequences(encoded_indian, maxlen=MAX_LENGTH_I, padding='post', truncating='post')\n",
        "\n",
        "# Validation Data\n",
        "encoded_indian = tokenizer.texts_to_sequences(X_valid_indian)\n",
        "X_valid_indian_padded = pad_sequences(encoded_indian, maxlen=MAX_LENGTH_I, padding='post', truncating='post')\n",
        "\n",
        "# Test Data\n",
        "encoded_indian = tokenizer.texts_to_sequences(X_test_indian)\n",
        "X_test_indian_padded = pad_sequences(encoded_indian, maxlen=MAX_LENGTH_I, padding='post', truncating='post')"
      ],
      "metadata": {
        "id": "Tputp7348nto"
      },
      "execution_count": 288,
      "outputs": []
    },
    {
      "cell_type": "code",
      "source": [
        "# EMBEDDING LAYER\n",
        "\n",
        "ingredients = '. '.join(X_train_indian)\n",
        "sentences = nltk.sent_tokenize(ingredients)\n",
        "\n",
        "sentences = [nltk.word_tokenize(sentence) for sentence in sentences]\n",
        "model_word2vec = Word2Vec(sentences, vector_size=EMBEDDING_DIM, min_count=1, window=5, sg=1,workers=4)\n",
        "\n",
        "embedding_matrix_indian = create_embedding_matrix(tokenizer, model_word2vec, vocab_size_indian, EMBEDDING_DIM)"
      ],
      "metadata": {
        "id": "bnBHA5O58nto"
      },
      "execution_count": 289,
      "outputs": []
    },
    {
      "cell_type": "code",
      "source": [
        "max_ingredients = 20\n",
        "\n",
        "hist = {}\n",
        "\n",
        "hist['qtde'] = [x for x in range(0,max_ingredients)]\n",
        "\n",
        "lista = [0]*(max_ingredients)\n",
        "for x in encoded_indian:\n",
        "    lista[len(x)]+=1\n",
        "\n",
        "hist['num food'] = lista\n",
        "fig = plt.figure(figsize = (10, 5))\n",
        " \n",
        "plt.bar(hist['qtde'],hist['num food'],\n",
        "        color ='blue')\n",
        " \n",
        "plt.xlabel(\"Number of ingredients\")\n",
        "plt.ylabel(\"Number of food\")\n",
        "plt.title(\"Comparing number of ingredients and number of food\")\n",
        "plt.show()"
      ],
      "metadata": {
        "colab": {
          "base_uri": "https://localhost:8080/",
          "height": 0
        },
        "outputId": "397ae828-cea5-4488-ad87-67c50fc6d250",
        "id": "hCwfro3R8nto"
      },
      "execution_count": 290,
      "outputs": [
        {
          "output_type": "display_data",
          "data": {
            "text/plain": [
              "<Figure size 720x360 with 1 Axes>"
            ],
            "image/png": "[encoded data removed]"
          },
          "metadata": {
            "needs_background": "light"
          }
        }
      ]
    },
    {
      "cell_type": "markdown",
      "source": [
        "# CNN"
      ],
      "metadata": {
        "id": "HIQ72WsJ3gAx"
      }
    },
    {
      "cell_type": "code",
      "source": [
        "class CNNHyperModel(HyperModel):\n",
        "  def __init__(self, embedding_layer, output):\n",
        "    self.embedding_layer = embedding_layer\n",
        "    self.output = output\n",
        "\n",
        "  def build(self, hp):\n",
        "    model = Sequential()\n",
        "    model.add(self.embedding_layer)\n",
        "    model.add(Conv1D(filters=128, kernel_size=6, strides=1, activation='relu'))\n",
        "    model.add(Dropout(0.5))\n",
        "    model.add(GlobalMaxPooling1D())\n",
        "    model.add(Dense(128, activation='relu'))\n",
        "    model.add(Dense(64, activation='relu'))\n",
        "    model.add(Dense(self.output, activation='softmax'))\n",
        "    sgd = SGD(learning_rate=0.01)\n",
        "    model.compile(loss=\"categorical_crossentropy\",optimizer=sgd,metrics=['accuracy'])\n",
        "    return model"
      ],
      "metadata": {
        "id": "E0Mz-bZ03iwE"
      },
      "execution_count": 282,
      "outputs": []
    },
    {
      "cell_type": "markdown",
      "source": [
        "### Cuisine Classification Data"
      ],
      "metadata": {
        "id": "K_Ew4Uj3IqFx"
      }
    },
    {
      "cell_type": "code",
      "source": [
        "embedding_layer = Embedding(input_dim=vocab_size_cuisine, output_dim=EMBEDDING_DIM, weights=[embedding_matrix_cuisine], input_length=MAX_LENGTH_C, trainable=False)"
      ],
      "metadata": {
        "id": "QMLmqm2szEo7"
      },
      "execution_count": 291,
      "outputs": []
    },
    {
      "cell_type": "code",
      "source": [
        "model_CNN = CNNHyperModel(embedding_layer, 20)"
      ],
      "metadata": {
        "id": "FyEDxSA5IFwZ"
      },
      "execution_count": 292,
      "outputs": []
    },
    {
      "cell_type": "code",
      "source": [
        "model_cuisine = model_CNN.build(0)"
      ],
      "metadata": {
        "id": "gUZTEC0lIFwa"
      },
      "execution_count": 293,
      "outputs": []
    },
    {
      "cell_type": "code",
      "source": [
        "model_cuisine.summary()"
      ],
      "metadata": {
        "colab": {
          "base_uri": "https://localhost:8080/"
        },
        "id": "D7KhTzglIRu7",
        "outputId": "861c33d0-ba84-4e1b-c1ad-a6d9cf586cf5"
      },
      "execution_count": 294,
      "outputs": [
        {
          "output_type": "stream",
          "name": "stdout",
          "text": [
            "Model: \"sequential_28\"\n",
            "_________________________________________________________________\n",
            " Layer (type)                Output Shape              Param #   \n",
            "=================================================================\n",
            " embedding_26 (Embedding)    (None, 50, 100)           215100    \n",
            "                                                                 \n",
            " conv1d_18 (Conv1D)          (None, 45, 128)           76928     \n",
            "                                                                 \n",
            " dropout_13 (Dropout)        (None, 45, 128)           0         \n",
            "                                                                 \n",
            " global_max_pooling1d_19 (Gl  (None, 128)              0         \n",
            " obalMaxPooling1D)                                               \n",
            "                                                                 \n",
            " dense_60 (Dense)            (None, 128)               16512     \n",
            "                                                                 \n",
            " dense_61 (Dense)            (None, 64)                8256      \n",
            "                                                                 \n",
            " dense_62 (Dense)            (None, 20)                1300      \n",
            "                                                                 \n",
            "=================================================================\n",
            "Total params: 318,096\n",
            "Trainable params: 102,996\n",
            "Non-trainable params: 215,100\n",
            "_________________________________________________________________\n"
          ]
        }
      ]
    },
    {
      "cell_type": "code",
      "source": [
        "history_fine = model_cuisine.fit(X_train_cuisine_padded,y_train_cuisine,validation_data=(X_valid_cuisine_padded,y_valid_cuisine), epochs=100) "
      ],
      "metadata": {
        "id": "eMrbo0RMIFwa",
        "colab": {
          "base_uri": "https://localhost:8080/"
        },
        "outputId": "8f08db8b-5b05-45eb-d786-fca3360a2a79"
      },
      "execution_count": 295,
      "outputs": [
        {
          "output_type": "stream",
          "name": "stdout",
          "text": [
            "Epoch 1/100\n",
            "250/250 [==============================] - 6s 21ms/step - loss: 2.3551 - accuracy: 0.3394 - val_loss: 2.2708 - val_accuracy: 0.4648\n",
            "Epoch 2/100\n",
            "250/250 [==============================] - 5s 20ms/step - loss: 1.8191 - accuracy: 0.4946 - val_loss: 1.9663 - val_accuracy: 0.5426\n",
            "Epoch 3/100\n",
            "250/250 [==============================] - 5s 20ms/step - loss: 1.5652 - accuracy: 0.5379 - val_loss: 1.7510 - val_accuracy: 0.5612\n",
            "Epoch 4/100\n",
            "250/250 [==============================] - 5s 20ms/step - loss: 1.4494 - accuracy: 0.5595 - val_loss: 1.6920 - val_accuracy: 0.5740\n",
            "Epoch 5/100\n",
            "250/250 [==============================] - 5s 20ms/step - loss: 1.3842 - accuracy: 0.5716 - val_loss: 1.6005 - val_accuracy: 0.5976\n",
            "Epoch 6/100\n",
            "250/250 [==============================] - 7s 27ms/step - loss: 1.3326 - accuracy: 0.5916 - val_loss: 1.5488 - val_accuracy: 0.6126\n",
            "Epoch 7/100\n",
            "250/250 [==============================] - 5s 20ms/step - loss: 1.2980 - accuracy: 0.5965 - val_loss: 1.4962 - val_accuracy: 0.6224\n",
            "Epoch 8/100\n",
            "250/250 [==============================] - 5s 20ms/step - loss: 1.2631 - accuracy: 0.6091 - val_loss: 1.4901 - val_accuracy: 0.6220\n",
            "Epoch 9/100\n",
            "250/250 [==============================] - 5s 20ms/step - loss: 1.2263 - accuracy: 0.6192 - val_loss: 1.4052 - val_accuracy: 0.6178\n",
            "Epoch 10/100\n",
            "250/250 [==============================] - 5s 20ms/step - loss: 1.2072 - accuracy: 0.6205 - val_loss: 1.3968 - val_accuracy: 0.6370\n",
            "Epoch 11/100\n",
            "250/250 [==============================] - 5s 20ms/step - loss: 1.1850 - accuracy: 0.6266 - val_loss: 1.3924 - val_accuracy: 0.6416\n",
            "Epoch 12/100\n",
            "250/250 [==============================] - 5s 20ms/step - loss: 1.1621 - accuracy: 0.6374 - val_loss: 1.3265 - val_accuracy: 0.6474\n",
            "Epoch 13/100\n",
            "250/250 [==============================] - 5s 20ms/step - loss: 1.1343 - accuracy: 0.6449 - val_loss: 1.3099 - val_accuracy: 0.6614\n",
            "Epoch 14/100\n",
            "250/250 [==============================] - 5s 20ms/step - loss: 1.1206 - accuracy: 0.6481 - val_loss: 1.2986 - val_accuracy: 0.6698\n",
            "Epoch 15/100\n",
            "250/250 [==============================] - 5s 20ms/step - loss: 1.0978 - accuracy: 0.6569 - val_loss: 1.2569 - val_accuracy: 0.6646\n",
            "Epoch 16/100\n",
            "250/250 [==============================] - 5s 20ms/step - loss: 1.0810 - accuracy: 0.6645 - val_loss: 1.2503 - val_accuracy: 0.6772\n",
            "Epoch 17/100\n",
            "250/250 [==============================] - 5s 20ms/step - loss: 1.0546 - accuracy: 0.6683 - val_loss: 1.2548 - val_accuracy: 0.6862\n",
            "Epoch 18/100\n",
            "250/250 [==============================] - 5s 22ms/step - loss: 1.0451 - accuracy: 0.6700 - val_loss: 1.2203 - val_accuracy: 0.6894\n",
            "Epoch 19/100\n",
            "250/250 [==============================] - 6s 25ms/step - loss: 1.0249 - accuracy: 0.6821 - val_loss: 1.2302 - val_accuracy: 0.6918\n",
            "Epoch 20/100\n",
            "250/250 [==============================] - 5s 20ms/step - loss: 1.0234 - accuracy: 0.6799 - val_loss: 1.2139 - val_accuracy: 0.7040\n",
            "Epoch 21/100\n",
            "250/250 [==============================] - 5s 20ms/step - loss: 0.9989 - accuracy: 0.6850 - val_loss: 1.1607 - val_accuracy: 0.7036\n",
            "Epoch 22/100\n",
            "250/250 [==============================] - 5s 20ms/step - loss: 0.9855 - accuracy: 0.6927 - val_loss: 1.1777 - val_accuracy: 0.7240\n",
            "Epoch 23/100\n",
            "250/250 [==============================] - 5s 20ms/step - loss: 0.9709 - accuracy: 0.6920 - val_loss: 1.1810 - val_accuracy: 0.7128\n",
            "Epoch 24/100\n",
            "250/250 [==============================] - 5s 20ms/step - loss: 0.9561 - accuracy: 0.6971 - val_loss: 1.1252 - val_accuracy: 0.7246\n",
            "Epoch 25/100\n",
            "250/250 [==============================] - 5s 20ms/step - loss: 0.9460 - accuracy: 0.7063 - val_loss: 1.1130 - val_accuracy: 0.7292\n",
            "Epoch 26/100\n",
            "250/250 [==============================] - 5s 20ms/step - loss: 0.9326 - accuracy: 0.7040 - val_loss: 1.0927 - val_accuracy: 0.7384\n",
            "Epoch 27/100\n",
            "250/250 [==============================] - 8s 33ms/step - loss: 0.9157 - accuracy: 0.7080 - val_loss: 1.0533 - val_accuracy: 0.7342\n",
            "Epoch 28/100\n",
            "250/250 [==============================] - 5s 21ms/step - loss: 0.9117 - accuracy: 0.7114 - val_loss: 1.0662 - val_accuracy: 0.7532\n",
            "Epoch 29/100\n",
            "250/250 [==============================] - 5s 20ms/step - loss: 0.8895 - accuracy: 0.7186 - val_loss: 1.0555 - val_accuracy: 0.7476\n",
            "Epoch 30/100\n",
            "250/250 [==============================] - 5s 20ms/step - loss: 0.8728 - accuracy: 0.7256 - val_loss: 1.0380 - val_accuracy: 0.7544\n",
            "Epoch 31/100\n",
            "250/250 [==============================] - 5s 20ms/step - loss: 0.8642 - accuracy: 0.7286 - val_loss: 1.0378 - val_accuracy: 0.7540\n",
            "Epoch 32/100\n",
            "250/250 [==============================] - 5s 20ms/step - loss: 0.8620 - accuracy: 0.7255 - val_loss: 0.9890 - val_accuracy: 0.7500\n",
            "Epoch 33/100\n",
            "250/250 [==============================] - 5s 20ms/step - loss: 0.8413 - accuracy: 0.7315 - val_loss: 0.9730 - val_accuracy: 0.7634\n",
            "Epoch 34/100\n",
            "250/250 [==============================] - 5s 20ms/step - loss: 0.8314 - accuracy: 0.7318 - val_loss: 0.9795 - val_accuracy: 0.7774\n",
            "Epoch 35/100\n",
            "250/250 [==============================] - 5s 20ms/step - loss: 0.8225 - accuracy: 0.7381 - val_loss: 0.9872 - val_accuracy: 0.7668\n",
            "Epoch 36/100\n",
            "250/250 [==============================] - 5s 20ms/step - loss: 0.8088 - accuracy: 0.7424 - val_loss: 0.9350 - val_accuracy: 0.7758\n",
            "Epoch 37/100\n",
            "250/250 [==============================] - 5s 20ms/step - loss: 0.8022 - accuracy: 0.7455 - val_loss: 0.9686 - val_accuracy: 0.7860\n",
            "Epoch 38/100\n",
            "250/250 [==============================] - 8s 30ms/step - loss: 0.7917 - accuracy: 0.7492 - val_loss: 0.9190 - val_accuracy: 0.7800\n",
            "Epoch 39/100\n",
            "250/250 [==============================] - 5s 20ms/step - loss: 0.7755 - accuracy: 0.7514 - val_loss: 0.9150 - val_accuracy: 0.7886\n",
            "Epoch 40/100\n",
            "250/250 [==============================] - 5s 20ms/step - loss: 0.7616 - accuracy: 0.7569 - val_loss: 0.8968 - val_accuracy: 0.8126\n",
            "Epoch 41/100\n",
            "250/250 [==============================] - 5s 20ms/step - loss: 0.7550 - accuracy: 0.7579 - val_loss: 0.8850 - val_accuracy: 0.7874\n",
            "Epoch 42/100\n",
            "250/250 [==============================] - 5s 20ms/step - loss: 0.7426 - accuracy: 0.7626 - val_loss: 0.9037 - val_accuracy: 0.8026\n",
            "Epoch 43/100\n",
            "250/250 [==============================] - 5s 20ms/step - loss: 0.7373 - accuracy: 0.7667 - val_loss: 0.8666 - val_accuracy: 0.8032\n",
            "Epoch 44/100\n",
            "250/250 [==============================] - 5s 20ms/step - loss: 0.7165 - accuracy: 0.7682 - val_loss: 0.8404 - val_accuracy: 0.8188\n",
            "Epoch 45/100\n",
            "250/250 [==============================] - 5s 20ms/step - loss: 0.7157 - accuracy: 0.7760 - val_loss: 0.8203 - val_accuracy: 0.8178\n",
            "Epoch 46/100\n",
            "250/250 [==============================] - 5s 20ms/step - loss: 0.7044 - accuracy: 0.7726 - val_loss: 0.8169 - val_accuracy: 0.8200\n",
            "Epoch 47/100\n",
            "250/250 [==============================] - 5s 21ms/step - loss: 0.6857 - accuracy: 0.7760 - val_loss: 0.8136 - val_accuracy: 0.8236\n",
            "Epoch 48/100\n",
            "250/250 [==============================] - 5s 20ms/step - loss: 0.6832 - accuracy: 0.7854 - val_loss: 0.8169 - val_accuracy: 0.8214\n",
            "Epoch 49/100\n",
            "250/250 [==============================] - 5s 20ms/step - loss: 0.6809 - accuracy: 0.7781 - val_loss: 0.7664 - val_accuracy: 0.8336\n",
            "Epoch 50/100\n",
            "250/250 [==============================] - 5s 20ms/step - loss: 0.6551 - accuracy: 0.7904 - val_loss: 0.7619 - val_accuracy: 0.8230\n",
            "Epoch 51/100\n",
            "250/250 [==============================] - 5s 20ms/step - loss: 0.6534 - accuracy: 0.7889 - val_loss: 0.7512 - val_accuracy: 0.8372\n",
            "Epoch 52/100\n",
            "250/250 [==============================] - 5s 20ms/step - loss: 0.6526 - accuracy: 0.7903 - val_loss: 0.8089 - val_accuracy: 0.8292\n",
            "Epoch 53/100\n",
            "250/250 [==============================] - 5s 20ms/step - loss: 0.6323 - accuracy: 0.7964 - val_loss: 0.7681 - val_accuracy: 0.8228\n",
            "Epoch 54/100\n",
            "250/250 [==============================] - 5s 20ms/step - loss: 0.6347 - accuracy: 0.7956 - val_loss: 0.7688 - val_accuracy: 0.8250\n",
            "Epoch 55/100\n",
            "250/250 [==============================] - 5s 20ms/step - loss: 0.6280 - accuracy: 0.7999 - val_loss: 0.7175 - val_accuracy: 0.8460\n",
            "Epoch 56/100\n",
            "250/250 [==============================] - 5s 20ms/step - loss: 0.6077 - accuracy: 0.8018 - val_loss: 0.7201 - val_accuracy: 0.8452\n",
            "Epoch 57/100\n",
            "250/250 [==============================] - 5s 20ms/step - loss: 0.6133 - accuracy: 0.7986 - val_loss: 0.7117 - val_accuracy: 0.8582\n",
            "Epoch 58/100\n",
            "250/250 [==============================] - 8s 30ms/step - loss: 0.5981 - accuracy: 0.8066 - val_loss: 0.6937 - val_accuracy: 0.8538\n",
            "Epoch 59/100\n",
            "250/250 [==============================] - 5s 20ms/step - loss: 0.5890 - accuracy: 0.8075 - val_loss: 0.6924 - val_accuracy: 0.8596\n",
            "Epoch 60/100\n",
            "250/250 [==============================] - 5s 20ms/step - loss: 0.5810 - accuracy: 0.8115 - val_loss: 0.6759 - val_accuracy: 0.8490\n",
            "Epoch 61/100\n",
            "250/250 [==============================] - 5s 20ms/step - loss: 0.5828 - accuracy: 0.8071 - val_loss: 0.7037 - val_accuracy: 0.8356\n",
            "Epoch 62/100\n",
            "250/250 [==============================] - 5s 20ms/step - loss: 0.5718 - accuracy: 0.8149 - val_loss: 0.6611 - val_accuracy: 0.8534\n",
            "Epoch 63/100\n",
            "250/250 [==============================] - 5s 20ms/step - loss: 0.5464 - accuracy: 0.8223 - val_loss: 0.6386 - val_accuracy: 0.8634\n",
            "Epoch 64/100\n",
            "250/250 [==============================] - 5s 20ms/step - loss: 0.5537 - accuracy: 0.8161 - val_loss: 0.6282 - val_accuracy: 0.8578\n",
            "Epoch 65/100\n",
            "250/250 [==============================] - 5s 20ms/step - loss: 0.5384 - accuracy: 0.8241 - val_loss: 0.6275 - val_accuracy: 0.8662\n",
            "Epoch 66/100\n",
            "250/250 [==============================] - 5s 20ms/step - loss: 0.5388 - accuracy: 0.8217 - val_loss: 0.6164 - val_accuracy: 0.8772\n",
            "Epoch 67/100\n",
            "250/250 [==============================] - 5s 20ms/step - loss: 0.5367 - accuracy: 0.8186 - val_loss: 0.6718 - val_accuracy: 0.8608\n",
            "Epoch 68/100\n",
            "250/250 [==============================] - 5s 20ms/step - loss: 0.5182 - accuracy: 0.8281 - val_loss: 0.6786 - val_accuracy: 0.8454\n",
            "Epoch 69/100\n",
            "250/250 [==============================] - 5s 20ms/step - loss: 0.5220 - accuracy: 0.8269 - val_loss: 0.5759 - val_accuracy: 0.8762\n",
            "Epoch 70/100\n",
            "250/250 [==============================] - 5s 20ms/step - loss: 0.5210 - accuracy: 0.8238 - val_loss: 0.5870 - val_accuracy: 0.8746\n",
            "Epoch 71/100\n",
            "250/250 [==============================] - 5s 20ms/step - loss: 0.5156 - accuracy: 0.8285 - val_loss: 0.5685 - val_accuracy: 0.8786\n",
            "Epoch 72/100\n",
            "250/250 [==============================] - 5s 20ms/step - loss: 0.5005 - accuracy: 0.8350 - val_loss: 0.5858 - val_accuracy: 0.8772\n",
            "Epoch 73/100\n",
            "250/250 [==============================] - 5s 20ms/step - loss: 0.5050 - accuracy: 0.8290 - val_loss: 0.5612 - val_accuracy: 0.8832\n",
            "Epoch 74/100\n",
            "250/250 [==============================] - 5s 20ms/step - loss: 0.4924 - accuracy: 0.8354 - val_loss: 0.5435 - val_accuracy: 0.8848\n",
            "Epoch 75/100\n",
            "250/250 [==============================] - 5s 20ms/step - loss: 0.4807 - accuracy: 0.8422 - val_loss: 0.5426 - val_accuracy: 0.8834\n",
            "Epoch 76/100\n",
            "250/250 [==============================] - 5s 20ms/step - loss: 0.4761 - accuracy: 0.8455 - val_loss: 0.5577 - val_accuracy: 0.8830\n",
            "Epoch 77/100\n",
            "250/250 [==============================] - 5s 20ms/step - loss: 0.4697 - accuracy: 0.8466 - val_loss: 0.5304 - val_accuracy: 0.8900\n",
            "Epoch 78/100\n",
            "250/250 [==============================] - 5s 20ms/step - loss: 0.4670 - accuracy: 0.8424 - val_loss: 0.5252 - val_accuracy: 0.8876\n",
            "Epoch 79/100\n",
            "250/250 [==============================] - 7s 27ms/step - loss: 0.4560 - accuracy: 0.8496 - val_loss: 0.5267 - val_accuracy: 0.8900\n",
            "Epoch 80/100\n",
            "250/250 [==============================] - 5s 20ms/step - loss: 0.4480 - accuracy: 0.8497 - val_loss: 0.5367 - val_accuracy: 0.8864\n",
            "Epoch 81/100\n",
            "250/250 [==============================] - 5s 20ms/step - loss: 0.4374 - accuracy: 0.8553 - val_loss: 0.5306 - val_accuracy: 0.8860\n",
            "Epoch 82/100\n",
            "250/250 [==============================] - 5s 20ms/step - loss: 0.4472 - accuracy: 0.8499 - val_loss: 0.5264 - val_accuracy: 0.8894\n",
            "Epoch 83/100\n",
            "250/250 [==============================] - 5s 20ms/step - loss: 0.4514 - accuracy: 0.8515 - val_loss: 0.5123 - val_accuracy: 0.8868\n",
            "Epoch 84/100\n",
            "250/250 [==============================] - 5s 20ms/step - loss: 0.4350 - accuracy: 0.8569 - val_loss: 0.5072 - val_accuracy: 0.8972\n",
            "Epoch 85/100\n",
            "250/250 [==============================] - 5s 20ms/step - loss: 0.4267 - accuracy: 0.8565 - val_loss: 0.5068 - val_accuracy: 0.8958\n",
            "Epoch 86/100\n",
            "250/250 [==============================] - 5s 20ms/step - loss: 0.4215 - accuracy: 0.8614 - val_loss: 0.5031 - val_accuracy: 0.8970\n",
            "Epoch 87/100\n",
            "250/250 [==============================] - 5s 20ms/step - loss: 0.4163 - accuracy: 0.8618 - val_loss: 0.4695 - val_accuracy: 0.9030\n",
            "Epoch 88/100\n",
            "250/250 [==============================] - 5s 20ms/step - loss: 0.4179 - accuracy: 0.8610 - val_loss: 0.4935 - val_accuracy: 0.8910\n",
            "Epoch 89/100\n",
            "250/250 [==============================] - 5s 20ms/step - loss: 0.4096 - accuracy: 0.8643 - val_loss: 0.4820 - val_accuracy: 0.9014\n",
            "Epoch 90/100\n",
            "250/250 [==============================] - 5s 20ms/step - loss: 0.4098 - accuracy: 0.8635 - val_loss: 0.4816 - val_accuracy: 0.9038\n",
            "Epoch 91/100\n",
            "250/250 [==============================] - 5s 20ms/step - loss: 0.4107 - accuracy: 0.8639 - val_loss: 0.4628 - val_accuracy: 0.9000\n",
            "Epoch 92/100\n",
            "250/250 [==============================] - 5s 20ms/step - loss: 0.3992 - accuracy: 0.8709 - val_loss: 0.4860 - val_accuracy: 0.8942\n",
            "Epoch 93/100\n",
            "250/250 [==============================] - 5s 20ms/step - loss: 0.3904 - accuracy: 0.8662 - val_loss: 0.4653 - val_accuracy: 0.9022\n",
            "Epoch 94/100\n",
            "250/250 [==============================] - 5s 20ms/step - loss: 0.4055 - accuracy: 0.8606 - val_loss: 0.4583 - val_accuracy: 0.9026\n",
            "Epoch 95/100\n",
            "250/250 [==============================] - 5s 20ms/step - loss: 0.3929 - accuracy: 0.8643 - val_loss: 0.4418 - val_accuracy: 0.9052\n",
            "Epoch 96/100\n",
            "250/250 [==============================] - 5s 20ms/step - loss: 0.3793 - accuracy: 0.8705 - val_loss: 0.4593 - val_accuracy: 0.8984\n",
            "Epoch 97/100\n",
            "250/250 [==============================] - 5s 20ms/step - loss: 0.3719 - accuracy: 0.8710 - val_loss: 0.4430 - val_accuracy: 0.9028\n",
            "Epoch 98/100\n",
            "250/250 [==============================] - 5s 21ms/step - loss: 0.3833 - accuracy: 0.8694 - val_loss: 0.4742 - val_accuracy: 0.8992\n",
            "Epoch 99/100\n",
            "250/250 [==============================] - 8s 31ms/step - loss: 0.3707 - accuracy: 0.8706 - val_loss: 0.4261 - val_accuracy: 0.9068\n",
            "Epoch 100/100\n",
            "250/250 [==============================] - 5s 21ms/step - loss: 0.3739 - accuracy: 0.8744 - val_loss: 0.4554 - val_accuracy: 0.9012\n"
          ]
        }
      ]
    },
    {
      "cell_type": "code",
      "source": [
        "target_names = pd.Categorical(df_cuisine['cuisine']).categories"
      ],
      "metadata": {
        "id": "U4MpTmGtNSEg"
      },
      "execution_count": 296,
      "outputs": []
    },
    {
      "cell_type": "code",
      "source": [
        "y_prob = model_cuisine.predict(X_test_cuisine_padded)\n",
        "y_pred = np.argmax(y_prob,axis=1)\n",
        "print(classification_report(y_test_int_cuisine,y_pred, target_names=target_names))"
      ],
      "metadata": {
        "id": "PETPLG4XfKc5",
        "colab": {
          "base_uri": "https://localhost:8080/"
        },
        "outputId": "5184c6c1-533a-4509-831d-e015e611743d"
      },
      "execution_count": 297,
      "outputs": [
        {
          "output_type": "stream",
          "name": "stdout",
          "text": [
            "              precision    recall  f1-score   support\n",
            "\n",
            "   brazilian       0.81      0.79      0.80        72\n",
            "     british       0.58      0.89      0.70        91\n",
            "cajun_creole       0.94      0.94      0.94       215\n",
            "     chinese       0.95      0.93      0.94       321\n",
            "    filipino       0.95      0.80      0.87       103\n",
            "      french       0.82      0.87      0.85       342\n",
            "       greek       0.92      0.86      0.89       150\n",
            "      indian       0.92      0.97      0.95       355\n",
            "       irish       0.79      0.74      0.77        84\n",
            "     italian       0.96      0.94      0.95       963\n",
            "    jamaican       0.92      0.76      0.83        71\n",
            "    japanese       0.85      0.88      0.86       183\n",
            "      korean       0.91      0.90      0.91       115\n",
            "     mexican       0.96      0.97      0.97       813\n",
            "    moroccan       0.95      0.84      0.89        97\n",
            "     russian       0.73      0.67      0.70        60\n",
            " southern_us       0.94      0.91      0.92       540\n",
            "     spanish       0.94      0.85      0.89       130\n",
            "        thai       0.91      0.92      0.92       197\n",
            "  vietnamese       0.86      0.92      0.89        98\n",
            "\n",
            "    accuracy                           0.91      5000\n",
            "   macro avg       0.88      0.87      0.87      5000\n",
            "weighted avg       0.92      0.91      0.91      5000\n",
            "\n"
          ]
        }
      ]
    },
    {
      "cell_type": "code",
      "source": [
        "plt.plot(history_fine.history['loss'])\n",
        "plt.plot(history_fine.history['val_loss'])\n",
        "plt.title('model loss')\n",
        "plt.ylabel('loss')\n",
        "plt.xlabel('epoch')\n",
        "plt.legend(['training set','validation set'], loc='upper left')\n",
        "plt.show()"
      ],
      "metadata": {
        "id": "sTHoxENHict8",
        "colab": {
          "base_uri": "https://localhost:8080/",
          "height": 0
        },
        "outputId": "9ccd7ff0-2b6c-4e9e-a438-01a9eb4fb89f"
      },
      "execution_count": 298,
      "outputs": [
        {
          "output_type": "display_data",
          "data": {
            "text/plain": [
              "<Figure size 432x288 with 1 Axes>"
            ],
            "image/png": "[encoded data removed]"
          },
          "metadata": {
            "needs_background": "light"
          }
        }
      ]
    },
    {
      "cell_type": "code",
      "source": [
        "plt.plot(history_fine.history['accuracy'])\n",
        "plt.plot(history_fine.history['val_accuracy'])\n",
        "plt.title('model accuracy')\n",
        "plt.ylabel('accuracy')\n",
        "plt.xlabel('epoch')\n",
        "plt.legend(['training set','validation set'], loc='upper left')\n",
        "plt.show()"
      ],
      "metadata": {
        "id": "KVxNIICdict9",
        "colab": {
          "base_uri": "https://localhost:8080/",
          "height": 0
        },
        "outputId": "6d2e70e1-67e4-430d-c703-3be557d4b53f"
      },
      "execution_count": 299,
      "outputs": [
        {
          "output_type": "display_data",
          "data": {
            "text/plain": [
              "<Figure size 432x288 with 1 Axes>"
            ],
            "image/png": "[encoded data removed]"
          },
          "metadata": {
            "needs_background": "light"
          }
        }
      ]
    },
    {
      "cell_type": "code",
      "source": [
        "ConfusionMatrixDisplay.from_predictions(y_test_int_cuisine, y_pred)\n",
        "plt.show()"
      ],
      "metadata": {
        "colab": {
          "base_uri": "https://localhost:8080/",
          "height": 0
        },
        "id": "2MUkzXBZTdQG",
        "outputId": "b0abc35f-666c-486f-e4a3-f2ba8525c96f"
      },
      "execution_count": 300,
      "outputs": [
        {
          "output_type": "display_data",
          "data": {
            "text/plain": [
              "<Figure size 432x288 with 2 Axes>"
            ],
            "image/png": "[encoded data removed]"
          },
          "metadata": {
            "needs_background": "light"
          }
        }
      ]
    },
    {
      "cell_type": "code",
      "source": [
        "from sklearn.metrics import confusion_matrix\n",
        "print(confusion_matrix(y_test_int_cuisine, y_pred))"
      ],
      "metadata": {
        "colab": {
          "base_uri": "https://localhost:8080/"
        },
        "id": "_7dhVWIBedeX",
        "outputId": "de5d7599-5e2c-45ae-949f-96988d378f6b"
      },
      "execution_count": 301,
      "outputs": [
        {
          "output_type": "stream",
          "name": "stdout",
          "text": [
            "[[ 57   0   0   0   0   1   0   2   0   1   0   0   0   5   0   1   3   1\n",
            "    1   0]\n",
            " [  0  81   0   0   0   4   0   0   4   0   0   0   0   0   0   0   2   0\n",
            "    0   0]\n",
            " [  0   1 203   0   0   3   0   0   0   2   0   0   0   3   0   0   3   0\n",
            "    0   0]\n",
            " [  0   2   0 300   0   1   0   1   0   1   0  11   1   0   0   0   1   0\n",
            "    2   1]\n",
            " [  2   1   0   5  82   0   0   0   0   0   1   2   1   2   0   2   0   0\n",
            "    3   2]\n",
            " [  0  11   0   0   0 299   1   1   5  16   0   0   0   4   0   3   2   0\n",
            "    0   0]\n",
            " [  0   1   0   0   0   3 129   2   1   7   0   0   0   1   3   0   1   2\n",
            "    0   0]\n",
            " [  0   1   0   0   0   1   0 345   0   0   0   2   1   0   1   0   0   0\n",
            "    4   0]\n",
            " [  1  11   0   0   0   0   1   0  62   0   0   2   0   0   0   2   4   1\n",
            "    0   0]\n",
            " [  1   3   2   0   0  29   4   0   0 908   0   0   0   6   0   3   6   1\n",
            "    0   0]\n",
            " [  5   5   0   0   1   0   0   0   1   0  54   1   0   2   0   0   1   0\n",
            "    1   0]\n",
            " [  0   1   0   4   2   0   0   7   0   1   0 161   5   0   0   1   0   0\n",
            "    0   1]\n",
            " [  0   0   0   4   0   0   0   0   0   0   0   5 104   0   0   0   0   0\n",
            "    0   2]\n",
            " [  2   4   0   0   0   3   1   1   0   2   1   1   0 790   0   1   4   0\n",
            "    1   2]\n",
            " [  0   0   0   0   0   1   2   7   0   0   0   1   0   3  81   0   1   1\n",
            "    0   0]\n",
            " [  0  11   1   0   0   4   0   1   1   0   0   1   0   0   0  40   1   0\n",
            "    0   0]\n",
            " [  0   6   8   1   1  10   0   2   4   6   2   1   0   8   0   0 491   0\n",
            "    0   0]\n",
            " [  2   0   1   0   0   4   2   2   0   4   1   1   0   0   0   2   1 110\n",
            "    0   0]\n",
            " [  0   0   0   1   0   1   0   2   0   0   0   1   1   0   0   0   1   1\n",
            "  182   7]\n",
            " [  0   1   0   0   0   0   0   1   0   0   0   0   1   0   0   0   0   0\n",
            "    5  90]]\n"
          ]
        }
      ]
    },
    {
      "cell_type": "markdown",
      "source": [
        "### Indian Food Data"
      ],
      "metadata": {
        "id": "eTR7TQNDIuhf"
      }
    },
    {
      "cell_type": "code",
      "source": [
        "embedding_layer = Embedding(vocab_size_indian, EMBEDDING_DIM, weights=[embedding_matrix_indian], input_length=MAX_LENGTH_I, trainable=False)"
      ],
      "metadata": {
        "id": "WM4MTVcjIuhf"
      },
      "execution_count": 302,
      "outputs": []
    },
    {
      "cell_type": "code",
      "source": [
        "model_CNN = CNNHyperModel(embedding_layer, 2)"
      ],
      "metadata": {
        "id": "yCrJRihuIuhf"
      },
      "execution_count": 303,
      "outputs": []
    },
    {
      "cell_type": "code",
      "source": [
        "model_indian = model_CNN.build(0)"
      ],
      "metadata": {
        "id": "50-yv0OgIuhf"
      },
      "execution_count": 304,
      "outputs": []
    },
    {
      "cell_type": "code",
      "source": [
        "model_indian.summary()"
      ],
      "metadata": {
        "colab": {
          "base_uri": "https://localhost:8080/"
        },
        "outputId": "0ca17cba-5bae-45f6-e3f9-b0817f05f0f6",
        "id": "VrETVNG4Iuhf"
      },
      "execution_count": 305,
      "outputs": [
        {
          "output_type": "stream",
          "name": "stdout",
          "text": [
            "Model: \"sequential_29\"\n",
            "_________________________________________________________________\n",
            " Layer (type)                Output Shape              Param #   \n",
            "=================================================================\n",
            " embedding_27 (Embedding)    (None, 12, 100)           31400     \n",
            "                                                                 \n",
            " conv1d_19 (Conv1D)          (None, 7, 128)            76928     \n",
            "                                                                 \n",
            " dropout_14 (Dropout)        (None, 7, 128)            0         \n",
            "                                                                 \n",
            " global_max_pooling1d_20 (Gl  (None, 128)              0         \n",
            " obalMaxPooling1D)                                               \n",
            "                                                                 \n",
            " dense_63 (Dense)            (None, 128)               16512     \n",
            "                                                                 \n",
            " dense_64 (Dense)            (None, 64)                8256      \n",
            "                                                                 \n",
            " dense_65 (Dense)            (None, 2)                 130       \n",
            "                                                                 \n",
            "=================================================================\n",
            "Total params: 133,226\n",
            "Trainable params: 101,826\n",
            "Non-trainable params: 31,400\n",
            "_________________________________________________________________\n"
          ]
        }
      ]
    },
    {
      "cell_type": "code",
      "source": [
        "history_fine = model_indian.fit(X_train_indian_padded,y_train_indian,validation_data=(X_valid_indian_padded,y_valid_indian), epochs=200) "
      ],
      "metadata": {
        "colab": {
          "base_uri": "https://localhost:8080/"
        },
        "outputId": "5724064b-6d5f-46ee-bb5c-987fd165d386",
        "id": "O8bE025MIuhf"
      },
      "execution_count": 309,
      "outputs": [
        {
          "output_type": "stream",
          "name": "stdout",
          "text": [
            "Epoch 1/200\n",
            "7/7 [==============================] - 0s 38ms/step - loss: 0.3717 - accuracy: 0.8775 - val_loss: 0.3637 - val_accuracy: 0.8906\n",
            "Epoch 2/200\n",
            "7/7 [==============================] - 0s 30ms/step - loss: 0.3708 - accuracy: 0.8775 - val_loss: 0.3632 - val_accuracy: 0.8906\n",
            "Epoch 3/200\n",
            "7/7 [==============================] - 0s 26ms/step - loss: 0.3718 - accuracy: 0.8775 - val_loss: 0.3636 - val_accuracy: 0.8906\n",
            "Epoch 4/200\n",
            "7/7 [==============================] - 0s 32ms/step - loss: 0.3717 - accuracy: 0.8775 - val_loss: 0.3629 - val_accuracy: 0.8906\n",
            "Epoch 5/200\n",
            "7/7 [==============================] - 0s 30ms/step - loss: 0.3710 - accuracy: 0.8775 - val_loss: 0.3620 - val_accuracy: 0.8906\n",
            "Epoch 6/200\n",
            "7/7 [==============================] - 0s 12ms/step - loss: 0.3711 - accuracy: 0.8775 - val_loss: 0.3610 - val_accuracy: 0.8906\n",
            "Epoch 7/200\n",
            "7/7 [==============================] - 0s 12ms/step - loss: 0.3716 - accuracy: 0.8775 - val_loss: 0.3612 - val_accuracy: 0.8906\n",
            "Epoch 8/200\n",
            "7/7 [==============================] - 0s 10ms/step - loss: 0.3716 - accuracy: 0.8775 - val_loss: 0.3610 - val_accuracy: 0.8906\n",
            "Epoch 9/200\n",
            "7/7 [==============================] - 0s 13ms/step - loss: 0.3716 - accuracy: 0.8775 - val_loss: 0.3611 - val_accuracy: 0.8906\n",
            "Epoch 10/200\n",
            "7/7 [==============================] - 0s 10ms/step - loss: 0.3712 - accuracy: 0.8775 - val_loss: 0.3610 - val_accuracy: 0.8906\n",
            "Epoch 11/200\n",
            "7/7 [==============================] - 0s 12ms/step - loss: 0.3716 - accuracy: 0.8775 - val_loss: 0.3603 - val_accuracy: 0.8906\n",
            "Epoch 12/200\n",
            "7/7 [==============================] - 0s 10ms/step - loss: 0.3710 - accuracy: 0.8775 - val_loss: 0.3599 - val_accuracy: 0.8906\n",
            "Epoch 13/200\n",
            "7/7 [==============================] - 0s 10ms/step - loss: 0.3714 - accuracy: 0.8775 - val_loss: 0.3608 - val_accuracy: 0.8906\n",
            "Epoch 14/200\n",
            "7/7 [==============================] - 0s 11ms/step - loss: 0.3705 - accuracy: 0.8775 - val_loss: 0.3602 - val_accuracy: 0.8906\n",
            "Epoch 15/200\n",
            "7/7 [==============================] - 0s 12ms/step - loss: 0.3714 - accuracy: 0.8775 - val_loss: 0.3609 - val_accuracy: 0.8906\n",
            "Epoch 16/200\n",
            "7/7 [==============================] - 0s 10ms/step - loss: 0.3709 - accuracy: 0.8775 - val_loss: 0.3617 - val_accuracy: 0.8906\n",
            "Epoch 17/200\n",
            "7/7 [==============================] - 0s 12ms/step - loss: 0.3710 - accuracy: 0.8775 - val_loss: 0.3614 - val_accuracy: 0.8906\n",
            "Epoch 18/200\n",
            "7/7 [==============================] - 0s 12ms/step - loss: 0.3705 - accuracy: 0.8775 - val_loss: 0.3606 - val_accuracy: 0.8906\n",
            "Epoch 19/200\n",
            "7/7 [==============================] - 0s 11ms/step - loss: 0.3702 - accuracy: 0.8775 - val_loss: 0.3600 - val_accuracy: 0.8906\n",
            "Epoch 20/200\n",
            "7/7 [==============================] - 0s 10ms/step - loss: 0.3696 - accuracy: 0.8775 - val_loss: 0.3608 - val_accuracy: 0.8906\n",
            "Epoch 21/200\n",
            "7/7 [==============================] - 0s 10ms/step - loss: 0.3715 - accuracy: 0.8775 - val_loss: 0.3619 - val_accuracy: 0.8906\n",
            "Epoch 22/200\n",
            "7/7 [==============================] - 0s 10ms/step - loss: 0.3708 - accuracy: 0.8775 - val_loss: 0.3615 - val_accuracy: 0.8906\n",
            "Epoch 23/200\n",
            "7/7 [==============================] - 0s 10ms/step - loss: 0.3712 - accuracy: 0.8775 - val_loss: 0.3620 - val_accuracy: 0.8906\n",
            "Epoch 24/200\n",
            "7/7 [==============================] - 0s 10ms/step - loss: 0.3715 - accuracy: 0.8775 - val_loss: 0.3626 - val_accuracy: 0.8906\n",
            "Epoch 25/200\n",
            "7/7 [==============================] - 0s 12ms/step - loss: 0.3711 - accuracy: 0.8775 - val_loss: 0.3637 - val_accuracy: 0.8906\n",
            "Epoch 26/200\n",
            "7/7 [==============================] - 0s 11ms/step - loss: 0.3715 - accuracy: 0.8775 - val_loss: 0.3639 - val_accuracy: 0.8906\n",
            "Epoch 27/200\n",
            "7/7 [==============================] - 0s 10ms/step - loss: 0.3713 - accuracy: 0.8775 - val_loss: 0.3624 - val_accuracy: 0.8906\n",
            "Epoch 28/200\n",
            "7/7 [==============================] - 0s 12ms/step - loss: 0.3706 - accuracy: 0.8775 - val_loss: 0.3620 - val_accuracy: 0.8906\n",
            "Epoch 29/200\n",
            "7/7 [==============================] - 0s 10ms/step - loss: 0.3713 - accuracy: 0.8775 - val_loss: 0.3641 - val_accuracy: 0.8906\n",
            "Epoch 30/200\n",
            "7/7 [==============================] - 0s 12ms/step - loss: 0.3713 - accuracy: 0.8775 - val_loss: 0.3641 - val_accuracy: 0.8906\n",
            "Epoch 31/200\n",
            "7/7 [==============================] - 0s 11ms/step - loss: 0.3706 - accuracy: 0.8775 - val_loss: 0.3650 - val_accuracy: 0.8906\n",
            "Epoch 32/200\n",
            "7/7 [==============================] - 0s 12ms/step - loss: 0.3705 - accuracy: 0.8775 - val_loss: 0.3641 - val_accuracy: 0.8906\n",
            "Epoch 33/200\n",
            "7/7 [==============================] - 0s 10ms/step - loss: 0.3705 - accuracy: 0.8775 - val_loss: 0.3648 - val_accuracy: 0.8906\n",
            "Epoch 34/200\n",
            "7/7 [==============================] - 0s 10ms/step - loss: 0.3711 - accuracy: 0.8775 - val_loss: 0.3647 - val_accuracy: 0.8906\n",
            "Epoch 35/200\n",
            "7/7 [==============================] - 0s 10ms/step - loss: 0.3714 - accuracy: 0.8775 - val_loss: 0.3639 - val_accuracy: 0.8906\n",
            "Epoch 36/200\n",
            "7/7 [==============================] - 0s 11ms/step - loss: 0.3703 - accuracy: 0.8775 - val_loss: 0.3631 - val_accuracy: 0.8906\n",
            "Epoch 37/200\n",
            "7/7 [==============================] - 0s 12ms/step - loss: 0.3708 - accuracy: 0.8775 - val_loss: 0.3620 - val_accuracy: 0.8906\n",
            "Epoch 38/200\n",
            "7/7 [==============================] - 0s 11ms/step - loss: 0.3705 - accuracy: 0.8775 - val_loss: 0.3624 - val_accuracy: 0.8906\n",
            "Epoch 39/200\n",
            "7/7 [==============================] - 0s 10ms/step - loss: 0.3711 - accuracy: 0.8775 - val_loss: 0.3620 - val_accuracy: 0.8906\n",
            "Epoch 40/200\n",
            "7/7 [==============================] - 0s 14ms/step - loss: 0.3712 - accuracy: 0.8775 - val_loss: 0.3625 - val_accuracy: 0.8906\n",
            "Epoch 41/200\n",
            "7/7 [==============================] - 0s 10ms/step - loss: 0.3708 - accuracy: 0.8775 - val_loss: 0.3637 - val_accuracy: 0.8906\n",
            "Epoch 42/200\n",
            "7/7 [==============================] - 0s 12ms/step - loss: 0.3703 - accuracy: 0.8775 - val_loss: 0.3652 - val_accuracy: 0.8906\n",
            "Epoch 43/200\n",
            "7/7 [==============================] - 0s 12ms/step - loss: 0.3710 - accuracy: 0.8775 - val_loss: 0.3655 - val_accuracy: 0.8906\n",
            "Epoch 44/200\n",
            "7/7 [==============================] - 0s 10ms/step - loss: 0.3710 - accuracy: 0.8775 - val_loss: 0.3642 - val_accuracy: 0.8906\n",
            "Epoch 45/200\n",
            "7/7 [==============================] - 0s 11ms/step - loss: 0.3717 - accuracy: 0.8775 - val_loss: 0.3627 - val_accuracy: 0.8906\n",
            "Epoch 46/200\n",
            "7/7 [==============================] - 0s 10ms/step - loss: 0.3703 - accuracy: 0.8775 - val_loss: 0.3614 - val_accuracy: 0.8906\n",
            "Epoch 47/200\n",
            "7/7 [==============================] - 0s 11ms/step - loss: 0.3701 - accuracy: 0.8775 - val_loss: 0.3611 - val_accuracy: 0.8906\n",
            "Epoch 48/200\n",
            "7/7 [==============================] - 0s 10ms/step - loss: 0.3717 - accuracy: 0.8775 - val_loss: 0.3610 - val_accuracy: 0.8906\n",
            "Epoch 49/200\n",
            "7/7 [==============================] - 0s 11ms/step - loss: 0.3712 - accuracy: 0.8775 - val_loss: 0.3601 - val_accuracy: 0.8906\n",
            "Epoch 50/200\n",
            "7/7 [==============================] - 0s 10ms/step - loss: 0.3705 - accuracy: 0.8775 - val_loss: 0.3607 - val_accuracy: 0.8906\n",
            "Epoch 51/200\n",
            "7/7 [==============================] - 0s 13ms/step - loss: 0.3708 - accuracy: 0.8775 - val_loss: 0.3621 - val_accuracy: 0.8906\n",
            "Epoch 52/200\n",
            "7/7 [==============================] - 0s 10ms/step - loss: 0.3710 - accuracy: 0.8775 - val_loss: 0.3616 - val_accuracy: 0.8906\n",
            "Epoch 53/200\n",
            "7/7 [==============================] - 0s 10ms/step - loss: 0.3692 - accuracy: 0.8775 - val_loss: 0.3612 - val_accuracy: 0.8906\n",
            "Epoch 54/200\n",
            "7/7 [==============================] - 0s 10ms/step - loss: 0.3702 - accuracy: 0.8775 - val_loss: 0.3613 - val_accuracy: 0.8906\n",
            "Epoch 55/200\n",
            "7/7 [==============================] - 0s 11ms/step - loss: 0.3711 - accuracy: 0.8775 - val_loss: 0.3610 - val_accuracy: 0.8906\n",
            "Epoch 56/200\n",
            "7/7 [==============================] - 0s 10ms/step - loss: 0.3693 - accuracy: 0.8775 - val_loss: 0.3609 - val_accuracy: 0.8906\n",
            "Epoch 57/200\n",
            "7/7 [==============================] - 0s 11ms/step - loss: 0.3710 - accuracy: 0.8775 - val_loss: 0.3606 - val_accuracy: 0.8906\n",
            "Epoch 58/200\n",
            "7/7 [==============================] - 0s 10ms/step - loss: 0.3697 - accuracy: 0.8775 - val_loss: 0.3613 - val_accuracy: 0.8906\n",
            "Epoch 59/200\n",
            "7/7 [==============================] - 0s 10ms/step - loss: 0.3699 - accuracy: 0.8775 - val_loss: 0.3618 - val_accuracy: 0.8906\n",
            "Epoch 60/200\n",
            "7/7 [==============================] - 0s 10ms/step - loss: 0.3698 - accuracy: 0.8775 - val_loss: 0.3605 - val_accuracy: 0.8906\n",
            "Epoch 61/200\n",
            "7/7 [==============================] - 0s 11ms/step - loss: 0.3716 - accuracy: 0.8775 - val_loss: 0.3604 - val_accuracy: 0.8906\n",
            "Epoch 62/200\n",
            "7/7 [==============================] - 0s 10ms/step - loss: 0.3702 - accuracy: 0.8775 - val_loss: 0.3606 - val_accuracy: 0.8906\n",
            "Epoch 63/200\n",
            "7/7 [==============================] - 0s 12ms/step - loss: 0.3698 - accuracy: 0.8775 - val_loss: 0.3596 - val_accuracy: 0.8906\n",
            "Epoch 64/200\n",
            "7/7 [==============================] - 0s 12ms/step - loss: 0.3699 - accuracy: 0.8775 - val_loss: 0.3611 - val_accuracy: 0.8906\n",
            "Epoch 65/200\n",
            "7/7 [==============================] - 0s 14ms/step - loss: 0.3709 - accuracy: 0.8775 - val_loss: 0.3603 - val_accuracy: 0.8906\n",
            "Epoch 66/200\n",
            "7/7 [==============================] - 0s 12ms/step - loss: 0.3695 - accuracy: 0.8775 - val_loss: 0.3601 - val_accuracy: 0.8906\n",
            "Epoch 67/200\n",
            "7/7 [==============================] - 0s 13ms/step - loss: 0.3701 - accuracy: 0.8775 - val_loss: 0.3623 - val_accuracy: 0.8906\n",
            "Epoch 68/200\n",
            "7/7 [==============================] - 0s 12ms/step - loss: 0.3691 - accuracy: 0.8775 - val_loss: 0.3616 - val_accuracy: 0.8906\n",
            "Epoch 69/200\n",
            "7/7 [==============================] - 0s 10ms/step - loss: 0.3698 - accuracy: 0.8775 - val_loss: 0.3612 - val_accuracy: 0.8906\n",
            "Epoch 70/200\n",
            "7/7 [==============================] - 0s 10ms/step - loss: 0.3701 - accuracy: 0.8775 - val_loss: 0.3616 - val_accuracy: 0.8906\n",
            "Epoch 71/200\n",
            "7/7 [==============================] - 0s 11ms/step - loss: 0.3701 - accuracy: 0.8775 - val_loss: 0.3612 - val_accuracy: 0.8906\n",
            "Epoch 72/200\n",
            "7/7 [==============================] - 0s 10ms/step - loss: 0.3706 - accuracy: 0.8775 - val_loss: 0.3602 - val_accuracy: 0.8906\n",
            "Epoch 73/200\n",
            "7/7 [==============================] - 0s 10ms/step - loss: 0.3692 - accuracy: 0.8775 - val_loss: 0.3601 - val_accuracy: 0.8906\n",
            "Epoch 74/200\n",
            "7/7 [==============================] - 0s 10ms/step - loss: 0.3697 - accuracy: 0.8775 - val_loss: 0.3594 - val_accuracy: 0.8906\n",
            "Epoch 75/200\n",
            "7/7 [==============================] - 0s 10ms/step - loss: 0.3702 - accuracy: 0.8775 - val_loss: 0.3609 - val_accuracy: 0.8906\n",
            "Epoch 76/200\n",
            "7/7 [==============================] - 0s 11ms/step - loss: 0.3696 - accuracy: 0.8775 - val_loss: 0.3615 - val_accuracy: 0.8906\n",
            "Epoch 77/200\n",
            "7/7 [==============================] - 0s 11ms/step - loss: 0.3700 - accuracy: 0.8775 - val_loss: 0.3604 - val_accuracy: 0.8906\n",
            "Epoch 78/200\n",
            "7/7 [==============================] - 0s 13ms/step - loss: 0.3694 - accuracy: 0.8775 - val_loss: 0.3596 - val_accuracy: 0.8906\n",
            "Epoch 79/200\n",
            "7/7 [==============================] - 0s 11ms/step - loss: 0.3706 - accuracy: 0.8775 - val_loss: 0.3596 - val_accuracy: 0.8906\n",
            "Epoch 80/200\n",
            "7/7 [==============================] - 0s 10ms/step - loss: 0.3696 - accuracy: 0.8775 - val_loss: 0.3590 - val_accuracy: 0.8906\n",
            "Epoch 81/200\n",
            "7/7 [==============================] - 0s 13ms/step - loss: 0.3700 - accuracy: 0.8775 - val_loss: 0.3586 - val_accuracy: 0.8906\n",
            "Epoch 82/200\n",
            "7/7 [==============================] - 0s 11ms/step - loss: 0.3701 - accuracy: 0.8775 - val_loss: 0.3603 - val_accuracy: 0.8906\n",
            "Epoch 83/200\n",
            "7/7 [==============================] - 0s 13ms/step - loss: 0.3701 - accuracy: 0.8775 - val_loss: 0.3601 - val_accuracy: 0.8906\n",
            "Epoch 84/200\n",
            "7/7 [==============================] - 0s 12ms/step - loss: 0.3702 - accuracy: 0.8775 - val_loss: 0.3612 - val_accuracy: 0.8906\n",
            "Epoch 85/200\n",
            "7/7 [==============================] - 0s 10ms/step - loss: 0.3698 - accuracy: 0.8775 - val_loss: 0.3610 - val_accuracy: 0.8906\n",
            "Epoch 86/200\n",
            "7/7 [==============================] - 0s 11ms/step - loss: 0.3698 - accuracy: 0.8775 - val_loss: 0.3615 - val_accuracy: 0.8906\n",
            "Epoch 87/200\n",
            "7/7 [==============================] - 0s 12ms/step - loss: 0.3696 - accuracy: 0.8775 - val_loss: 0.3626 - val_accuracy: 0.8906\n",
            "Epoch 88/200\n",
            "7/7 [==============================] - 0s 12ms/step - loss: 0.3708 - accuracy: 0.8775 - val_loss: 0.3620 - val_accuracy: 0.8906\n",
            "Epoch 89/200\n",
            "7/7 [==============================] - 0s 13ms/step - loss: 0.3693 - accuracy: 0.8775 - val_loss: 0.3622 - val_accuracy: 0.8906\n",
            "Epoch 90/200\n",
            "7/7 [==============================] - 0s 11ms/step - loss: 0.3692 - accuracy: 0.8775 - val_loss: 0.3609 - val_accuracy: 0.8906\n",
            "Epoch 91/200\n",
            "7/7 [==============================] - 0s 13ms/step - loss: 0.3698 - accuracy: 0.8775 - val_loss: 0.3614 - val_accuracy: 0.8906\n",
            "Epoch 92/200\n",
            "7/7 [==============================] - 0s 11ms/step - loss: 0.3695 - accuracy: 0.8775 - val_loss: 0.3618 - val_accuracy: 0.8906\n",
            "Epoch 93/200\n",
            "7/7 [==============================] - 0s 10ms/step - loss: 0.3694 - accuracy: 0.8775 - val_loss: 0.3619 - val_accuracy: 0.8906\n",
            "Epoch 94/200\n",
            "7/7 [==============================] - 0s 10ms/step - loss: 0.3694 - accuracy: 0.8775 - val_loss: 0.3613 - val_accuracy: 0.8906\n",
            "Epoch 95/200\n",
            "7/7 [==============================] - 0s 10ms/step - loss: 0.3690 - accuracy: 0.8775 - val_loss: 0.3601 - val_accuracy: 0.8906\n",
            "Epoch 96/200\n",
            "7/7 [==============================] - 0s 12ms/step - loss: 0.3692 - accuracy: 0.8775 - val_loss: 0.3598 - val_accuracy: 0.8906\n",
            "Epoch 97/200\n",
            "7/7 [==============================] - 0s 10ms/step - loss: 0.3689 - accuracy: 0.8775 - val_loss: 0.3589 - val_accuracy: 0.8906\n",
            "Epoch 98/200\n",
            "7/7 [==============================] - 0s 13ms/step - loss: 0.3694 - accuracy: 0.8775 - val_loss: 0.3605 - val_accuracy: 0.8906\n",
            "Epoch 99/200\n",
            "7/7 [==============================] - 0s 10ms/step - loss: 0.3701 - accuracy: 0.8775 - val_loss: 0.3619 - val_accuracy: 0.8906\n",
            "Epoch 100/200\n",
            "7/7 [==============================] - 0s 10ms/step - loss: 0.3700 - accuracy: 0.8775 - val_loss: 0.3604 - val_accuracy: 0.8906\n",
            "Epoch 101/200\n",
            "7/7 [==============================] - 0s 12ms/step - loss: 0.3698 - accuracy: 0.8775 - val_loss: 0.3602 - val_accuracy: 0.8906\n",
            "Epoch 102/200\n",
            "7/7 [==============================] - 0s 12ms/step - loss: 0.3686 - accuracy: 0.8775 - val_loss: 0.3591 - val_accuracy: 0.8906\n",
            "Epoch 103/200\n",
            "7/7 [==============================] - 0s 12ms/step - loss: 0.3690 - accuracy: 0.8775 - val_loss: 0.3590 - val_accuracy: 0.8906\n",
            "Epoch 104/200\n",
            "7/7 [==============================] - 0s 10ms/step - loss: 0.3695 - accuracy: 0.8775 - val_loss: 0.3591 - val_accuracy: 0.8906\n",
            "Epoch 105/200\n",
            "7/7 [==============================] - 0s 10ms/step - loss: 0.3703 - accuracy: 0.8775 - val_loss: 0.3585 - val_accuracy: 0.8906\n",
            "Epoch 106/200\n",
            "7/7 [==============================] - 0s 12ms/step - loss: 0.3693 - accuracy: 0.8775 - val_loss: 0.3608 - val_accuracy: 0.8906\n",
            "Epoch 107/200\n",
            "7/7 [==============================] - 0s 11ms/step - loss: 0.3688 - accuracy: 0.8775 - val_loss: 0.3628 - val_accuracy: 0.8906\n",
            "Epoch 108/200\n",
            "7/7 [==============================] - 0s 10ms/step - loss: 0.3717 - accuracy: 0.8775 - val_loss: 0.3634 - val_accuracy: 0.8906\n",
            "Epoch 109/200\n",
            "7/7 [==============================] - 0s 10ms/step - loss: 0.3693 - accuracy: 0.8775 - val_loss: 0.3630 - val_accuracy: 0.8906\n",
            "Epoch 110/200\n",
            "7/7 [==============================] - 0s 10ms/step - loss: 0.3686 - accuracy: 0.8775 - val_loss: 0.3621 - val_accuracy: 0.8906\n",
            "Epoch 111/200\n",
            "7/7 [==============================] - 0s 10ms/step - loss: 0.3694 - accuracy: 0.8775 - val_loss: 0.3630 - val_accuracy: 0.8906\n",
            "Epoch 112/200\n",
            "7/7 [==============================] - 0s 11ms/step - loss: 0.3685 - accuracy: 0.8775 - val_loss: 0.3635 - val_accuracy: 0.8906\n",
            "Epoch 113/200\n",
            "7/7 [==============================] - 0s 10ms/step - loss: 0.3702 - accuracy: 0.8775 - val_loss: 0.3625 - val_accuracy: 0.8906\n",
            "Epoch 114/200\n",
            "7/7 [==============================] - 0s 10ms/step - loss: 0.3687 - accuracy: 0.8775 - val_loss: 0.3625 - val_accuracy: 0.8906\n",
            "Epoch 115/200\n",
            "7/7 [==============================] - 0s 11ms/step - loss: 0.3689 - accuracy: 0.8775 - val_loss: 0.3633 - val_accuracy: 0.8906\n",
            "Epoch 116/200\n",
            "7/7 [==============================] - 0s 11ms/step - loss: 0.3685 - accuracy: 0.8775 - val_loss: 0.3637 - val_accuracy: 0.8906\n",
            "Epoch 117/200\n",
            "7/7 [==============================] - 0s 10ms/step - loss: 0.3689 - accuracy: 0.8775 - val_loss: 0.3619 - val_accuracy: 0.8906\n",
            "Epoch 118/200\n",
            "7/7 [==============================] - 0s 11ms/step - loss: 0.3689 - accuracy: 0.8775 - val_loss: 0.3604 - val_accuracy: 0.8906\n",
            "Epoch 119/200\n",
            "7/7 [==============================] - 0s 10ms/step - loss: 0.3693 - accuracy: 0.8775 - val_loss: 0.3617 - val_accuracy: 0.8906\n",
            "Epoch 120/200\n",
            "7/7 [==============================] - 0s 10ms/step - loss: 0.3682 - accuracy: 0.8775 - val_loss: 0.3608 - val_accuracy: 0.8906\n",
            "Epoch 121/200\n",
            "7/7 [==============================] - 0s 11ms/step - loss: 0.3691 - accuracy: 0.8775 - val_loss: 0.3597 - val_accuracy: 0.8906\n",
            "Epoch 122/200\n",
            "7/7 [==============================] - 0s 12ms/step - loss: 0.3682 - accuracy: 0.8775 - val_loss: 0.3586 - val_accuracy: 0.8906\n",
            "Epoch 123/200\n",
            "7/7 [==============================] - 0s 12ms/step - loss: 0.3679 - accuracy: 0.8775 - val_loss: 0.3593 - val_accuracy: 0.8906\n",
            "Epoch 124/200\n",
            "7/7 [==============================] - 0s 10ms/step - loss: 0.3693 - accuracy: 0.8775 - val_loss: 0.3600 - val_accuracy: 0.8906\n",
            "Epoch 125/200\n",
            "7/7 [==============================] - 0s 11ms/step - loss: 0.3691 - accuracy: 0.8775 - val_loss: 0.3596 - val_accuracy: 0.8906\n",
            "Epoch 126/200\n",
            "7/7 [==============================] - 0s 10ms/step - loss: 0.3688 - accuracy: 0.8775 - val_loss: 0.3602 - val_accuracy: 0.8906\n",
            "Epoch 127/200\n",
            "7/7 [==============================] - 0s 14ms/step - loss: 0.3685 - accuracy: 0.8775 - val_loss: 0.3592 - val_accuracy: 0.8906\n",
            "Epoch 128/200\n",
            "7/7 [==============================] - 0s 10ms/step - loss: 0.3696 - accuracy: 0.8775 - val_loss: 0.3584 - val_accuracy: 0.8906\n",
            "Epoch 129/200\n",
            "7/7 [==============================] - 0s 11ms/step - loss: 0.3686 - accuracy: 0.8775 - val_loss: 0.3592 - val_accuracy: 0.8906\n",
            "Epoch 130/200\n",
            "7/7 [==============================] - 0s 10ms/step - loss: 0.3687 - accuracy: 0.8775 - val_loss: 0.3592 - val_accuracy: 0.8906\n",
            "Epoch 131/200\n",
            "7/7 [==============================] - 0s 12ms/step - loss: 0.3686 - accuracy: 0.8775 - val_loss: 0.3599 - val_accuracy: 0.8906\n",
            "Epoch 132/200\n",
            "7/7 [==============================] - 0s 10ms/step - loss: 0.3680 - accuracy: 0.8775 - val_loss: 0.3596 - val_accuracy: 0.8906\n",
            "Epoch 133/200\n",
            "7/7 [==============================] - 0s 10ms/step - loss: 0.3691 - accuracy: 0.8775 - val_loss: 0.3593 - val_accuracy: 0.8906\n",
            "Epoch 134/200\n",
            "7/7 [==============================] - 0s 10ms/step - loss: 0.3685 - accuracy: 0.8775 - val_loss: 0.3599 - val_accuracy: 0.8906\n",
            "Epoch 135/200\n",
            "7/7 [==============================] - 0s 13ms/step - loss: 0.3673 - accuracy: 0.8775 - val_loss: 0.3594 - val_accuracy: 0.8906\n",
            "Epoch 136/200\n",
            "7/7 [==============================] - 0s 10ms/step - loss: 0.3689 - accuracy: 0.8775 - val_loss: 0.3585 - val_accuracy: 0.8906\n",
            "Epoch 137/200\n",
            "7/7 [==============================] - 0s 12ms/step - loss: 0.3690 - accuracy: 0.8775 - val_loss: 0.3585 - val_accuracy: 0.8906\n",
            "Epoch 138/200\n",
            "7/7 [==============================] - 0s 11ms/step - loss: 0.3681 - accuracy: 0.8775 - val_loss: 0.3585 - val_accuracy: 0.8906\n",
            "Epoch 139/200\n",
            "7/7 [==============================] - 0s 12ms/step - loss: 0.3691 - accuracy: 0.8775 - val_loss: 0.3579 - val_accuracy: 0.8906\n",
            "Epoch 140/200\n",
            "7/7 [==============================] - 0s 10ms/step - loss: 0.3691 - accuracy: 0.8775 - val_loss: 0.3579 - val_accuracy: 0.8906\n",
            "Epoch 141/200\n",
            "7/7 [==============================] - 0s 12ms/step - loss: 0.3696 - accuracy: 0.8775 - val_loss: 0.3587 - val_accuracy: 0.8906\n",
            "Epoch 142/200\n",
            "7/7 [==============================] - 0s 13ms/step - loss: 0.3686 - accuracy: 0.8775 - val_loss: 0.3608 - val_accuracy: 0.8906\n",
            "Epoch 143/200\n",
            "7/7 [==============================] - 0s 11ms/step - loss: 0.3681 - accuracy: 0.8775 - val_loss: 0.3594 - val_accuracy: 0.8906\n",
            "Epoch 144/200\n",
            "7/7 [==============================] - 0s 10ms/step - loss: 0.3687 - accuracy: 0.8775 - val_loss: 0.3607 - val_accuracy: 0.8906\n",
            "Epoch 145/200\n",
            "7/7 [==============================] - 0s 10ms/step - loss: 0.3670 - accuracy: 0.8775 - val_loss: 0.3609 - val_accuracy: 0.8906\n",
            "Epoch 146/200\n",
            "7/7 [==============================] - 0s 10ms/step - loss: 0.3681 - accuracy: 0.8775 - val_loss: 0.3610 - val_accuracy: 0.8906\n",
            "Epoch 147/200\n",
            "7/7 [==============================] - 0s 12ms/step - loss: 0.3686 - accuracy: 0.8775 - val_loss: 0.3602 - val_accuracy: 0.8906\n",
            "Epoch 148/200\n",
            "7/7 [==============================] - 0s 12ms/step - loss: 0.3679 - accuracy: 0.8775 - val_loss: 0.3612 - val_accuracy: 0.8906\n",
            "Epoch 149/200\n",
            "7/7 [==============================] - 0s 12ms/step - loss: 0.3682 - accuracy: 0.8775 - val_loss: 0.3604 - val_accuracy: 0.8906\n",
            "Epoch 150/200\n",
            "7/7 [==============================] - 0s 10ms/step - loss: 0.3689 - accuracy: 0.8775 - val_loss: 0.3607 - val_accuracy: 0.8906\n",
            "Epoch 151/200\n",
            "7/7 [==============================] - 0s 14ms/step - loss: 0.3686 - accuracy: 0.8775 - val_loss: 0.3601 - val_accuracy: 0.8906\n",
            "Epoch 152/200\n",
            "7/7 [==============================] - 0s 11ms/step - loss: 0.3682 - accuracy: 0.8775 - val_loss: 0.3596 - val_accuracy: 0.8906\n",
            "Epoch 153/200\n",
            "7/7 [==============================] - 0s 10ms/step - loss: 0.3693 - accuracy: 0.8775 - val_loss: 0.3586 - val_accuracy: 0.8906\n",
            "Epoch 154/200\n",
            "7/7 [==============================] - 0s 11ms/step - loss: 0.3692 - accuracy: 0.8775 - val_loss: 0.3579 - val_accuracy: 0.8906\n",
            "Epoch 155/200\n",
            "7/7 [==============================] - 0s 12ms/step - loss: 0.3679 - accuracy: 0.8775 - val_loss: 0.3574 - val_accuracy: 0.8906\n",
            "Epoch 156/200\n",
            "7/7 [==============================] - 0s 12ms/step - loss: 0.3680 - accuracy: 0.8775 - val_loss: 0.3589 - val_accuracy: 0.8906\n",
            "Epoch 157/200\n",
            "7/7 [==============================] - 0s 10ms/step - loss: 0.3679 - accuracy: 0.8775 - val_loss: 0.3595 - val_accuracy: 0.8906\n",
            "Epoch 158/200\n",
            "7/7 [==============================] - 0s 11ms/step - loss: 0.3681 - accuracy: 0.8775 - val_loss: 0.3591 - val_accuracy: 0.8906\n",
            "Epoch 159/200\n",
            "7/7 [==============================] - 0s 10ms/step - loss: 0.3683 - accuracy: 0.8775 - val_loss: 0.3588 - val_accuracy: 0.8906\n",
            "Epoch 160/200\n",
            "7/7 [==============================] - 0s 12ms/step - loss: 0.3691 - accuracy: 0.8775 - val_loss: 0.3587 - val_accuracy: 0.8906\n",
            "Epoch 161/200\n",
            "7/7 [==============================] - 0s 10ms/step - loss: 0.3677 - accuracy: 0.8775 - val_loss: 0.3585 - val_accuracy: 0.8906\n",
            "Epoch 162/200\n",
            "7/7 [==============================] - 0s 11ms/step - loss: 0.3674 - accuracy: 0.8775 - val_loss: 0.3588 - val_accuracy: 0.8906\n",
            "Epoch 163/200\n",
            "7/7 [==============================] - 0s 12ms/step - loss: 0.3683 - accuracy: 0.8775 - val_loss: 0.3586 - val_accuracy: 0.8906\n",
            "Epoch 164/200\n",
            "7/7 [==============================] - 0s 11ms/step - loss: 0.3678 - accuracy: 0.8775 - val_loss: 0.3577 - val_accuracy: 0.8906\n",
            "Epoch 165/200\n",
            "7/7 [==============================] - 0s 13ms/step - loss: 0.3681 - accuracy: 0.8775 - val_loss: 0.3570 - val_accuracy: 0.8906\n",
            "Epoch 166/200\n",
            "7/7 [==============================] - 0s 10ms/step - loss: 0.3666 - accuracy: 0.8775 - val_loss: 0.3572 - val_accuracy: 0.8906\n",
            "Epoch 167/200\n",
            "7/7 [==============================] - 0s 13ms/step - loss: 0.3684 - accuracy: 0.8775 - val_loss: 0.3581 - val_accuracy: 0.8906\n",
            "Epoch 168/200\n",
            "7/7 [==============================] - 0s 12ms/step - loss: 0.3682 - accuracy: 0.8775 - val_loss: 0.3582 - val_accuracy: 0.8906\n",
            "Epoch 169/200\n",
            "7/7 [==============================] - 0s 13ms/step - loss: 0.3676 - accuracy: 0.8775 - val_loss: 0.3574 - val_accuracy: 0.8906\n",
            "Epoch 170/200\n",
            "7/7 [==============================] - 0s 10ms/step - loss: 0.3690 - accuracy: 0.8775 - val_loss: 0.3573 - val_accuracy: 0.8906\n",
            "Epoch 171/200\n",
            "7/7 [==============================] - 0s 10ms/step - loss: 0.3686 - accuracy: 0.8775 - val_loss: 0.3581 - val_accuracy: 0.8906\n",
            "Epoch 172/200\n",
            "7/7 [==============================] - 0s 12ms/step - loss: 0.3680 - accuracy: 0.8775 - val_loss: 0.3597 - val_accuracy: 0.8906\n",
            "Epoch 173/200\n",
            "7/7 [==============================] - 0s 10ms/step - loss: 0.3683 - accuracy: 0.8775 - val_loss: 0.3610 - val_accuracy: 0.8906\n",
            "Epoch 174/200\n",
            "7/7 [==============================] - 0s 11ms/step - loss: 0.3668 - accuracy: 0.8775 - val_loss: 0.3609 - val_accuracy: 0.8906\n",
            "Epoch 175/200\n",
            "7/7 [==============================] - 0s 13ms/step - loss: 0.3683 - accuracy: 0.8775 - val_loss: 0.3618 - val_accuracy: 0.8906\n",
            "Epoch 176/200\n",
            "7/7 [==============================] - 0s 10ms/step - loss: 0.3686 - accuracy: 0.8775 - val_loss: 0.3615 - val_accuracy: 0.8906\n",
            "Epoch 177/200\n",
            "7/7 [==============================] - 0s 10ms/step - loss: 0.3683 - accuracy: 0.8775 - val_loss: 0.3597 - val_accuracy: 0.8906\n",
            "Epoch 178/200\n",
            "7/7 [==============================] - 0s 10ms/step - loss: 0.3670 - accuracy: 0.8775 - val_loss: 0.3609 - val_accuracy: 0.8906\n",
            "Epoch 179/200\n",
            "7/7 [==============================] - 0s 13ms/step - loss: 0.3673 - accuracy: 0.8775 - val_loss: 0.3609 - val_accuracy: 0.8906\n",
            "Epoch 180/200\n",
            "7/7 [==============================] - 0s 10ms/step - loss: 0.3676 - accuracy: 0.8775 - val_loss: 0.3595 - val_accuracy: 0.8906\n",
            "Epoch 181/200\n",
            "7/7 [==============================] - 0s 10ms/step - loss: 0.3678 - accuracy: 0.8775 - val_loss: 0.3590 - val_accuracy: 0.8906\n",
            "Epoch 182/200\n",
            "7/7 [==============================] - 0s 11ms/step - loss: 0.3669 - accuracy: 0.8775 - val_loss: 0.3593 - val_accuracy: 0.8906\n",
            "Epoch 183/200\n",
            "7/7 [==============================] - 0s 10ms/step - loss: 0.3675 - accuracy: 0.8775 - val_loss: 0.3591 - val_accuracy: 0.8906\n",
            "Epoch 184/200\n",
            "7/7 [==============================] - 0s 11ms/step - loss: 0.3664 - accuracy: 0.8775 - val_loss: 0.3588 - val_accuracy: 0.8906\n",
            "Epoch 185/200\n",
            "7/7 [==============================] - 0s 10ms/step - loss: 0.3675 - accuracy: 0.8775 - val_loss: 0.3584 - val_accuracy: 0.8906\n",
            "Epoch 186/200\n",
            "7/7 [==============================] - 0s 11ms/step - loss: 0.3680 - accuracy: 0.8775 - val_loss: 0.3574 - val_accuracy: 0.8906\n",
            "Epoch 187/200\n",
            "7/7 [==============================] - 0s 14ms/step - loss: 0.3684 - accuracy: 0.8775 - val_loss: 0.3569 - val_accuracy: 0.8906\n",
            "Epoch 188/200\n",
            "7/7 [==============================] - 0s 11ms/step - loss: 0.3670 - accuracy: 0.8775 - val_loss: 0.3585 - val_accuracy: 0.8906\n",
            "Epoch 189/200\n",
            "7/7 [==============================] - 0s 13ms/step - loss: 0.3687 - accuracy: 0.8775 - val_loss: 0.3582 - val_accuracy: 0.8906\n",
            "Epoch 190/200\n",
            "7/7 [==============================] - 0s 11ms/step - loss: 0.3675 - accuracy: 0.8775 - val_loss: 0.3582 - val_accuracy: 0.8906\n",
            "Epoch 191/200\n",
            "7/7 [==============================] - 0s 11ms/step - loss: 0.3663 - accuracy: 0.8775 - val_loss: 0.3572 - val_accuracy: 0.8906\n",
            "Epoch 192/200\n",
            "7/7 [==============================] - 0s 11ms/step - loss: 0.3682 - accuracy: 0.8775 - val_loss: 0.3564 - val_accuracy: 0.8906\n",
            "Epoch 193/200\n",
            "7/7 [==============================] - 0s 10ms/step - loss: 0.3673 - accuracy: 0.8775 - val_loss: 0.3559 - val_accuracy: 0.8906\n",
            "Epoch 194/200\n",
            "7/7 [==============================] - 0s 12ms/step - loss: 0.3681 - accuracy: 0.8775 - val_loss: 0.3571 - val_accuracy: 0.8906\n",
            "Epoch 195/200\n",
            "7/7 [==============================] - 0s 11ms/step - loss: 0.3664 - accuracy: 0.8775 - val_loss: 0.3578 - val_accuracy: 0.8906\n",
            "Epoch 196/200\n",
            "7/7 [==============================] - 0s 12ms/step - loss: 0.3666 - accuracy: 0.8775 - val_loss: 0.3575 - val_accuracy: 0.8906\n",
            "Epoch 197/200\n",
            "7/7 [==============================] - 0s 10ms/step - loss: 0.3670 - accuracy: 0.8775 - val_loss: 0.3575 - val_accuracy: 0.8906\n",
            "Epoch 198/200\n",
            "7/7 [==============================] - 0s 10ms/step - loss: 0.3663 - accuracy: 0.8775 - val_loss: 0.3581 - val_accuracy: 0.8906\n",
            "Epoch 199/200\n",
            "7/7 [==============================] - 0s 13ms/step - loss: 0.3665 - accuracy: 0.8775 - val_loss: 0.3578 - val_accuracy: 0.8906\n",
            "Epoch 200/200\n",
            "7/7 [==============================] - 0s 10ms/step - loss: 0.3668 - accuracy: 0.8775 - val_loss: 0.3584 - val_accuracy: 0.8906\n"
          ]
        }
      ]
    },
    {
      "cell_type": "code",
      "source": [
        "target_names = pd.Categorical(df_indian['diet']).categories"
      ],
      "metadata": {
        "id": "RbWSE31wIuhg"
      },
      "execution_count": 310,
      "outputs": []
    },
    {
      "cell_type": "code",
      "source": [
        "y_prob = model_indian.predict(X_test_indian_padded)\n",
        "y_pred = np.argmax(y_prob,axis=1)\n",
        "print(classification_report(y_test_int_indian,y_pred, target_names=target_names))"
      ],
      "metadata": {
        "colab": {
          "base_uri": "https://localhost:8080/"
        },
        "outputId": "bd655d7b-db06-44d7-e0a6-4fd64d0f387b",
        "id": "sLl8kN1JIuhg"
      },
      "execution_count": 311,
      "outputs": [
        {
          "output_type": "stream",
          "name": "stdout",
          "text": [
            "                precision    recall  f1-score   support\n",
            "\n",
            "non vegetarian       0.00      0.00      0.00        15\n",
            "    vegetarian       0.88      1.00      0.94       112\n",
            "\n",
            "      accuracy                           0.88       127\n",
            "     macro avg       0.44      0.50      0.47       127\n",
            "  weighted avg       0.78      0.88      0.83       127\n",
            "\n"
          ]
        },
        {
          "output_type": "stream",
          "name": "stderr",
          "text": [
            "/usr/local/lib/python3.7/dist-packages/sklearn/metrics/_classification.py:1318: UndefinedMetricWarning: Precision and F-score are ill-defined and being set to 0.0 in labels with no predicted samples. Use `zero_division` parameter to control this behavior.\n",
            "  _warn_prf(average, modifier, msg_start, len(result))\n",
            "/usr/local/lib/python3.7/dist-packages/sklearn/metrics/_classification.py:1318: UndefinedMetricWarning: Precision and F-score are ill-defined and being set to 0.0 in labels with no predicted samples. Use `zero_division` parameter to control this behavior.\n",
            "  _warn_prf(average, modifier, msg_start, len(result))\n",
            "/usr/local/lib/python3.7/dist-packages/sklearn/metrics/_classification.py:1318: UndefinedMetricWarning: Precision and F-score are ill-defined and being set to 0.0 in labels with no predicted samples. Use `zero_division` parameter to control this behavior.\n",
            "  _warn_prf(average, modifier, msg_start, len(result))\n"
          ]
        }
      ]
    },
    {
      "cell_type": "code",
      "source": [
        "from sklearn.metrics import confusion_matrix\n",
        "print(confusion_matrix(y_test_int_indian, y_pred))"
      ],
      "metadata": {
        "colab": {
          "base_uri": "https://localhost:8080/"
        },
        "id": "Zu18gwzhfS_O",
        "outputId": "0938d53e-35c4-46a0-b17c-1d3b47b3886c"
      },
      "execution_count": 312,
      "outputs": [
        {
          "output_type": "stream",
          "name": "stdout",
          "text": [
            "[[  0  15]\n",
            " [  0 112]]\n"
          ]
        }
      ]
    },
    {
      "cell_type": "markdown",
      "source": [
        "# RNN"
      ],
      "metadata": {
        "id": "_c6Yl0sPf5V7"
      }
    },
    {
      "cell_type": "code",
      "source": [
        "from keras_tuner import HyperModel\n",
        "\n",
        "class RNNHyperModel(HyperModel):\n",
        "  def __init__(self, embedding_layer, output):\n",
        "    self.embedding_layer = embedding_layer\n",
        "    self.output = output\n",
        "\n",
        "  def build(self, hp):\n",
        "    model = Sequential()\n",
        "    model.add(self.embedding_layer)\n",
        "    model.add(SimpleRNN(64,return_sequences=True,dropout=0.1, recurrent_dropout=0.1, activation='relu'))\n",
        "    model.add(SimpleRNN(32,activation='relu'))\n",
        "    model.add(Dense(32, activation=\"relu\"))\n",
        "    model.add(Dropout(0.5))\n",
        "    model.add(Dense(self.output, activation=\"softmax\"))\n",
        "    sgd = SGD(learning_rate=0.01)\n",
        "    model.compile(loss=\"categorical_crossentropy\",optimizer=sgd,metrics=['accuracy'])\n",
        "    return model"
      ],
      "metadata": {
        "id": "W12wdot6f7TY"
      },
      "execution_count": 354,
      "outputs": []
    },
    {
      "cell_type": "markdown",
      "source": [
        "### Cuisine Classification Data"
      ],
      "metadata": {
        "id": "HZn6aohtgR3P"
      }
    },
    {
      "cell_type": "code",
      "source": [
        "embedding_layer = Embedding(input_dim=vocab_size_cuisine, output_dim=EMBEDDING_DIM, weights=[embedding_matrix_cuisine], input_length=MAX_LENGTH_C, trainable=False)"
      ],
      "metadata": {
        "id": "oyTpPanlgR3P"
      },
      "execution_count": 355,
      "outputs": []
    },
    {
      "cell_type": "code",
      "source": [
        "model_RNN = RNNHyperModel(embedding_layer, 20)"
      ],
      "metadata": {
        "id": "0Wzc0eGsgR3P"
      },
      "execution_count": 356,
      "outputs": []
    },
    {
      "cell_type": "code",
      "source": [
        "model_cuisine = model_RNN.build(0)"
      ],
      "metadata": {
        "id": "BHh7xu-kgR3P"
      },
      "execution_count": 357,
      "outputs": []
    },
    {
      "cell_type": "code",
      "source": [
        "model_cuisine.summary()"
      ],
      "metadata": {
        "colab": {
          "base_uri": "https://localhost:8080/"
        },
        "outputId": "096413f6-3532-475f-c2f3-2edd48dde390",
        "id": "nfr0xLzNgR3P"
      },
      "execution_count": 358,
      "outputs": [
        {
          "output_type": "stream",
          "name": "stdout",
          "text": [
            "Model: \"sequential_36\"\n",
            "_________________________________________________________________\n",
            " Layer (type)                Output Shape              Param #   \n",
            "=================================================================\n",
            " embedding_33 (Embedding)    (None, 50, 100)           215100    \n",
            "                                                                 \n",
            " simple_rnn_9 (SimpleRNN)    (None, 50, 64)            10560     \n",
            "                                                                 \n",
            " simple_rnn_10 (SimpleRNN)   (None, 32)                3104      \n",
            "                                                                 \n",
            " dense_77 (Dense)            (None, 32)                1056      \n",
            "                                                                 \n",
            " dropout_24 (Dropout)        (None, 32)                0         \n",
            "                                                                 \n",
            " dense_78 (Dense)            (None, 20)                660       \n",
            "                                                                 \n",
            "=================================================================\n",
            "Total params: 230,480\n",
            "Trainable params: 15,380\n",
            "Non-trainable params: 215,100\n",
            "_________________________________________________________________\n"
          ]
        }
      ]
    },
    {
      "cell_type": "code",
      "source": [
        "history_fine = model_cuisine.fit(X_train_cuisine_padded,y_train_cuisine,validation_data=(X_valid_cuisine_padded,y_valid_cuisine), epochs=50) "
      ],
      "metadata": {
        "colab": {
          "base_uri": "https://localhost:8080/",
          "height": 805
        },
        "outputId": "e852436f-c231-4cd7-e926-26a3c533dbc1",
        "id": "HYrcPLe8gR3P"
      },
      "execution_count": 359,
      "outputs": [
        {
          "output_type": "stream",
          "name": "stdout",
          "text": [
            "Epoch 1/50\n",
            "250/250 [==============================] - 9s 29ms/step - loss: 2.8029 - accuracy: 0.1875 - val_loss: 2.6697 - val_accuracy: 0.1962\n",
            "Epoch 2/50\n",
            "250/250 [==============================] - 7s 29ms/step - loss: 2.7046 - accuracy: 0.1895 - val_loss: 2.6333 - val_accuracy: 0.1962\n",
            "Epoch 3/50\n",
            "250/250 [==============================] - 8s 33ms/step - loss: 2.6834 - accuracy: 0.1871 - val_loss: 2.6152 - val_accuracy: 0.1962\n",
            "Epoch 4/50\n",
            "250/250 [==============================] - 7s 27ms/step - loss: 2.6657 - accuracy: 0.1900 - val_loss: 2.6135 - val_accuracy: 0.1962\n",
            "Epoch 5/50\n",
            "250/250 [==============================] - 7s 27ms/step - loss: 2.6617 - accuracy: 0.1896 - val_loss: 2.6111 - val_accuracy: 0.1962\n",
            "Epoch 6/50\n",
            "250/250 [==============================] - 7s 27ms/step - loss: 2.6591 - accuracy: 0.1893 - val_loss: 2.6156 - val_accuracy: 0.1962\n",
            "Epoch 7/50\n",
            "250/250 [==============================] - 7s 27ms/step - loss: 2.6545 - accuracy: 0.1921 - val_loss: 2.6073 - val_accuracy: 0.1962\n",
            "Epoch 8/50\n",
            "250/250 [==============================] - 7s 27ms/step - loss: 2.6528 - accuracy: 0.1900 - val_loss: 2.6049 - val_accuracy: 0.1962\n",
            "Epoch 9/50\n",
            "250/250 [==============================] - 7s 27ms/step - loss: 2.6458 - accuracy: 0.1940 - val_loss: 2.6031 - val_accuracy: 0.1962\n",
            "Epoch 10/50\n",
            "250/250 [==============================] - 7s 27ms/step - loss: 2.6404 - accuracy: 0.1904 - val_loss: 2.6028 - val_accuracy: 0.1962\n",
            "Epoch 11/50\n",
            "250/250 [==============================] - 7s 27ms/step - loss: 2.6360 - accuracy: 0.1918 - val_loss: 2.6030 - val_accuracy: 0.1962\n",
            "Epoch 12/50\n",
            "250/250 [==============================] - 7s 27ms/step - loss: 2.6404 - accuracy: 0.1905 - val_loss: 2.6009 - val_accuracy: 0.1962\n",
            "Epoch 13/50\n",
            "209/250 [========================>.....] - ETA: 0s - loss: 2.6397 - accuracy: 0.1932"
          ]
        },
        {
          "output_type": "error",
          "ename": "KeyboardInterrupt",
          "evalue": "ignored",
          "traceback": [
            "\u001b[0;31m---------------------------------------------------------------------------\u001b[0m",
            "\u001b[0;31mKeyboardInterrupt\u001b[0m                         Traceback (most recent call last)",
            "\u001b[0;32m<ipython-input-359-957493a4ea9f>\u001b[0m in \u001b[0;36m<module>\u001b[0;34m\u001b[0m\n\u001b[0;32m----> 1\u001b[0;31m \u001b[0mhistory_fine\u001b[0m \u001b[0;34m=\u001b[0m \u001b[0mmodel_cuisine\u001b[0m\u001b[0;34m.\u001b[0m\u001b[0mfit\u001b[0m\u001b[0;34m(\u001b[0m\u001b[0mX_train_cuisine_padded\u001b[0m\u001b[0;34m,\u001b[0m\u001b[0my_train_cuisine\u001b[0m\u001b[0;34m,\u001b[0m\u001b[0mvalidation_data\u001b[0m\u001b[0;34m=\u001b[0m\u001b[0;34m(\u001b[0m\u001b[0mX_valid_cuisine_padded\u001b[0m\u001b[0;34m,\u001b[0m\u001b[0my_valid_cuisine\u001b[0m\u001b[0;34m)\u001b[0m\u001b[0;34m,\u001b[0m \u001b[0mepochs\u001b[0m\u001b[0;34m=\u001b[0m\u001b[0;36m50\u001b[0m\u001b[0;34m)\u001b[0m\u001b[0;34m\u001b[0m\u001b[0;34m\u001b[0m\u001b[0m\n\u001b[0m",
            "\u001b[0;32m/usr/local/lib/python3.7/dist-packages/keras/utils/traceback_utils.py\u001b[0m in \u001b[0;36merror_handler\u001b[0;34m(*args, **kwargs)\u001b[0m\n\u001b[1;32m     62\u001b[0m     \u001b[0mfiltered_tb\u001b[0m \u001b[0;34m=\u001b[0m \u001b[0;32mNone\u001b[0m\u001b[0;34m\u001b[0m\u001b[0;34m\u001b[0m\u001b[0m\n\u001b[1;32m     63\u001b[0m     \u001b[0;32mtry\u001b[0m\u001b[0;34m:\u001b[0m\u001b[0;34m\u001b[0m\u001b[0;34m\u001b[0m\u001b[0m\n\u001b[0;32m---> 64\u001b[0;31m       \u001b[0;32mreturn\u001b[0m \u001b[0mfn\u001b[0m\u001b[0;34m(\u001b[0m\u001b[0;34m*\u001b[0m\u001b[0margs\u001b[0m\u001b[0;34m,\u001b[0m \u001b[0;34m**\u001b[0m\u001b[0mkwargs\u001b[0m\u001b[0;34m)\u001b[0m\u001b[0;34m\u001b[0m\u001b[0;34m\u001b[0m\u001b[0m\n\u001b[0m\u001b[1;32m     65\u001b[0m     \u001b[0;32mexcept\u001b[0m \u001b[0mException\u001b[0m \u001b[0;32mas\u001b[0m \u001b[0me\u001b[0m\u001b[0;34m:\u001b[0m  \u001b[0;31m# pylint: disable=broad-except\u001b[0m\u001b[0;34m\u001b[0m\u001b[0;34m\u001b[0m\u001b[0m\n\u001b[1;32m     66\u001b[0m       \u001b[0mfiltered_tb\u001b[0m \u001b[0;34m=\u001b[0m \u001b[0m_process_traceback_frames\u001b[0m\u001b[0;34m(\u001b[0m\u001b[0me\u001b[0m\u001b[0;34m.\u001b[0m\u001b[0m__traceback__\u001b[0m\u001b[0;34m)\u001b[0m\u001b[0;34m\u001b[0m\u001b[0;34m\u001b[0m\u001b[0m\n",
            "\u001b[0;32m/usr/local/lib/python3.7/dist-packages/keras/engine/training.py\u001b[0m in \u001b[0;36mfit\u001b[0;34m(self, x, y, batch_size, epochs, verbose, callbacks, validation_split, validation_data, shuffle, class_weight, sample_weight, initial_epoch, steps_per_epoch, validation_steps, validation_batch_size, validation_freq, max_queue_size, workers, use_multiprocessing)\u001b[0m\n\u001b[1;32m   1382\u001b[0m                 _r=1):\n\u001b[1;32m   1383\u001b[0m               \u001b[0mcallbacks\u001b[0m\u001b[0;34m.\u001b[0m\u001b[0mon_train_batch_begin\u001b[0m\u001b[0;34m(\u001b[0m\u001b[0mstep\u001b[0m\u001b[0;34m)\u001b[0m\u001b[0;34m\u001b[0m\u001b[0;34m\u001b[0m\u001b[0m\n\u001b[0;32m-> 1384\u001b[0;31m               \u001b[0mtmp_logs\u001b[0m \u001b[0;34m=\u001b[0m \u001b[0mself\u001b[0m\u001b[0;34m.\u001b[0m\u001b[0mtrain_function\u001b[0m\u001b[0;34m(\u001b[0m\u001b[0miterator\u001b[0m\u001b[0;34m)\u001b[0m\u001b[0;34m\u001b[0m\u001b[0;34m\u001b[0m\u001b[0m\n\u001b[0m\u001b[1;32m   1385\u001b[0m               \u001b[0;32mif\u001b[0m \u001b[0mdata_handler\u001b[0m\u001b[0;34m.\u001b[0m\u001b[0mshould_sync\u001b[0m\u001b[0;34m:\u001b[0m\u001b[0;34m\u001b[0m\u001b[0;34m\u001b[0m\u001b[0m\n\u001b[1;32m   1386\u001b[0m                 \u001b[0mcontext\u001b[0m\u001b[0;34m.\u001b[0m\u001b[0masync_wait\u001b[0m\u001b[0;34m(\u001b[0m\u001b[0;34m)\u001b[0m\u001b[0;34m\u001b[0m\u001b[0;34m\u001b[0m\u001b[0m\n",
            "\u001b[0;32m/usr/local/lib/python3.7/dist-packages/tensorflow/python/util/traceback_utils.py\u001b[0m in \u001b[0;36merror_handler\u001b[0;34m(*args, **kwargs)\u001b[0m\n\u001b[1;32m    148\u001b[0m     \u001b[0mfiltered_tb\u001b[0m \u001b[0;34m=\u001b[0m \u001b[0;32mNone\u001b[0m\u001b[0;34m\u001b[0m\u001b[0;34m\u001b[0m\u001b[0m\n\u001b[1;32m    149\u001b[0m     \u001b[0;32mtry\u001b[0m\u001b[0;34m:\u001b[0m\u001b[0;34m\u001b[0m\u001b[0;34m\u001b[0m\u001b[0m\n\u001b[0;32m--> 150\u001b[0;31m       \u001b[0;32mreturn\u001b[0m \u001b[0mfn\u001b[0m\u001b[0;34m(\u001b[0m\u001b[0;34m*\u001b[0m\u001b[0margs\u001b[0m\u001b[0;34m,\u001b[0m \u001b[0;34m**\u001b[0m\u001b[0mkwargs\u001b[0m\u001b[0;34m)\u001b[0m\u001b[0;34m\u001b[0m\u001b[0;34m\u001b[0m\u001b[0m\n\u001b[0m\u001b[1;32m    151\u001b[0m     \u001b[0;32mexcept\u001b[0m \u001b[0mException\u001b[0m \u001b[0;32mas\u001b[0m \u001b[0me\u001b[0m\u001b[0;34m:\u001b[0m\u001b[0;34m\u001b[0m\u001b[0;34m\u001b[0m\u001b[0m\n\u001b[1;32m    152\u001b[0m       \u001b[0mfiltered_tb\u001b[0m \u001b[0;34m=\u001b[0m \u001b[0m_process_traceback_frames\u001b[0m\u001b[0;34m(\u001b[0m\u001b[0me\u001b[0m\u001b[0;34m.\u001b[0m\u001b[0m__traceback__\u001b[0m\u001b[0;34m)\u001b[0m\u001b[0;34m\u001b[0m\u001b[0;34m\u001b[0m\u001b[0m\n",
            "\u001b[0;32m/usr/local/lib/python3.7/dist-packages/tensorflow/python/eager/def_function.py\u001b[0m in \u001b[0;36m__call__\u001b[0;34m(self, *args, **kwds)\u001b[0m\n\u001b[1;32m    913\u001b[0m \u001b[0;34m\u001b[0m\u001b[0m\n\u001b[1;32m    914\u001b[0m       \u001b[0;32mwith\u001b[0m \u001b[0mOptionalXlaContext\u001b[0m\u001b[0;34m(\u001b[0m\u001b[0mself\u001b[0m\u001b[0;34m.\u001b[0m\u001b[0m_jit_compile\u001b[0m\u001b[0;34m)\u001b[0m\u001b[0;34m:\u001b[0m\u001b[0;34m\u001b[0m\u001b[0;34m\u001b[0m\u001b[0m\n\u001b[0;32m--> 915\u001b[0;31m         \u001b[0mresult\u001b[0m \u001b[0;34m=\u001b[0m \u001b[0mself\u001b[0m\u001b[0;34m.\u001b[0m\u001b[0m_call\u001b[0m\u001b[0;34m(\u001b[0m\u001b[0;34m*\u001b[0m\u001b[0margs\u001b[0m\u001b[0;34m,\u001b[0m \u001b[0;34m**\u001b[0m\u001b[0mkwds\u001b[0m\u001b[0;34m)\u001b[0m\u001b[0;34m\u001b[0m\u001b[0;34m\u001b[0m\u001b[0m\n\u001b[0m\u001b[1;32m    916\u001b[0m \u001b[0;34m\u001b[0m\u001b[0m\n\u001b[1;32m    917\u001b[0m       \u001b[0mnew_tracing_count\u001b[0m \u001b[0;34m=\u001b[0m \u001b[0mself\u001b[0m\u001b[0;34m.\u001b[0m\u001b[0mexperimental_get_tracing_count\u001b[0m\u001b[0;34m(\u001b[0m\u001b[0;34m)\u001b[0m\u001b[0;34m\u001b[0m\u001b[0;34m\u001b[0m\u001b[0m\n",
            "\u001b[0;32m/usr/local/lib/python3.7/dist-packages/tensorflow/python/eager/def_function.py\u001b[0m in \u001b[0;36m_call\u001b[0;34m(self, *args, **kwds)\u001b[0m\n\u001b[1;32m    945\u001b[0m       \u001b[0;31m# In this case we have created variables on the first call, so we run the\u001b[0m\u001b[0;34m\u001b[0m\u001b[0;34m\u001b[0m\u001b[0;34m\u001b[0m\u001b[0m\n\u001b[1;32m    946\u001b[0m       \u001b[0;31m# defunned version which is guaranteed to never create variables.\u001b[0m\u001b[0;34m\u001b[0m\u001b[0;34m\u001b[0m\u001b[0;34m\u001b[0m\u001b[0m\n\u001b[0;32m--> 947\u001b[0;31m       \u001b[0;32mreturn\u001b[0m \u001b[0mself\u001b[0m\u001b[0;34m.\u001b[0m\u001b[0m_stateless_fn\u001b[0m\u001b[0;34m(\u001b[0m\u001b[0;34m*\u001b[0m\u001b[0margs\u001b[0m\u001b[0;34m,\u001b[0m \u001b[0;34m**\u001b[0m\u001b[0mkwds\u001b[0m\u001b[0;34m)\u001b[0m  \u001b[0;31m# pylint: disable=not-callable\u001b[0m\u001b[0;34m\u001b[0m\u001b[0;34m\u001b[0m\u001b[0m\n\u001b[0m\u001b[1;32m    948\u001b[0m     \u001b[0;32melif\u001b[0m \u001b[0mself\u001b[0m\u001b[0;34m.\u001b[0m\u001b[0m_stateful_fn\u001b[0m \u001b[0;32mis\u001b[0m \u001b[0;32mnot\u001b[0m \u001b[0;32mNone\u001b[0m\u001b[0;34m:\u001b[0m\u001b[0;34m\u001b[0m\u001b[0;34m\u001b[0m\u001b[0m\n\u001b[1;32m    949\u001b[0m       \u001b[0;31m# Release the lock early so that multiple threads can perform the call\u001b[0m\u001b[0;34m\u001b[0m\u001b[0;34m\u001b[0m\u001b[0;34m\u001b[0m\u001b[0m\n",
            "\u001b[0;32m/usr/local/lib/python3.7/dist-packages/tensorflow/python/eager/function.py\u001b[0m in \u001b[0;36m__call__\u001b[0;34m(self, *args, **kwargs)\u001b[0m\n\u001b[1;32m   2955\u001b[0m        filtered_flat_args) = self._maybe_define_function(args, kwargs)\n\u001b[1;32m   2956\u001b[0m     return graph_function._call_flat(\n\u001b[0;32m-> 2957\u001b[0;31m         filtered_flat_args, captured_inputs=graph_function.captured_inputs)  # pylint: disable=protected-access\n\u001b[0m\u001b[1;32m   2958\u001b[0m \u001b[0;34m\u001b[0m\u001b[0m\n\u001b[1;32m   2959\u001b[0m   \u001b[0;34m@\u001b[0m\u001b[0mproperty\u001b[0m\u001b[0;34m\u001b[0m\u001b[0;34m\u001b[0m\u001b[0m\n",
            "\u001b[0;32m/usr/local/lib/python3.7/dist-packages/tensorflow/python/eager/function.py\u001b[0m in \u001b[0;36m_call_flat\u001b[0;34m(self, args, captured_inputs, cancellation_manager)\u001b[0m\n\u001b[1;32m   1852\u001b[0m       \u001b[0;31m# No tape is watching; skip to running the function.\u001b[0m\u001b[0;34m\u001b[0m\u001b[0;34m\u001b[0m\u001b[0;34m\u001b[0m\u001b[0m\n\u001b[1;32m   1853\u001b[0m       return self._build_call_outputs(self._inference_function.call(\n\u001b[0;32m-> 1854\u001b[0;31m           ctx, args, cancellation_manager=cancellation_manager))\n\u001b[0m\u001b[1;32m   1855\u001b[0m     forward_backward = self._select_forward_and_backward_functions(\n\u001b[1;32m   1856\u001b[0m         \u001b[0margs\u001b[0m\u001b[0;34m,\u001b[0m\u001b[0;34m\u001b[0m\u001b[0;34m\u001b[0m\u001b[0m\n",
            "\u001b[0;32m/usr/local/lib/python3.7/dist-packages/tensorflow/python/eager/function.py\u001b[0m in \u001b[0;36mcall\u001b[0;34m(self, ctx, args, cancellation_manager)\u001b[0m\n\u001b[1;32m    502\u001b[0m               \u001b[0minputs\u001b[0m\u001b[0;34m=\u001b[0m\u001b[0margs\u001b[0m\u001b[0;34m,\u001b[0m\u001b[0;34m\u001b[0m\u001b[0;34m\u001b[0m\u001b[0m\n\u001b[1;32m    503\u001b[0m               \u001b[0mattrs\u001b[0m\u001b[0;34m=\u001b[0m\u001b[0mattrs\u001b[0m\u001b[0;34m,\u001b[0m\u001b[0;34m\u001b[0m\u001b[0;34m\u001b[0m\u001b[0m\n\u001b[0;32m--> 504\u001b[0;31m               ctx=ctx)\n\u001b[0m\u001b[1;32m    505\u001b[0m         \u001b[0;32melse\u001b[0m\u001b[0;34m:\u001b[0m\u001b[0;34m\u001b[0m\u001b[0;34m\u001b[0m\u001b[0m\n\u001b[1;32m    506\u001b[0m           outputs = execute.execute_with_cancellation(\n",
            "\u001b[0;32m/usr/local/lib/python3.7/dist-packages/tensorflow/python/eager/execute.py\u001b[0m in \u001b[0;36mquick_execute\u001b[0;34m(op_name, num_outputs, inputs, attrs, ctx, name)\u001b[0m\n\u001b[1;32m     53\u001b[0m     \u001b[0mctx\u001b[0m\u001b[0;34m.\u001b[0m\u001b[0mensure_initialized\u001b[0m\u001b[0;34m(\u001b[0m\u001b[0;34m)\u001b[0m\u001b[0;34m\u001b[0m\u001b[0;34m\u001b[0m\u001b[0m\n\u001b[1;32m     54\u001b[0m     tensors = pywrap_tfe.TFE_Py_Execute(ctx._handle, device_name, op_name,\n\u001b[0;32m---> 55\u001b[0;31m                                         inputs, attrs, num_outputs)\n\u001b[0m\u001b[1;32m     56\u001b[0m   \u001b[0;32mexcept\u001b[0m \u001b[0mcore\u001b[0m\u001b[0;34m.\u001b[0m\u001b[0m_NotOkStatusException\u001b[0m \u001b[0;32mas\u001b[0m \u001b[0me\u001b[0m\u001b[0;34m:\u001b[0m\u001b[0;34m\u001b[0m\u001b[0;34m\u001b[0m\u001b[0m\n\u001b[1;32m     57\u001b[0m     \u001b[0;32mif\u001b[0m \u001b[0mname\u001b[0m \u001b[0;32mis\u001b[0m \u001b[0;32mnot\u001b[0m \u001b[0;32mNone\u001b[0m\u001b[0;34m:\u001b[0m\u001b[0;34m\u001b[0m\u001b[0;34m\u001b[0m\u001b[0m\n",
            "\u001b[0;31mKeyboardInterrupt\u001b[0m: "
          ]
        }
      ]
    },
    {
      "cell_type": "code",
      "source": [
        "target_names = pd.Categorical(df_cuisine['cuisine']).categories"
      ],
      "metadata": {
        "id": "kZx_KcXbgR3P"
      },
      "execution_count": null,
      "outputs": []
    },
    {
      "cell_type": "code",
      "source": [
        "y_prob = model_cuisine.predict(X_test_cuisine_padded)\n",
        "y_pred = np.argmax(y_prob,axis=1)\n",
        "print(classification_report(y_test_int_cuisine,y_pred, target_names=target_names))"
      ],
      "metadata": {
        "id": "rRdYHKRRgR3P"
      },
      "execution_count": null,
      "outputs": []
    },
    {
      "cell_type": "code",
      "source": [
        "plt.plot(history_fine.history['loss'])\n",
        "plt.plot(history_fine.history['val_loss'])\n",
        "plt.title('model loss')\n",
        "plt.ylabel('loss')\n",
        "plt.xlabel('epoch')\n",
        "plt.legend(['training set','validation set'], loc='upper left')\n",
        "plt.show()"
      ],
      "metadata": {
        "id": "q092aBC7gR3P"
      },
      "execution_count": null,
      "outputs": []
    },
    {
      "cell_type": "code",
      "source": [
        "plt.plot(history_fine.history['accuracy'])\n",
        "plt.plot(history_fine.history['val_accuracy'])\n",
        "plt.title('model accuracy')\n",
        "plt.ylabel('accuracy')\n",
        "plt.xlabel('epoch')\n",
        "plt.legend(['training set','validation set'], loc='upper left')\n",
        "plt.show()"
      ],
      "metadata": {
        "id": "J-f2H-6DgR3P"
      },
      "execution_count": null,
      "outputs": []
    },
    {
      "cell_type": "code",
      "source": [
        "ConfusionMatrixDisplay.from_predictions(y_test_int_cuisine, y_pred)\n",
        "plt.show()"
      ],
      "metadata": {
        "id": "39FZE48-gR3P"
      },
      "execution_count": null,
      "outputs": []
    },
    {
      "cell_type": "code",
      "source": [
        "from sklearn.metrics import confusion_matrix\n",
        "print(confusion_matrix(y_test_int_cuisine, y_pred))"
      ],
      "metadata": {
        "id": "YC1kmCIegR3Q"
      },
      "execution_count": null,
      "outputs": []
    },
    {
      "cell_type": "markdown",
      "source": [
        "### Indian Food Data"
      ],
      "metadata": {
        "id": "f9IHMxl4gR3Q"
      }
    },
    {
      "cell_type": "code",
      "source": [
        "embedding_layer = Embedding(vocab_size_indian, EMBEDDING_DIM, weights=[embedding_matrix_indian], input_length=MAX_LENGTH_I, trainable=False)"
      ],
      "metadata": {
        "id": "VfWVChztgR3Q"
      },
      "execution_count": null,
      "outputs": []
    },
    {
      "cell_type": "code",
      "source": [
        "model_CNN = CNNHyperModel(embedding_layer, 2)"
      ],
      "metadata": {
        "id": "A3Qg_vD7gR3Q"
      },
      "execution_count": null,
      "outputs": []
    },
    {
      "cell_type": "code",
      "source": [
        "model_indian = model_CNN.build(0)"
      ],
      "metadata": {
        "id": "U_1zb94FgR3Q"
      },
      "execution_count": null,
      "outputs": []
    },
    {
      "cell_type": "code",
      "source": [
        "model_indian.summary()"
      ],
      "metadata": {
        "id": "TR_9pYOqgR3Q"
      },
      "execution_count": null,
      "outputs": []
    },
    {
      "cell_type": "code",
      "source": [
        "history_fine = model_indian.fit(X_train_indian_padded,y_train_indian,validation_data=(X_valid_indian_padded,y_valid_indian), epochs=200) "
      ],
      "metadata": {
        "id": "r2qAbDpbgR3Q"
      },
      "execution_count": null,
      "outputs": []
    },
    {
      "cell_type": "code",
      "source": [
        "target_names = pd.Categorical(df_indian['diet']).categories"
      ],
      "metadata": {
        "id": "XQybQB5OgR3Q"
      },
      "execution_count": null,
      "outputs": []
    },
    {
      "cell_type": "code",
      "source": [
        "y_prob = model_indian.predict(X_test_indian_padded)\n",
        "y_pred = np.argmax(y_prob,axis=1)\n",
        "print(classification_report(y_test_int_indian,y_pred, target_names=target_names))"
      ],
      "metadata": {
        "id": "2aimAc1TgR3Q"
      },
      "execution_count": null,
      "outputs": []
    },
    {
      "cell_type": "code",
      "source": [
        "from sklearn.metrics import confusion_matrix\n",
        "print(confusion_matrix(y_test_int_indian, y_pred))"
      ],
      "metadata": {
        "id": "qZEvlHc3gR3Q"
      },
      "execution_count": null,
      "outputs": []
    },
    {
      "cell_type": "markdown",
      "source": [
        "# LSTM"
      ],
      "metadata": {
        "id": "6RhLUtYqmRHE"
      }
    },
    {
      "cell_type": "code",
      "source": [
        "from keras_tuner import HyperModel\n",
        "\n",
        "class LSTMHyperModel(HyperModel):\n",
        "  def __init__(self, embedding_layer, output):\n",
        "    self.embedding_layer = embedding_layer\n",
        "    self.output = output\n",
        "\n",
        "  def build(self, hp):\n",
        "    model = Sequential()\n",
        "    model.add(self.embedding_layer)\n",
        "    model.add(Masking(mask_value=0.0))\n",
        "    model.add(LSTM(64, return_sequences=False, dropout=0.1, recurrent_dropout=0.1))\n",
        "    model.add(Dense(64, activation='relu'))\n",
        "    model.add(Dropout(0.5))\n",
        "    model.add(Dense(self.output, activation='softmax'))\n",
        "    sgd = SGD(learning_rate=0.01)\n",
        "    model.compile(loss=\"categorical_crossentropy\",optimizer=sgd,metrics=['accuracy'])\n",
        "    return model"
      ],
      "metadata": {
        "id": "37iVKIoamPFS"
      },
      "execution_count": 348,
      "outputs": []
    },
    {
      "cell_type": "code",
      "source": [
        "embedding_layer = Embedding(input_dim=vocab_size_cuisine, output_dim=EMBEDDING_DIM, weights=[embedding_matrix_cuisine], input_length=MAX_LENGTH_C, trainable=False)"
      ],
      "metadata": {
        "id": "dkoe5NI0nC57"
      },
      "execution_count": 349,
      "outputs": []
    },
    {
      "cell_type": "code",
      "source": [
        "model_LSTM = LSTMHyperModel(embedding_layer, 20)"
      ],
      "metadata": {
        "id": "h07QnhitnC57"
      },
      "execution_count": 350,
      "outputs": []
    },
    {
      "cell_type": "code",
      "source": [
        "model_cuisine = model_LSTM.build(0)"
      ],
      "metadata": {
        "id": "ZUvf9aCznC57"
      },
      "execution_count": 351,
      "outputs": []
    },
    {
      "cell_type": "code",
      "source": [
        "model_cuisine.summary()"
      ],
      "metadata": {
        "id": "wd9d_0T_nC57"
      },
      "execution_count": null,
      "outputs": []
    },
    {
      "cell_type": "code",
      "source": [
        "history_fine = model_cuisine.fit(X_train_cuisine_padded,y_train_cuisine,validation_data=(X_valid_cuisine_padded,y_valid_cuisine), epochs=50) "
      ],
      "metadata": {
        "id": "bF5L3PvKnC57"
      },
      "execution_count": null,
      "outputs": []
    }
  ]
}