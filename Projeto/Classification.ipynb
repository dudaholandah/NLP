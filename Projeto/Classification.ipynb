{
  "cells": [
    {
      "cell_type": "markdown",
      "metadata": {
        "id": "view-in-github",
        "colab_type": "text"
      },
      "source": [
        "<a href=\"https://colab.research.google.com/github/dudaholandah/NLP/blob/main/Projeto/Classification.ipynb\" target=\"_parent\"><img src=\"https://colab.research.google.com/assets/colab-badge.svg\" alt=\"Open In Colab\"/></a>"
      ]
    },
    {
      "cell_type": "markdown",
      "metadata": {
        "id": "JULgGCViw8IR"
      },
      "source": [
        "# Google Drive"
      ]
    },
    {
      "cell_type": "code",
      "execution_count": 1,
      "metadata": {
        "id": "39nOQqcZOEsO",
        "colab": {
          "base_uri": "https://localhost:8080/"
        },
        "outputId": "c1ff3e31-b47d-4ff9-9a05-f108350f50b3"
      },
      "outputs": [
        {
          "output_type": "stream",
          "name": "stdout",
          "text": [
            "Mounted at /content/drive\n"
          ]
        }
      ],
      "source": [
        "from google.colab import drive\n",
        "drive.mount('/content/drive')"
      ]
    },
    {
      "cell_type": "code",
      "execution_count": 2,
      "metadata": {
        "id": "RgGXPlLNOJqw"
      },
      "outputs": [],
      "source": [
        "!cp -r '/content/drive/MyDrive/Datasets/cuisine-classification-ingredients' 'cuisine-classification-ingredients'"
      ]
    },
    {
      "cell_type": "code",
      "source": [
        "!cp -r '/content/drive/MyDrive/Datasets/indian-food' 'indian-food'"
      ],
      "metadata": {
        "id": "10Nld1a9v8P_"
      },
      "execution_count": 3,
      "outputs": []
    },
    {
      "cell_type": "markdown",
      "metadata": {
        "id": "EXBIaW8iNOp3"
      },
      "source": [
        "# Imports"
      ]
    },
    {
      "cell_type": "code",
      "source": [
        "!pip install transformers\n",
        "!pip install keras\n",
        "!pip install tensorflow\n",
        "!pip install keras-tuner --upgrade"
      ],
      "metadata": {
        "id": "MAzKuNVCqD2S",
        "colab": {
          "base_uri": "https://localhost:8080/"
        },
        "outputId": "971cfda8-b951-4d8a-f364-1b38840d3ba0"
      },
      "execution_count": 4,
      "outputs": [
        {
          "output_type": "stream",
          "name": "stdout",
          "text": [
            "Looking in indexes: https://pypi.org/simple, https://us-python.pkg.dev/colab-wheels/public/simple/\n",
            "Collecting transformers\n",
            "  Downloading transformers-4.22.0-py3-none-any.whl (4.9 MB)\n",
            "\u001b[K     |████████████████████████████████| 4.9 MB 38.8 MB/s \n",
            "\u001b[?25hRequirement already satisfied: requests in /usr/local/lib/python3.7/dist-packages (from transformers) (2.23.0)\n",
            "Requirement already satisfied: importlib-metadata in /usr/local/lib/python3.7/dist-packages (from transformers) (4.12.0)\n",
            "Requirement already satisfied: packaging>=20.0 in /usr/local/lib/python3.7/dist-packages (from transformers) (21.3)\n",
            "Requirement already satisfied: numpy>=1.17 in /usr/local/lib/python3.7/dist-packages (from transformers) (1.21.6)\n",
            "Requirement already satisfied: tqdm>=4.27 in /usr/local/lib/python3.7/dist-packages (from transformers) (4.64.1)\n",
            "Requirement already satisfied: regex!=2019.12.17 in /usr/local/lib/python3.7/dist-packages (from transformers) (2022.6.2)\n",
            "Collecting huggingface-hub<1.0,>=0.9.0\n",
            "  Downloading huggingface_hub-0.9.1-py3-none-any.whl (120 kB)\n",
            "\u001b[K     |████████████████████████████████| 120 kB 86.0 MB/s \n",
            "\u001b[?25hRequirement already satisfied: pyyaml>=5.1 in /usr/local/lib/python3.7/dist-packages (from transformers) (6.0)\n",
            "Collecting tokenizers!=0.11.3,<0.13,>=0.11.1\n",
            "  Downloading tokenizers-0.12.1-cp37-cp37m-manylinux_2_12_x86_64.manylinux2010_x86_64.whl (6.6 MB)\n",
            "\u001b[K     |████████████████████████████████| 6.6 MB 45.2 MB/s \n",
            "\u001b[?25hRequirement already satisfied: filelock in /usr/local/lib/python3.7/dist-packages (from transformers) (3.8.0)\n",
            "Requirement already satisfied: typing-extensions>=3.7.4.3 in /usr/local/lib/python3.7/dist-packages (from huggingface-hub<1.0,>=0.9.0->transformers) (4.1.1)\n",
            "Requirement already satisfied: pyparsing!=3.0.5,>=2.0.2 in /usr/local/lib/python3.7/dist-packages (from packaging>=20.0->transformers) (3.0.9)\n",
            "Requirement already satisfied: zipp>=0.5 in /usr/local/lib/python3.7/dist-packages (from importlib-metadata->transformers) (3.8.1)\n",
            "Requirement already satisfied: chardet<4,>=3.0.2 in /usr/local/lib/python3.7/dist-packages (from requests->transformers) (3.0.4)\n",
            "Requirement already satisfied: urllib3!=1.25.0,!=1.25.1,<1.26,>=1.21.1 in /usr/local/lib/python3.7/dist-packages (from requests->transformers) (1.24.3)\n",
            "Requirement already satisfied: certifi>=2017.4.17 in /usr/local/lib/python3.7/dist-packages (from requests->transformers) (2022.6.15)\n",
            "Requirement already satisfied: idna<3,>=2.5 in /usr/local/lib/python3.7/dist-packages (from requests->transformers) (2.10)\n",
            "Installing collected packages: tokenizers, huggingface-hub, transformers\n",
            "Successfully installed huggingface-hub-0.9.1 tokenizers-0.12.1 transformers-4.22.0\n",
            "Looking in indexes: https://pypi.org/simple, https://us-python.pkg.dev/colab-wheels/public/simple/\n",
            "Requirement already satisfied: keras in /usr/local/lib/python3.7/dist-packages (2.8.0)\n",
            "Looking in indexes: https://pypi.org/simple, https://us-python.pkg.dev/colab-wheels/public/simple/\n",
            "Requirement already satisfied: tensorflow in /usr/local/lib/python3.7/dist-packages (2.8.2+zzzcolab20220719082949)\n",
            "Requirement already satisfied: tensorboard<2.9,>=2.8 in /usr/local/lib/python3.7/dist-packages (from tensorflow) (2.8.0)\n",
            "Requirement already satisfied: tensorflow-io-gcs-filesystem>=0.23.1 in /usr/local/lib/python3.7/dist-packages (from tensorflow) (0.26.0)\n",
            "Requirement already satisfied: h5py>=2.9.0 in /usr/local/lib/python3.7/dist-packages (from tensorflow) (3.1.0)\n",
            "Requirement already satisfied: keras<2.9,>=2.8.0rc0 in /usr/local/lib/python3.7/dist-packages (from tensorflow) (2.8.0)\n",
            "Requirement already satisfied: flatbuffers>=1.12 in /usr/local/lib/python3.7/dist-packages (from tensorflow) (2.0.7)\n",
            "Requirement already satisfied: tensorflow-estimator<2.9,>=2.8 in /usr/local/lib/python3.7/dist-packages (from tensorflow) (2.8.0)\n",
            "Requirement already satisfied: gast>=0.2.1 in /usr/local/lib/python3.7/dist-packages (from tensorflow) (0.5.3)\n",
            "Requirement already satisfied: wrapt>=1.11.0 in /usr/local/lib/python3.7/dist-packages (from tensorflow) (1.14.1)\n",
            "Requirement already satisfied: termcolor>=1.1.0 in /usr/local/lib/python3.7/dist-packages (from tensorflow) (1.1.0)\n",
            "Requirement already satisfied: typing-extensions>=3.6.6 in /usr/local/lib/python3.7/dist-packages (from tensorflow) (4.1.1)\n",
            "Requirement already satisfied: six>=1.12.0 in /usr/local/lib/python3.7/dist-packages (from tensorflow) (1.15.0)\n",
            "Requirement already satisfied: libclang>=9.0.1 in /usr/local/lib/python3.7/dist-packages (from tensorflow) (14.0.6)\n",
            "Requirement already satisfied: numpy>=1.20 in /usr/local/lib/python3.7/dist-packages (from tensorflow) (1.21.6)\n",
            "Requirement already satisfied: grpcio<2.0,>=1.24.3 in /usr/local/lib/python3.7/dist-packages (from tensorflow) (1.48.1)\n",
            "Requirement already satisfied: keras-preprocessing>=1.1.1 in /usr/local/lib/python3.7/dist-packages (from tensorflow) (1.1.2)\n",
            "Requirement already satisfied: opt-einsum>=2.3.2 in /usr/local/lib/python3.7/dist-packages (from tensorflow) (3.3.0)\n",
            "Requirement already satisfied: setuptools in /usr/local/lib/python3.7/dist-packages (from tensorflow) (57.4.0)\n",
            "Requirement already satisfied: absl-py>=0.4.0 in /usr/local/lib/python3.7/dist-packages (from tensorflow) (1.2.0)\n",
            "Requirement already satisfied: protobuf<3.20,>=3.9.2 in /usr/local/lib/python3.7/dist-packages (from tensorflow) (3.17.3)\n",
            "Requirement already satisfied: google-pasta>=0.1.1 in /usr/local/lib/python3.7/dist-packages (from tensorflow) (0.2.0)\n",
            "Requirement already satisfied: astunparse>=1.6.0 in /usr/local/lib/python3.7/dist-packages (from tensorflow) (1.6.3)\n",
            "Requirement already satisfied: wheel<1.0,>=0.23.0 in /usr/local/lib/python3.7/dist-packages (from astunparse>=1.6.0->tensorflow) (0.37.1)\n",
            "Requirement already satisfied: cached-property in /usr/local/lib/python3.7/dist-packages (from h5py>=2.9.0->tensorflow) (1.5.2)\n",
            "Requirement already satisfied: werkzeug>=0.11.15 in /usr/local/lib/python3.7/dist-packages (from tensorboard<2.9,>=2.8->tensorflow) (1.0.1)\n",
            "Requirement already satisfied: requests<3,>=2.21.0 in /usr/local/lib/python3.7/dist-packages (from tensorboard<2.9,>=2.8->tensorflow) (2.23.0)\n",
            "Requirement already satisfied: tensorboard-plugin-wit>=1.6.0 in /usr/local/lib/python3.7/dist-packages (from tensorboard<2.9,>=2.8->tensorflow) (1.8.1)\n",
            "Requirement already satisfied: markdown>=2.6.8 in /usr/local/lib/python3.7/dist-packages (from tensorboard<2.9,>=2.8->tensorflow) (3.4.1)\n",
            "Requirement already satisfied: google-auth-oauthlib<0.5,>=0.4.1 in /usr/local/lib/python3.7/dist-packages (from tensorboard<2.9,>=2.8->tensorflow) (0.4.6)\n",
            "Requirement already satisfied: tensorboard-data-server<0.7.0,>=0.6.0 in /usr/local/lib/python3.7/dist-packages (from tensorboard<2.9,>=2.8->tensorflow) (0.6.1)\n",
            "Requirement already satisfied: google-auth<3,>=1.6.3 in /usr/local/lib/python3.7/dist-packages (from tensorboard<2.9,>=2.8->tensorflow) (1.35.0)\n",
            "Requirement already satisfied: rsa<5,>=3.1.4 in /usr/local/lib/python3.7/dist-packages (from google-auth<3,>=1.6.3->tensorboard<2.9,>=2.8->tensorflow) (4.9)\n",
            "Requirement already satisfied: pyasn1-modules>=0.2.1 in /usr/local/lib/python3.7/dist-packages (from google-auth<3,>=1.6.3->tensorboard<2.9,>=2.8->tensorflow) (0.2.8)\n",
            "Requirement already satisfied: cachetools<5.0,>=2.0.0 in /usr/local/lib/python3.7/dist-packages (from google-auth<3,>=1.6.3->tensorboard<2.9,>=2.8->tensorflow) (4.2.4)\n",
            "Requirement already satisfied: requests-oauthlib>=0.7.0 in /usr/local/lib/python3.7/dist-packages (from google-auth-oauthlib<0.5,>=0.4.1->tensorboard<2.9,>=2.8->tensorflow) (1.3.1)\n",
            "Requirement already satisfied: importlib-metadata>=4.4 in /usr/local/lib/python3.7/dist-packages (from markdown>=2.6.8->tensorboard<2.9,>=2.8->tensorflow) (4.12.0)\n",
            "Requirement already satisfied: zipp>=0.5 in /usr/local/lib/python3.7/dist-packages (from importlib-metadata>=4.4->markdown>=2.6.8->tensorboard<2.9,>=2.8->tensorflow) (3.8.1)\n",
            "Requirement already satisfied: pyasn1<0.5.0,>=0.4.6 in /usr/local/lib/python3.7/dist-packages (from pyasn1-modules>=0.2.1->google-auth<3,>=1.6.3->tensorboard<2.9,>=2.8->tensorflow) (0.4.8)\n",
            "Requirement already satisfied: certifi>=2017.4.17 in /usr/local/lib/python3.7/dist-packages (from requests<3,>=2.21.0->tensorboard<2.9,>=2.8->tensorflow) (2022.6.15)\n",
            "Requirement already satisfied: idna<3,>=2.5 in /usr/local/lib/python3.7/dist-packages (from requests<3,>=2.21.0->tensorboard<2.9,>=2.8->tensorflow) (2.10)\n",
            "Requirement already satisfied: chardet<4,>=3.0.2 in /usr/local/lib/python3.7/dist-packages (from requests<3,>=2.21.0->tensorboard<2.9,>=2.8->tensorflow) (3.0.4)\n",
            "Requirement already satisfied: urllib3!=1.25.0,!=1.25.1,<1.26,>=1.21.1 in /usr/local/lib/python3.7/dist-packages (from requests<3,>=2.21.0->tensorboard<2.9,>=2.8->tensorflow) (1.24.3)\n",
            "Requirement already satisfied: oauthlib>=3.0.0 in /usr/local/lib/python3.7/dist-packages (from requests-oauthlib>=0.7.0->google-auth-oauthlib<0.5,>=0.4.1->tensorboard<2.9,>=2.8->tensorflow) (3.2.0)\n",
            "Looking in indexes: https://pypi.org/simple, https://us-python.pkg.dev/colab-wheels/public/simple/\n",
            "Collecting keras-tuner\n",
            "  Downloading keras_tuner-1.1.3-py3-none-any.whl (135 kB)\n",
            "\u001b[K     |████████████████████████████████| 135 kB 27.4 MB/s \n",
            "\u001b[?25hRequirement already satisfied: packaging in /usr/local/lib/python3.7/dist-packages (from keras-tuner) (21.3)\n",
            "Requirement already satisfied: requests in /usr/local/lib/python3.7/dist-packages (from keras-tuner) (2.23.0)\n",
            "Collecting kt-legacy\n",
            "  Downloading kt_legacy-1.0.4-py3-none-any.whl (9.6 kB)\n",
            "Requirement already satisfied: ipython in /usr/local/lib/python3.7/dist-packages (from keras-tuner) (7.9.0)\n",
            "Requirement already satisfied: tensorboard in /usr/local/lib/python3.7/dist-packages (from keras-tuner) (2.8.0)\n",
            "Requirement already satisfied: numpy in /usr/local/lib/python3.7/dist-packages (from keras-tuner) (1.21.6)\n",
            "Requirement already satisfied: pickleshare in /usr/local/lib/python3.7/dist-packages (from ipython->keras-tuner) (0.7.5)\n",
            "Requirement already satisfied: traitlets>=4.2 in /usr/local/lib/python3.7/dist-packages (from ipython->keras-tuner) (5.1.1)\n",
            "Requirement already satisfied: decorator in /usr/local/lib/python3.7/dist-packages (from ipython->keras-tuner) (4.4.2)\n",
            "Collecting jedi>=0.10\n",
            "  Downloading jedi-0.18.1-py2.py3-none-any.whl (1.6 MB)\n",
            "\u001b[K     |████████████████████████████████| 1.6 MB 59.0 MB/s \n",
            "\u001b[?25hRequirement already satisfied: backcall in /usr/local/lib/python3.7/dist-packages (from ipython->keras-tuner) (0.2.0)\n",
            "Requirement already satisfied: pexpect in /usr/local/lib/python3.7/dist-packages (from ipython->keras-tuner) (4.8.0)\n",
            "Requirement already satisfied: setuptools>=18.5 in /usr/local/lib/python3.7/dist-packages (from ipython->keras-tuner) (57.4.0)\n",
            "Requirement already satisfied: pygments in /usr/local/lib/python3.7/dist-packages (from ipython->keras-tuner) (2.6.1)\n",
            "Requirement already satisfied: prompt-toolkit<2.1.0,>=2.0.0 in /usr/local/lib/python3.7/dist-packages (from ipython->keras-tuner) (2.0.10)\n",
            "Requirement already satisfied: parso<0.9.0,>=0.8.0 in /usr/local/lib/python3.7/dist-packages (from jedi>=0.10->ipython->keras-tuner) (0.8.3)\n",
            "Requirement already satisfied: wcwidth in /usr/local/lib/python3.7/dist-packages (from prompt-toolkit<2.1.0,>=2.0.0->ipython->keras-tuner) (0.2.5)\n",
            "Requirement already satisfied: six>=1.9.0 in /usr/local/lib/python3.7/dist-packages (from prompt-toolkit<2.1.0,>=2.0.0->ipython->keras-tuner) (1.15.0)\n",
            "Requirement already satisfied: pyparsing!=3.0.5,>=2.0.2 in /usr/local/lib/python3.7/dist-packages (from packaging->keras-tuner) (3.0.9)\n",
            "Requirement already satisfied: ptyprocess>=0.5 in /usr/local/lib/python3.7/dist-packages (from pexpect->ipython->keras-tuner) (0.7.0)\n",
            "Requirement already satisfied: idna<3,>=2.5 in /usr/local/lib/python3.7/dist-packages (from requests->keras-tuner) (2.10)\n",
            "Requirement already satisfied: chardet<4,>=3.0.2 in /usr/local/lib/python3.7/dist-packages (from requests->keras-tuner) (3.0.4)\n",
            "Requirement already satisfied: certifi>=2017.4.17 in /usr/local/lib/python3.7/dist-packages (from requests->keras-tuner) (2022.6.15)\n",
            "Requirement already satisfied: urllib3!=1.25.0,!=1.25.1,<1.26,>=1.21.1 in /usr/local/lib/python3.7/dist-packages (from requests->keras-tuner) (1.24.3)\n",
            "Requirement already satisfied: markdown>=2.6.8 in /usr/local/lib/python3.7/dist-packages (from tensorboard->keras-tuner) (3.4.1)\n",
            "Requirement already satisfied: grpcio>=1.24.3 in /usr/local/lib/python3.7/dist-packages (from tensorboard->keras-tuner) (1.48.1)\n",
            "Requirement already satisfied: tensorboard-data-server<0.7.0,>=0.6.0 in /usr/local/lib/python3.7/dist-packages (from tensorboard->keras-tuner) (0.6.1)\n",
            "Requirement already satisfied: protobuf>=3.6.0 in /usr/local/lib/python3.7/dist-packages (from tensorboard->keras-tuner) (3.17.3)\n",
            "Requirement already satisfied: absl-py>=0.4 in /usr/local/lib/python3.7/dist-packages (from tensorboard->keras-tuner) (1.2.0)\n",
            "Requirement already satisfied: google-auth-oauthlib<0.5,>=0.4.1 in /usr/local/lib/python3.7/dist-packages (from tensorboard->keras-tuner) (0.4.6)\n",
            "Requirement already satisfied: wheel>=0.26 in /usr/local/lib/python3.7/dist-packages (from tensorboard->keras-tuner) (0.37.1)\n",
            "Requirement already satisfied: google-auth<3,>=1.6.3 in /usr/local/lib/python3.7/dist-packages (from tensorboard->keras-tuner) (1.35.0)\n",
            "Requirement already satisfied: tensorboard-plugin-wit>=1.6.0 in /usr/local/lib/python3.7/dist-packages (from tensorboard->keras-tuner) (1.8.1)\n",
            "Requirement already satisfied: werkzeug>=0.11.15 in /usr/local/lib/python3.7/dist-packages (from tensorboard->keras-tuner) (1.0.1)\n",
            "Requirement already satisfied: pyasn1-modules>=0.2.1 in /usr/local/lib/python3.7/dist-packages (from google-auth<3,>=1.6.3->tensorboard->keras-tuner) (0.2.8)\n",
            "Requirement already satisfied: cachetools<5.0,>=2.0.0 in /usr/local/lib/python3.7/dist-packages (from google-auth<3,>=1.6.3->tensorboard->keras-tuner) (4.2.4)\n",
            "Requirement already satisfied: rsa<5,>=3.1.4 in /usr/local/lib/python3.7/dist-packages (from google-auth<3,>=1.6.3->tensorboard->keras-tuner) (4.9)\n",
            "Requirement already satisfied: requests-oauthlib>=0.7.0 in /usr/local/lib/python3.7/dist-packages (from google-auth-oauthlib<0.5,>=0.4.1->tensorboard->keras-tuner) (1.3.1)\n",
            "Requirement already satisfied: importlib-metadata>=4.4 in /usr/local/lib/python3.7/dist-packages (from markdown>=2.6.8->tensorboard->keras-tuner) (4.12.0)\n",
            "Requirement already satisfied: typing-extensions>=3.6.4 in /usr/local/lib/python3.7/dist-packages (from importlib-metadata>=4.4->markdown>=2.6.8->tensorboard->keras-tuner) (4.1.1)\n",
            "Requirement already satisfied: zipp>=0.5 in /usr/local/lib/python3.7/dist-packages (from importlib-metadata>=4.4->markdown>=2.6.8->tensorboard->keras-tuner) (3.8.1)\n",
            "Requirement already satisfied: pyasn1<0.5.0,>=0.4.6 in /usr/local/lib/python3.7/dist-packages (from pyasn1-modules>=0.2.1->google-auth<3,>=1.6.3->tensorboard->keras-tuner) (0.4.8)\n",
            "Requirement already satisfied: oauthlib>=3.0.0 in /usr/local/lib/python3.7/dist-packages (from requests-oauthlib>=0.7.0->google-auth-oauthlib<0.5,>=0.4.1->tensorboard->keras-tuner) (3.2.0)\n",
            "Installing collected packages: jedi, kt-legacy, keras-tuner\n",
            "Successfully installed jedi-0.18.1 keras-tuner-1.1.3 kt-legacy-1.0.4\n"
          ]
        }
      ]
    },
    {
      "cell_type": "code",
      "execution_count": 5,
      "metadata": {
        "id": "A_m0pkHhR6gx",
        "colab": {
          "base_uri": "https://localhost:8080/",
          "height": 0,
          "referenced_widgets": [
            "52746a21869b46bfb6ecffef3130c1bd",
            "1d5fe5e5699748da956584c7f5bdc773",
            "2907989dad884b2f83a45e151d9062a5",
            "6eb84534f13a4ef1b6a62da92dc6c427",
            "4a3bec6f3c21438281e277cc3d2b31ed",
            "bfd3c5c6f12843d8af554eae44175d41",
            "1b02748f1b75478d86fba6c20552860c",
            "fd243c48635c4ee0ae4414f62a6e776d",
            "75e44ee0f05b4c4e95edf27ab329627c",
            "fb9ffcb27bdf43be9dc15cb54c613194",
            "39b4a92c0b94422888bea879837dfdac"
          ]
        },
        "outputId": "5ac2355d-4cdb-4dd6-bc42-0a2240f4b395"
      },
      "outputs": [
        {
          "output_type": "stream",
          "name": "stderr",
          "text": [
            "[nltk_data] Downloading package punkt to /root/nltk_data...\n",
            "[nltk_data]   Unzipping tokenizers/punkt.zip.\n",
            "The cache for model files in Transformers v4.22.0 has been updated. Migrating your old cache. This is a one-time only operation. You can interrupt this and resume the migration later on by calling `transformers.utils.move_cache()`.\n"
          ]
        },
        {
          "output_type": "stream",
          "name": "stdout",
          "text": [
            "Moving 0 files to the new cache system\n"
          ]
        },
        {
          "output_type": "display_data",
          "data": {
            "text/plain": [
              "0it [00:00, ?it/s]"
            ],
            "application/vnd.jupyter.widget-view+json": {
              "version_major": 2,
              "version_minor": 0,
              "model_id": "52746a21869b46bfb6ecffef3130c1bd"
            }
          },
          "metadata": {}
        }
      ],
      "source": [
        "#TFIDF\n",
        "from sklearn.feature_extraction.text import TfidfVectorizer\n",
        "#WORD2VEC\n",
        "from gensim.models import Word2Vec\n",
        "import nltk\n",
        "nltk.download('punkt')\n",
        "#BERT\n",
        "import tensorflow as tf\n",
        "from transformers import BertTokenizer, TFBertModel\n",
        "#Neural Network\n",
        "import keras_tuner as kt\n",
        "from tensorflow import keras\n",
        "from keras.models import Sequential\n",
        "from keras.layers import Dense,Conv1D,Embedding,GlobalMaxPooling1D,MaxPooling1D,Activation,Flatten,SimpleRNN,Dropout\n",
        "from sklearn.feature_extraction.text import TfidfVectorizer\n",
        "from tensorflow.keras.optimizers import SGD\n",
        "from keras_tuner import HyperModel\n",
        "import matplotlib.pyplot as plt\n",
        "from sklearn.metrics import classification_report\n",
        "#Data\n",
        "import json\n",
        "import os\n",
        "import pandas as pd\n",
        "import re\n",
        "import numpy as np\n",
        "from sklearn.model_selection import train_test_split\n",
        "from sklearn.preprocessing import LabelEncoder\n",
        "from keras.utils.np_utils import to_categorical"
      ]
    },
    {
      "cell_type": "markdown",
      "metadata": {
        "id": "NObXC41TNQZj"
      },
      "source": [
        "# Data"
      ]
    },
    {
      "cell_type": "markdown",
      "source": [
        "Cuisine Classification Data"
      ],
      "metadata": {
        "id": "W7JGhM5exbF3"
      }
    },
    {
      "cell_type": "code",
      "execution_count": 6,
      "metadata": {
        "id": "5JjYIn_kNSjR"
      },
      "outputs": [],
      "source": [
        "path = 'cuisine-classification-ingredients/train.json'\n",
        "\n",
        "with open(path, 'r') as f:\n",
        "  json = json.load(f)"
      ]
    },
    {
      "cell_type": "code",
      "execution_count": 7,
      "metadata": {
        "id": "Gb4Ib7JJP2ux"
      },
      "outputs": [],
      "source": [
        "df_cuisine = pd.DataFrame(json, columns=['id', 'cuisine', 'ingredients'])"
      ]
    },
    {
      "cell_type": "code",
      "execution_count": 8,
      "metadata": {
        "id": "YIld3-hEQEc7"
      },
      "outputs": [],
      "source": [
        "df_cuisine = df_cuisine.drop(['id'], axis=1)"
      ]
    },
    {
      "cell_type": "code",
      "source": [
        "df_cuisine = df_cuisine[:1000]"
      ],
      "metadata": {
        "id": "Q5FvHXN9NQZ-"
      },
      "execution_count": 9,
      "outputs": []
    },
    {
      "cell_type": "code",
      "source": [
        "df_cuisine.head(5)"
      ],
      "metadata": {
        "colab": {
          "base_uri": "https://localhost:8080/",
          "height": 206
        },
        "id": "pCXadN5t_c1O",
        "outputId": "4a1dc576-aaf9-4ee1-dccd-b7bda427fe9a"
      },
      "execution_count": 10,
      "outputs": [
        {
          "output_type": "execute_result",
          "data": {
            "text/plain": [
              "       cuisine                                        ingredients\n",
              "0        greek  [romaine lettuce, black olives, grape tomatoes...\n",
              "1  southern_us  [plain flour, ground pepper, salt, tomatoes, g...\n",
              "2     filipino  [eggs, pepper, salt, mayonaise, cooking oil, g...\n",
              "3       indian                [water, vegetable oil, wheat, salt]\n",
              "4       indian  [black pepper, shallots, cornflour, cayenne pe..."
            ],
            "text/html": [
              "\n",
              "  <div id=\"df-d9a03f4c-9ccf-45b3-b723-c9d6162f588d\">\n",
              "    <div class=\"colab-df-container\">\n",
              "      <div>\n",
              "<style scoped>\n",
              "    .dataframe tbody tr th:only-of-type {\n",
              "        vertical-align: middle;\n",
              "    }\n",
              "\n",
              "    .dataframe tbody tr th {\n",
              "        vertical-align: top;\n",
              "    }\n",
              "\n",
              "    .dataframe thead th {\n",
              "        text-align: right;\n",
              "    }\n",
              "</style>\n",
              "<table border=\"1\" class=\"dataframe\">\n",
              "  <thead>\n",
              "    <tr style=\"text-align: right;\">\n",
              "      <th></th>\n",
              "      <th>cuisine</th>\n",
              "      <th>ingredients</th>\n",
              "    </tr>\n",
              "  </thead>\n",
              "  <tbody>\n",
              "    <tr>\n",
              "      <th>0</th>\n",
              "      <td>greek</td>\n",
              "      <td>[romaine lettuce, black olives, grape tomatoes...</td>\n",
              "    </tr>\n",
              "    <tr>\n",
              "      <th>1</th>\n",
              "      <td>southern_us</td>\n",
              "      <td>[plain flour, ground pepper, salt, tomatoes, g...</td>\n",
              "    </tr>\n",
              "    <tr>\n",
              "      <th>2</th>\n",
              "      <td>filipino</td>\n",
              "      <td>[eggs, pepper, salt, mayonaise, cooking oil, g...</td>\n",
              "    </tr>\n",
              "    <tr>\n",
              "      <th>3</th>\n",
              "      <td>indian</td>\n",
              "      <td>[water, vegetable oil, wheat, salt]</td>\n",
              "    </tr>\n",
              "    <tr>\n",
              "      <th>4</th>\n",
              "      <td>indian</td>\n",
              "      <td>[black pepper, shallots, cornflour, cayenne pe...</td>\n",
              "    </tr>\n",
              "  </tbody>\n",
              "</table>\n",
              "</div>\n",
              "      <button class=\"colab-df-convert\" onclick=\"convertToInteractive('df-d9a03f4c-9ccf-45b3-b723-c9d6162f588d')\"\n",
              "              title=\"Convert this dataframe to an interactive table.\"\n",
              "              style=\"display:none;\">\n",
              "        \n",
              "  <svg xmlns=\"http://www.w3.org/2000/svg\" height=\"24px\"viewBox=\"0 0 24 24\"\n",
              "       width=\"24px\">\n",
              "    <path d=\"M0 0h24v24H0V0z\" fill=\"none\"/>\n",
              "    <path d=\"M18.56 5.44l.94 2.06.94-2.06 2.06-.94-2.06-.94-.94-2.06-.94 2.06-2.06.94zm-11 1L8.5 8.5l.94-2.06 2.06-.94-2.06-.94L8.5 2.5l-.94 2.06-2.06.94zm10 10l.94 2.06.94-2.06 2.06-.94-2.06-.94-.94-2.06-.94 2.06-2.06.94z\"/><path d=\"M17.41 7.96l-1.37-1.37c-.4-.4-.92-.59-1.43-.59-.52 0-1.04.2-1.43.59L10.3 9.45l-7.72 7.72c-.78.78-.78 2.05 0 2.83L4 21.41c.39.39.9.59 1.41.59.51 0 1.02-.2 1.41-.59l7.78-7.78 2.81-2.81c.8-.78.8-2.07 0-2.86zM5.41 20L4 18.59l7.72-7.72 1.47 1.35L5.41 20z\"/>\n",
              "  </svg>\n",
              "      </button>\n",
              "      \n",
              "  <style>\n",
              "    .colab-df-container {\n",
              "      display:flex;\n",
              "      flex-wrap:wrap;\n",
              "      gap: 12px;\n",
              "    }\n",
              "\n",
              "    .colab-df-convert {\n",
              "      background-color: #E8F0FE;\n",
              "      border: none;\n",
              "      border-radius: 50%;\n",
              "      cursor: pointer;\n",
              "      display: none;\n",
              "      fill: #1967D2;\n",
              "      height: 32px;\n",
              "      padding: 0 0 0 0;\n",
              "      width: 32px;\n",
              "    }\n",
              "\n",
              "    .colab-df-convert:hover {\n",
              "      background-color: #E2EBFA;\n",
              "      box-shadow: 0px 1px 2px rgba(60, 64, 67, 0.3), 0px 1px 3px 1px rgba(60, 64, 67, 0.15);\n",
              "      fill: #174EA6;\n",
              "    }\n",
              "\n",
              "    [theme=dark] .colab-df-convert {\n",
              "      background-color: #3B4455;\n",
              "      fill: #D2E3FC;\n",
              "    }\n",
              "\n",
              "    [theme=dark] .colab-df-convert:hover {\n",
              "      background-color: #434B5C;\n",
              "      box-shadow: 0px 1px 3px 1px rgba(0, 0, 0, 0.15);\n",
              "      filter: drop-shadow(0px 1px 2px rgba(0, 0, 0, 0.3));\n",
              "      fill: #FFFFFF;\n",
              "    }\n",
              "  </style>\n",
              "\n",
              "      <script>\n",
              "        const buttonEl =\n",
              "          document.querySelector('#df-d9a03f4c-9ccf-45b3-b723-c9d6162f588d button.colab-df-convert');\n",
              "        buttonEl.style.display =\n",
              "          google.colab.kernel.accessAllowed ? 'block' : 'none';\n",
              "\n",
              "        async function convertToInteractive(key) {\n",
              "          const element = document.querySelector('#df-d9a03f4c-9ccf-45b3-b723-c9d6162f588d');\n",
              "          const dataTable =\n",
              "            await google.colab.kernel.invokeFunction('convertToInteractive',\n",
              "                                                     [key], {});\n",
              "          if (!dataTable) return;\n",
              "\n",
              "          const docLinkHtml = 'Like what you see? Visit the ' +\n",
              "            '<a target=\"_blank\" href=https://colab.research.google.com/notebooks/data_table.ipynb>data table notebook</a>'\n",
              "            + ' to learn more about interactive tables.';\n",
              "          element.innerHTML = '';\n",
              "          dataTable['output_type'] = 'display_data';\n",
              "          await google.colab.output.renderOutput(dataTable, element);\n",
              "          const docLink = document.createElement('div');\n",
              "          docLink.innerHTML = docLinkHtml;\n",
              "          element.appendChild(docLink);\n",
              "        }\n",
              "      </script>\n",
              "    </div>\n",
              "  </div>\n",
              "  "
            ]
          },
          "metadata": {},
          "execution_count": 10
        }
      ]
    },
    {
      "cell_type": "markdown",
      "source": [
        "Indian Food Data"
      ],
      "metadata": {
        "id": "KKSQ-tNSxhf7"
      }
    },
    {
      "cell_type": "code",
      "source": [
        "path = 'indian-food/indian_food.csv'\n",
        "df_indian = pd.read_csv(path)"
      ],
      "metadata": {
        "id": "yKvncD4rxi2s"
      },
      "execution_count": 11,
      "outputs": []
    },
    {
      "cell_type": "code",
      "source": [
        "df_indian.head(5)"
      ],
      "metadata": {
        "colab": {
          "base_uri": "https://localhost:8080/",
          "height": 206
        },
        "id": "hoD6uJYQyi3j",
        "outputId": "b14afc07-4a71-4109-d363-98d317a03cd1"
      },
      "execution_count": 12,
      "outputs": [
        {
          "output_type": "execute_result",
          "data": {
            "text/plain": [
              "             name                                        ingredients  \\\n",
              "0      Balu shahi                    Maida flour, yogurt, oil, sugar   \n",
              "1          Boondi                            Gram flour, ghee, sugar   \n",
              "2  Gajar ka halwa       Carrots, milk, sugar, ghee, cashews, raisins   \n",
              "3          Ghevar  Flour, ghee, kewra, milk, clarified butter, su...   \n",
              "4     Gulab jamun  Milk powder, plain flour, baking powder, ghee,...   \n",
              "\n",
              "         diet  prep_time  cook_time flavor_profile   course        state  \\\n",
              "0  vegetarian         45         25          sweet  dessert  West Bengal   \n",
              "1  vegetarian         80         30          sweet  dessert    Rajasthan   \n",
              "2  vegetarian         15         60          sweet  dessert       Punjab   \n",
              "3  vegetarian         15         30          sweet  dessert    Rajasthan   \n",
              "4  vegetarian         15         40          sweet  dessert  West Bengal   \n",
              "\n",
              "  region  \n",
              "0   East  \n",
              "1   West  \n",
              "2  North  \n",
              "3   West  \n",
              "4   East  "
            ],
            "text/html": [
              "\n",
              "  <div id=\"df-ef649e2a-45e6-461b-8ef7-d21f7782627c\">\n",
              "    <div class=\"colab-df-container\">\n",
              "      <div>\n",
              "<style scoped>\n",
              "    .dataframe tbody tr th:only-of-type {\n",
              "        vertical-align: middle;\n",
              "    }\n",
              "\n",
              "    .dataframe tbody tr th {\n",
              "        vertical-align: top;\n",
              "    }\n",
              "\n",
              "    .dataframe thead th {\n",
              "        text-align: right;\n",
              "    }\n",
              "</style>\n",
              "<table border=\"1\" class=\"dataframe\">\n",
              "  <thead>\n",
              "    <tr style=\"text-align: right;\">\n",
              "      <th></th>\n",
              "      <th>name</th>\n",
              "      <th>ingredients</th>\n",
              "      <th>diet</th>\n",
              "      <th>prep_time</th>\n",
              "      <th>cook_time</th>\n",
              "      <th>flavor_profile</th>\n",
              "      <th>course</th>\n",
              "      <th>state</th>\n",
              "      <th>region</th>\n",
              "    </tr>\n",
              "  </thead>\n",
              "  <tbody>\n",
              "    <tr>\n",
              "      <th>0</th>\n",
              "      <td>Balu shahi</td>\n",
              "      <td>Maida flour, yogurt, oil, sugar</td>\n",
              "      <td>vegetarian</td>\n",
              "      <td>45</td>\n",
              "      <td>25</td>\n",
              "      <td>sweet</td>\n",
              "      <td>dessert</td>\n",
              "      <td>West Bengal</td>\n",
              "      <td>East</td>\n",
              "    </tr>\n",
              "    <tr>\n",
              "      <th>1</th>\n",
              "      <td>Boondi</td>\n",
              "      <td>Gram flour, ghee, sugar</td>\n",
              "      <td>vegetarian</td>\n",
              "      <td>80</td>\n",
              "      <td>30</td>\n",
              "      <td>sweet</td>\n",
              "      <td>dessert</td>\n",
              "      <td>Rajasthan</td>\n",
              "      <td>West</td>\n",
              "    </tr>\n",
              "    <tr>\n",
              "      <th>2</th>\n",
              "      <td>Gajar ka halwa</td>\n",
              "      <td>Carrots, milk, sugar, ghee, cashews, raisins</td>\n",
              "      <td>vegetarian</td>\n",
              "      <td>15</td>\n",
              "      <td>60</td>\n",
              "      <td>sweet</td>\n",
              "      <td>dessert</td>\n",
              "      <td>Punjab</td>\n",
              "      <td>North</td>\n",
              "    </tr>\n",
              "    <tr>\n",
              "      <th>3</th>\n",
              "      <td>Ghevar</td>\n",
              "      <td>Flour, ghee, kewra, milk, clarified butter, su...</td>\n",
              "      <td>vegetarian</td>\n",
              "      <td>15</td>\n",
              "      <td>30</td>\n",
              "      <td>sweet</td>\n",
              "      <td>dessert</td>\n",
              "      <td>Rajasthan</td>\n",
              "      <td>West</td>\n",
              "    </tr>\n",
              "    <tr>\n",
              "      <th>4</th>\n",
              "      <td>Gulab jamun</td>\n",
              "      <td>Milk powder, plain flour, baking powder, ghee,...</td>\n",
              "      <td>vegetarian</td>\n",
              "      <td>15</td>\n",
              "      <td>40</td>\n",
              "      <td>sweet</td>\n",
              "      <td>dessert</td>\n",
              "      <td>West Bengal</td>\n",
              "      <td>East</td>\n",
              "    </tr>\n",
              "  </tbody>\n",
              "</table>\n",
              "</div>\n",
              "      <button class=\"colab-df-convert\" onclick=\"convertToInteractive('df-ef649e2a-45e6-461b-8ef7-d21f7782627c')\"\n",
              "              title=\"Convert this dataframe to an interactive table.\"\n",
              "              style=\"display:none;\">\n",
              "        \n",
              "  <svg xmlns=\"http://www.w3.org/2000/svg\" height=\"24px\"viewBox=\"0 0 24 24\"\n",
              "       width=\"24px\">\n",
              "    <path d=\"M0 0h24v24H0V0z\" fill=\"none\"/>\n",
              "    <path d=\"M18.56 5.44l.94 2.06.94-2.06 2.06-.94-2.06-.94-.94-2.06-.94 2.06-2.06.94zm-11 1L8.5 8.5l.94-2.06 2.06-.94-2.06-.94L8.5 2.5l-.94 2.06-2.06.94zm10 10l.94 2.06.94-2.06 2.06-.94-2.06-.94-.94-2.06-.94 2.06-2.06.94z\"/><path d=\"M17.41 7.96l-1.37-1.37c-.4-.4-.92-.59-1.43-.59-.52 0-1.04.2-1.43.59L10.3 9.45l-7.72 7.72c-.78.78-.78 2.05 0 2.83L4 21.41c.39.39.9.59 1.41.59.51 0 1.02-.2 1.41-.59l7.78-7.78 2.81-2.81c.8-.78.8-2.07 0-2.86zM5.41 20L4 18.59l7.72-7.72 1.47 1.35L5.41 20z\"/>\n",
              "  </svg>\n",
              "      </button>\n",
              "      \n",
              "  <style>\n",
              "    .colab-df-container {\n",
              "      display:flex;\n",
              "      flex-wrap:wrap;\n",
              "      gap: 12px;\n",
              "    }\n",
              "\n",
              "    .colab-df-convert {\n",
              "      background-color: #E8F0FE;\n",
              "      border: none;\n",
              "      border-radius: 50%;\n",
              "      cursor: pointer;\n",
              "      display: none;\n",
              "      fill: #1967D2;\n",
              "      height: 32px;\n",
              "      padding: 0 0 0 0;\n",
              "      width: 32px;\n",
              "    }\n",
              "\n",
              "    .colab-df-convert:hover {\n",
              "      background-color: #E2EBFA;\n",
              "      box-shadow: 0px 1px 2px rgba(60, 64, 67, 0.3), 0px 1px 3px 1px rgba(60, 64, 67, 0.15);\n",
              "      fill: #174EA6;\n",
              "    }\n",
              "\n",
              "    [theme=dark] .colab-df-convert {\n",
              "      background-color: #3B4455;\n",
              "      fill: #D2E3FC;\n",
              "    }\n",
              "\n",
              "    [theme=dark] .colab-df-convert:hover {\n",
              "      background-color: #434B5C;\n",
              "      box-shadow: 0px 1px 3px 1px rgba(0, 0, 0, 0.15);\n",
              "      filter: drop-shadow(0px 1px 2px rgba(0, 0, 0, 0.3));\n",
              "      fill: #FFFFFF;\n",
              "    }\n",
              "  </style>\n",
              "\n",
              "      <script>\n",
              "        const buttonEl =\n",
              "          document.querySelector('#df-ef649e2a-45e6-461b-8ef7-d21f7782627c button.colab-df-convert');\n",
              "        buttonEl.style.display =\n",
              "          google.colab.kernel.accessAllowed ? 'block' : 'none';\n",
              "\n",
              "        async function convertToInteractive(key) {\n",
              "          const element = document.querySelector('#df-ef649e2a-45e6-461b-8ef7-d21f7782627c');\n",
              "          const dataTable =\n",
              "            await google.colab.kernel.invokeFunction('convertToInteractive',\n",
              "                                                     [key], {});\n",
              "          if (!dataTable) return;\n",
              "\n",
              "          const docLinkHtml = 'Like what you see? Visit the ' +\n",
              "            '<a target=\"_blank\" href=https://colab.research.google.com/notebooks/data_table.ipynb>data table notebook</a>'\n",
              "            + ' to learn more about interactive tables.';\n",
              "          element.innerHTML = '';\n",
              "          dataTable['output_type'] = 'display_data';\n",
              "          await google.colab.output.renderOutput(dataTable, element);\n",
              "          const docLink = document.createElement('div');\n",
              "          docLink.innerHTML = docLinkHtml;\n",
              "          element.appendChild(docLink);\n",
              "        }\n",
              "      </script>\n",
              "    </div>\n",
              "  </div>\n",
              "  "
            ]
          },
          "metadata": {},
          "execution_count": 12
        }
      ]
    },
    {
      "cell_type": "markdown",
      "metadata": {
        "id": "J-FJCLP-bOqe"
      },
      "source": [
        "## Pre-Processing"
      ]
    },
    {
      "cell_type": "code",
      "execution_count": 13,
      "metadata": {
        "id": "MRibRNivbUE1"
      },
      "outputs": [],
      "source": [
        "def pre_processing(text):\n",
        "  new = \"\"\n",
        "  for word in text.split(','):\n",
        "    word = re.sub(r'[^\\w\\s]', '', word.lower())\n",
        "    word = re.sub(r'[0-9]+', '', word)\n",
        "    word = re.sub(r'\\boz\\b', '', word)\n",
        "    word = re.sub(r'\\ba taste of\\b', '', word)\n",
        "    new = new + word.strip() + \" \"\n",
        "\n",
        "  return new[:-1]"
      ]
    },
    {
      "cell_type": "markdown",
      "source": [
        "Cuisine Classification Data"
      ],
      "metadata": {
        "id": "h0V6CWFayRIn"
      }
    },
    {
      "cell_type": "code",
      "execution_count": 14,
      "metadata": {
        "id": "bhmVcEwdQnjh"
      },
      "outputs": [],
      "source": [
        "df_cuisine['ingredients'] = [','.join(x).strip() for x in df_cuisine['ingredients']]"
      ]
    },
    {
      "cell_type": "code",
      "execution_count": 15,
      "metadata": {
        "id": "4qc9fp0jcaDG"
      },
      "outputs": [],
      "source": [
        "df_cuisine['ingredients'] = [pre_processing(x) for x in df_cuisine['ingredients']]"
      ]
    },
    {
      "cell_type": "code",
      "source": [
        "X = df_cuisine['ingredients']\n",
        "y = df_cuisine['cuisine']\n",
        "\n",
        "# dados de teste = 20% do treinamento\n",
        "X_train_cuisine, X_test_cuisine, y_train_cuisine, y_test_cuisine = train_test_split(X, y, test_size=0.2)\n",
        "\n",
        "# dados de validacao = 50% do teste\n",
        "X_test_cuisine, X_valid_cuisine, y_test_cuisine, y_valid_cuisine = train_test_split(X, y, test_size=0.5)"
      ],
      "metadata": {
        "id": "u96xaQ5MJO2o"
      },
      "execution_count": 126,
      "outputs": []
    },
    {
      "cell_type": "code",
      "source": [
        "y_train_cuisine = pd.Categorical(y_train_cuisine)\n",
        "y_train_int_cuisine = y_train_cuisine.codes\n",
        "\n",
        "y_valid_cuisine = pd.Categorical(y_valid_cuisine)\n",
        "y_valid_int_cuisine = y_valid_cuisine.codes\n",
        "\n",
        "y_test_cuisine = pd.Categorical(y_test_cuisine)\n",
        "y_test_int_cuisine = y_test_cuisine.codes\n",
        "\n",
        "y_train_cuisine = to_categorical(y_train_int_cuisine)\n",
        "y_valid_cuisine = to_categorical(y_valid_int_cuisine)\n",
        "y_test_cuisine = to_categorical(y_test_int_cuisine)"
      ],
      "metadata": {
        "id": "6hNPne2f7SxN"
      },
      "execution_count": 131,
      "outputs": []
    },
    {
      "cell_type": "markdown",
      "source": [
        "Indian Food Data"
      ],
      "metadata": {
        "id": "zjnrlH62yWnQ"
      }
    },
    {
      "cell_type": "code",
      "source": [
        "df_indian['ingredients'] = [pre_processing(x) for x in df_indian['ingredients']]"
      ],
      "metadata": {
        "id": "DLs5igUXytMt"
      },
      "execution_count": 18,
      "outputs": []
    },
    {
      "cell_type": "code",
      "source": [
        "X = df_indian['ingredients']\n",
        "y = df_indian['diet']\n",
        "\n",
        "# dados de teste = 20% do treinamento\n",
        "X_train_indian, X_test_indian, y_train_indian, y_test_indian = train_test_split(X, y, test_size=0.2)\n",
        "\n",
        "# dados de validacao = 50% do teste\n",
        "X_test_indian, X_valid_indian, y_test_indian, y_valid_indian = train_test_split(X, y, test_size=0.5)"
      ],
      "metadata": {
        "id": "kSIBzujzy8rI"
      },
      "execution_count": 132,
      "outputs": []
    },
    {
      "cell_type": "code",
      "source": [
        "y_train_indian = pd.Categorical(y_train_indian)\n",
        "y_train_int_indian = y_train_indian.codes\n",
        "\n",
        "y_valid_indian = pd.Categorical(y_valid_indian)\n",
        "y_valid_int_indian = y_valid_indian.codes\n",
        "\n",
        "y_test_indian = pd.Categorical(y_test_indian)\n",
        "y_test_int_indian = y_test_indian.codes\n",
        "\n",
        "y_train_indian = to_categorical(y_train_int_indian)\n",
        "y_valid_indian = to_categorical(y_valid_int_indian)\n",
        "y_test_indian = to_categorical(y_test_int_indian)"
      ],
      "metadata": {
        "id": "WMGPvdJF7VxY"
      },
      "execution_count": 141,
      "outputs": []
    },
    {
      "cell_type": "markdown",
      "metadata": {
        "id": "ZeJnnAJyR9fn"
      },
      "source": [
        "# Different Embeddings"
      ]
    },
    {
      "cell_type": "code",
      "source": [
        "vocabulary_cuisine = {}\n",
        "i = 0\n",
        "\n",
        "for ingredients in df_cuisine['ingredients']:\n",
        "  for word in ingredients.split():\n",
        "    if word not in vocabulary_cuisine:\n",
        "      vocabulary_cuisine[word] = i\n",
        "      i += 1"
      ],
      "metadata": {
        "id": "nCME9Jb3KwjF"
      },
      "execution_count": 21,
      "outputs": []
    },
    {
      "cell_type": "code",
      "source": [
        "vocabulary_indian = {}\n",
        "i = 0\n",
        "\n",
        "for ingredients in df_indian['ingredients']:\n",
        "  for word in ingredients.split():\n",
        "    if word not in vocabulary_indian:\n",
        "      vocabulary_indian[word] = i\n",
        "      i += 1"
      ],
      "metadata": {
        "id": "_5iTxFsBLoiM"
      },
      "execution_count": 22,
      "outputs": []
    },
    {
      "cell_type": "markdown",
      "metadata": {
        "id": "XrZ43RFpWubJ"
      },
      "source": [
        "## TFIDF"
      ]
    },
    {
      "cell_type": "markdown",
      "source": [
        "Cuisine Classification Data"
      ],
      "metadata": {
        "id": "B-p87RrO0G0j"
      }
    },
    {
      "cell_type": "code",
      "execution_count": 23,
      "metadata": {
        "id": "HGfCWcmNR8Pp"
      },
      "outputs": [],
      "source": [
        "tfidf_vectorizer = TfidfVectorizer(vocabulary=vocabulary_cuisine)"
      ]
    },
    {
      "cell_type": "code",
      "execution_count": 24,
      "metadata": {
        "id": "LlB6_2ujSo-Y"
      },
      "outputs": [],
      "source": [
        "# Training Data\n",
        "tfidf_train_cuisine = tfidf_vectorizer.fit_transform(X_train_cuisine)\n",
        "tfidf_train_cuisine = tfidf_train_cuisine.toarray()\n",
        "df_tfidf_train_cuisine = pd.DataFrame(tfidf_train_cuisine, columns=tfidf_vectorizer.get_feature_names_out())"
      ]
    },
    {
      "cell_type": "code",
      "source": [
        "df_tfidf_train_cuisine.shape"
      ],
      "metadata": {
        "colab": {
          "base_uri": "https://localhost:8080/"
        },
        "id": "5wUiCqIzMYoD",
        "outputId": "c5d8ffb7-9511-4627-ecb3-48231fb3868d"
      },
      "execution_count": 25,
      "outputs": [
        {
          "output_type": "execute_result",
          "data": {
            "text/plain": [
              "(800, 1211)"
            ]
          },
          "metadata": {},
          "execution_count": 25
        }
      ]
    },
    {
      "cell_type": "code",
      "source": [
        "# Validation Data\n",
        "tfidf_valid_cuisine = tfidf_vectorizer.fit_transform(X_valid_cuisine)\n",
        "tfidf_valid_cuisine = tfidf_valid_cuisine.toarray()\n",
        "df_tfidf_valid_cuisine = pd.DataFrame(tfidf_valid_cuisine, columns=tfidf_vectorizer.get_feature_names_out())"
      ],
      "metadata": {
        "id": "dFSIpAeyMpzI"
      },
      "execution_count": 26,
      "outputs": []
    },
    {
      "cell_type": "code",
      "source": [
        "df_tfidf_valid_cuisine.shape"
      ],
      "metadata": {
        "colab": {
          "base_uri": "https://localhost:8080/"
        },
        "id": "KoigWHctMelA",
        "outputId": "4ff854a5-c475-4887-9f88-2c33d3a63baf"
      },
      "execution_count": 27,
      "outputs": [
        {
          "output_type": "execute_result",
          "data": {
            "text/plain": [
              "(500, 1211)"
            ]
          },
          "metadata": {},
          "execution_count": 27
        }
      ]
    },
    {
      "cell_type": "code",
      "source": [
        "# Test Data\n",
        "tfidf_test_cuisine = tfidf_vectorizer.fit_transform(X_test_cuisine)\n",
        "tfidf_test_cuisine = tfidf_test_cuisine.toarray()\n",
        "df_tfidf_test_cuisine = pd.DataFrame(tfidf_test_cuisine, columns=tfidf_vectorizer.get_feature_names_out())"
      ],
      "metadata": {
        "id": "N2XOcPPHfRWr"
      },
      "execution_count": 28,
      "outputs": []
    },
    {
      "cell_type": "code",
      "source": [
        "df_tfidf_test_cuisine.shape"
      ],
      "metadata": {
        "colab": {
          "base_uri": "https://localhost:8080/"
        },
        "id": "EnBMuu3ZfZhC",
        "outputId": "7700ab60-ac3b-4d22-d195-464e7b81167f"
      },
      "execution_count": 29,
      "outputs": [
        {
          "output_type": "execute_result",
          "data": {
            "text/plain": [
              "(500, 1211)"
            ]
          },
          "metadata": {},
          "execution_count": 29
        }
      ]
    },
    {
      "cell_type": "markdown",
      "source": [
        "Indian Food Data"
      ],
      "metadata": {
        "id": "moCeDBcr0r8X"
      }
    },
    {
      "cell_type": "code",
      "source": [
        "tfidf_vectorizer = TfidfVectorizer(vocabulary=vocabulary_indian)"
      ],
      "metadata": {
        "id": "klTGtPqtMkrm"
      },
      "execution_count": 30,
      "outputs": []
    },
    {
      "cell_type": "code",
      "source": [
        "# Training Data\n",
        "tfidf_train_indian = tfidf_vectorizer.fit_transform(X_train_indian)\n",
        "tfidf_train_indian = tfidf_train_indian.toarray()\n",
        "df_tfidf_train_indian = pd.DataFrame(tfidf_train_indian, columns=tfidf_vectorizer.get_feature_names_out())"
      ],
      "metadata": {
        "id": "OhPBLEfa0rLM"
      },
      "execution_count": 31,
      "outputs": []
    },
    {
      "cell_type": "code",
      "source": [
        "df_tfidf_train_indian.shape"
      ],
      "metadata": {
        "colab": {
          "base_uri": "https://localhost:8080/"
        },
        "id": "TC6uCmzgMuoh",
        "outputId": "d0b7a0b4-75b0-40b3-cc08-1367e60002d7"
      },
      "execution_count": 32,
      "outputs": [
        {
          "output_type": "execute_result",
          "data": {
            "text/plain": [
              "(204, 337)"
            ]
          },
          "metadata": {},
          "execution_count": 32
        }
      ]
    },
    {
      "cell_type": "code",
      "source": [
        "# Validation Data\n",
        "tfidf_valid_indian = tfidf_vectorizer.fit_transform(X_valid_indian)\n",
        "tfidf_valid_indian = tfidf_valid_indian.toarray()\n",
        "df_tfidf_valid_indian = pd.DataFrame(tfidf_valid_indian, columns=tfidf_vectorizer.get_feature_names_out())"
      ],
      "metadata": {
        "id": "3y60RuD00xd3"
      },
      "execution_count": 33,
      "outputs": []
    },
    {
      "cell_type": "code",
      "source": [
        "df_tfidf_valid_indian.shape"
      ],
      "metadata": {
        "colab": {
          "base_uri": "https://localhost:8080/"
        },
        "id": "u5qQi5jxMwXu",
        "outputId": "3ac18904-966f-4711-f57b-87604b19ba07"
      },
      "execution_count": 34,
      "outputs": [
        {
          "output_type": "execute_result",
          "data": {
            "text/plain": [
              "(128, 337)"
            ]
          },
          "metadata": {},
          "execution_count": 34
        }
      ]
    },
    {
      "cell_type": "code",
      "source": [
        "# Test Data\n",
        "tfidf_test_indian = tfidf_vectorizer.fit_transform(X_test_indian)\n",
        "tfidf_test_indian = tfidf_test_indian.toarray()\n",
        "df_tfidf_test_indian = pd.DataFrame(tfidf_test_indian, columns=tfidf_vectorizer.get_feature_names_out())"
      ],
      "metadata": {
        "id": "gRfqTrHPhIbJ"
      },
      "execution_count": 35,
      "outputs": []
    },
    {
      "cell_type": "code",
      "source": [
        "df_tfidf_test_indian.shape"
      ],
      "metadata": {
        "colab": {
          "base_uri": "https://localhost:8080/"
        },
        "outputId": "9579f3e3-b7e3-477a-9fd2-cb80765ee867",
        "id": "RFvkb-J_hIbJ"
      },
      "execution_count": 36,
      "outputs": [
        {
          "output_type": "execute_result",
          "data": {
            "text/plain": [
              "(127, 337)"
            ]
          },
          "metadata": {},
          "execution_count": 36
        }
      ]
    },
    {
      "cell_type": "markdown",
      "metadata": {
        "id": "y76wOBybvL5f"
      },
      "source": [
        "## Word2Vec"
      ]
    },
    {
      "cell_type": "code",
      "execution_count": 37,
      "metadata": {
        "id": "K0LbFMyExr26"
      },
      "outputs": [],
      "source": [
        "def get_embedding_w2v(model, doc_tokens):\n",
        "    embeddings = []\n",
        "    for tok in doc_tokens:\n",
        "        if tok in model.wv.vocab:\n",
        "                embeddings.append(model.wv.word_vec(tok))\n",
        "        else:\n",
        "            embeddings.append(np.random.rand(300))\n",
        "    return np.mean(embeddings, axis=0)"
      ]
    },
    {
      "cell_type": "markdown",
      "source": [
        "Cuisine Classification Data"
      ],
      "metadata": {
        "id": "i-7fQv02A3pt"
      }
    },
    {
      "cell_type": "code",
      "execution_count": 38,
      "metadata": {
        "id": "3EA21gQ3vmZU",
        "colab": {
          "base_uri": "https://localhost:8080/"
        },
        "outputId": "c0059e35-4849-4af2-d9ce-a059b4b56e73"
      },
      "outputs": [
        {
          "output_type": "stream",
          "name": "stderr",
          "text": [
            "WARNING:gensim.models.base_any2vec:under 10 jobs per worker: consider setting a smaller `batch_words' for smoother alpha decay\n"
          ]
        }
      ],
      "source": [
        "# Train Data\n",
        "ingredients = '. '.join(X_train_cuisine)\n",
        "sentences = nltk.sent_tokenize(ingredients)\n",
        "sentences = [nltk.word_tokenize(sentence) for sentence in sentences]\n",
        "model_word2vec = Word2Vec(sentences, size=300, min_count=1, window=5, sg=1,workers=4)\n",
        "X_train_word2vec_cuisine = X_train_cuisine.apply(lambda x : get_embedding_w2v(model_word2vec, x.split()))\n",
        "X_train_word2vec_cuisine = np.array([x.tolist() for x in X_train_word2vec_cuisine])"
      ]
    },
    {
      "cell_type": "code",
      "source": [
        "# Validation Data\n",
        "ingredients = '. '.join(X_valid_cuisine)\n",
        "sentences = nltk.sent_tokenize(ingredients)\n",
        "sentences = [nltk.word_tokenize(sentence) for sentence in sentences]\n",
        "model_word2vec = Word2Vec(sentences, size=300, min_count=1, window=5, sg=1,workers=4)\n",
        "X_valid_word2vec_cuisine = X_valid_cuisine.apply(lambda x : get_embedding_w2v(model_word2vec, x.split()))\n",
        "X_valid_word2vec_cuisine = np.array([x.tolist() for x in X_valid_word2vec_cuisine])"
      ],
      "metadata": {
        "id": "ElLHbwnqBU8o",
        "colab": {
          "base_uri": "https://localhost:8080/"
        },
        "outputId": "e235b598-4b27-40eb-85f6-603d69084295"
      },
      "execution_count": 39,
      "outputs": [
        {
          "output_type": "stream",
          "name": "stderr",
          "text": [
            "WARNING:gensim.models.base_any2vec:under 10 jobs per worker: consider setting a smaller `batch_words' for smoother alpha decay\n"
          ]
        }
      ]
    },
    {
      "cell_type": "code",
      "source": [
        "# Test Data\n",
        "ingredients = '. '.join(X_test_cuisine)\n",
        "sentences = nltk.sent_tokenize(ingredients)\n",
        "sentences = [nltk.word_tokenize(sentence) for sentence in sentences]\n",
        "model_word2vec = Word2Vec(sentences, size=300, min_count=1, window=5, sg=1,workers=4)\n",
        "X_test_word2vec_cuisine = X_test_cuisine.apply(lambda x : get_embedding_w2v(model_word2vec, x.split()))\n",
        "X_test_word2vec_cuisine = np.array([x.tolist() for x in X_test_word2vec_cuisine])"
      ],
      "metadata": {
        "id": "SVxI10srENmN",
        "colab": {
          "base_uri": "https://localhost:8080/"
        },
        "outputId": "a666d513-2a2c-4ab7-953f-44d1b2a197ce"
      },
      "execution_count": 40,
      "outputs": [
        {
          "output_type": "stream",
          "name": "stderr",
          "text": [
            "WARNING:gensim.models.base_any2vec:under 10 jobs per worker: consider setting a smaller `batch_words' for smoother alpha decay\n"
          ]
        }
      ]
    },
    {
      "cell_type": "markdown",
      "source": [
        "Indian Food Data"
      ],
      "metadata": {
        "id": "LlVWjOrTCIF-"
      }
    },
    {
      "cell_type": "code",
      "source": [
        "# Train Data\n",
        "ingredients = '. '.join(X_train_indian)\n",
        "sentences = nltk.sent_tokenize(ingredients)\n",
        "sentences = [nltk.word_tokenize(sentence) for sentence in sentences]\n",
        "model_word2vec = Word2Vec(sentences, size=300, min_count=1, window=5, sg=1,workers=1)\n",
        "X_train_word2vec_indian = X_train_indian.apply(lambda x : get_embedding_w2v(model_word2vec, x.split()))\n",
        "X_train_word2vec_indian = np.array([x.tolist() for x in X_train_word2vec_indian])"
      ],
      "metadata": {
        "colab": {
          "base_uri": "https://localhost:8080/"
        },
        "id": "gsPObo6sCJk8",
        "outputId": "c86e645b-a329-4015-c71b-3f364f636b0b"
      },
      "execution_count": 41,
      "outputs": [
        {
          "output_type": "stream",
          "name": "stderr",
          "text": [
            "WARNING:gensim.models.base_any2vec:under 10 jobs per worker: consider setting a smaller `batch_words' for smoother alpha decay\n"
          ]
        }
      ]
    },
    {
      "cell_type": "code",
      "source": [
        "# Validation Data\n",
        "ingredients = '. '.join(X_valid_indian)\n",
        "sentences = nltk.sent_tokenize(ingredients)\n",
        "sentences = [nltk.word_tokenize(sentence) for sentence in sentences]\n",
        "model_word2vec = Word2Vec(sentences, size=300, min_count=1, window=5, sg=1,workers=1)\n",
        "X_valid_word2vec_indian = X_valid_indian.apply(lambda x : get_embedding_w2v(model_word2vec, x.split()))\n",
        "X_valid_word2vec_indian = np.array([x.tolist() for x in X_valid_word2vec_indian])"
      ],
      "metadata": {
        "colab": {
          "base_uri": "https://localhost:8080/"
        },
        "id": "qaCK0k10FGDG",
        "outputId": "b7e3448e-b393-445e-cbf2-27482c4c80e0"
      },
      "execution_count": 42,
      "outputs": [
        {
          "output_type": "stream",
          "name": "stderr",
          "text": [
            "WARNING:gensim.models.base_any2vec:under 10 jobs per worker: consider setting a smaller `batch_words' for smoother alpha decay\n"
          ]
        }
      ]
    },
    {
      "cell_type": "code",
      "source": [
        "# Test Data\n",
        "ingredients = '. '.join(X_test_indian)\n",
        "sentences = nltk.sent_tokenize(ingredients)\n",
        "sentences = [nltk.word_tokenize(sentence) for sentence in sentences]\n",
        "model_word2vec = Word2Vec(sentences, size=300, min_count=1, window=5, sg=1,workers=1)\n",
        "X_test_word2vec_indian = X_test_indian.apply(lambda x : get_embedding_w2v(model_word2vec, x.split()))\n",
        "X_test_word2vec_indian = np.array([x.tolist() for x in X_test_word2vec_indian])"
      ],
      "metadata": {
        "colab": {
          "base_uri": "https://localhost:8080/"
        },
        "id": "gFeeFRnwjR2u",
        "outputId": "f8cd2a04-b22f-4405-8d47-77d766fa2eb1"
      },
      "execution_count": 43,
      "outputs": [
        {
          "output_type": "stream",
          "name": "stderr",
          "text": [
            "WARNING:gensim.models.base_any2vec:under 10 jobs per worker: consider setting a smaller `batch_words' for smoother alpha decay\n"
          ]
        }
      ]
    },
    {
      "cell_type": "markdown",
      "metadata": {
        "id": "bFEr-j0DW3Ui"
      },
      "source": [
        "## BERT"
      ]
    },
    {
      "cell_type": "code",
      "source": [
        "#bert_model_sentence = SentenceTransformer('bert-base-nli-mean-tokens')"
      ],
      "metadata": {
        "id": "5m8cQmrXL-kU"
      },
      "execution_count": 44,
      "outputs": []
    },
    {
      "cell_type": "code",
      "source": [
        "tokenizer = BertTokenizer.from_pretrained('bert-base-multilingual-cased')\n",
        "model = TFBertModel.from_pretrained(\"bert-base-multilingual-cased\")"
      ],
      "metadata": {
        "colab": {
          "base_uri": "https://localhost:8080/",
          "height": 0,
          "referenced_widgets": [
            "94f84a42e2834f808307917a69c7bf59",
            "70461fa45cac46fb939b46c80e4dc10a",
            "ebfc21c0e2f4495a8f70a12b902fbe22",
            "4ac6f5deb27a44fba45821e98f89c0cd",
            "f75dd52869854e79b0a8ca551d3cec5c",
            "9d22fe018fe84088ab6b84d8366729ce",
            "cde63231c65e45149056bd70c39a8c0b",
            "8f4232331a4945ebb99089be64532b18",
            "93b307721f674f178858f9ebd4a47880",
            "d5071d0ad81f4dbfb69f8d3c734836dd",
            "6d7ba1c854374312bb46c047ccf0d610",
            "c4704f34c96747a3956b9e1169d12f5b",
            "a71069672e274d1e92117f4fe005ff18",
            "d0764070c0f14b51b8914bd161a8567d",
            "880de92ae54a4d05be1ea77253dcb29a",
            "63f1eb5f1e6e4634ace059f65abc33bd",
            "c2fb958132744944bbb00441146df44c",
            "8b0791c13bdb45fda829c52064d3f43f",
            "6f40793b5072485e92162c48f4321576",
            "06948280ec81402e943bb08e82841c89",
            "8c6b0faaf89c484bb30f8768e05d7a13",
            "c38d8a75c9954335af11355bfc382902",
            "b3d943f8df894f81a6b154f66905d8a1",
            "9cd0649af5fa474bbcd3adc6179e2ab6",
            "c7a69cb5f9104ca88ffe9f591a3c94a5",
            "184229d3e3ed4d2c94e49025d7ea1567",
            "9b606fa9a6c3411895b982e9ec52a533",
            "b0f5cb08d73141a9bde8f46569ea9ab9",
            "578671cbcb2c47148ba3e1451a62f251",
            "70457ba38b95406b8502d2014d58c3d2",
            "a942fba050ac4d5a9cf358f54b1f18bb",
            "fdd8b416e8a2468ba984e1e0eea6573d",
            "af95dc19971e4daf96a161b8be246a3d",
            "977fd4e385a54895825a22a35748d549",
            "872c9133597543bb86a5c95d65a2ea49",
            "771cc0010fb44d3bbe85fb114017f476",
            "e439f32aab36480eab846d385d834a85",
            "e4a59feed795429db00ac4046fb57c07",
            "29858628caea4faab659785425d16865",
            "d48ee0d76edb4d6d9ef135da3a7b1aeb",
            "f434e6a82712447587e32d988266c656",
            "95d4069e3e3248dca40edc7f29848681",
            "72fe4d446c4646ca9ea5c485216f2860",
            "bc4c45460a3e4e0abadc3645eb3523e0"
          ]
        },
        "id": "bSxJULtTI6Wd",
        "outputId": "86573f87-e798-4449-d147-cbef40daba6e"
      },
      "execution_count": 45,
      "outputs": [
        {
          "output_type": "display_data",
          "data": {
            "text/plain": [
              "Downloading:   0%|          | 0.00/996k [00:00<?, ?B/s]"
            ],
            "application/vnd.jupyter.widget-view+json": {
              "version_major": 2,
              "version_minor": 0,
              "model_id": "94f84a42e2834f808307917a69c7bf59"
            }
          },
          "metadata": {}
        },
        {
          "output_type": "display_data",
          "data": {
            "text/plain": [
              "Downloading:   0%|          | 0.00/29.0 [00:00<?, ?B/s]"
            ],
            "application/vnd.jupyter.widget-view+json": {
              "version_major": 2,
              "version_minor": 0,
              "model_id": "c4704f34c96747a3956b9e1169d12f5b"
            }
          },
          "metadata": {}
        },
        {
          "output_type": "display_data",
          "data": {
            "text/plain": [
              "Downloading:   0%|          | 0.00/625 [00:00<?, ?B/s]"
            ],
            "application/vnd.jupyter.widget-view+json": {
              "version_major": 2,
              "version_minor": 0,
              "model_id": "b3d943f8df894f81a6b154f66905d8a1"
            }
          },
          "metadata": {}
        },
        {
          "output_type": "display_data",
          "data": {
            "text/plain": [
              "Downloading:   0%|          | 0.00/1.08G [00:00<?, ?B/s]"
            ],
            "application/vnd.jupyter.widget-view+json": {
              "version_major": 2,
              "version_minor": 0,
              "model_id": "977fd4e385a54895825a22a35748d549"
            }
          },
          "metadata": {}
        },
        {
          "output_type": "stream",
          "name": "stderr",
          "text": [
            "Some layers from the model checkpoint at bert-base-multilingual-cased were not used when initializing TFBertModel: ['nsp___cls', 'mlm___cls']\n",
            "- This IS expected if you are initializing TFBertModel from the checkpoint of a model trained on another task or with another architecture (e.g. initializing a BertForSequenceClassification model from a BertForPreTraining model).\n",
            "- This IS NOT expected if you are initializing TFBertModel from the checkpoint of a model that you expect to be exactly identical (initializing a BertForSequenceClassification model from a BertForSequenceClassification model).\n",
            "All the layers of TFBertModel were initialized from the model checkpoint at bert-base-multilingual-cased.\n",
            "If your task is similar to the task the model of the checkpoint was trained on, you can already use TFBertModel for predictions without further training.\n"
          ]
        }
      ]
    },
    {
      "cell_type": "markdown",
      "source": [
        "Cuisine Classification Data"
      ],
      "metadata": {
        "id": "rKm0erFQA82T"
      }
    },
    {
      "cell_type": "code",
      "source": [
        "# Train Data\n",
        "encoded_input = [tokenizer(text, return_tensors='tf') for text in X_train_cuisine]\n",
        "xs = [model(text) for text in encoded_input]\n",
        "X_train_bert_cuisine = [text[1][0].numpy() for text in xs]\n",
        "X_train_bert_cuisine = np.array(X_train_bert_cuisine)"
      ],
      "metadata": {
        "id": "B7Z7Pcwyzscu"
      },
      "execution_count": 46,
      "outputs": []
    },
    {
      "cell_type": "code",
      "source": [
        "# Validation Data\n",
        "encoded_input = [tokenizer(text, return_tensors='tf') for text in X_valid_cuisine]\n",
        "xs = [model(text) for text in encoded_input]\n",
        "X_valid_bert_cuisine = [text[1][0].numpy() for text in xs]\n",
        "X_valid_bert_cuisine = np.array(X_valid_bert_cuisine)"
      ],
      "metadata": {
        "id": "q6H3oCioLtI5"
      },
      "execution_count": 47,
      "outputs": []
    },
    {
      "cell_type": "code",
      "source": [
        "# Test Data\n",
        "encoded_input = [tokenizer(text, return_tensors='tf') for text in X_test_cuisine]\n",
        "xs = [model(text) for text in encoded_input]\n",
        "X_test_bert_cuisine = [text[1][0].numpy() for text in xs]\n",
        "X_test_bert_cuisine = np.array(X_test_bert_cuisine)"
      ],
      "metadata": {
        "id": "bBXkOYErjdZj"
      },
      "execution_count": 48,
      "outputs": []
    },
    {
      "cell_type": "markdown",
      "source": [
        "Indian Food Data"
      ],
      "metadata": {
        "id": "cCCtu5-GA82a"
      }
    },
    {
      "cell_type": "code",
      "source": [
        "# Train Data\n",
        "encoded_input = [tokenizer(text, return_tensors='tf') for text in X_train_indian]\n",
        "xs = [model(text) for text in encoded_input]\n",
        "X_train_bert_indian = [text[1][0].numpy() for text in xs]\n",
        "X_train_bert_indian = np.array(X_train_bert_indian)"
      ],
      "metadata": {
        "id": "RoFfWl2rBSu3"
      },
      "execution_count": 49,
      "outputs": []
    },
    {
      "cell_type": "code",
      "source": [
        "# Validation Data\n",
        "encoded_input = [tokenizer(text, return_tensors='tf') for text in X_valid_indian]\n",
        "xs = [model(text) for text in encoded_input]\n",
        "X_valid_bert_indian = [text[1][0].numpy() for text in xs]\n",
        "X_valid_bert_indian = np.array(X_valid_bert_indian)"
      ],
      "metadata": {
        "id": "HLyLphrdBSu4"
      },
      "execution_count": 50,
      "outputs": []
    },
    {
      "cell_type": "code",
      "source": [
        "# Test Data\n",
        "encoded_input = [tokenizer(text, return_tensors='tf') for text in X_test_indian]\n",
        "xs = [model(text) for text in encoded_input]\n",
        "X_test_bert_indian = [text[1][0].numpy() for text in xs]\n",
        "X_test_bert_indian = np.array(X_test_bert_indian)"
      ],
      "metadata": {
        "id": "fSazgdUfjh8-"
      },
      "execution_count": 51,
      "outputs": []
    },
    {
      "cell_type": "markdown",
      "metadata": {
        "id": "y8BLcackYjE2"
      },
      "source": [
        "# Different Classificators"
      ]
    },
    {
      "cell_type": "code",
      "source": [
        "vocab_size_cuisine = len(vocabulary_cuisine)\n",
        "vocab_size_indian = len(vocabulary_indian)"
      ],
      "metadata": {
        "id": "U0dWyidcM5hw"
      },
      "execution_count": 54,
      "outputs": []
    },
    {
      "cell_type": "markdown",
      "source": [
        "## CNN"
      ],
      "metadata": {
        "id": "FXaoz4nYqMfx"
      }
    },
    {
      "cell_type": "code",
      "source": [
        "class CNNHyperModel(HyperModel):\n",
        "  def __init__(self, vocab_size, max_length, output):\n",
        "    self.vocab_size = vocab_size\n",
        "    self.max_length = max_length\n",
        "    self.output = output\n",
        "\n",
        "  def build(self, hp):\n",
        "    model = Sequential()\n",
        "    model.add(Embedding(self.vocab_size, output_dim = 32, input_length=self.max_length))\n",
        "    model.add(Conv1D(filters=hp.Int(\"conv_1\", min_value=32, max_value=96, step=32), kernel_size=11, strides=1))\n",
        "    model.add(Activation('relu'))\n",
        "    model.add(GlobalMaxPooling1D())\n",
        "    model.add(Dense(hp.Choice(\"dense_units\", [64,128,256])))\n",
        "    model.add(Activation('relu'))\n",
        "    model.add(Dense(hp.Choice(\"dense_units2\", [16,32, 64])))\n",
        "    model.add(Activation('relu'))\n",
        "    model.add(Dense(self.output, activation='softmax'))\n",
        "    sgd = SGD(learning_rate=hp.Choice(\"learning_rt\", [0.01,0.001,0.001]))\n",
        "    model.compile(loss=\"categorical_crossentropy\",optimizer=sgd,metrics=['accuracy'])\n",
        "    return model"
      ],
      "metadata": {
        "id": "WUQk60efF7AU"
      },
      "execution_count": 53,
      "outputs": []
    },
    {
      "cell_type": "markdown",
      "source": [
        "### TFIDF"
      ],
      "metadata": {
        "id": "K3uOxTgSIFwZ"
      }
    },
    {
      "cell_type": "markdown",
      "source": [
        "Cuisine Classification Data"
      ],
      "metadata": {
        "id": "lVaeJtPxIFwZ"
      }
    },
    {
      "cell_type": "code",
      "source": [
        "model_CNN = CNNHyperModel(vocab_size_cuisine, vocab_size_cuisine, 20)"
      ],
      "metadata": {
        "id": "FyEDxSA5IFwZ"
      },
      "execution_count": 54,
      "outputs": []
    },
    {
      "cell_type": "code",
      "source": [
        "tuner = kt.Hyperband(\n",
        "    model_CNN,\n",
        "    objective='val_accuracy',\n",
        "    max_epochs=30,\n",
        "    hyperband_iterations=2,\n",
        "    overwrite=True)"
      ],
      "metadata": {
        "id": "7NvRwmxJIFwa"
      },
      "execution_count": 55,
      "outputs": []
    },
    {
      "cell_type": "code",
      "source": [
        "tuner.search(df_tfidf_train_cuisine,y_train_cuisine,validation_data=(df_tfidf_valid_cuisine,y_valid_cuisine), epochs=10)"
      ],
      "metadata": {
        "colab": {
          "base_uri": "https://localhost:8080/"
        },
        "id": "L0stUSjRIFwa",
        "outputId": "b4454f47-a6b7-4195-9ad1-c5726dfa015c"
      },
      "execution_count": 56,
      "outputs": [
        {
          "output_type": "stream",
          "name": "stdout",
          "text": [
            "Trial 65 Complete [00h 00m 02s]\n",
            "val_accuracy: 0.1860000044107437\n",
            "\n",
            "Best val_accuracy So Far: 0.19200000166893005\n",
            "Total elapsed time: 00h 02m 21s\n"
          ]
        }
      ]
    },
    {
      "cell_type": "code",
      "source": [
        "bestHP = tuner.get_best_hyperparameters()[0]\n",
        "print(\"[INFO] optimal number of filters in conv_1 layer: {}\".format(bestHP.get(\"conv_1\")))\n",
        "print(\"[INFO] optimal number of units in dense layer: {}\".format(bestHP.get(\"dense_units\")))\n",
        "print(\"[INFO] optimal number of units in dense layer 2: {}\".format(bestHP.get(\"dense_units2\")))\n",
        "print(\"[INFO] optimal learning rate: {}\".format(bestHP.get(\"learning_rt\")))"
      ],
      "metadata": {
        "id": "1fO9EMx0IFwa",
        "colab": {
          "base_uri": "https://localhost:8080/"
        },
        "outputId": "cc7b5bdb-7496-464b-a0ac-ea8e861fbb08"
      },
      "execution_count": 57,
      "outputs": [
        {
          "output_type": "stream",
          "name": "stdout",
          "text": [
            "[INFO] optimal number of filters in conv_1 layer: 96\n",
            "[INFO] optimal number of units in dense layer: 128\n",
            "[INFO] optimal number of units in dense layer 2: 16\n",
            "[INFO] optimal learning rate: 0.001\n"
          ]
        }
      ]
    },
    {
      "cell_type": "code",
      "source": [
        "model_cuisine = tuner.get_best_models()[0]"
      ],
      "metadata": {
        "id": "gUZTEC0lIFwa"
      },
      "execution_count": 58,
      "outputs": []
    },
    {
      "cell_type": "code",
      "source": [
        "history_fine = model_cuisine.fit(df_tfidf_train_cuisine,y_train_cuisine,validation_data=(df_tfidf_valid_cuisine,y_valid_cuisine), epochs=10)"
      ],
      "metadata": {
        "id": "eMrbo0RMIFwa",
        "colab": {
          "base_uri": "https://localhost:8080/"
        },
        "outputId": "0e3fa8db-47a1-4af3-a22a-65b04b07b9e5"
      },
      "execution_count": 59,
      "outputs": [
        {
          "output_type": "stream",
          "name": "stdout",
          "text": [
            "Epoch 1/10\n",
            "25/25 [==============================] - 1s 18ms/step - loss: 2.9912 - accuracy: 0.1813 - val_loss: 2.9894 - val_accuracy: 0.1860\n",
            "Epoch 2/10\n",
            "25/25 [==============================] - 0s 10ms/step - loss: 2.9883 - accuracy: 0.2013 - val_loss: 2.9867 - val_accuracy: 0.1860\n",
            "Epoch 3/10\n",
            "25/25 [==============================] - 0s 10ms/step - loss: 2.9857 - accuracy: 0.2013 - val_loss: 2.9840 - val_accuracy: 0.1860\n",
            "Epoch 4/10\n",
            "25/25 [==============================] - 0s 10ms/step - loss: 2.9831 - accuracy: 0.2013 - val_loss: 2.9815 - val_accuracy: 0.1860\n",
            "Epoch 5/10\n",
            "25/25 [==============================] - 0s 10ms/step - loss: 2.9805 - accuracy: 0.2013 - val_loss: 2.9789 - val_accuracy: 0.1860\n",
            "Epoch 6/10\n",
            "25/25 [==============================] - 0s 10ms/step - loss: 2.9781 - accuracy: 0.2013 - val_loss: 2.9765 - val_accuracy: 0.1860\n",
            "Epoch 7/10\n",
            "25/25 [==============================] - 0s 10ms/step - loss: 2.9757 - accuracy: 0.2013 - val_loss: 2.9741 - val_accuracy: 0.1860\n",
            "Epoch 8/10\n",
            "25/25 [==============================] - 0s 10ms/step - loss: 2.9733 - accuracy: 0.2013 - val_loss: 2.9717 - val_accuracy: 0.1860\n",
            "Epoch 9/10\n",
            "25/25 [==============================] - 0s 10ms/step - loss: 2.9709 - accuracy: 0.2013 - val_loss: 2.9693 - val_accuracy: 0.1860\n",
            "Epoch 10/10\n",
            "25/25 [==============================] - 0s 10ms/step - loss: 2.9685 - accuracy: 0.2013 - val_loss: 2.9669 - val_accuracy: 0.1860\n"
          ]
        }
      ]
    },
    {
      "cell_type": "code",
      "source": [
        "plt.plot(history_fine.history['loss'])\n",
        "plt.plot(history_fine.history['val_loss'])\n",
        "plt.title('model loss')\n",
        "plt.ylabel('loss')\n",
        "plt.xlabel('epoch')\n",
        "plt.legend(['training set','validation set'], loc='upper left')\n",
        "plt.show()"
      ],
      "metadata": {
        "id": "XH9vxrXTeFyd",
        "colab": {
          "base_uri": "https://localhost:8080/",
          "height": 295
        },
        "outputId": "76c7af7f-b15b-4869-c370-afe6fae8ed72"
      },
      "execution_count": 60,
      "outputs": [
        {
          "output_type": "display_data",
          "data": {
            "text/plain": [
              "<Figure size 432x288 with 1 Axes>"
            ],
            "image/png": "[encoded data removed]"
          },
          "metadata": {
            "needs_background": "light"
          }
        }
      ]
    },
    {
      "cell_type": "code",
      "source": [
        "plt.plot(history_fine.history['accuracy'])\n",
        "plt.plot(history_fine.history['val_accuracy'])\n",
        "plt.title('model accuracy')\n",
        "plt.ylabel('accuracy')\n",
        "plt.xlabel('epoch')\n",
        "plt.legend(['training set','validation set'], loc='upper left')\n",
        "plt.show()"
      ],
      "metadata": {
        "id": "HqDF4ippeHW7",
        "colab": {
          "base_uri": "https://localhost:8080/",
          "height": 295
        },
        "outputId": "bce67741-1f04-4e66-c611-20403f55c30c"
      },
      "execution_count": 61,
      "outputs": [
        {
          "output_type": "display_data",
          "data": {
            "text/plain": [
              "<Figure size 432x288 with 1 Axes>"
            ],
            "image/png": "[encoded data removed]"
          },
          "metadata": {
            "needs_background": "light"
          }
        }
      ]
    },
    {
      "cell_type": "code",
      "source": [
        "y_prob = model_cuisine.predict(df_tfidf_test_cuisine)\n",
        "y_pred = np.argmax(y_prob,axis=1)\n",
        "print(classification_report(y_test_int_cuisine,y_pred))"
      ],
      "metadata": {
        "id": "PETPLG4XfKc5",
        "colab": {
          "base_uri": "https://localhost:8080/"
        },
        "outputId": "c13a315a-5390-4830-fcf1-6d022534a44c"
      },
      "execution_count": 62,
      "outputs": [
        {
          "output_type": "stream",
          "name": "stdout",
          "text": [
            "              precision    recall  f1-score   support\n",
            "\n",
            "           0       0.00      0.00      0.00         5\n",
            "           1       0.00      0.00      0.00         6\n",
            "           2       0.00      0.00      0.00        17\n",
            "           3       0.00      0.00      0.00        31\n",
            "           4       0.00      0.00      0.00        10\n",
            "           5       0.00      0.00      0.00        18\n",
            "           6       0.00      0.00      0.00        19\n",
            "           7       0.00      0.00      0.00        39\n",
            "           8       0.00      0.00      0.00         8\n",
            "           9       0.24      1.00      0.38       118\n",
            "          10       0.00      0.00      0.00         6\n",
            "          11       0.00      0.00      0.00        21\n",
            "          12       0.00      0.00      0.00        18\n",
            "          13       0.00      0.00      0.00        81\n",
            "          14       0.00      0.00      0.00         8\n",
            "          15       0.00      0.00      0.00         5\n",
            "          16       0.00      0.00      0.00        53\n",
            "          17       0.00      0.00      0.00        11\n",
            "          18       0.00      0.00      0.00        17\n",
            "          19       0.00      0.00      0.00         9\n",
            "\n",
            "    accuracy                           0.24       500\n",
            "   macro avg       0.01      0.05      0.02       500\n",
            "weighted avg       0.06      0.24      0.09       500\n",
            "\n"
          ]
        },
        {
          "output_type": "stream",
          "name": "stderr",
          "text": [
            "/usr/local/lib/python3.7/dist-packages/sklearn/metrics/_classification.py:1318: UndefinedMetricWarning: Precision and F-score are ill-defined and being set to 0.0 in labels with no predicted samples. Use `zero_division` parameter to control this behavior.\n",
            "  _warn_prf(average, modifier, msg_start, len(result))\n",
            "/usr/local/lib/python3.7/dist-packages/sklearn/metrics/_classification.py:1318: UndefinedMetricWarning: Precision and F-score are ill-defined and being set to 0.0 in labels with no predicted samples. Use `zero_division` parameter to control this behavior.\n",
            "  _warn_prf(average, modifier, msg_start, len(result))\n",
            "/usr/local/lib/python3.7/dist-packages/sklearn/metrics/_classification.py:1318: UndefinedMetricWarning: Precision and F-score are ill-defined and being set to 0.0 in labels with no predicted samples. Use `zero_division` parameter to control this behavior.\n",
            "  _warn_prf(average, modifier, msg_start, len(result))\n"
          ]
        }
      ]
    },
    {
      "cell_type": "markdown",
      "source": [
        "Indian Food Data"
      ],
      "metadata": {
        "id": "AJTQnU6nIFwa"
      }
    },
    {
      "cell_type": "code",
      "source": [
        "model_CNN = CNNHyperModel(vocab_size_indian, vocab_size_indian, 2)"
      ],
      "metadata": {
        "id": "FdsDj4QGIFwa"
      },
      "execution_count": 63,
      "outputs": []
    },
    {
      "cell_type": "code",
      "source": [
        "tuner = kt.Hyperband(\n",
        "    model_CNN,\n",
        "    objective='val_accuracy',\n",
        "    max_epochs=30,\n",
        "    hyperband_iterations=2, \n",
        "    overwrite=True)"
      ],
      "metadata": {
        "id": "Wrqfi-57IFwa"
      },
      "execution_count": 64,
      "outputs": []
    },
    {
      "cell_type": "code",
      "source": [
        "tuner.search(df_tfidf_train_indian,y_train_indian,validation_data=(df_tfidf_valid_indian,y_valid_indian), epochs=10)"
      ],
      "metadata": {
        "id": "9Yrw1BaSIFwa",
        "colab": {
          "base_uri": "https://localhost:8080/"
        },
        "outputId": "e2adec50-2d9b-4db4-92bf-a1f75ffaa5d4"
      },
      "execution_count": 65,
      "outputs": [
        {
          "output_type": "stream",
          "name": "stdout",
          "text": [
            "Trial 64 Complete [00h 00m 01s]\n",
            "val_accuracy: 0.890625\n",
            "\n",
            "Best val_accuracy So Far: 0.890625\n",
            "Total elapsed time: 00h 01m 27s\n"
          ]
        }
      ]
    },
    {
      "cell_type": "code",
      "source": [
        "bestHP = tuner.get_best_hyperparameters()[0]\n",
        "print(\"[INFO] optimal number of filters in conv_1 layer: {}\".format(bestHP.get(\"conv_1\")))\n",
        "print(\"[INFO] optimal number of units in dense layer: {}\".format(bestHP.get(\"dense_units\")))\n",
        "print(\"[INFO] optimal number of units in dense layer 2: {}\".format(bestHP.get(\"dense_units2\")))\n",
        "print(\"[INFO] optimal learning rate: {}\".format(bestHP.get(\"learning_rt\")))"
      ],
      "metadata": {
        "id": "TRMPvSF1IFwa",
        "colab": {
          "base_uri": "https://localhost:8080/"
        },
        "outputId": "7c450e53-7d7e-4f2e-920d-5640fdbf5084"
      },
      "execution_count": 66,
      "outputs": [
        {
          "output_type": "stream",
          "name": "stdout",
          "text": [
            "[INFO] optimal number of filters in conv_1 layer: 96\n",
            "[INFO] optimal number of units in dense layer: 128\n",
            "[INFO] optimal number of units in dense layer 2: 16\n",
            "[INFO] optimal learning rate: 0.001\n"
          ]
        }
      ]
    },
    {
      "cell_type": "code",
      "source": [
        "model_indian = tuner.get_best_models()[0]"
      ],
      "metadata": {
        "id": "93F4R9-NIFwa"
      },
      "execution_count": 67,
      "outputs": []
    },
    {
      "cell_type": "code",
      "source": [
        "history_fine = model_indian.fit(df_tfidf_train_indian,y_train_indian,validation_data=(df_tfidf_valid_indian,y_valid_indian), epochs=10)"
      ],
      "metadata": {
        "id": "vg_7q5-FIFwa",
        "colab": {
          "base_uri": "https://localhost:8080/"
        },
        "outputId": "733472cb-7d5b-4a59-84b4-8b2121e7dc7a"
      },
      "execution_count": 68,
      "outputs": [
        {
          "output_type": "stream",
          "name": "stdout",
          "text": [
            "Epoch 1/10\n",
            "7/7 [==============================] - 1s 37ms/step - loss: 0.6903 - accuracy: 0.8824 - val_loss: 0.6881 - val_accuracy: 0.8906\n",
            "Epoch 2/10\n",
            "7/7 [==============================] - 0s 11ms/step - loss: 0.6868 - accuracy: 0.8824 - val_loss: 0.6845 - val_accuracy: 0.8906\n",
            "Epoch 3/10\n",
            "7/7 [==============================] - 0s 11ms/step - loss: 0.6834 - accuracy: 0.8824 - val_loss: 0.6811 - val_accuracy: 0.8906\n",
            "Epoch 4/10\n",
            "7/7 [==============================] - 0s 9ms/step - loss: 0.6801 - accuracy: 0.8824 - val_loss: 0.6776 - val_accuracy: 0.8906\n",
            "Epoch 5/10\n",
            "7/7 [==============================] - 0s 11ms/step - loss: 0.6768 - accuracy: 0.8824 - val_loss: 0.6747 - val_accuracy: 0.8906\n",
            "Epoch 6/10\n",
            "7/7 [==============================] - 0s 10ms/step - loss: 0.6742 - accuracy: 0.8824 - val_loss: 0.6723 - val_accuracy: 0.8906\n",
            "Epoch 7/10\n",
            "7/7 [==============================] - 0s 11ms/step - loss: 0.6718 - accuracy: 0.8824 - val_loss: 0.6699 - val_accuracy: 0.8906\n",
            "Epoch 8/10\n",
            "7/7 [==============================] - 0s 10ms/step - loss: 0.6695 - accuracy: 0.8824 - val_loss: 0.6675 - val_accuracy: 0.8906\n",
            "Epoch 9/10\n",
            "7/7 [==============================] - 0s 11ms/step - loss: 0.6672 - accuracy: 0.8824 - val_loss: 0.6652 - val_accuracy: 0.8906\n",
            "Epoch 10/10\n",
            "7/7 [==============================] - 0s 11ms/step - loss: 0.6650 - accuracy: 0.8824 - val_loss: 0.6629 - val_accuracy: 0.8906\n"
          ]
        }
      ]
    },
    {
      "cell_type": "code",
      "source": [
        "plt.plot(history_fine.history['loss'])\n",
        "plt.plot(history_fine.history['val_loss'])\n",
        "plt.title('model loss')\n",
        "plt.ylabel('loss')\n",
        "plt.xlabel('epoch')\n",
        "plt.legend(['training set','validation set'], loc='upper left')\n",
        "plt.show()"
      ],
      "metadata": {
        "id": "GBnV7ssxgxnX",
        "colab": {
          "base_uri": "https://localhost:8080/",
          "height": 295
        },
        "outputId": "56882225-c7c4-4f2e-d297-4d27c4804695"
      },
      "execution_count": 69,
      "outputs": [
        {
          "output_type": "display_data",
          "data": {
            "text/plain": [
              "<Figure size 432x288 with 1 Axes>"
            ],
            "image/png": "[encoded data removed]"
          },
          "metadata": {
            "needs_background": "light"
          }
        }
      ]
    },
    {
      "cell_type": "code",
      "source": [
        "plt.plot(history_fine.history['accuracy'])\n",
        "plt.plot(history_fine.history['val_accuracy'])\n",
        "plt.title('model accuracy')\n",
        "plt.ylabel('accuracy')\n",
        "plt.xlabel('epoch')\n",
        "plt.legend(['training set','validation set'], loc='upper left')\n",
        "plt.show()"
      ],
      "metadata": {
        "id": "OlqjoapzgxnY",
        "colab": {
          "base_uri": "https://localhost:8080/",
          "height": 295
        },
        "outputId": "fb24ccf8-6c8e-429f-e9be-df345152069a"
      },
      "execution_count": 70,
      "outputs": [
        {
          "output_type": "display_data",
          "data": {
            "text/plain": [
              "<Figure size 432x288 with 1 Axes>"
            ],
            "image/png": "[encoded data removed]"
          },
          "metadata": {
            "needs_background": "light"
          }
        }
      ]
    },
    {
      "cell_type": "code",
      "source": [
        "y_prob = model_indian.predict(df_tfidf_test_indian)\n",
        "y_pred = np.argmax(y_prob,axis=1)\n",
        "print(classification_report(y_test_int_indian,y_pred))"
      ],
      "metadata": {
        "id": "ETEfJoK9gxnY",
        "colab": {
          "base_uri": "https://localhost:8080/"
        },
        "outputId": "530ee8f1-d85a-4124-cb0a-6b8cc1d35100"
      },
      "execution_count": 71,
      "outputs": [
        {
          "output_type": "stream",
          "name": "stdout",
          "text": [
            "              precision    recall  f1-score   support\n",
            "\n",
            "           0       0.00      0.00      0.00        15\n",
            "           1       0.88      1.00      0.94       112\n",
            "\n",
            "    accuracy                           0.88       127\n",
            "   macro avg       0.44      0.50      0.47       127\n",
            "weighted avg       0.78      0.88      0.83       127\n",
            "\n"
          ]
        },
        {
          "output_type": "stream",
          "name": "stderr",
          "text": [
            "/usr/local/lib/python3.7/dist-packages/sklearn/metrics/_classification.py:1318: UndefinedMetricWarning: Precision and F-score are ill-defined and being set to 0.0 in labels with no predicted samples. Use `zero_division` parameter to control this behavior.\n",
            "  _warn_prf(average, modifier, msg_start, len(result))\n",
            "/usr/local/lib/python3.7/dist-packages/sklearn/metrics/_classification.py:1318: UndefinedMetricWarning: Precision and F-score are ill-defined and being set to 0.0 in labels with no predicted samples. Use `zero_division` parameter to control this behavior.\n",
            "  _warn_prf(average, modifier, msg_start, len(result))\n",
            "/usr/local/lib/python3.7/dist-packages/sklearn/metrics/_classification.py:1318: UndefinedMetricWarning: Precision and F-score are ill-defined and being set to 0.0 in labels with no predicted samples. Use `zero_division` parameter to control this behavior.\n",
            "  _warn_prf(average, modifier, msg_start, len(result))\n"
          ]
        }
      ]
    },
    {
      "cell_type": "markdown",
      "source": [
        "### Word2vec"
      ],
      "metadata": {
        "id": "toh10I1K-R35"
      }
    },
    {
      "cell_type": "markdown",
      "source": [
        "Cuisine Classification Data"
      ],
      "metadata": {
        "id": "LoRJBqdpE9EY"
      }
    },
    {
      "cell_type": "code",
      "source": [
        "X_train_word2vec_cuisine = np.array([np.array(val) for val in X_train_word2vec_cuisine])\n",
        "X_valid_word2vec_cuisine = np.array([np.array(val) for val in X_valid_word2vec_cuisine])"
      ],
      "metadata": {
        "id": "E6kbIM9XDafJ"
      },
      "execution_count": 72,
      "outputs": []
    },
    {
      "cell_type": "code",
      "source": [
        "model_CNN = CNNHyperModel(vocab_size_cuisine, 300, 20)"
      ],
      "metadata": {
        "id": "jgcqm67RGUT5"
      },
      "execution_count": 73,
      "outputs": []
    },
    {
      "cell_type": "code",
      "source": [
        "tuner = kt.Hyperband(\n",
        "    model_CNN,\n",
        "    objective='val_accuracy',\n",
        "    max_epochs=30,\n",
        "    hyperband_iterations=2, \n",
        "    overwrite=True)"
      ],
      "metadata": {
        "id": "I90bxwoHC4-D"
      },
      "execution_count": 74,
      "outputs": []
    },
    {
      "cell_type": "code",
      "source": [
        "tuner.search(X_train_word2vec_cuisine,y_train_cuisine,validation_data=(X_valid_word2vec_cuisine,y_valid_cuisine) , epochs=10)"
      ],
      "metadata": {
        "id": "psRlkYZ2FCkM",
        "colab": {
          "base_uri": "https://localhost:8080/"
        },
        "outputId": "a48cfce9-93cc-4ffd-fb52-7d87754f4e6e"
      },
      "execution_count": 75,
      "outputs": [
        {
          "output_type": "stream",
          "name": "stdout",
          "text": [
            "Trial 56 Complete [00h 00m 02s]\n",
            "val_accuracy: 0.1860000044107437\n",
            "\n",
            "Best val_accuracy So Far: 0.19200000166893005\n",
            "Total elapsed time: 00h 01m 29s\n"
          ]
        }
      ]
    },
    {
      "cell_type": "code",
      "source": [
        "model_cuisine = tuner.get_best_models()[0]"
      ],
      "metadata": {
        "id": "ACgm9cYIYWUF"
      },
      "execution_count": 76,
      "outputs": []
    },
    {
      "cell_type": "code",
      "source": [
        "bestHP = tuner.get_best_hyperparameters()[0]\n",
        "print(\"[INFO] optimal number of filters in conv_1 layer: {}\".format(bestHP.get(\"conv_1\")))\n",
        "print(\"[INFO] optimal number of units in dense layer: {}\".format(bestHP.get(\"dense_units\")))\n",
        "print(\"[INFO] optimal number of units in dense layer 2: {}\".format(bestHP.get(\"dense_units2\")))\n",
        "print(\"[INFO] optimal learning rate: {}\".format(bestHP.get(\"learning_rt\")))"
      ],
      "metadata": {
        "id": "2KD2AgFtJjmo",
        "colab": {
          "base_uri": "https://localhost:8080/"
        },
        "outputId": "75c39b9b-8585-4f38-b1af-df5d287d6a3e"
      },
      "execution_count": 77,
      "outputs": [
        {
          "output_type": "stream",
          "name": "stdout",
          "text": [
            "[INFO] optimal number of filters in conv_1 layer: 96\n",
            "[INFO] optimal number of units in dense layer: 64\n",
            "[INFO] optimal number of units in dense layer 2: 16\n",
            "[INFO] optimal learning rate: 0.001\n"
          ]
        }
      ]
    },
    {
      "cell_type": "code",
      "source": [
        "history_fine = model_cuisine.fit(X_train_word2vec_cuisine,y_train_cuisine,validation_data=(X_valid_word2vec_cuisine,y_valid_cuisine) , epochs=20)"
      ],
      "metadata": {
        "id": "PvkKTlqdnYm8",
        "colab": {
          "base_uri": "https://localhost:8080/"
        },
        "outputId": "cbdaf1ee-2aef-478a-ace1-423de7e82bc0"
      },
      "execution_count": 78,
      "outputs": [
        {
          "output_type": "stream",
          "name": "stdout",
          "text": [
            "Epoch 1/20\n",
            "25/25 [==============================] - 1s 14ms/step - loss: 2.9910 - accuracy: 0.1800 - val_loss: 2.9893 - val_accuracy: 0.1920\n",
            "Epoch 2/20\n",
            "25/25 [==============================] - 0s 8ms/step - loss: 2.9882 - accuracy: 0.1800 - val_loss: 2.9865 - val_accuracy: 0.1920\n",
            "Epoch 3/20\n",
            "25/25 [==============================] - 0s 8ms/step - loss: 2.9854 - accuracy: 0.1800 - val_loss: 2.9837 - val_accuracy: 0.1920\n",
            "Epoch 4/20\n",
            "25/25 [==============================] - 0s 8ms/step - loss: 2.9827 - accuracy: 0.1800 - val_loss: 2.9811 - val_accuracy: 0.1920\n",
            "Epoch 5/20\n",
            "25/25 [==============================] - 0s 8ms/step - loss: 2.9801 - accuracy: 0.1800 - val_loss: 2.9784 - val_accuracy: 0.1920\n",
            "Epoch 6/20\n",
            "25/25 [==============================] - 0s 7ms/step - loss: 2.9775 - accuracy: 0.1800 - val_loss: 2.9759 - val_accuracy: 0.1920\n",
            "Epoch 7/20\n",
            "25/25 [==============================] - 0s 8ms/step - loss: 2.9750 - accuracy: 0.1800 - val_loss: 2.9734 - val_accuracy: 0.1920\n",
            "Epoch 8/20\n",
            "25/25 [==============================] - 0s 7ms/step - loss: 2.9726 - accuracy: 0.1800 - val_loss: 2.9710 - val_accuracy: 0.1920\n",
            "Epoch 9/20\n",
            "25/25 [==============================] - 0s 7ms/step - loss: 2.9702 - accuracy: 0.1800 - val_loss: 2.9686 - val_accuracy: 0.1920\n",
            "Epoch 10/20\n",
            "25/25 [==============================] - 0s 7ms/step - loss: 2.9678 - accuracy: 0.1800 - val_loss: 2.9662 - val_accuracy: 0.1920\n",
            "Epoch 11/20\n",
            "25/25 [==============================] - 0s 8ms/step - loss: 2.9654 - accuracy: 0.1800 - val_loss: 2.9638 - val_accuracy: 0.1920\n",
            "Epoch 12/20\n",
            "25/25 [==============================] - 0s 7ms/step - loss: 2.9630 - accuracy: 0.1800 - val_loss: 2.9614 - val_accuracy: 0.1920\n",
            "Epoch 13/20\n",
            "25/25 [==============================] - 0s 8ms/step - loss: 2.9607 - accuracy: 0.1800 - val_loss: 2.9591 - val_accuracy: 0.1920\n",
            "Epoch 14/20\n",
            "25/25 [==============================] - 0s 8ms/step - loss: 2.9584 - accuracy: 0.1800 - val_loss: 2.9568 - val_accuracy: 0.1920\n",
            "Epoch 15/20\n",
            "25/25 [==============================] - 0s 8ms/step - loss: 2.9560 - accuracy: 0.1800 - val_loss: 2.9545 - val_accuracy: 0.1920\n",
            "Epoch 16/20\n",
            "25/25 [==============================] - 0s 8ms/step - loss: 2.9537 - accuracy: 0.1800 - val_loss: 2.9521 - val_accuracy: 0.1920\n",
            "Epoch 17/20\n",
            "25/25 [==============================] - 0s 7ms/step - loss: 2.9514 - accuracy: 0.1800 - val_loss: 2.9498 - val_accuracy: 0.1920\n",
            "Epoch 18/20\n",
            "25/25 [==============================] - 0s 7ms/step - loss: 2.9491 - accuracy: 0.1800 - val_loss: 2.9475 - val_accuracy: 0.1920\n",
            "Epoch 19/20\n",
            "25/25 [==============================] - 0s 7ms/step - loss: 2.9468 - accuracy: 0.1800 - val_loss: 2.9453 - val_accuracy: 0.1920\n",
            "Epoch 20/20\n",
            "25/25 [==============================] - 0s 8ms/step - loss: 2.9446 - accuracy: 0.1800 - val_loss: 2.9430 - val_accuracy: 0.1920\n"
          ]
        }
      ]
    },
    {
      "cell_type": "code",
      "source": [
        "plt.plot(history_fine.history['loss'])\n",
        "plt.plot(history_fine.history['val_loss'])\n",
        "plt.title('model loss')\n",
        "plt.ylabel('loss')\n",
        "plt.xlabel('epoch')\n",
        "plt.legend(['training set','validation set'], loc='upper left')\n",
        "plt.show()"
      ],
      "metadata": {
        "id": "8WmMJTqFijjq",
        "colab": {
          "base_uri": "https://localhost:8080/",
          "height": 295
        },
        "outputId": "1e418afc-f4d5-411a-eb2d-c9abcfe22892"
      },
      "execution_count": 79,
      "outputs": [
        {
          "output_type": "display_data",
          "data": {
            "text/plain": [
              "<Figure size 432x288 with 1 Axes>"
            ],
            "image/png": "[encoded data removed]"
          },
          "metadata": {
            "needs_background": "light"
          }
        }
      ]
    },
    {
      "cell_type": "code",
      "source": [
        "plt.plot(history_fine.history['accuracy'])\n",
        "plt.plot(history_fine.history['val_accuracy'])\n",
        "plt.title('model accuracy')\n",
        "plt.ylabel('accuracy')\n",
        "plt.xlabel('epoch')\n",
        "plt.legend(['training set','validation set'], loc='upper left')\n",
        "plt.show()"
      ],
      "metadata": {
        "id": "WdN8O9lFijjq",
        "colab": {
          "base_uri": "https://localhost:8080/",
          "height": 295
        },
        "outputId": "c942e5fe-93ef-4d5e-86ed-f610c3851fe6"
      },
      "execution_count": 80,
      "outputs": [
        {
          "output_type": "display_data",
          "data": {
            "text/plain": [
              "<Figure size 432x288 with 1 Axes>"
            ],
            "image/png": "[encoded data removed]"
          },
          "metadata": {
            "needs_background": "light"
          }
        }
      ]
    },
    {
      "cell_type": "code",
      "source": [
        "y_prob = model_cuisine.predict(X_test_word2vec_cuisine)\n",
        "y_pred = np.argmax(y_prob,axis=1)\n",
        "print(classification_report(y_test_int_cuisine,y_pred))"
      ],
      "metadata": {
        "id": "WZG3O1abijjq",
        "colab": {
          "base_uri": "https://localhost:8080/"
        },
        "outputId": "984212d3-c08a-4c34-f3ed-a22eff1d060f"
      },
      "execution_count": 81,
      "outputs": [
        {
          "output_type": "stream",
          "name": "stdout",
          "text": [
            "              precision    recall  f1-score   support\n",
            "\n",
            "           0       0.00      0.00      0.00         5\n",
            "           1       0.00      0.00      0.00         6\n",
            "           2       0.00      0.00      0.00        17\n",
            "           3       0.00      0.00      0.00        31\n",
            "           4       0.00      0.00      0.00        10\n",
            "           5       0.00      0.00      0.00        18\n",
            "           6       0.00      0.00      0.00        19\n",
            "           7       0.00      0.00      0.00        39\n",
            "           8       0.00      0.00      0.00         8\n",
            "           9       0.00      0.00      0.00       118\n",
            "          10       0.00      0.00      0.00         6\n",
            "          11       0.00      0.00      0.00        21\n",
            "          12       0.00      0.00      0.00        18\n",
            "          13       0.16      1.00      0.28        81\n",
            "          14       0.00      0.00      0.00         8\n",
            "          15       0.00      0.00      0.00         5\n",
            "          16       0.00      0.00      0.00        53\n",
            "          17       0.00      0.00      0.00        11\n",
            "          18       0.00      0.00      0.00        17\n",
            "          19       0.00      0.00      0.00         9\n",
            "\n",
            "    accuracy                           0.16       500\n",
            "   macro avg       0.01      0.05      0.01       500\n",
            "weighted avg       0.03      0.16      0.05       500\n",
            "\n"
          ]
        },
        {
          "output_type": "stream",
          "name": "stderr",
          "text": [
            "/usr/local/lib/python3.7/dist-packages/sklearn/metrics/_classification.py:1318: UndefinedMetricWarning: Precision and F-score are ill-defined and being set to 0.0 in labels with no predicted samples. Use `zero_division` parameter to control this behavior.\n",
            "  _warn_prf(average, modifier, msg_start, len(result))\n",
            "/usr/local/lib/python3.7/dist-packages/sklearn/metrics/_classification.py:1318: UndefinedMetricWarning: Precision and F-score are ill-defined and being set to 0.0 in labels with no predicted samples. Use `zero_division` parameter to control this behavior.\n",
            "  _warn_prf(average, modifier, msg_start, len(result))\n",
            "/usr/local/lib/python3.7/dist-packages/sklearn/metrics/_classification.py:1318: UndefinedMetricWarning: Precision and F-score are ill-defined and being set to 0.0 in labels with no predicted samples. Use `zero_division` parameter to control this behavior.\n",
            "  _warn_prf(average, modifier, msg_start, len(result))\n"
          ]
        }
      ]
    },
    {
      "cell_type": "markdown",
      "source": [
        "Indian Food Data"
      ],
      "metadata": {
        "id": "azBlKGkjE_dm"
      }
    },
    {
      "cell_type": "code",
      "source": [
        "X_train_word2vec_indian = np.array([np.array(val) for val in X_train_word2vec_indian])\n",
        "X_valid_word2vec_indian = np.array([np.array(val) for val in X_valid_word2vec_indian])"
      ],
      "metadata": {
        "id": "kkhN4ARkFPid"
      },
      "execution_count": 82,
      "outputs": []
    },
    {
      "cell_type": "code",
      "source": [
        "model_CNN = CNNHyperModel(vocab_size_indian, 300, 2)"
      ],
      "metadata": {
        "id": "O7urF2-NZ0l9"
      },
      "execution_count": 83,
      "outputs": []
    },
    {
      "cell_type": "code",
      "source": [
        "tuner = kt.Hyperband(\n",
        "    model_CNN,\n",
        "    objective='val_accuracy',\n",
        "    max_epochs=30,\n",
        "    hyperband_iterations=2, \n",
        "    overwrite=True)"
      ],
      "metadata": {
        "id": "aCK2QTs6Y6ao"
      },
      "execution_count": 84,
      "outputs": []
    },
    {
      "cell_type": "code",
      "source": [
        "tuner.search(X_train_word2vec_indian,y_train_indian,validation_data=(X_valid_word2vec_indian,y_valid_indian) , epochs=10)"
      ],
      "metadata": {
        "id": "LZ-PxtiBY946",
        "colab": {
          "base_uri": "https://localhost:8080/"
        },
        "outputId": "585fb1d9-fedb-4415-a2d3-59fe6277c2d7"
      },
      "execution_count": 85,
      "outputs": [
        {
          "output_type": "stream",
          "name": "stdout",
          "text": [
            "Trial 65 Complete [00h 00m 01s]\n",
            "val_accuracy: 0.890625\n",
            "\n",
            "Best val_accuracy So Far: 0.890625\n",
            "Total elapsed time: 00h 01m 25s\n"
          ]
        }
      ]
    },
    {
      "cell_type": "code",
      "source": [
        "bestHP = tuner.get_best_hyperparameters()[0]\n",
        "print(\"[INFO] optimal number of filters in conv_1 layer: {}\".format(bestHP.get(\"conv_1\")))\n",
        "print(\"[INFO] optimal number of units in dense layer: {}\".format(bestHP.get(\"dense_units\")))\n",
        "print(\"[INFO] optimal number of units in dense layer 2: {}\".format(bestHP.get(\"dense_units2\")))\n",
        "print(\"[INFO] optimal learning rate: {}\".format(bestHP.get(\"learning_rt\")))"
      ],
      "metadata": {
        "id": "_6qJFqchGznO",
        "colab": {
          "base_uri": "https://localhost:8080/"
        },
        "outputId": "1a5fae63-6c9d-461c-b54f-bd2de661dfe5"
      },
      "execution_count": 86,
      "outputs": [
        {
          "output_type": "stream",
          "name": "stdout",
          "text": [
            "[INFO] optimal number of filters in conv_1 layer: 64\n",
            "[INFO] optimal number of units in dense layer: 64\n",
            "[INFO] optimal number of units in dense layer 2: 32\n",
            "[INFO] optimal learning rate: 0.001\n"
          ]
        }
      ]
    },
    {
      "cell_type": "code",
      "source": [
        "model_indian = tuner.get_best_models()[0]"
      ],
      "metadata": {
        "id": "XLTtMrk9ZCSI"
      },
      "execution_count": 87,
      "outputs": []
    },
    {
      "cell_type": "code",
      "source": [
        "history_fine = model_indian.fit(X_train_word2vec_indian,y_train_indian,validation_data=(X_valid_word2vec_indian,y_valid_indian) , epochs=20)"
      ],
      "metadata": {
        "id": "fOMq35H_EzkK",
        "colab": {
          "base_uri": "https://localhost:8080/"
        },
        "outputId": "46a06f61-9081-45f2-c157-368532a04515"
      },
      "execution_count": 88,
      "outputs": [
        {
          "output_type": "stream",
          "name": "stdout",
          "text": [
            "Epoch 1/20\n",
            "7/7 [==============================] - 1s 34ms/step - loss: 0.6816 - accuracy: 0.8824 - val_loss: 0.6789 - val_accuracy: 0.8906\n",
            "Epoch 2/20\n",
            "7/7 [==============================] - 0s 8ms/step - loss: 0.6776 - accuracy: 0.8824 - val_loss: 0.6749 - val_accuracy: 0.8906\n",
            "Epoch 3/20\n",
            "7/7 [==============================] - 0s 9ms/step - loss: 0.6738 - accuracy: 0.8824 - val_loss: 0.6710 - val_accuracy: 0.8906\n",
            "Epoch 4/20\n",
            "7/7 [==============================] - 0s 9ms/step - loss: 0.6700 - accuracy: 0.8824 - val_loss: 0.6673 - val_accuracy: 0.8906\n",
            "Epoch 5/20\n",
            "7/7 [==============================] - 0s 10ms/step - loss: 0.6664 - accuracy: 0.8824 - val_loss: 0.6633 - val_accuracy: 0.8906\n",
            "Epoch 6/20\n",
            "7/7 [==============================] - 0s 10ms/step - loss: 0.6625 - accuracy: 0.8824 - val_loss: 0.6595 - val_accuracy: 0.8906\n",
            "Epoch 7/20\n",
            "7/7 [==============================] - 0s 10ms/step - loss: 0.6588 - accuracy: 0.8824 - val_loss: 0.6559 - val_accuracy: 0.8906\n",
            "Epoch 8/20\n",
            "7/7 [==============================] - 0s 10ms/step - loss: 0.6553 - accuracy: 0.8824 - val_loss: 0.6522 - val_accuracy: 0.8906\n",
            "Epoch 9/20\n",
            "7/7 [==============================] - 0s 9ms/step - loss: 0.6517 - accuracy: 0.8824 - val_loss: 0.6487 - val_accuracy: 0.8906\n",
            "Epoch 10/20\n",
            "7/7 [==============================] - 0s 10ms/step - loss: 0.6484 - accuracy: 0.8824 - val_loss: 0.6453 - val_accuracy: 0.8906\n",
            "Epoch 11/20\n",
            "7/7 [==============================] - 0s 8ms/step - loss: 0.6450 - accuracy: 0.8824 - val_loss: 0.6419 - val_accuracy: 0.8906\n",
            "Epoch 12/20\n",
            "7/7 [==============================] - 0s 11ms/step - loss: 0.6418 - accuracy: 0.8824 - val_loss: 0.6386 - val_accuracy: 0.8906\n",
            "Epoch 13/20\n",
            "7/7 [==============================] - 0s 9ms/step - loss: 0.6384 - accuracy: 0.8824 - val_loss: 0.6347 - val_accuracy: 0.8906\n",
            "Epoch 14/20\n",
            "7/7 [==============================] - 0s 9ms/step - loss: 0.6347 - accuracy: 0.8824 - val_loss: 0.6313 - val_accuracy: 0.8906\n",
            "Epoch 15/20\n",
            "7/7 [==============================] - 0s 11ms/step - loss: 0.6313 - accuracy: 0.8824 - val_loss: 0.6276 - val_accuracy: 0.8906\n",
            "Epoch 16/20\n",
            "7/7 [==============================] - 0s 9ms/step - loss: 0.6277 - accuracy: 0.8824 - val_loss: 0.6239 - val_accuracy: 0.8906\n",
            "Epoch 17/20\n",
            "7/7 [==============================] - 0s 9ms/step - loss: 0.6241 - accuracy: 0.8824 - val_loss: 0.6203 - val_accuracy: 0.8906\n",
            "Epoch 18/20\n",
            "7/7 [==============================] - 0s 9ms/step - loss: 0.6206 - accuracy: 0.8824 - val_loss: 0.6168 - val_accuracy: 0.8906\n",
            "Epoch 19/20\n",
            "7/7 [==============================] - 0s 9ms/step - loss: 0.6173 - accuracy: 0.8824 - val_loss: 0.6135 - val_accuracy: 0.8906\n",
            "Epoch 20/20\n",
            "7/7 [==============================] - 0s 10ms/step - loss: 0.6140 - accuracy: 0.8824 - val_loss: 0.6101 - val_accuracy: 0.8906\n"
          ]
        }
      ]
    },
    {
      "cell_type": "code",
      "source": [
        "plt.plot(history_fine.history['loss'])\n",
        "plt.plot(history_fine.history['val_loss'])\n",
        "plt.title('model loss')\n",
        "plt.ylabel('loss')\n",
        "plt.xlabel('epoch')\n",
        "plt.legend(['training set','validation set'], loc='upper left')\n",
        "plt.show()"
      ],
      "metadata": {
        "id": "NZJ9eAZHitd8",
        "colab": {
          "base_uri": "https://localhost:8080/",
          "height": 295
        },
        "outputId": "5fc57863-4953-4b73-dcb2-5b9781f8a6b0"
      },
      "execution_count": 89,
      "outputs": [
        {
          "output_type": "display_data",
          "data": {
            "text/plain": [
              "<Figure size 432x288 with 1 Axes>"
            ],
            "image/png": "[encoded data removed]"
          },
          "metadata": {
            "needs_background": "light"
          }
        }
      ]
    },
    {
      "cell_type": "code",
      "source": [
        "plt.plot(history_fine.history['accuracy'])\n",
        "plt.plot(history_fine.history['val_accuracy'])\n",
        "plt.title('model accuracy')\n",
        "plt.ylabel('accuracy')\n",
        "plt.xlabel('epoch')\n",
        "plt.legend(['training set','validation set'], loc='upper left')\n",
        "plt.show()"
      ],
      "metadata": {
        "id": "vZIyF9Xzitd8",
        "colab": {
          "base_uri": "https://localhost:8080/",
          "height": 295
        },
        "outputId": "4fd53590-1b09-4d68-e380-c1271c55b2df"
      },
      "execution_count": 90,
      "outputs": [
        {
          "output_type": "display_data",
          "data": {
            "text/plain": [
              "<Figure size 432x288 with 1 Axes>"
            ],
            "image/png": "[encoded data removed]"
          },
          "metadata": {
            "needs_background": "light"
          }
        }
      ]
    },
    {
      "cell_type": "code",
      "source": [
        "y_prob = model_indian.predict(X_test_word2vec_indian)\n",
        "y_pred = np.argmax(y_prob,axis=1)\n",
        "print(classification_report(y_test_int_indian,y_pred))"
      ],
      "metadata": {
        "id": "yYGWgZ4Witd9",
        "colab": {
          "base_uri": "https://localhost:8080/"
        },
        "outputId": "3b08c3a5-e397-4c3f-f8fd-d5d1d36d85aa"
      },
      "execution_count": 91,
      "outputs": [
        {
          "output_type": "stream",
          "name": "stdout",
          "text": [
            "              precision    recall  f1-score   support\n",
            "\n",
            "           0       0.00      0.00      0.00        15\n",
            "           1       0.88      1.00      0.94       112\n",
            "\n",
            "    accuracy                           0.88       127\n",
            "   macro avg       0.44      0.50      0.47       127\n",
            "weighted avg       0.78      0.88      0.83       127\n",
            "\n"
          ]
        },
        {
          "output_type": "stream",
          "name": "stderr",
          "text": [
            "/usr/local/lib/python3.7/dist-packages/sklearn/metrics/_classification.py:1318: UndefinedMetricWarning: Precision and F-score are ill-defined and being set to 0.0 in labels with no predicted samples. Use `zero_division` parameter to control this behavior.\n",
            "  _warn_prf(average, modifier, msg_start, len(result))\n",
            "/usr/local/lib/python3.7/dist-packages/sklearn/metrics/_classification.py:1318: UndefinedMetricWarning: Precision and F-score are ill-defined and being set to 0.0 in labels with no predicted samples. Use `zero_division` parameter to control this behavior.\n",
            "  _warn_prf(average, modifier, msg_start, len(result))\n",
            "/usr/local/lib/python3.7/dist-packages/sklearn/metrics/_classification.py:1318: UndefinedMetricWarning: Precision and F-score are ill-defined and being set to 0.0 in labels with no predicted samples. Use `zero_division` parameter to control this behavior.\n",
            "  _warn_prf(average, modifier, msg_start, len(result))\n"
          ]
        }
      ]
    },
    {
      "cell_type": "markdown",
      "source": [
        "### BERT"
      ],
      "metadata": {
        "id": "OG2Y4LNjIdDV"
      }
    },
    {
      "cell_type": "markdown",
      "source": [
        "Cuisine Classification Data"
      ],
      "metadata": {
        "id": "Hj2T0IxvIdDW"
      }
    },
    {
      "cell_type": "code",
      "source": [
        "model_CNN = CNNHyperModel(vocab_size_cuisine, 768, 20)"
      ],
      "metadata": {
        "id": "QREqZ_kUIdDW"
      },
      "execution_count": 92,
      "outputs": []
    },
    {
      "cell_type": "code",
      "source": [
        "tuner = kt.Hyperband(\n",
        "    model_CNN,\n",
        "    objective='val_accuracy',\n",
        "    max_epochs=30,\n",
        "    hyperband_iterations=2, \n",
        "    overwrite=True)"
      ],
      "metadata": {
        "id": "RLH8OIjAIdDW"
      },
      "execution_count": 93,
      "outputs": []
    },
    {
      "cell_type": "code",
      "source": [
        "tuner.search(X_train_bert_cuisine,y_train_cuisine,validation_data=(X_valid_bert_cuisine,y_valid_cuisine), epochs=10)"
      ],
      "metadata": {
        "id": "Ee0zyx48IdDW",
        "colab": {
          "base_uri": "https://localhost:8080/"
        },
        "outputId": "e7b7d978-05aa-4b60-db75-c442890362e3"
      },
      "execution_count": 94,
      "outputs": [
        {
          "output_type": "stream",
          "name": "stdout",
          "text": [
            "Trial 64 Complete [00h 00m 02s]\n",
            "val_accuracy: 0.1860000044107437\n",
            "\n",
            "Best val_accuracy So Far: 0.19200000166893005\n",
            "Total elapsed time: 00h 01m 53s\n"
          ]
        }
      ]
    },
    {
      "cell_type": "code",
      "source": [
        "bestHP = tuner.get_best_hyperparameters()[0]\n",
        "print(\"[INFO] optimal number of filters in conv_1 layer: {}\".format(bestHP.get(\"conv_1\")))\n",
        "print(\"[INFO] optimal number of units in dense layer: {}\".format(bestHP.get(\"dense_units\")))\n",
        "print(\"[INFO] optimal number of units in dense layer 2: {}\".format(bestHP.get(\"dense_units2\")))\n",
        "print(\"[INFO] optimal learning rate: {}\".format(bestHP.get(\"learning_rt\")))"
      ],
      "metadata": {
        "id": "yqgt1edjIdDW",
        "colab": {
          "base_uri": "https://localhost:8080/"
        },
        "outputId": "c652ba2e-9905-48b1-e7af-bdcb5e5f1c27"
      },
      "execution_count": 95,
      "outputs": [
        {
          "output_type": "stream",
          "name": "stdout",
          "text": [
            "[INFO] optimal number of filters in conv_1 layer: 64\n",
            "[INFO] optimal number of units in dense layer: 256\n",
            "[INFO] optimal number of units in dense layer 2: 16\n",
            "[INFO] optimal learning rate: 0.001\n"
          ]
        }
      ]
    },
    {
      "cell_type": "code",
      "source": [
        "model_cuisine = tuner.get_best_models()[0]"
      ],
      "metadata": {
        "id": "9MGLRze3IdDW"
      },
      "execution_count": 96,
      "outputs": []
    },
    {
      "cell_type": "code",
      "source": [
        "history_fine = model_cuisine.fit(X_train_bert_cuisine,y_train_cuisine,validation_data=(X_valid_bert_cuisine,y_valid_cuisine), epochs=10)"
      ],
      "metadata": {
        "id": "Px7PCWTXIdDX",
        "colab": {
          "base_uri": "https://localhost:8080/"
        },
        "outputId": "de0ce26c-4557-45f3-de92-4a82dd223450"
      },
      "execution_count": 97,
      "outputs": [
        {
          "output_type": "stream",
          "name": "stdout",
          "text": [
            "Epoch 1/10\n",
            "25/25 [==============================] - 1s 16ms/step - loss: 2.9923 - accuracy: 0.1800 - val_loss: 2.9913 - val_accuracy: 0.1920\n",
            "Epoch 2/10\n",
            "25/25 [==============================] - 0s 9ms/step - loss: 2.9902 - accuracy: 0.1800 - val_loss: 2.9893 - val_accuracy: 0.1920\n",
            "Epoch 3/10\n",
            "25/25 [==============================] - 0s 8ms/step - loss: 2.9883 - accuracy: 0.1800 - val_loss: 2.9874 - val_accuracy: 0.1920\n",
            "Epoch 4/10\n",
            "25/25 [==============================] - 0s 8ms/step - loss: 2.9864 - accuracy: 0.1800 - val_loss: 2.9856 - val_accuracy: 0.1920\n",
            "Epoch 5/10\n",
            "25/25 [==============================] - 0s 8ms/step - loss: 2.9845 - accuracy: 0.1800 - val_loss: 2.9837 - val_accuracy: 0.1920\n",
            "Epoch 6/10\n",
            "25/25 [==============================] - 0s 7ms/step - loss: 2.9826 - accuracy: 0.1800 - val_loss: 2.9819 - val_accuracy: 0.1920\n",
            "Epoch 7/10\n",
            "25/25 [==============================] - 0s 7ms/step - loss: 2.9807 - accuracy: 0.1800 - val_loss: 2.9800 - val_accuracy: 0.1920\n",
            "Epoch 8/10\n",
            "25/25 [==============================] - 0s 7ms/step - loss: 2.9788 - accuracy: 0.1800 - val_loss: 2.9782 - val_accuracy: 0.1920\n",
            "Epoch 9/10\n",
            "25/25 [==============================] - 0s 8ms/step - loss: 2.9770 - accuracy: 0.1800 - val_loss: 2.9764 - val_accuracy: 0.1920\n",
            "Epoch 10/10\n",
            "25/25 [==============================] - 0s 8ms/step - loss: 2.9752 - accuracy: 0.1800 - val_loss: 2.9747 - val_accuracy: 0.1920\n"
          ]
        }
      ]
    },
    {
      "cell_type": "code",
      "source": [
        "plt.plot(history_fine.history['loss'])\n",
        "plt.plot(history_fine.history['val_loss'])\n",
        "plt.title('model loss')\n",
        "plt.ylabel('loss')\n",
        "plt.xlabel('epoch')\n",
        "plt.legend(['training set','validation set'], loc='upper left')\n",
        "plt.show()"
      ],
      "metadata": {
        "id": "PRskWQMdiEU-",
        "colab": {
          "base_uri": "https://localhost:8080/",
          "height": 295
        },
        "outputId": "9e711ba6-4163-43d0-c1dd-fa2484d0d7de"
      },
      "execution_count": 98,
      "outputs": [
        {
          "output_type": "display_data",
          "data": {
            "text/plain": [
              "<Figure size 432x288 with 1 Axes>"
            ],
            "image/png": "[encoded data removed]"
          },
          "metadata": {
            "needs_background": "light"
          }
        }
      ]
    },
    {
      "cell_type": "code",
      "source": [
        "plt.plot(history_fine.history['accuracy'])\n",
        "plt.plot(history_fine.history['val_accuracy'])\n",
        "plt.title('model accuracy')\n",
        "plt.ylabel('accuracy')\n",
        "plt.xlabel('epoch')\n",
        "plt.legend(['training set','validation set'], loc='upper left')\n",
        "plt.show()"
      ],
      "metadata": {
        "id": "jzyfgANwiEU-",
        "colab": {
          "base_uri": "https://localhost:8080/",
          "height": 295
        },
        "outputId": "1d88f639-971e-41a7-e3b4-b7464a603e5a"
      },
      "execution_count": 99,
      "outputs": [
        {
          "output_type": "display_data",
          "data": {
            "text/plain": [
              "<Figure size 432x288 with 1 Axes>"
            ],
            "image/png": "[encoded data removed]"
          },
          "metadata": {
            "needs_background": "light"
          }
        }
      ]
    },
    {
      "cell_type": "code",
      "source": [
        "y_prob = model_cuisine.predict(X_test_bert_cuisine)\n",
        "y_pred = np.argmax(y_prob,axis=1)\n",
        "print(classification_report(y_test_int_cuisine,y_pred))"
      ],
      "metadata": {
        "id": "oaqSxeBriEU-",
        "colab": {
          "base_uri": "https://localhost:8080/"
        },
        "outputId": "0a51ac27-cccd-49fd-91a4-ff9d994f9ccc"
      },
      "execution_count": 100,
      "outputs": [
        {
          "output_type": "stream",
          "name": "stdout",
          "text": [
            "              precision    recall  f1-score   support\n",
            "\n",
            "           0       0.00      0.00      0.00         5\n",
            "           1       0.00      0.00      0.00         6\n",
            "           2       0.00      0.00      0.00        17\n",
            "           3       0.00      0.00      0.00        31\n",
            "           4       0.00      0.00      0.00        10\n",
            "           5       0.00      0.00      0.00        18\n",
            "           6       0.00      0.00      0.00        19\n",
            "           7       0.00      0.00      0.00        39\n",
            "           8       0.00      0.00      0.00         8\n",
            "           9       0.00      0.00      0.00       118\n",
            "          10       0.00      0.00      0.00         6\n",
            "          11       0.00      0.00      0.00        21\n",
            "          12       0.00      0.00      0.00        18\n",
            "          13       0.16      1.00      0.28        81\n",
            "          14       0.00      0.00      0.00         8\n",
            "          15       0.00      0.00      0.00         5\n",
            "          16       0.00      0.00      0.00        53\n",
            "          17       0.00      0.00      0.00        11\n",
            "          18       0.00      0.00      0.00        17\n",
            "          19       0.00      0.00      0.00         9\n",
            "\n",
            "    accuracy                           0.16       500\n",
            "   macro avg       0.01      0.05      0.01       500\n",
            "weighted avg       0.03      0.16      0.05       500\n",
            "\n"
          ]
        },
        {
          "output_type": "stream",
          "name": "stderr",
          "text": [
            "/usr/local/lib/python3.7/dist-packages/sklearn/metrics/_classification.py:1318: UndefinedMetricWarning: Precision and F-score are ill-defined and being set to 0.0 in labels with no predicted samples. Use `zero_division` parameter to control this behavior.\n",
            "  _warn_prf(average, modifier, msg_start, len(result))\n",
            "/usr/local/lib/python3.7/dist-packages/sklearn/metrics/_classification.py:1318: UndefinedMetricWarning: Precision and F-score are ill-defined and being set to 0.0 in labels with no predicted samples. Use `zero_division` parameter to control this behavior.\n",
            "  _warn_prf(average, modifier, msg_start, len(result))\n",
            "/usr/local/lib/python3.7/dist-packages/sklearn/metrics/_classification.py:1318: UndefinedMetricWarning: Precision and F-score are ill-defined and being set to 0.0 in labels with no predicted samples. Use `zero_division` parameter to control this behavior.\n",
            "  _warn_prf(average, modifier, msg_start, len(result))\n"
          ]
        }
      ]
    },
    {
      "cell_type": "markdown",
      "source": [
        "Indian Food Data"
      ],
      "metadata": {
        "id": "ATn_V3u5IdDX"
      }
    },
    {
      "cell_type": "code",
      "source": [
        "model_CNN = CNNHyperModel(vocab_size_indian, 768, 2)"
      ],
      "metadata": {
        "id": "fthl1u6HIdDX"
      },
      "execution_count": 101,
      "outputs": []
    },
    {
      "cell_type": "code",
      "source": [
        "tuner = kt.Hyperband(\n",
        "    model_CNN,\n",
        "    objective='val_accuracy',\n",
        "    max_epochs=30,\n",
        "    hyperband_iterations=2, \n",
        "    overwrite=True)"
      ],
      "metadata": {
        "id": "LHa4gLtlIdDX"
      },
      "execution_count": 102,
      "outputs": []
    },
    {
      "cell_type": "code",
      "source": [
        "tuner.search(X_train_bert_indian,y_train_indian,validation_data=(X_valid_bert_indian,y_valid_indian), epochs=10)"
      ],
      "metadata": {
        "id": "hrCBi7AdIdDX",
        "colab": {
          "base_uri": "https://localhost:8080/"
        },
        "outputId": "fc90ad24-759b-49e4-fab9-21e1f8e33104"
      },
      "execution_count": 103,
      "outputs": [
        {
          "output_type": "stream",
          "name": "stdout",
          "text": [
            "Trial 66 Complete [00h 00m 01s]\n",
            "val_accuracy: 0.890625\n",
            "\n",
            "Best val_accuracy So Far: 0.890625\n",
            "Total elapsed time: 00h 01m 29s\n"
          ]
        }
      ]
    },
    {
      "cell_type": "code",
      "source": [
        "bestHP = tuner.get_best_hyperparameters()[0]\n",
        "print(\"[INFO] optimal number of filters in conv_1 layer: {}\".format(bestHP.get(\"conv_1\")))\n",
        "print(\"[INFO] optimal number of units in dense layer: {}\".format(bestHP.get(\"dense_units\")))\n",
        "print(\"[INFO] optimal number of units in dense layer 2: {}\".format(bestHP.get(\"dense_units2\")))\n",
        "print(\"[INFO] optimal learning rate: {}\".format(bestHP.get(\"learning_rt\")))"
      ],
      "metadata": {
        "id": "CRGkbhLeIdDX",
        "colab": {
          "base_uri": "https://localhost:8080/"
        },
        "outputId": "27870a12-e5d7-45ae-c504-f8c289b71011"
      },
      "execution_count": 104,
      "outputs": [
        {
          "output_type": "stream",
          "name": "stdout",
          "text": [
            "[INFO] optimal number of filters in conv_1 layer: 64\n",
            "[INFO] optimal number of units in dense layer: 256\n",
            "[INFO] optimal number of units in dense layer 2: 32\n",
            "[INFO] optimal learning rate: 0.001\n"
          ]
        }
      ]
    },
    {
      "cell_type": "code",
      "source": [
        "model_indian = tuner.get_best_models()[0]"
      ],
      "metadata": {
        "id": "kZlF6zWBIdDX"
      },
      "execution_count": 105,
      "outputs": []
    },
    {
      "cell_type": "code",
      "source": [
        "history_fine = model_indian.fit(X_train_bert_indian,y_train_indian,validation_data=(X_valid_bert_indian,y_valid_indian), epochs=10)"
      ],
      "metadata": {
        "id": "Tsf0inojIdDY",
        "colab": {
          "base_uri": "https://localhost:8080/"
        },
        "outputId": "dca8b12f-3a65-4b7f-b7f6-ee520626f2e1"
      },
      "execution_count": 106,
      "outputs": [
        {
          "output_type": "stream",
          "name": "stdout",
          "text": [
            "Epoch 1/10\n",
            "7/7 [==============================] - 1s 36ms/step - loss: 0.6846 - accuracy: 0.8824 - val_loss: 0.6817 - val_accuracy: 0.8906\n",
            "Epoch 2/10\n",
            "7/7 [==============================] - 0s 13ms/step - loss: 0.6804 - accuracy: 0.8824 - val_loss: 0.6774 - val_accuracy: 0.8906\n",
            "Epoch 3/10\n",
            "7/7 [==============================] - 0s 13ms/step - loss: 0.6762 - accuracy: 0.8824 - val_loss: 0.6732 - val_accuracy: 0.8906\n",
            "Epoch 4/10\n",
            "7/7 [==============================] - 0s 11ms/step - loss: 0.6722 - accuracy: 0.8824 - val_loss: 0.6695 - val_accuracy: 0.8906\n",
            "Epoch 5/10\n",
            "7/7 [==============================] - 0s 13ms/step - loss: 0.6686 - accuracy: 0.8824 - val_loss: 0.6657 - val_accuracy: 0.8906\n",
            "Epoch 6/10\n",
            "7/7 [==============================] - 0s 14ms/step - loss: 0.6649 - accuracy: 0.8824 - val_loss: 0.6622 - val_accuracy: 0.8906\n",
            "Epoch 7/10\n",
            "7/7 [==============================] - 0s 11ms/step - loss: 0.6616 - accuracy: 0.8824 - val_loss: 0.6589 - val_accuracy: 0.8906\n",
            "Epoch 8/10\n",
            "7/7 [==============================] - 0s 11ms/step - loss: 0.6583 - accuracy: 0.8824 - val_loss: 0.6554 - val_accuracy: 0.8906\n",
            "Epoch 9/10\n",
            "7/7 [==============================] - 0s 13ms/step - loss: 0.6549 - accuracy: 0.8824 - val_loss: 0.6520 - val_accuracy: 0.8906\n",
            "Epoch 10/10\n",
            "7/7 [==============================] - 0s 13ms/step - loss: 0.6516 - accuracy: 0.8824 - val_loss: 0.6486 - val_accuracy: 0.8906\n"
          ]
        }
      ]
    },
    {
      "cell_type": "code",
      "source": [
        "plt.plot(history_fine.history['loss'])\n",
        "plt.plot(history_fine.history['val_loss'])\n",
        "plt.title('model loss')\n",
        "plt.ylabel('loss')\n",
        "plt.xlabel('epoch')\n",
        "plt.legend(['training set','validation set'], loc='upper left')\n",
        "plt.show()"
      ],
      "metadata": {
        "id": "S4Sqj9b9iMkP",
        "colab": {
          "base_uri": "https://localhost:8080/",
          "height": 295
        },
        "outputId": "24fbdfcd-456e-43a5-d1b1-b82e36d97492"
      },
      "execution_count": 107,
      "outputs": [
        {
          "output_type": "display_data",
          "data": {
            "text/plain": [
              "<Figure size 432x288 with 1 Axes>"
            ],
            "image/png": "[encoded data removed]"
          },
          "metadata": {
            "needs_background": "light"
          }
        }
      ]
    },
    {
      "cell_type": "code",
      "source": [
        "plt.plot(history_fine.history['accuracy'])\n",
        "plt.plot(history_fine.history['val_accuracy'])\n",
        "plt.title('model accuracy')\n",
        "plt.ylabel('accuracy')\n",
        "plt.xlabel('epoch')\n",
        "plt.legend(['training set','validation set'], loc='upper left')\n",
        "plt.show()"
      ],
      "metadata": {
        "id": "BY-P4xnbiMkQ",
        "colab": {
          "base_uri": "https://localhost:8080/",
          "height": 295
        },
        "outputId": "2bd8edb2-85ba-4add-d31e-8405838b1999"
      },
      "execution_count": 108,
      "outputs": [
        {
          "output_type": "display_data",
          "data": {
            "text/plain": [
              "<Figure size 432x288 with 1 Axes>"
            ],
            "image/png": "[encoded data removed]"
          },
          "metadata": {
            "needs_background": "light"
          }
        }
      ]
    },
    {
      "cell_type": "code",
      "source": [
        "y_prob = model_indian.predict(X_test_bert_indian)\n",
        "y_pred = np.argmax(y_prob,axis=1)\n",
        "print(classification_report(y_test_int_indian,y_pred))"
      ],
      "metadata": {
        "id": "K2dGKIsJiMkQ",
        "colab": {
          "base_uri": "https://localhost:8080/"
        },
        "outputId": "1972bc77-9264-4644-ac68-107525ca4bf1"
      },
      "execution_count": 109,
      "outputs": [
        {
          "output_type": "stream",
          "name": "stdout",
          "text": [
            "              precision    recall  f1-score   support\n",
            "\n",
            "           0       0.00      0.00      0.00        15\n",
            "           1       0.88      1.00      0.94       112\n",
            "\n",
            "    accuracy                           0.88       127\n",
            "   macro avg       0.44      0.50      0.47       127\n",
            "weighted avg       0.78      0.88      0.83       127\n",
            "\n"
          ]
        },
        {
          "output_type": "stream",
          "name": "stderr",
          "text": [
            "/usr/local/lib/python3.7/dist-packages/sklearn/metrics/_classification.py:1318: UndefinedMetricWarning: Precision and F-score are ill-defined and being set to 0.0 in labels with no predicted samples. Use `zero_division` parameter to control this behavior.\n",
            "  _warn_prf(average, modifier, msg_start, len(result))\n",
            "/usr/local/lib/python3.7/dist-packages/sklearn/metrics/_classification.py:1318: UndefinedMetricWarning: Precision and F-score are ill-defined and being set to 0.0 in labels with no predicted samples. Use `zero_division` parameter to control this behavior.\n",
            "  _warn_prf(average, modifier, msg_start, len(result))\n",
            "/usr/local/lib/python3.7/dist-packages/sklearn/metrics/_classification.py:1318: UndefinedMetricWarning: Precision and F-score are ill-defined and being set to 0.0 in labels with no predicted samples. Use `zero_division` parameter to control this behavior.\n",
            "  _warn_prf(average, modifier, msg_start, len(result))\n"
          ]
        }
      ]
    },
    {
      "cell_type": "markdown",
      "source": [
        "## RNN"
      ],
      "metadata": {
        "id": "m2dE6z37FcqB"
      }
    },
    {
      "cell_type": "code",
      "source": [
        "from keras_tuner import HyperModel\n",
        "\n",
        "class RNNHyperModel(HyperModel):\n",
        "    def __init__(self, vocab_size, max_length, output):\n",
        "        self.vocab_size = vocab_size\n",
        "        self.max_length = max_length\n",
        "        self.output = output\n",
        "\n",
        "    def build(self, hp):\n",
        "        model = keras.Sequential()\n",
        "        model = Sequential()\n",
        "        model.add(Embedding(self.vocab_size, output_dim = 32, input_length=self.max_length))\n",
        "        model.add(SimpleRNN(hp.Choice(\"rnn1\", [64,128]), activation='relu'))\n",
        "        model.add(Dropout(0.5))\n",
        "        model.add(Dense(hp.Choice(\"dense_units\", [32, 64]), activation='relu'))\n",
        "        model.add(Dropout(0.5))\n",
        "        model.add(Dense(self.output, activation=\"softmax\"))\n",
        "        sgd = SGD(learning_rate=hp.Choice(\"learning_rt\", [0.001,0.001]))\n",
        "        model.compile(loss=\"categorical_crossentropy\",optimizer=sgd,metrics=['accuracy'])\n",
        "        return model"
      ],
      "metadata": {
        "id": "wrEtSGjAbOSZ"
      },
      "execution_count": 57,
      "outputs": []
    },
    {
      "cell_type": "markdown",
      "source": [
        "### TFIDF"
      ],
      "metadata": {
        "id": "4ZqQeSsFHOKe"
      }
    },
    {
      "cell_type": "markdown",
      "source": [
        "Cuisine Classification Data"
      ],
      "metadata": {
        "id": "ZZu8RmoyHOKf"
      }
    },
    {
      "cell_type": "code",
      "source": [
        "model_RNN = RNNHyperModel(vocab_size_cuisine, vocab_size_cuisine, 20)"
      ],
      "metadata": {
        "id": "erlA3xbeHOKf"
      },
      "execution_count": 58,
      "outputs": []
    },
    {
      "cell_type": "code",
      "source": [
        "tuner = kt.Hyperband(\n",
        "    model_RNN,\n",
        "    objective='val_accuracy',\n",
        "    max_epochs=30,\n",
        "    hyperband_iterations=2, \n",
        "    overwrite=True)"
      ],
      "metadata": {
        "id": "plAkC6WWHOKf"
      },
      "execution_count": 59,
      "outputs": []
    },
    {
      "cell_type": "code",
      "source": [
        "tuner.search(df_tfidf_train_cuisine,y_train_cuisine,validation_data=(df_tfidf_valid_cuisine,y_valid_cuisine), epochs=10)"
      ],
      "metadata": {
        "id": "p-aw0KNkHOKf",
        "colab": {
          "base_uri": "https://localhost:8080/"
        },
        "outputId": "dc7ecae1-816d-476e-bc54-8ccdd334da39"
      },
      "execution_count": 60,
      "outputs": [
        {
          "output_type": "stream",
          "name": "stdout",
          "text": [
            "Trial 4 Complete [00h 00m 22s]\n",
            "val_accuracy: 0.20999999344348907\n",
            "\n",
            "Best val_accuracy So Far: 0.20999999344348907\n",
            "Total elapsed time: 00h 01m 12s\n"
          ]
        }
      ]
    },
    {
      "cell_type": "code",
      "source": [
        "bestHP = tuner.get_best_hyperparameters()[0]\n",
        "print(\"[INFO] optimal number of filters in rnn1 layer: {}\".format(bestHP.get(\"rnn1\")))\n",
        "print(\"[INFO] optimal number of units in dense layer: {}\".format(bestHP.get(\"dense_units\")))\n",
        "print(\"[INFO] optimal learning rate: {}\".format(bestHP.get(\"learning_rt\")))"
      ],
      "metadata": {
        "id": "c3lX_0wgHOKf",
        "colab": {
          "base_uri": "https://localhost:8080/"
        },
        "outputId": "3ba512ec-588f-4aa4-876c-03aa29e27a68"
      },
      "execution_count": 61,
      "outputs": [
        {
          "output_type": "stream",
          "name": "stdout",
          "text": [
            "[INFO] optimal number of filters in rnn1 layer: 64\n",
            "[INFO] optimal number of units in dense layer: 32\n",
            "[INFO] optimal learning rate: 0.001\n"
          ]
        }
      ]
    },
    {
      "cell_type": "code",
      "source": [
        "model_cuisine = tuner.get_best_models()[0]"
      ],
      "metadata": {
        "id": "AcMCX7eZHOKf"
      },
      "execution_count": 62,
      "outputs": []
    },
    {
      "cell_type": "code",
      "source": [
        "history_fine = model_cuisine.fit(df_tfidf_train_cuisine,y_train_cuisine,validation_data=(df_tfidf_valid_cuisine,y_valid_cuisine), epochs=10)"
      ],
      "metadata": {
        "id": "svzBsIGtHOKf",
        "colab": {
          "base_uri": "https://localhost:8080/"
        },
        "outputId": "174a67c2-88e5-4a3d-8c21-6c8ee99ab54d"
      },
      "execution_count": 63,
      "outputs": [
        {
          "output_type": "stream",
          "name": "stdout",
          "text": [
            "Epoch 1/10\n",
            "25/25 [==============================] - 7s 235ms/step - loss: 2.9898 - accuracy: 0.0650 - val_loss: 2.9873 - val_accuracy: 0.2100\n",
            "Epoch 2/10\n",
            "25/25 [==============================] - 6s 224ms/step - loss: 2.9858 - accuracy: 0.0913 - val_loss: 2.9843 - val_accuracy: 0.2100\n",
            "Epoch 3/10\n",
            "25/25 [==============================] - 6s 225ms/step - loss: 2.9805 - accuracy: 0.1175 - val_loss: 2.9811 - val_accuracy: 0.2100\n",
            "Epoch 4/10\n",
            "25/25 [==============================] - 6s 225ms/step - loss: 2.9806 - accuracy: 0.1287 - val_loss: 2.9785 - val_accuracy: 0.2100\n",
            "Epoch 5/10\n",
            "25/25 [==============================] - 6s 248ms/step - loss: 2.9769 - accuracy: 0.1450 - val_loss: 2.9758 - val_accuracy: 0.2100\n",
            "Epoch 6/10\n",
            "25/25 [==============================] - 6s 227ms/step - loss: 2.9747 - accuracy: 0.1612 - val_loss: 2.9730 - val_accuracy: 0.1520\n",
            "Epoch 7/10\n",
            "25/25 [==============================] - 6s 225ms/step - loss: 2.9731 - accuracy: 0.1400 - val_loss: 2.9703 - val_accuracy: 0.1520\n",
            "Epoch 8/10\n",
            "25/25 [==============================] - 6s 225ms/step - loss: 2.9693 - accuracy: 0.1575 - val_loss: 2.9676 - val_accuracy: 0.1520\n",
            "Epoch 9/10\n",
            "25/25 [==============================] - 6s 222ms/step - loss: 2.9670 - accuracy: 0.1850 - val_loss: 2.9649 - val_accuracy: 0.1520\n",
            "Epoch 10/10\n",
            "25/25 [==============================] - 6s 223ms/step - loss: 2.9641 - accuracy: 0.1663 - val_loss: 2.9621 - val_accuracy: 0.1520\n"
          ]
        }
      ]
    },
    {
      "cell_type": "code",
      "source": [
        "plt.plot(history_fine.history['loss'])\n",
        "plt.plot(history_fine.history['val_loss'])\n",
        "plt.title('model loss')\n",
        "plt.ylabel('loss')\n",
        "plt.xlabel('epoch')\n",
        "plt.legend(['training set','validation set'], loc='upper left')\n",
        "plt.show()"
      ],
      "metadata": {
        "id": "sTHoxENHict8",
        "colab": {
          "base_uri": "https://localhost:8080/",
          "height": 295
        },
        "outputId": "b33c2537-fafe-4226-8f20-3f63f55172f2"
      },
      "execution_count": 64,
      "outputs": [
        {
          "output_type": "display_data",
          "data": {
            "text/plain": [
              "<Figure size 432x288 with 1 Axes>"
            ],
            "image/png": "[encoded data removed]"
          },
          "metadata": {
            "needs_background": "light"
          }
        }
      ]
    },
    {
      "cell_type": "code",
      "source": [
        "plt.plot(history_fine.history['accuracy'])\n",
        "plt.plot(history_fine.history['val_accuracy'])\n",
        "plt.title('model accuracy')\n",
        "plt.ylabel('accuracy')\n",
        "plt.xlabel('epoch')\n",
        "plt.legend(['training set','validation set'], loc='upper left')\n",
        "plt.show()"
      ],
      "metadata": {
        "id": "KVxNIICdict9",
        "colab": {
          "base_uri": "https://localhost:8080/",
          "height": 295
        },
        "outputId": "614cb803-8b9b-4c40-a137-14d2d1a8ffa8"
      },
      "execution_count": 65,
      "outputs": [
        {
          "output_type": "display_data",
          "data": {
            "text/plain": [
              "<Figure size 432x288 with 1 Axes>"
            ],
            "image/png": "[encoded data removed]"
          },
          "metadata": {
            "needs_background": "light"
          }
        }
      ]
    },
    {
      "cell_type": "code",
      "source": [
        "y_prob = model_cuisine.predict(df_tfidf_test_cuisine)\n",
        "y_pred = np.argmax(y_prob,axis=1)\n",
        "print(classification_report(y_test_int_cuisine,y_pred))"
      ],
      "metadata": {
        "id": "JSRe3Ykmict9",
        "colab": {
          "base_uri": "https://localhost:8080/"
        },
        "outputId": "2ed5bd4c-cc5f-495e-9423-c5b964bb0b29"
      },
      "execution_count": 66,
      "outputs": [
        {
          "output_type": "stream",
          "name": "stdout",
          "text": [
            "              precision    recall  f1-score   support\n",
            "\n",
            "           0       0.00      0.00      0.00         5\n",
            "           1       0.00      0.00      0.00         9\n",
            "           2       0.00      0.00      0.00        15\n",
            "           3       0.00      0.00      0.00        33\n",
            "           4       0.00      0.00      0.00         7\n",
            "           5       0.00      0.00      0.00        30\n",
            "           6       0.00      0.00      0.00        12\n",
            "           7       0.00      0.00      0.00        37\n",
            "           8       0.00      0.00      0.00        11\n",
            "           9       0.00      0.00      0.00       106\n",
            "          10       0.00      0.00      0.00         7\n",
            "          11       0.00      0.00      0.00        16\n",
            "          12       0.00      0.00      0.00        19\n",
            "          13       0.20      1.00      0.34       101\n",
            "          14       0.00      0.00      0.00         6\n",
            "          15       0.00      0.00      0.00         4\n",
            "          16       0.00      0.00      0.00        44\n",
            "          17       0.00      0.00      0.00        11\n",
            "          18       0.00      0.00      0.00        19\n",
            "          19       0.00      0.00      0.00         8\n",
            "\n",
            "    accuracy                           0.20       500\n",
            "   macro avg       0.01      0.05      0.02       500\n",
            "weighted avg       0.04      0.20      0.07       500\n",
            "\n"
          ]
        },
        {
          "output_type": "stream",
          "name": "stderr",
          "text": [
            "/usr/local/lib/python3.7/dist-packages/sklearn/metrics/_classification.py:1318: UndefinedMetricWarning: Precision and F-score are ill-defined and being set to 0.0 in labels with no predicted samples. Use `zero_division` parameter to control this behavior.\n",
            "  _warn_prf(average, modifier, msg_start, len(result))\n",
            "/usr/local/lib/python3.7/dist-packages/sklearn/metrics/_classification.py:1318: UndefinedMetricWarning: Precision and F-score are ill-defined and being set to 0.0 in labels with no predicted samples. Use `zero_division` parameter to control this behavior.\n",
            "  _warn_prf(average, modifier, msg_start, len(result))\n",
            "/usr/local/lib/python3.7/dist-packages/sklearn/metrics/_classification.py:1318: UndefinedMetricWarning: Precision and F-score are ill-defined and being set to 0.0 in labels with no predicted samples. Use `zero_division` parameter to control this behavior.\n",
            "  _warn_prf(average, modifier, msg_start, len(result))\n"
          ]
        }
      ]
    },
    {
      "cell_type": "markdown",
      "source": [
        "Indian Food Data"
      ],
      "metadata": {
        "id": "onCFkIY5HOKf"
      }
    },
    {
      "cell_type": "code",
      "source": [
        "model_RNN = RNNHyperModel(vocab_size_indian, vocab_size_indian, 2)"
      ],
      "metadata": {
        "id": "dSDCxE47H7hf"
      },
      "execution_count": 70,
      "outputs": []
    },
    {
      "cell_type": "code",
      "source": [
        "tuner = kt.Hyperband(\n",
        "    model_RNN,\n",
        "    objective='val_accuracy',\n",
        "    max_epochs=30,\n",
        "    hyperband_iterations=2, \n",
        "    overwrite=True)"
      ],
      "metadata": {
        "id": "M1nw-lbLH7hf"
      },
      "execution_count": 71,
      "outputs": []
    },
    {
      "cell_type": "code",
      "source": [
        "tuner.search(df_tfidf_train_indian,y_train_indian,validation_data=(df_tfidf_valid_indian,y_valid_indian), epochs=10)"
      ],
      "metadata": {
        "id": "S7r1TdkoH7hf",
        "colab": {
          "base_uri": "https://localhost:8080/"
        },
        "outputId": "50d75193-0e17-4105-f6c0-5223b7c54ba4"
      },
      "execution_count": 72,
      "outputs": [
        {
          "output_type": "stream",
          "name": "stdout",
          "text": [
            "Trial 4 Complete [00h 00m 04s]\n",
            "val_accuracy: 0.1328125\n",
            "\n",
            "Best val_accuracy So Far: 0.8671875\n",
            "Total elapsed time: 00h 00m 12s\n"
          ]
        }
      ]
    },
    {
      "cell_type": "code",
      "source": [
        "bestHP = tuner.get_best_hyperparameters()[0]\n",
        "print(\"[INFO] optimal number of filters in rnn1 layer: {}\".format(bestHP.get(\"rnn1\")))\n",
        "print(\"[INFO] optimal number of units in dense layer: {}\".format(bestHP.get(\"dense_units\")))\n",
        "print(\"[INFO] optimal learning rate: {}\".format(bestHP.get(\"learning_rt\")))"
      ],
      "metadata": {
        "id": "XQ-eVTwxH7hf",
        "colab": {
          "base_uri": "https://localhost:8080/"
        },
        "outputId": "04f5d666-4ec5-4077-e1ee-b9e8e933ecc4"
      },
      "execution_count": 73,
      "outputs": [
        {
          "output_type": "stream",
          "name": "stdout",
          "text": [
            "[INFO] optimal number of filters in rnn1 layer: 64\n",
            "[INFO] optimal number of units in dense layer: 32\n",
            "[INFO] optimal learning rate: 0.001\n"
          ]
        }
      ]
    },
    {
      "cell_type": "code",
      "source": [
        "model_indian = tuner.get_best_models()[0]"
      ],
      "metadata": {
        "id": "QAsSJC4rH7hf"
      },
      "execution_count": 74,
      "outputs": []
    },
    {
      "cell_type": "code",
      "source": [
        "history_fine = model_indian.fit(df_tfidf_train_indian,y_train_indian,validation_data=(df_tfidf_valid_indian,y_valid_indian), epochs=10)"
      ],
      "metadata": {
        "id": "3jCEHu0oH7hf",
        "colab": {
          "base_uri": "https://localhost:8080/"
        },
        "outputId": "c755da9b-2684-4e05-9087-a6a59a0a2bdd"
      },
      "execution_count": 75,
      "outputs": [
        {
          "output_type": "stream",
          "name": "stdout",
          "text": [
            "Epoch 1/10\n",
            "7/7 [==============================] - 3s 200ms/step - loss: 0.6904 - accuracy: 0.5931 - val_loss: 0.6863 - val_accuracy: 0.8672\n",
            "Epoch 2/10\n",
            "7/7 [==============================] - 1s 114ms/step - loss: 0.6850 - accuracy: 0.6912 - val_loss: 0.6807 - val_accuracy: 0.8672\n",
            "Epoch 3/10\n",
            "7/7 [==============================] - 1s 132ms/step - loss: 0.6783 - accuracy: 0.8480 - val_loss: 0.6762 - val_accuracy: 0.8672\n",
            "Epoch 4/10\n",
            "7/7 [==============================] - 1s 122ms/step - loss: 0.6743 - accuracy: 0.8676 - val_loss: 0.6717 - val_accuracy: 0.8672\n",
            "Epoch 5/10\n",
            "7/7 [==============================] - 1s 120ms/step - loss: 0.6710 - accuracy: 0.8873 - val_loss: 0.6658 - val_accuracy: 0.8672\n",
            "Epoch 6/10\n",
            "7/7 [==============================] - 1s 137ms/step - loss: 0.6637 - accuracy: 0.8922 - val_loss: 0.6615 - val_accuracy: 0.8672\n",
            "Epoch 7/10\n",
            "7/7 [==============================] - 1s 127ms/step - loss: 0.6588 - accuracy: 0.8922 - val_loss: 0.6578 - val_accuracy: 0.8672\n",
            "Epoch 8/10\n",
            "7/7 [==============================] - 1s 160ms/step - loss: 0.6562 - accuracy: 0.8922 - val_loss: 0.6543 - val_accuracy: 0.8672\n",
            "Epoch 9/10\n",
            "7/7 [==============================] - 1s 149ms/step - loss: 0.6513 - accuracy: 0.8922 - val_loss: 0.6508 - val_accuracy: 0.8672\n",
            "Epoch 10/10\n",
            "7/7 [==============================] - 0s 64ms/step - loss: 0.6491 - accuracy: 0.8922 - val_loss: 0.6475 - val_accuracy: 0.8672\n"
          ]
        }
      ]
    },
    {
      "cell_type": "code",
      "source": [
        "plt.plot(history_fine.history['loss'])\n",
        "plt.plot(history_fine.history['val_loss'])\n",
        "plt.title('model loss')\n",
        "plt.ylabel('loss')\n",
        "plt.xlabel('epoch')\n",
        "plt.legend(['training set','validation set'], loc='upper left')\n",
        "plt.show()"
      ],
      "metadata": {
        "id": "n4qZ37TYigNl",
        "colab": {
          "base_uri": "https://localhost:8080/",
          "height": 295
        },
        "outputId": "5127fcce-a1a2-4bd9-af0b-58f901477b02"
      },
      "execution_count": 76,
      "outputs": [
        {
          "output_type": "display_data",
          "data": {
            "text/plain": [
              "<Figure size 432x288 with 1 Axes>"
            ],
            "image/png": "[encoded data removed]"
          },
          "metadata": {
            "needs_background": "light"
          }
        }
      ]
    },
    {
      "cell_type": "code",
      "source": [
        "plt.plot(history_fine.history['accuracy'])\n",
        "plt.plot(history_fine.history['val_accuracy'])\n",
        "plt.title('model accuracy')\n",
        "plt.ylabel('accuracy')\n",
        "plt.xlabel('epoch')\n",
        "plt.legend(['training set','validation set'], loc='upper left')\n",
        "plt.show()"
      ],
      "metadata": {
        "id": "nIz9RGYiigNl",
        "colab": {
          "base_uri": "https://localhost:8080/",
          "height": 295
        },
        "outputId": "f2eb216c-a867-4e50-aad5-d216aa667469"
      },
      "execution_count": 77,
      "outputs": [
        {
          "output_type": "display_data",
          "data": {
            "text/plain": [
              "<Figure size 432x288 with 1 Axes>"
            ],
            "image/png": "[encoded data removed]"
          },
          "metadata": {
            "needs_background": "light"
          }
        }
      ]
    },
    {
      "cell_type": "code",
      "source": [
        "y_prob = model_indian.predict(df_tfidf_test_indian)\n",
        "y_pred = np.argmax(y_prob,axis=1)\n",
        "print(classification_report(y_test_int_indian,y_pred))"
      ],
      "metadata": {
        "id": "iZIShqgCigNl",
        "colab": {
          "base_uri": "https://localhost:8080/"
        },
        "outputId": "be6bdd4b-a239-41c4-a87b-ffefcbd3b4e4"
      },
      "execution_count": 78,
      "outputs": [
        {
          "output_type": "stream",
          "name": "stdout",
          "text": [
            "              precision    recall  f1-score   support\n",
            "\n",
            "           0       0.00      0.00      0.00        12\n",
            "           1       0.91      1.00      0.95       115\n",
            "\n",
            "    accuracy                           0.91       127\n",
            "   macro avg       0.45      0.50      0.48       127\n",
            "weighted avg       0.82      0.91      0.86       127\n",
            "\n"
          ]
        },
        {
          "output_type": "stream",
          "name": "stderr",
          "text": [
            "/usr/local/lib/python3.7/dist-packages/sklearn/metrics/_classification.py:1318: UndefinedMetricWarning: Precision and F-score are ill-defined and being set to 0.0 in labels with no predicted samples. Use `zero_division` parameter to control this behavior.\n",
            "  _warn_prf(average, modifier, msg_start, len(result))\n",
            "/usr/local/lib/python3.7/dist-packages/sklearn/metrics/_classification.py:1318: UndefinedMetricWarning: Precision and F-score are ill-defined and being set to 0.0 in labels with no predicted samples. Use `zero_division` parameter to control this behavior.\n",
            "  _warn_prf(average, modifier, msg_start, len(result))\n",
            "/usr/local/lib/python3.7/dist-packages/sklearn/metrics/_classification.py:1318: UndefinedMetricWarning: Precision and F-score are ill-defined and being set to 0.0 in labels with no predicted samples. Use `zero_division` parameter to control this behavior.\n",
            "  _warn_prf(average, modifier, msg_start, len(result))\n"
          ]
        }
      ]
    },
    {
      "cell_type": "markdown",
      "source": [
        "### Word2vec"
      ],
      "metadata": {
        "id": "VygIULHyPwrc"
      }
    },
    {
      "cell_type": "markdown",
      "source": [
        "Cuisine Classification Data"
      ],
      "metadata": {
        "id": "N5fYFoa1Pwrc"
      }
    },
    {
      "cell_type": "code",
      "source": [
        "X_train_word2vec_cuisine = np.array([np.array(val) for val in X_train_word2vec_cuisine])\n",
        "X_valid_word2vec_cuisine = np.array([np.array(val) for val in X_valid_word2vec_cuisine])"
      ],
      "metadata": {
        "id": "u2Q2HBEVPwrc"
      },
      "execution_count": 79,
      "outputs": []
    },
    {
      "cell_type": "code",
      "source": [
        "model_RNN = RNNHyperModel(vocab_size_cuisine, 300, 20)"
      ],
      "metadata": {
        "id": "rIdq3D9hm4BP"
      },
      "execution_count": 80,
      "outputs": []
    },
    {
      "cell_type": "code",
      "source": [
        "tuner = kt.Hyperband(\n",
        "    model_RNN,\n",
        "    objective='val_accuracy',\n",
        "    max_epochs=30,\n",
        "    hyperband_iterations=2, \n",
        "    overwrite=True)"
      ],
      "metadata": {
        "id": "OwJFE-oMnCmP"
      },
      "execution_count": 81,
      "outputs": []
    },
    {
      "cell_type": "code",
      "source": [
        "tuner.search(X_train_word2vec_cuisine,y_train_cuisine,validation_data=(X_valid_word2vec_cuisine,y_valid_cuisine) , epochs=10)"
      ],
      "metadata": {
        "id": "WrpNs40HnItC",
        "colab": {
          "base_uri": "https://localhost:8080/"
        },
        "outputId": "305fba6c-ea37-4977-f642-0d738d658935"
      },
      "execution_count": 82,
      "outputs": [
        {
          "output_type": "stream",
          "name": "stdout",
          "text": [
            "Trial 4 Complete [00h 00m 04s]\n",
            "val_accuracy: 0.20999999344348907\n",
            "\n",
            "Best val_accuracy So Far: 0.20999999344348907\n",
            "Total elapsed time: 00h 00m 17s\n"
          ]
        }
      ]
    },
    {
      "cell_type": "code",
      "source": [
        "bestHP = tuner.get_best_hyperparameters()[0]\n",
        "print(\"[INFO] optimal number of filters in rnn1 layer: {}\".format(bestHP.get(\"rnn1\")))\n",
        "print(\"[INFO] optimal number of units in dense layer: {}\".format(bestHP.get(\"dense_units\")))\n",
        "print(\"[INFO] optimal learning rate: {}\".format(bestHP.get(\"learning_rt\")))"
      ],
      "metadata": {
        "id": "zMUQolcxneNG",
        "colab": {
          "base_uri": "https://localhost:8080/"
        },
        "outputId": "45fab1b7-cd42-4cef-c6f2-affc5734d3f6"
      },
      "execution_count": 83,
      "outputs": [
        {
          "output_type": "stream",
          "name": "stdout",
          "text": [
            "[INFO] optimal number of filters in rnn1 layer: 64\n",
            "[INFO] optimal number of units in dense layer: 32\n",
            "[INFO] optimal learning rate: 0.001\n"
          ]
        }
      ]
    },
    {
      "cell_type": "code",
      "source": [
        "model_cuisine = tuner.get_best_models()[0]"
      ],
      "metadata": {
        "id": "oIGDlHGSnRp8"
      },
      "execution_count": 84,
      "outputs": []
    },
    {
      "cell_type": "code",
      "source": [
        "history_fine = model_cuisine.fit(X_train_word2vec_cuisine,y_train_cuisine,validation_data=(X_valid_word2vec_cuisine,y_valid_cuisine) , epochs=20)"
      ],
      "metadata": {
        "id": "uzBH95lRnUui",
        "colab": {
          "base_uri": "https://localhost:8080/"
        },
        "outputId": "6ce64fef-9a5d-4c4e-9d68-9cba9bda686c"
      },
      "execution_count": 85,
      "outputs": [
        {
          "output_type": "stream",
          "name": "stdout",
          "text": [
            "Epoch 1/20\n",
            "25/25 [==============================] - 2s 56ms/step - loss: 2.9877 - accuracy: 0.1063 - val_loss: 2.9861 - val_accuracy: 0.2100\n",
            "Epoch 2/20\n",
            "25/25 [==============================] - 1s 48ms/step - loss: 2.9822 - accuracy: 0.1325 - val_loss: 2.9820 - val_accuracy: 0.2100\n",
            "Epoch 3/20\n",
            "25/25 [==============================] - 1s 49ms/step - loss: 2.9768 - accuracy: 0.1287 - val_loss: 2.9772 - val_accuracy: 0.2100\n",
            "Epoch 4/20\n",
            "25/25 [==============================] - 1s 49ms/step - loss: 2.9723 - accuracy: 0.1475 - val_loss: 2.9726 - val_accuracy: 0.2100\n",
            "Epoch 5/20\n",
            "25/25 [==============================] - 1s 47ms/step - loss: 2.9658 - accuracy: 0.1250 - val_loss: 2.9677 - val_accuracy: 0.2100\n",
            "Epoch 6/20\n",
            "25/25 [==============================] - 1s 49ms/step - loss: 2.9662 - accuracy: 0.1513 - val_loss: 2.9629 - val_accuracy: 0.2100\n",
            "Epoch 7/20\n",
            "25/25 [==============================] - 1s 48ms/step - loss: 2.9544 - accuracy: 0.1425 - val_loss: 2.9576 - val_accuracy: 0.2100\n",
            "Epoch 8/20\n",
            "25/25 [==============================] - 1s 47ms/step - loss: 2.9545 - accuracy: 0.1450 - val_loss: 2.9528 - val_accuracy: 0.2100\n",
            "Epoch 9/20\n",
            "25/25 [==============================] - 1s 47ms/step - loss: 2.9462 - accuracy: 0.1450 - val_loss: 2.9478 - val_accuracy: 0.2100\n",
            "Epoch 10/20\n",
            "25/25 [==============================] - 1s 48ms/step - loss: 2.9467 - accuracy: 0.1338 - val_loss: 2.9429 - val_accuracy: 0.2100\n",
            "Epoch 11/20\n",
            "25/25 [==============================] - 1s 47ms/step - loss: 2.9348 - accuracy: 0.1612 - val_loss: 2.9370 - val_accuracy: 0.2100\n",
            "Epoch 12/20\n",
            "25/25 [==============================] - 1s 47ms/step - loss: 2.9397 - accuracy: 0.1725 - val_loss: 2.9319 - val_accuracy: 0.2100\n",
            "Epoch 13/20\n",
            "25/25 [==============================] - 1s 47ms/step - loss: 2.9273 - accuracy: 0.1538 - val_loss: 2.9255 - val_accuracy: 0.2100\n",
            "Epoch 14/20\n",
            "25/25 [==============================] - 1s 47ms/step - loss: 2.9310 - accuracy: 0.1525 - val_loss: 2.9207 - val_accuracy: 0.2100\n",
            "Epoch 15/20\n",
            "25/25 [==============================] - 1s 48ms/step - loss: 2.9242 - accuracy: 0.1550 - val_loss: 2.9154 - val_accuracy: 0.2100\n",
            "Epoch 16/20\n",
            "25/25 [==============================] - 1s 47ms/step - loss: 2.9214 - accuracy: 0.1562 - val_loss: 2.9107 - val_accuracy: 0.2100\n",
            "Epoch 17/20\n",
            "25/25 [==============================] - 1s 48ms/step - loss: 2.9064 - accuracy: 0.1625 - val_loss: 2.9045 - val_accuracy: 0.2100\n",
            "Epoch 18/20\n",
            "25/25 [==============================] - 1s 48ms/step - loss: 2.9183 - accuracy: 0.1350 - val_loss: 2.9001 - val_accuracy: 0.2100\n",
            "Epoch 19/20\n",
            "25/25 [==============================] - 1s 48ms/step - loss: 2.9034 - accuracy: 0.1375 - val_loss: 2.8947 - val_accuracy: 0.2100\n",
            "Epoch 20/20\n",
            "25/25 [==============================] - 1s 47ms/step - loss: 2.8900 - accuracy: 0.1813 - val_loss: 2.8882 - val_accuracy: 0.2100\n"
          ]
        }
      ]
    },
    {
      "cell_type": "code",
      "source": [
        "plt.plot(history_fine.history['loss'])\n",
        "plt.plot(history_fine.history['val_loss'])\n",
        "plt.title('model loss')\n",
        "plt.ylabel('loss')\n",
        "plt.xlabel('epoch')\n",
        "plt.legend(['training set','validation set'], loc='upper left')\n",
        "plt.show()"
      ],
      "metadata": {
        "id": "X4Y4foSuixfq",
        "colab": {
          "base_uri": "https://localhost:8080/",
          "height": 295
        },
        "outputId": "3d30129d-322c-492b-a94e-4070f368202a"
      },
      "execution_count": 86,
      "outputs": [
        {
          "output_type": "display_data",
          "data": {
            "text/plain": [
              "<Figure size 432x288 with 1 Axes>"
            ],
            "image/png": "[encoded data removed]"
          },
          "metadata": {
            "needs_background": "light"
          }
        }
      ]
    },
    {
      "cell_type": "code",
      "source": [
        "plt.plot(history_fine.history['accuracy'])\n",
        "plt.plot(history_fine.history['val_accuracy'])\n",
        "plt.title('model accuracy')\n",
        "plt.ylabel('accuracy')\n",
        "plt.xlabel('epoch')\n",
        "plt.legend(['training set','validation set'], loc='upper left')\n",
        "plt.show()"
      ],
      "metadata": {
        "id": "VIL8E1zQixfr",
        "colab": {
          "base_uri": "https://localhost:8080/",
          "height": 295
        },
        "outputId": "049bfbf3-720f-404f-ba23-6cbd193df08d"
      },
      "execution_count": 87,
      "outputs": [
        {
          "output_type": "display_data",
          "data": {
            "text/plain": [
              "<Figure size 432x288 with 1 Axes>"
            ],
            "image/png": "[encoded data removed]"
          },
          "metadata": {
            "needs_background": "light"
          }
        }
      ]
    },
    {
      "cell_type": "code",
      "source": [
        "y_prob = model_cuisine.predict(X_test_word2vec_cuisine)\n",
        "y_pred = np.argmax(y_prob,axis=1)\n",
        "print(classification_report(y_test_int_cuisine,y_pred))"
      ],
      "metadata": {
        "id": "e4zkAT6Eixfr",
        "colab": {
          "base_uri": "https://localhost:8080/"
        },
        "outputId": "f72bb9b2-3f6c-4008-83ab-e74d2e6da901"
      },
      "execution_count": 88,
      "outputs": [
        {
          "output_type": "stream",
          "name": "stdout",
          "text": [
            "              precision    recall  f1-score   support\n",
            "\n",
            "           0       0.00      0.00      0.00         5\n",
            "           1       0.00      0.00      0.00         9\n",
            "           2       0.00      0.00      0.00        15\n",
            "           3       0.00      0.00      0.00        33\n",
            "           4       0.00      0.00      0.00         7\n",
            "           5       0.00      0.00      0.00        30\n",
            "           6       0.00      0.00      0.00        12\n",
            "           7       0.00      0.00      0.00        37\n",
            "           8       0.00      0.00      0.00        11\n",
            "           9       0.21      1.00      0.35       106\n",
            "          10       0.00      0.00      0.00         7\n",
            "          11       0.00      0.00      0.00        16\n",
            "          12       0.00      0.00      0.00        19\n",
            "          13       0.00      0.00      0.00       101\n",
            "          14       0.00      0.00      0.00         6\n",
            "          15       0.00      0.00      0.00         4\n",
            "          16       0.00      0.00      0.00        44\n",
            "          17       0.00      0.00      0.00        11\n",
            "          18       0.00      0.00      0.00        19\n",
            "          19       0.00      0.00      0.00         8\n",
            "\n",
            "    accuracy                           0.21       500\n",
            "   macro avg       0.01      0.05      0.02       500\n",
            "weighted avg       0.04      0.21      0.07       500\n",
            "\n"
          ]
        },
        {
          "output_type": "stream",
          "name": "stderr",
          "text": [
            "/usr/local/lib/python3.7/dist-packages/sklearn/metrics/_classification.py:1318: UndefinedMetricWarning: Precision and F-score are ill-defined and being set to 0.0 in labels with no predicted samples. Use `zero_division` parameter to control this behavior.\n",
            "  _warn_prf(average, modifier, msg_start, len(result))\n",
            "/usr/local/lib/python3.7/dist-packages/sklearn/metrics/_classification.py:1318: UndefinedMetricWarning: Precision and F-score are ill-defined and being set to 0.0 in labels with no predicted samples. Use `zero_division` parameter to control this behavior.\n",
            "  _warn_prf(average, modifier, msg_start, len(result))\n",
            "/usr/local/lib/python3.7/dist-packages/sklearn/metrics/_classification.py:1318: UndefinedMetricWarning: Precision and F-score are ill-defined and being set to 0.0 in labels with no predicted samples. Use `zero_division` parameter to control this behavior.\n",
            "  _warn_prf(average, modifier, msg_start, len(result))\n"
          ]
        }
      ]
    },
    {
      "cell_type": "markdown",
      "source": [
        "Indian Food Data"
      ],
      "metadata": {
        "id": "cTQ1wA42Pwrd"
      }
    },
    {
      "cell_type": "code",
      "source": [
        "X_train_word2vec_indian = np.array([np.array(val) for val in X_train_word2vec_indian])\n",
        "X_valid_word2vec_indian = np.array([np.array(val) for val in X_valid_word2vec_indian])"
      ],
      "metadata": {
        "id": "ubKBLrF7Pwrd"
      },
      "execution_count": 89,
      "outputs": []
    },
    {
      "cell_type": "code",
      "source": [
        "model_RNN = RNNHyperModel(vocab_size_indian, 300, 2)"
      ],
      "metadata": {
        "id": "XJZEL6I4Pwrd"
      },
      "execution_count": 90,
      "outputs": []
    },
    {
      "cell_type": "code",
      "source": [
        "tuner = kt.Hyperband(\n",
        "    model_RNN,\n",
        "    objective='val_accuracy',\n",
        "    max_epochs=30,\n",
        "    hyperband_iterations=2, \n",
        "    overwrite=True)"
      ],
      "metadata": {
        "id": "S_ff0TcLHA4q"
      },
      "execution_count": 91,
      "outputs": []
    },
    {
      "cell_type": "code",
      "source": [
        "tuner.search(X_train_word2vec_indian,y_train_indian,validation_data=(X_valid_word2vec_indian,y_valid_indian), epochs=10)"
      ],
      "metadata": {
        "id": "eMiEfS5THA4q",
        "colab": {
          "base_uri": "https://localhost:8080/"
        },
        "outputId": "644c46b7-ffc8-4764-f9c8-5777f9dd23bf"
      },
      "execution_count": 92,
      "outputs": [
        {
          "output_type": "stream",
          "name": "stdout",
          "text": [
            "Trial 4 Complete [00h 00m 04s]\n",
            "val_accuracy: 0.1328125\n",
            "\n",
            "Best val_accuracy So Far: 0.8671875\n",
            "Total elapsed time: 00h 00m 13s\n"
          ]
        }
      ]
    },
    {
      "cell_type": "code",
      "source": [
        "bestHP = tuner.get_best_hyperparameters()[0]\n",
        "print(\"[INFO] optimal number of filters in rnn1 layer: {}\".format(bestHP.get(\"rnn1\")))\n",
        "print(\"[INFO] optimal number of units in dense layer: {}\".format(bestHP.get(\"dense_units\")))\n",
        "print(\"[INFO] optimal learning rate: {}\".format(bestHP.get(\"learning_rt\")))"
      ],
      "metadata": {
        "id": "yHIWkagMHA4r",
        "colab": {
          "base_uri": "https://localhost:8080/"
        },
        "outputId": "230b087f-4a82-4c95-edff-187524263b59"
      },
      "execution_count": 93,
      "outputs": [
        {
          "output_type": "stream",
          "name": "stdout",
          "text": [
            "[INFO] optimal number of filters in rnn1 layer: 128\n",
            "[INFO] optimal number of units in dense layer: 64\n",
            "[INFO] optimal learning rate: 0.001\n"
          ]
        }
      ]
    },
    {
      "cell_type": "code",
      "source": [
        "model_indian = tuner.get_best_models()[0]"
      ],
      "metadata": {
        "id": "l1XoCWTTHA4r"
      },
      "execution_count": 94,
      "outputs": []
    },
    {
      "cell_type": "code",
      "source": [
        "history_fine = model_indian.fit(X_train_word2vec_indian,y_train_indian,validation_data=(X_valid_word2vec_indian,y_valid_indian) , epochs=20)"
      ],
      "metadata": {
        "id": "XxGtx11OHA4r",
        "colab": {
          "base_uri": "https://localhost:8080/"
        },
        "outputId": "829d9c66-d0cf-4a43-d6ca-646758fab4d0"
      },
      "execution_count": 95,
      "outputs": [
        {
          "output_type": "stream",
          "name": "stdout",
          "text": [
            "Epoch 1/20\n",
            "7/7 [==============================] - 2s 118ms/step - loss: 0.6935 - accuracy: 0.5245 - val_loss: 0.6871 - val_accuracy: 0.8672\n",
            "Epoch 2/20\n",
            "7/7 [==============================] - 1s 83ms/step - loss: 0.6899 - accuracy: 0.6029 - val_loss: 0.6819 - val_accuracy: 0.8672\n",
            "Epoch 3/20\n",
            "7/7 [==============================] - 1s 84ms/step - loss: 0.6860 - accuracy: 0.6127 - val_loss: 0.6771 - val_accuracy: 0.8672\n",
            "Epoch 4/20\n",
            "7/7 [==============================] - 1s 83ms/step - loss: 0.6823 - accuracy: 0.6814 - val_loss: 0.6721 - val_accuracy: 0.8672\n",
            "Epoch 5/20\n",
            "7/7 [==============================] - 1s 82ms/step - loss: 0.6762 - accuracy: 0.7598 - val_loss: 0.6674 - val_accuracy: 0.8672\n",
            "Epoch 6/20\n",
            "7/7 [==============================] - 1s 84ms/step - loss: 0.6714 - accuracy: 0.7941 - val_loss: 0.6631 - val_accuracy: 0.8672\n",
            "Epoch 7/20\n",
            "7/7 [==============================] - 1s 83ms/step - loss: 0.6698 - accuracy: 0.8235 - val_loss: 0.6591 - val_accuracy: 0.8672\n",
            "Epoch 8/20\n",
            "7/7 [==============================] - 1s 82ms/step - loss: 0.6610 - accuracy: 0.8480 - val_loss: 0.6549 - val_accuracy: 0.8672\n",
            "Epoch 9/20\n",
            "7/7 [==============================] - 1s 85ms/step - loss: 0.6553 - accuracy: 0.8775 - val_loss: 0.6510 - val_accuracy: 0.8672\n",
            "Epoch 10/20\n",
            "7/7 [==============================] - 1s 83ms/step - loss: 0.6528 - accuracy: 0.8824 - val_loss: 0.6472 - val_accuracy: 0.8672\n",
            "Epoch 11/20\n",
            "7/7 [==============================] - 1s 83ms/step - loss: 0.6498 - accuracy: 0.8775 - val_loss: 0.6437 - val_accuracy: 0.8672\n",
            "Epoch 12/20\n",
            "7/7 [==============================] - 1s 82ms/step - loss: 0.6471 - accuracy: 0.8873 - val_loss: 0.6405 - val_accuracy: 0.8672\n",
            "Epoch 13/20\n",
            "7/7 [==============================] - 1s 82ms/step - loss: 0.6433 - accuracy: 0.8922 - val_loss: 0.6372 - val_accuracy: 0.8672\n",
            "Epoch 14/20\n",
            "7/7 [==============================] - 1s 81ms/step - loss: 0.6389 - accuracy: 0.8922 - val_loss: 0.6338 - val_accuracy: 0.8672\n",
            "Epoch 15/20\n",
            "7/7 [==============================] - 1s 82ms/step - loss: 0.6345 - accuracy: 0.8873 - val_loss: 0.6305 - val_accuracy: 0.8672\n",
            "Epoch 16/20\n",
            "7/7 [==============================] - 1s 83ms/step - loss: 0.6302 - accuracy: 0.8922 - val_loss: 0.6271 - val_accuracy: 0.8672\n",
            "Epoch 17/20\n",
            "7/7 [==============================] - 1s 82ms/step - loss: 0.6299 - accuracy: 0.8922 - val_loss: 0.6237 - val_accuracy: 0.8672\n",
            "Epoch 18/20\n",
            "7/7 [==============================] - 1s 81ms/step - loss: 0.6219 - accuracy: 0.8922 - val_loss: 0.6205 - val_accuracy: 0.8672\n",
            "Epoch 19/20\n",
            "7/7 [==============================] - 1s 81ms/step - loss: 0.6171 - accuracy: 0.8922 - val_loss: 0.6169 - val_accuracy: 0.8672\n",
            "Epoch 20/20\n",
            "7/7 [==============================] - 1s 83ms/step - loss: 0.6160 - accuracy: 0.8922 - val_loss: 0.6135 - val_accuracy: 0.8672\n"
          ]
        }
      ]
    },
    {
      "cell_type": "code",
      "source": [
        "plt.plot(history_fine.history['loss'])\n",
        "plt.plot(history_fine.history['val_loss'])\n",
        "plt.title('model loss')\n",
        "plt.ylabel('loss')\n",
        "plt.xlabel('epoch')\n",
        "plt.legend(['training set','validation set'], loc='upper left')\n",
        "plt.show()"
      ],
      "metadata": {
        "id": "4ST2iMnAiyg4",
        "colab": {
          "base_uri": "https://localhost:8080/",
          "height": 295
        },
        "outputId": "422a6837-c978-4ad7-a041-a4836119b004"
      },
      "execution_count": 96,
      "outputs": [
        {
          "output_type": "display_data",
          "data": {
            "text/plain": [
              "<Figure size 432x288 with 1 Axes>"
            ],
            "image/png": "[encoded data removed]"
          },
          "metadata": {
            "needs_background": "light"
          }
        }
      ]
    },
    {
      "cell_type": "code",
      "source": [
        "plt.plot(history_fine.history['accuracy'])\n",
        "plt.plot(history_fine.history['val_accuracy'])\n",
        "plt.title('model accuracy')\n",
        "plt.ylabel('accuracy')\n",
        "plt.xlabel('epoch')\n",
        "plt.legend(['training set','validation set'], loc='upper left')\n",
        "plt.show()"
      ],
      "metadata": {
        "id": "XGE-E6iAiyg4",
        "colab": {
          "base_uri": "https://localhost:8080/",
          "height": 295
        },
        "outputId": "d94fa263-0480-4199-ae2a-d42443bb1588"
      },
      "execution_count": 97,
      "outputs": [
        {
          "output_type": "display_data",
          "data": {
            "text/plain": [
              "<Figure size 432x288 with 1 Axes>"
            ],
            "image/png": "[encoded data removed]"
          },
          "metadata": {
            "needs_background": "light"
          }
        }
      ]
    },
    {
      "cell_type": "code",
      "source": [
        "y_prob = model_indian.predict(X_test_word2vec_indian)\n",
        "y_pred = np.argmax(y_prob,axis=1)\n",
        "print(classification_report(y_test_int_indian,y_pred))"
      ],
      "metadata": {
        "id": "yOTFnw0Tiyg4",
        "colab": {
          "base_uri": "https://localhost:8080/"
        },
        "outputId": "6afea5c9-da38-48e8-9f3a-45a212c2c24e"
      },
      "execution_count": 98,
      "outputs": [
        {
          "output_type": "stream",
          "name": "stdout",
          "text": [
            "              precision    recall  f1-score   support\n",
            "\n",
            "           0       0.00      0.00      0.00        12\n",
            "           1       0.91      1.00      0.95       115\n",
            "\n",
            "    accuracy                           0.91       127\n",
            "   macro avg       0.45      0.50      0.48       127\n",
            "weighted avg       0.82      0.91      0.86       127\n",
            "\n"
          ]
        },
        {
          "output_type": "stream",
          "name": "stderr",
          "text": [
            "/usr/local/lib/python3.7/dist-packages/sklearn/metrics/_classification.py:1318: UndefinedMetricWarning: Precision and F-score are ill-defined and being set to 0.0 in labels with no predicted samples. Use `zero_division` parameter to control this behavior.\n",
            "  _warn_prf(average, modifier, msg_start, len(result))\n",
            "/usr/local/lib/python3.7/dist-packages/sklearn/metrics/_classification.py:1318: UndefinedMetricWarning: Precision and F-score are ill-defined and being set to 0.0 in labels with no predicted samples. Use `zero_division` parameter to control this behavior.\n",
            "  _warn_prf(average, modifier, msg_start, len(result))\n",
            "/usr/local/lib/python3.7/dist-packages/sklearn/metrics/_classification.py:1318: UndefinedMetricWarning: Precision and F-score are ill-defined and being set to 0.0 in labels with no predicted samples. Use `zero_division` parameter to control this behavior.\n",
            "  _warn_prf(average, modifier, msg_start, len(result))\n"
          ]
        }
      ]
    },
    {
      "cell_type": "markdown",
      "source": [
        "### BERT"
      ],
      "metadata": {
        "id": "PXVE4dfFdnhW"
      }
    },
    {
      "cell_type": "markdown",
      "source": [
        "Cuisine Classification Data"
      ],
      "metadata": {
        "id": "oGFCw_OHdnhd"
      }
    },
    {
      "cell_type": "code",
      "source": [
        "model_RNN = RNNHyperModel(vocab_size_cuisine, 768, 20)"
      ],
      "metadata": {
        "id": "6H-Tsm84dnhd"
      },
      "execution_count": 99,
      "outputs": []
    },
    {
      "cell_type": "code",
      "source": [
        "tuner = kt.Hyperband(\n",
        "    model_RNN,\n",
        "    objective='val_accuracy',\n",
        "    max_epochs=30,\n",
        "    hyperband_iterations=2, \n",
        "    overwrite=True)"
      ],
      "metadata": {
        "id": "_64BljwWdnhd"
      },
      "execution_count": 100,
      "outputs": []
    },
    {
      "cell_type": "code",
      "source": [
        "tuner.search(X_train_bert_cuisine,y_train_cuisine,validation_data=(X_valid_bert_cuisine,y_valid_cuisine), epochs=10)"
      ],
      "metadata": {
        "id": "CpmNRVWIdnhd",
        "colab": {
          "base_uri": "https://localhost:8080/"
        },
        "outputId": "7a7c57b9-f82a-4527-d50d-747f806f462b"
      },
      "execution_count": 101,
      "outputs": [
        {
          "output_type": "stream",
          "name": "stdout",
          "text": [
            "Trial 4 Complete [00h 00m 10s]\n",
            "val_accuracy: 0.20999999344348907\n",
            "\n",
            "Best val_accuracy So Far: 0.20999999344348907\n",
            "Total elapsed time: 00h 00m 44s\n"
          ]
        }
      ]
    },
    {
      "cell_type": "code",
      "source": [
        "bestHP = tuner.get_best_hyperparameters()[0]\n",
        "print(\"[INFO] optimal number of filters in rnn1 layer: {}\".format(bestHP.get(\"rnn1\")))\n",
        "print(\"[INFO] optimal number of units in dense layer: {}\".format(bestHP.get(\"dense_units\")))\n",
        "print(\"[INFO] optimal learning rate: {}\".format(bestHP.get(\"learning_rt\")))"
      ],
      "metadata": {
        "id": "Gexw8Unsdnhd",
        "colab": {
          "base_uri": "https://localhost:8080/"
        },
        "outputId": "77e79d7a-aaa7-43be-fc03-f8c27cab60f6"
      },
      "execution_count": 102,
      "outputs": [
        {
          "output_type": "stream",
          "name": "stdout",
          "text": [
            "[INFO] optimal number of filters in rnn1 layer: 64\n",
            "[INFO] optimal number of units in dense layer: 32\n",
            "[INFO] optimal learning rate: 0.001\n"
          ]
        }
      ]
    },
    {
      "cell_type": "code",
      "source": [
        "model_cuisine = tuner.get_best_models()[0]"
      ],
      "metadata": {
        "id": "IWtAGUNLdnhd"
      },
      "execution_count": 103,
      "outputs": []
    },
    {
      "cell_type": "code",
      "source": [
        "history_fine = model_cuisine.fit(X_train_bert_cuisine,y_train_cuisine,validation_data=(X_valid_bert_cuisine,y_valid_cuisine), epochs=10)"
      ],
      "metadata": {
        "id": "VwhZrM-hdnhd",
        "colab": {
          "base_uri": "https://localhost:8080/"
        },
        "outputId": "11ef3e86-2c63-429f-ffe8-47747afbe30d"
      },
      "execution_count": 104,
      "outputs": [
        {
          "output_type": "stream",
          "name": "stdout",
          "text": [
            "Epoch 1/10\n",
            "25/25 [==============================] - 4s 144ms/step - loss: 2.9883 - accuracy: 0.1100 - val_loss: 2.9833 - val_accuracy: 0.2100\n",
            "Epoch 2/10\n",
            "25/25 [==============================] - 3s 134ms/step - loss: 2.9860 - accuracy: 0.1325 - val_loss: 2.9815 - val_accuracy: 0.2100\n",
            "Epoch 3/10\n",
            "25/25 [==============================] - 3s 134ms/step - loss: 2.9825 - accuracy: 0.1550 - val_loss: 2.9795 - val_accuracy: 0.2100\n",
            "Epoch 4/10\n",
            "25/25 [==============================] - 3s 134ms/step - loss: 2.9804 - accuracy: 0.1737 - val_loss: 2.9774 - val_accuracy: 0.2100\n",
            "Epoch 5/10\n",
            "25/25 [==============================] - 3s 134ms/step - loss: 2.9775 - accuracy: 0.1562 - val_loss: 2.9753 - val_accuracy: 0.2100\n",
            "Epoch 6/10\n",
            "25/25 [==============================] - 3s 134ms/step - loss: 2.9773 - accuracy: 0.1650 - val_loss: 2.9733 - val_accuracy: 0.2100\n",
            "Epoch 7/10\n",
            "25/25 [==============================] - 3s 133ms/step - loss: 2.9753 - accuracy: 0.1850 - val_loss: 2.9713 - val_accuracy: 0.2100\n",
            "Epoch 8/10\n",
            "25/25 [==============================] - 4s 151ms/step - loss: 2.9696 - accuracy: 0.1863 - val_loss: 2.9691 - val_accuracy: 0.2100\n",
            "Epoch 9/10\n",
            "25/25 [==============================] - 3s 133ms/step - loss: 2.9722 - accuracy: 0.1825 - val_loss: 2.9673 - val_accuracy: 0.2100\n",
            "Epoch 10/10\n",
            "25/25 [==============================] - 3s 136ms/step - loss: 2.9694 - accuracy: 0.1925 - val_loss: 2.9654 - val_accuracy: 0.2100\n"
          ]
        }
      ]
    },
    {
      "cell_type": "code",
      "source": [
        "plt.plot(history_fine.history['loss'])\n",
        "plt.plot(history_fine.history['val_loss'])\n",
        "plt.title('model loss')\n",
        "plt.ylabel('loss')\n",
        "plt.xlabel('epoch')\n",
        "plt.legend(['training set','validation set'], loc='upper left')\n",
        "plt.show()"
      ],
      "metadata": {
        "id": "G0tEfiNiiW-j",
        "colab": {
          "base_uri": "https://localhost:8080/",
          "height": 295
        },
        "outputId": "498cdc62-d130-459c-ab0a-43a8618d0fa1"
      },
      "execution_count": 105,
      "outputs": [
        {
          "output_type": "display_data",
          "data": {
            "text/plain": [
              "<Figure size 432x288 with 1 Axes>"
            ],
            "image/png": "[encoded data removed]"
          },
          "metadata": {
            "needs_background": "light"
          }
        }
      ]
    },
    {
      "cell_type": "code",
      "source": [
        "plt.plot(history_fine.history['accuracy'])\n",
        "plt.plot(history_fine.history['val_accuracy'])\n",
        "plt.title('model accuracy')\n",
        "plt.ylabel('accuracy')\n",
        "plt.xlabel('epoch')\n",
        "plt.legend(['training set','validation set'], loc='upper left')\n",
        "plt.show()"
      ],
      "metadata": {
        "id": "AFyWHmNHiW-k",
        "colab": {
          "base_uri": "https://localhost:8080/",
          "height": 295
        },
        "outputId": "84f357a3-ec71-4958-a352-82fe8fad78c2"
      },
      "execution_count": 106,
      "outputs": [
        {
          "output_type": "display_data",
          "data": {
            "text/plain": [
              "<Figure size 432x288 with 1 Axes>"
            ],
            "image/png": "[encoded data removed]"
          },
          "metadata": {
            "needs_background": "light"
          }
        }
      ]
    },
    {
      "cell_type": "code",
      "source": [
        "y_prob = model_cuisine.predict(X_test_bert_cuisine)\n",
        "y_pred = np.argmax(y_prob,axis=1)\n",
        "print(classification_report(y_test_int_cuisine,y_pred))"
      ],
      "metadata": {
        "id": "a_HRSvUAiW-k",
        "colab": {
          "base_uri": "https://localhost:8080/"
        },
        "outputId": "039a1b9b-7841-4a9f-dbd5-1672ce839680"
      },
      "execution_count": 107,
      "outputs": [
        {
          "output_type": "stream",
          "name": "stdout",
          "text": [
            "              precision    recall  f1-score   support\n",
            "\n",
            "           0       0.00      0.00      0.00         5\n",
            "           1       0.00      0.00      0.00         9\n",
            "           2       0.00      0.00      0.00        15\n",
            "           3       0.00      0.00      0.00        33\n",
            "           4       0.00      0.00      0.00         7\n",
            "           5       0.00      0.00      0.00        30\n",
            "           6       0.00      0.00      0.00        12\n",
            "           7       0.00      0.00      0.00        37\n",
            "           8       0.00      0.00      0.00        11\n",
            "           9       0.21      1.00      0.35       106\n",
            "          10       0.00      0.00      0.00         7\n",
            "          11       0.00      0.00      0.00        16\n",
            "          12       0.00      0.00      0.00        19\n",
            "          13       0.00      0.00      0.00       101\n",
            "          14       0.00      0.00      0.00         6\n",
            "          15       0.00      0.00      0.00         4\n",
            "          16       0.00      0.00      0.00        44\n",
            "          17       0.00      0.00      0.00        11\n",
            "          18       0.00      0.00      0.00        19\n",
            "          19       0.00      0.00      0.00         8\n",
            "\n",
            "    accuracy                           0.21       500\n",
            "   macro avg       0.01      0.05      0.02       500\n",
            "weighted avg       0.04      0.21      0.07       500\n",
            "\n"
          ]
        },
        {
          "output_type": "stream",
          "name": "stderr",
          "text": [
            "/usr/local/lib/python3.7/dist-packages/sklearn/metrics/_classification.py:1318: UndefinedMetricWarning: Precision and F-score are ill-defined and being set to 0.0 in labels with no predicted samples. Use `zero_division` parameter to control this behavior.\n",
            "  _warn_prf(average, modifier, msg_start, len(result))\n",
            "/usr/local/lib/python3.7/dist-packages/sklearn/metrics/_classification.py:1318: UndefinedMetricWarning: Precision and F-score are ill-defined and being set to 0.0 in labels with no predicted samples. Use `zero_division` parameter to control this behavior.\n",
            "  _warn_prf(average, modifier, msg_start, len(result))\n",
            "/usr/local/lib/python3.7/dist-packages/sklearn/metrics/_classification.py:1318: UndefinedMetricWarning: Precision and F-score are ill-defined and being set to 0.0 in labels with no predicted samples. Use `zero_division` parameter to control this behavior.\n",
            "  _warn_prf(average, modifier, msg_start, len(result))\n"
          ]
        }
      ]
    },
    {
      "cell_type": "markdown",
      "source": [
        "Indian Food Data"
      ],
      "metadata": {
        "id": "M2JLHq55dnhd"
      }
    },
    {
      "cell_type": "code",
      "source": [
        "model_RNN = RNNHyperModel(vocab_size_indian, 768, 2)"
      ],
      "metadata": {
        "id": "uKWkb7bodnhd"
      },
      "execution_count": 108,
      "outputs": []
    },
    {
      "cell_type": "code",
      "source": [
        "tuner = kt.Hyperband(\n",
        "    model_RNN,\n",
        "    objective='val_accuracy',\n",
        "    max_epochs=30,\n",
        "    hyperband_iterations=2, \n",
        "    overwrite=True)"
      ],
      "metadata": {
        "id": "NBaZ-ga0dnhd"
      },
      "execution_count": 109,
      "outputs": []
    },
    {
      "cell_type": "code",
      "source": [
        "tuner.search(X_train_bert_indian,y_train_indian,validation_data=(X_valid_bert_indian,y_valid_indian), epochs=10)"
      ],
      "metadata": {
        "id": "Mal7SOw6dnhe",
        "colab": {
          "base_uri": "https://localhost:8080/"
        },
        "outputId": "dced81ca-2d93-4693-d03c-c46d8d4aa349"
      },
      "execution_count": 110,
      "outputs": [
        {
          "output_type": "stream",
          "name": "stdout",
          "text": [
            "Trial 4 Complete [00h 00m 06s]\n",
            "val_accuracy: 0.8671875\n",
            "\n",
            "Best val_accuracy So Far: 0.8671875\n",
            "Total elapsed time: 00h 00m 20s\n"
          ]
        }
      ]
    },
    {
      "cell_type": "code",
      "source": [
        "bestHP = tuner.get_best_hyperparameters()[0]\n",
        "print(\"[INFO] optimal number of filters in rnn1 layer: {}\".format(bestHP.get(\"rnn1\")))\n",
        "print(\"[INFO] optimal number of units in dense layer: {}\".format(bestHP.get(\"dense_units\")))\n",
        "print(\"[INFO] optimal learning rate: {}\".format(bestHP.get(\"learning_rt\")))"
      ],
      "metadata": {
        "id": "0GCpyq7odnhe",
        "colab": {
          "base_uri": "https://localhost:8080/"
        },
        "outputId": "50fdd63e-7bd7-4050-ab51-b9cb0e271f0c"
      },
      "execution_count": 111,
      "outputs": [
        {
          "output_type": "stream",
          "name": "stdout",
          "text": [
            "[INFO] optimal number of filters in rnn1 layer: 64\n",
            "[INFO] optimal number of units in dense layer: 32\n",
            "[INFO] optimal learning rate: 0.001\n"
          ]
        }
      ]
    },
    {
      "cell_type": "code",
      "source": [
        "model_indian = tuner.get_best_models()[0]"
      ],
      "metadata": {
        "id": "uVKXa6Xydnhe"
      },
      "execution_count": 112,
      "outputs": []
    },
    {
      "cell_type": "code",
      "source": [
        "history_fine = model_indian.fit(X_train_bert_indian,y_train_indian,validation_data=(X_valid_bert_indian,y_valid_indian), epochs=10)"
      ],
      "metadata": {
        "id": "HqMcz-Fjdnhe",
        "colab": {
          "base_uri": "https://localhost:8080/"
        },
        "outputId": "dfbfd235-ffbd-48d4-ca6c-d11ae1821606"
      },
      "execution_count": 113,
      "outputs": [
        {
          "output_type": "stream",
          "name": "stdout",
          "text": [
            "Epoch 1/10\n",
            "7/7 [==============================] - 2s 185ms/step - loss: 0.6917 - accuracy: 0.5245 - val_loss: 0.6860 - val_accuracy: 0.8672\n",
            "Epoch 2/10\n",
            "7/7 [==============================] - 1s 149ms/step - loss: 0.6860 - accuracy: 0.6324 - val_loss: 0.6815 - val_accuracy: 0.8672\n",
            "Epoch 3/10\n",
            "7/7 [==============================] - 1s 147ms/step - loss: 0.6799 - accuracy: 0.7206 - val_loss: 0.6773 - val_accuracy: 0.8672\n",
            "Epoch 4/10\n",
            "7/7 [==============================] - 1s 149ms/step - loss: 0.6752 - accuracy: 0.7647 - val_loss: 0.6732 - val_accuracy: 0.8672\n",
            "Epoch 5/10\n",
            "7/7 [==============================] - 1s 144ms/step - loss: 0.6720 - accuracy: 0.8137 - val_loss: 0.6687 - val_accuracy: 0.8672\n",
            "Epoch 6/10\n",
            "7/7 [==============================] - 1s 149ms/step - loss: 0.6650 - accuracy: 0.8480 - val_loss: 0.6643 - val_accuracy: 0.8672\n",
            "Epoch 7/10\n",
            "7/7 [==============================] - 1s 146ms/step - loss: 0.6656 - accuracy: 0.8627 - val_loss: 0.6600 - val_accuracy: 0.8672\n",
            "Epoch 8/10\n",
            "7/7 [==============================] - 1s 151ms/step - loss: 0.6573 - accuracy: 0.8676 - val_loss: 0.6557 - val_accuracy: 0.8672\n",
            "Epoch 9/10\n",
            "7/7 [==============================] - 1s 146ms/step - loss: 0.6540 - accuracy: 0.8922 - val_loss: 0.6518 - val_accuracy: 0.8672\n",
            "Epoch 10/10\n",
            "7/7 [==============================] - 1s 149ms/step - loss: 0.6516 - accuracy: 0.8775 - val_loss: 0.6482 - val_accuracy: 0.8672\n"
          ]
        }
      ]
    },
    {
      "cell_type": "code",
      "source": [
        "plt.plot(history_fine.history['loss'])\n",
        "plt.plot(history_fine.history['val_loss'])\n",
        "plt.title('model loss')\n",
        "plt.ylabel('loss')\n",
        "plt.xlabel('epoch')\n",
        "plt.legend(['training set','validation set'], loc='upper left')\n",
        "plt.show()"
      ],
      "metadata": {
        "id": "G2JDt0-ViSrw",
        "colab": {
          "base_uri": "https://localhost:8080/",
          "height": 295
        },
        "outputId": "bc9f9191-efe4-46fd-dff8-2d76a7a4e52c"
      },
      "execution_count": 117,
      "outputs": [
        {
          "output_type": "display_data",
          "data": {
            "text/plain": [
              "<Figure size 432x288 with 1 Axes>"
            ],
            "image/png": "[encoded data removed]"
          },
          "metadata": {
            "needs_background": "light"
          }
        }
      ]
    },
    {
      "cell_type": "code",
      "source": [
        "plt.plot(history_fine.history['accuracy'])\n",
        "plt.plot(history_fine.history['val_accuracy'])\n",
        "plt.title('model accuracy')\n",
        "plt.ylabel('accuracy')\n",
        "plt.xlabel('epoch')\n",
        "plt.legend(['training set','validation set'], loc='upper left')\n",
        "plt.show()"
      ],
      "metadata": {
        "id": "3JJOu82piSrx",
        "colab": {
          "base_uri": "https://localhost:8080/",
          "height": 295
        },
        "outputId": "6604525c-0185-4934-e876-823a425c3fdb"
      },
      "execution_count": 115,
      "outputs": [
        {
          "output_type": "display_data",
          "data": {
            "text/plain": [
              "<Figure size 432x288 with 1 Axes>"
            ],
            "image/png": "[encoded data removed]"
          },
          "metadata": {
            "needs_background": "light"
          }
        }
      ]
    },
    {
      "cell_type": "code",
      "source": [
        "y_prob = model_indian.predict(X_test_bert_indian)\n",
        "y_pred = np.argmax(y_prob,axis=1)\n",
        "print(classification_report(y_test_int_indian,y_pred))"
      ],
      "metadata": {
        "id": "lNtfMWnKiSrx",
        "colab": {
          "base_uri": "https://localhost:8080/"
        },
        "outputId": "a3810022-de90-4c4d-b3e1-7c84ebdf4b7a"
      },
      "execution_count": 116,
      "outputs": [
        {
          "output_type": "stream",
          "name": "stdout",
          "text": [
            "              precision    recall  f1-score   support\n",
            "\n",
            "           0       0.00      0.00      0.00        12\n",
            "           1       0.91      1.00      0.95       115\n",
            "\n",
            "    accuracy                           0.91       127\n",
            "   macro avg       0.45      0.50      0.48       127\n",
            "weighted avg       0.82      0.91      0.86       127\n",
            "\n"
          ]
        },
        {
          "output_type": "stream",
          "name": "stderr",
          "text": [
            "/usr/local/lib/python3.7/dist-packages/sklearn/metrics/_classification.py:1318: UndefinedMetricWarning: Precision and F-score are ill-defined and being set to 0.0 in labels with no predicted samples. Use `zero_division` parameter to control this behavior.\n",
            "  _warn_prf(average, modifier, msg_start, len(result))\n",
            "/usr/local/lib/python3.7/dist-packages/sklearn/metrics/_classification.py:1318: UndefinedMetricWarning: Precision and F-score are ill-defined and being set to 0.0 in labels with no predicted samples. Use `zero_division` parameter to control this behavior.\n",
            "  _warn_prf(average, modifier, msg_start, len(result))\n",
            "/usr/local/lib/python3.7/dist-packages/sklearn/metrics/_classification.py:1318: UndefinedMetricWarning: Precision and F-score are ill-defined and being set to 0.0 in labels with no predicted samples. Use `zero_division` parameter to control this behavior.\n",
            "  _warn_prf(average, modifier, msg_start, len(result))\n"
          ]
        }
      ]
    }
  ],
  "metadata": {
    "accelerator": "GPU",
    "colab": {
      "collapsed_sections": [
        "EXBIaW8iNOp3",
        "XrZ43RFpWubJ",
        "y76wOBybvL5f",
        "bFEr-j0DW3Ui",
        "y8BLcackYjE2"
      ],
      "provenance": [],
      "authorship_tag": "ABX9TyN5P+ncTK7biqxAtjzcEGXY",
      "include_colab_link": true
    },
    "gpuClass": "standard",
    "kernelspec": {
      "display_name": "Python 3",
      "name": "python3"
    },
    "language_info": {
      "name": "python"
    },
    "widgets": {
      "application/vnd.jupyter.widget-state+json": {
        "52746a21869b46bfb6ecffef3130c1bd": {
          "model_module": "@jupyter-widgets/controls",
          "model_name": "HBoxModel",
          "model_module_version": "1.5.0",
          "state": {
            "_dom_classes": [],
            "_model_module": "@jupyter-widgets/controls",
            "_model_module_version": "1.5.0",
            "_model_name": "HBoxModel",
            "_view_count": null,
            "_view_module": "@jupyter-widgets/controls",
            "_view_module_version": "1.5.0",
            "_view_name": "HBoxView",
            "box_style": "",
            "children": [
              "IPY_MODEL_1d5fe5e5699748da956584c7f5bdc773",
              "IPY_MODEL_2907989dad884b2f83a45e151d9062a5",
              "IPY_MODEL_6eb84534f13a4ef1b6a62da92dc6c427"
            ],
            "layout": "IPY_MODEL_4a3bec6f3c21438281e277cc3d2b31ed"
          }
        },
        "1d5fe5e5699748da956584c7f5bdc773": {
          "model_module": "@jupyter-widgets/controls",
          "model_name": "HTMLModel",
          "model_module_version": "1.5.0",
          "state": {
            "_dom_classes": [],
            "_model_module": "@jupyter-widgets/controls",
            "_model_module_version": "1.5.0",
            "_model_name": "HTMLModel",
            "_view_count": null,
            "_view_module": "@jupyter-widgets/controls",
            "_view_module_version": "1.5.0",
            "_view_name": "HTMLView",
            "description": "",
            "description_tooltip": null,
            "layout": "IPY_MODEL_bfd3c5c6f12843d8af554eae44175d41",
            "placeholder": "​",
            "style": "IPY_MODEL_1b02748f1b75478d86fba6c20552860c",
            "value": ""
          }
        },
        "2907989dad884b2f83a45e151d9062a5": {
          "model_module": "@jupyter-widgets/controls",
          "model_name": "FloatProgressModel",
          "model_module_version": "1.5.0",
          "state": {
            "_dom_classes": [],
            "_model_module": "@jupyter-widgets/controls",
            "_model_module_version": "1.5.0",
            "_model_name": "FloatProgressModel",
            "_view_count": null,
            "_view_module": "@jupyter-widgets/controls",
            "_view_module_version": "1.5.0",
            "_view_name": "ProgressView",
            "bar_style": "success",
            "description": "",
            "description_tooltip": null,
            "layout": "IPY_MODEL_fd243c48635c4ee0ae4414f62a6e776d",
            "max": 1,
            "min": 0,
            "orientation": "horizontal",
            "style": "IPY_MODEL_75e44ee0f05b4c4e95edf27ab329627c",
            "value": 0
          }
        },
        "6eb84534f13a4ef1b6a62da92dc6c427": {
          "model_module": "@jupyter-widgets/controls",
          "model_name": "HTMLModel",
          "model_module_version": "1.5.0",
          "state": {
            "_dom_classes": [],
            "_model_module": "@jupyter-widgets/controls",
            "_model_module_version": "1.5.0",
            "_model_name": "HTMLModel",
            "_view_count": null,
            "_view_module": "@jupyter-widgets/controls",
            "_view_module_version": "1.5.0",
            "_view_name": "HTMLView",
            "description": "",
            "description_tooltip": null,
            "layout": "IPY_MODEL_fb9ffcb27bdf43be9dc15cb54c613194",
            "placeholder": "​",
            "style": "IPY_MODEL_39b4a92c0b94422888bea879837dfdac",
            "value": " 0/0 [00:00&lt;?, ?it/s]"
          }
        },
        "4a3bec6f3c21438281e277cc3d2b31ed": {
          "model_module": "@jupyter-widgets/base",
          "model_name": "LayoutModel",
          "model_module_version": "1.2.0",
          "state": {
            "_model_module": "@jupyter-widgets/base",
            "_model_module_version": "1.2.0",
            "_model_name": "LayoutModel",
            "_view_count": null,
            "_view_module": "@jupyter-widgets/base",
            "_view_module_version": "1.2.0",
            "_view_name": "LayoutView",
            "align_content": null,
            "align_items": null,
            "align_self": null,
            "border": null,
            "bottom": null,
            "display": null,
            "flex": null,
            "flex_flow": null,
            "grid_area": null,
            "grid_auto_columns": null,
            "grid_auto_flow": null,
            "grid_auto_rows": null,
            "grid_column": null,
            "grid_gap": null,
            "grid_row": null,
            "grid_template_areas": null,
            "grid_template_columns": null,
            "grid_template_rows": null,
            "height": null,
            "justify_content": null,
            "justify_items": null,
            "left": null,
            "margin": null,
            "max_height": null,
            "max_width": null,
            "min_height": null,
            "min_width": null,
            "object_fit": null,
            "object_position": null,
            "order": null,
            "overflow": null,
            "overflow_x": null,
            "overflow_y": null,
            "padding": null,
            "right": null,
            "top": null,
            "visibility": null,
            "width": null
          }
        },
        "bfd3c5c6f12843d8af554eae44175d41": {
          "model_module": "@jupyter-widgets/base",
          "model_name": "LayoutModel",
          "model_module_version": "1.2.0",
          "state": {
            "_model_module": "@jupyter-widgets/base",
            "_model_module_version": "1.2.0",
            "_model_name": "LayoutModel",
            "_view_count": null,
            "_view_module": "@jupyter-widgets/base",
            "_view_module_version": "1.2.0",
            "_view_name": "LayoutView",
            "align_content": null,
            "align_items": null,
            "align_self": null,
            "border": null,
            "bottom": null,
            "display": null,
            "flex": null,
            "flex_flow": null,
            "grid_area": null,
            "grid_auto_columns": null,
            "grid_auto_flow": null,
            "grid_auto_rows": null,
            "grid_column": null,
            "grid_gap": null,
            "grid_row": null,
            "grid_template_areas": null,
            "grid_template_columns": null,
            "grid_template_rows": null,
            "height": null,
            "justify_content": null,
            "justify_items": null,
            "left": null,
            "margin": null,
            "max_height": null,
            "max_width": null,
            "min_height": null,
            "min_width": null,
            "object_fit": null,
            "object_position": null,
            "order": null,
            "overflow": null,
            "overflow_x": null,
            "overflow_y": null,
            "padding": null,
            "right": null,
            "top": null,
            "visibility": null,
            "width": null
          }
        },
        "1b02748f1b75478d86fba6c20552860c": {
          "model_module": "@jupyter-widgets/controls",
          "model_name": "DescriptionStyleModel",
          "model_module_version": "1.5.0",
          "state": {
            "_model_module": "@jupyter-widgets/controls",
            "_model_module_version": "1.5.0",
            "_model_name": "DescriptionStyleModel",
            "_view_count": null,
            "_view_module": "@jupyter-widgets/base",
            "_view_module_version": "1.2.0",
            "_view_name": "StyleView",
            "description_width": ""
          }
        },
        "fd243c48635c4ee0ae4414f62a6e776d": {
          "model_module": "@jupyter-widgets/base",
          "model_name": "LayoutModel",
          "model_module_version": "1.2.0",
          "state": {
            "_model_module": "@jupyter-widgets/base",
            "_model_module_version": "1.2.0",
            "_model_name": "LayoutModel",
            "_view_count": null,
            "_view_module": "@jupyter-widgets/base",
            "_view_module_version": "1.2.0",
            "_view_name": "LayoutView",
            "align_content": null,
            "align_items": null,
            "align_self": null,
            "border": null,
            "bottom": null,
            "display": null,
            "flex": null,
            "flex_flow": null,
            "grid_area": null,
            "grid_auto_columns": null,
            "grid_auto_flow": null,
            "grid_auto_rows": null,
            "grid_column": null,
            "grid_gap": null,
            "grid_row": null,
            "grid_template_areas": null,
            "grid_template_columns": null,
            "grid_template_rows": null,
            "height": null,
            "justify_content": null,
            "justify_items": null,
            "left": null,
            "margin": null,
            "max_height": null,
            "max_width": null,
            "min_height": null,
            "min_width": null,
            "object_fit": null,
            "object_position": null,
            "order": null,
            "overflow": null,
            "overflow_x": null,
            "overflow_y": null,
            "padding": null,
            "right": null,
            "top": null,
            "visibility": null,
            "width": "20px"
          }
        },
        "75e44ee0f05b4c4e95edf27ab329627c": {
          "model_module": "@jupyter-widgets/controls",
          "model_name": "ProgressStyleModel",
          "model_module_version": "1.5.0",
          "state": {
            "_model_module": "@jupyter-widgets/controls",
            "_model_module_version": "1.5.0",
            "_model_name": "ProgressStyleModel",
            "_view_count": null,
            "_view_module": "@jupyter-widgets/base",
            "_view_module_version": "1.2.0",
            "_view_name": "StyleView",
            "bar_color": null,
            "description_width": ""
          }
        },
        "fb9ffcb27bdf43be9dc15cb54c613194": {
          "model_module": "@jupyter-widgets/base",
          "model_name": "LayoutModel",
          "model_module_version": "1.2.0",
          "state": {
            "_model_module": "@jupyter-widgets/base",
            "_model_module_version": "1.2.0",
            "_model_name": "LayoutModel",
            "_view_count": null,
            "_view_module": "@jupyter-widgets/base",
            "_view_module_version": "1.2.0",
            "_view_name": "LayoutView",
            "align_content": null,
            "align_items": null,
            "align_self": null,
            "border": null,
            "bottom": null,
            "display": null,
            "flex": null,
            "flex_flow": null,
            "grid_area": null,
            "grid_auto_columns": null,
            "grid_auto_flow": null,
            "grid_auto_rows": null,
            "grid_column": null,
            "grid_gap": null,
            "grid_row": null,
            "grid_template_areas": null,
            "grid_template_columns": null,
            "grid_template_rows": null,
            "height": null,
            "justify_content": null,
            "justify_items": null,
            "left": null,
            "margin": null,
            "max_height": null,
            "max_width": null,
            "min_height": null,
            "min_width": null,
            "object_fit": null,
            "object_position": null,
            "order": null,
            "overflow": null,
            "overflow_x": null,
            "overflow_y": null,
            "padding": null,
            "right": null,
            "top": null,
            "visibility": null,
            "width": null
          }
        },
        "39b4a92c0b94422888bea879837dfdac": {
          "model_module": "@jupyter-widgets/controls",
          "model_name": "DescriptionStyleModel",
          "model_module_version": "1.5.0",
          "state": {
            "_model_module": "@jupyter-widgets/controls",
            "_model_module_version": "1.5.0",
            "_model_name": "DescriptionStyleModel",
            "_view_count": null,
            "_view_module": "@jupyter-widgets/base",
            "_view_module_version": "1.2.0",
            "_view_name": "StyleView",
            "description_width": ""
          }
        },
        "94f84a42e2834f808307917a69c7bf59": {
          "model_module": "@jupyter-widgets/controls",
          "model_name": "HBoxModel",
          "model_module_version": "1.5.0",
          "state": {
            "_dom_classes": [],
            "_model_module": "@jupyter-widgets/controls",
            "_model_module_version": "1.5.0",
            "_model_name": "HBoxModel",
            "_view_count": null,
            "_view_module": "@jupyter-widgets/controls",
            "_view_module_version": "1.5.0",
            "_view_name": "HBoxView",
            "box_style": "",
            "children": [
              "IPY_MODEL_70461fa45cac46fb939b46c80e4dc10a",
              "IPY_MODEL_ebfc21c0e2f4495a8f70a12b902fbe22",
              "IPY_MODEL_4ac6f5deb27a44fba45821e98f89c0cd"
            ],
            "layout": "IPY_MODEL_f75dd52869854e79b0a8ca551d3cec5c"
          }
        },
        "70461fa45cac46fb939b46c80e4dc10a": {
          "model_module": "@jupyter-widgets/controls",
          "model_name": "HTMLModel",
          "model_module_version": "1.5.0",
          "state": {
            "_dom_classes": [],
            "_model_module": "@jupyter-widgets/controls",
            "_model_module_version": "1.5.0",
            "_model_name": "HTMLModel",
            "_view_count": null,
            "_view_module": "@jupyter-widgets/controls",
            "_view_module_version": "1.5.0",
            "_view_name": "HTMLView",
            "description": "",
            "description_tooltip": null,
            "layout": "IPY_MODEL_9d22fe018fe84088ab6b84d8366729ce",
            "placeholder": "​",
            "style": "IPY_MODEL_cde63231c65e45149056bd70c39a8c0b",
            "value": "Downloading: 100%"
          }
        },
        "ebfc21c0e2f4495a8f70a12b902fbe22": {
          "model_module": "@jupyter-widgets/controls",
          "model_name": "FloatProgressModel",
          "model_module_version": "1.5.0",
          "state": {
            "_dom_classes": [],
            "_model_module": "@jupyter-widgets/controls",
            "_model_module_version": "1.5.0",
            "_model_name": "FloatProgressModel",
            "_view_count": null,
            "_view_module": "@jupyter-widgets/controls",
            "_view_module_version": "1.5.0",
            "_view_name": "ProgressView",
            "bar_style": "success",
            "description": "",
            "description_tooltip": null,
            "layout": "IPY_MODEL_8f4232331a4945ebb99089be64532b18",
            "max": 995526,
            "min": 0,
            "orientation": "horizontal",
            "style": "IPY_MODEL_93b307721f674f178858f9ebd4a47880",
            "value": 995526
          }
        },
        "4ac6f5deb27a44fba45821e98f89c0cd": {
          "model_module": "@jupyter-widgets/controls",
          "model_name": "HTMLModel",
          "model_module_version": "1.5.0",
          "state": {
            "_dom_classes": [],
            "_model_module": "@jupyter-widgets/controls",
            "_model_module_version": "1.5.0",
            "_model_name": "HTMLModel",
            "_view_count": null,
            "_view_module": "@jupyter-widgets/controls",
            "_view_module_version": "1.5.0",
            "_view_name": "HTMLView",
            "description": "",
            "description_tooltip": null,
            "layout": "IPY_MODEL_d5071d0ad81f4dbfb69f8d3c734836dd",
            "placeholder": "​",
            "style": "IPY_MODEL_6d7ba1c854374312bb46c047ccf0d610",
            "value": " 996k/996k [00:00&lt;00:00, 14.3MB/s]"
          }
        },
        "f75dd52869854e79b0a8ca551d3cec5c": {
          "model_module": "@jupyter-widgets/base",
          "model_name": "LayoutModel",
          "model_module_version": "1.2.0",
          "state": {
            "_model_module": "@jupyter-widgets/base",
            "_model_module_version": "1.2.0",
            "_model_name": "LayoutModel",
            "_view_count": null,
            "_view_module": "@jupyter-widgets/base",
            "_view_module_version": "1.2.0",
            "_view_name": "LayoutView",
            "align_content": null,
            "align_items": null,
            "align_self": null,
            "border": null,
            "bottom": null,
            "display": null,
            "flex": null,
            "flex_flow": null,
            "grid_area": null,
            "grid_auto_columns": null,
            "grid_auto_flow": null,
            "grid_auto_rows": null,
            "grid_column": null,
            "grid_gap": null,
            "grid_row": null,
            "grid_template_areas": null,
            "grid_template_columns": null,
            "grid_template_rows": null,
            "height": null,
            "justify_content": null,
            "justify_items": null,
            "left": null,
            "margin": null,
            "max_height": null,
            "max_width": null,
            "min_height": null,
            "min_width": null,
            "object_fit": null,
            "object_position": null,
            "order": null,
            "overflow": null,
            "overflow_x": null,
            "overflow_y": null,
            "padding": null,
            "right": null,
            "top": null,
            "visibility": null,
            "width": null
          }
        },
        "9d22fe018fe84088ab6b84d8366729ce": {
          "model_module": "@jupyter-widgets/base",
          "model_name": "LayoutModel",
          "model_module_version": "1.2.0",
          "state": {
            "_model_module": "@jupyter-widgets/base",
            "_model_module_version": "1.2.0",
            "_model_name": "LayoutModel",
            "_view_count": null,
            "_view_module": "@jupyter-widgets/base",
            "_view_module_version": "1.2.0",
            "_view_name": "LayoutView",
            "align_content": null,
            "align_items": null,
            "align_self": null,
            "border": null,
            "bottom": null,
            "display": null,
            "flex": null,
            "flex_flow": null,
            "grid_area": null,
            "grid_auto_columns": null,
            "grid_auto_flow": null,
            "grid_auto_rows": null,
            "grid_column": null,
            "grid_gap": null,
            "grid_row": null,
            "grid_template_areas": null,
            "grid_template_columns": null,
            "grid_template_rows": null,
            "height": null,
            "justify_content": null,
            "justify_items": null,
            "left": null,
            "margin": null,
            "max_height": null,
            "max_width": null,
            "min_height": null,
            "min_width": null,
            "object_fit": null,
            "object_position": null,
            "order": null,
            "overflow": null,
            "overflow_x": null,
            "overflow_y": null,
            "padding": null,
            "right": null,
            "top": null,
            "visibility": null,
            "width": null
          }
        },
        "cde63231c65e45149056bd70c39a8c0b": {
          "model_module": "@jupyter-widgets/controls",
          "model_name": "DescriptionStyleModel",
          "model_module_version": "1.5.0",
          "state": {
            "_model_module": "@jupyter-widgets/controls",
            "_model_module_version": "1.5.0",
            "_model_name": "DescriptionStyleModel",
            "_view_count": null,
            "_view_module": "@jupyter-widgets/base",
            "_view_module_version": "1.2.0",
            "_view_name": "StyleView",
            "description_width": ""
          }
        },
        "8f4232331a4945ebb99089be64532b18": {
          "model_module": "@jupyter-widgets/base",
          "model_name": "LayoutModel",
          "model_module_version": "1.2.0",
          "state": {
            "_model_module": "@jupyter-widgets/base",
            "_model_module_version": "1.2.0",
            "_model_name": "LayoutModel",
            "_view_count": null,
            "_view_module": "@jupyter-widgets/base",
            "_view_module_version": "1.2.0",
            "_view_name": "LayoutView",
            "align_content": null,
            "align_items": null,
            "align_self": null,
            "border": null,
            "bottom": null,
            "display": null,
            "flex": null,
            "flex_flow": null,
            "grid_area": null,
            "grid_auto_columns": null,
            "grid_auto_flow": null,
            "grid_auto_rows": null,
            "grid_column": null,
            "grid_gap": null,
            "grid_row": null,
            "grid_template_areas": null,
            "grid_template_columns": null,
            "grid_template_rows": null,
            "height": null,
            "justify_content": null,
            "justify_items": null,
            "left": null,
            "margin": null,
            "max_height": null,
            "max_width": null,
            "min_height": null,
            "min_width": null,
            "object_fit": null,
            "object_position": null,
            "order": null,
            "overflow": null,
            "overflow_x": null,
            "overflow_y": null,
            "padding": null,
            "right": null,
            "top": null,
            "visibility": null,
            "width": null
          }
        },
        "93b307721f674f178858f9ebd4a47880": {
          "model_module": "@jupyter-widgets/controls",
          "model_name": "ProgressStyleModel",
          "model_module_version": "1.5.0",
          "state": {
            "_model_module": "@jupyter-widgets/controls",
            "_model_module_version": "1.5.0",
            "_model_name": "ProgressStyleModel",
            "_view_count": null,
            "_view_module": "@jupyter-widgets/base",
            "_view_module_version": "1.2.0",
            "_view_name": "StyleView",
            "bar_color": null,
            "description_width": ""
          }
        },
        "d5071d0ad81f4dbfb69f8d3c734836dd": {
          "model_module": "@jupyter-widgets/base",
          "model_name": "LayoutModel",
          "model_module_version": "1.2.0",
          "state": {
            "_model_module": "@jupyter-widgets/base",
            "_model_module_version": "1.2.0",
            "_model_name": "LayoutModel",
            "_view_count": null,
            "_view_module": "@jupyter-widgets/base",
            "_view_module_version": "1.2.0",
            "_view_name": "LayoutView",
            "align_content": null,
            "align_items": null,
            "align_self": null,
            "border": null,
            "bottom": null,
            "display": null,
            "flex": null,
            "flex_flow": null,
            "grid_area": null,
            "grid_auto_columns": null,
            "grid_auto_flow": null,
            "grid_auto_rows": null,
            "grid_column": null,
            "grid_gap": null,
            "grid_row": null,
            "grid_template_areas": null,
            "grid_template_columns": null,
            "grid_template_rows": null,
            "height": null,
            "justify_content": null,
            "justify_items": null,
            "left": null,
            "margin": null,
            "max_height": null,
            "max_width": null,
            "min_height": null,
            "min_width": null,
            "object_fit": null,
            "object_position": null,
            "order": null,
            "overflow": null,
            "overflow_x": null,
            "overflow_y": null,
            "padding": null,
            "right": null,
            "top": null,
            "visibility": null,
            "width": null
          }
        },
        "6d7ba1c854374312bb46c047ccf0d610": {
          "model_module": "@jupyter-widgets/controls",
          "model_name": "DescriptionStyleModel",
          "model_module_version": "1.5.0",
          "state": {
            "_model_module": "@jupyter-widgets/controls",
            "_model_module_version": "1.5.0",
            "_model_name": "DescriptionStyleModel",
            "_view_count": null,
            "_view_module": "@jupyter-widgets/base",
            "_view_module_version": "1.2.0",
            "_view_name": "StyleView",
            "description_width": ""
          }
        },
        "c4704f34c96747a3956b9e1169d12f5b": {
          "model_module": "@jupyter-widgets/controls",
          "model_name": "HBoxModel",
          "model_module_version": "1.5.0",
          "state": {
            "_dom_classes": [],
            "_model_module": "@jupyter-widgets/controls",
            "_model_module_version": "1.5.0",
            "_model_name": "HBoxModel",
            "_view_count": null,
            "_view_module": "@jupyter-widgets/controls",
            "_view_module_version": "1.5.0",
            "_view_name": "HBoxView",
            "box_style": "",
            "children": [
              "IPY_MODEL_a71069672e274d1e92117f4fe005ff18",
              "IPY_MODEL_d0764070c0f14b51b8914bd161a8567d",
              "IPY_MODEL_880de92ae54a4d05be1ea77253dcb29a"
            ],
            "layout": "IPY_MODEL_63f1eb5f1e6e4634ace059f65abc33bd"
          }
        },
        "a71069672e274d1e92117f4fe005ff18": {
          "model_module": "@jupyter-widgets/controls",
          "model_name": "HTMLModel",
          "model_module_version": "1.5.0",
          "state": {
            "_dom_classes": [],
            "_model_module": "@jupyter-widgets/controls",
            "_model_module_version": "1.5.0",
            "_model_name": "HTMLModel",
            "_view_count": null,
            "_view_module": "@jupyter-widgets/controls",
            "_view_module_version": "1.5.0",
            "_view_name": "HTMLView",
            "description": "",
            "description_tooltip": null,
            "layout": "IPY_MODEL_c2fb958132744944bbb00441146df44c",
            "placeholder": "​",
            "style": "IPY_MODEL_8b0791c13bdb45fda829c52064d3f43f",
            "value": "Downloading: 100%"
          }
        },
        "d0764070c0f14b51b8914bd161a8567d": {
          "model_module": "@jupyter-widgets/controls",
          "model_name": "FloatProgressModel",
          "model_module_version": "1.5.0",
          "state": {
            "_dom_classes": [],
            "_model_module": "@jupyter-widgets/controls",
            "_model_module_version": "1.5.0",
            "_model_name": "FloatProgressModel",
            "_view_count": null,
            "_view_module": "@jupyter-widgets/controls",
            "_view_module_version": "1.5.0",
            "_view_name": "ProgressView",
            "bar_style": "success",
            "description": "",
            "description_tooltip": null,
            "layout": "IPY_MODEL_6f40793b5072485e92162c48f4321576",
            "max": 29,
            "min": 0,
            "orientation": "horizontal",
            "style": "IPY_MODEL_06948280ec81402e943bb08e82841c89",
            "value": 29
          }
        },
        "880de92ae54a4d05be1ea77253dcb29a": {
          "model_module": "@jupyter-widgets/controls",
          "model_name": "HTMLModel",
          "model_module_version": "1.5.0",
          "state": {
            "_dom_classes": [],
            "_model_module": "@jupyter-widgets/controls",
            "_model_module_version": "1.5.0",
            "_model_name": "HTMLModel",
            "_view_count": null,
            "_view_module": "@jupyter-widgets/controls",
            "_view_module_version": "1.5.0",
            "_view_name": "HTMLView",
            "description": "",
            "description_tooltip": null,
            "layout": "IPY_MODEL_8c6b0faaf89c484bb30f8768e05d7a13",
            "placeholder": "​",
            "style": "IPY_MODEL_c38d8a75c9954335af11355bfc382902",
            "value": " 29.0/29.0 [00:00&lt;00:00, 884B/s]"
          }
        },
        "63f1eb5f1e6e4634ace059f65abc33bd": {
          "model_module": "@jupyter-widgets/base",
          "model_name": "LayoutModel",
          "model_module_version": "1.2.0",
          "state": {
            "_model_module": "@jupyter-widgets/base",
            "_model_module_version": "1.2.0",
            "_model_name": "LayoutModel",
            "_view_count": null,
            "_view_module": "@jupyter-widgets/base",
            "_view_module_version": "1.2.0",
            "_view_name": "LayoutView",
            "align_content": null,
            "align_items": null,
            "align_self": null,
            "border": null,
            "bottom": null,
            "display": null,
            "flex": null,
            "flex_flow": null,
            "grid_area": null,
            "grid_auto_columns": null,
            "grid_auto_flow": null,
            "grid_auto_rows": null,
            "grid_column": null,
            "grid_gap": null,
            "grid_row": null,
            "grid_template_areas": null,
            "grid_template_columns": null,
            "grid_template_rows": null,
            "height": null,
            "justify_content": null,
            "justify_items": null,
            "left": null,
            "margin": null,
            "max_height": null,
            "max_width": null,
            "min_height": null,
            "min_width": null,
            "object_fit": null,
            "object_position": null,
            "order": null,
            "overflow": null,
            "overflow_x": null,
            "overflow_y": null,
            "padding": null,
            "right": null,
            "top": null,
            "visibility": null,
            "width": null
          }
        },
        "c2fb958132744944bbb00441146df44c": {
          "model_module": "@jupyter-widgets/base",
          "model_name": "LayoutModel",
          "model_module_version": "1.2.0",
          "state": {
            "_model_module": "@jupyter-widgets/base",
            "_model_module_version": "1.2.0",
            "_model_name": "LayoutModel",
            "_view_count": null,
            "_view_module": "@jupyter-widgets/base",
            "_view_module_version": "1.2.0",
            "_view_name": "LayoutView",
            "align_content": null,
            "align_items": null,
            "align_self": null,
            "border": null,
            "bottom": null,
            "display": null,
            "flex": null,
            "flex_flow": null,
            "grid_area": null,
            "grid_auto_columns": null,
            "grid_auto_flow": null,
            "grid_auto_rows": null,
            "grid_column": null,
            "grid_gap": null,
            "grid_row": null,
            "grid_template_areas": null,
            "grid_template_columns": null,
            "grid_template_rows": null,
            "height": null,
            "justify_content": null,
            "justify_items": null,
            "left": null,
            "margin": null,
            "max_height": null,
            "max_width": null,
            "min_height": null,
            "min_width": null,
            "object_fit": null,
            "object_position": null,
            "order": null,
            "overflow": null,
            "overflow_x": null,
            "overflow_y": null,
            "padding": null,
            "right": null,
            "top": null,
            "visibility": null,
            "width": null
          }
        },
        "8b0791c13bdb45fda829c52064d3f43f": {
          "model_module": "@jupyter-widgets/controls",
          "model_name": "DescriptionStyleModel",
          "model_module_version": "1.5.0",
          "state": {
            "_model_module": "@jupyter-widgets/controls",
            "_model_module_version": "1.5.0",
            "_model_name": "DescriptionStyleModel",
            "_view_count": null,
            "_view_module": "@jupyter-widgets/base",
            "_view_module_version": "1.2.0",
            "_view_name": "StyleView",
            "description_width": ""
          }
        },
        "6f40793b5072485e92162c48f4321576": {
          "model_module": "@jupyter-widgets/base",
          "model_name": "LayoutModel",
          "model_module_version": "1.2.0",
          "state": {
            "_model_module": "@jupyter-widgets/base",
            "_model_module_version": "1.2.0",
            "_model_name": "LayoutModel",
            "_view_count": null,
            "_view_module": "@jupyter-widgets/base",
            "_view_module_version": "1.2.0",
            "_view_name": "LayoutView",
            "align_content": null,
            "align_items": null,
            "align_self": null,
            "border": null,
            "bottom": null,
            "display": null,
            "flex": null,
            "flex_flow": null,
            "grid_area": null,
            "grid_auto_columns": null,
            "grid_auto_flow": null,
            "grid_auto_rows": null,
            "grid_column": null,
            "grid_gap": null,
            "grid_row": null,
            "grid_template_areas": null,
            "grid_template_columns": null,
            "grid_template_rows": null,
            "height": null,
            "justify_content": null,
            "justify_items": null,
            "left": null,
            "margin": null,
            "max_height": null,
            "max_width": null,
            "min_height": null,
            "min_width": null,
            "object_fit": null,
            "object_position": null,
            "order": null,
            "overflow": null,
            "overflow_x": null,
            "overflow_y": null,
            "padding": null,
            "right": null,
            "top": null,
            "visibility": null,
            "width": null
          }
        },
        "06948280ec81402e943bb08e82841c89": {
          "model_module": "@jupyter-widgets/controls",
          "model_name": "ProgressStyleModel",
          "model_module_version": "1.5.0",
          "state": {
            "_model_module": "@jupyter-widgets/controls",
            "_model_module_version": "1.5.0",
            "_model_name": "ProgressStyleModel",
            "_view_count": null,
            "_view_module": "@jupyter-widgets/base",
            "_view_module_version": "1.2.0",
            "_view_name": "StyleView",
            "bar_color": null,
            "description_width": ""
          }
        },
        "8c6b0faaf89c484bb30f8768e05d7a13": {
          "model_module": "@jupyter-widgets/base",
          "model_name": "LayoutModel",
          "model_module_version": "1.2.0",
          "state": {
            "_model_module": "@jupyter-widgets/base",
            "_model_module_version": "1.2.0",
            "_model_name": "LayoutModel",
            "_view_count": null,
            "_view_module": "@jupyter-widgets/base",
            "_view_module_version": "1.2.0",
            "_view_name": "LayoutView",
            "align_content": null,
            "align_items": null,
            "align_self": null,
            "border": null,
            "bottom": null,
            "display": null,
            "flex": null,
            "flex_flow": null,
            "grid_area": null,
            "grid_auto_columns": null,
            "grid_auto_flow": null,
            "grid_auto_rows": null,
            "grid_column": null,
            "grid_gap": null,
            "grid_row": null,
            "grid_template_areas": null,
            "grid_template_columns": null,
            "grid_template_rows": null,
            "height": null,
            "justify_content": null,
            "justify_items": null,
            "left": null,
            "margin": null,
            "max_height": null,
            "max_width": null,
            "min_height": null,
            "min_width": null,
            "object_fit": null,
            "object_position": null,
            "order": null,
            "overflow": null,
            "overflow_x": null,
            "overflow_y": null,
            "padding": null,
            "right": null,
            "top": null,
            "visibility": null,
            "width": null
          }
        },
        "c38d8a75c9954335af11355bfc382902": {
          "model_module": "@jupyter-widgets/controls",
          "model_name": "DescriptionStyleModel",
          "model_module_version": "1.5.0",
          "state": {
            "_model_module": "@jupyter-widgets/controls",
            "_model_module_version": "1.5.0",
            "_model_name": "DescriptionStyleModel",
            "_view_count": null,
            "_view_module": "@jupyter-widgets/base",
            "_view_module_version": "1.2.0",
            "_view_name": "StyleView",
            "description_width": ""
          }
        },
        "b3d943f8df894f81a6b154f66905d8a1": {
          "model_module": "@jupyter-widgets/controls",
          "model_name": "HBoxModel",
          "model_module_version": "1.5.0",
          "state": {
            "_dom_classes": [],
            "_model_module": "@jupyter-widgets/controls",
            "_model_module_version": "1.5.0",
            "_model_name": "HBoxModel",
            "_view_count": null,
            "_view_module": "@jupyter-widgets/controls",
            "_view_module_version": "1.5.0",
            "_view_name": "HBoxView",
            "box_style": "",
            "children": [
              "IPY_MODEL_9cd0649af5fa474bbcd3adc6179e2ab6",
              "IPY_MODEL_c7a69cb5f9104ca88ffe9f591a3c94a5",
              "IPY_MODEL_184229d3e3ed4d2c94e49025d7ea1567"
            ],
            "layout": "IPY_MODEL_9b606fa9a6c3411895b982e9ec52a533"
          }
        },
        "9cd0649af5fa474bbcd3adc6179e2ab6": {
          "model_module": "@jupyter-widgets/controls",
          "model_name": "HTMLModel",
          "model_module_version": "1.5.0",
          "state": {
            "_dom_classes": [],
            "_model_module": "@jupyter-widgets/controls",
            "_model_module_version": "1.5.0",
            "_model_name": "HTMLModel",
            "_view_count": null,
            "_view_module": "@jupyter-widgets/controls",
            "_view_module_version": "1.5.0",
            "_view_name": "HTMLView",
            "description": "",
            "description_tooltip": null,
            "layout": "IPY_MODEL_b0f5cb08d73141a9bde8f46569ea9ab9",
            "placeholder": "​",
            "style": "IPY_MODEL_578671cbcb2c47148ba3e1451a62f251",
            "value": "Downloading: 100%"
          }
        },
        "c7a69cb5f9104ca88ffe9f591a3c94a5": {
          "model_module": "@jupyter-widgets/controls",
          "model_name": "FloatProgressModel",
          "model_module_version": "1.5.0",
          "state": {
            "_dom_classes": [],
            "_model_module": "@jupyter-widgets/controls",
            "_model_module_version": "1.5.0",
            "_model_name": "FloatProgressModel",
            "_view_count": null,
            "_view_module": "@jupyter-widgets/controls",
            "_view_module_version": "1.5.0",
            "_view_name": "ProgressView",
            "bar_style": "success",
            "description": "",
            "description_tooltip": null,
            "layout": "IPY_MODEL_70457ba38b95406b8502d2014d58c3d2",
            "max": 625,
            "min": 0,
            "orientation": "horizontal",
            "style": "IPY_MODEL_a942fba050ac4d5a9cf358f54b1f18bb",
            "value": 625
          }
        },
        "184229d3e3ed4d2c94e49025d7ea1567": {
          "model_module": "@jupyter-widgets/controls",
          "model_name": "HTMLModel",
          "model_module_version": "1.5.0",
          "state": {
            "_dom_classes": [],
            "_model_module": "@jupyter-widgets/controls",
            "_model_module_version": "1.5.0",
            "_model_name": "HTMLModel",
            "_view_count": null,
            "_view_module": "@jupyter-widgets/controls",
            "_view_module_version": "1.5.0",
            "_view_name": "HTMLView",
            "description": "",
            "description_tooltip": null,
            "layout": "IPY_MODEL_fdd8b416e8a2468ba984e1e0eea6573d",
            "placeholder": "​",
            "style": "IPY_MODEL_af95dc19971e4daf96a161b8be246a3d",
            "value": " 625/625 [00:00&lt;00:00, 6.04kB/s]"
          }
        },
        "9b606fa9a6c3411895b982e9ec52a533": {
          "model_module": "@jupyter-widgets/base",
          "model_name": "LayoutModel",
          "model_module_version": "1.2.0",
          "state": {
            "_model_module": "@jupyter-widgets/base",
            "_model_module_version": "1.2.0",
            "_model_name": "LayoutModel",
            "_view_count": null,
            "_view_module": "@jupyter-widgets/base",
            "_view_module_version": "1.2.0",
            "_view_name": "LayoutView",
            "align_content": null,
            "align_items": null,
            "align_self": null,
            "border": null,
            "bottom": null,
            "display": null,
            "flex": null,
            "flex_flow": null,
            "grid_area": null,
            "grid_auto_columns": null,
            "grid_auto_flow": null,
            "grid_auto_rows": null,
            "grid_column": null,
            "grid_gap": null,
            "grid_row": null,
            "grid_template_areas": null,
            "grid_template_columns": null,
            "grid_template_rows": null,
            "height": null,
            "justify_content": null,
            "justify_items": null,
            "left": null,
            "margin": null,
            "max_height": null,
            "max_width": null,
            "min_height": null,
            "min_width": null,
            "object_fit": null,
            "object_position": null,
            "order": null,
            "overflow": null,
            "overflow_x": null,
            "overflow_y": null,
            "padding": null,
            "right": null,
            "top": null,
            "visibility": null,
            "width": null
          }
        },
        "b0f5cb08d73141a9bde8f46569ea9ab9": {
          "model_module": "@jupyter-widgets/base",
          "model_name": "LayoutModel",
          "model_module_version": "1.2.0",
          "state": {
            "_model_module": "@jupyter-widgets/base",
            "_model_module_version": "1.2.0",
            "_model_name": "LayoutModel",
            "_view_count": null,
            "_view_module": "@jupyter-widgets/base",
            "_view_module_version": "1.2.0",
            "_view_name": "LayoutView",
            "align_content": null,
            "align_items": null,
            "align_self": null,
            "border": null,
            "bottom": null,
            "display": null,
            "flex": null,
            "flex_flow": null,
            "grid_area": null,
            "grid_auto_columns": null,
            "grid_auto_flow": null,
            "grid_auto_rows": null,
            "grid_column": null,
            "grid_gap": null,
            "grid_row": null,
            "grid_template_areas": null,
            "grid_template_columns": null,
            "grid_template_rows": null,
            "height": null,
            "justify_content": null,
            "justify_items": null,
            "left": null,
            "margin": null,
            "max_height": null,
            "max_width": null,
            "min_height": null,
            "min_width": null,
            "object_fit": null,
            "object_position": null,
            "order": null,
            "overflow": null,
            "overflow_x": null,
            "overflow_y": null,
            "padding": null,
            "right": null,
            "top": null,
            "visibility": null,
            "width": null
          }
        },
        "578671cbcb2c47148ba3e1451a62f251": {
          "model_module": "@jupyter-widgets/controls",
          "model_name": "DescriptionStyleModel",
          "model_module_version": "1.5.0",
          "state": {
            "_model_module": "@jupyter-widgets/controls",
            "_model_module_version": "1.5.0",
            "_model_name": "DescriptionStyleModel",
            "_view_count": null,
            "_view_module": "@jupyter-widgets/base",
            "_view_module_version": "1.2.0",
            "_view_name": "StyleView",
            "description_width": ""
          }
        },
        "70457ba38b95406b8502d2014d58c3d2": {
          "model_module": "@jupyter-widgets/base",
          "model_name": "LayoutModel",
          "model_module_version": "1.2.0",
          "state": {
            "_model_module": "@jupyter-widgets/base",
            "_model_module_version": "1.2.0",
            "_model_name": "LayoutModel",
            "_view_count": null,
            "_view_module": "@jupyter-widgets/base",
            "_view_module_version": "1.2.0",
            "_view_name": "LayoutView",
            "align_content": null,
            "align_items": null,
            "align_self": null,
            "border": null,
            "bottom": null,
            "display": null,
            "flex": null,
            "flex_flow": null,
            "grid_area": null,
            "grid_auto_columns": null,
            "grid_auto_flow": null,
            "grid_auto_rows": null,
            "grid_column": null,
            "grid_gap": null,
            "grid_row": null,
            "grid_template_areas": null,
            "grid_template_columns": null,
            "grid_template_rows": null,
            "height": null,
            "justify_content": null,
            "justify_items": null,
            "left": null,
            "margin": null,
            "max_height": null,
            "max_width": null,
            "min_height": null,
            "min_width": null,
            "object_fit": null,
            "object_position": null,
            "order": null,
            "overflow": null,
            "overflow_x": null,
            "overflow_y": null,
            "padding": null,
            "right": null,
            "top": null,
            "visibility": null,
            "width": null
          }
        },
        "a942fba050ac4d5a9cf358f54b1f18bb": {
          "model_module": "@jupyter-widgets/controls",
          "model_name": "ProgressStyleModel",
          "model_module_version": "1.5.0",
          "state": {
            "_model_module": "@jupyter-widgets/controls",
            "_model_module_version": "1.5.0",
            "_model_name": "ProgressStyleModel",
            "_view_count": null,
            "_view_module": "@jupyter-widgets/base",
            "_view_module_version": "1.2.0",
            "_view_name": "StyleView",
            "bar_color": null,
            "description_width": ""
          }
        },
        "fdd8b416e8a2468ba984e1e0eea6573d": {
          "model_module": "@jupyter-widgets/base",
          "model_name": "LayoutModel",
          "model_module_version": "1.2.0",
          "state": {
            "_model_module": "@jupyter-widgets/base",
            "_model_module_version": "1.2.0",
            "_model_name": "LayoutModel",
            "_view_count": null,
            "_view_module": "@jupyter-widgets/base",
            "_view_module_version": "1.2.0",
            "_view_name": "LayoutView",
            "align_content": null,
            "align_items": null,
            "align_self": null,
            "border": null,
            "bottom": null,
            "display": null,
            "flex": null,
            "flex_flow": null,
            "grid_area": null,
            "grid_auto_columns": null,
            "grid_auto_flow": null,
            "grid_auto_rows": null,
            "grid_column": null,
            "grid_gap": null,
            "grid_row": null,
            "grid_template_areas": null,
            "grid_template_columns": null,
            "grid_template_rows": null,
            "height": null,
            "justify_content": null,
            "justify_items": null,
            "left": null,
            "margin": null,
            "max_height": null,
            "max_width": null,
            "min_height": null,
            "min_width": null,
            "object_fit": null,
            "object_position": null,
            "order": null,
            "overflow": null,
            "overflow_x": null,
            "overflow_y": null,
            "padding": null,
            "right": null,
            "top": null,
            "visibility": null,
            "width": null
          }
        },
        "af95dc19971e4daf96a161b8be246a3d": {
          "model_module": "@jupyter-widgets/controls",
          "model_name": "DescriptionStyleModel",
          "model_module_version": "1.5.0",
          "state": {
            "_model_module": "@jupyter-widgets/controls",
            "_model_module_version": "1.5.0",
            "_model_name": "DescriptionStyleModel",
            "_view_count": null,
            "_view_module": "@jupyter-widgets/base",
            "_view_module_version": "1.2.0",
            "_view_name": "StyleView",
            "description_width": ""
          }
        },
        "977fd4e385a54895825a22a35748d549": {
          "model_module": "@jupyter-widgets/controls",
          "model_name": "HBoxModel",
          "model_module_version": "1.5.0",
          "state": {
            "_dom_classes": [],
            "_model_module": "@jupyter-widgets/controls",
            "_model_module_version": "1.5.0",
            "_model_name": "HBoxModel",
            "_view_count": null,
            "_view_module": "@jupyter-widgets/controls",
            "_view_module_version": "1.5.0",
            "_view_name": "HBoxView",
            "box_style": "",
            "children": [
              "IPY_MODEL_872c9133597543bb86a5c95d65a2ea49",
              "IPY_MODEL_771cc0010fb44d3bbe85fb114017f476",
              "IPY_MODEL_e439f32aab36480eab846d385d834a85"
            ],
            "layout": "IPY_MODEL_e4a59feed795429db00ac4046fb57c07"
          }
        },
        "872c9133597543bb86a5c95d65a2ea49": {
          "model_module": "@jupyter-widgets/controls",
          "model_name": "HTMLModel",
          "model_module_version": "1.5.0",
          "state": {
            "_dom_classes": [],
            "_model_module": "@jupyter-widgets/controls",
            "_model_module_version": "1.5.0",
            "_model_name": "HTMLModel",
            "_view_count": null,
            "_view_module": "@jupyter-widgets/controls",
            "_view_module_version": "1.5.0",
            "_view_name": "HTMLView",
            "description": "",
            "description_tooltip": null,
            "layout": "IPY_MODEL_29858628caea4faab659785425d16865",
            "placeholder": "​",
            "style": "IPY_MODEL_d48ee0d76edb4d6d9ef135da3a7b1aeb",
            "value": "Downloading: 100%"
          }
        },
        "771cc0010fb44d3bbe85fb114017f476": {
          "model_module": "@jupyter-widgets/controls",
          "model_name": "FloatProgressModel",
          "model_module_version": "1.5.0",
          "state": {
            "_dom_classes": [],
            "_model_module": "@jupyter-widgets/controls",
            "_model_module_version": "1.5.0",
            "_model_name": "FloatProgressModel",
            "_view_count": null,
            "_view_module": "@jupyter-widgets/controls",
            "_view_module_version": "1.5.0",
            "_view_name": "ProgressView",
            "bar_style": "success",
            "description": "",
            "description_tooltip": null,
            "layout": "IPY_MODEL_f434e6a82712447587e32d988266c656",
            "max": 1083389348,
            "min": 0,
            "orientation": "horizontal",
            "style": "IPY_MODEL_95d4069e3e3248dca40edc7f29848681",
            "value": 1083389348
          }
        },
        "e439f32aab36480eab846d385d834a85": {
          "model_module": "@jupyter-widgets/controls",
          "model_name": "HTMLModel",
          "model_module_version": "1.5.0",
          "state": {
            "_dom_classes": [],
            "_model_module": "@jupyter-widgets/controls",
            "_model_module_version": "1.5.0",
            "_model_name": "HTMLModel",
            "_view_count": null,
            "_view_module": "@jupyter-widgets/controls",
            "_view_module_version": "1.5.0",
            "_view_name": "HTMLView",
            "description": "",
            "description_tooltip": null,
            "layout": "IPY_MODEL_72fe4d446c4646ca9ea5c485216f2860",
            "placeholder": "​",
            "style": "IPY_MODEL_bc4c45460a3e4e0abadc3645eb3523e0",
            "value": " 1.08G/1.08G [00:33&lt;00:00, 46.6MB/s]"
          }
        },
        "e4a59feed795429db00ac4046fb57c07": {
          "model_module": "@jupyter-widgets/base",
          "model_name": "LayoutModel",
          "model_module_version": "1.2.0",
          "state": {
            "_model_module": "@jupyter-widgets/base",
            "_model_module_version": "1.2.0",
            "_model_name": "LayoutModel",
            "_view_count": null,
            "_view_module": "@jupyter-widgets/base",
            "_view_module_version": "1.2.0",
            "_view_name": "LayoutView",
            "align_content": null,
            "align_items": null,
            "align_self": null,
            "border": null,
            "bottom": null,
            "display": null,
            "flex": null,
            "flex_flow": null,
            "grid_area": null,
            "grid_auto_columns": null,
            "grid_auto_flow": null,
            "grid_auto_rows": null,
            "grid_column": null,
            "grid_gap": null,
            "grid_row": null,
            "grid_template_areas": null,
            "grid_template_columns": null,
            "grid_template_rows": null,
            "height": null,
            "justify_content": null,
            "justify_items": null,
            "left": null,
            "margin": null,
            "max_height": null,
            "max_width": null,
            "min_height": null,
            "min_width": null,
            "object_fit": null,
            "object_position": null,
            "order": null,
            "overflow": null,
            "overflow_x": null,
            "overflow_y": null,
            "padding": null,
            "right": null,
            "top": null,
            "visibility": null,
            "width": null
          }
        },
        "29858628caea4faab659785425d16865": {
          "model_module": "@jupyter-widgets/base",
          "model_name": "LayoutModel",
          "model_module_version": "1.2.0",
          "state": {
            "_model_module": "@jupyter-widgets/base",
            "_model_module_version": "1.2.0",
            "_model_name": "LayoutModel",
            "_view_count": null,
            "_view_module": "@jupyter-widgets/base",
            "_view_module_version": "1.2.0",
            "_view_name": "LayoutView",
            "align_content": null,
            "align_items": null,
            "align_self": null,
            "border": null,
            "bottom": null,
            "display": null,
            "flex": null,
            "flex_flow": null,
            "grid_area": null,
            "grid_auto_columns": null,
            "grid_auto_flow": null,
            "grid_auto_rows": null,
            "grid_column": null,
            "grid_gap": null,
            "grid_row": null,
            "grid_template_areas": null,
            "grid_template_columns": null,
            "grid_template_rows": null,
            "height": null,
            "justify_content": null,
            "justify_items": null,
            "left": null,
            "margin": null,
            "max_height": null,
            "max_width": null,
            "min_height": null,
            "min_width": null,
            "object_fit": null,
            "object_position": null,
            "order": null,
            "overflow": null,
            "overflow_x": null,
            "overflow_y": null,
            "padding": null,
            "right": null,
            "top": null,
            "visibility": null,
            "width": null
          }
        },
        "d48ee0d76edb4d6d9ef135da3a7b1aeb": {
          "model_module": "@jupyter-widgets/controls",
          "model_name": "DescriptionStyleModel",
          "model_module_version": "1.5.0",
          "state": {
            "_model_module": "@jupyter-widgets/controls",
            "_model_module_version": "1.5.0",
            "_model_name": "DescriptionStyleModel",
            "_view_count": null,
            "_view_module": "@jupyter-widgets/base",
            "_view_module_version": "1.2.0",
            "_view_name": "StyleView",
            "description_width": ""
          }
        },
        "f434e6a82712447587e32d988266c656": {
          "model_module": "@jupyter-widgets/base",
          "model_name": "LayoutModel",
          "model_module_version": "1.2.0",
          "state": {
            "_model_module": "@jupyter-widgets/base",
            "_model_module_version": "1.2.0",
            "_model_name": "LayoutModel",
            "_view_count": null,
            "_view_module": "@jupyter-widgets/base",
            "_view_module_version": "1.2.0",
            "_view_name": "LayoutView",
            "align_content": null,
            "align_items": null,
            "align_self": null,
            "border": null,
            "bottom": null,
            "display": null,
            "flex": null,
            "flex_flow": null,
            "grid_area": null,
            "grid_auto_columns": null,
            "grid_auto_flow": null,
            "grid_auto_rows": null,
            "grid_column": null,
            "grid_gap": null,
            "grid_row": null,
            "grid_template_areas": null,
            "grid_template_columns": null,
            "grid_template_rows": null,
            "height": null,
            "justify_content": null,
            "justify_items": null,
            "left": null,
            "margin": null,
            "max_height": null,
            "max_width": null,
            "min_height": null,
            "min_width": null,
            "object_fit": null,
            "object_position": null,
            "order": null,
            "overflow": null,
            "overflow_x": null,
            "overflow_y": null,
            "padding": null,
            "right": null,
            "top": null,
            "visibility": null,
            "width": null
          }
        },
        "95d4069e3e3248dca40edc7f29848681": {
          "model_module": "@jupyter-widgets/controls",
          "model_name": "ProgressStyleModel",
          "model_module_version": "1.5.0",
          "state": {
            "_model_module": "@jupyter-widgets/controls",
            "_model_module_version": "1.5.0",
            "_model_name": "ProgressStyleModel",
            "_view_count": null,
            "_view_module": "@jupyter-widgets/base",
            "_view_module_version": "1.2.0",
            "_view_name": "StyleView",
            "bar_color": null,
            "description_width": ""
          }
        },
        "72fe4d446c4646ca9ea5c485216f2860": {
          "model_module": "@jupyter-widgets/base",
          "model_name": "LayoutModel",
          "model_module_version": "1.2.0",
          "state": {
            "_model_module": "@jupyter-widgets/base",
            "_model_module_version": "1.2.0",
            "_model_name": "LayoutModel",
            "_view_count": null,
            "_view_module": "@jupyter-widgets/base",
            "_view_module_version": "1.2.0",
            "_view_name": "LayoutView",
            "align_content": null,
            "align_items": null,
            "align_self": null,
            "border": null,
            "bottom": null,
            "display": null,
            "flex": null,
            "flex_flow": null,
            "grid_area": null,
            "grid_auto_columns": null,
            "grid_auto_flow": null,
            "grid_auto_rows": null,
            "grid_column": null,
            "grid_gap": null,
            "grid_row": null,
            "grid_template_areas": null,
            "grid_template_columns": null,
            "grid_template_rows": null,
            "height": null,
            "justify_content": null,
            "justify_items": null,
            "left": null,
            "margin": null,
            "max_height": null,
            "max_width": null,
            "min_height": null,
            "min_width": null,
            "object_fit": null,
            "object_position": null,
            "order": null,
            "overflow": null,
            "overflow_x": null,
            "overflow_y": null,
            "padding": null,
            "right": null,
            "top": null,
            "visibility": null,
            "width": null
          }
        },
        "bc4c45460a3e4e0abadc3645eb3523e0": {
          "model_module": "@jupyter-widgets/controls",
          "model_name": "DescriptionStyleModel",
          "model_module_version": "1.5.0",
          "state": {
            "_model_module": "@jupyter-widgets/controls",
            "_model_module_version": "1.5.0",
            "_model_name": "DescriptionStyleModel",
            "_view_count": null,
            "_view_module": "@jupyter-widgets/base",
            "_view_module_version": "1.2.0",
            "_view_name": "StyleView",
            "description_width": ""
          }
        }
      }
    }
  },
  "nbformat": 4,
  "nbformat_minor": 0
}