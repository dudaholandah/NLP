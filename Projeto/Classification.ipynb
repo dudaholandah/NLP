{
  "cells": [
    {
      "cell_type": "markdown",
      "metadata": {
        "id": "view-in-github",
        "colab_type": "text"
      },
      "source": [
        "<a href=\"https://colab.research.google.com/github/dudaholandah/NLP/blob/main/Projeto/Classification.ipynb\" target=\"_parent\"><img src=\"https://colab.research.google.com/assets/colab-badge.svg\" alt=\"Open In Colab\"/></a>"
      ]
    },
    {
      "cell_type": "markdown",
      "metadata": {
        "id": "JULgGCViw8IR"
      },
      "source": [
        "# Google Drive"
      ]
    },
    {
      "cell_type": "code",
      "execution_count": null,
      "metadata": {
        "id": "39nOQqcZOEsO"
      },
      "outputs": [],
      "source": [
        "from google.colab import drive\n",
        "drive.mount('/content/drive')"
      ]
    },
    {
      "cell_type": "code",
      "execution_count": null,
      "metadata": {
        "id": "RgGXPlLNOJqw"
      },
      "outputs": [],
      "source": [
        "!cp -r '/content/drive/MyDrive/Datasets/cuisine-classification-ingredients' 'cuisine-classification-ingredients'"
      ]
    },
    {
      "cell_type": "code",
      "source": [
        "!cp -r '/content/drive/MyDrive/Datasets/indian-food' 'indian-food'"
      ],
      "metadata": {
        "id": "10Nld1a9v8P_"
      },
      "execution_count": null,
      "outputs": []
    },
    {
      "cell_type": "markdown",
      "metadata": {
        "id": "EXBIaW8iNOp3"
      },
      "source": [
        "# Imports"
      ]
    },
    {
      "cell_type": "code",
      "execution_count": null,
      "metadata": {
        "id": "NTT458SZ3Oju"
      },
      "outputs": [],
      "source": [
        "!pip install -U sentence-transformers"
      ]
    },
    {
      "cell_type": "code",
      "source": [
        "!pip install keras\n",
        "!pip install tensorflow"
      ],
      "metadata": {
        "id": "MAzKuNVCqD2S"
      },
      "execution_count": 5,
      "outputs": []
    },
    {
      "cell_type": "code",
      "execution_count": 6,
      "metadata": {
        "id": "A_m0pkHhR6gx"
      },
      "outputs": [],
      "source": [
        "#TFIDF\n",
        "from sklearn.feature_extraction.text import TfidfVectorizer\n",
        "#WORD2VEC\n",
        "from gensim.models import Word2Vec\n",
        "import nltk\n",
        "#BERT\n",
        "import tensorflow as tf\n",
        "from sentence_transformers import SentenceTransformer\n",
        "#Neural Network\n",
        "from keras.models import Sequential\n",
        "from keras.layers import Dense,Conv1D,Embedding,GlobalMaxPooling1D,MaxPooling1D,Activation,Flatten,SimpleRNN,Dropout\n",
        "from sklearn.feature_extraction.text import TfidfVectorizer\n",
        "from tensorflow.keras.optimizers import SGD\n",
        "#Data\n",
        "import json\n",
        "import os\n",
        "import pandas as pd\n",
        "import re\n",
        "import numpy as np\n",
        "from sklearn.model_selection import train_test_split\n",
        "from sklearn.preprocessing import LabelEncoder\n",
        "from keras.utils.np_utils import to_categorical"
      ]
    },
    {
      "cell_type": "code",
      "source": [
        "nltk.download('punkt')"
      ],
      "metadata": {
        "id": "u1425DnRvfdV"
      },
      "execution_count": null,
      "outputs": []
    },
    {
      "cell_type": "markdown",
      "metadata": {
        "id": "NObXC41TNQZj"
      },
      "source": [
        "# Data"
      ]
    },
    {
      "cell_type": "markdown",
      "source": [
        "Cuisine Classification Data"
      ],
      "metadata": {
        "id": "W7JGhM5exbF3"
      }
    },
    {
      "cell_type": "code",
      "execution_count": 8,
      "metadata": {
        "id": "5JjYIn_kNSjR"
      },
      "outputs": [],
      "source": [
        "train_path = 'cuisine-classification-ingredients/train.json'\n",
        "# test_path = 'cuisine-classification-ingredients/test.json'\n",
        "\n",
        "with open(train_path, 'r') as f:\n",
        "  train_json = json.load(f)\n",
        "\n",
        "# with open(test_path, 'r') as f:\n",
        "#   test_json = json.load(f)"
      ]
    },
    {
      "cell_type": "code",
      "execution_count": 9,
      "metadata": {
        "id": "Gb4Ib7JJP2ux"
      },
      "outputs": [],
      "source": [
        "df_train_cuisine = pd.DataFrame(train_json, columns=['id', 'cuisine', 'ingredients'])\n",
        "# df_test_cuisine = pd.DataFrame(test_json, columns=['id', 'ingredients'])"
      ]
    },
    {
      "cell_type": "code",
      "source": [
        "df_indian['course'].value_counts()"
      ],
      "metadata": {
        "colab": {
          "base_uri": "https://localhost:8080/"
        },
        "id": "6lQgnMNnSjNU",
        "outputId": "a71e8fc0-321f-4291-b623-38d46c7a7175"
      },
      "execution_count": 29,
      "outputs": [
        {
          "output_type": "execute_result",
          "data": {
            "text/plain": [
              "main course    129\n",
              "dessert         85\n",
              "snack           39\n",
              "starter          2\n",
              "Name: course, dtype: int64"
            ]
          },
          "metadata": {},
          "execution_count": 29
        }
      ]
    },
    {
      "cell_type": "code",
      "execution_count": 11,
      "metadata": {
        "id": "YIld3-hEQEc7"
      },
      "outputs": [],
      "source": [
        "df_train_cuisine = df_train_cuisine.drop(['id'], axis=1)\n",
        "# df_test_cuisine = df_test_cuisine.drop(['id'], axis=1)"
      ]
    },
    {
      "cell_type": "markdown",
      "source": [
        "Indian Food Data"
      ],
      "metadata": {
        "id": "KKSQ-tNSxhf7"
      }
    },
    {
      "cell_type": "code",
      "source": [
        "path = 'indian-food/indian_food.csv'\n",
        "df_indian = pd.read_csv(path)"
      ],
      "metadata": {
        "id": "yKvncD4rxi2s"
      },
      "execution_count": 12,
      "outputs": []
    },
    {
      "cell_type": "code",
      "source": [
        "df_indian"
      ],
      "metadata": {
        "colab": {
          "base_uri": "https://localhost:8080/",
          "height": 468
        },
        "id": "hoD6uJYQyi3j",
        "outputId": "1ae84b29-5214-4046-c407-3efe419dfb93"
      },
      "execution_count": 22,
      "outputs": [
        {
          "output_type": "execute_result",
          "data": {
            "text/plain": [
              "               name                                        ingredients  \\\n",
              "0        Balu shahi                       maida flour yogurt oil sugar   \n",
              "1            Boondi                              gram flour ghee sugar   \n",
              "2    Gajar ka halwa            carrots milk sugar ghee cashews raisins   \n",
              "3            Ghevar  flour ghee kewra milk clarified butter sugar a...   \n",
              "4       Gulab jamun  milk powder plain flour baking powder ghee mil...   \n",
              "..              ...                                                ...   \n",
              "250       Til Pitha              glutinous rice black sesame seeds gur   \n",
              "251         Bebinca  coconut milk egg yolks clarified butter all pu...   \n",
              "252          Shufta  cottage cheese dry dates dried rose petals pis...   \n",
              "253       Mawa Bati  milk powder dry fruits arrowroot powder all pu...   \n",
              "254          Pinaca  brown rice fennel seeds grated coconut black p...   \n",
              "\n",
              "           diet  prep_time  cook_time flavor_profile   course  \\\n",
              "0    vegetarian         45         25          sweet  dessert   \n",
              "1    vegetarian         80         30          sweet  dessert   \n",
              "2    vegetarian         15         60          sweet  dessert   \n",
              "3    vegetarian         15         30          sweet  dessert   \n",
              "4    vegetarian         15         40          sweet  dessert   \n",
              "..          ...        ...        ...            ...      ...   \n",
              "250  vegetarian          5         30          sweet  dessert   \n",
              "251  vegetarian         20         60          sweet  dessert   \n",
              "252  vegetarian         -1         -1          sweet  dessert   \n",
              "253  vegetarian         20         45          sweet  dessert   \n",
              "254  vegetarian         -1         -1          sweet  dessert   \n",
              "\n",
              "               state      region  \n",
              "0        West Bengal        East  \n",
              "1          Rajasthan        West  \n",
              "2             Punjab       North  \n",
              "3          Rajasthan        West  \n",
              "4        West Bengal        East  \n",
              "..               ...         ...  \n",
              "250            Assam  North East  \n",
              "251              Goa        West  \n",
              "252  Jammu & Kashmir       North  \n",
              "253   Madhya Pradesh     Central  \n",
              "254              Goa        West  \n",
              "\n",
              "[255 rows x 9 columns]"
            ],
            "text/html": [
              "\n",
              "  <div id=\"df-e135bc4e-165c-43f4-8739-e45dc5234537\">\n",
              "    <div class=\"colab-df-container\">\n",
              "      <div>\n",
              "<style scoped>\n",
              "    .dataframe tbody tr th:only-of-type {\n",
              "        vertical-align: middle;\n",
              "    }\n",
              "\n",
              "    .dataframe tbody tr th {\n",
              "        vertical-align: top;\n",
              "    }\n",
              "\n",
              "    .dataframe thead th {\n",
              "        text-align: right;\n",
              "    }\n",
              "</style>\n",
              "<table border=\"1\" class=\"dataframe\">\n",
              "  <thead>\n",
              "    <tr style=\"text-align: right;\">\n",
              "      <th></th>\n",
              "      <th>name</th>\n",
              "      <th>ingredients</th>\n",
              "      <th>diet</th>\n",
              "      <th>prep_time</th>\n",
              "      <th>cook_time</th>\n",
              "      <th>flavor_profile</th>\n",
              "      <th>course</th>\n",
              "      <th>state</th>\n",
              "      <th>region</th>\n",
              "    </tr>\n",
              "  </thead>\n",
              "  <tbody>\n",
              "    <tr>\n",
              "      <th>0</th>\n",
              "      <td>Balu shahi</td>\n",
              "      <td>maida flour yogurt oil sugar</td>\n",
              "      <td>vegetarian</td>\n",
              "      <td>45</td>\n",
              "      <td>25</td>\n",
              "      <td>sweet</td>\n",
              "      <td>dessert</td>\n",
              "      <td>West Bengal</td>\n",
              "      <td>East</td>\n",
              "    </tr>\n",
              "    <tr>\n",
              "      <th>1</th>\n",
              "      <td>Boondi</td>\n",
              "      <td>gram flour ghee sugar</td>\n",
              "      <td>vegetarian</td>\n",
              "      <td>80</td>\n",
              "      <td>30</td>\n",
              "      <td>sweet</td>\n",
              "      <td>dessert</td>\n",
              "      <td>Rajasthan</td>\n",
              "      <td>West</td>\n",
              "    </tr>\n",
              "    <tr>\n",
              "      <th>2</th>\n",
              "      <td>Gajar ka halwa</td>\n",
              "      <td>carrots milk sugar ghee cashews raisins</td>\n",
              "      <td>vegetarian</td>\n",
              "      <td>15</td>\n",
              "      <td>60</td>\n",
              "      <td>sweet</td>\n",
              "      <td>dessert</td>\n",
              "      <td>Punjab</td>\n",
              "      <td>North</td>\n",
              "    </tr>\n",
              "    <tr>\n",
              "      <th>3</th>\n",
              "      <td>Ghevar</td>\n",
              "      <td>flour ghee kewra milk clarified butter sugar a...</td>\n",
              "      <td>vegetarian</td>\n",
              "      <td>15</td>\n",
              "      <td>30</td>\n",
              "      <td>sweet</td>\n",
              "      <td>dessert</td>\n",
              "      <td>Rajasthan</td>\n",
              "      <td>West</td>\n",
              "    </tr>\n",
              "    <tr>\n",
              "      <th>4</th>\n",
              "      <td>Gulab jamun</td>\n",
              "      <td>milk powder plain flour baking powder ghee mil...</td>\n",
              "      <td>vegetarian</td>\n",
              "      <td>15</td>\n",
              "      <td>40</td>\n",
              "      <td>sweet</td>\n",
              "      <td>dessert</td>\n",
              "      <td>West Bengal</td>\n",
              "      <td>East</td>\n",
              "    </tr>\n",
              "    <tr>\n",
              "      <th>...</th>\n",
              "      <td>...</td>\n",
              "      <td>...</td>\n",
              "      <td>...</td>\n",
              "      <td>...</td>\n",
              "      <td>...</td>\n",
              "      <td>...</td>\n",
              "      <td>...</td>\n",
              "      <td>...</td>\n",
              "      <td>...</td>\n",
              "    </tr>\n",
              "    <tr>\n",
              "      <th>250</th>\n",
              "      <td>Til Pitha</td>\n",
              "      <td>glutinous rice black sesame seeds gur</td>\n",
              "      <td>vegetarian</td>\n",
              "      <td>5</td>\n",
              "      <td>30</td>\n",
              "      <td>sweet</td>\n",
              "      <td>dessert</td>\n",
              "      <td>Assam</td>\n",
              "      <td>North East</td>\n",
              "    </tr>\n",
              "    <tr>\n",
              "      <th>251</th>\n",
              "      <td>Bebinca</td>\n",
              "      <td>coconut milk egg yolks clarified butter all pu...</td>\n",
              "      <td>vegetarian</td>\n",
              "      <td>20</td>\n",
              "      <td>60</td>\n",
              "      <td>sweet</td>\n",
              "      <td>dessert</td>\n",
              "      <td>Goa</td>\n",
              "      <td>West</td>\n",
              "    </tr>\n",
              "    <tr>\n",
              "      <th>252</th>\n",
              "      <td>Shufta</td>\n",
              "      <td>cottage cheese dry dates dried rose petals pis...</td>\n",
              "      <td>vegetarian</td>\n",
              "      <td>-1</td>\n",
              "      <td>-1</td>\n",
              "      <td>sweet</td>\n",
              "      <td>dessert</td>\n",
              "      <td>Jammu &amp; Kashmir</td>\n",
              "      <td>North</td>\n",
              "    </tr>\n",
              "    <tr>\n",
              "      <th>253</th>\n",
              "      <td>Mawa Bati</td>\n",
              "      <td>milk powder dry fruits arrowroot powder all pu...</td>\n",
              "      <td>vegetarian</td>\n",
              "      <td>20</td>\n",
              "      <td>45</td>\n",
              "      <td>sweet</td>\n",
              "      <td>dessert</td>\n",
              "      <td>Madhya Pradesh</td>\n",
              "      <td>Central</td>\n",
              "    </tr>\n",
              "    <tr>\n",
              "      <th>254</th>\n",
              "      <td>Pinaca</td>\n",
              "      <td>brown rice fennel seeds grated coconut black p...</td>\n",
              "      <td>vegetarian</td>\n",
              "      <td>-1</td>\n",
              "      <td>-1</td>\n",
              "      <td>sweet</td>\n",
              "      <td>dessert</td>\n",
              "      <td>Goa</td>\n",
              "      <td>West</td>\n",
              "    </tr>\n",
              "  </tbody>\n",
              "</table>\n",
              "<p>255 rows × 9 columns</p>\n",
              "</div>\n",
              "      <button class=\"colab-df-convert\" onclick=\"convertToInteractive('df-e135bc4e-165c-43f4-8739-e45dc5234537')\"\n",
              "              title=\"Convert this dataframe to an interactive table.\"\n",
              "              style=\"display:none;\">\n",
              "        \n",
              "  <svg xmlns=\"http://www.w3.org/2000/svg\" height=\"24px\"viewBox=\"0 0 24 24\"\n",
              "       width=\"24px\">\n",
              "    <path d=\"M0 0h24v24H0V0z\" fill=\"none\"/>\n",
              "    <path d=\"M18.56 5.44l.94 2.06.94-2.06 2.06-.94-2.06-.94-.94-2.06-.94 2.06-2.06.94zm-11 1L8.5 8.5l.94-2.06 2.06-.94-2.06-.94L8.5 2.5l-.94 2.06-2.06.94zm10 10l.94 2.06.94-2.06 2.06-.94-2.06-.94-.94-2.06-.94 2.06-2.06.94z\"/><path d=\"M17.41 7.96l-1.37-1.37c-.4-.4-.92-.59-1.43-.59-.52 0-1.04.2-1.43.59L10.3 9.45l-7.72 7.72c-.78.78-.78 2.05 0 2.83L4 21.41c.39.39.9.59 1.41.59.51 0 1.02-.2 1.41-.59l7.78-7.78 2.81-2.81c.8-.78.8-2.07 0-2.86zM5.41 20L4 18.59l7.72-7.72 1.47 1.35L5.41 20z\"/>\n",
              "  </svg>\n",
              "      </button>\n",
              "      \n",
              "  <style>\n",
              "    .colab-df-container {\n",
              "      display:flex;\n",
              "      flex-wrap:wrap;\n",
              "      gap: 12px;\n",
              "    }\n",
              "\n",
              "    .colab-df-convert {\n",
              "      background-color: #E8F0FE;\n",
              "      border: none;\n",
              "      border-radius: 50%;\n",
              "      cursor: pointer;\n",
              "      display: none;\n",
              "      fill: #1967D2;\n",
              "      height: 32px;\n",
              "      padding: 0 0 0 0;\n",
              "      width: 32px;\n",
              "    }\n",
              "\n",
              "    .colab-df-convert:hover {\n",
              "      background-color: #E2EBFA;\n",
              "      box-shadow: 0px 1px 2px rgba(60, 64, 67, 0.3), 0px 1px 3px 1px rgba(60, 64, 67, 0.15);\n",
              "      fill: #174EA6;\n",
              "    }\n",
              "\n",
              "    [theme=dark] .colab-df-convert {\n",
              "      background-color: #3B4455;\n",
              "      fill: #D2E3FC;\n",
              "    }\n",
              "\n",
              "    [theme=dark] .colab-df-convert:hover {\n",
              "      background-color: #434B5C;\n",
              "      box-shadow: 0px 1px 3px 1px rgba(0, 0, 0, 0.15);\n",
              "      filter: drop-shadow(0px 1px 2px rgba(0, 0, 0, 0.3));\n",
              "      fill: #FFFFFF;\n",
              "    }\n",
              "  </style>\n",
              "\n",
              "      <script>\n",
              "        const buttonEl =\n",
              "          document.querySelector('#df-e135bc4e-165c-43f4-8739-e45dc5234537 button.colab-df-convert');\n",
              "        buttonEl.style.display =\n",
              "          google.colab.kernel.accessAllowed ? 'block' : 'none';\n",
              "\n",
              "        async function convertToInteractive(key) {\n",
              "          const element = document.querySelector('#df-e135bc4e-165c-43f4-8739-e45dc5234537');\n",
              "          const dataTable =\n",
              "            await google.colab.kernel.invokeFunction('convertToInteractive',\n",
              "                                                     [key], {});\n",
              "          if (!dataTable) return;\n",
              "\n",
              "          const docLinkHtml = 'Like what you see? Visit the ' +\n",
              "            '<a target=\"_blank\" href=https://colab.research.google.com/notebooks/data_table.ipynb>data table notebook</a>'\n",
              "            + ' to learn more about interactive tables.';\n",
              "          element.innerHTML = '';\n",
              "          dataTable['output_type'] = 'display_data';\n",
              "          await google.colab.output.renderOutput(dataTable, element);\n",
              "          const docLink = document.createElement('div');\n",
              "          docLink.innerHTML = docLinkHtml;\n",
              "          element.appendChild(docLink);\n",
              "        }\n",
              "      </script>\n",
              "    </div>\n",
              "  </div>\n",
              "  "
            ]
          },
          "metadata": {},
          "execution_count": 22
        }
      ]
    },
    {
      "cell_type": "markdown",
      "metadata": {
        "id": "J-FJCLP-bOqe"
      },
      "source": [
        "## Pre-Processing"
      ]
    },
    {
      "cell_type": "code",
      "execution_count": 14,
      "metadata": {
        "id": "MRibRNivbUE1"
      },
      "outputs": [],
      "source": [
        "def pre_processing(text):\n",
        "  new = \"\"\n",
        "  for word in text.split(','):\n",
        "    word = re.sub(r'[^\\w\\s]', '', word.lower())\n",
        "    word = re.sub(r'[0-9]+', '', word)\n",
        "    word = re.sub(r'\\boz\\b', '', word)\n",
        "    word = re.sub(r'\\ba taste of\\b', '', word)\n",
        "    new = new + word.strip() + \" \"\n",
        "\n",
        "  return new[:-1]"
      ]
    },
    {
      "cell_type": "markdown",
      "source": [
        "Cuisine Classification Data"
      ],
      "metadata": {
        "id": "h0V6CWFayRIn"
      }
    },
    {
      "cell_type": "code",
      "execution_count": 15,
      "metadata": {
        "id": "bhmVcEwdQnjh"
      },
      "outputs": [],
      "source": [
        "df_train_cuisine['ingredients'] = [','.join(x).strip() for x in df_train_cuisine['ingredients']]\n",
        "# df_test_cuisine['ingredients'] = [','.join(x).strip() for x in df_test_cuisine['ingredients']]"
      ]
    },
    {
      "cell_type": "code",
      "execution_count": 16,
      "metadata": {
        "id": "4qc9fp0jcaDG"
      },
      "outputs": [],
      "source": [
        "df_train_cuisine['ingredients'] = [pre_processing(x) for x in df_train_cuisine['ingredients']]\n",
        "# df_test_cuisine['ingredients'] = [pre_processing(x) for x in df_test_cuisine['ingredients']]"
      ]
    },
    {
      "cell_type": "code",
      "source": [
        "X = df_train_cuisine['ingredients']\n",
        "y = df_train_cuisine['cuisine']\n",
        "\n",
        "# dados de teste = 20% do treinamento\n",
        "X_train_cuisine, X_test_cuisine, y_train_cuisine, y_test_cuisine = train_test_split(X, y, test_size=0.2)\n",
        "\n",
        "# dados de validacao = 50% do teste\n",
        "X_test_cuisine, X_valid_cuisine, y_test_cuisine, y_valid_cuisine = train_test_split(X, y, test_size=0.5)"
      ],
      "metadata": {
        "id": "u96xaQ5MJO2o"
      },
      "execution_count": 17,
      "outputs": []
    },
    {
      "cell_type": "code",
      "source": [
        "y_train_cuisine = pd.Categorical(y_train_cuisine)\n",
        "y_train_int = y_train_cuisine.codes\n",
        "\n",
        "y_valid_cuisine = pd.Categorical(y_valid_cuisine)\n",
        "y_valid_int = y_valid_cuisine.codes\n",
        "\n",
        "y_test_cuisine = pd.Categorical(y_test_cuisine)\n",
        "y_test_int = y_test_cuisine.codes\n",
        "\n",
        "y_train_cuisine = to_categorical(y_train_int)\n",
        "y_valid_cuisine = to_categorical(y_valid_int)\n",
        "y_test_cuisine = to_categorical(y_test_int)"
      ],
      "metadata": {
        "id": "6hNPne2f7SxN"
      },
      "execution_count": 18,
      "outputs": []
    },
    {
      "cell_type": "markdown",
      "source": [
        "Indian Food Data"
      ],
      "metadata": {
        "id": "zjnrlH62yWnQ"
      }
    },
    {
      "cell_type": "code",
      "source": [
        "df_indian['ingredients'] = [pre_processing(x) for x in df_indian['ingredients']]"
      ],
      "metadata": {
        "id": "DLs5igUXytMt"
      },
      "execution_count": 19,
      "outputs": []
    },
    {
      "cell_type": "code",
      "source": [
        "X = df_indian['ingredients']\n",
        "y = df_indian['diet']\n",
        "\n",
        "# dados de teste = 20% do treinamento\n",
        "X_train_indian, X_test_indian, y_train_indian, y_test_indian = train_test_split(X, y, test_size=0.2)\n",
        "\n",
        "# dados de validacao = 50% do teste\n",
        "X_test_indian, X_valid_indian, y_test_indian, y_valid_indian = train_test_split(X, y, test_size=0.5)"
      ],
      "metadata": {
        "id": "kSIBzujzy8rI"
      },
      "execution_count": 20,
      "outputs": []
    },
    {
      "cell_type": "code",
      "source": [
        "y_train_indian = pd.Categorical(y_train_indian)\n",
        "y_train_int = y_train_indian.codes\n",
        "\n",
        "y_valid_indian = pd.Categorical(y_valid_indian)\n",
        "y_valid_int = y_valid_indian.codes\n",
        "\n",
        "y_test_indian = pd.Categorical(y_test_indian)\n",
        "y_test_int = y_test_indian.codes\n",
        "\n",
        "y_train_indian = to_categorical(y_train_int)\n",
        "y_valid_indian = to_categorical(y_valid_int)\n",
        "y_test_indian = to_categorical(y_test_int)"
      ],
      "metadata": {
        "id": "WMGPvdJF7VxY"
      },
      "execution_count": 21,
      "outputs": []
    },
    {
      "cell_type": "markdown",
      "metadata": {
        "id": "ZeJnnAJyR9fn"
      },
      "source": [
        "# Different Embeddings"
      ]
    },
    {
      "cell_type": "code",
      "source": [
        "vocabulary_cuisine = {}\n",
        "i = 0\n",
        "\n",
        "for ingredients in df_train_cuisine['ingredients']:\n",
        "  for word in ingredients.split():\n",
        "    if word not in vocabulary_cuisine:\n",
        "      vocabulary_cuisine[word] = i\n",
        "      i += 1"
      ],
      "metadata": {
        "id": "nCME9Jb3KwjF"
      },
      "execution_count": 146,
      "outputs": []
    },
    {
      "cell_type": "code",
      "source": [
        "vocabulary_cuisine"
      ],
      "metadata": {
        "colab": {
          "base_uri": "https://localhost:8080/"
        },
        "id": "ira6SCo7WE36",
        "outputId": "f3387c9a-9ed6-42e3-86e2-379a5842e919"
      },
      "execution_count": 197,
      "outputs": [
        {
          "output_type": "execute_result",
          "data": {
            "text/plain": [
              "{'romaine': 0,\n",
              " 'lettuce': 1,\n",
              " 'black': 2,\n",
              " 'olives': 3,\n",
              " 'grape': 4,\n",
              " 'tomatoes': 5,\n",
              " 'garlic': 6,\n",
              " 'pepper': 7,\n",
              " 'purple': 8,\n",
              " 'onion': 9,\n",
              " 'seasoning': 10,\n",
              " 'garbanzo': 11,\n",
              " 'beans': 12,\n",
              " 'feta': 13,\n",
              " 'cheese': 14,\n",
              " 'crumbles': 15,\n",
              " 'plain': 16,\n",
              " 'flour': 17,\n",
              " 'ground': 18,\n",
              " 'salt': 19,\n",
              " 'thyme': 20,\n",
              " 'eggs': 21,\n",
              " 'green': 22,\n",
              " 'yellow': 23,\n",
              " 'corn': 24,\n",
              " 'meal': 25,\n",
              " 'milk': 26,\n",
              " 'vegetable': 27,\n",
              " 'oil': 28,\n",
              " 'mayonaise': 29,\n",
              " 'cooking': 30,\n",
              " 'chilies': 31,\n",
              " 'grilled': 32,\n",
              " 'chicken': 33,\n",
              " 'breasts': 34,\n",
              " 'powder': 35,\n",
              " 'soy': 36,\n",
              " 'sauce': 37,\n",
              " 'butter': 38,\n",
              " 'livers': 39,\n",
              " 'water': 40,\n",
              " 'wheat': 41,\n",
              " 'shallots': 42,\n",
              " 'cornflour': 43,\n",
              " 'cayenne': 44,\n",
              " 'onions': 45,\n",
              " 'paste': 46,\n",
              " 'lemon': 47,\n",
              " 'juice': 48,\n",
              " 'chili': 49,\n",
              " 'passata': 50,\n",
              " 'cumin': 51,\n",
              " 'boneless': 52,\n",
              " 'skinless': 53,\n",
              " 'thigh': 54,\n",
              " 'garam': 55,\n",
              " 'masala': 56,\n",
              " 'double': 57,\n",
              " 'cream': 58,\n",
              " 'natural': 59,\n",
              " 'yogurt': 60,\n",
              " 'bay': 61,\n",
              " 'leaf': 62,\n",
              " 'sugar': 63,\n",
              " 'fresh': 64,\n",
              " 'ginger': 65,\n",
              " 'root': 66,\n",
              " 'cinnamon': 67,\n",
              " 'vanilla': 68,\n",
              " 'extract': 69,\n",
              " 'powdered': 70,\n",
              " 'baking': 71,\n",
              " 'olive': 72,\n",
              " 'medium': 73,\n",
              " 'shrimp': 74,\n",
              " 'chopped': 75,\n",
              " 'cilantro': 76,\n",
              " 'jalapeno': 77,\n",
              " 'flat': 78,\n",
              " 'parsley': 79,\n",
              " 'skirt': 80,\n",
              " 'steak': 81,\n",
              " 'white': 82,\n",
              " 'vinegar': 83,\n",
              " 'sea': 84,\n",
              " 'chorizo': 85,\n",
              " 'sausage': 86,\n",
              " 'pistachio': 87,\n",
              " 'nuts': 88,\n",
              " 'almond': 89,\n",
              " 'bark': 90,\n",
              " 'dried': 91,\n",
              " 'cranberries': 92,\n",
              " 'pineapple': 93,\n",
              " 'pork': 94,\n",
              " 'poblano': 95,\n",
              " 'peppers': 96,\n",
              " 'tortillas': 97,\n",
              " 'cheddar': 98,\n",
              " 'iceberg': 99,\n",
              " 'lime': 100,\n",
              " 'basil': 101,\n",
              " 'extravirgin': 102,\n",
              " 'kosher': 103,\n",
              " 'pimentos': 104,\n",
              " 'sweet': 105,\n",
              " 'oregano': 106,\n",
              " 'sharp': 107,\n",
              " 'swiss': 108,\n",
              " 'provolone': 109,\n",
              " 'canola': 110,\n",
              " 'mushrooms': 111,\n",
              " 'sausages': 112,\n",
              " 'low': 113,\n",
              " 'sodium': 114,\n",
              " 'dry': 115,\n",
              " 'mustard': 116,\n",
              " 'sesame': 117,\n",
              " 'scallions': 118,\n",
              " 'shaoxing': 119,\n",
              " 'wine': 120,\n",
              " 'turkey': 121,\n",
              " 'crushed': 122,\n",
              " 'red': 123,\n",
              " 'flakes': 124,\n",
              " 'starch': 125,\n",
              " 'italian': 126,\n",
              " 'leaves': 127,\n",
              " 'walnuts': 128,\n",
              " 'hot': 129,\n",
              " 'trout': 130,\n",
              " 'fillet': 131,\n",
              " 'cloves': 132,\n",
              " 'chipotle': 133,\n",
              " 'chile': 134,\n",
              " 'fine': 135,\n",
              " 'coriander': 136,\n",
              " 'plum': 137,\n",
              " 'avocado': 138,\n",
              " 'flank': 139,\n",
              " 'parmesan': 140,\n",
              " 'allpurpose': 141,\n",
              " 'fat': 142,\n",
              " 'free': 143,\n",
              " 'less': 144,\n",
              " 'broth': 145,\n",
              " 'chives': 146,\n",
              " 'gruyere': 147,\n",
              " 'bacon': 148,\n",
              " 'slices': 149,\n",
              " 'gnocchi': 150,\n",
              " 'spray': 151,\n",
              " 'tumeric': 152,\n",
              " 'stock': 153,\n",
              " 'naan': 154,\n",
              " 'lentils': 155,\n",
              " 'spinach': 156,\n",
              " 'potatoes': 157,\n",
              " 'greek': 158,\n",
              " 'curd': 159,\n",
              " 'confectioners': 160,\n",
              " 'raspberries': 161,\n",
              " 'broilerfryer': 162,\n",
              " 'zesty': 163,\n",
              " 'dressing': 164,\n",
              " 'asian': 165,\n",
              " 'fish': 166,\n",
              " 'bell': 167,\n",
              " 'squash': 168,\n",
              " 'sliced': 169,\n",
              " 'broccolini': 170,\n",
              " 'cooked': 171,\n",
              " 'rice': 172,\n",
              " 'loin': 173,\n",
              " 'roasted': 174,\n",
              " 'peanuts': 175,\n",
              " 'hoisin': 176,\n",
              " 'creamy': 177,\n",
              " 'peanut': 178,\n",
              " 'mint': 179,\n",
              " 'thai': 180,\n",
              " 'noodles': 181,\n",
              " 'beansprouts': 182,\n",
              " 'roma': 183,\n",
              " 'lowfat': 184,\n",
              " 'mayonnaise': 185,\n",
              " 'spicy': 186,\n",
              " 'brown': 187,\n",
              " 'seeds': 188,\n",
              " 'extra': 189,\n",
              " 'firm': 190,\n",
              " 'tofu': 191,\n",
              " 'broccoli': 192,\n",
              " 'orange': 193,\n",
              " 'arrowroot': 194,\n",
              " 'curry': 195,\n",
              " 'marinara': 196,\n",
              " 'linguine': 197,\n",
              " 'capers': 198,\n",
              " 'zest': 199,\n",
              " 'lo': 200,\n",
              " 'mein': 201,\n",
              " 'light': 202,\n",
              " 'oyster': 203,\n",
              " 'dark': 204,\n",
              " 'cabbage': 205,\n",
              " 'herbs': 206,\n",
              " 'paprika': 207,\n",
              " 'mango': 208,\n",
              " 'sherry': 209,\n",
              " 'grated': 210,\n",
              " 'heavy': 211,\n",
              " 'spaghetti': 212,\n",
              " 'egg': 213,\n",
              " 'roll': 214,\n",
              " 'wrappers': 215,\n",
              " 'and': 216,\n",
              " 'sour': 217,\n",
              " 'molasses': 218,\n",
              " 'shredded': 219,\n",
              " 'carrots': 220,\n",
              " 'breakfast': 221,\n",
              " 'large': 222,\n",
              " 'boiling': 223,\n",
              " 'andouille': 224,\n",
              " 'cajun': 225,\n",
              " 'celery': 226,\n",
              " 'turnips': 227,\n",
              " 'palm': 228,\n",
              " 'wedges': 229,\n",
              " 'papaya': 230,\n",
              " 'tamarind': 231,\n",
              " 'chinese': 232,\n",
              " 'diced': 233,\n",
              " 'johnsonville': 234,\n",
              " 'dinner': 235,\n",
              " 'jambalaya': 236,\n",
              " 'mix': 237,\n",
              " 'worcestershire': 238,\n",
              " 'creole': 239,\n",
              " 'bread': 240,\n",
              " 'great': 241,\n",
              " 'northern': 242,\n",
              " 'sage': 243,\n",
              " 'fivespice': 244,\n",
              " 'thighs': 245,\n",
              " 'star': 246,\n",
              " 'anise': 247,\n",
              " 'blackeyed': 248,\n",
              " 'peas': 249,\n",
              " 'tortilla': 250,\n",
              " 'chips': 251,\n",
              " 'collard': 252,\n",
              " 'greens': 253,\n",
              " 'ham': 254,\n",
              " 'hock': 255,\n",
              " 'apple': 256,\n",
              " 'cider': 257,\n",
              " 'freshly': 258,\n",
              " 'rib': 259,\n",
              " 'oscar': 260,\n",
              " 'mayer': 261,\n",
              " 'deli': 262,\n",
              " 'smoked': 263,\n",
              " 'hoagie': 264,\n",
              " 'rolls': 265,\n",
              " 'salami': 266,\n",
              " 'giardiniera': 267,\n",
              " 'mozzarella': 268,\n",
              " 'pepperoni': 269,\n",
              " 'ice': 270,\n",
              " 'cubes': 271,\n",
              " 'club': 272,\n",
              " 'soda': 273,\n",
              " 'rum': 274,\n",
              " 'turbinado': 275,\n",
              " 'enchilada': 276,\n",
              " 'picante': 277,\n",
              " 'canned': 278,\n",
              " 'salmon': 279,\n",
              " 'fillets': 280,\n",
              " 'seed': 281,\n",
              " 'serrano': 282,\n",
              " 'breast': 283,\n",
              " 'halves': 284,\n",
              " 'mandarin': 285,\n",
              " 'oranges': 286,\n",
              " 'liqueur': 287,\n",
              " 'cake': 288,\n",
              " 'frosting': 289,\n",
              " 'fennel': 290,\n",
              " 'bulb': 291,\n",
              " 'grapefruit': 292,\n",
              " 'cornmeal': 293,\n",
              " 'drippings': 294,\n",
              " 'buttermilk': 295,\n",
              " 'crab': 296,\n",
              " 'boil': 297,\n",
              " 'old': 298,\n",
              " 'crawfish': 299,\n",
              " 'sirloin': 300,\n",
              " 'mirin': 301,\n",
              " 'glass': 302,\n",
              " 'sake': 303,\n",
              " 'shiitake': 304,\n",
              " 'napa': 305,\n",
              " 'whipping': 306,\n",
              " 'quickcooking': 307,\n",
              " 'grits': 308,\n",
              " 'monterey': 309,\n",
              " 'jack': 310,\n",
              " 'mussels': 311,\n",
              " 'finely': 312,\n",
              " 'honey': 313,\n",
              " 'unsalted': 314,\n",
              " 'pesto': 315,\n",
              " 'crumbs': 316,\n",
              " 'beef': 317,\n",
              " 'pickapeppa': 318,\n",
              " 'cold': 319,\n",
              " 'allspice': 320,\n",
              " 'melted': 321,\n",
              " 'matcha': 322,\n",
              " 'tea': 323,\n",
              " 'coarse': 324,\n",
              " 'fenugreek': 325,\n",
              " 'urad': 326,\n",
              " 'dal': 327,\n",
              " 'pizza': 328,\n",
              " 'crust': 329,\n",
              " 'partskim': 330,\n",
              " 'yukon': 331,\n",
              " 'gold': 332,\n",
              " 'leeks': 333,\n",
              " 'lemongrass': 334,\n",
              " 'unsweetened': 335,\n",
              " 'coconut': 336,\n",
              " 'spareribs': 337,\n",
              " 'tamari': 338,\n",
              " 'golden': 339,\n",
              " 'legs': 340,\n",
              " 'ghee': 341,\n",
              " 'tomato': 342,\n",
              " 'turmeric': 343,\n",
              " 'cracked': 344,\n",
              " 'minced': 345,\n",
              " 'chillies': 346,\n",
              " 'rosemary': 347,\n",
              " 'pappardelle': 348,\n",
              " 'eggplant': 349,\n",
              " 'jasmine': 350,\n",
              " 'gochujang': 351,\n",
              " 'base': 352,\n",
              " 'top': 353,\n",
              " 'round': 354,\n",
              " 'taiwanese': 355,\n",
              " 'bok': 356,\n",
              " 'choy': 357,\n",
              " 'yolks': 358,\n",
              " 'concentrate': 359,\n",
              " 'pumpkin': 360,\n",
              " 'purée': 361,\n",
              " 'marshmallow': 362,\n",
              " 'creme': 363,\n",
              " 'toasted': 364,\n",
              " 'pecans': 365,\n",
              " 'maple': 366,\n",
              " 'syrup': 367,\n",
              " 'gingersnap': 368,\n",
              " 'nutmeg': 369,\n",
              " 'manchego': 370,\n",
              " 'dijon': 371,\n",
              " 'sourdough': 372,\n",
              " 'membrillo': 373,\n",
              " 'burger': 374,\n",
              " 'buns': 375,\n",
              " 'panko': 376,\n",
              " 'breadcrumbs': 377,\n",
              " 'chickpea': 378,\n",
              " 'sriracha': 379,\n",
              " 'chickpeas': 380,\n",
              " 'flaxseed': 381,\n",
              " 'tahini': 382,\n",
              " 'whole': 383,\n",
              " 'nutmegs': 384,\n",
              " 'cardamom': 385,\n",
              " 'balsamic': 386,\n",
              " 'casings': 387,\n",
              " 'penne': 388,\n",
              " 'pasta': 389,\n",
              " 'saffron': 390,\n",
              " 'warm': 391,\n",
              " 'preserved': 392,\n",
              " 'harissa': 393,\n",
              " 'couscous': 394,\n",
              " 'skimmed': 395,\n",
              " 'pitted': 396,\n",
              " 'kalamata': 397,\n",
              " 'sweetened': 398,\n",
              " 'condensed': 399,\n",
              " 'espresso': 400,\n",
              " 'asparagus': 401,\n",
              " 'crumbled': 402,\n",
              " 'blue': 403,\n",
              " 'chuck': 404,\n",
              " 'hamburger': 405,\n",
              " 'okra': 406,\n",
              " 'pods': 407,\n",
              " 'watercress': 408,\n",
              " 'self': 409,\n",
              " 'rising': 410,\n",
              " 'softened': 411,\n",
              " 'food': 412,\n",
              " 'colouring': 413,\n",
              " 'madeira': 414,\n",
              " 'foie': 415,\n",
              " 'gras': 416,\n",
              " 'demiglace': 417,\n",
              " 'fuyu': 418,\n",
              " 'persimmons': 419,\n",
              " 'amchur': 420,\n",
              " 'fingerling': 421,\n",
              " 'ramps': 422,\n",
              " 'peppercorns': 423,\n",
              " 'sticks': 424,\n",
              " 'asiago': 425,\n",
              " 'chestnuts': 426,\n",
              " 'granulated': 427,\n",
              " 'ricotta': 428,\n",
              " 'coffee': 429,\n",
              " 'mascarpone': 430,\n",
              " 'semisweet': 431,\n",
              " 'chocolate': 432,\n",
              " 'chestnut': 433,\n",
              " 'baby': 434,\n",
              " 'barley': 435,\n",
              " 'starchy': 436,\n",
              " 'tip': 437,\n",
              " 'roast': 438,\n",
              " 'shortening': 439,\n",
              " 'caul': 440,\n",
              " 'kahlúa': 441,\n",
              " 'instant': 442,\n",
              " 'epazote': 443,\n",
              " 'radishes': 444,\n",
              " 'hominy': 445,\n",
              " 'tomatillos': 446,\n",
              " 'pepitas': 447,\n",
              " 'catfish': 448,\n",
              " 'basmati': 449,\n",
              " 'cauliflower': 450,\n",
              " 'blood': 451,\n",
              " 'english': 452,\n",
              " 'muffins': 453,\n",
              " 'split': 454,\n",
              " 'prawns': 455,\n",
              " 'lasagna': 456,\n",
              " 'ranch': 457,\n",
              " 'evaporated': 458,\n",
              " 'chop': 459,\n",
              " 'lower': 460,\n",
              " 'raisins': 461,\n",
              " 'pearl': 462,\n",
              " 'slivered': 463,\n",
              " 'almonds': 464,\n",
              " 'bars': 465,\n",
              " 'marshmallows': 466,\n",
              " 'graham': 467,\n",
              " 'crackers': 468,\n",
              " 'cod': 469,\n",
              " 'margarine': 470,\n",
              " 'mace': 471,\n",
              " 'brewed': 472,\n",
              " 'candied': 473,\n",
              " 'peel': 474,\n",
              " 'currants': 475,\n",
              " 'bean': 476,\n",
              " 'potato': 477,\n",
              " 'quinoa': 478,\n",
              " 'frozen': 479,\n",
              " 'duck': 480,\n",
              " 'rigate': 481,\n",
              " 'ras': 482,\n",
              " 'el': 483,\n",
              " 'hanout': 484,\n",
              " 'lamb': 485,\n",
              " 'whites': 486,\n",
              " 'reducedfat': 487,\n",
              " 'leg': 488,\n",
              " 'quarters': 489,\n",
              " 'cucumber': 490,\n",
              " 'longgrain': 491,\n",
              " 'crusty': 492,\n",
              " 'streaky': 493,\n",
              " 'piloncillo': 494,\n",
              " 'hibiscus': 495,\n",
              " 'morsels': 496,\n",
              " 'sweeten': 497,\n",
              " 'whip': 498,\n",
              " 'granules': 499,\n",
              " 'covered': 500,\n",
              " 'unflavored': 501,\n",
              " 'gelatin': 502,\n",
              " 'pound': 503,\n",
              " 'pinenuts': 504,\n",
              " 'zucchini': 505,\n",
              " 'spears': 506,\n",
              " 'arborio': 507,\n",
              " 'crookneck': 508,\n",
              " 'chipotles': 509,\n",
              " 'in': 510,\n",
              " 'adobo': 511,\n",
              " 'of': 512,\n",
              " 'mushroom': 513,\n",
              " 'soup': 514,\n",
              " 'lean': 515,\n",
              " 'mexican': 516,\n",
              " 'blend': 517,\n",
              " 'chunky': 518,\n",
              " 'salsa': 519,\n",
              " 'taco': 520,\n",
              " 'spanish': 521,\n",
              " 'daikon': 522,\n",
              " 'ribs': 523,\n",
              " 'goji': 524,\n",
              " 'berries': 525,\n",
              " 'oysters': 526,\n",
              " 'demerara': 527,\n",
              " 'fruit': 528,\n",
              " 'pastry': 529,\n",
              " 'puff': 530,\n",
              " 'sheets': 531,\n",
              " 'mixed': 532,\n",
              " 'spice': 533,\n",
              " 'parsnips': 534,\n",
              " 'cashews': 535,\n",
              " 'kecap': 536,\n",
              " 'manis': 537,\n",
              " 'broad': 538,\n",
              " 'tenderloin': 539,\n",
              " 'style': 540,\n",
              " 'refried': 541,\n",
              " 'leav': 542,\n",
              " 'tortellini': 543,\n",
              " 'cherry': 544,\n",
              " 'navy': 545,\n",
              " 'nonfat': 546,\n",
              " 'granny': 547,\n",
              " 'smith': 548,\n",
              " 'apples': 549,\n",
              " 'lard': 550,\n",
              " 'pecorino': 551,\n",
              " 'romano': 552,\n",
              " 'fava': 553,\n",
              " 'flora': 554,\n",
              " 'cuisine': 555,\n",
              " 'bonein': 556,\n",
              " 'whipped': 557,\n",
              " 'topping': 558,\n",
              " 'pudding': 559,\n",
              " 'butterscotch': 560,\n",
              " 'cracker': 561,\n",
              " 'kielbasa': 562,\n",
              " 'moong': 563,\n",
              " 'capsicum': 564,\n",
              " 'shortgrain': 565,\n",
              " 'gari': 566,\n",
              " 'turkish': 567,\n",
              " 'semolina': 568,\n",
              " 'vine': 569,\n",
              " 'ripened': 570,\n",
              " 'bittersweet': 571,\n",
              " 'skim': 572,\n",
              " 'angel': 573,\n",
              " 'cocoa': 574,\n",
              " 'organic': 575,\n",
              " 'zinfandel': 576,\n",
              " 'blossom': 577,\n",
              " 'calimyrna': 578,\n",
              " 'figs': 579,\n",
              " 'clove': 580,\n",
              " 'wholemilk': 581,\n",
              " 'reduced': 582,\n",
              " 'cereal': 583,\n",
              " 'coleslaw': 584,\n",
              " 'kiwi': 585,\n",
              " 'pear': 586,\n",
              " 'chees': 587,\n",
              " 'fresco': 588,\n",
              " 'queso': 589,\n",
              " 'chard': 590,\n",
              " 'veal': 591,\n",
              " 'cutlets': 592,\n",
              " 'wakame': 593,\n",
              " 'extralean': 594,\n",
              " 'scallion': 595,\n",
              " 'wonton': 596,\n",
              " 'peeled': 597,\n",
              " 'nonstick': 598,\n",
              " 'bones': 599,\n",
              " 'slice': 600,\n",
              " 'anchovy': 601,\n",
              " 'aminos': 602,\n",
              " 'clams': 603,\n",
              " 'seasoned': 604,\n",
              " 'snow': 605,\n",
              " 'hardboiled': 606,\n",
              " 'artichoke': 607,\n",
              " 'hearts': 608,\n",
              " 'stuffing': 609,\n",
              " 'maida': 610,\n",
              " 'pita': 611,\n",
              " 'rounds': 612,\n",
              " 'gruyère': 613,\n",
              " 'udon': 614,\n",
              " 'miso': 615,\n",
              " 'silken': 616,\n",
              " 'button': 617,\n",
              " 'pickled': 618,\n",
              " 'jalapenos': 619,\n",
              " 'rabe': 620,\n",
              " 'parmigiano': 621,\n",
              " 'reggiano': 622,\n",
              " 'fontina': 623,\n",
              " 'refrigerated': 624,\n",
              " 'piecrusts': 625,\n",
              " 'flavored': 626,\n",
              " 'manicotti': 627,\n",
              " 'shells': 628,\n",
              " 'fettucine': 629,\n",
              " 'bouillon': 630,\n",
              " 'with': 631,\n",
              " 'veget': 632,\n",
              " 'guacamole': 633,\n",
              " 'verde': 634,\n",
              " 'condiments': 635,\n",
              " 'shoulder': 636,\n",
              " 'rose': 637,\n",
              " 'petals': 638,\n",
              " 'pistachios': 639,\n",
              " 'wings': 640,\n",
              " 'drumstick': 641,\n",
              " 'chiles': 642,\n",
              " 'ancho': 643,\n",
              " 'paso': 644,\n",
              " 'cranberry': 645,\n",
              " 'beer': 646,\n",
              " 'short': 647,\n",
              " 'seaweed': 648,\n",
              " 'dashi': 649,\n",
              " 'dill': 650,\n",
              " 'yoghurt': 651,\n",
              " 'myzithra': 652,\n",
              " 'phyllo': 653,\n",
              " 'kefalotyri': 654,\n",
              " 'philadelphia': 655,\n",
              " 'meat': 656,\n",
              " 'savoy': 657,\n",
              " 'tartar': 658,\n",
              " 'steelcut': 659,\n",
              " 'oats': 660,\n",
              " 'hazelnuts': 661,\n",
              " 'hazelnut': 662,\n",
              " 'cherries': 663,\n",
              " 'fire': 664,\n",
              " 'kidnei': 665,\n",
              " 'rins': 666,\n",
              " 'drain': 667,\n",
              " 'wasabi': 668,\n",
              " 'japanese': 669,\n",
              " 'porcini': 670,\n",
              " 'cremini': 671,\n",
              " 'prepared': 672,\n",
              " 'horseradish': 673,\n",
              " 'turnip': 674,\n",
              " 'butternut': 675,\n",
              " 'country': 676,\n",
              " 'edamame': 677,\n",
              " 'kernel': 678,\n",
              " 'strong': 679,\n",
              " 'salted': 680,\n",
              " 'sunflower': 681,\n",
              " 'kalonji': 682,\n",
              " 'yeast': 683,\n",
              " 'wood': 684,\n",
              " 'ear': 685,\n",
              " 'vegetables': 686,\n",
              " 'eau': 687,\n",
              " 'de': 688,\n",
              " 'vie': 689,\n",
              " 'cane': 690,\n",
              " 'guinness': 691,\n",
              " 'lager': 692,\n",
              " 'drained': 693,\n",
              " 'dipping': 694,\n",
              " 'sauces': 695,\n",
              " 'pico': 696,\n",
              " 'gallo': 697,\n",
              " 'french': 698,\n",
              " 'dillweed': 699,\n",
              " 'kale': 700,\n",
              " 'guajillo': 701,\n",
              " 'threads': 702,\n",
              " 'banana': 703,\n",
              " 'cannellini': 704,\n",
              " 'franks': 705,\n",
              " 'pears': 706,\n",
              " 'pancake': 707,\n",
              " 'bone': 708,\n",
              " 'tarragon': 709,\n",
              " 'kidney': 710,\n",
              " 'orzo': 711,\n",
              " 'dri': 712,\n",
              " 'jumbo': 713,\n",
              " 'sticky': 714,\n",
              " 'arugula': 715,\n",
              " 'tequila': 716,\n",
              " 'margarita': 717,\n",
              " 'pecan': 718,\n",
              " 'superfine': 719,\n",
              " 'blackberries': 720,\n",
              " 'whiskey': 721,\n",
              " 'luke': 722,\n",
              " 'active': 723,\n",
              " 'jamaican': 724,\n",
              " 'jerk': 725,\n",
              " 'season': 726,\n",
              " 'preserves': 727,\n",
              " 'drumsticks': 728,\n",
              " 'pitas': 729,\n",
              " 'goat': 730,\n",
              " 'gingerroot': 731,\n",
              " 'eye': 732,\n",
              " 'steaks': 733,\n",
              " 'medjool': 734,\n",
              " 'date': 735,\n",
              " 'puree': 736,\n",
              " 'crema': 737,\n",
              " 'mexicana': 738,\n",
              " 'boston': 739,\n",
              " 'persian': 740,\n",
              " 'paper': 741,\n",
              " 'korean': 742,\n",
              " 'cashew': 743,\n",
              " 'kashmiri': 744,\n",
              " 'kasuri': 745,\n",
              " 'methi': 746,\n",
              " 'ketchup': 747,\n",
              " 'pie': 748,\n",
              " 'tostada': 749,\n",
              " 'grouper': 750,\n",
              " 'kernels': 751,\n",
              " 'salata': 752,\n",
              " 'grana': 753,\n",
              " 'padano': 754,\n",
              " 'kaffir': 755,\n",
              " 'soba': 756,\n",
              " 'galangal': 757,\n",
              " 'bamboo': 758,\n",
              " 'shoots': 759,\n",
              " 'bourbon': 760,\n",
              " 'rhubarb': 761,\n",
              " 'liquid': 762,\n",
              " 'store': 763,\n",
              " 'bought': 764,\n",
              " 'safflower': 765,\n",
              " 'jeera': 766,\n",
              " 'jam': 767,\n",
              " 'karashi': 768,\n",
              " 'spring': 769,\n",
              " 'range': 770,\n",
              " 'jicama': 771,\n",
              " 'cactus': 772,\n",
              " 'pad': 773,\n",
              " 'flowerets': 774,\n",
              " 'tuna': 775,\n",
              " 'spices': 776,\n",
              " 'octopuses': 777,\n",
              " 'vidalia': 778,\n",
              " 'gouda': 779,\n",
              " 'small': 780,\n",
              " 'fatfree': 781,\n",
              " 'bertolli': 782,\n",
              " 'classico': 783,\n",
              " 'crispcooked': 784,\n",
              " 'vineyard': 785,\n",
              " 'premium': 786,\n",
              " 'collect': 787,\n",
              " 'burgundi': 788,\n",
              " 'sauc': 789,\n",
              " 'crumb': 790,\n",
              " 'solid': 791,\n",
              " 'pack': 792,\n",
              " 'grain': 793,\n",
              " 'thin': 794,\n",
              " 'grapeseed': 795,\n",
              " 'straw': 796,\n",
              " 'haricots': 797,\n",
              " 'verts': 798,\n",
              " 'wax': 799,\n",
              " 'prosciutto': 800,\n",
              " 'crabmeat': 801,\n",
              " 'strawberries': 802,\n",
              " 'chops': 803,\n",
              " 'blueberri': 804,\n",
              " 'preserv': 805,\n",
              " 'filet': 806,\n",
              " 'vegan': 807,\n",
              " 'wish': 808,\n",
              " 'guacamol': 809,\n",
              " 'dress': 810,\n",
              " 'torn': 811,\n",
              " 'romain': 812,\n",
              " 'lettuc': 813,\n",
              " 'russet': 814,\n",
              " 'colby': 815,\n",
              " 'half': 816,\n",
              " 'vermouth': 817,\n",
              " 'paneer': 818,\n",
              " 'grass': 819,\n",
              " 'muscavado': 820,\n",
              " 'center': 821,\n",
              " 'cut': 822,\n",
              " 'shellon': 823,\n",
              " 'steamed': 824,\n",
              " 'caramel': 825,\n",
              " 'baguette': 826,\n",
              " 'liquorice': 827,\n",
              " 'szechwan': 828,\n",
              " 'rock': 829,\n",
              " 'mung': 830,\n",
              " 'sprouts': 831,\n",
              " 'jaggery': 832,\n",
              " 'firmly': 833,\n",
              " 'packed': 834,\n",
              " 'spam': 835,\n",
              " 'cakes': 836,\n",
              " 'kimchi': 837,\n",
              " 'tapioca': 838,\n",
              " 'salad': 839,\n",
              " 'neck': 840,\n",
              " 'polenta': 841,\n",
              " 'florets': 842,\n",
              " 'mild': 843,\n",
              " 'pillsbury': 844,\n",
              " 'crescent': 845,\n",
              " 'scallops': 846,\n",
              " 'grate': 847,\n",
              " 'bottled': 848,\n",
              " 'clam': 849,\n",
              " 'sundried': 850,\n",
              " 'fry': 851,\n",
              " 'tops': 852,\n",
              " 'masa': 853,\n",
              " 'harina': 854,\n",
              " 'crème': 855,\n",
              " 'fraîche': 856,\n",
              " 'doubleacting': 857,\n",
              " 'california': 858,\n",
              " 'glutinous': 859,\n",
              " 'vermicelli': 860,\n",
              " 'radish': 861,\n",
              " 'soften': 862,\n",
              " 'plantains': 863,\n",
              " 'shank': 864,\n",
              " 'fried': 865,\n",
              " 'summer': 866,\n",
              " 'ciabatta': 867,\n",
              " 'dough': 868,\n",
              " 'hocks': 869,\n",
              " 'brie': 870,\n",
              " 'germ': 871,\n",
              " 'mini': 872,\n",
              " 'cucumbers': 873,\n",
              " 'bird': 874,\n",
              " 'ravioli': 875,\n",
              " 'flax': 876,\n",
              " 'slaw': 877,\n",
              " 'pickles': 878,\n",
              " 'cottage': 879,\n",
              " 'ovenready': 880,\n",
              " 'radicchio': 881,\n",
              " 'links': 882,\n",
              " 'bags': 883,\n",
              " 'sprigs': 884,\n",
              " 'rubbed': 885,\n",
              " 'noodle': 886,\n",
              " 'genoa': 887,\n",
              " 'boiled': 888,\n",
              " 'capicola': 889,\n",
              " 'table': 890,\n",
              " 'grating': 891,\n",
              " 'quail': 892,\n",
              " 'caster': 893,\n",
              " 'shiso': 894,\n",
              " 'kombu': 895,\n",
              " 'bonito': 896,\n",
              " 'branzino': 897,\n",
              " 'carbonated': 898,\n",
              " 'beverages': 899,\n",
              " 'saltines': 900,\n",
              " 'barbecue': 901,\n",
              " 'sargento': 902,\n",
              " 'traditional': 903,\n",
              " 'erythritol': 904,\n",
              " 'tips': 905,\n",
              " 'artichokes': 906,\n",
              " 'portabello': 907,\n",
              " 'nori': 908,\n",
              " 'yellowtail': 909,\n",
              " 'tomatillo': 910,\n",
              " 'sandwich': 911,\n",
              " 'pulp': 912,\n",
              " 'louisiana': 913,\n",
              " 'arame': 914,\n",
              " 'konbu': 915,\n",
              " 'himalayan': 916,\n",
              " 'back': 917,\n",
              " 'rashers': 918,\n",
              " 'glutenfree': 919,\n",
              " 'uncook': 920,\n",
              " 'devein': 921,\n",
              " 'aioli': 922,\n",
              " 'balls': 923,\n",
              " 'pasilla': 924,\n",
              " 'fettuccine': 925,\n",
              " 'soft': 926,\n",
              " 'vinaigrette': 927,\n",
              " 'beets': 928,\n",
              " 'fingers': 929,\n",
              " 'apricot': 930,\n",
              " 'lasagne': 931,\n",
              " 'sheeps': 932,\n",
              " 'champagne': 933,\n",
              " 'tart': 934,\n",
              " 'loaf': 935,\n",
              " 'squabs': 936,\n",
              " 'confit': 937,\n",
              " 'wide': 938,\n",
              " 'aged': 939,\n",
              " 'soppressata': 940,\n",
              " 'biscuits': 941,\n",
              " 'lump': 942,\n",
              " 'seafood': 943,\n",
              " 'applewood': 944,\n",
              " 'bran': 945,\n",
              " 'cured': 946,\n",
              " 'rotel': 947,\n",
              " 'brinecured': 948,\n",
              " 'tabasco': 949,\n",
              " 'uncooked': 950,\n",
              " 'rigatoni': 951,\n",
              " 'long': 952,\n",
              " 'delicious': 953,\n",
              " 'bosc': 954,\n",
              " 'buckwheat': 955,\n",
              " 'smithfield': 956,\n",
              " 'hass': 957,\n",
              " 'mccormick': 958,\n",
              " 'blueberries': 959,\n",
              " 'peaches': 960,\n",
              " 'sambal': 961,\n",
              " 'ulek': 962,\n",
              " 'annatto': 963,\n",
              " 'string': 964,\n",
              " 'wraps': 965,\n",
              " 'crystal': 966,\n",
              " 'farms': 967,\n",
              " 'sprinkles': 968,\n",
              " 'marjoram': 969,\n",
              " 'crimini': 970,\n",
              " 'campbells': 971,\n",
              " 'belly': 972,\n",
              " 'brussels': 973,\n",
              " 'consomme': 974,\n",
              " 'gorgonzola': 975,\n",
              " 'simple': 976,\n",
              " 'cachaca': 977,\n",
              " 'blanched': 978,\n",
              " 'shanks': 979,\n",
              " 'lowsodium': 980,\n",
              " 'hellmanns': 981,\n",
              " 'raisin': 982,\n",
              " 'bananas': 983,\n",
              " 'malt': 984,\n",
              " 'butt': 985,\n",
              " 'chutney': 986,\n",
              " 'sicilian': 987,\n",
              " 'peasant': 988,\n",
              " 'poultry': 989,\n",
              " 'ziti': 990,\n",
              " 'navel': 991,\n",
              " 'ale': 992,\n",
              " 'tandoori': 993,\n",
              " 'curds': 994,\n",
              " 'regular': 995,\n",
              " 'rump': 996,\n",
              " 'kraft': 997,\n",
              " 'stevia': 998,\n",
              " 'niçoise': 999,\n",
              " ...}"
            ]
          },
          "metadata": {},
          "execution_count": 197
        }
      ]
    },
    {
      "cell_type": "code",
      "source": [
        "vocabulary_indian = {}\n",
        "i = 0\n",
        "\n",
        "for ingredients in df_indian['ingredients']:\n",
        "  for word in ingredients.split():\n",
        "    if word not in vocabulary_indian:\n",
        "      vocabulary_indian[word] = i\n",
        "      i += 1"
      ],
      "metadata": {
        "id": "_5iTxFsBLoiM"
      },
      "execution_count": 159,
      "outputs": []
    },
    {
      "cell_type": "markdown",
      "metadata": {
        "id": "XrZ43RFpWubJ"
      },
      "source": [
        "## TFIDF"
      ]
    },
    {
      "cell_type": "markdown",
      "source": [
        "Cuisine Classification Data"
      ],
      "metadata": {
        "id": "B-p87RrO0G0j"
      }
    },
    {
      "cell_type": "code",
      "source": [
        "X_train_cuisine"
      ],
      "metadata": {
        "colab": {
          "base_uri": "https://localhost:8080/"
        },
        "id": "1IsHefWEbwf4",
        "outputId": "2e8e8a13-0c61-4fce-975e-6e7cbe5468cc"
      },
      "execution_count": 23,
      "outputs": [
        {
          "output_type": "execute_result",
          "data": {
            "text/plain": [
              "19576    shortening yellow corn meal buttermilk butter ...\n",
              "23974    green olives extravirgin olive oil baguette ga...\n",
              "13467    red pepper flakes cane sugar sake awase miso v...\n",
              "18680    kosher salt fresh thyme red snapper olive oil ...\n",
              "10623    baking soda allpurpose flour sour cream powder...\n",
              "                               ...                        \n",
              "25460                 radishes olives baguette fresh thyme\n",
              "9084     vegetable oil ground cumin picante sauce bonel...\n",
              "12046    fresh parmesan cheese stewed tomatoes cooking ...\n",
              "14962    water peanut oil chinese rice wine garlic gree...\n",
              "9155     large eggs salt sugar butter baking powder all...\n",
              "Name: ingredients, Length: 31819, dtype: object"
            ]
          },
          "metadata": {},
          "execution_count": 23
        }
      ]
    },
    {
      "cell_type": "code",
      "execution_count": 149,
      "metadata": {
        "id": "HGfCWcmNR8Pp"
      },
      "outputs": [],
      "source": [
        "tfidf_vectorizer = TfidfVectorizer(vocabulary=vocabulary_cuisine)"
      ]
    },
    {
      "cell_type": "code",
      "execution_count": 150,
      "metadata": {
        "id": "LlB6_2ujSo-Y"
      },
      "outputs": [],
      "source": [
        "# Training Data\n",
        "tfidf_train_cuisine = tfidf_vectorizer.fit_transform(X_train_cuisine)\n",
        "tfidf_train_cuisine = tfidf_train_cuisine.toarray()\n",
        "df_tfidf_train_cuisine = pd.DataFrame(tfidf_train_cuisine, columns=tfidf_vectorizer.get_feature_names_out())"
      ]
    },
    {
      "cell_type": "code",
      "source": [
        "df_tfidf_train_cuisine.shape"
      ],
      "metadata": {
        "colab": {
          "base_uri": "https://localhost:8080/"
        },
        "id": "5wUiCqIzMYoD",
        "outputId": "88f09040-e0f6-46ea-bf9d-a308b9cbb0b1"
      },
      "execution_count": 155,
      "outputs": [
        {
          "output_type": "execute_result",
          "data": {
            "text/plain": [
              "(31819, 3064)"
            ]
          },
          "metadata": {},
          "execution_count": 155
        }
      ]
    },
    {
      "cell_type": "code",
      "source": [
        "# Validation Data\n",
        "tfidf_valid_cuisine = tfidf_vectorizer.fit_transform(X_valid_cuisine)\n",
        "tfidf_valid_cuisine = tfidf_valid_cuisine.toarray()\n",
        "df_tfidf_valid_cuisine = pd.DataFrame(tfidf_valid_cuisine, columns=tfidf_vectorizer.get_feature_names_out())"
      ],
      "metadata": {
        "id": "dFSIpAeyMpzI"
      },
      "execution_count": 151,
      "outputs": []
    },
    {
      "cell_type": "code",
      "source": [
        "df_tfidf_valid_cuisine.shape"
      ],
      "metadata": {
        "colab": {
          "base_uri": "https://localhost:8080/"
        },
        "id": "KoigWHctMelA",
        "outputId": "0b4ef98c-2cc5-4f2e-cca0-3f11ffc742ed"
      },
      "execution_count": 156,
      "outputs": [
        {
          "output_type": "execute_result",
          "data": {
            "text/plain": [
              "(19887, 3064)"
            ]
          },
          "metadata": {},
          "execution_count": 156
        }
      ]
    },
    {
      "cell_type": "markdown",
      "source": [
        "Indian Food Data"
      ],
      "metadata": {
        "id": "moCeDBcr0r8X"
      }
    },
    {
      "cell_type": "code",
      "source": [
        "tfidf_vectorizer = TfidfVectorizer(vocabulary=vocabulary_indian)"
      ],
      "metadata": {
        "id": "klTGtPqtMkrm"
      },
      "execution_count": 161,
      "outputs": []
    },
    {
      "cell_type": "code",
      "source": [
        "# Training Data\n",
        "tfidf_train_indian = tfidf_vectorizer.fit_transform(X_train_indian)\n",
        "tfidf_train_indian = tfidf_train_indian.toarray()\n",
        "df_tfidf_train_indian = pd.DataFrame(tfidf_train_indian, columns=tfidf_vectorizer.get_feature_names_out())"
      ],
      "metadata": {
        "id": "OhPBLEfa0rLM"
      },
      "execution_count": 162,
      "outputs": []
    },
    {
      "cell_type": "code",
      "source": [
        "df_tfidf_train_indian.shape"
      ],
      "metadata": {
        "colab": {
          "base_uri": "https://localhost:8080/"
        },
        "id": "TC6uCmzgMuoh",
        "outputId": "7ba9e46f-be94-42ce-8f40-64193a612401"
      },
      "execution_count": 164,
      "outputs": [
        {
          "output_type": "execute_result",
          "data": {
            "text/plain": [
              "(204, 337)"
            ]
          },
          "metadata": {},
          "execution_count": 164
        }
      ]
    },
    {
      "cell_type": "code",
      "source": [
        "# Validation Data\n",
        "tfidf_valid_indian = tfidf_vectorizer.fit_transform(X_valid_indian)\n",
        "tfidf_valid_indian = tfidf_valid_indian.toarray()\n",
        "df_tfidf_valid_indian = pd.DataFrame(tfidf_valid_indian, columns=tfidf_vectorizer.get_feature_names_out())"
      ],
      "metadata": {
        "id": "3y60RuD00xd3"
      },
      "execution_count": 163,
      "outputs": []
    },
    {
      "cell_type": "code",
      "source": [
        "df_tfidf_valid_indian.shape"
      ],
      "metadata": {
        "colab": {
          "base_uri": "https://localhost:8080/"
        },
        "id": "u5qQi5jxMwXu",
        "outputId": "4fd5658a-a6db-4a19-a62c-880224cea061"
      },
      "execution_count": 165,
      "outputs": [
        {
          "output_type": "execute_result",
          "data": {
            "text/plain": [
              "(128, 337)"
            ]
          },
          "metadata": {},
          "execution_count": 165
        }
      ]
    },
    {
      "cell_type": "markdown",
      "metadata": {
        "id": "y76wOBybvL5f"
      },
      "source": [
        "## Word2Vec"
      ]
    },
    {
      "cell_type": "code",
      "execution_count": 87,
      "metadata": {
        "id": "K0LbFMyExr26"
      },
      "outputs": [],
      "source": [
        "def get_embedding_w2v(model, doc_tokens):\n",
        "    embeddings = []\n",
        "    for tok in doc_tokens:\n",
        "        if tok in model.wv.vocab:\n",
        "                embeddings.append(model.wv.word_vec(tok))\n",
        "        else:\n",
        "            embeddings.append(np.random.rand(300))\n",
        "    return np.mean(embeddings, axis=0)"
      ]
    },
    {
      "cell_type": "markdown",
      "source": [
        "Cuisine Classification Data"
      ],
      "metadata": {
        "id": "i-7fQv02A3pt"
      }
    },
    {
      "cell_type": "code",
      "execution_count": 190,
      "metadata": {
        "id": "3EA21gQ3vmZU"
      },
      "outputs": [],
      "source": [
        "ingredients = '. '.join(X_train_cuisine)\n",
        "sentences = nltk.sent_tokenize(ingredients)\n",
        "sentences = [nltk.word_tokenize(sentence) for sentence in sentences]\n",
        "model_word2vec = Word2Vec(sentences, size=300, min_count=1, window=5, sg=1,workers=4)"
      ]
    },
    {
      "cell_type": "code",
      "execution_count": 191,
      "metadata": {
        "id": "G5BJ-0n9vPI0"
      },
      "outputs": [],
      "source": [
        "X_train_word2vec_cuisine = X_train_cuisine.apply(lambda x : get_embedding_w2v(model_word2vec, x.split()))"
      ]
    },
    {
      "cell_type": "code",
      "source": [
        "ingredients = '. '.join(X_valid_cuisine)\n",
        "sentences = nltk.sent_tokenize(ingredients)\n",
        "sentences = [nltk.word_tokenize(sentence) for sentence in sentences]\n",
        "model_word2vec = Word2Vec(sentences, size=300, min_count=1, window=5, sg=1,workers=4)"
      ],
      "metadata": {
        "id": "ElLHbwnqBU8o"
      },
      "execution_count": 192,
      "outputs": []
    },
    {
      "cell_type": "code",
      "source": [
        "X_valid_word2vec_cuisine = X_valid_cuisine.apply(lambda x : get_embedding_w2v(model_word2vec, x.split()))"
      ],
      "metadata": {
        "id": "SVxI10srENmN"
      },
      "execution_count": 193,
      "outputs": []
    },
    {
      "cell_type": "markdown",
      "source": [
        "Indian Food Data"
      ],
      "metadata": {
        "id": "LlVWjOrTCIF-"
      }
    },
    {
      "cell_type": "code",
      "source": [
        "ingredients = '. '.join(X_train_indian)\n",
        "sentences = nltk.sent_tokenize(ingredients)\n",
        "sentences = [nltk.word_tokenize(sentence) for sentence in sentences]\n",
        "model_word2vec = Word2Vec(sentences, size=300, min_count=1, window=5, sg=1,workers=1)"
      ],
      "metadata": {
        "colab": {
          "base_uri": "https://localhost:8080/"
        },
        "id": "gsPObo6sCJk8",
        "outputId": "8b336dcc-6593-4f8d-f367-5e2a76eecf8a"
      },
      "execution_count": 99,
      "outputs": [
        {
          "output_type": "stream",
          "name": "stderr",
          "text": [
            "WARNING:gensim.models.base_any2vec:under 10 jobs per worker: consider setting a smaller `batch_words' for smoother alpha decay\n"
          ]
        }
      ]
    },
    {
      "cell_type": "code",
      "source": [
        "X_train_word2vec_indian = X_train_indian.apply(lambda x : get_embedding_w2v(model_word2vec, x.split()))"
      ],
      "metadata": {
        "id": "Pdie6foTCwol"
      },
      "execution_count": 101,
      "outputs": []
    },
    {
      "cell_type": "code",
      "source": [
        "ingredients = '. '.join(X_valid_indian)\n",
        "sentences = nltk.sent_tokenize(ingredients)\n",
        "sentences = [nltk.word_tokenize(sentence) for sentence in sentences]\n",
        "model_word2vec = Word2Vec(sentences, size=300, min_count=1, window=5, sg=1,workers=1)"
      ],
      "metadata": {
        "colab": {
          "base_uri": "https://localhost:8080/"
        },
        "id": "qaCK0k10FGDG",
        "outputId": "39779da6-9528-4516-e504-a6af667fe0a2"
      },
      "execution_count": 110,
      "outputs": [
        {
          "output_type": "stream",
          "name": "stderr",
          "text": [
            "WARNING:gensim.models.base_any2vec:under 10 jobs per worker: consider setting a smaller `batch_words' for smoother alpha decay\n"
          ]
        }
      ]
    },
    {
      "cell_type": "code",
      "source": [
        "X_valid_word2vec_indian = X_valid_indian.apply(lambda x : get_embedding_w2v(model_word2vec, x.split()))"
      ],
      "metadata": {
        "id": "3Jtt0E04FKF5"
      },
      "execution_count": 111,
      "outputs": []
    },
    {
      "cell_type": "markdown",
      "metadata": {
        "id": "bFEr-j0DW3Ui"
      },
      "source": [
        "## BERT"
      ]
    },
    {
      "cell_type": "code",
      "source": [
        "bert_model_sentence = SentenceTransformer('bert-base-nli-mean-tokens')"
      ],
      "metadata": {
        "id": "5m8cQmrXL-kU"
      },
      "execution_count": 42,
      "outputs": []
    },
    {
      "cell_type": "code",
      "source": [
        "sentences_bert = bert_model_sentence.encode(X_train)"
      ],
      "metadata": {
        "id": "B7Z7Pcwyzscu"
      },
      "execution_count": 45,
      "outputs": []
    },
    {
      "cell_type": "code",
      "source": [
        "len(train_tfidf[0])"
      ],
      "metadata": {
        "colab": {
          "base_uri": "https://localhost:8080/"
        },
        "id": "8meFHAVUNEc3",
        "outputId": "f3a1948d-2597-420b-901c-e24a6127f720"
      },
      "execution_count": 48,
      "outputs": [
        {
          "output_type": "execute_result",
          "data": {
            "text/plain": [
              "3002"
            ]
          },
          "metadata": {},
          "execution_count": 48
        }
      ]
    },
    {
      "cell_type": "code",
      "source": [
        "len(sentences_word2vec[0])"
      ],
      "metadata": {
        "colab": {
          "base_uri": "https://localhost:8080/"
        },
        "id": "wO9gpNpcMl77",
        "outputId": "aa4fdbef-f51b-4ed5-cbc0-541e6035b58e"
      },
      "execution_count": 47,
      "outputs": [
        {
          "output_type": "execute_result",
          "data": {
            "text/plain": [
              "300"
            ]
          },
          "metadata": {},
          "execution_count": 47
        }
      ]
    },
    {
      "cell_type": "code",
      "source": [
        "len(sentences_bert[0])"
      ],
      "metadata": {
        "colab": {
          "base_uri": "https://localhost:8080/"
        },
        "id": "xTAiFOtXMexT",
        "outputId": "a9f9d34a-4e8b-48d6-b9c6-173b70c21854"
      },
      "execution_count": 46,
      "outputs": [
        {
          "output_type": "execute_result",
          "data": {
            "text/plain": [
              "768"
            ]
          },
          "metadata": {},
          "execution_count": 46
        }
      ]
    },
    {
      "cell_type": "markdown",
      "metadata": {
        "id": "y8BLcackYjE2"
      },
      "source": [
        "# Different Classificators"
      ]
    },
    {
      "cell_type": "code",
      "source": [
        "vocab_size_cuisine = len(vocabulary_cuisine)\n",
        "vocab_size_indian = len(vocabulary_indian)"
      ],
      "metadata": {
        "id": "U0dWyidcM5hw"
      },
      "execution_count": 166,
      "outputs": []
    },
    {
      "cell_type": "markdown",
      "source": [
        "## CNN"
      ],
      "metadata": {
        "id": "FXaoz4nYqMfx"
      }
    },
    {
      "cell_type": "code",
      "source": [
        "def build_model_CNN(vocab_size, n, max_length, output):\n",
        "  model = Sequential()\n",
        "  model.add(Embedding(vocab_size, output_dim = n, input_length=max_length))\n",
        "  model.add(Conv1D(filters=64, kernel_size=11, strides=1))\n",
        "  model.add(Activation('relu'))\n",
        "  model.add(GlobalMaxPooling1D())\n",
        "  model.add(Dense(128))\n",
        "  model.add(Activation('relu'))\n",
        "  model.add(Dense(64))\n",
        "  model.add(Activation('relu'))\n",
        "  model.add(Dense(output, activation='softmax'))\n",
        "  return model"
      ],
      "metadata": {
        "id": "EpebMD4-ps6o"
      },
      "execution_count": 54,
      "outputs": []
    },
    {
      "cell_type": "markdown",
      "source": [
        "### TFIDF"
      ],
      "metadata": {
        "id": "SjLtF66fqSb9"
      }
    },
    {
      "cell_type": "markdown",
      "source": [
        "Cuisine Classification Data"
      ],
      "metadata": {
        "id": "RUIgc5aPE08x"
      }
    },
    {
      "cell_type": "code",
      "source": [
        "model_cuisine = build_model_CNN(vocab_size_cuisine, 32, vocab_size_cuisine, 20)"
      ],
      "metadata": {
        "id": "GS2EEZdu8z93"
      },
      "execution_count": 168,
      "outputs": []
    },
    {
      "cell_type": "code",
      "source": [
        "sgd = SGD(learning_rate=0.001)\n",
        "model_cuisine.compile(loss=\"categorical_crossentropy\",optimizer=sgd,metrics=['accuracy'])\n",
        "history_fine = model_cuisine.fit(df_tfidf_train_cuisine,y_train_cuisine,validation_data=(df_tfidf_valid_cuisine,y_valid_cuisine),epochs=20)"
      ],
      "metadata": {
        "id": "3gmmJQKd83Gc"
      },
      "execution_count": null,
      "outputs": []
    },
    {
      "cell_type": "markdown",
      "source": [
        "Indian Food Data"
      ],
      "metadata": {
        "id": "87lTBEydE4uH"
      }
    },
    {
      "cell_type": "code",
      "source": [
        "model_indian = build_model_CNN(vocab_size_indian, 32, vocab_size_indian, 2)"
      ],
      "metadata": {
        "id": "9hwX8CS81kj9"
      },
      "execution_count": 172,
      "outputs": []
    },
    {
      "cell_type": "code",
      "source": [
        "sgd = SGD(learning_rate=0.001)\n",
        "model_indian.compile(loss=\"categorical_crossentropy\",optimizer=sgd,metrics=['accuracy'])\n",
        "history_fine = model_indian.fit(df_tfidf_train_indian,y_train_indian,validation_data=(df_tfidf_valid_indian,y_valid_indian),epochs=20)"
      ],
      "metadata": {
        "id": "UxcxgIfcSAlB"
      },
      "execution_count": null,
      "outputs": []
    },
    {
      "cell_type": "code",
      "source": [],
      "metadata": {
        "id": "ZVd76nwZOcYr"
      },
      "execution_count": null,
      "outputs": []
    },
    {
      "cell_type": "markdown",
      "source": [
        "### Word2vec"
      ],
      "metadata": {
        "id": "toh10I1K-R35"
      }
    },
    {
      "cell_type": "markdown",
      "source": [
        "Cuisine Classification Data"
      ],
      "metadata": {
        "id": "LoRJBqdpE9EY"
      }
    },
    {
      "cell_type": "code",
      "source": [
        "model_cuisine = build_model_CNN(vocab_size_cuisine, 32, 300, 20)"
      ],
      "metadata": {
        "id": "Om9Ffqin-RMP"
      },
      "execution_count": 103,
      "outputs": []
    },
    {
      "cell_type": "code",
      "source": [
        "X_train_word2vec_cuisine = np.array([np.array(val) for val in X_train_word2vec_cuisine])\n",
        "X_valid_word2vec_cuisine = np.array([np.array(val) for val in X_valid_word2vec_cuisine])"
      ],
      "metadata": {
        "id": "E6kbIM9XDafJ"
      },
      "execution_count": 105,
      "outputs": []
    },
    {
      "cell_type": "code",
      "source": [
        "sgd = SGD(learning_rate=0.001)\n",
        "model_cuisine.compile(loss=\"categorical_crossentropy\",optimizer=sgd,metrics=['accuracy'])\n",
        "history_fine = model_cuisine.fit(X_train_word2vec_cuisine,y_train_cuisine,validation_data=(X_valid_word2vec_cuisine,y_valid_cuisine) , epochs=20)"
      ],
      "metadata": {
        "colab": {
          "base_uri": "https://localhost:8080/"
        },
        "id": "FTwyaqnFDKcq",
        "outputId": "48826a76-0287-4e8a-9bac-47574c34a22c"
      },
      "execution_count": 106,
      "outputs": [
        {
          "output_type": "stream",
          "name": "stdout",
          "text": [
            "Epoch 1/20\n",
            "1119/1119 [==============================] - 5s 4ms/step - loss: 2.9427 - accuracy: 0.1860 - val_loss: 2.8962 - val_accuracy: 0.2001\n",
            "Epoch 2/20\n",
            "1119/1119 [==============================] - 4s 4ms/step - loss: 2.8466 - accuracy: 0.1967 - val_loss: 2.7986 - val_accuracy: 0.2001\n",
            "Epoch 3/20\n",
            "1119/1119 [==============================] - 5s 4ms/step - loss: 2.7459 - accuracy: 0.1967 - val_loss: 2.7014 - val_accuracy: 0.2001\n",
            "Epoch 4/20\n",
            "1119/1119 [==============================] - 5s 4ms/step - loss: 2.6673 - accuracy: 0.1967 - val_loss: 2.6495 - val_accuracy: 0.2001\n",
            "Epoch 5/20\n",
            "1119/1119 [==============================] - 4s 4ms/step - loss: 2.6355 - accuracy: 0.1967 - val_loss: 2.6310 - val_accuracy: 0.2001\n",
            "Epoch 6/20\n",
            "1119/1119 [==============================] - 5s 4ms/step - loss: 2.6227 - accuracy: 0.1967 - val_loss: 2.6214 - val_accuracy: 0.2001\n",
            "Epoch 7/20\n",
            "1119/1119 [==============================] - 5s 4ms/step - loss: 2.6159 - accuracy: 0.1967 - val_loss: 2.6162 - val_accuracy: 0.2001\n",
            "Epoch 8/20\n",
            "1119/1119 [==============================] - 5s 4ms/step - loss: 2.6123 - accuracy: 0.1967 - val_loss: 2.6133 - val_accuracy: 0.2001\n",
            "Epoch 9/20\n",
            "1119/1119 [==============================] - 5s 4ms/step - loss: 2.6104 - accuracy: 0.1967 - val_loss: 2.6117 - val_accuracy: 0.2001\n",
            "Epoch 10/20\n",
            "1119/1119 [==============================] - 5s 4ms/step - loss: 2.6092 - accuracy: 0.1967 - val_loss: 2.6107 - val_accuracy: 0.2001\n",
            "Epoch 11/20\n",
            "1119/1119 [==============================] - 5s 4ms/step - loss: 2.6085 - accuracy: 0.1967 - val_loss: 2.6101 - val_accuracy: 0.2001\n",
            "Epoch 12/20\n",
            "1119/1119 [==============================] - 5s 4ms/step - loss: 2.6080 - accuracy: 0.1967 - val_loss: 2.6097 - val_accuracy: 0.2001\n",
            "Epoch 13/20\n",
            "1119/1119 [==============================] - 5s 4ms/step - loss: 2.6078 - accuracy: 0.1967 - val_loss: 2.6094 - val_accuracy: 0.2001\n",
            "Epoch 14/20\n",
            "1119/1119 [==============================] - 5s 4ms/step - loss: 2.6076 - accuracy: 0.1967 - val_loss: 2.6093 - val_accuracy: 0.2001\n",
            "Epoch 15/20\n",
            "1119/1119 [==============================] - 5s 4ms/step - loss: 2.6075 - accuracy: 0.1967 - val_loss: 2.6092 - val_accuracy: 0.2001\n",
            "Epoch 16/20\n",
            "1119/1119 [==============================] - 5s 4ms/step - loss: 2.6074 - accuracy: 0.1967 - val_loss: 2.6092 - val_accuracy: 0.2001\n",
            "Epoch 17/20\n",
            "1119/1119 [==============================] - 5s 4ms/step - loss: 2.6074 - accuracy: 0.1967 - val_loss: 2.6091 - val_accuracy: 0.2001\n",
            "Epoch 18/20\n",
            "1119/1119 [==============================] - 5s 4ms/step - loss: 2.6074 - accuracy: 0.1967 - val_loss: 2.6089 - val_accuracy: 0.2001\n",
            "Epoch 19/20\n",
            "1119/1119 [==============================] - 5s 4ms/step - loss: 2.6074 - accuracy: 0.1967 - val_loss: 2.6090 - val_accuracy: 0.2001\n",
            "Epoch 20/20\n",
            "1119/1119 [==============================] - 5s 4ms/step - loss: 2.6073 - accuracy: 0.1967 - val_loss: 2.6089 - val_accuracy: 0.2001\n"
          ]
        }
      ]
    },
    {
      "cell_type": "markdown",
      "source": [
        "Indian Food Data"
      ],
      "metadata": {
        "id": "azBlKGkjE_dm"
      }
    },
    {
      "cell_type": "code",
      "source": [
        "model_indian = build_model_CNN(vocab_size_indian, 32, 300, 2)"
      ],
      "metadata": {
        "id": "KzmHzvbUEakI"
      },
      "execution_count": 176,
      "outputs": []
    },
    {
      "cell_type": "code",
      "source": [
        "X_train_word2vec_indian = np.array([np.array(val) for val in X_train_word2vec_indian])\n",
        "X_valid_word2vec_indian = np.array([np.array(val) for val in X_valid_word2vec_indian])"
      ],
      "metadata": {
        "id": "kkhN4ARkFPid"
      },
      "execution_count": 177,
      "outputs": []
    },
    {
      "cell_type": "code",
      "source": [
        "sgd = SGD(learning_rate=0.001)\n",
        "model_indian.compile(loss=\"categorical_crossentropy\",optimizer=sgd,metrics=['accuracy'])\n",
        "history_fine = model_indian.fit(X_train_word2vec_indian,y_train_indian,validation_data=(X_valid_word2vec_indian,y_valid_indian) , epochs=20)"
      ],
      "metadata": {
        "colab": {
          "base_uri": "https://localhost:8080/"
        },
        "id": "fOMq35H_EzkK",
        "outputId": "6230a150-21d2-4883-936f-464feb30ed6f"
      },
      "execution_count": 178,
      "outputs": [
        {
          "output_type": "stream",
          "name": "stdout",
          "text": [
            "Epoch 1/20\n",
            "7/7 [==============================] - 1s 40ms/step - loss: 0.6936 - accuracy: 0.3676 - val_loss: 0.6899 - val_accuracy: 0.9062\n",
            "Epoch 2/20\n",
            "7/7 [==============================] - 0s 19ms/step - loss: 0.6878 - accuracy: 0.8873 - val_loss: 0.6838 - val_accuracy: 0.9062\n",
            "Epoch 3/20\n",
            "7/7 [==============================] - 0s 13ms/step - loss: 0.6824 - accuracy: 0.8873 - val_loss: 0.6788 - val_accuracy: 0.9062\n",
            "Epoch 4/20\n",
            "7/7 [==============================] - 0s 14ms/step - loss: 0.6777 - accuracy: 0.8873 - val_loss: 0.6741 - val_accuracy: 0.9062\n",
            "Epoch 5/20\n",
            "7/7 [==============================] - 0s 12ms/step - loss: 0.6732 - accuracy: 0.8873 - val_loss: 0.6693 - val_accuracy: 0.9062\n",
            "Epoch 6/20\n",
            "7/7 [==============================] - 0s 13ms/step - loss: 0.6687 - accuracy: 0.8873 - val_loss: 0.6647 - val_accuracy: 0.9062\n",
            "Epoch 7/20\n",
            "7/7 [==============================] - 0s 11ms/step - loss: 0.6644 - accuracy: 0.8873 - val_loss: 0.6601 - val_accuracy: 0.9062\n",
            "Epoch 8/20\n",
            "7/7 [==============================] - 0s 9ms/step - loss: 0.6601 - accuracy: 0.8873 - val_loss: 0.6556 - val_accuracy: 0.9062\n",
            "Epoch 9/20\n",
            "7/7 [==============================] - 0s 8ms/step - loss: 0.6557 - accuracy: 0.8873 - val_loss: 0.6510 - val_accuracy: 0.9062\n",
            "Epoch 10/20\n",
            "7/7 [==============================] - 0s 8ms/step - loss: 0.6515 - accuracy: 0.8873 - val_loss: 0.6467 - val_accuracy: 0.9062\n",
            "Epoch 11/20\n",
            "7/7 [==============================] - 0s 9ms/step - loss: 0.6474 - accuracy: 0.8873 - val_loss: 0.6425 - val_accuracy: 0.9062\n",
            "Epoch 12/20\n",
            "7/7 [==============================] - 0s 9ms/step - loss: 0.6434 - accuracy: 0.8873 - val_loss: 0.6383 - val_accuracy: 0.9062\n",
            "Epoch 13/20\n",
            "7/7 [==============================] - 0s 10ms/step - loss: 0.6395 - accuracy: 0.8873 - val_loss: 0.6341 - val_accuracy: 0.9062\n",
            "Epoch 14/20\n",
            "7/7 [==============================] - 0s 8ms/step - loss: 0.6356 - accuracy: 0.8873 - val_loss: 0.6303 - val_accuracy: 0.9062\n",
            "Epoch 15/20\n",
            "7/7 [==============================] - 0s 12ms/step - loss: 0.6320 - accuracy: 0.8873 - val_loss: 0.6264 - val_accuracy: 0.9062\n",
            "Epoch 16/20\n",
            "7/7 [==============================] - 0s 9ms/step - loss: 0.6282 - accuracy: 0.8873 - val_loss: 0.6225 - val_accuracy: 0.9062\n",
            "Epoch 17/20\n",
            "7/7 [==============================] - 0s 9ms/step - loss: 0.6246 - accuracy: 0.8873 - val_loss: 0.6189 - val_accuracy: 0.9062\n",
            "Epoch 18/20\n",
            "7/7 [==============================] - 0s 9ms/step - loss: 0.6212 - accuracy: 0.8873 - val_loss: 0.6154 - val_accuracy: 0.9062\n",
            "Epoch 19/20\n",
            "7/7 [==============================] - 0s 9ms/step - loss: 0.6180 - accuracy: 0.8873 - val_loss: 0.6119 - val_accuracy: 0.9062\n",
            "Epoch 20/20\n",
            "7/7 [==============================] - 0s 8ms/step - loss: 0.6146 - accuracy: 0.8873 - val_loss: 0.6083 - val_accuracy: 0.9062\n"
          ]
        }
      ]
    },
    {
      "cell_type": "markdown",
      "source": [
        "## RNN"
      ],
      "metadata": {
        "id": "m2dE6z37FcqB"
      }
    },
    {
      "cell_type": "code",
      "source": [
        "def build_model_RNN(vocab_size, n, max_length, output):\n",
        "  model = Sequential()\n",
        "  model.add(Embedding(vocab_size, output_dim = n, input_length=max_length))\n",
        "  model.add(SimpleRNN(128,return_sequences=True,activation='relu'))\n",
        "  model.add(Dropout(0.5))\n",
        "  model.add(SimpleRNN(64,activation='relu'))\n",
        "  model.add(Dropout(0.5))\n",
        "  model.add(Dense(output, activation=\"softmax\"))\n",
        "  return model"
      ],
      "metadata": {
        "id": "u3HeCXbnFef5"
      },
      "execution_count": 183,
      "outputs": []
    },
    {
      "cell_type": "markdown",
      "source": [
        "### Word2vec"
      ],
      "metadata": {
        "id": "VygIULHyPwrc"
      }
    },
    {
      "cell_type": "markdown",
      "source": [
        "Cuisine Classification Data"
      ],
      "metadata": {
        "id": "N5fYFoa1Pwrc"
      }
    },
    {
      "cell_type": "code",
      "source": [
        "model_cuisine = build_model_RNN(vocab_size_cuisine, 32, 300, 20)"
      ],
      "metadata": {
        "id": "gawpAQA6Pwrc"
      },
      "execution_count": 187,
      "outputs": []
    },
    {
      "cell_type": "code",
      "source": [
        "X_train_word2vec_cuisine = np.array([np.array(val) for val in X_train_word2vec_cuisine])\n",
        "X_valid_word2vec_cuisine = np.array([np.array(val) for val in X_valid_word2vec_cuisine])"
      ],
      "metadata": {
        "id": "u2Q2HBEVPwrc"
      },
      "execution_count": 194,
      "outputs": []
    },
    {
      "cell_type": "code",
      "source": [
        "sgd = SGD(learning_rate=0.001)\n",
        "model_cuisine.compile(loss=\"categorical_crossentropy\",optimizer=sgd,metrics=['accuracy'])\n",
        "history_fine = model_cuisine.fit(X_train_word2vec_cuisine,y_train_cuisine,validation_data=(X_valid_word2vec_cuisine,y_valid_cuisine) , epochs=20)"
      ],
      "metadata": {
        "id": "wEDpLnWsPwrc"
      },
      "execution_count": null,
      "outputs": []
    },
    {
      "cell_type": "markdown",
      "source": [
        "Indian Food Data"
      ],
      "metadata": {
        "id": "cTQ1wA42Pwrd"
      }
    },
    {
      "cell_type": "code",
      "source": [
        "model_indian = build_model_RNN(vocab_size_indian, 32, 300, 2)"
      ],
      "metadata": {
        "id": "XJZEL6I4Pwrd"
      },
      "execution_count": 184,
      "outputs": []
    },
    {
      "cell_type": "code",
      "source": [
        "X_train_word2vec_indian = np.array([np.array(val) for val in X_train_word2vec_indian])\n",
        "X_valid_word2vec_indian = np.array([np.array(val) for val in X_valid_word2vec_indian])"
      ],
      "metadata": {
        "id": "ubKBLrF7Pwrd"
      },
      "execution_count": 185,
      "outputs": []
    },
    {
      "cell_type": "code",
      "source": [
        "sgd = SGD(learning_rate=0.001)\n",
        "model_indian.compile(loss=\"categorical_crossentropy\",optimizer=sgd,metrics=['accuracy'])\n",
        "history_fine = model_indian.fit(X_train_word2vec_indian,y_train_indian,validation_data=(X_valid_word2vec_indian,y_valid_indian) , epochs=20)"
      ],
      "metadata": {
        "colab": {
          "base_uri": "https://localhost:8080/"
        },
        "outputId": "2043e6fb-dae6-4167-e4b1-161a39d06062",
        "id": "AS8EPyaqPwrd"
      },
      "execution_count": 186,
      "outputs": [
        {
          "output_type": "stream",
          "name": "stdout",
          "text": [
            "Epoch 1/20\n",
            "7/7 [==============================] - 6s 682ms/step - loss: 0.6884 - accuracy: 0.5588 - val_loss: 0.6778 - val_accuracy: 0.9062\n",
            "Epoch 2/20\n",
            "7/7 [==============================] - 4s 613ms/step - loss: 0.6740 - accuracy: 0.6569 - val_loss: 0.6620 - val_accuracy: 0.9062\n",
            "Epoch 3/20\n",
            "7/7 [==============================] - 4s 631ms/step - loss: 0.6675 - accuracy: 0.6765 - val_loss: 0.6479 - val_accuracy: 0.9062\n",
            "Epoch 4/20\n",
            "7/7 [==============================] - 4s 629ms/step - loss: 0.6518 - accuracy: 0.7647 - val_loss: 0.6333 - val_accuracy: 0.9062\n",
            "Epoch 5/20\n",
            "7/7 [==============================] - 4s 573ms/step - loss: 0.6404 - accuracy: 0.8088 - val_loss: 0.6207 - val_accuracy: 0.9062\n",
            "Epoch 6/20\n",
            "7/7 [==============================] - 4s 600ms/step - loss: 0.6421 - accuracy: 0.7990 - val_loss: 0.6086 - val_accuracy: 0.9062\n",
            "Epoch 7/20\n",
            "7/7 [==============================] - 4s 585ms/step - loss: 0.6210 - accuracy: 0.8627 - val_loss: 0.5976 - val_accuracy: 0.9062\n",
            "Epoch 8/20\n",
            "7/7 [==============================] - 4s 606ms/step - loss: 0.6102 - accuracy: 0.8725 - val_loss: 0.5863 - val_accuracy: 0.9062\n",
            "Epoch 9/20\n",
            "7/7 [==============================] - 4s 622ms/step - loss: 0.5992 - accuracy: 0.8725 - val_loss: 0.5751 - val_accuracy: 0.9062\n",
            "Epoch 10/20\n",
            "7/7 [==============================] - 4s 572ms/step - loss: 0.5878 - accuracy: 0.8775 - val_loss: 0.5653 - val_accuracy: 0.9062\n",
            "Epoch 11/20\n",
            "7/7 [==============================] - 4s 577ms/step - loss: 0.5841 - accuracy: 0.8775 - val_loss: 0.5545 - val_accuracy: 0.9062\n",
            "Epoch 12/20\n",
            "7/7 [==============================] - 4s 615ms/step - loss: 0.5666 - accuracy: 0.8775 - val_loss: 0.5439 - val_accuracy: 0.9062\n",
            "Epoch 13/20\n",
            "7/7 [==============================] - 4s 597ms/step - loss: 0.5630 - accuracy: 0.8775 - val_loss: 0.5320 - val_accuracy: 0.9062\n",
            "Epoch 14/20\n",
            "7/7 [==============================] - 4s 600ms/step - loss: 0.5502 - accuracy: 0.8922 - val_loss: 0.5208 - val_accuracy: 0.9062\n",
            "Epoch 15/20\n",
            "7/7 [==============================] - 4s 568ms/step - loss: 0.5586 - accuracy: 0.8725 - val_loss: 0.5109 - val_accuracy: 0.9062\n",
            "Epoch 16/20\n",
            "7/7 [==============================] - 4s 585ms/step - loss: 0.5395 - accuracy: 0.8873 - val_loss: 0.4995 - val_accuracy: 0.9062\n",
            "Epoch 17/20\n",
            "7/7 [==============================] - 4s 601ms/step - loss: 0.5357 - accuracy: 0.8824 - val_loss: 0.4901 - val_accuracy: 0.9062\n",
            "Epoch 18/20\n",
            "7/7 [==============================] - 4s 569ms/step - loss: 0.5175 - accuracy: 0.8775 - val_loss: 0.4805 - val_accuracy: 0.9062\n",
            "Epoch 19/20\n",
            "7/7 [==============================] - 4s 621ms/step - loss: 0.5115 - accuracy: 0.8824 - val_loss: 0.4707 - val_accuracy: 0.9062\n",
            "Epoch 20/20\n",
            "7/7 [==============================] - 4s 544ms/step - loss: 0.5021 - accuracy: 0.8824 - val_loss: 0.4623 - val_accuracy: 0.9062\n"
          ]
        }
      ]
    }
  ],
  "metadata": {
    "accelerator": "GPU",
    "colab": {
      "collapsed_sections": [
        "EXBIaW8iNOp3",
        "XrZ43RFpWubJ",
        "y76wOBybvL5f",
        "bFEr-j0DW3Ui",
        "y8BLcackYjE2"
      ],
      "provenance": [],
      "authorship_tag": "ABX9TyP2eSkEFKl+b1RS1XeJtbTd",
      "include_colab_link": true
    },
    "gpuClass": "standard",
    "kernelspec": {
      "display_name": "Python 3",
      "name": "python3"
    },
    "language_info": {
      "name": "python"
    }
  },
  "nbformat": 4,
  "nbformat_minor": 0
}