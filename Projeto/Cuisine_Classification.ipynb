{
  "nbformat": 4,
  "nbformat_minor": 0,
  "metadata": {
    "colab": {
      "provenance": [],
      "collapsed_sections": [],
      "authorship_tag": "ABX9TyM9Rcvs0L2oYY11yX13kiZJ",
      "include_colab_link": true
    },
    "kernelspec": {
      "name": "python3",
      "display_name": "Python 3"
    },
    "language_info": {
      "name": "python"
    }
  },
  "cells": [
    {
      "cell_type": "markdown",
      "metadata": {
        "id": "view-in-github",
        "colab_type": "text"
      },
      "source": [
        "<a href=\"https://colab.research.google.com/github/dudaholandah/NLP/blob/main/Projeto/Cuisine_Classification.ipynb\" target=\"_parent\"><img src=\"https://colab.research.google.com/assets/colab-badge.svg\" alt=\"Open In Colab\"/></a>"
      ]
    },
    {
      "cell_type": "markdown",
      "source": [
        "# Google Drive"
      ],
      "metadata": {
        "id": "WcLihi-R1K51"
      }
    },
    {
      "cell_type": "code",
      "execution_count": null,
      "metadata": {
        "id": "HF2bJKuw07dg"
      },
      "outputs": [],
      "source": [
        "from google.colab import drive\n",
        "drive.mount('/content/drive')"
      ]
    },
    {
      "cell_type": "code",
      "source": [
        "!cp -r '/content/drive/MyDrive/NLP-Project/cuisine-classification-ingredients' 'cuisine-classification-ingredients'"
      ],
      "metadata": {
        "id": "sFVXDnEj1ISk"
      },
      "execution_count": null,
      "outputs": []
    },
    {
      "cell_type": "markdown",
      "source": [
        "# Imports"
      ],
      "metadata": {
        "id": "7ykGfuKI1Qza"
      }
    },
    {
      "cell_type": "code",
      "source": [
        "!pip install gensim --upgrade\n",
        "!pip install keras\n",
        "!pip install tensorflow\n",
        "!pip install keras-tuner --upgrade\n",
        "!pip install glove-python-binary"
      ],
      "metadata": {
        "id": "SwIN9CAP1Rwu"
      },
      "execution_count": null,
      "outputs": []
    },
    {
      "cell_type": "code",
      "source": [
        "#WORD2VEC\n",
        "from gensim.models import Word2Vec\n",
        "import nltk\n",
        "from tensorflow.keras.preprocessing.text import Tokenizer\n",
        "from tensorflow.keras.preprocessing.sequence import pad_sequences\n",
        "nltk.download('punkt')\n",
        "#GLOVE\n",
        "from glove import Corpus, Glove\n",
        "#Neural Network\n",
        "import keras_tuner as kt\n",
        "from tensorflow import keras\n",
        "from keras.models import Sequential\n",
        "from keras.layers import Dense,Conv1D,Embedding,GlobalMaxPooling1D,Activation,SimpleRNN,Dropout,Masking,LSTM\n",
        "from sklearn.feature_extraction.text import TfidfVectorizer\n",
        "from tensorflow.keras.optimizers import SGD\n",
        "from keras_tuner import HyperModel\n",
        "import matplotlib.pyplot as plt\n",
        "from sklearn.metrics import classification_report\n",
        "from sklearn.metrics import ConfusionMatrixDisplay\n",
        "#Data\n",
        "import json\n",
        "import os\n",
        "import pandas as pd\n",
        "import re\n",
        "import numpy as np\n",
        "from sklearn.model_selection import train_test_split\n",
        "from keras.utils.np_utils import to_categorical"
      ],
      "metadata": {
        "id": "-chQxYTs1eCT",
        "colab": {
          "base_uri": "https://localhost:8080/"
        },
        "outputId": "4c5296d9-c5d2-4b4a-d0fc-6518aa46924e"
      },
      "execution_count": null,
      "outputs": [
        {
          "output_type": "stream",
          "name": "stderr",
          "text": [
            "[nltk_data] Downloading package punkt to /root/nltk_data...\n",
            "[nltk_data]   Unzipping tokenizers/punkt.zip.\n"
          ]
        }
      ]
    },
    {
      "cell_type": "markdown",
      "source": [
        "# Data"
      ],
      "metadata": {
        "id": "VNAfDGAw1lC2"
      }
    },
    {
      "cell_type": "markdown",
      "source": [
        "## Download"
      ],
      "metadata": {
        "id": "J_mqxjOc19Hf"
      }
    },
    {
      "cell_type": "code",
      "execution_count": null,
      "metadata": {
        "id": "5JjYIn_kNSjR"
      },
      "outputs": [],
      "source": [
        "path = 'cuisine-classification-ingredients/train.json'\n",
        "\n",
        "with open(path, 'r') as f:\n",
        "  json_file = json.load(f)"
      ]
    },
    {
      "cell_type": "code",
      "execution_count": null,
      "metadata": {
        "id": "Gb4Ib7JJP2ux"
      },
      "outputs": [],
      "source": [
        "df_cuisine = pd.DataFrame(json_file, columns=['id', 'cuisine', 'ingredients'])"
      ]
    },
    {
      "cell_type": "code",
      "execution_count": null,
      "metadata": {
        "id": "YIld3-hEQEc7"
      },
      "outputs": [],
      "source": [
        "df_cuisine = df_cuisine.drop(['id'], axis=1)"
      ]
    },
    {
      "cell_type": "code",
      "source": [
        "df_cuisine = df_cuisine[:10000]"
      ],
      "metadata": {
        "id": "Q5FvHXN9NQZ-"
      },
      "execution_count": null,
      "outputs": []
    },
    {
      "cell_type": "code",
      "source": [
        "df_cuisine.head(5)"
      ],
      "metadata": {
        "colab": {
          "base_uri": "https://localhost:8080/"
        },
        "id": "pCXadN5t_c1O",
        "outputId": "c6dfe0bb-1d49-440d-99ab-48c3a18d8b05"
      },
      "execution_count": null,
      "outputs": [
        {
          "output_type": "execute_result",
          "data": {
            "text/plain": [
              "       cuisine                                        ingredients\n",
              "0        greek  [romaine lettuce, black olives, grape tomatoes...\n",
              "1  southern_us  [plain flour, ground pepper, salt, tomatoes, g...\n",
              "2     filipino  [eggs, pepper, salt, mayonaise, cooking oil, g...\n",
              "3       indian                [water, vegetable oil, wheat, salt]\n",
              "4       indian  [black pepper, shallots, cornflour, cayenne pe..."
            ],
            "text/html": [
              "\n",
              "  <div id=\"df-dbdcfed1-c07e-4d64-a9d4-1d49319551aa\">\n",
              "    <div class=\"colab-df-container\">\n",
              "      <div>\n",
              "<style scoped>\n",
              "    .dataframe tbody tr th:only-of-type {\n",
              "        vertical-align: middle;\n",
              "    }\n",
              "\n",
              "    .dataframe tbody tr th {\n",
              "        vertical-align: top;\n",
              "    }\n",
              "\n",
              "    .dataframe thead th {\n",
              "        text-align: right;\n",
              "    }\n",
              "</style>\n",
              "<table border=\"1\" class=\"dataframe\">\n",
              "  <thead>\n",
              "    <tr style=\"text-align: right;\">\n",
              "      <th></th>\n",
              "      <th>cuisine</th>\n",
              "      <th>ingredients</th>\n",
              "    </tr>\n",
              "  </thead>\n",
              "  <tbody>\n",
              "    <tr>\n",
              "      <th>0</th>\n",
              "      <td>greek</td>\n",
              "      <td>[romaine lettuce, black olives, grape tomatoes...</td>\n",
              "    </tr>\n",
              "    <tr>\n",
              "      <th>1</th>\n",
              "      <td>southern_us</td>\n",
              "      <td>[plain flour, ground pepper, salt, tomatoes, g...</td>\n",
              "    </tr>\n",
              "    <tr>\n",
              "      <th>2</th>\n",
              "      <td>filipino</td>\n",
              "      <td>[eggs, pepper, salt, mayonaise, cooking oil, g...</td>\n",
              "    </tr>\n",
              "    <tr>\n",
              "      <th>3</th>\n",
              "      <td>indian</td>\n",
              "      <td>[water, vegetable oil, wheat, salt]</td>\n",
              "    </tr>\n",
              "    <tr>\n",
              "      <th>4</th>\n",
              "      <td>indian</td>\n",
              "      <td>[black pepper, shallots, cornflour, cayenne pe...</td>\n",
              "    </tr>\n",
              "  </tbody>\n",
              "</table>\n",
              "</div>\n",
              "      <button class=\"colab-df-convert\" onclick=\"convertToInteractive('df-dbdcfed1-c07e-4d64-a9d4-1d49319551aa')\"\n",
              "              title=\"Convert this dataframe to an interactive table.\"\n",
              "              style=\"display:none;\">\n",
              "        \n",
              "  <svg xmlns=\"http://www.w3.org/2000/svg\" height=\"24px\"viewBox=\"0 0 24 24\"\n",
              "       width=\"24px\">\n",
              "    <path d=\"M0 0h24v24H0V0z\" fill=\"none\"/>\n",
              "    <path d=\"M18.56 5.44l.94 2.06.94-2.06 2.06-.94-2.06-.94-.94-2.06-.94 2.06-2.06.94zm-11 1L8.5 8.5l.94-2.06 2.06-.94-2.06-.94L8.5 2.5l-.94 2.06-2.06.94zm10 10l.94 2.06.94-2.06 2.06-.94-2.06-.94-.94-2.06-.94 2.06-2.06.94z\"/><path d=\"M17.41 7.96l-1.37-1.37c-.4-.4-.92-.59-1.43-.59-.52 0-1.04.2-1.43.59L10.3 9.45l-7.72 7.72c-.78.78-.78 2.05 0 2.83L4 21.41c.39.39.9.59 1.41.59.51 0 1.02-.2 1.41-.59l7.78-7.78 2.81-2.81c.8-.78.8-2.07 0-2.86zM5.41 20L4 18.59l7.72-7.72 1.47 1.35L5.41 20z\"/>\n",
              "  </svg>\n",
              "      </button>\n",
              "      \n",
              "  <style>\n",
              "    .colab-df-container {\n",
              "      display:flex;\n",
              "      flex-wrap:wrap;\n",
              "      gap: 12px;\n",
              "    }\n",
              "\n",
              "    .colab-df-convert {\n",
              "      background-color: #E8F0FE;\n",
              "      border: none;\n",
              "      border-radius: 50%;\n",
              "      cursor: pointer;\n",
              "      display: none;\n",
              "      fill: #1967D2;\n",
              "      height: 32px;\n",
              "      padding: 0 0 0 0;\n",
              "      width: 32px;\n",
              "    }\n",
              "\n",
              "    .colab-df-convert:hover {\n",
              "      background-color: #E2EBFA;\n",
              "      box-shadow: 0px 1px 2px rgba(60, 64, 67, 0.3), 0px 1px 3px 1px rgba(60, 64, 67, 0.15);\n",
              "      fill: #174EA6;\n",
              "    }\n",
              "\n",
              "    [theme=dark] .colab-df-convert {\n",
              "      background-color: #3B4455;\n",
              "      fill: #D2E3FC;\n",
              "    }\n",
              "\n",
              "    [theme=dark] .colab-df-convert:hover {\n",
              "      background-color: #434B5C;\n",
              "      box-shadow: 0px 1px 3px 1px rgba(0, 0, 0, 0.15);\n",
              "      filter: drop-shadow(0px 1px 2px rgba(0, 0, 0, 0.3));\n",
              "      fill: #FFFFFF;\n",
              "    }\n",
              "  </style>\n",
              "\n",
              "      <script>\n",
              "        const buttonEl =\n",
              "          document.querySelector('#df-dbdcfed1-c07e-4d64-a9d4-1d49319551aa button.colab-df-convert');\n",
              "        buttonEl.style.display =\n",
              "          google.colab.kernel.accessAllowed ? 'block' : 'none';\n",
              "\n",
              "        async function convertToInteractive(key) {\n",
              "          const element = document.querySelector('#df-dbdcfed1-c07e-4d64-a9d4-1d49319551aa');\n",
              "          const dataTable =\n",
              "            await google.colab.kernel.invokeFunction('convertToInteractive',\n",
              "                                                     [key], {});\n",
              "          if (!dataTable) return;\n",
              "\n",
              "          const docLinkHtml = 'Like what you see? Visit the ' +\n",
              "            '<a target=\"_blank\" href=https://colab.research.google.com/notebooks/data_table.ipynb>data table notebook</a>'\n",
              "            + ' to learn more about interactive tables.';\n",
              "          element.innerHTML = '';\n",
              "          dataTable['output_type'] = 'display_data';\n",
              "          await google.colab.output.renderOutput(dataTable, element);\n",
              "          const docLink = document.createElement('div');\n",
              "          docLink.innerHTML = docLinkHtml;\n",
              "          element.appendChild(docLink);\n",
              "        }\n",
              "      </script>\n",
              "    </div>\n",
              "  </div>\n",
              "  "
            ]
          },
          "metadata": {},
          "execution_count": 9
        }
      ]
    },
    {
      "cell_type": "markdown",
      "metadata": {
        "id": "J-FJCLP-bOqe"
      },
      "source": [
        "## Pre-Processing"
      ]
    },
    {
      "cell_type": "code",
      "execution_count": null,
      "metadata": {
        "id": "MRibRNivbUE1"
      },
      "outputs": [],
      "source": [
        "def pre_processing(text):\n",
        "  new = \"\"\n",
        "  for word in text.split(','):\n",
        "    word = re.sub(r'[^\\w\\s]', '', word.lower())\n",
        "    word = re.sub(r'[0-9]+', '', word)\n",
        "    word = re.sub(r'\\boz\\b', '', word)\n",
        "    word = re.sub(r'\\ba taste of\\b', '', word)\n",
        "    new = new + word.strip() + \" \"\n",
        "\n",
        "  return new[:-1]"
      ]
    },
    {
      "cell_type": "code",
      "execution_count": null,
      "metadata": {
        "id": "bhmVcEwdQnjh"
      },
      "outputs": [],
      "source": [
        "df_cuisine['ingredients'] = [','.join(x).strip() for x in df_cuisine['ingredients']]"
      ]
    },
    {
      "cell_type": "code",
      "execution_count": null,
      "metadata": {
        "id": "4qc9fp0jcaDG"
      },
      "outputs": [],
      "source": [
        "df_cuisine['ingredients'] = [pre_processing(x) for x in df_cuisine['ingredients']]"
      ]
    },
    {
      "cell_type": "code",
      "source": [
        "X = df_cuisine['ingredients']\n",
        "y = df_cuisine['cuisine']\n",
        "\n",
        "# dados de teste = 20% do treinamento\n",
        "X_train_cuisine, X_test_cuisine, y_train_cuisine, y_test_cuisine = train_test_split(X, y, test_size=0.2)\n",
        "\n",
        "# dados de validacao = 50% do teste\n",
        "X_test_cuisine, X_valid_cuisine, y_test_cuisine, y_valid_cuisine = train_test_split(X, y, test_size=0.5)"
      ],
      "metadata": {
        "id": "u96xaQ5MJO2o"
      },
      "execution_count": null,
      "outputs": []
    },
    {
      "cell_type": "code",
      "source": [
        "y_train_cuisine = pd.Categorical(y_train_cuisine)\n",
        "y_train_int_cuisine = y_train_cuisine.codes\n",
        "\n",
        "y_valid_cuisine = pd.Categorical(y_valid_cuisine)\n",
        "y_valid_int_cuisine = y_valid_cuisine.codes\n",
        "\n",
        "y_test_cuisine = pd.Categorical(y_test_cuisine)\n",
        "target_names_cuisine = y_test_cuisine.categories\n",
        "y_test_int_cuisine = y_test_cuisine.codes\n",
        "\n",
        "y_train_cuisine = to_categorical(y_train_int_cuisine)\n",
        "y_valid_cuisine = to_categorical(y_valid_int_cuisine)\n",
        "y_test_cuisine = to_categorical(y_test_int_cuisine)"
      ],
      "metadata": {
        "id": "6hNPne2f7SxN"
      },
      "execution_count": null,
      "outputs": []
    },
    {
      "cell_type": "markdown",
      "source": [
        "# Embeddings"
      ],
      "metadata": {
        "id": "JUwu7ggfBuKk"
      }
    },
    {
      "cell_type": "code",
      "source": [
        "MAX_LENGTH = 50"
      ],
      "metadata": {
        "id": "8q6eOy_DFW1S"
      },
      "execution_count": null,
      "outputs": []
    },
    {
      "cell_type": "markdown",
      "source": [
        "## Word2Vec"
      ],
      "metadata": {
        "id": "iPpD__hB11D2"
      }
    },
    {
      "cell_type": "code",
      "source": [
        "def create_embedding_w2v(tokenizer, model, vocab_size, embedding_dim):\n",
        "  embedding_w2v = np.zeros((vocab_size, embedding_dim))\n",
        "  for word, i in tokenizer.word_index.items():\n",
        "    if word in model.wv:\n",
        "      embedding_w2v[i] = model.wv.get_vector(word)\n",
        "    else:\n",
        "      embedding_w2v[i]=np.random.normal(0,np.sqrt(0.25), embedding_dim)\n",
        "  return embedding_w2v"
      ],
      "metadata": {
        "id": "9seXGB8U9Gd1"
      },
      "execution_count": null,
      "outputs": []
    },
    {
      "cell_type": "code",
      "source": [
        "# Tokenizer\n",
        "tokenizer = Tokenizer()\n",
        "tokenizer.fit_on_texts(X_train_cuisine)\n",
        "vocab_size_cuisine = len(tokenizer.word_index) + 1"
      ],
      "metadata": {
        "id": "XWFgwCcVW00s"
      },
      "execution_count": null,
      "outputs": []
    },
    {
      "cell_type": "code",
      "source": [
        "# Train Data\n",
        "encoded_w2v = tokenizer.texts_to_sequences(X_train_cuisine)\n",
        "X_train_w2v_padded = pad_sequences(encoded_w2v, maxlen=MAX_LENGTH, padding='post', truncating='post')\n",
        "\n",
        "# Valid Data\n",
        "encoded_w2v = tokenizer.texts_to_sequences(X_valid_cuisine)\n",
        "X_valid_w2v_padded = pad_sequences(encoded_w2v, maxlen=MAX_LENGTH, padding='post', truncating='post')\n",
        "\n",
        "# Test Data\n",
        "encoded_w2v = tokenizer.texts_to_sequences(X_test_cuisine)\n",
        "X_test_w2v_padded = pad_sequences(encoded_w2v, maxlen=MAX_LENGTH, padding='post', truncating='post')"
      ],
      "metadata": {
        "id": "b6PPurhP6Blz"
      },
      "execution_count": null,
      "outputs": []
    },
    {
      "cell_type": "code",
      "source": [
        "# EMBEDDING LAYER\n",
        "\n",
        "EMBEDDING_DIM_W2V = 100\n",
        "\n",
        "sentences = [sentence.split() for sentence in X_train_cuisine]\n",
        "model_word2vec = Word2Vec(sentences, vector_size=EMBEDDING_DIM_W2V, min_count=1, window=5, sg=1,workers=4)\n",
        "\n",
        "embedding_w2v = create_embedding_w2v(tokenizer, model_word2vec, vocab_size_cuisine, EMBEDDING_DIM_W2V)"
      ],
      "metadata": {
        "id": "sOvL-7eLDrwb"
      },
      "execution_count": null,
      "outputs": []
    },
    {
      "cell_type": "markdown",
      "source": [
        "## GloVe"
      ],
      "metadata": {
        "id": "uOfX_m_m5HQ4"
      }
    },
    {
      "cell_type": "code",
      "source": [
        "def create_embedding_glove(glove, vocab_size, embedding_dim):\n",
        "  embedding_glove = np.zeros((vocab_size, embedding_dim))\n",
        "  for i, word in enumerate(glove.dictionary):\n",
        "    embedding_glove[i+1] = glove.word_vectors[i]\n",
        "  return embedding_glove"
      ],
      "metadata": {
        "id": "ZNQQnNMUGrKU"
      },
      "execution_count": null,
      "outputs": []
    },
    {
      "cell_type": "code",
      "source": [
        "def texts_to_sequences(df_text):\n",
        "  encoded_glove = []\n",
        "  for sentence in df_text:\n",
        "    xs = []\n",
        "    for word in sentence.split():\n",
        "      if glove.dictionary.get(word) is not None:\n",
        "        xs.append(glove.dictionary[word]+1)\n",
        "      else:\n",
        "        xs.append(0)\n",
        "    encoded_glove.append(xs)\n",
        "  return encoded_glove"
      ],
      "metadata": {
        "id": "uc6EkGgTPcIK"
      },
      "execution_count": null,
      "outputs": []
    },
    {
      "cell_type": "code",
      "source": [
        "corpus = Corpus() \n",
        " \n",
        "sentences = [sentence.split() for sentence in X_train_cuisine]\n",
        "corpus.fit(sentences, window=10)"
      ],
      "metadata": {
        "id": "rjV8P7qfEj-g"
      },
      "execution_count": null,
      "outputs": []
    },
    {
      "cell_type": "code",
      "source": [
        "# EMBEDDING LAYER\n",
        "\n",
        "EMBEDDING_DIM_GLV = 100\n",
        "\n",
        "glove = Glove(no_components=EMBEDDING_DIM_GLV, learning_rate=0.05)\n",
        "glove.fit(corpus.matrix, epochs=30, no_threads=2)\n",
        "glove.add_dictionary(corpus.dictionary)\n",
        "embedding_glove = create_embedding_glove(glove, vocab_size_cuisine, EMBEDDING_DIM_GLV)"
      ],
      "metadata": {
        "id": "xr9rXW2hE4oZ"
      },
      "execution_count": null,
      "outputs": []
    },
    {
      "cell_type": "code",
      "source": [
        "# Train Data\n",
        "encoded_glove = texts_to_sequences(X_train_cuisine)\n",
        "X_train_glove_padded = pad_sequences(encoded_glove, maxlen=MAX_LENGTH, padding='post', truncating='post')\n",
        "\n",
        "# Valid Data\n",
        "encoded_glove = texts_to_sequences(X_valid_cuisine)\n",
        "X_valid_glove_padded = pad_sequences(encoded_glove, maxlen=MAX_LENGTH, padding='post', truncating='post')\n",
        "\n",
        "# Test Data\n",
        "encoded_glove = texts_to_sequences(X_test_cuisine)\n",
        "X_test_glove_padded = pad_sequences(encoded_glove, maxlen=MAX_LENGTH, padding='post', truncating='post')"
      ],
      "metadata": {
        "id": "11XjPAq3Oh7P"
      },
      "execution_count": null,
      "outputs": []
    },
    {
      "cell_type": "markdown",
      "source": [
        "# CNN"
      ],
      "metadata": {
        "id": "HIQ72WsJ3gAx"
      }
    },
    {
      "cell_type": "code",
      "source": [
        "class CNNHyperModel(HyperModel):\n",
        "  def __init__(self, embedding_layer, output):\n",
        "    self.embedding_layer = embedding_layer\n",
        "    self.output = output\n",
        "\n",
        "  def build(self, hp):\n",
        "    model = Sequential()\n",
        "    model.add(self.embedding_layer)\n",
        "    model.add(Conv1D(filters=hp.Choice(\"conv\", [64,128,256]), kernel_size=6, strides=1, activation='relu'))\n",
        "    model.add(Dropout(0.5))\n",
        "    model.add(GlobalMaxPooling1D())\n",
        "    model.add(Dense(hp.Choice(\"dense1\", [64,128]), activation='relu'))\n",
        "    model.add(Dense(hp.Choice(\"dense2\", [32,64]), activation='relu'))\n",
        "    model.add(Dense(self.output, activation='softmax'))\n",
        "    sgd = SGD(learning_rate=0.01)\n",
        "    model.compile(loss=\"categorical_crossentropy\",optimizer=sgd,metrics=['accuracy'])\n",
        "    return model"
      ],
      "metadata": {
        "id": "E0Mz-bZ03iwE"
      },
      "execution_count": null,
      "outputs": []
    },
    {
      "cell_type": "markdown",
      "source": [
        "### WORD2VEC"
      ],
      "metadata": {
        "id": "K_Ew4Uj3IqFx"
      }
    },
    {
      "cell_type": "code",
      "source": [
        "embedding_layer = Embedding(input_dim=vocab_size_cuisine, output_dim=EMBEDDING_DIM_W2V, weights=[embedding_w2v], input_length=MAX_LENGTH, trainable=False)"
      ],
      "metadata": {
        "id": "QMLmqm2szEo7"
      },
      "execution_count": null,
      "outputs": []
    },
    {
      "cell_type": "code",
      "source": [
        "model_CNN = CNNHyperModel(embedding_layer, 20)"
      ],
      "metadata": {
        "id": "FyEDxSA5IFwZ"
      },
      "execution_count": null,
      "outputs": []
    },
    {
      "cell_type": "code",
      "source": [
        "tuner = kt.Hyperband(\n",
        "    model_CNN,\n",
        "    objective='val_accuracy',\n",
        "    max_epochs=30,\n",
        "    hyperband_iterations=2,\n",
        "    overwrite=True)"
      ],
      "metadata": {
        "id": "ToxMDjVMxPkp"
      },
      "execution_count": null,
      "outputs": []
    },
    {
      "cell_type": "code",
      "source": [
        "tuner.search(X_train_w2v_padded,y_train_cuisine,validation_data=(X_valid_w2v_padded,y_valid_cuisine),epochs=50)"
      ],
      "metadata": {
        "colab": {
          "base_uri": "https://localhost:8080/"
        },
        "id": "oJ629II_xrHh",
        "outputId": "6d41f4c6-50f5-4132-e0a7-53f83bb4b841"
      },
      "execution_count": null,
      "outputs": [
        {
          "output_type": "stream",
          "name": "stdout",
          "text": [
            "Trial 12 Complete [00h 00m 11s]\n",
            "val_accuracy: 0.4968000054359436\n",
            "\n",
            "Best val_accuracy So Far: 0.5440000295639038\n",
            "Total elapsed time: 00h 03m 16s\n"
          ]
        }
      ]
    },
    {
      "cell_type": "code",
      "source": [
        "best_hps = tuner.get_best_hyperparameters(num_trials=1)[0]"
      ],
      "metadata": {
        "id": "9rdOfzKC1C-_"
      },
      "execution_count": null,
      "outputs": []
    },
    {
      "cell_type": "code",
      "source": [
        "model_cuisine = tuner.hypermodel.build(best_hps)"
      ],
      "metadata": {
        "id": "iE44c8wx0ncp"
      },
      "execution_count": null,
      "outputs": []
    },
    {
      "cell_type": "code",
      "source": [
        "model_cuisine.summary()"
      ],
      "metadata": {
        "colab": {
          "base_uri": "https://localhost:8080/"
        },
        "id": "D7KhTzglIRu7",
        "outputId": "9f3e167e-f076-45e0-c58b-398ab1e520d7"
      },
      "execution_count": null,
      "outputs": [
        {
          "output_type": "stream",
          "name": "stdout",
          "text": [
            "Model: \"sequential_1\"\n",
            "_________________________________________________________________\n",
            " Layer (type)                Output Shape              Param #   \n",
            "=================================================================\n",
            " embedding (Embedding)       (None, 50, 100)           216000    \n",
            "                                                                 \n",
            " conv1d_1 (Conv1D)           (None, 45, 256)           153856    \n",
            "                                                                 \n",
            " dropout_1 (Dropout)         (None, 45, 256)           0         \n",
            "                                                                 \n",
            " global_max_pooling1d_1 (Glo  (None, 256)              0         \n",
            " balMaxPooling1D)                                                \n",
            "                                                                 \n",
            " dense_3 (Dense)             (None, 64)                16448     \n",
            "                                                                 \n",
            " dense_4 (Dense)             (None, 64)                4160      \n",
            "                                                                 \n",
            " dense_5 (Dense)             (None, 20)                1300      \n",
            "                                                                 \n",
            "=================================================================\n",
            "Total params: 391,764\n",
            "Trainable params: 175,764\n",
            "Non-trainable params: 216,000\n",
            "_________________________________________________________________\n"
          ]
        }
      ]
    },
    {
      "cell_type": "code",
      "source": [
        "history_fine = model_cuisine.fit(X_train_w2v_padded,y_train_cuisine,validation_data=(X_valid_w2v_padded,y_valid_cuisine), epochs=100) "
      ],
      "metadata": {
        "id": "eMrbo0RMIFwa",
        "colab": {
          "base_uri": "https://localhost:8080/"
        },
        "outputId": "2d5fb7a3-cf07-4195-84bf-a01e8b267615"
      },
      "execution_count": null,
      "outputs": [
        {
          "output_type": "stream",
          "name": "stdout",
          "text": [
            "Epoch 1/100\n",
            "250/250 [==============================] - 10s 38ms/step - loss: 2.3105 - accuracy: 0.3613 - val_loss: 2.2088 - val_accuracy: 0.4678\n",
            "Epoch 2/100\n",
            "250/250 [==============================] - 9s 37ms/step - loss: 1.7605 - accuracy: 0.5008 - val_loss: 1.8772 - val_accuracy: 0.5326\n",
            "Epoch 3/100\n",
            "250/250 [==============================] - 9s 38ms/step - loss: 1.5537 - accuracy: 0.5426 - val_loss: 1.7758 - val_accuracy: 0.5600\n",
            "Epoch 4/100\n",
            "250/250 [==============================] - 9s 37ms/step - loss: 1.4446 - accuracy: 0.5644 - val_loss: 1.6567 - val_accuracy: 0.5886\n",
            "Epoch 5/100\n",
            "250/250 [==============================] - 9s 37ms/step - loss: 1.3710 - accuracy: 0.5845 - val_loss: 1.5632 - val_accuracy: 0.5930\n",
            "Epoch 6/100\n",
            "250/250 [==============================] - 10s 41ms/step - loss: 1.3097 - accuracy: 0.5971 - val_loss: 1.5623 - val_accuracy: 0.6076\n",
            "Epoch 7/100\n",
            "250/250 [==============================] - 9s 37ms/step - loss: 1.2652 - accuracy: 0.6093 - val_loss: 1.4765 - val_accuracy: 0.6234\n",
            "Epoch 8/100\n",
            "250/250 [==============================] - 9s 38ms/step - loss: 1.2293 - accuracy: 0.6210 - val_loss: 1.4356 - val_accuracy: 0.6360\n",
            "Epoch 9/100\n",
            "250/250 [==============================] - 9s 37ms/step - loss: 1.1953 - accuracy: 0.6283 - val_loss: 1.4030 - val_accuracy: 0.6372\n",
            "Epoch 10/100\n",
            "250/250 [==============================] - 9s 37ms/step - loss: 1.1582 - accuracy: 0.6399 - val_loss: 1.4024 - val_accuracy: 0.6524\n",
            "Epoch 11/100\n",
            "250/250 [==============================] - 9s 37ms/step - loss: 1.1395 - accuracy: 0.6482 - val_loss: 1.3261 - val_accuracy: 0.6672\n",
            "Epoch 12/100\n",
            "250/250 [==============================] - 9s 37ms/step - loss: 1.1144 - accuracy: 0.6519 - val_loss: 1.3288 - val_accuracy: 0.6650\n",
            "Epoch 13/100\n",
            "250/250 [==============================] - 9s 37ms/step - loss: 1.0881 - accuracy: 0.6646 - val_loss: 1.2713 - val_accuracy: 0.6856\n",
            "Epoch 14/100\n",
            "250/250 [==============================] - 10s 41ms/step - loss: 1.0620 - accuracy: 0.6671 - val_loss: 1.2529 - val_accuracy: 0.6848\n",
            "Epoch 15/100\n",
            "250/250 [==============================] - 9s 38ms/step - loss: 1.0463 - accuracy: 0.6733 - val_loss: 1.2239 - val_accuracy: 0.7008\n",
            "Epoch 16/100\n",
            "250/250 [==============================] - 9s 38ms/step - loss: 1.0184 - accuracy: 0.6816 - val_loss: 1.2206 - val_accuracy: 0.7090\n",
            "Epoch 17/100\n",
            "250/250 [==============================] - 9s 38ms/step - loss: 0.9971 - accuracy: 0.6888 - val_loss: 1.1719 - val_accuracy: 0.7010\n",
            "Epoch 18/100\n",
            "250/250 [==============================] - 9s 36ms/step - loss: 0.9748 - accuracy: 0.6985 - val_loss: 1.1502 - val_accuracy: 0.7086\n",
            "Epoch 19/100\n",
            "250/250 [==============================] - 9s 37ms/step - loss: 0.9532 - accuracy: 0.7054 - val_loss: 1.1354 - val_accuracy: 0.6974\n",
            "Epoch 20/100\n",
            "250/250 [==============================] - 9s 37ms/step - loss: 0.9413 - accuracy: 0.7025 - val_loss: 1.1378 - val_accuracy: 0.7378\n",
            "Epoch 21/100\n",
            "250/250 [==============================] - 9s 38ms/step - loss: 0.9175 - accuracy: 0.7095 - val_loss: 1.1477 - val_accuracy: 0.7326\n",
            "Epoch 22/100\n",
            "250/250 [==============================] - 9s 37ms/step - loss: 0.9057 - accuracy: 0.7171 - val_loss: 1.0697 - val_accuracy: 0.7516\n",
            "Epoch 23/100\n",
            "250/250 [==============================] - 9s 38ms/step - loss: 0.8786 - accuracy: 0.7278 - val_loss: 1.0140 - val_accuracy: 0.7378\n",
            "Epoch 24/100\n",
            "250/250 [==============================] - 9s 37ms/step - loss: 0.8658 - accuracy: 0.7264 - val_loss: 1.0837 - val_accuracy: 0.7488\n",
            "Epoch 25/100\n",
            "250/250 [==============================] - 9s 37ms/step - loss: 0.8465 - accuracy: 0.7369 - val_loss: 0.9907 - val_accuracy: 0.7660\n",
            "Epoch 26/100\n",
            "250/250 [==============================] - 9s 36ms/step - loss: 0.8215 - accuracy: 0.7421 - val_loss: 0.9772 - val_accuracy: 0.7688\n",
            "Epoch 27/100\n",
            "250/250 [==============================] - 9s 37ms/step - loss: 0.8086 - accuracy: 0.7435 - val_loss: 0.9760 - val_accuracy: 0.7738\n",
            "Epoch 28/100\n",
            "250/250 [==============================] - 9s 36ms/step - loss: 0.7917 - accuracy: 0.7487 - val_loss: 0.9327 - val_accuracy: 0.7670\n",
            "Epoch 29/100\n",
            "250/250 [==============================] - 9s 36ms/step - loss: 0.7919 - accuracy: 0.7494 - val_loss: 0.9440 - val_accuracy: 0.7800\n",
            "Epoch 30/100\n",
            "250/250 [==============================] - 9s 37ms/step - loss: 0.7609 - accuracy: 0.7581 - val_loss: 0.9090 - val_accuracy: 0.8058\n",
            "Epoch 31/100\n",
            "250/250 [==============================] - 9s 36ms/step - loss: 0.7456 - accuracy: 0.7623 - val_loss: 0.8952 - val_accuracy: 0.8156\n",
            "Epoch 32/100\n",
            "250/250 [==============================] - 9s 37ms/step - loss: 0.7342 - accuracy: 0.7667 - val_loss: 0.8576 - val_accuracy: 0.8226\n",
            "Epoch 33/100\n",
            "250/250 [==============================] - 9s 37ms/step - loss: 0.7136 - accuracy: 0.7761 - val_loss: 0.8562 - val_accuracy: 0.8002\n",
            "Epoch 34/100\n",
            "250/250 [==============================] - 9s 37ms/step - loss: 0.6998 - accuracy: 0.7775 - val_loss: 0.8192 - val_accuracy: 0.8280\n",
            "Epoch 35/100\n",
            "250/250 [==============================] - 9s 38ms/step - loss: 0.6887 - accuracy: 0.7845 - val_loss: 0.8772 - val_accuracy: 0.8090\n",
            "Epoch 36/100\n",
            "250/250 [==============================] - 9s 37ms/step - loss: 0.6655 - accuracy: 0.7906 - val_loss: 0.8098 - val_accuracy: 0.8334\n",
            "Epoch 37/100\n",
            "250/250 [==============================] - 9s 37ms/step - loss: 0.6469 - accuracy: 0.7991 - val_loss: 0.8527 - val_accuracy: 0.8008\n",
            "Epoch 38/100\n",
            "250/250 [==============================] - 9s 37ms/step - loss: 0.6402 - accuracy: 0.7962 - val_loss: 0.7486 - val_accuracy: 0.8318\n",
            "Epoch 39/100\n",
            "250/250 [==============================] - 9s 37ms/step - loss: 0.6272 - accuracy: 0.7991 - val_loss: 0.7439 - val_accuracy: 0.8478\n",
            "Epoch 40/100\n",
            "250/250 [==============================] - 9s 37ms/step - loss: 0.6081 - accuracy: 0.8075 - val_loss: 0.7503 - val_accuracy: 0.8304\n",
            "Epoch 41/100\n",
            "250/250 [==============================] - 10s 38ms/step - loss: 0.5960 - accuracy: 0.8140 - val_loss: 0.8276 - val_accuracy: 0.7916\n",
            "Epoch 42/100\n",
            "250/250 [==============================] - 9s 37ms/step - loss: 0.5841 - accuracy: 0.8139 - val_loss: 0.7111 - val_accuracy: 0.8484\n",
            "Epoch 43/100\n",
            "250/250 [==============================] - 9s 37ms/step - loss: 0.5633 - accuracy: 0.8184 - val_loss: 0.6937 - val_accuracy: 0.8628\n",
            "Epoch 44/100\n",
            "250/250 [==============================] - 9s 37ms/step - loss: 0.5588 - accuracy: 0.8227 - val_loss: 0.6679 - val_accuracy: 0.8748\n",
            "Epoch 45/100\n",
            "250/250 [==============================] - 9s 37ms/step - loss: 0.5446 - accuracy: 0.8276 - val_loss: 0.7103 - val_accuracy: 0.8294\n",
            "Epoch 46/100\n",
            "250/250 [==============================] - 9s 37ms/step - loss: 0.5378 - accuracy: 0.8289 - val_loss: 0.6751 - val_accuracy: 0.8638\n",
            "Epoch 47/100\n",
            "250/250 [==============================] - 9s 38ms/step - loss: 0.5274 - accuracy: 0.8294 - val_loss: 0.6795 - val_accuracy: 0.8526\n",
            "Epoch 48/100\n",
            "250/250 [==============================] - 9s 38ms/step - loss: 0.5153 - accuracy: 0.8349 - val_loss: 0.6265 - val_accuracy: 0.8708\n",
            "Epoch 49/100\n",
            "250/250 [==============================] - 9s 37ms/step - loss: 0.4962 - accuracy: 0.8430 - val_loss: 0.6327 - val_accuracy: 0.8710\n",
            "Epoch 50/100\n",
            "250/250 [==============================] - 9s 36ms/step - loss: 0.4897 - accuracy: 0.8429 - val_loss: 0.6166 - val_accuracy: 0.8874\n",
            "Epoch 51/100\n",
            "250/250 [==============================] - 9s 37ms/step - loss: 0.4697 - accuracy: 0.8487 - val_loss: 0.5967 - val_accuracy: 0.8950\n",
            "Epoch 52/100\n",
            "250/250 [==============================] - 9s 37ms/step - loss: 0.4641 - accuracy: 0.8506 - val_loss: 0.6316 - val_accuracy: 0.8836\n",
            "Epoch 53/100\n",
            "250/250 [==============================] - 9s 38ms/step - loss: 0.4536 - accuracy: 0.8580 - val_loss: 0.5476 - val_accuracy: 0.8954\n",
            "Epoch 54/100\n",
            "250/250 [==============================] - 9s 37ms/step - loss: 0.4504 - accuracy: 0.8549 - val_loss: 0.5308 - val_accuracy: 0.8942\n",
            "Epoch 55/100\n",
            "250/250 [==============================] - 9s 38ms/step - loss: 0.4351 - accuracy: 0.8596 - val_loss: 0.5424 - val_accuracy: 0.8938\n",
            "Epoch 56/100\n",
            "250/250 [==============================] - 9s 37ms/step - loss: 0.4194 - accuracy: 0.8646 - val_loss: 0.5053 - val_accuracy: 0.8972\n",
            "Epoch 57/100\n",
            "250/250 [==============================] - 10s 38ms/step - loss: 0.4101 - accuracy: 0.8671 - val_loss: 0.5046 - val_accuracy: 0.9034\n",
            "Epoch 58/100\n",
            "250/250 [==============================] - 10s 39ms/step - loss: 0.4038 - accuracy: 0.8706 - val_loss: 0.5116 - val_accuracy: 0.9054\n",
            "Epoch 59/100\n",
            "250/250 [==============================] - 9s 38ms/step - loss: 0.3991 - accuracy: 0.8723 - val_loss: 0.4919 - val_accuracy: 0.9094\n",
            "Epoch 60/100\n",
            "250/250 [==============================] - 9s 37ms/step - loss: 0.4044 - accuracy: 0.8730 - val_loss: 0.5111 - val_accuracy: 0.9018\n",
            "Epoch 61/100\n",
            "250/250 [==============================] - 9s 36ms/step - loss: 0.3834 - accuracy: 0.8789 - val_loss: 0.4634 - val_accuracy: 0.9110\n",
            "Epoch 62/100\n",
            "250/250 [==============================] - 9s 36ms/step - loss: 0.3851 - accuracy: 0.8764 - val_loss: 0.5783 - val_accuracy: 0.8796\n",
            "Epoch 63/100\n",
            "250/250 [==============================] - 9s 37ms/step - loss: 0.3698 - accuracy: 0.8779 - val_loss: 0.4577 - val_accuracy: 0.9116\n",
            "Epoch 64/100\n",
            "250/250 [==============================] - 12s 46ms/step - loss: 0.3589 - accuracy: 0.8835 - val_loss: 0.4424 - val_accuracy: 0.9114\n",
            "Epoch 65/100\n",
            "250/250 [==============================] - 9s 37ms/step - loss: 0.3468 - accuracy: 0.8885 - val_loss: 0.4250 - val_accuracy: 0.9162\n",
            "Epoch 66/100\n",
            "250/250 [==============================] - 9s 37ms/step - loss: 0.3387 - accuracy: 0.8913 - val_loss: 0.4622 - val_accuracy: 0.9096\n",
            "Epoch 67/100\n",
            "250/250 [==============================] - 9s 38ms/step - loss: 0.3434 - accuracy: 0.8895 - val_loss: 0.4699 - val_accuracy: 0.9060\n",
            "Epoch 68/100\n",
            "250/250 [==============================] - 9s 37ms/step - loss: 0.3429 - accuracy: 0.8889 - val_loss: 0.4350 - val_accuracy: 0.9168\n",
            "Epoch 69/100\n",
            "250/250 [==============================] - 9s 36ms/step - loss: 0.3200 - accuracy: 0.8960 - val_loss: 0.4220 - val_accuracy: 0.9096\n",
            "Epoch 70/100\n",
            "250/250 [==============================] - 9s 37ms/step - loss: 0.3359 - accuracy: 0.8914 - val_loss: 0.4583 - val_accuracy: 0.9054\n",
            "Epoch 71/100\n",
            "250/250 [==============================] - 12s 47ms/step - loss: 0.3221 - accuracy: 0.8936 - val_loss: 0.4439 - val_accuracy: 0.9130\n",
            "Epoch 72/100\n",
            "250/250 [==============================] - 10s 38ms/step - loss: 0.3073 - accuracy: 0.9013 - val_loss: 0.3830 - val_accuracy: 0.9226\n",
            "Epoch 73/100\n",
            "250/250 [==============================] - 10s 38ms/step - loss: 0.2868 - accuracy: 0.9094 - val_loss: 0.3989 - val_accuracy: 0.9196\n",
            "Epoch 74/100\n",
            "250/250 [==============================] - 10s 39ms/step - loss: 0.2903 - accuracy: 0.9034 - val_loss: 0.4046 - val_accuracy: 0.9180\n",
            "Epoch 75/100\n",
            "250/250 [==============================] - 10s 38ms/step - loss: 0.2926 - accuracy: 0.9038 - val_loss: 0.3847 - val_accuracy: 0.9218\n",
            "Epoch 76/100\n",
            "250/250 [==============================] - 9s 38ms/step - loss: 0.2780 - accuracy: 0.9103 - val_loss: 0.3637 - val_accuracy: 0.9284\n",
            "Epoch 77/100\n",
            "250/250 [==============================] - 10s 38ms/step - loss: 0.2836 - accuracy: 0.9055 - val_loss: 0.3880 - val_accuracy: 0.9210\n",
            "Epoch 78/100\n",
            "250/250 [==============================] - 10s 39ms/step - loss: 0.2780 - accuracy: 0.9121 - val_loss: 0.3740 - val_accuracy: 0.9190\n",
            "Epoch 79/100\n",
            "250/250 [==============================] - 9s 38ms/step - loss: 0.2651 - accuracy: 0.9153 - val_loss: 0.4130 - val_accuracy: 0.9146\n",
            "Epoch 80/100\n",
            "250/250 [==============================] - 10s 39ms/step - loss: 0.2636 - accuracy: 0.9162 - val_loss: 0.3557 - val_accuracy: 0.9236\n",
            "Epoch 81/100\n",
            "250/250 [==============================] - 9s 37ms/step - loss: 0.2647 - accuracy: 0.9085 - val_loss: 0.3996 - val_accuracy: 0.9148\n",
            "Epoch 82/100\n",
            "250/250 [==============================] - 9s 37ms/step - loss: 0.2494 - accuracy: 0.9175 - val_loss: 0.3725 - val_accuracy: 0.9220\n",
            "Epoch 83/100\n",
            "250/250 [==============================] - 12s 46ms/step - loss: 0.2551 - accuracy: 0.9169 - val_loss: 0.3563 - val_accuracy: 0.9256\n",
            "Epoch 84/100\n",
            "250/250 [==============================] - 10s 38ms/step - loss: 0.2410 - accuracy: 0.9184 - val_loss: 0.3529 - val_accuracy: 0.9236\n",
            "Epoch 85/100\n",
            "250/250 [==============================] - 10s 38ms/step - loss: 0.2380 - accuracy: 0.9234 - val_loss: 0.3515 - val_accuracy: 0.9256\n",
            "Epoch 86/100\n",
            "250/250 [==============================] - 9s 38ms/step - loss: 0.2376 - accuracy: 0.9222 - val_loss: 0.3778 - val_accuracy: 0.9134\n",
            "Epoch 87/100\n",
            "250/250 [==============================] - 10s 38ms/step - loss: 0.2275 - accuracy: 0.9243 - val_loss: 0.3484 - val_accuracy: 0.9218\n",
            "Epoch 88/100\n",
            "250/250 [==============================] - 9s 37ms/step - loss: 0.2299 - accuracy: 0.9277 - val_loss: 0.3645 - val_accuracy: 0.9234\n",
            "Epoch 89/100\n",
            "250/250 [==============================] - 9s 37ms/step - loss: 0.2258 - accuracy: 0.9255 - val_loss: 0.3828 - val_accuracy: 0.9132\n",
            "Epoch 90/100\n",
            "250/250 [==============================] - 12s 46ms/step - loss: 0.2222 - accuracy: 0.9275 - val_loss: 0.3441 - val_accuracy: 0.9258\n",
            "Epoch 91/100\n",
            "250/250 [==============================] - 9s 38ms/step - loss: 0.2092 - accuracy: 0.9320 - val_loss: 0.3513 - val_accuracy: 0.9234\n",
            "Epoch 92/100\n",
            "250/250 [==============================] - 9s 37ms/step - loss: 0.2135 - accuracy: 0.9326 - val_loss: 0.3257 - val_accuracy: 0.9264\n",
            "Epoch 93/100\n",
            "250/250 [==============================] - 10s 39ms/step - loss: 0.2064 - accuracy: 0.9323 - val_loss: 0.3654 - val_accuracy: 0.9246\n",
            "Epoch 94/100\n",
            "250/250 [==============================] - 10s 39ms/step - loss: 0.2073 - accuracy: 0.9325 - val_loss: 0.3203 - val_accuracy: 0.9270\n",
            "Epoch 95/100\n",
            "250/250 [==============================] - 9s 38ms/step - loss: 0.2125 - accuracy: 0.9291 - val_loss: 0.3168 - val_accuracy: 0.9286\n",
            "Epoch 96/100\n",
            "250/250 [==============================] - 10s 41ms/step - loss: 0.1997 - accuracy: 0.9359 - val_loss: 0.3126 - val_accuracy: 0.9294\n",
            "Epoch 97/100\n",
            "250/250 [==============================] - 9s 37ms/step - loss: 0.2040 - accuracy: 0.9321 - val_loss: 0.3443 - val_accuracy: 0.9242\n",
            "Epoch 98/100\n",
            "250/250 [==============================] - 10s 38ms/step - loss: 0.2015 - accuracy: 0.9349 - val_loss: 0.3503 - val_accuracy: 0.9226\n",
            "Epoch 99/100\n",
            "250/250 [==============================] - 10s 42ms/step - loss: 0.1959 - accuracy: 0.9375 - val_loss: 0.3118 - val_accuracy: 0.9304\n",
            "Epoch 100/100\n",
            "250/250 [==============================] - 10s 38ms/step - loss: 0.1914 - accuracy: 0.9380 - val_loss: 0.3098 - val_accuracy: 0.9298\n"
          ]
        }
      ]
    },
    {
      "cell_type": "code",
      "source": [
        "target_names = pd.Categorical(df_cuisine['cuisine']).categories"
      ],
      "metadata": {
        "id": "U4MpTmGtNSEg"
      },
      "execution_count": null,
      "outputs": []
    },
    {
      "cell_type": "code",
      "source": [
        "y_prob = model_cuisine.predict(X_test_w2v_padded)\n",
        "y_pred = np.argmax(y_prob,axis=1)\n",
        "print(classification_report(y_test_int_cuisine,y_pred, target_names=target_names))"
      ],
      "metadata": {
        "id": "PETPLG4XfKc5",
        "colab": {
          "base_uri": "https://localhost:8080/"
        },
        "outputId": "3d9f7304-da9c-4ff3-834f-2302a8d78007"
      },
      "execution_count": null,
      "outputs": [
        {
          "output_type": "stream",
          "name": "stdout",
          "text": [
            "              precision    recall  f1-score   support\n",
            "\n",
            "   brazilian       0.78      0.84      0.81        51\n",
            "     british       0.78      0.78      0.78        97\n",
            "cajun_creole       0.92      0.91      0.91       215\n",
            "     chinese       0.93      0.96      0.95       337\n",
            "    filipino       0.95      0.81      0.87        90\n",
            "      french       0.87      0.88      0.87       330\n",
            "       greek       0.94      0.88      0.91       154\n",
            "      indian       0.96      0.98      0.97       363\n",
            "       irish       0.92      0.82      0.87        72\n",
            "     italian       0.95      0.96      0.95      1008\n",
            "    jamaican       0.86      0.89      0.88        75\n",
            "    japanese       0.93      0.91      0.92       175\n",
            "      korean       0.92      0.92      0.92       117\n",
            "     mexican       0.98      0.97      0.97       785\n",
            "    moroccan       0.94      0.95      0.94        92\n",
            "     russian       0.87      0.79      0.83        61\n",
            " southern_us       0.92      0.91      0.92       578\n",
            "     spanish       0.78      0.82      0.80       114\n",
            "        thai       0.89      0.93      0.91       178\n",
            "  vietnamese       0.94      0.89      0.91       108\n",
            "\n",
            "    accuracy                           0.93      5000\n",
            "   macro avg       0.90      0.89      0.90      5000\n",
            "weighted avg       0.93      0.93      0.93      5000\n",
            "\n"
          ]
        }
      ]
    },
    {
      "cell_type": "code",
      "source": [
        "plt.plot(history_fine.history['loss'])\n",
        "plt.plot(history_fine.history['val_loss'])\n",
        "plt.title('model loss')\n",
        "plt.ylabel('loss')\n",
        "plt.xlabel('epoch')\n",
        "plt.legend(['training set','validation set'], loc='upper left')\n",
        "\n",
        "if not os.path.exists(\"figs\"): os.mkdir(\"figs\")\n",
        "plt.savefig('figs/loss_cnn_w2v.eps', format='eps')\n",
        "\n",
        "plt.show()"
      ],
      "metadata": {
        "id": "sTHoxENHict8",
        "colab": {
          "base_uri": "https://localhost:8080/",
          "height": 330
        },
        "outputId": "6cd794c6-5738-40f4-8186-cde5de233b1f"
      },
      "execution_count": null,
      "outputs": [
        {
          "output_type": "stream",
          "name": "stderr",
          "text": [
            "WARNING:matplotlib.backends.backend_ps:The PostScript backend does not support transparency; partially transparent artists will be rendered opaque.\n",
            "WARNING:matplotlib.backends.backend_ps:The PostScript backend does not support transparency; partially transparent artists will be rendered opaque.\n"
          ]
        },
        {
          "output_type": "display_data",
          "data": {
            "text/plain": [
              "<Figure size 432x288 with 1 Axes>"
            ],
            "image/png": "[encoded data removed]"
          },
          "metadata": {
            "needs_background": "light"
          }
        }
      ]
    },
    {
      "cell_type": "code",
      "source": [
        "plt.plot(history_fine.history['accuracy'])\n",
        "plt.plot(history_fine.history['val_accuracy'])\n",
        "plt.title('model accuracy')\n",
        "plt.ylabel('accuracy')\n",
        "plt.xlabel('epoch')\n",
        "plt.legend(['training set','validation set'], loc='upper left')\n",
        "plt.savefig('figs/acc_cnn_w2v.eps', format='eps')\n",
        "plt.show()"
      ],
      "metadata": {
        "id": "KVxNIICdict9",
        "colab": {
          "base_uri": "https://localhost:8080/",
          "height": 330
        },
        "outputId": "89d44956-358c-497e-a1bb-1cd49388f3ef"
      },
      "execution_count": null,
      "outputs": [
        {
          "output_type": "stream",
          "name": "stderr",
          "text": [
            "WARNING:matplotlib.backends.backend_ps:The PostScript backend does not support transparency; partially transparent artists will be rendered opaque.\n",
            "WARNING:matplotlib.backends.backend_ps:The PostScript backend does not support transparency; partially transparent artists will be rendered opaque.\n"
          ]
        },
        {
          "output_type": "display_data",
          "data": {
            "text/plain": [
              "<Figure size 432x288 with 1 Axes>"
            ],
            "image/png": "[encoded data removed]"
          },
          "metadata": {
            "needs_background": "light"
          }
        }
      ]
    },
    {
      "cell_type": "code",
      "source": [
        "disp = ConfusionMatrixDisplay.from_predictions(y_test_int_cuisine, y_pred)\n",
        "fig = disp.ax_.get_figure()  \n",
        "fig.set_figwidth(10) \n",
        "fig.set_figheight(10)\n",
        "plt.savefig('figs/matrixconf_cnn_w2v.eps', format='eps')\n",
        "plt.show()"
      ],
      "metadata": {
        "colab": {
          "base_uri": "https://localhost:8080/",
          "height": 580
        },
        "id": "2MUkzXBZTdQG",
        "outputId": "bfe11289-f53b-4536-ccee-167a361e780f"
      },
      "execution_count": null,
      "outputs": [
        {
          "output_type": "display_data",
          "data": {
            "text/plain": [
              "<Figure size 720x720 with 2 Axes>"
            ],
            "image/png": "[encoded data removed]"
          },
          "metadata": {
            "needs_background": "light"
          }
        }
      ]
    },
    {
      "cell_type": "markdown",
      "source": [
        "### GLOVE"
      ],
      "metadata": {
        "id": "DFYNEQqpQghM"
      }
    },
    {
      "cell_type": "code",
      "source": [
        "embedding_layer = Embedding(input_dim=vocab_size_cuisine, output_dim=EMBEDDING_DIM_GLV, weights=[embedding_glove], input_length=MAX_LENGTH, trainable=False)"
      ],
      "metadata": {
        "id": "kTEZW2UFQghM"
      },
      "execution_count": null,
      "outputs": []
    },
    {
      "cell_type": "code",
      "source": [
        "model_CNN = CNNHyperModel(embedding_layer, 20)"
      ],
      "metadata": {
        "id": "e0sbiwiuQghN"
      },
      "execution_count": null,
      "outputs": []
    },
    {
      "cell_type": "code",
      "source": [
        "tuner = kt.Hyperband(\n",
        "    model_CNN,\n",
        "    objective='val_accuracy',\n",
        "    max_epochs=30,\n",
        "    hyperband_iterations=2,\n",
        "    overwrite=True)"
      ],
      "metadata": {
        "id": "1taDRaBrQghN"
      },
      "execution_count": null,
      "outputs": []
    },
    {
      "cell_type": "code",
      "source": [
        "tuner.search(X_train_glove_padded,y_train_cuisine,validation_data=(X_valid_glove_padded,y_valid_cuisine),epochs=50)"
      ],
      "metadata": {
        "colab": {
          "base_uri": "https://localhost:8080/"
        },
        "outputId": "146ed7e3-d795-44f0-c3e5-55144acd3cd8",
        "id": "MgiVx178QghN"
      },
      "execution_count": null,
      "outputs": [
        {
          "output_type": "stream",
          "name": "stdout",
          "text": [
            "Trial 12 Complete [00h 00m 11s]\n",
            "val_accuracy: 0.43140000104904175\n",
            "\n",
            "Best val_accuracy So Far: 0.46619999408721924\n",
            "Total elapsed time: 00h 03m 18s\n"
          ]
        }
      ]
    },
    {
      "cell_type": "code",
      "source": [
        "best_hps = tuner.get_best_hyperparameters(num_trials=1)[0]"
      ],
      "metadata": {
        "id": "mzO7HtPNQghN"
      },
      "execution_count": null,
      "outputs": []
    },
    {
      "cell_type": "code",
      "source": [
        "model_cuisine = tuner.hypermodel.build(best_hps)"
      ],
      "metadata": {
        "id": "bEEaR_MfQghN"
      },
      "execution_count": null,
      "outputs": []
    },
    {
      "cell_type": "code",
      "source": [
        "model_cuisine.summary()"
      ],
      "metadata": {
        "colab": {
          "base_uri": "https://localhost:8080/"
        },
        "outputId": "e1fd9f8b-93d1-4068-8871-1f9de5726d0f",
        "id": "h4jxmqQwQghN"
      },
      "execution_count": null,
      "outputs": [
        {
          "output_type": "stream",
          "name": "stdout",
          "text": [
            "Model: \"sequential_1\"\n",
            "_________________________________________________________________\n",
            " Layer (type)                Output Shape              Param #   \n",
            "=================================================================\n",
            " embedding (Embedding)       (None, 50, 100)           216000    \n",
            "                                                                 \n",
            " conv1d_1 (Conv1D)           (None, 45, 256)           153856    \n",
            "                                                                 \n",
            " dropout_1 (Dropout)         (None, 45, 256)           0         \n",
            "                                                                 \n",
            " global_max_pooling1d_1 (Glo  (None, 256)              0         \n",
            " balMaxPooling1D)                                                \n",
            "                                                                 \n",
            " dense_3 (Dense)             (None, 64)                16448     \n",
            "                                                                 \n",
            " dense_4 (Dense)             (None, 32)                2080      \n",
            "                                                                 \n",
            " dense_5 (Dense)             (None, 20)                660       \n",
            "                                                                 \n",
            "=================================================================\n",
            "Total params: 389,044\n",
            "Trainable params: 173,044\n",
            "Non-trainable params: 216,000\n",
            "_________________________________________________________________\n"
          ]
        }
      ]
    },
    {
      "cell_type": "code",
      "source": [
        "history_fine = model_cuisine.fit(X_train_glove_padded,y_train_cuisine,validation_data=(X_valid_glove_padded,y_valid_cuisine), epochs=100) "
      ],
      "metadata": {
        "colab": {
          "base_uri": "https://localhost:8080/"
        },
        "outputId": "4d3f2a17-4eb6-4b4f-8c40-60e435ec1349",
        "id": "CPGhedV3QghN"
      },
      "execution_count": null,
      "outputs": [
        {
          "output_type": "stream",
          "name": "stdout",
          "text": [
            "Epoch 1/100\n",
            "250/250 [==============================] - 10s 38ms/step - loss: 2.5139 - accuracy: 0.2771 - val_loss: 2.4839 - val_accuracy: 0.3602\n",
            "Epoch 2/100\n",
            "250/250 [==============================] - 10s 41ms/step - loss: 2.1233 - accuracy: 0.4105 - val_loss: 2.2126 - val_accuracy: 0.4376\n",
            "Epoch 3/100\n",
            "250/250 [==============================] - 9s 37ms/step - loss: 1.8563 - accuracy: 0.4675 - val_loss: 2.0308 - val_accuracy: 0.4946\n",
            "Epoch 4/100\n",
            "250/250 [==============================] - 9s 36ms/step - loss: 1.6928 - accuracy: 0.5011 - val_loss: 1.8862 - val_accuracy: 0.5092\n",
            "Epoch 5/100\n",
            "250/250 [==============================] - 9s 37ms/step - loss: 1.5948 - accuracy: 0.5171 - val_loss: 1.7764 - val_accuracy: 0.5320\n",
            "Epoch 6/100\n",
            "250/250 [==============================] - 10s 40ms/step - loss: 1.5256 - accuracy: 0.5399 - val_loss: 1.7252 - val_accuracy: 0.5568\n",
            "Epoch 7/100\n",
            "250/250 [==============================] - 11s 45ms/step - loss: 1.4742 - accuracy: 0.5537 - val_loss: 1.6980 - val_accuracy: 0.5738\n",
            "Epoch 8/100\n",
            "250/250 [==============================] - 9s 37ms/step - loss: 1.4331 - accuracy: 0.5633 - val_loss: 1.6087 - val_accuracy: 0.5708\n",
            "Epoch 9/100\n",
            "250/250 [==============================] - 9s 37ms/step - loss: 1.3866 - accuracy: 0.5764 - val_loss: 1.5766 - val_accuracy: 0.5860\n",
            "Epoch 10/100\n",
            "250/250 [==============================] - 9s 38ms/step - loss: 1.3569 - accuracy: 0.5840 - val_loss: 1.5699 - val_accuracy: 0.6066\n",
            "Epoch 11/100\n",
            "250/250 [==============================] - 9s 37ms/step - loss: 1.3253 - accuracy: 0.5881 - val_loss: 1.5095 - val_accuracy: 0.6064\n",
            "Epoch 12/100\n",
            "250/250 [==============================] - 9s 37ms/step - loss: 1.2958 - accuracy: 0.6004 - val_loss: 1.5016 - val_accuracy: 0.6186\n",
            "Epoch 13/100\n",
            "250/250 [==============================] - 9s 38ms/step - loss: 1.2711 - accuracy: 0.6080 - val_loss: 1.4599 - val_accuracy: 0.6326\n",
            "Epoch 14/100\n",
            "250/250 [==============================] - 9s 38ms/step - loss: 1.2431 - accuracy: 0.6199 - val_loss: 1.4290 - val_accuracy: 0.6294\n",
            "Epoch 15/100\n",
            "250/250 [==============================] - 9s 37ms/step - loss: 1.2261 - accuracy: 0.6204 - val_loss: 1.4056 - val_accuracy: 0.6354\n",
            "Epoch 16/100\n",
            "250/250 [==============================] - 9s 38ms/step - loss: 1.1974 - accuracy: 0.6283 - val_loss: 1.3678 - val_accuracy: 0.6534\n",
            "Epoch 17/100\n",
            "250/250 [==============================] - 9s 37ms/step - loss: 1.1767 - accuracy: 0.6423 - val_loss: 1.3582 - val_accuracy: 0.6512\n",
            "Epoch 18/100\n",
            "250/250 [==============================] - 9s 37ms/step - loss: 1.1461 - accuracy: 0.6426 - val_loss: 1.3402 - val_accuracy: 0.6698\n",
            "Epoch 19/100\n",
            "250/250 [==============================] - 12s 46ms/step - loss: 1.1323 - accuracy: 0.6472 - val_loss: 1.3150 - val_accuracy: 0.6666\n",
            "Epoch 20/100\n",
            "250/250 [==============================] - 9s 37ms/step - loss: 1.1186 - accuracy: 0.6566 - val_loss: 1.2805 - val_accuracy: 0.6764\n",
            "Epoch 21/100\n",
            "250/250 [==============================] - 9s 37ms/step - loss: 1.0926 - accuracy: 0.6631 - val_loss: 1.2729 - val_accuracy: 0.6646\n",
            "Epoch 22/100\n",
            "250/250 [==============================] - 9s 37ms/step - loss: 1.0761 - accuracy: 0.6656 - val_loss: 1.2857 - val_accuracy: 0.6668\n",
            "Epoch 23/100\n",
            "250/250 [==============================] - 9s 36ms/step - loss: 1.0667 - accuracy: 0.6665 - val_loss: 1.2579 - val_accuracy: 0.6828\n",
            "Epoch 24/100\n",
            "250/250 [==============================] - 9s 36ms/step - loss: 1.0443 - accuracy: 0.6727 - val_loss: 1.2002 - val_accuracy: 0.7000\n",
            "Epoch 25/100\n",
            "250/250 [==============================] - 9s 36ms/step - loss: 1.0328 - accuracy: 0.6783 - val_loss: 1.2105 - val_accuracy: 0.6910\n",
            "Epoch 26/100\n",
            "250/250 [==============================] - 11s 43ms/step - loss: 1.0159 - accuracy: 0.6777 - val_loss: 1.1708 - val_accuracy: 0.7024\n",
            "Epoch 27/100\n",
            "250/250 [==============================] - 9s 37ms/step - loss: 0.9989 - accuracy: 0.6865 - val_loss: 1.1643 - val_accuracy: 0.7122\n",
            "Epoch 28/100\n",
            "250/250 [==============================] - 9s 37ms/step - loss: 0.9796 - accuracy: 0.6941 - val_loss: 1.1234 - val_accuracy: 0.6964\n",
            "Epoch 29/100\n",
            "250/250 [==============================] - 9s 37ms/step - loss: 0.9706 - accuracy: 0.6940 - val_loss: 1.1335 - val_accuracy: 0.7018\n",
            "Epoch 30/100\n",
            "250/250 [==============================] - 9s 36ms/step - loss: 0.9465 - accuracy: 0.7075 - val_loss: 1.1205 - val_accuracy: 0.7240\n",
            "Epoch 31/100\n",
            "250/250 [==============================] - 9s 38ms/step - loss: 0.9341 - accuracy: 0.7035 - val_loss: 1.0712 - val_accuracy: 0.7312\n",
            "Epoch 32/100\n",
            "250/250 [==============================] - 9s 37ms/step - loss: 0.9255 - accuracy: 0.7125 - val_loss: 1.0759 - val_accuracy: 0.7418\n",
            "Epoch 33/100\n",
            "250/250 [==============================] - 9s 37ms/step - loss: 0.9110 - accuracy: 0.7144 - val_loss: 1.0765 - val_accuracy: 0.7446\n",
            "Epoch 34/100\n",
            "250/250 [==============================] - 9s 37ms/step - loss: 0.8996 - accuracy: 0.7186 - val_loss: 1.0435 - val_accuracy: 0.7400\n",
            "Epoch 35/100\n",
            "250/250 [==============================] - 9s 38ms/step - loss: 0.8771 - accuracy: 0.7232 - val_loss: 1.0599 - val_accuracy: 0.7092\n",
            "Epoch 36/100\n",
            "250/250 [==============================] - 9s 37ms/step - loss: 0.8667 - accuracy: 0.7296 - val_loss: 1.0032 - val_accuracy: 0.7644\n",
            "Epoch 37/100\n",
            "250/250 [==============================] - 9s 38ms/step - loss: 0.8532 - accuracy: 0.7306 - val_loss: 0.9730 - val_accuracy: 0.7520\n",
            "Epoch 38/100\n",
            "250/250 [==============================] - 11s 45ms/step - loss: 0.8331 - accuracy: 0.7374 - val_loss: 0.9918 - val_accuracy: 0.7766\n",
            "Epoch 39/100\n",
            "250/250 [==============================] - 9s 36ms/step - loss: 0.8286 - accuracy: 0.7321 - val_loss: 0.9595 - val_accuracy: 0.7666\n",
            "Epoch 40/100\n",
            "250/250 [==============================] - 9s 37ms/step - loss: 0.8192 - accuracy: 0.7408 - val_loss: 0.9562 - val_accuracy: 0.7834\n",
            "Epoch 41/100\n",
            "250/250 [==============================] - 9s 37ms/step - loss: 0.8010 - accuracy: 0.7475 - val_loss: 0.9315 - val_accuracy: 0.7852\n",
            "Epoch 42/100\n",
            "250/250 [==============================] - 9s 37ms/step - loss: 0.7992 - accuracy: 0.7436 - val_loss: 0.9423 - val_accuracy: 0.7800\n",
            "Epoch 43/100\n",
            "250/250 [==============================] - 9s 37ms/step - loss: 0.7803 - accuracy: 0.7455 - val_loss: 0.9346 - val_accuracy: 0.7946\n",
            "Epoch 44/100\n",
            "250/250 [==============================] - 9s 37ms/step - loss: 0.7541 - accuracy: 0.7628 - val_loss: 0.9034 - val_accuracy: 0.7986\n",
            "Epoch 45/100\n",
            "250/250 [==============================] - 10s 38ms/step - loss: 0.7534 - accuracy: 0.7590 - val_loss: 0.8654 - val_accuracy: 0.8132\n",
            "Epoch 46/100\n",
            "250/250 [==============================] - 13s 51ms/step - loss: 0.7530 - accuracy: 0.7613 - val_loss: 0.8903 - val_accuracy: 0.7858\n",
            "Epoch 47/100\n",
            "250/250 [==============================] - 9s 37ms/step - loss: 0.7318 - accuracy: 0.7664 - val_loss: 0.9015 - val_accuracy: 0.8046\n",
            "Epoch 48/100\n",
            "250/250 [==============================] - 9s 38ms/step - loss: 0.7385 - accuracy: 0.7639 - val_loss: 0.8377 - val_accuracy: 0.8190\n",
            "Epoch 49/100\n",
            "250/250 [==============================] - 9s 37ms/step - loss: 0.7259 - accuracy: 0.7685 - val_loss: 0.8542 - val_accuracy: 0.8062\n",
            "Epoch 50/100\n",
            "250/250 [==============================] - 9s 37ms/step - loss: 0.6993 - accuracy: 0.7769 - val_loss: 0.8254 - val_accuracy: 0.8088\n",
            "Epoch 51/100\n",
            "250/250 [==============================] - 9s 38ms/step - loss: 0.7072 - accuracy: 0.7714 - val_loss: 0.8083 - val_accuracy: 0.8306\n",
            "Epoch 52/100\n",
            "250/250 [==============================] - 10s 41ms/step - loss: 0.6842 - accuracy: 0.7807 - val_loss: 0.7649 - val_accuracy: 0.8294\n",
            "Epoch 53/100\n",
            "250/250 [==============================] - 9s 37ms/step - loss: 0.6670 - accuracy: 0.7816 - val_loss: 0.7895 - val_accuracy: 0.8406\n",
            "Epoch 54/100\n",
            "250/250 [==============================] - 9s 36ms/step - loss: 0.6629 - accuracy: 0.7834 - val_loss: 0.7448 - val_accuracy: 0.8234\n",
            "Epoch 55/100\n",
            "250/250 [==============================] - 9s 36ms/step - loss: 0.6650 - accuracy: 0.7834 - val_loss: 0.7334 - val_accuracy: 0.8416\n",
            "Epoch 56/100\n",
            "250/250 [==============================] - 9s 36ms/step - loss: 0.6342 - accuracy: 0.7924 - val_loss: 0.7445 - val_accuracy: 0.8490\n",
            "Epoch 57/100\n",
            "250/250 [==============================] - 11s 44ms/step - loss: 0.6364 - accuracy: 0.7885 - val_loss: 0.7265 - val_accuracy: 0.8426\n",
            "Epoch 58/100\n",
            "250/250 [==============================] - 9s 36ms/step - loss: 0.6206 - accuracy: 0.8005 - val_loss: 0.7088 - val_accuracy: 0.8458\n",
            "Epoch 59/100\n",
            "250/250 [==============================] - 9s 37ms/step - loss: 0.6192 - accuracy: 0.8008 - val_loss: 0.7013 - val_accuracy: 0.8564\n",
            "Epoch 60/100\n",
            "250/250 [==============================] - 9s 36ms/step - loss: 0.6038 - accuracy: 0.8036 - val_loss: 0.6847 - val_accuracy: 0.8530\n",
            "Epoch 61/100\n",
            "250/250 [==============================] - 9s 37ms/step - loss: 0.6137 - accuracy: 0.7981 - val_loss: 0.7027 - val_accuracy: 0.8626\n",
            "Epoch 62/100\n",
            "250/250 [==============================] - 9s 36ms/step - loss: 0.5979 - accuracy: 0.8060 - val_loss: 0.7321 - val_accuracy: 0.8484\n",
            "Epoch 63/100\n",
            "250/250 [==============================] - 11s 45ms/step - loss: 0.5871 - accuracy: 0.8052 - val_loss: 0.6850 - val_accuracy: 0.8542\n",
            "Epoch 64/100\n",
            "250/250 [==============================] - 9s 37ms/step - loss: 0.5928 - accuracy: 0.8034 - val_loss: 0.6530 - val_accuracy: 0.8572\n",
            "Epoch 65/100\n",
            "250/250 [==============================] - 11s 45ms/step - loss: 0.5702 - accuracy: 0.8115 - val_loss: 0.6447 - val_accuracy: 0.8616\n",
            "Epoch 66/100\n",
            "250/250 [==============================] - 9s 36ms/step - loss: 0.5561 - accuracy: 0.8171 - val_loss: 0.6526 - val_accuracy: 0.8672\n",
            "Epoch 67/100\n",
            "250/250 [==============================] - 9s 36ms/step - loss: 0.5509 - accuracy: 0.8213 - val_loss: 0.6605 - val_accuracy: 0.8616\n",
            "Epoch 68/100\n",
            "250/250 [==============================] - 9s 37ms/step - loss: 0.5431 - accuracy: 0.8195 - val_loss: 0.6487 - val_accuracy: 0.8538\n",
            "Epoch 69/100\n",
            "250/250 [==============================] - 9s 36ms/step - loss: 0.5549 - accuracy: 0.8181 - val_loss: 0.6079 - val_accuracy: 0.8756\n",
            "Epoch 70/100\n",
            "250/250 [==============================] - 9s 37ms/step - loss: 0.5335 - accuracy: 0.8263 - val_loss: 0.6037 - val_accuracy: 0.8706\n",
            "Epoch 71/100\n",
            "250/250 [==============================] - 9s 37ms/step - loss: 0.5363 - accuracy: 0.8202 - val_loss: 0.6074 - val_accuracy: 0.8688\n",
            "Epoch 72/100\n",
            "250/250 [==============================] - 9s 36ms/step - loss: 0.5241 - accuracy: 0.8264 - val_loss: 0.6192 - val_accuracy: 0.8616\n",
            "Epoch 73/100\n",
            "250/250 [==============================] - 9s 36ms/step - loss: 0.5230 - accuracy: 0.8253 - val_loss: 0.5780 - val_accuracy: 0.8810\n",
            "Epoch 74/100\n",
            "250/250 [==============================] - 9s 37ms/step - loss: 0.5079 - accuracy: 0.8353 - val_loss: 0.5759 - val_accuracy: 0.8828\n",
            "Epoch 75/100\n",
            "250/250 [==============================] - 9s 36ms/step - loss: 0.4911 - accuracy: 0.8370 - val_loss: 0.5793 - val_accuracy: 0.8768\n",
            "Epoch 76/100\n",
            "250/250 [==============================] - 10s 41ms/step - loss: 0.4998 - accuracy: 0.8321 - val_loss: 0.5911 - val_accuracy: 0.8822\n",
            "Epoch 77/100\n",
            "250/250 [==============================] - 10s 41ms/step - loss: 0.4824 - accuracy: 0.8413 - val_loss: 0.5908 - val_accuracy: 0.8814\n",
            "Epoch 78/100\n",
            "250/250 [==============================] - 14s 55ms/step - loss: 0.4882 - accuracy: 0.8407 - val_loss: 0.5735 - val_accuracy: 0.8772\n",
            "Epoch 79/100\n",
            "250/250 [==============================] - 9s 37ms/step - loss: 0.4779 - accuracy: 0.8436 - val_loss: 0.5625 - val_accuracy: 0.8848\n",
            "Epoch 80/100\n",
            "250/250 [==============================] - 9s 36ms/step - loss: 0.4699 - accuracy: 0.8465 - val_loss: 0.5437 - val_accuracy: 0.8910\n",
            "Epoch 81/100\n",
            "250/250 [==============================] - 9s 36ms/step - loss: 0.4669 - accuracy: 0.8436 - val_loss: 0.5182 - val_accuracy: 0.8940\n",
            "Epoch 82/100\n",
            "250/250 [==============================] - 9s 36ms/step - loss: 0.4599 - accuracy: 0.8445 - val_loss: 0.5371 - val_accuracy: 0.8940\n",
            "Epoch 83/100\n",
            "250/250 [==============================] - 9s 38ms/step - loss: 0.4642 - accuracy: 0.8468 - val_loss: 0.5406 - val_accuracy: 0.8918\n",
            "Epoch 84/100\n",
            "250/250 [==============================] - 11s 45ms/step - loss: 0.4583 - accuracy: 0.8482 - val_loss: 0.5256 - val_accuracy: 0.8980\n",
            "Epoch 85/100\n",
            "250/250 [==============================] - 9s 37ms/step - loss: 0.4424 - accuracy: 0.8537 - val_loss: 0.5212 - val_accuracy: 0.8922\n",
            "Epoch 86/100\n",
            "250/250 [==============================] - 9s 36ms/step - loss: 0.4481 - accuracy: 0.8503 - val_loss: 0.5095 - val_accuracy: 0.8958\n",
            "Epoch 87/100\n",
            "250/250 [==============================] - 9s 37ms/step - loss: 0.4360 - accuracy: 0.8564 - val_loss: 0.5259 - val_accuracy: 0.8914\n",
            "Epoch 88/100\n",
            "250/250 [==============================] - 9s 36ms/step - loss: 0.4221 - accuracy: 0.8574 - val_loss: 0.5419 - val_accuracy: 0.8892\n",
            "Epoch 89/100\n",
            "250/250 [==============================] - 9s 36ms/step - loss: 0.4276 - accuracy: 0.8580 - val_loss: 0.4887 - val_accuracy: 0.9026\n",
            "Epoch 90/100\n",
            "250/250 [==============================] - 9s 36ms/step - loss: 0.4254 - accuracy: 0.8616 - val_loss: 0.4900 - val_accuracy: 0.8998\n",
            "Epoch 91/100\n",
            "250/250 [==============================] - 9s 35ms/step - loss: 0.4120 - accuracy: 0.8640 - val_loss: 0.5088 - val_accuracy: 0.8966\n",
            "Epoch 92/100\n",
            "250/250 [==============================] - 9s 36ms/step - loss: 0.4135 - accuracy: 0.8614 - val_loss: 0.4797 - val_accuracy: 0.9058\n",
            "Epoch 93/100\n",
            "250/250 [==============================] - 9s 37ms/step - loss: 0.3998 - accuracy: 0.8648 - val_loss: 0.4814 - val_accuracy: 0.9004\n",
            "Epoch 94/100\n",
            "250/250 [==============================] - 9s 37ms/step - loss: 0.4153 - accuracy: 0.8590 - val_loss: 0.5014 - val_accuracy: 0.8974\n",
            "Epoch 95/100\n",
            "250/250 [==============================] - 10s 41ms/step - loss: 0.3975 - accuracy: 0.8685 - val_loss: 0.5367 - val_accuracy: 0.8802\n",
            "Epoch 96/100\n",
            "250/250 [==============================] - 10s 40ms/step - loss: 0.3899 - accuracy: 0.8685 - val_loss: 0.4573 - val_accuracy: 0.9062\n",
            "Epoch 97/100\n",
            "250/250 [==============================] - 9s 37ms/step - loss: 0.3873 - accuracy: 0.8674 - val_loss: 0.4588 - val_accuracy: 0.9100\n",
            "Epoch 98/100\n",
            "250/250 [==============================] - 9s 35ms/step - loss: 0.3885 - accuracy: 0.8690 - val_loss: 0.4712 - val_accuracy: 0.9042\n",
            "Epoch 99/100\n",
            "250/250 [==============================] - 9s 37ms/step - loss: 0.3820 - accuracy: 0.8719 - val_loss: 0.4479 - val_accuracy: 0.9076\n",
            "Epoch 100/100\n",
            "250/250 [==============================] - 9s 37ms/step - loss: 0.3859 - accuracy: 0.8700 - val_loss: 0.4579 - val_accuracy: 0.9074\n"
          ]
        }
      ]
    },
    {
      "cell_type": "code",
      "source": [
        "target_names = pd.Categorical(df_cuisine['cuisine']).categories"
      ],
      "metadata": {
        "id": "QcMXHz3nQghN"
      },
      "execution_count": null,
      "outputs": []
    },
    {
      "cell_type": "code",
      "source": [
        "y_prob = model_cuisine.predict(X_test_glove_padded)\n",
        "y_pred = np.argmax(y_prob,axis=1)\n",
        "print(classification_report(y_test_int_cuisine,y_pred, target_names=target_names))"
      ],
      "metadata": {
        "colab": {
          "base_uri": "https://localhost:8080/"
        },
        "outputId": "b190390e-fea1-4f2e-d9da-639bd66054f6",
        "id": "X8x28HL7QghN"
      },
      "execution_count": null,
      "outputs": [
        {
          "output_type": "stream",
          "name": "stdout",
          "text": [
            "              precision    recall  f1-score   support\n",
            "\n",
            "   brazilian       0.76      0.80      0.78        51\n",
            "     british       0.58      0.77      0.66        97\n",
            "cajun_creole       0.87      0.91      0.89       215\n",
            "     chinese       0.92      0.96      0.94       337\n",
            "    filipino       0.83      0.82      0.83        90\n",
            "      french       0.84      0.86      0.85       330\n",
            "       greek       0.90      0.87      0.88       154\n",
            "      indian       0.94      0.96      0.95       363\n",
            "       irish       1.00      0.50      0.67        72\n",
            "     italian       0.92      0.95      0.94      1008\n",
            "    jamaican       0.89      0.84      0.86        75\n",
            "    japanese       0.93      0.89      0.91       175\n",
            "      korean       0.93      0.91      0.92       117\n",
            "     mexican       0.97      0.94      0.96       785\n",
            "    moroccan       0.91      0.93      0.92        92\n",
            "     russian       0.82      0.59      0.69        61\n",
            " southern_us       0.91      0.88      0.89       578\n",
            "     spanish       0.82      0.82      0.82       114\n",
            "        thai       0.87      0.94      0.91       178\n",
            "  vietnamese       0.92      0.86      0.89       108\n",
            "\n",
            "    accuracy                           0.90      5000\n",
            "   macro avg       0.88      0.85      0.86      5000\n",
            "weighted avg       0.91      0.90      0.90      5000\n",
            "\n"
          ]
        }
      ]
    },
    {
      "cell_type": "code",
      "source": [
        "plt.plot(history_fine.history['loss'])\n",
        "plt.plot(history_fine.history['val_loss'])\n",
        "plt.title('model loss')\n",
        "plt.ylabel('loss')\n",
        "plt.xlabel('epoch')\n",
        "plt.legend(['training set','validation set'], loc='upper left')\n",
        "plt.savefig('figs/loss_cnn_glv.eps', format='eps')\n",
        "plt.show()"
      ],
      "metadata": {
        "colab": {
          "base_uri": "https://localhost:8080/",
          "height": 330
        },
        "outputId": "9c51ac58-c6e3-4b84-edbe-a4f6ca218add",
        "id": "BWOS_nk3QghN"
      },
      "execution_count": null,
      "outputs": [
        {
          "output_type": "stream",
          "name": "stderr",
          "text": [
            "WARNING:matplotlib.backends.backend_ps:The PostScript backend does not support transparency; partially transparent artists will be rendered opaque.\n",
            "WARNING:matplotlib.backends.backend_ps:The PostScript backend does not support transparency; partially transparent artists will be rendered opaque.\n"
          ]
        },
        {
          "output_type": "display_data",
          "data": {
            "text/plain": [
              "<Figure size 432x288 with 1 Axes>"
            ],
            "image/png": "[encoded data removed]"
          },
          "metadata": {
            "needs_background": "light"
          }
        }
      ]
    },
    {
      "cell_type": "code",
      "source": [
        "plt.plot(history_fine.history['accuracy'])\n",
        "plt.plot(history_fine.history['val_accuracy'])\n",
        "plt.title('model accuracy')\n",
        "plt.ylabel('accuracy')\n",
        "plt.xlabel('epoch')\n",
        "plt.legend(['training set','validation set'], loc='upper left')\n",
        "plt.savefig('figs/acc_cnn_glv.eps', format='eps')\n",
        "plt.show()"
      ],
      "metadata": {
        "colab": {
          "base_uri": "https://localhost:8080/",
          "height": 330
        },
        "outputId": "a764e6cd-e099-4703-f34d-8b99fb0a2933",
        "id": "l8RqrocMQghN"
      },
      "execution_count": null,
      "outputs": [
        {
          "output_type": "stream",
          "name": "stderr",
          "text": [
            "WARNING:matplotlib.backends.backend_ps:The PostScript backend does not support transparency; partially transparent artists will be rendered opaque.\n",
            "WARNING:matplotlib.backends.backend_ps:The PostScript backend does not support transparency; partially transparent artists will be rendered opaque.\n"
          ]
        },
        {
          "output_type": "display_data",
          "data": {
            "text/plain": [
              "<Figure size 432x288 with 1 Axes>"
            ],
            "image/png": "[encoded data removed]"
          },
          "metadata": {
            "needs_background": "light"
          }
        }
      ]
    },
    {
      "cell_type": "code",
      "source": [
        "disp = ConfusionMatrixDisplay.from_predictions(y_test_int_cuisine, y_pred)\n",
        "fig = disp.ax_.get_figure()  \n",
        "fig.set_figwidth(10) \n",
        "fig.set_figheight(10)\n",
        "plt.savefig('figs/matrixconf_cnn_glv.eps', format='eps')\n",
        "plt.show()"
      ],
      "metadata": {
        "colab": {
          "base_uri": "https://localhost:8080/",
          "height": 580
        },
        "outputId": "41097484-6652-4495-d328-59e55a6b2b1b",
        "id": "d_yIiiLlQghN"
      },
      "execution_count": null,
      "outputs": [
        {
          "output_type": "display_data",
          "data": {
            "text/plain": [
              "<Figure size 720x720 with 2 Axes>"
            ],
            "image/png": "[encoded data removed]"
          },
          "metadata": {
            "needs_background": "light"
          }
        }
      ]
    },
    {
      "cell_type": "markdown",
      "source": [
        "# LSTM"
      ],
      "metadata": {
        "id": "6RhLUtYqmRHE"
      }
    },
    {
      "cell_type": "code",
      "source": [
        "from keras_tuner import HyperModel\n",
        "\n",
        "class LSTMHyperModel(HyperModel):\n",
        "  def __init__(self, embedding_layer, output):\n",
        "    self.embedding_layer = embedding_layer\n",
        "    self.output = output\n",
        "\n",
        "  def build(self, hp):\n",
        "    model = Sequential()\n",
        "    model.add(self.embedding_layer)\n",
        "    model.add(Masking(mask_value=0.0))\n",
        "    model.add(LSTM(hp.Choice(\"lstm\", [64,128]), return_sequences=True))\n",
        "    model.add(LSTM(hp.Choice(\"lstm\", [32,64]), return_sequences=False)) #hp.Choice(\"lstm\", [32,64]), return_sequences=False, dropout=0.1, recurrent_dropout=0.1))\n",
        "    model.add(Dropout(0.5))\n",
        "    model.add(Dense(hp.Choice(\"dense1\", [16,32]), activation='relu'))\n",
        "    model.add(Dense(self.output, activation='softmax'))\n",
        "    sgd = SGD(learning_rate=0.01)\n",
        "    model.compile(loss=\"categorical_crossentropy\",optimizer=sgd,metrics=['accuracy'])\n",
        "    return model"
      ],
      "metadata": {
        "id": "37iVKIoamPFS"
      },
      "execution_count": null,
      "outputs": []
    },
    {
      "cell_type": "markdown",
      "source": [
        "### WORD2VEC"
      ],
      "metadata": {
        "id": "l7BqsyzEeAh8"
      }
    },
    {
      "cell_type": "code",
      "source": [
        "embedding_layer = Embedding(input_dim=vocab_size_cuisine, output_dim=EMBEDDING_DIM_W2V, weights=[embedding_w2v], input_length=MAX_LENGTH, trainable=False)"
      ],
      "metadata": {
        "id": "_AYT_xsQeAh8"
      },
      "execution_count": null,
      "outputs": []
    },
    {
      "cell_type": "code",
      "source": [
        "model_LSTM = LSTMHyperModel(embedding_layer, 20)"
      ],
      "metadata": {
        "id": "2PMIPxWOeAh8"
      },
      "execution_count": null,
      "outputs": []
    },
    {
      "cell_type": "code",
      "source": [
        "tuner = kt.Hyperband(\n",
        "    model_LSTM,\n",
        "    objective='val_accuracy',\n",
        "    max_epochs=30,\n",
        "    hyperband_iterations=2,\n",
        "    overwrite=True)"
      ],
      "metadata": {
        "id": "875ANa_yeAh8"
      },
      "execution_count": null,
      "outputs": []
    },
    {
      "cell_type": "code",
      "source": [
        "tuner.search(X_train_w2v_padded,y_train_cuisine,validation_data=(X_valid_w2v_padded,y_valid_cuisine),epochs=50)"
      ],
      "metadata": {
        "colab": {
          "base_uri": "https://localhost:8080/"
        },
        "outputId": "586b5e53-0a42-42d0-e6e8-85f1a72819b5",
        "id": "bgP9zFSweAh8"
      },
      "execution_count": null,
      "outputs": [
        {
          "output_type": "stream",
          "name": "stdout",
          "text": [
            "Trial 4 Complete [00h 01m 30s]\n",
            "val_accuracy: 0.18639999628067017\n",
            "\n",
            "Best val_accuracy So Far: 0.3271999955177307\n",
            "Total elapsed time: 00h 06m 23s\n"
          ]
        }
      ]
    },
    {
      "cell_type": "code",
      "source": [
        "best_hps = tuner.get_best_hyperparameters(num_trials=1)[0]"
      ],
      "metadata": {
        "id": "2px-ocKDeAh8"
      },
      "execution_count": null,
      "outputs": []
    },
    {
      "cell_type": "code",
      "source": [
        "model_cuisine = tuner.hypermodel.build(best_hps)"
      ],
      "metadata": {
        "id": "3xZAjXiReAh8"
      },
      "execution_count": null,
      "outputs": []
    },
    {
      "cell_type": "code",
      "source": [
        "model_cuisine.summary()"
      ],
      "metadata": {
        "colab": {
          "base_uri": "https://localhost:8080/"
        },
        "id": "ECRzOu8aeAh8",
        "outputId": "6cbc1098-0e2f-4515-bd0a-855b2132a1e5"
      },
      "execution_count": null,
      "outputs": [
        {
          "output_type": "stream",
          "name": "stdout",
          "text": [
            "Model: \"sequential_1\"\n",
            "_________________________________________________________________\n",
            " Layer (type)                Output Shape              Param #   \n",
            "=================================================================\n",
            " embedding (Embedding)       (None, 50, 100)           216000    \n",
            "                                                                 \n",
            " masking_1 (Masking)         (None, 50, 100)           0         \n",
            "                                                                 \n",
            " lstm_2 (LSTM)               (None, 50, 128)           117248    \n",
            "                                                                 \n",
            " lstm_3 (LSTM)               (None, 128)               131584    \n",
            "                                                                 \n",
            " dropout_1 (Dropout)         (None, 128)               0         \n",
            "                                                                 \n",
            " dense_2 (Dense)             (None, 16)                2064      \n",
            "                                                                 \n",
            " dense_3 (Dense)             (None, 20)                340       \n",
            "                                                                 \n",
            "=================================================================\n",
            "Total params: 467,236\n",
            "Trainable params: 251,236\n",
            "Non-trainable params: 216,000\n",
            "_________________________________________________________________\n"
          ]
        }
      ]
    },
    {
      "cell_type": "code",
      "source": [
        "history_fine = model_cuisine.fit(X_train_w2v_padded,y_train_cuisine,validation_data=(X_valid_w2v_padded,y_valid_cuisine), epochs=100) "
      ],
      "metadata": {
        "id": "TEzbj1yGeAh8",
        "colab": {
          "base_uri": "https://localhost:8080/"
        },
        "outputId": "0109b386-f3d2-458a-fc43-cc2b4a48733a"
      },
      "execution_count": null,
      "outputs": [
        {
          "output_type": "stream",
          "name": "stdout",
          "text": [
            "Epoch 1/100\n",
            "250/250 [==============================] - 51s 178ms/step - loss: 2.8526 - accuracy: 0.1670 - val_loss: 2.7273 - val_accuracy: 0.1872\n",
            "Epoch 2/100\n",
            "250/250 [==============================] - 42s 167ms/step - loss: 2.6335 - accuracy: 0.2035 - val_loss: 2.5638 - val_accuracy: 0.1950\n",
            "Epoch 3/100\n",
            "250/250 [==============================] - 44s 175ms/step - loss: 2.4690 - accuracy: 0.2803 - val_loss: 2.3608 - val_accuracy: 0.3438\n",
            "Epoch 4/100\n",
            "250/250 [==============================] - 44s 175ms/step - loss: 2.2551 - accuracy: 0.3654 - val_loss: 2.1327 - val_accuracy: 0.4080\n",
            "Epoch 5/100\n",
            "250/250 [==============================] - 42s 168ms/step - loss: 2.0674 - accuracy: 0.4356 - val_loss: 1.9694 - val_accuracy: 0.4684\n",
            "Epoch 6/100\n",
            "250/250 [==============================] - 42s 167ms/step - loss: 1.9176 - accuracy: 0.4821 - val_loss: 1.8160 - val_accuracy: 0.4914\n",
            "Epoch 7/100\n",
            "250/250 [==============================] - 46s 185ms/step - loss: 1.7966 - accuracy: 0.4955 - val_loss: 1.7302 - val_accuracy: 0.4984\n",
            "Epoch 8/100\n",
            "250/250 [==============================] - 42s 167ms/step - loss: 1.7027 - accuracy: 0.5067 - val_loss: 1.6489 - val_accuracy: 0.5088\n",
            "Epoch 9/100\n",
            "250/250 [==============================] - 41s 165ms/step - loss: 1.6311 - accuracy: 0.5185 - val_loss: 1.5791 - val_accuracy: 0.5246\n",
            "Epoch 10/100\n",
            "250/250 [==============================] - 43s 172ms/step - loss: 1.5815 - accuracy: 0.5274 - val_loss: 1.5315 - val_accuracy: 0.5328\n",
            "Epoch 11/100\n",
            "250/250 [==============================] - 44s 175ms/step - loss: 1.5452 - accuracy: 0.5349 - val_loss: 1.5013 - val_accuracy: 0.5398\n",
            "Epoch 12/100\n",
            "250/250 [==============================] - 42s 168ms/step - loss: 1.5120 - accuracy: 0.5399 - val_loss: 1.4894 - val_accuracy: 0.5388\n",
            "Epoch 13/100\n",
            "250/250 [==============================] - 42s 168ms/step - loss: 1.4868 - accuracy: 0.5490 - val_loss: 1.4283 - val_accuracy: 0.5602\n",
            "Epoch 14/100\n",
            "250/250 [==============================] - 45s 181ms/step - loss: 1.4654 - accuracy: 0.5544 - val_loss: 1.4351 - val_accuracy: 0.5668\n",
            "Epoch 15/100\n",
            "250/250 [==============================] - 42s 169ms/step - loss: 1.4453 - accuracy: 0.5566 - val_loss: 1.3965 - val_accuracy: 0.5742\n",
            "Epoch 16/100\n",
            "250/250 [==============================] - 42s 167ms/step - loss: 1.4271 - accuracy: 0.5646 - val_loss: 1.3867 - val_accuracy: 0.5740\n",
            "Epoch 17/100\n",
            "250/250 [==============================] - 42s 166ms/step - loss: 1.4070 - accuracy: 0.5702 - val_loss: 1.3659 - val_accuracy: 0.5808\n",
            "Epoch 18/100\n",
            "250/250 [==============================] - 45s 182ms/step - loss: 1.3973 - accuracy: 0.5698 - val_loss: 1.3628 - val_accuracy: 0.5758\n",
            "Epoch 19/100\n",
            "250/250 [==============================] - 42s 167ms/step - loss: 1.3877 - accuracy: 0.5771 - val_loss: 1.3414 - val_accuracy: 0.5886\n",
            "Epoch 20/100\n",
            "250/250 [==============================] - 42s 168ms/step - loss: 1.3695 - accuracy: 0.5804 - val_loss: 1.3470 - val_accuracy: 0.5856\n",
            "Epoch 21/100\n",
            "250/250 [==============================] - 45s 179ms/step - loss: 1.3606 - accuracy: 0.5839 - val_loss: 1.3345 - val_accuracy: 0.5858\n",
            "Epoch 22/100\n",
            "250/250 [==============================] - 43s 172ms/step - loss: 1.3534 - accuracy: 0.5806 - val_loss: 1.3233 - val_accuracy: 0.5904\n",
            "Epoch 23/100\n",
            "250/250 [==============================] - 41s 163ms/step - loss: 1.3433 - accuracy: 0.5804 - val_loss: 1.3174 - val_accuracy: 0.5926\n",
            "Epoch 24/100\n",
            "250/250 [==============================] - 40s 162ms/step - loss: 1.3355 - accuracy: 0.5851 - val_loss: 1.3209 - val_accuracy: 0.5942\n",
            "Epoch 25/100\n",
            "250/250 [==============================] - 45s 181ms/step - loss: 1.3224 - accuracy: 0.5901 - val_loss: 1.2870 - val_accuracy: 0.5964\n",
            "Epoch 26/100\n",
            "250/250 [==============================] - 41s 166ms/step - loss: 1.3120 - accuracy: 0.5882 - val_loss: 1.2933 - val_accuracy: 0.5968\n",
            "Epoch 27/100\n",
            "250/250 [==============================] - 41s 164ms/step - loss: 1.3094 - accuracy: 0.5949 - val_loss: 1.2810 - val_accuracy: 0.5992\n",
            "Epoch 28/100\n",
            "250/250 [==============================] - 42s 169ms/step - loss: 1.3014 - accuracy: 0.5957 - val_loss: 1.2596 - val_accuracy: 0.6050\n",
            "Epoch 29/100\n",
            "250/250 [==============================] - 43s 172ms/step - loss: 1.2912 - accuracy: 0.5968 - val_loss: 1.2886 - val_accuracy: 0.5988\n",
            "Epoch 30/100\n",
            "250/250 [==============================] - 41s 164ms/step - loss: 1.2830 - accuracy: 0.5964 - val_loss: 1.2522 - val_accuracy: 0.6040\n",
            "Epoch 31/100\n",
            "250/250 [==============================] - 41s 166ms/step - loss: 1.2764 - accuracy: 0.6009 - val_loss: 1.2591 - val_accuracy: 0.6090\n",
            "Epoch 32/100\n",
            "250/250 [==============================] - 45s 180ms/step - loss: 1.2773 - accuracy: 0.6011 - val_loss: 1.2544 - val_accuracy: 0.6048\n",
            "Epoch 33/100\n",
            "250/250 [==============================] - 41s 163ms/step - loss: 1.2724 - accuracy: 0.6006 - val_loss: 1.2529 - val_accuracy: 0.6050\n",
            "Epoch 34/100\n",
            "250/250 [==============================] - 41s 163ms/step - loss: 1.2581 - accuracy: 0.6046 - val_loss: 1.2332 - val_accuracy: 0.6100\n",
            "Epoch 35/100\n",
            "250/250 [==============================] - 41s 163ms/step - loss: 1.2542 - accuracy: 0.6081 - val_loss: 1.2774 - val_accuracy: 0.5938\n",
            "Epoch 36/100\n",
            "250/250 [==============================] - 45s 178ms/step - loss: 1.2572 - accuracy: 0.6108 - val_loss: 1.2276 - val_accuracy: 0.6200\n",
            "Epoch 37/100\n",
            "250/250 [==============================] - 41s 164ms/step - loss: 1.2384 - accuracy: 0.6121 - val_loss: 1.2240 - val_accuracy: 0.6146\n",
            "Epoch 38/100\n",
            "250/250 [==============================] - 41s 164ms/step - loss: 1.2429 - accuracy: 0.6055 - val_loss: 1.2155 - val_accuracy: 0.6208\n",
            "Epoch 39/100\n",
            "250/250 [==============================] - 42s 170ms/step - loss: 1.2401 - accuracy: 0.6118 - val_loss: 1.2126 - val_accuracy: 0.6124\n",
            "Epoch 40/100\n",
            "250/250 [==============================] - 43s 172ms/step - loss: 1.2328 - accuracy: 0.6112 - val_loss: 1.2202 - val_accuracy: 0.6148\n",
            "Epoch 41/100\n",
            "250/250 [==============================] - 41s 163ms/step - loss: 1.2215 - accuracy: 0.6170 - val_loss: 1.2145 - val_accuracy: 0.6148\n",
            "Epoch 42/100\n",
            "250/250 [==============================] - 41s 163ms/step - loss: 1.2156 - accuracy: 0.6181 - val_loss: 1.2212 - val_accuracy: 0.6166\n",
            "Epoch 43/100\n",
            "250/250 [==============================] - 45s 182ms/step - loss: 1.2154 - accuracy: 0.6148 - val_loss: 1.2185 - val_accuracy: 0.6068\n",
            "Epoch 44/100\n",
            "250/250 [==============================] - 42s 166ms/step - loss: 1.2177 - accuracy: 0.6185 - val_loss: 1.1914 - val_accuracy: 0.6272\n",
            "Epoch 45/100\n",
            "250/250 [==============================] - 42s 168ms/step - loss: 1.2033 - accuracy: 0.6209 - val_loss: 1.1821 - val_accuracy: 0.6316\n",
            "Epoch 46/100\n",
            "250/250 [==============================] - 44s 175ms/step - loss: 1.1961 - accuracy: 0.6241 - val_loss: 1.2004 - val_accuracy: 0.6218\n",
            "Epoch 47/100\n",
            "250/250 [==============================] - 44s 177ms/step - loss: 1.1946 - accuracy: 0.6301 - val_loss: 1.2047 - val_accuracy: 0.6194\n",
            "Epoch 48/100\n",
            "250/250 [==============================] - 42s 167ms/step - loss: 1.1996 - accuracy: 0.6245 - val_loss: 1.1666 - val_accuracy: 0.6324\n",
            "Epoch 49/100\n",
            "250/250 [==============================] - 42s 167ms/step - loss: 1.1891 - accuracy: 0.6292 - val_loss: 1.1752 - val_accuracy: 0.6222\n",
            "Epoch 50/100\n",
            "250/250 [==============================] - 45s 182ms/step - loss: 1.1900 - accuracy: 0.6240 - val_loss: 1.1592 - val_accuracy: 0.6370\n",
            "Epoch 51/100\n",
            "250/250 [==============================] - 43s 171ms/step - loss: 1.1782 - accuracy: 0.6235 - val_loss: 1.1699 - val_accuracy: 0.6304\n",
            "Epoch 52/100\n",
            "250/250 [==============================] - 41s 165ms/step - loss: 1.1800 - accuracy: 0.6283 - val_loss: 1.1909 - val_accuracy: 0.6238\n",
            "Epoch 53/100\n",
            "250/250 [==============================] - 43s 174ms/step - loss: 1.1818 - accuracy: 0.6281 - val_loss: 1.1741 - val_accuracy: 0.6320\n",
            "Epoch 54/100\n",
            "250/250 [==============================] - 44s 175ms/step - loss: 1.1663 - accuracy: 0.6335 - val_loss: 1.1483 - val_accuracy: 0.6444\n",
            "Epoch 55/100\n",
            "250/250 [==============================] - 41s 164ms/step - loss: 1.1702 - accuracy: 0.6274 - val_loss: 1.1451 - val_accuracy: 0.6408\n",
            "Epoch 56/100\n",
            "250/250 [==============================] - 42s 168ms/step - loss: 1.1583 - accuracy: 0.6357 - val_loss: 1.1533 - val_accuracy: 0.6348\n",
            "Epoch 57/100\n",
            "250/250 [==============================] - 46s 184ms/step - loss: 1.1717 - accuracy: 0.6319 - val_loss: 1.1507 - val_accuracy: 0.6414\n",
            "Epoch 58/100\n",
            "250/250 [==============================] - 42s 167ms/step - loss: 1.1600 - accuracy: 0.6338 - val_loss: 1.1639 - val_accuracy: 0.6306\n",
            "Epoch 59/100\n",
            "250/250 [==============================] - 44s 178ms/step - loss: 1.1482 - accuracy: 0.6417 - val_loss: 1.1569 - val_accuracy: 0.6342\n",
            "Epoch 60/100\n",
            "250/250 [==============================] - 45s 181ms/step - loss: 1.1515 - accuracy: 0.6381 - val_loss: 1.1245 - val_accuracy: 0.6422\n",
            "Epoch 61/100\n",
            "250/250 [==============================] - 42s 169ms/step - loss: 1.1469 - accuracy: 0.6391 - val_loss: 1.1183 - val_accuracy: 0.6466\n",
            "Epoch 62/100\n",
            "250/250 [==============================] - 42s 169ms/step - loss: 1.1374 - accuracy: 0.6434 - val_loss: 1.1293 - val_accuracy: 0.6412\n",
            "Epoch 63/100\n",
            "250/250 [==============================] - 42s 169ms/step - loss: 1.1417 - accuracy: 0.6396 - val_loss: 1.1162 - val_accuracy: 0.6440\n",
            "Epoch 64/100\n",
            "250/250 [==============================] - 46s 186ms/step - loss: 1.1408 - accuracy: 0.6447 - val_loss: 1.1144 - val_accuracy: 0.6526\n",
            "Epoch 65/100\n",
            "250/250 [==============================] - 42s 170ms/step - loss: 1.1292 - accuracy: 0.6414 - val_loss: 1.1136 - val_accuracy: 0.6514\n",
            "Epoch 66/100\n",
            "250/250 [==============================] - 42s 170ms/step - loss: 1.1215 - accuracy: 0.6464 - val_loss: 1.1030 - val_accuracy: 0.6540\n",
            "Epoch 67/100\n",
            "250/250 [==============================] - 46s 186ms/step - loss: 1.1167 - accuracy: 0.6490 - val_loss: 1.1127 - val_accuracy: 0.6500\n",
            "Epoch 68/100\n",
            "250/250 [==============================] - 43s 173ms/step - loss: 1.1202 - accuracy: 0.6475 - val_loss: 1.1237 - val_accuracy: 0.6470\n",
            "Epoch 69/100\n",
            "250/250 [==============================] - 43s 172ms/step - loss: 1.1199 - accuracy: 0.6460 - val_loss: 1.1002 - val_accuracy: 0.6528\n",
            "Epoch 70/100\n",
            "250/250 [==============================] - 44s 176ms/step - loss: 1.1132 - accuracy: 0.6470 - val_loss: 1.0919 - val_accuracy: 0.6494\n",
            "Epoch 71/100\n",
            "250/250 [==============================] - 45s 178ms/step - loss: 1.1128 - accuracy: 0.6511 - val_loss: 1.0999 - val_accuracy: 0.6492\n",
            "Epoch 72/100\n",
            "250/250 [==============================] - 42s 170ms/step - loss: 1.1063 - accuracy: 0.6532 - val_loss: 1.0933 - val_accuracy: 0.6550\n",
            "Epoch 73/100\n",
            "250/250 [==============================] - 42s 168ms/step - loss: 1.1032 - accuracy: 0.6549 - val_loss: 1.1196 - val_accuracy: 0.6426\n",
            "Epoch 74/100\n",
            "250/250 [==============================] - 46s 184ms/step - loss: 1.1026 - accuracy: 0.6525 - val_loss: 1.0928 - val_accuracy: 0.6550\n",
            "Epoch 75/100\n",
            "250/250 [==============================] - 42s 167ms/step - loss: 1.1043 - accuracy: 0.6521 - val_loss: 1.0975 - val_accuracy: 0.6540\n",
            "Epoch 76/100\n",
            "250/250 [==============================] - 42s 167ms/step - loss: 1.0930 - accuracy: 0.6569 - val_loss: 1.0854 - val_accuracy: 0.6530\n",
            "Epoch 77/100\n",
            "250/250 [==============================] - 46s 183ms/step - loss: 1.0894 - accuracy: 0.6593 - val_loss: 1.0892 - val_accuracy: 0.6590\n",
            "Epoch 78/100\n",
            "250/250 [==============================] - 41s 164ms/step - loss: 1.0802 - accuracy: 0.6610 - val_loss: 1.0878 - val_accuracy: 0.6530\n",
            "Epoch 79/100\n",
            "250/250 [==============================] - 41s 165ms/step - loss: 1.0877 - accuracy: 0.6587 - val_loss: 1.0670 - val_accuracy: 0.6638\n",
            "Epoch 80/100\n",
            "250/250 [==============================] - 41s 163ms/step - loss: 1.0799 - accuracy: 0.6647 - val_loss: 1.0669 - val_accuracy: 0.6638\n",
            "Epoch 81/100\n",
            "250/250 [==============================] - 45s 182ms/step - loss: 1.0862 - accuracy: 0.6664 - val_loss: 1.0581 - val_accuracy: 0.6688\n",
            "Epoch 82/100\n",
            "250/250 [==============================] - 41s 164ms/step - loss: 1.0723 - accuracy: 0.6634 - val_loss: 1.0583 - val_accuracy: 0.6716\n",
            "Epoch 83/100\n",
            "250/250 [==============================] - 41s 165ms/step - loss: 1.0733 - accuracy: 0.6631 - val_loss: 1.0865 - val_accuracy: 0.6544\n",
            "Epoch 84/100\n",
            "250/250 [==============================] - 45s 180ms/step - loss: 1.0807 - accuracy: 0.6628 - val_loss: 1.0678 - val_accuracy: 0.6592\n",
            "Epoch 85/100\n",
            "250/250 [==============================] - 41s 165ms/step - loss: 1.0691 - accuracy: 0.6651 - val_loss: 1.0487 - val_accuracy: 0.6700\n",
            "Epoch 86/100\n",
            "250/250 [==============================] - 41s 163ms/step - loss: 1.0636 - accuracy: 0.6685 - val_loss: 1.0530 - val_accuracy: 0.6734\n",
            "Epoch 87/100\n",
            "250/250 [==============================] - 44s 176ms/step - loss: 1.0619 - accuracy: 0.6695 - val_loss: 1.0529 - val_accuracy: 0.6680\n",
            "Epoch 88/100\n",
            "250/250 [==============================] - 42s 169ms/step - loss: 1.0504 - accuracy: 0.6706 - val_loss: 1.0369 - val_accuracy: 0.6774\n",
            "Epoch 89/100\n",
            "250/250 [==============================] - 41s 164ms/step - loss: 1.0571 - accuracy: 0.6700 - val_loss: 1.0524 - val_accuracy: 0.6694\n",
            "Epoch 90/100\n",
            "250/250 [==============================] - 41s 164ms/step - loss: 1.0470 - accuracy: 0.6730 - val_loss: 1.0468 - val_accuracy: 0.6744\n",
            "Epoch 91/100\n",
            "250/250 [==============================] - 45s 180ms/step - loss: 1.0441 - accuracy: 0.6705 - val_loss: 1.0553 - val_accuracy: 0.6716\n",
            "Epoch 92/100\n",
            "250/250 [==============================] - 41s 166ms/step - loss: 1.0448 - accuracy: 0.6708 - val_loss: 1.1101 - val_accuracy: 0.6430\n",
            "Epoch 93/100\n",
            "250/250 [==============================] - 41s 165ms/step - loss: 1.0448 - accuracy: 0.6741 - val_loss: 1.0409 - val_accuracy: 0.6794\n",
            "Epoch 94/100\n",
            "250/250 [==============================] - 45s 180ms/step - loss: 1.0400 - accuracy: 0.6737 - val_loss: 1.0463 - val_accuracy: 0.6740\n",
            "Epoch 95/100\n",
            "250/250 [==============================] - 40s 162ms/step - loss: 1.0354 - accuracy: 0.6739 - val_loss: 1.0340 - val_accuracy: 0.6704\n",
            "Epoch 96/100\n",
            "250/250 [==============================] - 41s 163ms/step - loss: 1.0320 - accuracy: 0.6780 - val_loss: 1.0351 - val_accuracy: 0.6752\n",
            "Epoch 97/100\n",
            "250/250 [==============================] - 43s 171ms/step - loss: 1.0279 - accuracy: 0.6741 - val_loss: 1.0356 - val_accuracy: 0.6752\n",
            "Epoch 98/100\n",
            "250/250 [==============================] - 50s 200ms/step - loss: 1.0217 - accuracy: 0.6787 - val_loss: 0.9969 - val_accuracy: 0.6952\n",
            "Epoch 99/100\n",
            "250/250 [==============================] - 42s 167ms/step - loss: 1.0275 - accuracy: 0.6805 - val_loss: 1.0056 - val_accuracy: 0.6842\n",
            "Epoch 100/100\n",
            "250/250 [==============================] - 43s 172ms/step - loss: 1.0227 - accuracy: 0.6826 - val_loss: 1.0124 - val_accuracy: 0.6900\n"
          ]
        }
      ]
    },
    {
      "cell_type": "code",
      "source": [
        "target_names = pd.Categorical(df_cuisine['cuisine']).categories"
      ],
      "metadata": {
        "id": "o0Wg2fLmeAh8"
      },
      "execution_count": null,
      "outputs": []
    },
    {
      "cell_type": "code",
      "source": [
        "y_prob = model_cuisine.predict(X_test_w2v_padded)\n",
        "y_pred = np.argmax(y_prob,axis=1) \n",
        "print(classification_report(y_test_int_cuisine,y_pred, target_names=target_names, zero_division=1))"
      ],
      "metadata": {
        "id": "dgx5a3KJeAh8",
        "colab": {
          "base_uri": "https://localhost:8080/"
        },
        "outputId": "381830fd-191d-44f5-9b42-912dca658b43"
      },
      "execution_count": null,
      "outputs": [
        {
          "output_type": "stream",
          "name": "stdout",
          "text": [
            "              precision    recall  f1-score   support\n",
            "\n",
            "   brazilian       0.75      0.12      0.20        51\n",
            "     british       0.19      0.12      0.15        97\n",
            "cajun_creole       0.75      0.62      0.68       215\n",
            "     chinese       0.69      0.82      0.75       337\n",
            "    filipino       0.37      0.43      0.40        90\n",
            "      french       0.42      0.53      0.47       330\n",
            "       greek       0.64      0.65      0.65       154\n",
            "      indian       0.80      0.89      0.84       363\n",
            "       irish       0.35      0.15      0.21        72\n",
            "     italian       0.78      0.86      0.82      1008\n",
            "    jamaican       0.65      0.40      0.50        75\n",
            "    japanese       0.51      0.38      0.43       175\n",
            "      korean       0.59      0.48      0.53       117\n",
            "     mexican       0.91      0.90      0.90       785\n",
            "    moroccan       0.66      0.68      0.67        92\n",
            "     russian       0.00      0.00      0.00        61\n",
            " southern_us       0.64      0.71      0.67       578\n",
            "     spanish       0.57      0.33      0.42       114\n",
            "        thai       0.74      0.70      0.72       178\n",
            "  vietnamese       0.55      0.44      0.49       108\n",
            "\n",
            "    accuracy                           0.70      5000\n",
            "   macro avg       0.58      0.51      0.52      5000\n",
            "weighted avg       0.68      0.70      0.68      5000\n",
            "\n"
          ]
        }
      ]
    },
    {
      "cell_type": "code",
      "source": [
        "plt.plot(history_fine.history['loss'])\n",
        "plt.plot(history_fine.history['val_loss'])\n",
        "plt.title('model loss')\n",
        "plt.ylabel('loss')\n",
        "plt.xlabel('epoch')\n",
        "plt.legend(['training set','validation set'], loc='upper left')\n",
        "plt.savefig('figs/loss_lstm_w2v.eps', format='eps')\n",
        "plt.show()"
      ],
      "metadata": {
        "id": "Hisr1gNQeAh8",
        "colab": {
          "base_uri": "https://localhost:8080/",
          "height": 330
        },
        "outputId": "616ababc-278d-4579-96f5-ce17d78f010b"
      },
      "execution_count": null,
      "outputs": [
        {
          "output_type": "stream",
          "name": "stderr",
          "text": [
            "WARNING:matplotlib.backends.backend_ps:The PostScript backend does not support transparency; partially transparent artists will be rendered opaque.\n",
            "WARNING:matplotlib.backends.backend_ps:The PostScript backend does not support transparency; partially transparent artists will be rendered opaque.\n"
          ]
        },
        {
          "output_type": "display_data",
          "data": {
            "text/plain": [
              "<Figure size 432x288 with 1 Axes>"
            ],
            "image/png": "[encoded data removed]"
          },
          "metadata": {
            "needs_background": "light"
          }
        }
      ]
    },
    {
      "cell_type": "code",
      "source": [
        "plt.plot(history_fine.history['accuracy'])\n",
        "plt.plot(history_fine.history['val_accuracy'])\n",
        "plt.title('model accuracy')\n",
        "plt.ylabel('accuracy')\n",
        "plt.xlabel('epoch')\n",
        "plt.legend(['training set','validation set'], loc='upper left')\n",
        "plt.savefig('figs/acc_lstm_w2v.eps', format='eps')\n",
        "plt.show()"
      ],
      "metadata": {
        "id": "QsZaybQ9eAh8",
        "colab": {
          "base_uri": "https://localhost:8080/",
          "height": 330
        },
        "outputId": "14044cd9-55ed-4990-be4b-75bac5fa6419"
      },
      "execution_count": null,
      "outputs": [
        {
          "output_type": "stream",
          "name": "stderr",
          "text": [
            "WARNING:matplotlib.backends.backend_ps:The PostScript backend does not support transparency; partially transparent artists will be rendered opaque.\n",
            "WARNING:matplotlib.backends.backend_ps:The PostScript backend does not support transparency; partially transparent artists will be rendered opaque.\n"
          ]
        },
        {
          "output_type": "display_data",
          "data": {
            "text/plain": [
              "<Figure size 432x288 with 1 Axes>"
            ],
            "image/png": "[encoded data removed]"
          },
          "metadata": {
            "needs_background": "light"
          }
        }
      ]
    },
    {
      "cell_type": "code",
      "source": [
        "disp = ConfusionMatrixDisplay.from_predictions(y_test_int_cuisine, y_pred)\n",
        "fig = disp.ax_.get_figure()  \n",
        "fig.set_figwidth(10) \n",
        "fig.set_figheight(10)\n",
        "plt.savefig('figs/matrixconf_lstm_w2v.eps', format='eps')\n",
        "plt.show()"
      ],
      "metadata": {
        "id": "-Er6Ps5AeAh9",
        "colab": {
          "base_uri": "https://localhost:8080/",
          "height": 580
        },
        "outputId": "ffcc2ac0-b6aa-4d23-993d-9df7189d7175"
      },
      "execution_count": null,
      "outputs": [
        {
          "output_type": "display_data",
          "data": {
            "text/plain": [
              "<Figure size 720x720 with 2 Axes>"
            ],
            "image/png": "[encoded data removed]"
          },
          "metadata": {
            "needs_background": "light"
          }
        }
      ]
    },
    {
      "cell_type": "markdown",
      "source": [
        "### GLOVE"
      ],
      "metadata": {
        "id": "60zL_-_EeAh9"
      }
    },
    {
      "cell_type": "code",
      "source": [
        "embedding_layer = Embedding(input_dim=vocab_size_cuisine, output_dim=EMBEDDING_DIM_GLV, weights=[embedding_glove], input_length=MAX_LENGTH, trainable=False)"
      ],
      "metadata": {
        "id": "JWal6OW4eAh9"
      },
      "execution_count": null,
      "outputs": []
    },
    {
      "cell_type": "code",
      "source": [
        "model_LSTM = LSTMHyperModel(embedding_layer, 20)"
      ],
      "metadata": {
        "id": "xQruN_HPeAh9"
      },
      "execution_count": null,
      "outputs": []
    },
    {
      "cell_type": "code",
      "source": [
        "tuner = kt.Hyperband(\n",
        "    model_LSTM,\n",
        "    objective='val_accuracy',\n",
        "    max_epochs=30,\n",
        "    hyperband_iterations=2,\n",
        "    overwrite=True)"
      ],
      "metadata": {
        "id": "MswOErzkeAh9"
      },
      "execution_count": null,
      "outputs": []
    },
    {
      "cell_type": "code",
      "source": [
        "tuner.search(X_train_glove_padded,y_train_cuisine,validation_data=(X_valid_glove_padded,y_valid_cuisine),epochs=50)"
      ],
      "metadata": {
        "id": "wgRwDHvheAh9",
        "colab": {
          "base_uri": "https://localhost:8080/"
        },
        "outputId": "c96fb320-4ed8-435d-f458-4b5341323a8d"
      },
      "execution_count": null,
      "outputs": [
        {
          "output_type": "stream",
          "name": "stdout",
          "text": [
            "Trial 4 Complete [00h 01m 35s]\n",
            "val_accuracy: 0.18719999492168427\n",
            "\n",
            "Best val_accuracy So Far: 0.19460000097751617\n",
            "Total elapsed time: 00h 07m 40s\n"
          ]
        }
      ]
    },
    {
      "cell_type": "code",
      "source": [
        "best_hps = tuner.get_best_hyperparameters(num_trials=1)[0]"
      ],
      "metadata": {
        "id": "HiopxwFSeAh9"
      },
      "execution_count": null,
      "outputs": []
    },
    {
      "cell_type": "code",
      "source": [
        "model_cuisine = tuner.hypermodel.build(best_hps)"
      ],
      "metadata": {
        "id": "l4Zmr4dBeAh9"
      },
      "execution_count": null,
      "outputs": []
    },
    {
      "cell_type": "code",
      "source": [
        "model_cuisine.summary()"
      ],
      "metadata": {
        "id": "l_CJBjYleAh9",
        "colab": {
          "base_uri": "https://localhost:8080/"
        },
        "outputId": "845fe00f-bc1a-487f-8db2-910f76d28b65"
      },
      "execution_count": null,
      "outputs": [
        {
          "output_type": "stream",
          "name": "stdout",
          "text": [
            "Model: \"sequential_1\"\n",
            "_________________________________________________________________\n",
            " Layer (type)                Output Shape              Param #   \n",
            "=================================================================\n",
            " embedding (Embedding)       (None, 50, 100)           216000    \n",
            "                                                                 \n",
            " masking_1 (Masking)         (None, 50, 100)           0         \n",
            "                                                                 \n",
            " lstm_2 (LSTM)               (None, 50, 128)           117248    \n",
            "                                                                 \n",
            " lstm_3 (LSTM)               (None, 128)               131584    \n",
            "                                                                 \n",
            " dropout_1 (Dropout)         (None, 128)               0         \n",
            "                                                                 \n",
            " dense_2 (Dense)             (None, 32)                4128      \n",
            "                                                                 \n",
            " dense_3 (Dense)             (None, 20)                660       \n",
            "                                                                 \n",
            "=================================================================\n",
            "Total params: 469,620\n",
            "Trainable params: 253,620\n",
            "Non-trainable params: 216,000\n",
            "_________________________________________________________________\n"
          ]
        }
      ]
    },
    {
      "cell_type": "code",
      "source": [
        "history_fine = model_cuisine.fit(X_train_glove_padded,y_train_cuisine,validation_data=(X_valid_glove_padded,y_valid_cuisine), epochs=100) "
      ],
      "metadata": {
        "id": "dkbq34pYeAh9",
        "colab": {
          "base_uri": "https://localhost:8080/"
        },
        "outputId": "a047d047-9542-412c-f509-9e1f57f7ca1a"
      },
      "execution_count": null,
      "outputs": [
        {
          "output_type": "stream",
          "name": "stdout",
          "text": [
            "Epoch 1/100\n",
            "250/250 [==============================] - 58s 197ms/step - loss: 2.8268 - accuracy: 0.1839 - val_loss: 2.6817 - val_accuracy: 0.1872\n",
            "Epoch 2/100\n",
            "250/250 [==============================] - 42s 167ms/step - loss: 2.6393 - accuracy: 0.1998 - val_loss: 2.6118 - val_accuracy: 0.1872\n",
            "Epoch 3/100\n",
            "250/250 [==============================] - 41s 164ms/step - loss: 2.5834 - accuracy: 0.2132 - val_loss: 2.5524 - val_accuracy: 0.2168\n",
            "Epoch 4/100\n",
            "250/250 [==============================] - 45s 179ms/step - loss: 2.4912 - accuracy: 0.2578 - val_loss: 2.3971 - val_accuracy: 0.3298\n",
            "Epoch 5/100\n",
            "250/250 [==============================] - 41s 165ms/step - loss: 2.2949 - accuracy: 0.3610 - val_loss: 2.1698 - val_accuracy: 0.3876\n",
            "Epoch 6/100\n",
            "250/250 [==============================] - 41s 163ms/step - loss: 2.0946 - accuracy: 0.4074 - val_loss: 2.0021 - val_accuracy: 0.4268\n",
            "Epoch 7/100\n",
            "250/250 [==============================] - 42s 168ms/step - loss: 1.9714 - accuracy: 0.4356 - val_loss: 1.8917 - val_accuracy: 0.4586\n",
            "Epoch 8/100\n",
            "250/250 [==============================] - 43s 171ms/step - loss: 1.8803 - accuracy: 0.4613 - val_loss: 1.8101 - val_accuracy: 0.4720\n",
            "Epoch 9/100\n",
            "250/250 [==============================] - 41s 164ms/step - loss: 1.8162 - accuracy: 0.4721 - val_loss: 1.7724 - val_accuracy: 0.4748\n",
            "Epoch 10/100\n",
            "250/250 [==============================] - 41s 166ms/step - loss: 1.7775 - accuracy: 0.4794 - val_loss: 1.7301 - val_accuracy: 0.4862\n",
            "Epoch 11/100\n",
            "250/250 [==============================] - 46s 183ms/step - loss: 1.7415 - accuracy: 0.4849 - val_loss: 1.6977 - val_accuracy: 0.4962\n",
            "Epoch 12/100\n",
            "250/250 [==============================] - 41s 166ms/step - loss: 1.7200 - accuracy: 0.4901 - val_loss: 1.6690 - val_accuracy: 0.5026\n",
            "Epoch 13/100\n",
            "250/250 [==============================] - 41s 163ms/step - loss: 1.6911 - accuracy: 0.5001 - val_loss: 1.6847 - val_accuracy: 0.4890\n",
            "Epoch 14/100\n",
            "250/250 [==============================] - 44s 178ms/step - loss: 1.6747 - accuracy: 0.5005 - val_loss: 1.6549 - val_accuracy: 0.4970\n",
            "Epoch 15/100\n",
            "250/250 [==============================] - 41s 164ms/step - loss: 1.6520 - accuracy: 0.5059 - val_loss: 1.6075 - val_accuracy: 0.5232\n",
            "Epoch 16/100\n",
            "250/250 [==============================] - 41s 164ms/step - loss: 1.6354 - accuracy: 0.5098 - val_loss: 1.5902 - val_accuracy: 0.5274\n",
            "Epoch 17/100\n",
            "250/250 [==============================] - 45s 179ms/step - loss: 1.6210 - accuracy: 0.5156 - val_loss: 1.5932 - val_accuracy: 0.5248\n",
            "Epoch 18/100\n",
            "250/250 [==============================] - 42s 168ms/step - loss: 1.6021 - accuracy: 0.5194 - val_loss: 1.5571 - val_accuracy: 0.5290\n",
            "Epoch 19/100\n",
            "250/250 [==============================] - 41s 166ms/step - loss: 1.5848 - accuracy: 0.5229 - val_loss: 1.5399 - val_accuracy: 0.5360\n",
            "Epoch 20/100\n",
            "250/250 [==============================] - 44s 174ms/step - loss: 1.5699 - accuracy: 0.5270 - val_loss: 1.5405 - val_accuracy: 0.5348\n",
            "Epoch 21/100\n",
            "250/250 [==============================] - 44s 176ms/step - loss: 1.5578 - accuracy: 0.5299 - val_loss: 1.5245 - val_accuracy: 0.5348\n",
            "Epoch 22/100\n",
            "250/250 [==============================] - 42s 167ms/step - loss: 1.5448 - accuracy: 0.5310 - val_loss: 1.5062 - val_accuracy: 0.5410\n",
            "Epoch 23/100\n",
            "250/250 [==============================] - 43s 173ms/step - loss: 1.5342 - accuracy: 0.5318 - val_loss: 1.5033 - val_accuracy: 0.5432\n",
            "Epoch 24/100\n",
            "250/250 [==============================] - 44s 178ms/step - loss: 1.5202 - accuracy: 0.5366 - val_loss: 1.4838 - val_accuracy: 0.5466\n",
            "Epoch 25/100\n",
            "250/250 [==============================] - 43s 172ms/step - loss: 1.5088 - accuracy: 0.5393 - val_loss: 1.4681 - val_accuracy: 0.5510\n",
            "Epoch 26/100\n",
            "250/250 [==============================] - 43s 171ms/step - loss: 1.5021 - accuracy: 0.5405 - val_loss: 1.4655 - val_accuracy: 0.5500\n",
            "Epoch 27/100\n",
            "250/250 [==============================] - 43s 174ms/step - loss: 1.4880 - accuracy: 0.5458 - val_loss: 1.4452 - val_accuracy: 0.5598\n",
            "Epoch 28/100\n",
            "250/250 [==============================] - 42s 167ms/step - loss: 1.4762 - accuracy: 0.5456 - val_loss: 1.4412 - val_accuracy: 0.5606\n",
            "Epoch 29/100\n",
            "250/250 [==============================] - 42s 166ms/step - loss: 1.4669 - accuracy: 0.5496 - val_loss: 1.4432 - val_accuracy: 0.5572\n",
            "Epoch 30/100\n",
            "250/250 [==============================] - 45s 180ms/step - loss: 1.4605 - accuracy: 0.5539 - val_loss: 1.4173 - val_accuracy: 0.5628\n",
            "Epoch 31/100\n",
            "250/250 [==============================] - 42s 167ms/step - loss: 1.4496 - accuracy: 0.5535 - val_loss: 1.4214 - val_accuracy: 0.5600\n",
            "Epoch 32/100\n",
            "250/250 [==============================] - 42s 168ms/step - loss: 1.4434 - accuracy: 0.5559 - val_loss: 1.4036 - val_accuracy: 0.5686\n",
            "Epoch 33/100\n",
            "250/250 [==============================] - 46s 186ms/step - loss: 1.4369 - accuracy: 0.5575 - val_loss: 1.4235 - val_accuracy: 0.5586\n",
            "Epoch 34/100\n",
            "250/250 [==============================] - 42s 166ms/step - loss: 1.4236 - accuracy: 0.5616 - val_loss: 1.3893 - val_accuracy: 0.5666\n",
            "Epoch 35/100\n",
            "250/250 [==============================] - 42s 169ms/step - loss: 1.4130 - accuracy: 0.5631 - val_loss: 1.3907 - val_accuracy: 0.5734\n",
            "Epoch 36/100\n",
            "250/250 [==============================] - 46s 184ms/step - loss: 1.4142 - accuracy: 0.5626 - val_loss: 1.3782 - val_accuracy: 0.5742\n",
            "Epoch 37/100\n",
            "250/250 [==============================] - 42s 168ms/step - loss: 1.4064 - accuracy: 0.5654 - val_loss: 1.3810 - val_accuracy: 0.5694\n",
            "Epoch 38/100\n",
            "250/250 [==============================] - 42s 169ms/step - loss: 1.3952 - accuracy: 0.5663 - val_loss: 1.3798 - val_accuracy: 0.5768\n",
            "Epoch 39/100\n",
            "250/250 [==============================] - 44s 176ms/step - loss: 1.3981 - accuracy: 0.5671 - val_loss: 1.3583 - val_accuracy: 0.5766\n",
            "Epoch 40/100\n",
            "250/250 [==============================] - 42s 168ms/step - loss: 1.3894 - accuracy: 0.5688 - val_loss: 1.3501 - val_accuracy: 0.5742\n",
            "Epoch 41/100\n",
            "250/250 [==============================] - 42s 168ms/step - loss: 1.3762 - accuracy: 0.5705 - val_loss: 1.3423 - val_accuracy: 0.5816\n",
            "Epoch 42/100\n",
            "250/250 [==============================] - 44s 178ms/step - loss: 1.3737 - accuracy: 0.5739 - val_loss: 1.3364 - val_accuracy: 0.5844\n",
            "Epoch 43/100\n",
            "250/250 [==============================] - 42s 167ms/step - loss: 1.3727 - accuracy: 0.5736 - val_loss: 1.3378 - val_accuracy: 0.5842\n",
            "Epoch 44/100\n",
            "250/250 [==============================] - 42s 167ms/step - loss: 1.3646 - accuracy: 0.5732 - val_loss: 1.3372 - val_accuracy: 0.5868\n",
            "Epoch 45/100\n",
            "250/250 [==============================] - 44s 175ms/step - loss: 1.3609 - accuracy: 0.5763 - val_loss: 1.3200 - val_accuracy: 0.5850\n",
            "Epoch 46/100\n",
            "250/250 [==============================] - 42s 166ms/step - loss: 1.3630 - accuracy: 0.5738 - val_loss: 1.3619 - val_accuracy: 0.5734\n",
            "Epoch 47/100\n",
            "250/250 [==============================] - 43s 172ms/step - loss: 1.3464 - accuracy: 0.5795 - val_loss: 1.3345 - val_accuracy: 0.5842\n",
            "Epoch 48/100\n",
            "250/250 [==============================] - 43s 170ms/step - loss: 1.3441 - accuracy: 0.5780 - val_loss: 1.3126 - val_accuracy: 0.5890\n",
            "Epoch 49/100\n",
            "250/250 [==============================] - 42s 168ms/step - loss: 1.3336 - accuracy: 0.5854 - val_loss: 1.3319 - val_accuracy: 0.5884\n",
            "Epoch 50/100\n",
            "250/250 [==============================] - 43s 173ms/step - loss: 1.3360 - accuracy: 0.5836 - val_loss: 1.3101 - val_accuracy: 0.5968\n",
            "Epoch 51/100\n",
            "250/250 [==============================] - 43s 171ms/step - loss: 1.3379 - accuracy: 0.5847 - val_loss: 1.3025 - val_accuracy: 0.5954\n",
            "Epoch 52/100\n",
            "250/250 [==============================] - 43s 171ms/step - loss: 1.3340 - accuracy: 0.5845 - val_loss: 1.3388 - val_accuracy: 0.5796\n",
            "Epoch 53/100\n",
            "250/250 [==============================] - 44s 176ms/step - loss: 1.3212 - accuracy: 0.5863 - val_loss: 1.2956 - val_accuracy: 0.5980\n",
            "Epoch 54/100\n",
            "250/250 [==============================] - 43s 172ms/step - loss: 1.3186 - accuracy: 0.5869 - val_loss: 1.2933 - val_accuracy: 0.5956\n",
            "Epoch 55/100\n",
            "250/250 [==============================] - 42s 169ms/step - loss: 1.3194 - accuracy: 0.5893 - val_loss: 1.2859 - val_accuracy: 0.5964\n",
            "Epoch 56/100\n",
            "250/250 [==============================] - 44s 174ms/step - loss: 1.3088 - accuracy: 0.5913 - val_loss: 1.2943 - val_accuracy: 0.5916\n",
            "Epoch 57/100\n",
            "250/250 [==============================] - 42s 167ms/step - loss: 1.3096 - accuracy: 0.5910 - val_loss: 1.3092 - val_accuracy: 0.5922\n",
            "Epoch 58/100\n",
            "250/250 [==============================] - 42s 168ms/step - loss: 1.3031 - accuracy: 0.5903 - val_loss: 1.2914 - val_accuracy: 0.5920\n",
            "Epoch 59/100\n",
            "250/250 [==============================] - 44s 177ms/step - loss: 1.3006 - accuracy: 0.5935 - val_loss: 1.2866 - val_accuracy: 0.5988\n",
            "Epoch 60/100\n",
            "250/250 [==============================] - 42s 168ms/step - loss: 1.2998 - accuracy: 0.5925 - val_loss: 1.2613 - val_accuracy: 0.6050\n",
            "Epoch 61/100\n",
            "250/250 [==============================] - 42s 169ms/step - loss: 1.2864 - accuracy: 0.5986 - val_loss: 1.2750 - val_accuracy: 0.6022\n",
            "Epoch 62/100\n",
            "250/250 [==============================] - 44s 177ms/step - loss: 1.2914 - accuracy: 0.5984 - val_loss: 1.2765 - val_accuracy: 0.5994\n",
            "Epoch 63/100\n",
            "250/250 [==============================] - 42s 167ms/step - loss: 1.2886 - accuracy: 0.5957 - val_loss: 1.2563 - val_accuracy: 0.6084\n",
            "Epoch 64/100\n",
            "250/250 [==============================] - 42s 167ms/step - loss: 1.2871 - accuracy: 0.5968 - val_loss: 1.2485 - val_accuracy: 0.6102\n",
            "Epoch 65/100\n",
            "250/250 [==============================] - 44s 175ms/step - loss: 1.2831 - accuracy: 0.5966 - val_loss: 1.2467 - val_accuracy: 0.6090\n",
            "Epoch 66/100\n",
            "250/250 [==============================] - 41s 165ms/step - loss: 1.2795 - accuracy: 0.5982 - val_loss: 1.2449 - val_accuracy: 0.6126\n",
            "Epoch 67/100\n",
            "250/250 [==============================] - 42s 167ms/step - loss: 1.2637 - accuracy: 0.6005 - val_loss: 1.2479 - val_accuracy: 0.6106\n",
            "Epoch 68/100\n",
            "250/250 [==============================] - 44s 176ms/step - loss: 1.2650 - accuracy: 0.6051 - val_loss: 1.2943 - val_accuracy: 0.6022\n",
            "Epoch 69/100\n",
            "250/250 [==============================] - 41s 166ms/step - loss: 1.2688 - accuracy: 0.6043 - val_loss: 1.2349 - val_accuracy: 0.6098\n",
            "Epoch 70/100\n",
            "250/250 [==============================] - 41s 165ms/step - loss: 1.2569 - accuracy: 0.6029 - val_loss: 1.2573 - val_accuracy: 0.6058\n",
            "Epoch 71/100\n",
            "250/250 [==============================] - 43s 172ms/step - loss: 1.2557 - accuracy: 0.6033 - val_loss: 1.2655 - val_accuracy: 0.6024\n",
            "Epoch 72/100\n",
            "250/250 [==============================] - 41s 166ms/step - loss: 1.2536 - accuracy: 0.6053 - val_loss: 1.2364 - val_accuracy: 0.6130\n",
            "Epoch 73/100\n",
            "250/250 [==============================] - 42s 167ms/step - loss: 1.2464 - accuracy: 0.6065 - val_loss: 1.2248 - val_accuracy: 0.6160\n",
            "Epoch 74/100\n",
            "250/250 [==============================] - 43s 172ms/step - loss: 1.2565 - accuracy: 0.6111 - val_loss: 1.2361 - val_accuracy: 0.6162\n",
            "Epoch 75/100\n",
            "250/250 [==============================] - 41s 165ms/step - loss: 1.2468 - accuracy: 0.6104 - val_loss: 1.3002 - val_accuracy: 0.5836\n",
            "Epoch 76/100\n",
            "250/250 [==============================] - 42s 167ms/step - loss: 1.2422 - accuracy: 0.6079 - val_loss: 1.2331 - val_accuracy: 0.6100\n",
            "Epoch 77/100\n",
            "250/250 [==============================] - 43s 174ms/step - loss: 1.2419 - accuracy: 0.6148 - val_loss: 1.2265 - val_accuracy: 0.6134\n",
            "Epoch 78/100\n",
            "250/250 [==============================] - 42s 168ms/step - loss: 1.2341 - accuracy: 0.6105 - val_loss: 1.2128 - val_accuracy: 0.6170\n",
            "Epoch 79/100\n",
            "250/250 [==============================] - 44s 176ms/step - loss: 1.2337 - accuracy: 0.6146 - val_loss: 1.2016 - val_accuracy: 0.6230\n",
            "Epoch 80/100\n",
            "250/250 [==============================] - 41s 166ms/step - loss: 1.2249 - accuracy: 0.6177 - val_loss: 1.2082 - val_accuracy: 0.6188\n",
            "Epoch 81/100\n",
            "250/250 [==============================] - 41s 164ms/step - loss: 1.2216 - accuracy: 0.6221 - val_loss: 1.2167 - val_accuracy: 0.6180\n",
            "Epoch 82/100\n",
            "250/250 [==============================] - 43s 173ms/step - loss: 1.2254 - accuracy: 0.6141 - val_loss: 1.2292 - val_accuracy: 0.6120\n",
            "Epoch 83/100\n",
            "250/250 [==============================] - 41s 164ms/step - loss: 1.2223 - accuracy: 0.6183 - val_loss: 1.2322 - val_accuracy: 0.6138\n",
            "Epoch 84/100\n",
            "250/250 [==============================] - 41s 165ms/step - loss: 1.2159 - accuracy: 0.6170 - val_loss: 1.1963 - val_accuracy: 0.6216\n",
            "Epoch 85/100\n",
            "250/250 [==============================] - 44s 174ms/step - loss: 1.2071 - accuracy: 0.6204 - val_loss: 1.1961 - val_accuracy: 0.6210\n",
            "Epoch 86/100\n",
            "250/250 [==============================] - 41s 166ms/step - loss: 1.2043 - accuracy: 0.6237 - val_loss: 1.2001 - val_accuracy: 0.6214\n",
            "Epoch 87/100\n",
            "250/250 [==============================] - 42s 167ms/step - loss: 1.2068 - accuracy: 0.6209 - val_loss: 1.1781 - val_accuracy: 0.6298\n",
            "Epoch 88/100\n",
            "250/250 [==============================] - 44s 177ms/step - loss: 1.2027 - accuracy: 0.6214 - val_loss: 1.1857 - val_accuracy: 0.6288\n",
            "Epoch 89/100\n",
            "250/250 [==============================] - 43s 170ms/step - loss: 1.1988 - accuracy: 0.6227 - val_loss: 1.2082 - val_accuracy: 0.6186\n",
            "Epoch 90/100\n",
            "250/250 [==============================] - 42s 167ms/step - loss: 1.2018 - accuracy: 0.6208 - val_loss: 1.1757 - val_accuracy: 0.6284\n",
            "Epoch 91/100\n",
            "250/250 [==============================] - 44s 176ms/step - loss: 1.1880 - accuracy: 0.6283 - val_loss: 1.1804 - val_accuracy: 0.6290\n",
            "Epoch 92/100\n",
            "250/250 [==============================] - 42s 169ms/step - loss: 1.1885 - accuracy: 0.6275 - val_loss: 1.1793 - val_accuracy: 0.6252\n",
            "Epoch 93/100\n",
            "250/250 [==============================] - 43s 174ms/step - loss: 1.1924 - accuracy: 0.6255 - val_loss: 1.1765 - val_accuracy: 0.6246\n",
            "Epoch 94/100\n",
            "250/250 [==============================] - 42s 169ms/step - loss: 1.1857 - accuracy: 0.6281 - val_loss: 1.1863 - val_accuracy: 0.6220\n",
            "Epoch 95/100\n",
            "250/250 [==============================] - 42s 168ms/step - loss: 1.1828 - accuracy: 0.6273 - val_loss: 1.1690 - val_accuracy: 0.6278\n",
            "Epoch 96/100\n",
            "250/250 [==============================] - 44s 176ms/step - loss: 1.1859 - accuracy: 0.6270 - val_loss: 1.1677 - val_accuracy: 0.6290\n",
            "Epoch 97/100\n",
            "250/250 [==============================] - 43s 171ms/step - loss: 1.1778 - accuracy: 0.6291 - val_loss: 1.1727 - val_accuracy: 0.6236\n",
            "Epoch 98/100\n",
            "250/250 [==============================] - 43s 174ms/step - loss: 1.1724 - accuracy: 0.6296 - val_loss: 1.1735 - val_accuracy: 0.6296\n",
            "Epoch 99/100\n",
            "250/250 [==============================] - 45s 182ms/step - loss: 1.1630 - accuracy: 0.6344 - val_loss: 1.1579 - val_accuracy: 0.6348\n",
            "Epoch 100/100\n",
            "250/250 [==============================] - 42s 169ms/step - loss: 1.1734 - accuracy: 0.6285 - val_loss: 1.1625 - val_accuracy: 0.6376\n"
          ]
        }
      ]
    },
    {
      "cell_type": "code",
      "source": [
        "target_names = pd.Categorical(df_cuisine['cuisine']).categories"
      ],
      "metadata": {
        "id": "Mww-4sjseAh9"
      },
      "execution_count": null,
      "outputs": []
    },
    {
      "cell_type": "code",
      "source": [
        "y_prob = model_cuisine.predict(X_test_glove_padded)\n",
        "y_pred = np.argmax(y_prob,axis=1)\n",
        "print(classification_report(y_test_int_cuisine,y_pred, target_names=target_names, zero_division=1))"
      ],
      "metadata": {
        "id": "kueSZDELeAh9",
        "colab": {
          "base_uri": "https://localhost:8080/"
        },
        "outputId": "9b98d945-0297-4aa1-8720-f133d6e3511e"
      },
      "execution_count": null,
      "outputs": [
        {
          "output_type": "stream",
          "name": "stdout",
          "text": [
            "              precision    recall  f1-score   support\n",
            "\n",
            "   brazilian       0.00      0.00      0.00        51\n",
            "     british       0.50      0.01      0.02        97\n",
            "cajun_creole       0.71      0.69      0.70       215\n",
            "     chinese       0.75      0.66      0.70       337\n",
            "    filipino       0.43      0.44      0.44        90\n",
            "      french       0.35      0.44      0.39       330\n",
            "       greek       0.75      0.42      0.54       154\n",
            "      indian       0.75      0.88      0.81       363\n",
            "       irish       0.36      0.06      0.10        72\n",
            "     italian       0.69      0.85      0.76      1008\n",
            "    jamaican       0.50      0.37      0.43        75\n",
            "    japanese       0.45      0.41      0.43       175\n",
            "      korean       0.53      0.47      0.50       117\n",
            "     mexican       0.80      0.89      0.84       785\n",
            "    moroccan       0.71      0.63      0.67        92\n",
            "     russian       1.00      0.00      0.00        61\n",
            " southern_us       0.54      0.58      0.56       578\n",
            "     spanish       0.45      0.39      0.42       114\n",
            "        thai       0.67      0.71      0.69       178\n",
            "  vietnamese       0.50      0.23      0.32       108\n",
            "\n",
            "    accuracy                           0.65      5000\n",
            "   macro avg       0.57      0.46      0.47      5000\n",
            "weighted avg       0.64      0.65      0.63      5000\n",
            "\n"
          ]
        }
      ]
    },
    {
      "cell_type": "code",
      "source": [
        "plt.plot(history_fine.history['loss'])\n",
        "plt.plot(history_fine.history['val_loss'])\n",
        "plt.title('model loss')\n",
        "plt.ylabel('loss')\n",
        "plt.xlabel('epoch')\n",
        "plt.legend(['training set','validation set'], loc='upper left')\n",
        "plt.savefig('figs/loss_lstm_glv.eps', format='eps')\n",
        "plt.show()"
      ],
      "metadata": {
        "id": "E-dv1MRdeAh9",
        "colab": {
          "base_uri": "https://localhost:8080/"
        },
        "outputId": "5bc74c51-4921-451a-ee0a-406e9c31e71e"
      },
      "execution_count": null,
      "outputs": [
        {
          "output_type": "stream",
          "name": "stderr",
          "text": [
            "WARNING:matplotlib.backends.backend_ps:The PostScript backend does not support transparency; partially transparent artists will be rendered opaque.\n",
            "WARNING:matplotlib.backends.backend_ps:The PostScript backend does not support transparency; partially transparent artists will be rendered opaque.\n"
          ]
        },
        {
          "output_type": "display_data",
          "data": {
            "text/plain": [
              "<Figure size 432x288 with 1 Axes>"
            ],
            "image/png": "[encoded data removed]"
          },
          "metadata": {
            "needs_background": "light"
          }
        }
      ]
    },
    {
      "cell_type": "code",
      "source": [
        "plt.plot(history_fine.history['accuracy'])\n",
        "plt.plot(history_fine.history['val_accuracy'])\n",
        "plt.title('model accuracy')\n",
        "plt.ylabel('accuracy')\n",
        "plt.xlabel('epoch')\n",
        "plt.legend(['training set','validation set'], loc='upper left')\n",
        "plt.savefig('figs/acc_lstm_glv.eps', format='eps')\n",
        "plt.show()"
      ],
      "metadata": {
        "id": "r4SA0IozeAh9",
        "colab": {
          "base_uri": "https://localhost:8080/"
        },
        "outputId": "7c215bc1-5af5-4db5-f477-3cc19208994a"
      },
      "execution_count": null,
      "outputs": [
        {
          "output_type": "stream",
          "name": "stderr",
          "text": [
            "WARNING:matplotlib.backends.backend_ps:The PostScript backend does not support transparency; partially transparent artists will be rendered opaque.\n",
            "WARNING:matplotlib.backends.backend_ps:The PostScript backend does not support transparency; partially transparent artists will be rendered opaque.\n"
          ]
        },
        {
          "output_type": "display_data",
          "data": {
            "text/plain": [
              "<Figure size 432x288 with 1 Axes>"
            ],
            "image/png": "[encoded data removed]"
          },
          "metadata": {
            "needs_background": "light"
          }
        }
      ]
    },
    {
      "cell_type": "code",
      "source": [
        "disp = ConfusionMatrixDisplay.from_predictions(y_test_int_cuisine, y_pred)\n",
        "fig = disp.ax_.get_figure()  \n",
        "fig.set_figwidth(10) \n",
        "fig.set_figheight(10)\n",
        "plt.savefig('figs/matrixconf_lstm_glv.eps', format='eps')\n",
        "plt.show()"
      ],
      "metadata": {
        "id": "bw39O7WIeAh9",
        "colab": {
          "base_uri": "https://localhost:8080/"
        },
        "outputId": "9c5280e4-b36e-411f-b02d-7895c264c285"
      },
      "execution_count": null,
      "outputs": [
        {
          "output_type": "display_data",
          "data": {
            "text/plain": [
              "<Figure size 720x720 with 2 Axes>"
            ],
            "image/png": "[encoded data removed]"
          },
          "metadata": {
            "needs_background": "light"
          }
        }
      ]
    }
  ]
}