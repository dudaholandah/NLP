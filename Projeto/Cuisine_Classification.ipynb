{
  "nbformat": 4,
  "nbformat_minor": 0,
  "metadata": {
    "colab": {
      "provenance": [],
      "collapsed_sections": [
        "WcLihi-R1K51",
        "7ykGfuKI1Qza",
        "VNAfDGAw1lC2",
        "J_mqxjOc19Hf",
        "W7JGhM5exbF3",
        "KKSQ-tNSxhf7",
        "J-FJCLP-bOqe",
        "zjnrlH62yWnQ",
        "LlVWjOrTCIF-"
      ],
      "toc_visible": true,
      "authorship_tag": "ABX9TyMXJQ5BvZwi9CEJ6slPNjRA",
      "include_colab_link": true
    },
    "kernelspec": {
      "name": "python3",
      "display_name": "Python 3"
    },
    "language_info": {
      "name": "python"
    }
  },
  "cells": [
    {
      "cell_type": "markdown",
      "metadata": {
        "id": "view-in-github",
        "colab_type": "text"
      },
      "source": [
        "<a href=\"https://colab.research.google.com/github/dudaholandah/NLP/blob/main/Projeto/Cuisine_Classification.ipynb\" target=\"_parent\"><img src=\"https://colab.research.google.com/assets/colab-badge.svg\" alt=\"Open In Colab\"/></a>"
      ]
    },
    {
      "cell_type": "markdown",
      "source": [
        "# Google Drive"
      ],
      "metadata": {
        "id": "WcLihi-R1K51"
      }
    },
    {
      "cell_type": "code",
      "execution_count": null,
      "metadata": {
        "id": "HF2bJKuw07dg"
      },
      "outputs": [],
      "source": [
        "from google.colab import drive\n",
        "drive.mount('/content/drive')"
      ]
    },
    {
      "cell_type": "code",
      "source": [
        "!cp -r '/content/drive/MyDrive/NLP-Project/cuisine-classification-ingredients' 'cuisine-classification-ingredients'"
      ],
      "metadata": {
        "id": "sFVXDnEj1ISk"
      },
      "execution_count": 2,
      "outputs": []
    },
    {
      "cell_type": "markdown",
      "source": [
        "# Imports"
      ],
      "metadata": {
        "id": "7ykGfuKI1Qza"
      }
    },
    {
      "cell_type": "code",
      "source": [
        "!pip install gensim --upgrade\n",
        "!pip install keras\n",
        "!pip install tensorflow\n",
        "!pip install keras-tuner --upgrade\n",
        "!pip install glove-python-binary"
      ],
      "metadata": {
        "id": "SwIN9CAP1Rwu"
      },
      "execution_count": null,
      "outputs": []
    },
    {
      "cell_type": "code",
      "source": [
        "#WORD2VEC\n",
        "from gensim.models import Word2Vec\n",
        "import nltk\n",
        "from tensorflow.keras.preprocessing.text import Tokenizer\n",
        "from tensorflow.keras.preprocessing.sequence import pad_sequences\n",
        "nltk.download('punkt')\n",
        "#GLOVE\n",
        "from glove import Corpus, Glove\n",
        "#Neural Network\n",
        "import keras_tuner as kt\n",
        "from tensorflow import keras\n",
        "from keras.models import Sequential\n",
        "from keras.layers import Dense,Conv1D,Embedding,GlobalMaxPooling1D,Activation,SimpleRNN,Dropout,Masking,LSTM\n",
        "from sklearn.feature_extraction.text import TfidfVectorizer\n",
        "from tensorflow.keras.optimizers import SGD\n",
        "from keras_tuner import HyperModel\n",
        "import matplotlib.pyplot as plt\n",
        "from sklearn.metrics import classification_report\n",
        "from sklearn.metrics import ConfusionMatrixDisplay\n",
        "#Data\n",
        "import json\n",
        "import os\n",
        "import pandas as pd\n",
        "import re\n",
        "import numpy as np\n",
        "from sklearn.model_selection import train_test_split\n",
        "from keras.utils.np_utils import to_categorical"
      ],
      "metadata": {
        "id": "-chQxYTs1eCT"
      },
      "execution_count": null,
      "outputs": []
    },
    {
      "cell_type": "markdown",
      "source": [
        "# Data"
      ],
      "metadata": {
        "id": "VNAfDGAw1lC2"
      }
    },
    {
      "cell_type": "markdown",
      "source": [
        "## Download"
      ],
      "metadata": {
        "id": "J_mqxjOc19Hf"
      }
    },
    {
      "cell_type": "code",
      "execution_count": 5,
      "metadata": {
        "id": "5JjYIn_kNSjR"
      },
      "outputs": [],
      "source": [
        "path = 'cuisine-classification-ingredients/train.json'\n",
        "\n",
        "with open(path, 'r') as f:\n",
        "  json_file = json.load(f)"
      ]
    },
    {
      "cell_type": "code",
      "execution_count": 6,
      "metadata": {
        "id": "Gb4Ib7JJP2ux"
      },
      "outputs": [],
      "source": [
        "df_cuisine = pd.DataFrame(json_file, columns=['id', 'cuisine', 'ingredients'])"
      ]
    },
    {
      "cell_type": "code",
      "execution_count": 7,
      "metadata": {
        "id": "YIld3-hEQEc7"
      },
      "outputs": [],
      "source": [
        "df_cuisine = df_cuisine.drop(['id'], axis=1)"
      ]
    },
    {
      "cell_type": "code",
      "source": [
        "df_cuisine = df_cuisine[:10000]"
      ],
      "metadata": {
        "id": "Q5FvHXN9NQZ-"
      },
      "execution_count": 8,
      "outputs": []
    },
    {
      "cell_type": "code",
      "source": [
        "df_cuisine.head(5)"
      ],
      "metadata": {
        "colab": {
          "base_uri": "https://localhost:8080/",
          "height": 0
        },
        "id": "pCXadN5t_c1O",
        "outputId": "77993ba6-f5b8-4130-cc9e-919cf1a9ec80"
      },
      "execution_count": 9,
      "outputs": [
        {
          "output_type": "execute_result",
          "data": {
            "text/plain": [
              "       cuisine                                        ingredients\n",
              "0        greek  [romaine lettuce, black olives, grape tomatoes...\n",
              "1  southern_us  [plain flour, ground pepper, salt, tomatoes, g...\n",
              "2     filipino  [eggs, pepper, salt, mayonaise, cooking oil, g...\n",
              "3       indian                [water, vegetable oil, wheat, salt]\n",
              "4       indian  [black pepper, shallots, cornflour, cayenne pe..."
            ],
            "text/html": [
              "\n",
              "  <div id=\"df-efaa5d82-d9a1-4f3e-bb3b-27634233ea4f\">\n",
              "    <div class=\"colab-df-container\">\n",
              "      <div>\n",
              "<style scoped>\n",
              "    .dataframe tbody tr th:only-of-type {\n",
              "        vertical-align: middle;\n",
              "    }\n",
              "\n",
              "    .dataframe tbody tr th {\n",
              "        vertical-align: top;\n",
              "    }\n",
              "\n",
              "    .dataframe thead th {\n",
              "        text-align: right;\n",
              "    }\n",
              "</style>\n",
              "<table border=\"1\" class=\"dataframe\">\n",
              "  <thead>\n",
              "    <tr style=\"text-align: right;\">\n",
              "      <th></th>\n",
              "      <th>cuisine</th>\n",
              "      <th>ingredients</th>\n",
              "    </tr>\n",
              "  </thead>\n",
              "  <tbody>\n",
              "    <tr>\n",
              "      <th>0</th>\n",
              "      <td>greek</td>\n",
              "      <td>[romaine lettuce, black olives, grape tomatoes...</td>\n",
              "    </tr>\n",
              "    <tr>\n",
              "      <th>1</th>\n",
              "      <td>southern_us</td>\n",
              "      <td>[plain flour, ground pepper, salt, tomatoes, g...</td>\n",
              "    </tr>\n",
              "    <tr>\n",
              "      <th>2</th>\n",
              "      <td>filipino</td>\n",
              "      <td>[eggs, pepper, salt, mayonaise, cooking oil, g...</td>\n",
              "    </tr>\n",
              "    <tr>\n",
              "      <th>3</th>\n",
              "      <td>indian</td>\n",
              "      <td>[water, vegetable oil, wheat, salt]</td>\n",
              "    </tr>\n",
              "    <tr>\n",
              "      <th>4</th>\n",
              "      <td>indian</td>\n",
              "      <td>[black pepper, shallots, cornflour, cayenne pe...</td>\n",
              "    </tr>\n",
              "  </tbody>\n",
              "</table>\n",
              "</div>\n",
              "      <button class=\"colab-df-convert\" onclick=\"convertToInteractive('df-efaa5d82-d9a1-4f3e-bb3b-27634233ea4f')\"\n",
              "              title=\"Convert this dataframe to an interactive table.\"\n",
              "              style=\"display:none;\">\n",
              "        \n",
              "  <svg xmlns=\"http://www.w3.org/2000/svg\" height=\"24px\"viewBox=\"0 0 24 24\"\n",
              "       width=\"24px\">\n",
              "    <path d=\"M0 0h24v24H0V0z\" fill=\"none\"/>\n",
              "    <path d=\"M18.56 5.44l.94 2.06.94-2.06 2.06-.94-2.06-.94-.94-2.06-.94 2.06-2.06.94zm-11 1L8.5 8.5l.94-2.06 2.06-.94-2.06-.94L8.5 2.5l-.94 2.06-2.06.94zm10 10l.94 2.06.94-2.06 2.06-.94-2.06-.94-.94-2.06-.94 2.06-2.06.94z\"/><path d=\"M17.41 7.96l-1.37-1.37c-.4-.4-.92-.59-1.43-.59-.52 0-1.04.2-1.43.59L10.3 9.45l-7.72 7.72c-.78.78-.78 2.05 0 2.83L4 21.41c.39.39.9.59 1.41.59.51 0 1.02-.2 1.41-.59l7.78-7.78 2.81-2.81c.8-.78.8-2.07 0-2.86zM5.41 20L4 18.59l7.72-7.72 1.47 1.35L5.41 20z\"/>\n",
              "  </svg>\n",
              "      </button>\n",
              "      \n",
              "  <style>\n",
              "    .colab-df-container {\n",
              "      display:flex;\n",
              "      flex-wrap:wrap;\n",
              "      gap: 12px;\n",
              "    }\n",
              "\n",
              "    .colab-df-convert {\n",
              "      background-color: #E8F0FE;\n",
              "      border: none;\n",
              "      border-radius: 50%;\n",
              "      cursor: pointer;\n",
              "      display: none;\n",
              "      fill: #1967D2;\n",
              "      height: 32px;\n",
              "      padding: 0 0 0 0;\n",
              "      width: 32px;\n",
              "    }\n",
              "\n",
              "    .colab-df-convert:hover {\n",
              "      background-color: #E2EBFA;\n",
              "      box-shadow: 0px 1px 2px rgba(60, 64, 67, 0.3), 0px 1px 3px 1px rgba(60, 64, 67, 0.15);\n",
              "      fill: #174EA6;\n",
              "    }\n",
              "\n",
              "    [theme=dark] .colab-df-convert {\n",
              "      background-color: #3B4455;\n",
              "      fill: #D2E3FC;\n",
              "    }\n",
              "\n",
              "    [theme=dark] .colab-df-convert:hover {\n",
              "      background-color: #434B5C;\n",
              "      box-shadow: 0px 1px 3px 1px rgba(0, 0, 0, 0.15);\n",
              "      filter: drop-shadow(0px 1px 2px rgba(0, 0, 0, 0.3));\n",
              "      fill: #FFFFFF;\n",
              "    }\n",
              "  </style>\n",
              "\n",
              "      <script>\n",
              "        const buttonEl =\n",
              "          document.querySelector('#df-efaa5d82-d9a1-4f3e-bb3b-27634233ea4f button.colab-df-convert');\n",
              "        buttonEl.style.display =\n",
              "          google.colab.kernel.accessAllowed ? 'block' : 'none';\n",
              "\n",
              "        async function convertToInteractive(key) {\n",
              "          const element = document.querySelector('#df-efaa5d82-d9a1-4f3e-bb3b-27634233ea4f');\n",
              "          const dataTable =\n",
              "            await google.colab.kernel.invokeFunction('convertToInteractive',\n",
              "                                                     [key], {});\n",
              "          if (!dataTable) return;\n",
              "\n",
              "          const docLinkHtml = 'Like what you see? Visit the ' +\n",
              "            '<a target=\"_blank\" href=https://colab.research.google.com/notebooks/data_table.ipynb>data table notebook</a>'\n",
              "            + ' to learn more about interactive tables.';\n",
              "          element.innerHTML = '';\n",
              "          dataTable['output_type'] = 'display_data';\n",
              "          await google.colab.output.renderOutput(dataTable, element);\n",
              "          const docLink = document.createElement('div');\n",
              "          docLink.innerHTML = docLinkHtml;\n",
              "          element.appendChild(docLink);\n",
              "        }\n",
              "      </script>\n",
              "    </div>\n",
              "  </div>\n",
              "  "
            ]
          },
          "metadata": {},
          "execution_count": 9
        }
      ]
    },
    {
      "cell_type": "markdown",
      "metadata": {
        "id": "J-FJCLP-bOqe"
      },
      "source": [
        "## Pre-Processing"
      ]
    },
    {
      "cell_type": "code",
      "execution_count": 10,
      "metadata": {
        "id": "MRibRNivbUE1"
      },
      "outputs": [],
      "source": [
        "def pre_processing(text):\n",
        "  new = \"\"\n",
        "  for word in text.split(','):\n",
        "    word = re.sub(r'[^\\w\\s]', '', word.lower())\n",
        "    word = re.sub(r'[0-9]+', '', word)\n",
        "    word = re.sub(r'\\boz\\b', '', word)\n",
        "    word = re.sub(r'\\ba taste of\\b', '', word)\n",
        "    new = new + word.strip() + \" \"\n",
        "\n",
        "  return new[:-1]"
      ]
    },
    {
      "cell_type": "code",
      "execution_count": 11,
      "metadata": {
        "id": "bhmVcEwdQnjh"
      },
      "outputs": [],
      "source": [
        "df_cuisine['ingredients'] = [','.join(x).strip() for x in df_cuisine['ingredients']]"
      ]
    },
    {
      "cell_type": "code",
      "execution_count": 12,
      "metadata": {
        "id": "4qc9fp0jcaDG"
      },
      "outputs": [],
      "source": [
        "df_cuisine['ingredients'] = [pre_processing(x) for x in df_cuisine['ingredients']]"
      ]
    },
    {
      "cell_type": "code",
      "source": [
        "X = df_cuisine['ingredients']\n",
        "y = df_cuisine['cuisine']\n",
        "\n",
        "# dados de teste = 20% do treinamento\n",
        "X_train_cuisine, X_test_cuisine, y_train_cuisine, y_test_cuisine = train_test_split(X, y, test_size=0.2)\n",
        "\n",
        "# dados de validacao = 50% do teste\n",
        "X_test_cuisine, X_valid_cuisine, y_test_cuisine, y_valid_cuisine = train_test_split(X, y, test_size=0.5)"
      ],
      "metadata": {
        "id": "u96xaQ5MJO2o"
      },
      "execution_count": 13,
      "outputs": []
    },
    {
      "cell_type": "code",
      "source": [
        "y_train_cuisine = pd.Categorical(y_train_cuisine)\n",
        "y_train_int_cuisine = y_train_cuisine.codes\n",
        "\n",
        "y_valid_cuisine = pd.Categorical(y_valid_cuisine)\n",
        "y_valid_int_cuisine = y_valid_cuisine.codes\n",
        "\n",
        "y_test_cuisine = pd.Categorical(y_test_cuisine)\n",
        "target_names_cuisine = y_test_cuisine.categories\n",
        "y_test_int_cuisine = y_test_cuisine.codes\n",
        "\n",
        "y_train_cuisine = to_categorical(y_train_int_cuisine)\n",
        "y_valid_cuisine = to_categorical(y_valid_int_cuisine)\n",
        "y_test_cuisine = to_categorical(y_test_int_cuisine)"
      ],
      "metadata": {
        "id": "6hNPne2f7SxN"
      },
      "execution_count": 14,
      "outputs": []
    },
    {
      "cell_type": "markdown",
      "source": [
        "# Embeddings"
      ],
      "metadata": {
        "id": "JUwu7ggfBuKk"
      }
    },
    {
      "cell_type": "code",
      "source": [
        "MAX_LENGTH = 50"
      ],
      "metadata": {
        "id": "8q6eOy_DFW1S"
      },
      "execution_count": 15,
      "outputs": []
    },
    {
      "cell_type": "markdown",
      "source": [
        "## Word2Vec"
      ],
      "metadata": {
        "id": "iPpD__hB11D2"
      }
    },
    {
      "cell_type": "code",
      "source": [
        "def create_embedding_w2v(tokenizer, model, vocab_size, embedding_dim):\n",
        "  embedding_w2v = np.zeros((vocab_size, embedding_dim))\n",
        "  for word, i in tokenizer.word_index.items():\n",
        "    if word in model.wv:\n",
        "      embedding_w2v[i] = model.wv.get_vector(word)\n",
        "    else:\n",
        "      embedding_w2v[i]=np.random.normal(0,np.sqrt(0.25), embedding_dim)\n",
        "  return embedding_w2v"
      ],
      "metadata": {
        "id": "9seXGB8U9Gd1"
      },
      "execution_count": 16,
      "outputs": []
    },
    {
      "cell_type": "code",
      "source": [
        "# Tokenizer\n",
        "tokenizer = Tokenizer()\n",
        "tokenizer.fit_on_texts(X_train_cuisine)\n",
        "vocab_size_cuisine = len(tokenizer.word_index) + 1"
      ],
      "metadata": {
        "id": "XWFgwCcVW00s"
      },
      "execution_count": 17,
      "outputs": []
    },
    {
      "cell_type": "code",
      "source": [
        "# Train Data\n",
        "encoded_w2v = tokenizer.texts_to_sequences(X_train_cuisine)\n",
        "X_train_w2v_padded = pad_sequences(encoded_w2v, maxlen=MAX_LENGTH, padding='post', truncating='post')\n",
        "\n",
        "# Valid Data\n",
        "encoded_w2v = tokenizer.texts_to_sequences(X_valid_cuisine)\n",
        "X_valid_w2v_padded = pad_sequences(encoded_w2v, maxlen=MAX_LENGTH, padding='post', truncating='post')\n",
        "\n",
        "# Test Data\n",
        "encoded_w2v = tokenizer.texts_to_sequences(X_test_cuisine)\n",
        "X_test_w2v_padded = pad_sequences(encoded_w2v, maxlen=MAX_LENGTH, padding='post', truncating='post')"
      ],
      "metadata": {
        "id": "b6PPurhP6Blz"
      },
      "execution_count": 18,
      "outputs": []
    },
    {
      "cell_type": "code",
      "source": [
        "# EMBEDDING LAYER\n",
        "\n",
        "EMBEDDING_DIM_W2V = 100\n",
        "\n",
        "sentences = [sentence.split() for sentence in X_train_cuisine]\n",
        "model_word2vec = Word2Vec(sentences, vector_size=EMBEDDING_DIM_W2V, min_count=1, window=5, sg=1,workers=4)\n",
        "\n",
        "embedding_w2v = create_embedding_w2v(tokenizer, model_word2vec, vocab_size_cuisine, EMBEDDING_DIM_W2V)"
      ],
      "metadata": {
        "id": "sOvL-7eLDrwb"
      },
      "execution_count": 19,
      "outputs": []
    },
    {
      "cell_type": "markdown",
      "source": [
        "## GloVe"
      ],
      "metadata": {
        "id": "uOfX_m_m5HQ4"
      }
    },
    {
      "cell_type": "code",
      "source": [
        "def create_embedding_glove(glove, vocab_size, embedding_dim):\n",
        "  embedding_glove = np.zeros((vocab_size, embedding_dim))\n",
        "  for i, word in enumerate(glove.dictionary):\n",
        "    embedding_glove[i+1] = glove.word_vectors[i]\n",
        "  return embedding_glove"
      ],
      "metadata": {
        "id": "ZNQQnNMUGrKU"
      },
      "execution_count": 20,
      "outputs": []
    },
    {
      "cell_type": "code",
      "source": [
        "def texts_to_sequences(df_text):\n",
        "  encoded_glove = []\n",
        "  for sentence in df_text:\n",
        "    xs = []\n",
        "    for word in sentence.split():\n",
        "      if glove.dictionary.get(word) is not None:\n",
        "        xs.append(glove.dictionary[word]+1)\n",
        "      else:\n",
        "        xs.append(0)\n",
        "    encoded_glove.append(xs)\n",
        "  return encoded_glove"
      ],
      "metadata": {
        "id": "uc6EkGgTPcIK"
      },
      "execution_count": 21,
      "outputs": []
    },
    {
      "cell_type": "code",
      "source": [
        "corpus = Corpus() \n",
        " \n",
        "sentences = [sentence.split() for sentence in X_train_cuisine]\n",
        "corpus.fit(sentences, window=10)"
      ],
      "metadata": {
        "id": "rjV8P7qfEj-g"
      },
      "execution_count": 22,
      "outputs": []
    },
    {
      "cell_type": "code",
      "source": [
        "# EMBEDDING LAYER\n",
        "\n",
        "EMBEDDING_DIM_GLV = 100\n",
        "\n",
        "glove = Glove(no_components=EMBEDDING_DIM_GLV, learning_rate=0.05)\n",
        "glove.fit(corpus.matrix, epochs=30, no_threads=2)\n",
        "glove.add_dictionary(corpus.dictionary)\n",
        "embedding_glove = create_embedding_glove(glove, vocab_size_cuisine, EMBEDDING_DIM_GLV)"
      ],
      "metadata": {
        "id": "xr9rXW2hE4oZ"
      },
      "execution_count": 23,
      "outputs": []
    },
    {
      "cell_type": "code",
      "source": [
        "# Train Data\n",
        "encoded_glove = texts_to_sequences(X_train_cuisine)\n",
        "X_train_glove_padded = pad_sequences(encoded_glove, maxlen=MAX_LENGTH, padding='post', truncating='post')\n",
        "\n",
        "# Valid Data\n",
        "encoded_glove = texts_to_sequences(X_valid_cuisine)\n",
        "X_valid_glove_padded = pad_sequences(encoded_glove, maxlen=MAX_LENGTH, padding='post', truncating='post')\n",
        "\n",
        "# Test Data\n",
        "encoded_glove = texts_to_sequences(X_test_cuisine)\n",
        "X_test_glove_padded = pad_sequences(encoded_glove, maxlen=MAX_LENGTH, padding='post', truncating='post')"
      ],
      "metadata": {
        "id": "11XjPAq3Oh7P"
      },
      "execution_count": 24,
      "outputs": []
    },
    {
      "cell_type": "markdown",
      "source": [
        "# CNN"
      ],
      "metadata": {
        "id": "HIQ72WsJ3gAx"
      }
    },
    {
      "cell_type": "code",
      "source": [
        "class CNNHyperModel(HyperModel):\n",
        "  def __init__(self, embedding_layer, output):\n",
        "    self.embedding_layer = embedding_layer\n",
        "    self.output = output\n",
        "\n",
        "  def build(self, hp):\n",
        "    model = Sequential()\n",
        "    model.add(self.embedding_layer)\n",
        "    model.add(Conv1D(filters=hp.Choice(\"conv\", [64,128,256]), kernel_size=6, strides=1, activation='relu'))\n",
        "    model.add(Dropout(0.5))\n",
        "    model.add(GlobalMaxPooling1D())\n",
        "    model.add(Dense(hp.Choice(\"dense1\", [64,128]), activation='relu'))\n",
        "    model.add(Dense(hp.Choice(\"dense2\", [32,64]), activation='relu'))\n",
        "    model.add(Dense(self.output, activation='softmax'))\n",
        "    sgd = SGD(learning_rate=0.01)\n",
        "    model.compile(loss=\"categorical_crossentropy\",optimizer=sgd,metrics=['accuracy'])\n",
        "    return model"
      ],
      "metadata": {
        "id": "E0Mz-bZ03iwE"
      },
      "execution_count": null,
      "outputs": []
    },
    {
      "cell_type": "markdown",
      "source": [
        "### WORD2VEC"
      ],
      "metadata": {
        "id": "K_Ew4Uj3IqFx"
      }
    },
    {
      "cell_type": "code",
      "source": [
        "embedding_layer = Embedding(input_dim=vocab_size_cuisine, output_dim=EMBEDDING_DIM_W2V, weights=[embedding_w2v_cuisine], input_length=MAX_LENGTH, trainable=False)"
      ],
      "metadata": {
        "id": "QMLmqm2szEo7"
      },
      "execution_count": null,
      "outputs": []
    },
    {
      "cell_type": "code",
      "source": [
        "model_CNN = CNNHyperModel(embedding_layer, 20)"
      ],
      "metadata": {
        "id": "FyEDxSA5IFwZ"
      },
      "execution_count": null,
      "outputs": []
    },
    {
      "cell_type": "code",
      "source": [
        "tuner = kt.Hyperband(\n",
        "    model_CNN,\n",
        "    objective='val_accuracy',\n",
        "    max_epochs=30,\n",
        "    hyperband_iterations=2,\n",
        "    overwrite=True)"
      ],
      "metadata": {
        "id": "ToxMDjVMxPkp"
      },
      "execution_count": null,
      "outputs": []
    },
    {
      "cell_type": "code",
      "source": [
        "tuner.search(X_train_w2v_padded,y_train_cuisine,validation_data=(X_valid_w2v_padded,y_valid_cuisine),epochs=50)"
      ],
      "metadata": {
        "colab": {
          "base_uri": "https://localhost:8080/"
        },
        "id": "oJ629II_xrHh",
        "outputId": "4bf15526-d3a7-4b7f-842b-3909dc6fa31e"
      },
      "execution_count": null,
      "outputs": [
        {
          "output_type": "stream",
          "name": "stdout",
          "text": [
            "Trial 11 Complete [00h 00m 06s]\n",
            "val_accuracy: 0.5157999992370605\n",
            "\n",
            "Best val_accuracy So Far: 0.5342000126838684\n",
            "Total elapsed time: 00h 01m 58s\n"
          ]
        }
      ]
    },
    {
      "cell_type": "code",
      "source": [
        "best_hps = tuner.get_best_hyperparameters(num_trials=1)[0]"
      ],
      "metadata": {
        "id": "9rdOfzKC1C-_"
      },
      "execution_count": null,
      "outputs": []
    },
    {
      "cell_type": "code",
      "source": [
        "model_cuisine = tuner.hypermodel.build(best_hps)"
      ],
      "metadata": {
        "id": "iE44c8wx0ncp"
      },
      "execution_count": null,
      "outputs": []
    },
    {
      "cell_type": "code",
      "source": [
        "model_cuisine.summary()"
      ],
      "metadata": {
        "colab": {
          "base_uri": "https://localhost:8080/"
        },
        "id": "D7KhTzglIRu7",
        "outputId": "71b1b39f-0827-4b26-8556-35fc0668df71"
      },
      "execution_count": null,
      "outputs": [
        {
          "output_type": "stream",
          "name": "stdout",
          "text": [
            "Model: \"sequential_1\"\n",
            "_________________________________________________________________\n",
            " Layer (type)                Output Shape              Param #   \n",
            "=================================================================\n",
            " embedding (Embedding)       (None, 50, 100)           215000    \n",
            "                                                                 \n",
            " conv1d_1 (Conv1D)           (None, 45, 256)           153856    \n",
            "                                                                 \n",
            " dropout_1 (Dropout)         (None, 45, 256)           0         \n",
            "                                                                 \n",
            " global_max_pooling1d_1 (Glo  (None, 256)              0         \n",
            " balMaxPooling1D)                                                \n",
            "                                                                 \n",
            " dense_3 (Dense)             (None, 64)                16448     \n",
            "                                                                 \n",
            " dense_4 (Dense)             (None, 32)                2080      \n",
            "                                                                 \n",
            " dense_5 (Dense)             (None, 20)                660       \n",
            "                                                                 \n",
            "=================================================================\n",
            "Total params: 388,044\n",
            "Trainable params: 173,044\n",
            "Non-trainable params: 215,000\n",
            "_________________________________________________________________\n"
          ]
        }
      ]
    },
    {
      "cell_type": "code",
      "source": [
        "history_fine = model_cuisine.fit(X_train_w2v_padded,y_train_cuisine,validation_data=(X_valid_w2v_padded,y_valid_cuisine), epochs=100) "
      ],
      "metadata": {
        "id": "eMrbo0RMIFwa",
        "colab": {
          "base_uri": "https://localhost:8080/"
        },
        "outputId": "4c8be0c9-a9d5-4e29-d07b-ca0e6e89c64a"
      },
      "execution_count": null,
      "outputs": [
        {
          "output_type": "stream",
          "name": "stdout",
          "text": [
            "Epoch 1/100\n",
            "250/250 [==============================] - 8s 30ms/step - loss: 2.5382 - accuracy: 0.2755 - val_loss: 2.4167 - val_accuracy: 0.4406\n",
            "Epoch 2/100\n",
            "250/250 [==============================] - 6s 23ms/step - loss: 1.9589 - accuracy: 0.4804 - val_loss: 2.0347 - val_accuracy: 0.5054\n",
            "Epoch 3/100\n",
            "250/250 [==============================] - 6s 23ms/step - loss: 1.6523 - accuracy: 0.5272 - val_loss: 1.8264 - val_accuracy: 0.5532\n",
            "Epoch 4/100\n",
            "250/250 [==============================] - 6s 23ms/step - loss: 1.5165 - accuracy: 0.5512 - val_loss: 1.6999 - val_accuracy: 0.5714\n",
            "Epoch 5/100\n",
            "250/250 [==============================] - 6s 23ms/step - loss: 1.4453 - accuracy: 0.5634 - val_loss: 1.6260 - val_accuracy: 0.5778\n",
            "Epoch 6/100\n",
            "250/250 [==============================] - 6s 22ms/step - loss: 1.3785 - accuracy: 0.5724 - val_loss: 1.5676 - val_accuracy: 0.5900\n",
            "Epoch 7/100\n",
            "250/250 [==============================] - 6s 22ms/step - loss: 1.3343 - accuracy: 0.5889 - val_loss: 1.5090 - val_accuracy: 0.5956\n",
            "Epoch 8/100\n",
            "250/250 [==============================] - 6s 23ms/step - loss: 1.2937 - accuracy: 0.5947 - val_loss: 1.4798 - val_accuracy: 0.6260\n",
            "Epoch 9/100\n",
            "250/250 [==============================] - 6s 23ms/step - loss: 1.2614 - accuracy: 0.6016 - val_loss: 1.4201 - val_accuracy: 0.6150\n",
            "Epoch 10/100\n",
            "250/250 [==============================] - 7s 28ms/step - loss: 1.2324 - accuracy: 0.6126 - val_loss: 1.3995 - val_accuracy: 0.6408\n",
            "Epoch 11/100\n",
            "250/250 [==============================] - 6s 26ms/step - loss: 1.2044 - accuracy: 0.6180 - val_loss: 1.3586 - val_accuracy: 0.6506\n",
            "Epoch 12/100\n",
            "250/250 [==============================] - 7s 28ms/step - loss: 1.1863 - accuracy: 0.6234 - val_loss: 1.3716 - val_accuracy: 0.6632\n",
            "Epoch 13/100\n",
            "250/250 [==============================] - 6s 25ms/step - loss: 1.1641 - accuracy: 0.6313 - val_loss: 1.3458 - val_accuracy: 0.6646\n",
            "Epoch 14/100\n",
            "250/250 [==============================] - 7s 28ms/step - loss: 1.1417 - accuracy: 0.6376 - val_loss: 1.3187 - val_accuracy: 0.6682\n",
            "Epoch 15/100\n",
            "250/250 [==============================] - 7s 28ms/step - loss: 1.1279 - accuracy: 0.6441 - val_loss: 1.3157 - val_accuracy: 0.6748\n",
            "Epoch 16/100\n",
            "250/250 [==============================] - 6s 25ms/step - loss: 1.1087 - accuracy: 0.6510 - val_loss: 1.2563 - val_accuracy: 0.6862\n",
            "Epoch 17/100\n",
            "250/250 [==============================] - 7s 26ms/step - loss: 1.0826 - accuracy: 0.6551 - val_loss: 1.2330 - val_accuracy: 0.6858\n",
            "Epoch 18/100\n",
            "250/250 [==============================] - 6s 22ms/step - loss: 1.0632 - accuracy: 0.6622 - val_loss: 1.2188 - val_accuracy: 0.7042\n",
            "Epoch 19/100\n",
            "250/250 [==============================] - 5s 22ms/step - loss: 1.0439 - accuracy: 0.6725 - val_loss: 1.1696 - val_accuracy: 0.6986\n",
            "Epoch 20/100\n",
            "250/250 [==============================] - 5s 22ms/step - loss: 1.0249 - accuracy: 0.6787 - val_loss: 1.1898 - val_accuracy: 0.7038\n",
            "Epoch 21/100\n",
            "250/250 [==============================] - 6s 22ms/step - loss: 1.0057 - accuracy: 0.6849 - val_loss: 1.1217 - val_accuracy: 0.7112\n",
            "Epoch 22/100\n",
            "250/250 [==============================] - 6s 22ms/step - loss: 0.9847 - accuracy: 0.6896 - val_loss: 1.1268 - val_accuracy: 0.7244\n",
            "Epoch 23/100\n",
            "250/250 [==============================] - 6s 22ms/step - loss: 0.9734 - accuracy: 0.6889 - val_loss: 1.0794 - val_accuracy: 0.7246\n",
            "Epoch 24/100\n",
            "250/250 [==============================] - 6s 24ms/step - loss: 0.9525 - accuracy: 0.7021 - val_loss: 1.0903 - val_accuracy: 0.7336\n",
            "Epoch 25/100\n",
            "250/250 [==============================] - 8s 31ms/step - loss: 0.9372 - accuracy: 0.7057 - val_loss: 1.0862 - val_accuracy: 0.7324\n",
            "Epoch 26/100\n",
            "250/250 [==============================] - 6s 25ms/step - loss: 0.9222 - accuracy: 0.7079 - val_loss: 1.0726 - val_accuracy: 0.7276\n",
            "Epoch 27/100\n",
            "250/250 [==============================] - 6s 22ms/step - loss: 0.9004 - accuracy: 0.7145 - val_loss: 1.0116 - val_accuracy: 0.7528\n",
            "Epoch 28/100\n",
            "250/250 [==============================] - 6s 23ms/step - loss: 0.8924 - accuracy: 0.7151 - val_loss: 1.0178 - val_accuracy: 0.7616\n",
            "Epoch 29/100\n",
            "250/250 [==============================] - 6s 22ms/step - loss: 0.8722 - accuracy: 0.7210 - val_loss: 1.1028 - val_accuracy: 0.7274\n",
            "Epoch 30/100\n",
            "250/250 [==============================] - 6s 22ms/step - loss: 0.8556 - accuracy: 0.7295 - val_loss: 0.9611 - val_accuracy: 0.7824\n",
            "Epoch 31/100\n",
            "250/250 [==============================] - 6s 23ms/step - loss: 0.8384 - accuracy: 0.7360 - val_loss: 0.9339 - val_accuracy: 0.7732\n",
            "Epoch 32/100\n",
            "250/250 [==============================] - 6s 22ms/step - loss: 0.8263 - accuracy: 0.7400 - val_loss: 0.9404 - val_accuracy: 0.7594\n",
            "Epoch 33/100\n",
            "250/250 [==============================] - 6s 22ms/step - loss: 0.8132 - accuracy: 0.7374 - val_loss: 0.9043 - val_accuracy: 0.8006\n",
            "Epoch 34/100\n",
            "250/250 [==============================] - 6s 23ms/step - loss: 0.7937 - accuracy: 0.7466 - val_loss: 0.8925 - val_accuracy: 0.8038\n",
            "Epoch 35/100\n",
            "250/250 [==============================] - 6s 22ms/step - loss: 0.7795 - accuracy: 0.7508 - val_loss: 0.8693 - val_accuracy: 0.8062\n",
            "Epoch 36/100\n",
            "250/250 [==============================] - 6s 22ms/step - loss: 0.7473 - accuracy: 0.7620 - val_loss: 0.8563 - val_accuracy: 0.8128\n",
            "Epoch 37/100\n",
            "250/250 [==============================] - 5s 22ms/step - loss: 0.7459 - accuracy: 0.7651 - val_loss: 0.8668 - val_accuracy: 0.8054\n",
            "Epoch 38/100\n",
            "250/250 [==============================] - 6s 22ms/step - loss: 0.7282 - accuracy: 0.7673 - val_loss: 0.8127 - val_accuracy: 0.8222\n",
            "Epoch 39/100\n",
            "250/250 [==============================] - 5s 22ms/step - loss: 0.7169 - accuracy: 0.7725 - val_loss: 0.7781 - val_accuracy: 0.8234\n",
            "Epoch 40/100\n",
            "250/250 [==============================] - 5s 22ms/step - loss: 0.6929 - accuracy: 0.7775 - val_loss: 0.7996 - val_accuracy: 0.8202\n",
            "Epoch 41/100\n",
            "250/250 [==============================] - 5s 22ms/step - loss: 0.6897 - accuracy: 0.7744 - val_loss: 0.7768 - val_accuracy: 0.8274\n",
            "Epoch 42/100\n",
            "250/250 [==============================] - 6s 22ms/step - loss: 0.6702 - accuracy: 0.7853 - val_loss: 0.7518 - val_accuracy: 0.8496\n",
            "Epoch 43/100\n",
            "250/250 [==============================] - 6s 22ms/step - loss: 0.6760 - accuracy: 0.7815 - val_loss: 0.7539 - val_accuracy: 0.8528\n",
            "Epoch 44/100\n",
            "250/250 [==============================] - 5s 22ms/step - loss: 0.6490 - accuracy: 0.7906 - val_loss: 0.7420 - val_accuracy: 0.8336\n",
            "Epoch 45/100\n",
            "250/250 [==============================] - 6s 23ms/step - loss: 0.6311 - accuracy: 0.8018 - val_loss: 0.6958 - val_accuracy: 0.8464\n",
            "Epoch 46/100\n",
            "250/250 [==============================] - 6s 22ms/step - loss: 0.6292 - accuracy: 0.8000 - val_loss: 0.7446 - val_accuracy: 0.8486\n",
            "Epoch 47/100\n",
            "250/250 [==============================] - 6s 22ms/step - loss: 0.6071 - accuracy: 0.8067 - val_loss: 0.6807 - val_accuracy: 0.8666\n",
            "Epoch 48/100\n",
            "250/250 [==============================] - 6s 22ms/step - loss: 0.5975 - accuracy: 0.8043 - val_loss: 0.7023 - val_accuracy: 0.8528\n",
            "Epoch 49/100\n",
            "250/250 [==============================] - 6s 22ms/step - loss: 0.5914 - accuracy: 0.8070 - val_loss: 0.7425 - val_accuracy: 0.8082\n",
            "Epoch 50/100\n",
            "250/250 [==============================] - 6s 22ms/step - loss: 0.5788 - accuracy: 0.8109 - val_loss: 0.7715 - val_accuracy: 0.8272\n",
            "Epoch 51/100\n",
            "250/250 [==============================] - 6s 22ms/step - loss: 0.5546 - accuracy: 0.8191 - val_loss: 0.6328 - val_accuracy: 0.8632\n",
            "Epoch 52/100\n",
            "250/250 [==============================] - 6s 22ms/step - loss: 0.5486 - accuracy: 0.8292 - val_loss: 0.6332 - val_accuracy: 0.8712\n",
            "Epoch 53/100\n",
            "250/250 [==============================] - 6s 22ms/step - loss: 0.5493 - accuracy: 0.8246 - val_loss: 0.6245 - val_accuracy: 0.8734\n",
            "Epoch 54/100\n",
            "250/250 [==============================] - 6s 23ms/step - loss: 0.5462 - accuracy: 0.8239 - val_loss: 0.5912 - val_accuracy: 0.8652\n",
            "Epoch 55/100\n",
            "250/250 [==============================] - 6s 22ms/step - loss: 0.5256 - accuracy: 0.8245 - val_loss: 0.5761 - val_accuracy: 0.8736\n",
            "Epoch 56/100\n",
            "250/250 [==============================] - 5s 22ms/step - loss: 0.5128 - accuracy: 0.8320 - val_loss: 0.5691 - val_accuracy: 0.8798\n",
            "Epoch 57/100\n",
            "250/250 [==============================] - 6s 22ms/step - loss: 0.5036 - accuracy: 0.8370 - val_loss: 0.6075 - val_accuracy: 0.8752\n",
            "Epoch 58/100\n",
            "250/250 [==============================] - 5s 22ms/step - loss: 0.4977 - accuracy: 0.8347 - val_loss: 0.6081 - val_accuracy: 0.8646\n",
            "Epoch 59/100\n",
            "250/250 [==============================] - 5s 22ms/step - loss: 0.4666 - accuracy: 0.8484 - val_loss: 0.5263 - val_accuracy: 0.8940\n",
            "Epoch 60/100\n",
            "250/250 [==============================] - 6s 22ms/step - loss: 0.4608 - accuracy: 0.8487 - val_loss: 0.5471 - val_accuracy: 0.8828\n",
            "Epoch 61/100\n",
            "250/250 [==============================] - 6s 22ms/step - loss: 0.4647 - accuracy: 0.8461 - val_loss: 0.5260 - val_accuracy: 0.8866\n",
            "Epoch 62/100\n",
            "250/250 [==============================] - 6s 22ms/step - loss: 0.4450 - accuracy: 0.8526 - val_loss: 0.5680 - val_accuracy: 0.8922\n",
            "Epoch 63/100\n",
            "250/250 [==============================] - 6s 22ms/step - loss: 0.4550 - accuracy: 0.8512 - val_loss: 0.5454 - val_accuracy: 0.8810\n",
            "Epoch 64/100\n",
            "250/250 [==============================] - 6s 22ms/step - loss: 0.4370 - accuracy: 0.8558 - val_loss: 0.4956 - val_accuracy: 0.9018\n",
            "Epoch 65/100\n",
            "250/250 [==============================] - 6s 22ms/step - loss: 0.4306 - accuracy: 0.8626 - val_loss: 0.4919 - val_accuracy: 0.8960\n",
            "Epoch 66/100\n",
            "250/250 [==============================] - 6s 23ms/step - loss: 0.4142 - accuracy: 0.8675 - val_loss: 0.4740 - val_accuracy: 0.9052\n",
            "Epoch 67/100\n",
            "250/250 [==============================] - 6s 23ms/step - loss: 0.4054 - accuracy: 0.8673 - val_loss: 0.4785 - val_accuracy: 0.9106\n",
            "Epoch 68/100\n",
            "250/250 [==============================] - 6s 22ms/step - loss: 0.3855 - accuracy: 0.8730 - val_loss: 0.4700 - val_accuracy: 0.9100\n",
            "Epoch 69/100\n",
            "250/250 [==============================] - 6s 22ms/step - loss: 0.3926 - accuracy: 0.8719 - val_loss: 0.4930 - val_accuracy: 0.8804\n",
            "Epoch 70/100\n",
            "250/250 [==============================] - 6s 22ms/step - loss: 0.3798 - accuracy: 0.8791 - val_loss: 0.4482 - val_accuracy: 0.9070\n",
            "Epoch 71/100\n",
            "250/250 [==============================] - 6s 22ms/step - loss: 0.3849 - accuracy: 0.8745 - val_loss: 0.4411 - val_accuracy: 0.9080\n",
            "Epoch 72/100\n",
            "250/250 [==============================] - 6s 22ms/step - loss: 0.3765 - accuracy: 0.8765 - val_loss: 0.4372 - val_accuracy: 0.9080\n",
            "Epoch 73/100\n",
            "250/250 [==============================] - 6s 23ms/step - loss: 0.3544 - accuracy: 0.8860 - val_loss: 0.4274 - val_accuracy: 0.9098\n",
            "Epoch 74/100\n",
            "250/250 [==============================] - 6s 22ms/step - loss: 0.3613 - accuracy: 0.8825 - val_loss: 0.4144 - val_accuracy: 0.9200\n",
            "Epoch 75/100\n",
            "250/250 [==============================] - 6s 23ms/step - loss: 0.3396 - accuracy: 0.8880 - val_loss: 0.4490 - val_accuracy: 0.9000\n",
            "Epoch 76/100\n",
            "250/250 [==============================] - 5s 22ms/step - loss: 0.3475 - accuracy: 0.8834 - val_loss: 0.4235 - val_accuracy: 0.9172\n",
            "Epoch 77/100\n",
            "250/250 [==============================] - 6s 22ms/step - loss: 0.3204 - accuracy: 0.8953 - val_loss: 0.4300 - val_accuracy: 0.9104\n",
            "Epoch 78/100\n",
            "250/250 [==============================] - 6s 23ms/step - loss: 0.3216 - accuracy: 0.8965 - val_loss: 0.4078 - val_accuracy: 0.9186\n",
            "Epoch 79/100\n",
            "250/250 [==============================] - 5s 22ms/step - loss: 0.3268 - accuracy: 0.8947 - val_loss: 0.4241 - val_accuracy: 0.9190\n",
            "Epoch 80/100\n",
            "250/250 [==============================] - 6s 22ms/step - loss: 0.3163 - accuracy: 0.8975 - val_loss: 0.4549 - val_accuracy: 0.8958\n",
            "Epoch 81/100\n",
            "250/250 [==============================] - 6s 23ms/step - loss: 0.3180 - accuracy: 0.8964 - val_loss: 0.3893 - val_accuracy: 0.9200\n",
            "Epoch 82/100\n",
            "250/250 [==============================] - 6s 22ms/step - loss: 0.3003 - accuracy: 0.9066 - val_loss: 0.3831 - val_accuracy: 0.9208\n",
            "Epoch 83/100\n",
            "250/250 [==============================] - 6s 23ms/step - loss: 0.3046 - accuracy: 0.9003 - val_loss: 0.3739 - val_accuracy: 0.9198\n",
            "Epoch 84/100\n",
            "250/250 [==============================] - 6s 23ms/step - loss: 0.2912 - accuracy: 0.9034 - val_loss: 0.3798 - val_accuracy: 0.9230\n",
            "Epoch 85/100\n",
            "250/250 [==============================] - 6s 23ms/step - loss: 0.2980 - accuracy: 0.8996 - val_loss: 0.3710 - val_accuracy: 0.9238\n",
            "Epoch 86/100\n",
            "250/250 [==============================] - 6s 23ms/step - loss: 0.2842 - accuracy: 0.9095 - val_loss: 0.3816 - val_accuracy: 0.9260\n",
            "Epoch 87/100\n",
            "250/250 [==============================] - 6s 22ms/step - loss: 0.2667 - accuracy: 0.9121 - val_loss: 0.3621 - val_accuracy: 0.9260\n",
            "Epoch 88/100\n",
            "250/250 [==============================] - 6s 23ms/step - loss: 0.2715 - accuracy: 0.9122 - val_loss: 0.3599 - val_accuracy: 0.9268\n",
            "Epoch 89/100\n",
            "250/250 [==============================] - 6s 23ms/step - loss: 0.2774 - accuracy: 0.9086 - val_loss: 0.3771 - val_accuracy: 0.9226\n",
            "Epoch 90/100\n",
            "250/250 [==============================] - 6s 23ms/step - loss: 0.2759 - accuracy: 0.9068 - val_loss: 0.3985 - val_accuracy: 0.9166\n",
            "Epoch 91/100\n",
            "250/250 [==============================] - 6s 23ms/step - loss: 0.2659 - accuracy: 0.9100 - val_loss: 0.3684 - val_accuracy: 0.9238\n",
            "Epoch 92/100\n",
            "250/250 [==============================] - 6s 23ms/step - loss: 0.2744 - accuracy: 0.9126 - val_loss: 0.3666 - val_accuracy: 0.9202\n",
            "Epoch 93/100\n",
            "250/250 [==============================] - 6s 23ms/step - loss: 0.2647 - accuracy: 0.9168 - val_loss: 0.3588 - val_accuracy: 0.9246\n",
            "Epoch 94/100\n",
            "250/250 [==============================] - 6s 23ms/step - loss: 0.2482 - accuracy: 0.9189 - val_loss: 0.3473 - val_accuracy: 0.9286\n",
            "Epoch 95/100\n",
            "250/250 [==============================] - 6s 23ms/step - loss: 0.2508 - accuracy: 0.9145 - val_loss: 0.3476 - val_accuracy: 0.9260\n",
            "Epoch 96/100\n",
            "250/250 [==============================] - 6s 22ms/step - loss: 0.2528 - accuracy: 0.9180 - val_loss: 0.3589 - val_accuracy: 0.9240\n",
            "Epoch 97/100\n",
            "250/250 [==============================] - 6s 23ms/step - loss: 0.2343 - accuracy: 0.9260 - val_loss: 0.3484 - val_accuracy: 0.9270\n",
            "Epoch 98/100\n",
            "250/250 [==============================] - 6s 23ms/step - loss: 0.2443 - accuracy: 0.9200 - val_loss: 0.3605 - val_accuracy: 0.9236\n",
            "Epoch 99/100\n",
            "250/250 [==============================] - 6s 23ms/step - loss: 0.2419 - accuracy: 0.9214 - val_loss: 0.3408 - val_accuracy: 0.9280\n",
            "Epoch 100/100\n",
            "250/250 [==============================] - 6s 22ms/step - loss: 0.2334 - accuracy: 0.9221 - val_loss: 0.3548 - val_accuracy: 0.9256\n"
          ]
        }
      ]
    },
    {
      "cell_type": "code",
      "source": [
        "target_names = pd.Categorical(df_cuisine['cuisine']).categories"
      ],
      "metadata": {
        "id": "U4MpTmGtNSEg"
      },
      "execution_count": null,
      "outputs": []
    },
    {
      "cell_type": "code",
      "source": [
        "y_prob = model_cuisine.predict(X_test_w2v_padded)\n",
        "y_pred = np.argmax(y_prob,axis=1)\n",
        "print(classification_report(y_test_int_cuisine,y_pred, target_names=target_names))"
      ],
      "metadata": {
        "id": "PETPLG4XfKc5",
        "colab": {
          "base_uri": "https://localhost:8080/"
        },
        "outputId": "f52cbc77-ef5d-44e3-e567-ca56296f93d1"
      },
      "execution_count": null,
      "outputs": [
        {
          "output_type": "stream",
          "name": "stdout",
          "text": [
            "              precision    recall  f1-score   support\n",
            "\n",
            "   brazilian       0.79      0.85      0.82        62\n",
            "     british       0.85      0.86      0.86        87\n",
            "cajun_creole       0.93      0.90      0.92       217\n",
            "     chinese       0.89      0.93      0.91       337\n",
            "    filipino       0.84      0.84      0.84        91\n",
            "      french       0.84      0.92      0.88       333\n",
            "       greek       0.96      0.88      0.91       152\n",
            "      indian       0.95      0.96      0.95       363\n",
            "       irish       0.89      0.84      0.86        85\n",
            "     italian       0.98      0.94      0.96       953\n",
            "    jamaican       0.89      0.89      0.89        81\n",
            "    japanese       0.92      0.88      0.90       178\n",
            "      korean       0.95      0.88      0.91       108\n",
            "     mexican       0.96      0.99      0.97       825\n",
            "    moroccan       0.95      0.83      0.89       101\n",
            "     russian       0.91      0.84      0.87        62\n",
            " southern_us       0.91      0.92      0.91       563\n",
            "     spanish       0.85      0.85      0.85       127\n",
            "        thai       0.85      0.94      0.89       178\n",
            "  vietnamese       0.91      0.84      0.87        97\n",
            "\n",
            "    accuracy                           0.92      5000\n",
            "   macro avg       0.90      0.89      0.89      5000\n",
            "weighted avg       0.92      0.92      0.92      5000\n",
            "\n"
          ]
        }
      ]
    },
    {
      "cell_type": "code",
      "source": [
        "plt.plot(history_fine.history['loss'])\n",
        "plt.plot(history_fine.history['val_loss'])\n",
        "plt.title('model loss')\n",
        "plt.ylabel('loss')\n",
        "plt.xlabel('epoch')\n",
        "plt.legend(['training set','validation set'], loc='upper left')\n",
        "plt.show()"
      ],
      "metadata": {
        "id": "sTHoxENHict8",
        "colab": {
          "base_uri": "https://localhost:8080/",
          "height": 295
        },
        "outputId": "ece16bd5-24bf-415e-e61b-0a38a48aeee9"
      },
      "execution_count": null,
      "outputs": [
        {
          "output_type": "display_data",
          "data": {
            "text/plain": [
              "<Figure size 432x288 with 1 Axes>"
            ],
            "image/png": "[encoded data removed]"
          },
          "metadata": {
            "needs_background": "light"
          }
        }
      ]
    },
    {
      "cell_type": "code",
      "source": [
        "plt.plot(history_fine.history['accuracy'])\n",
        "plt.plot(history_fine.history['val_accuracy'])\n",
        "plt.title('model accuracy')\n",
        "plt.ylabel('accuracy')\n",
        "plt.xlabel('epoch')\n",
        "plt.legend(['training set','validation set'], loc='upper left')\n",
        "plt.show()"
      ],
      "metadata": {
        "id": "KVxNIICdict9",
        "colab": {
          "base_uri": "https://localhost:8080/",
          "height": 295
        },
        "outputId": "963bcd91-1049-43b3-f74d-247f28819900"
      },
      "execution_count": null,
      "outputs": [
        {
          "output_type": "display_data",
          "data": {
            "text/plain": [
              "<Figure size 432x288 with 1 Axes>"
            ],
            "image/png": "[encoded data removed]"
          },
          "metadata": {
            "needs_background": "light"
          }
        }
      ]
    },
    {
      "cell_type": "code",
      "source": [
        "disp = ConfusionMatrixDisplay.from_predictions(y_test_int_cuisine, y_pred)\n",
        "fig = disp.ax_.get_figure()  \n",
        "fig.set_figwidth(10) \n",
        "fig.set_figheight(10)\n",
        "plt.show()"
      ],
      "metadata": {
        "colab": {
          "base_uri": "https://localhost:8080/",
          "height": 580
        },
        "id": "2MUkzXBZTdQG",
        "outputId": "dc0fd540-17be-4df7-b83e-c704df1290b4"
      },
      "execution_count": null,
      "outputs": [
        {
          "output_type": "display_data",
          "data": {
            "text/plain": [
              "<Figure size 720x720 with 2 Axes>"
            ],
            "image/png": "[encoded data removed]"
          },
          "metadata": {
            "needs_background": "light"
          }
        }
      ]
    },
    {
      "cell_type": "markdown",
      "source": [
        "### GLOVE"
      ],
      "metadata": {
        "id": "DFYNEQqpQghM"
      }
    },
    {
      "cell_type": "code",
      "source": [
        "embedding_layer = Embedding(input_dim=vocab_size_cuisine, output_dim=EMBEDDING_DIM_GLV, weights=[embedding_glove], input_length=MAX_LENGTH, trainable=False)"
      ],
      "metadata": {
        "id": "kTEZW2UFQghM"
      },
      "execution_count": null,
      "outputs": []
    },
    {
      "cell_type": "code",
      "source": [
        "model_CNN = CNNHyperModel(embedding_layer, 20)"
      ],
      "metadata": {
        "id": "e0sbiwiuQghN"
      },
      "execution_count": null,
      "outputs": []
    },
    {
      "cell_type": "code",
      "source": [
        "tuner = kt.Hyperband(\n",
        "    model_CNN,\n",
        "    objective='val_accuracy',\n",
        "    max_epochs=30,\n",
        "    hyperband_iterations=2,\n",
        "    overwrite=True)"
      ],
      "metadata": {
        "id": "1taDRaBrQghN"
      },
      "execution_count": null,
      "outputs": []
    },
    {
      "cell_type": "code",
      "source": [
        "tuner.search(X_train_glove_padded,y_train_cuisine,validation_data=(X_valid_glove_padded,y_valid_cuisine),epochs=50)"
      ],
      "metadata": {
        "colab": {
          "base_uri": "https://localhost:8080/"
        },
        "outputId": "5f2b5acc-2fa7-4f82-99d6-50cd2929931b",
        "id": "MgiVx178QghN"
      },
      "execution_count": null,
      "outputs": [
        {
          "output_type": "stream",
          "name": "stdout",
          "text": [
            "Trial 11 Complete [00h 00m 06s]\n",
            "val_accuracy: 0.4480000138282776\n",
            "\n",
            "Best val_accuracy So Far: 0.47760000824928284\n",
            "Total elapsed time: 00h 01m 46s\n"
          ]
        }
      ]
    },
    {
      "cell_type": "code",
      "source": [
        "best_hps = tuner.get_best_hyperparameters(num_trials=1)[0]"
      ],
      "metadata": {
        "id": "mzO7HtPNQghN"
      },
      "execution_count": null,
      "outputs": []
    },
    {
      "cell_type": "code",
      "source": [
        "model_cuisine = tuner.hypermodel.build(best_hps)"
      ],
      "metadata": {
        "id": "bEEaR_MfQghN"
      },
      "execution_count": null,
      "outputs": []
    },
    {
      "cell_type": "code",
      "source": [
        "model_cuisine.summary()"
      ],
      "metadata": {
        "colab": {
          "base_uri": "https://localhost:8080/"
        },
        "outputId": "c475d7b8-7133-442d-bbf8-d64962fe0b0a",
        "id": "h4jxmqQwQghN"
      },
      "execution_count": null,
      "outputs": [
        {
          "output_type": "stream",
          "name": "stdout",
          "text": [
            "Model: \"sequential_1\"\n",
            "_________________________________________________________________\n",
            " Layer (type)                Output Shape              Param #   \n",
            "=================================================================\n",
            " embedding (Embedding)       (None, 50, 100)           215000    \n",
            "                                                                 \n",
            " conv1d_1 (Conv1D)           (None, 45, 128)           76928     \n",
            "                                                                 \n",
            " dropout_1 (Dropout)         (None, 45, 128)           0         \n",
            "                                                                 \n",
            " global_max_pooling1d_1 (Glo  (None, 128)              0         \n",
            " balMaxPooling1D)                                                \n",
            "                                                                 \n",
            " dense_3 (Dense)             (None, 128)               16512     \n",
            "                                                                 \n",
            " dense_4 (Dense)             (None, 64)                8256      \n",
            "                                                                 \n",
            " dense_5 (Dense)             (None, 20)                1300      \n",
            "                                                                 \n",
            "=================================================================\n",
            "Total params: 317,996\n",
            "Trainable params: 102,996\n",
            "Non-trainable params: 215,000\n",
            "_________________________________________________________________\n"
          ]
        }
      ]
    },
    {
      "cell_type": "code",
      "source": [
        "history_fine = model_cuisine.fit(X_train_glove_padded,y_train_cuisine,validation_data=(X_valid_glove_padded,y_valid_cuisine), epochs=100) "
      ],
      "metadata": {
        "colab": {
          "base_uri": "https://localhost:8080/"
        },
        "outputId": "9985c834-eb46-4dbc-f512-09167289ee44",
        "id": "CPGhedV3QghN"
      },
      "execution_count": null,
      "outputs": [
        {
          "output_type": "stream",
          "name": "stdout",
          "text": [
            "Epoch 1/100\n",
            "250/250 [==============================] - 4s 15ms/step - loss: 2.4650 - accuracy: 0.2848 - val_loss: 2.4202 - val_accuracy: 0.4094\n",
            "Epoch 2/100\n",
            "250/250 [==============================] - 3s 13ms/step - loss: 2.0206 - accuracy: 0.4380 - val_loss: 2.1011 - val_accuracy: 0.4760\n",
            "Epoch 3/100\n",
            "250/250 [==============================] - 3s 13ms/step - loss: 1.7970 - accuracy: 0.4770 - val_loss: 1.9587 - val_accuracy: 0.4910\n",
            "Epoch 4/100\n",
            "250/250 [==============================] - 3s 14ms/step - loss: 1.6739 - accuracy: 0.5036 - val_loss: 1.8755 - val_accuracy: 0.5266\n",
            "Epoch 5/100\n",
            "250/250 [==============================] - 3s 14ms/step - loss: 1.5968 - accuracy: 0.5190 - val_loss: 1.7702 - val_accuracy: 0.5394\n",
            "Epoch 6/100\n",
            "250/250 [==============================] - 3s 14ms/step - loss: 1.5359 - accuracy: 0.5329 - val_loss: 1.7071 - val_accuracy: 0.5510\n",
            "Epoch 7/100\n",
            "250/250 [==============================] - 3s 13ms/step - loss: 1.4865 - accuracy: 0.5441 - val_loss: 1.6660 - val_accuracy: 0.5644\n",
            "Epoch 8/100\n",
            "250/250 [==============================] - 3s 14ms/step - loss: 1.4456 - accuracy: 0.5556 - val_loss: 1.6425 - val_accuracy: 0.5764\n",
            "Epoch 9/100\n",
            "250/250 [==============================] - 3s 14ms/step - loss: 1.4073 - accuracy: 0.5655 - val_loss: 1.5785 - val_accuracy: 0.5820\n",
            "Epoch 10/100\n",
            "250/250 [==============================] - 3s 13ms/step - loss: 1.3845 - accuracy: 0.5701 - val_loss: 1.5541 - val_accuracy: 0.5954\n",
            "Epoch 11/100\n",
            "250/250 [==============================] - 3s 13ms/step - loss: 1.3568 - accuracy: 0.5780 - val_loss: 1.5147 - val_accuracy: 0.6084\n",
            "Epoch 12/100\n",
            "250/250 [==============================] - 3s 13ms/step - loss: 1.3328 - accuracy: 0.5829 - val_loss: 1.4886 - val_accuracy: 0.6028\n",
            "Epoch 13/100\n",
            "250/250 [==============================] - 3s 13ms/step - loss: 1.3121 - accuracy: 0.5931 - val_loss: 1.4411 - val_accuracy: 0.6106\n",
            "Epoch 14/100\n",
            "250/250 [==============================] - 3s 14ms/step - loss: 1.2893 - accuracy: 0.5945 - val_loss: 1.4547 - val_accuracy: 0.6250\n",
            "Epoch 15/100\n",
            "250/250 [==============================] - 3s 13ms/step - loss: 1.2648 - accuracy: 0.6033 - val_loss: 1.4076 - val_accuracy: 0.6192\n",
            "Epoch 16/100\n",
            "250/250 [==============================] - 3s 13ms/step - loss: 1.2547 - accuracy: 0.6089 - val_loss: 1.4013 - val_accuracy: 0.6328\n",
            "Epoch 17/100\n",
            "250/250 [==============================] - 3s 13ms/step - loss: 1.2247 - accuracy: 0.6162 - val_loss: 1.3732 - val_accuracy: 0.6454\n",
            "Epoch 18/100\n",
            "250/250 [==============================] - 3s 13ms/step - loss: 1.2103 - accuracy: 0.6206 - val_loss: 1.3486 - val_accuracy: 0.6384\n",
            "Epoch 19/100\n",
            "250/250 [==============================] - 3s 13ms/step - loss: 1.1957 - accuracy: 0.6286 - val_loss: 1.3502 - val_accuracy: 0.6440\n",
            "Epoch 20/100\n",
            "250/250 [==============================] - 3s 13ms/step - loss: 1.1775 - accuracy: 0.6302 - val_loss: 1.3198 - val_accuracy: 0.6562\n",
            "Epoch 21/100\n",
            "250/250 [==============================] - 3s 13ms/step - loss: 1.1717 - accuracy: 0.6315 - val_loss: 1.3019 - val_accuracy: 0.6604\n",
            "Epoch 22/100\n",
            "250/250 [==============================] - 3s 13ms/step - loss: 1.1457 - accuracy: 0.6398 - val_loss: 1.2973 - val_accuracy: 0.6664\n",
            "Epoch 23/100\n",
            "250/250 [==============================] - 3s 13ms/step - loss: 1.1338 - accuracy: 0.6451 - val_loss: 1.2858 - val_accuracy: 0.6832\n",
            "Epoch 24/100\n",
            "250/250 [==============================] - 3s 14ms/step - loss: 1.1236 - accuracy: 0.6476 - val_loss: 1.2578 - val_accuracy: 0.6740\n",
            "Epoch 25/100\n",
            "250/250 [==============================] - 3s 13ms/step - loss: 1.1118 - accuracy: 0.6457 - val_loss: 1.2446 - val_accuracy: 0.6660\n",
            "Epoch 26/100\n",
            "250/250 [==============================] - 3s 13ms/step - loss: 1.0935 - accuracy: 0.6590 - val_loss: 1.2333 - val_accuracy: 0.6810\n",
            "Epoch 27/100\n",
            "250/250 [==============================] - 3s 14ms/step - loss: 1.0786 - accuracy: 0.6555 - val_loss: 1.2202 - val_accuracy: 0.6866\n",
            "Epoch 28/100\n",
            "250/250 [==============================] - 3s 14ms/step - loss: 1.0702 - accuracy: 0.6644 - val_loss: 1.1822 - val_accuracy: 0.6836\n",
            "Epoch 29/100\n",
            "250/250 [==============================] - 3s 14ms/step - loss: 1.0657 - accuracy: 0.6639 - val_loss: 1.1653 - val_accuracy: 0.7002\n",
            "Epoch 30/100\n",
            "250/250 [==============================] - 3s 14ms/step - loss: 1.0458 - accuracy: 0.6695 - val_loss: 1.1869 - val_accuracy: 0.7080\n",
            "Epoch 31/100\n",
            "250/250 [==============================] - 3s 14ms/step - loss: 1.0267 - accuracy: 0.6715 - val_loss: 1.2118 - val_accuracy: 0.6922\n",
            "Epoch 32/100\n",
            "250/250 [==============================] - 3s 14ms/step - loss: 1.0208 - accuracy: 0.6739 - val_loss: 1.1452 - val_accuracy: 0.7150\n",
            "Epoch 33/100\n",
            "250/250 [==============================] - 3s 13ms/step - loss: 1.0027 - accuracy: 0.6806 - val_loss: 1.1032 - val_accuracy: 0.7042\n",
            "Epoch 34/100\n",
            "250/250 [==============================] - 3s 14ms/step - loss: 0.9995 - accuracy: 0.6891 - val_loss: 1.1317 - val_accuracy: 0.7282\n",
            "Epoch 35/100\n",
            "250/250 [==============================] - 3s 14ms/step - loss: 0.9831 - accuracy: 0.6906 - val_loss: 1.0974 - val_accuracy: 0.7348\n",
            "Epoch 36/100\n",
            "250/250 [==============================] - 3s 14ms/step - loss: 0.9756 - accuracy: 0.6948 - val_loss: 1.0783 - val_accuracy: 0.7184\n",
            "Epoch 37/100\n",
            "250/250 [==============================] - 3s 13ms/step - loss: 0.9646 - accuracy: 0.6883 - val_loss: 1.0841 - val_accuracy: 0.7262\n",
            "Epoch 38/100\n",
            "250/250 [==============================] - 3s 13ms/step - loss: 0.9572 - accuracy: 0.6973 - val_loss: 1.0614 - val_accuracy: 0.7430\n",
            "Epoch 39/100\n",
            "250/250 [==============================] - 3s 14ms/step - loss: 0.9576 - accuracy: 0.6985 - val_loss: 1.0709 - val_accuracy: 0.7446\n",
            "Epoch 40/100\n",
            "250/250 [==============================] - 3s 14ms/step - loss: 0.9376 - accuracy: 0.7044 - val_loss: 1.0375 - val_accuracy: 0.7448\n",
            "Epoch 41/100\n",
            "250/250 [==============================] - 3s 13ms/step - loss: 0.9390 - accuracy: 0.6998 - val_loss: 1.0243 - val_accuracy: 0.7336\n",
            "Epoch 42/100\n",
            "250/250 [==============================] - 3s 13ms/step - loss: 0.9281 - accuracy: 0.7045 - val_loss: 1.0169 - val_accuracy: 0.7542\n",
            "Epoch 43/100\n",
            "250/250 [==============================] - 3s 14ms/step - loss: 0.9144 - accuracy: 0.7094 - val_loss: 1.0092 - val_accuracy: 0.7552\n",
            "Epoch 44/100\n",
            "250/250 [==============================] - 3s 14ms/step - loss: 0.9078 - accuracy: 0.7076 - val_loss: 1.0061 - val_accuracy: 0.7614\n",
            "Epoch 45/100\n",
            "250/250 [==============================] - 3s 13ms/step - loss: 0.8937 - accuracy: 0.7154 - val_loss: 1.0062 - val_accuracy: 0.7670\n",
            "Epoch 46/100\n",
            "250/250 [==============================] - 3s 13ms/step - loss: 0.8911 - accuracy: 0.7153 - val_loss: 0.9970 - val_accuracy: 0.7626\n",
            "Epoch 47/100\n",
            "250/250 [==============================] - 3s 14ms/step - loss: 0.8762 - accuracy: 0.7195 - val_loss: 0.9630 - val_accuracy: 0.7536\n",
            "Epoch 48/100\n",
            "250/250 [==============================] - 3s 14ms/step - loss: 0.8666 - accuracy: 0.7261 - val_loss: 0.9582 - val_accuracy: 0.7736\n",
            "Epoch 49/100\n",
            "250/250 [==============================] - 3s 14ms/step - loss: 0.8679 - accuracy: 0.7165 - val_loss: 0.9438 - val_accuracy: 0.7604\n",
            "Epoch 50/100\n",
            "250/250 [==============================] - 3s 14ms/step - loss: 0.8569 - accuracy: 0.7219 - val_loss: 0.9325 - val_accuracy: 0.7676\n",
            "Epoch 51/100\n",
            "250/250 [==============================] - 3s 14ms/step - loss: 0.8419 - accuracy: 0.7330 - val_loss: 0.9124 - val_accuracy: 0.7690\n",
            "Epoch 52/100\n",
            "250/250 [==============================] - 3s 13ms/step - loss: 0.8353 - accuracy: 0.7321 - val_loss: 0.9160 - val_accuracy: 0.7684\n",
            "Epoch 53/100\n",
            "250/250 [==============================] - 3s 13ms/step - loss: 0.8401 - accuracy: 0.7304 - val_loss: 0.9303 - val_accuracy: 0.7784\n",
            "Epoch 54/100\n",
            "250/250 [==============================] - 3s 14ms/step - loss: 0.8143 - accuracy: 0.7369 - val_loss: 0.9177 - val_accuracy: 0.7892\n",
            "Epoch 55/100\n",
            "250/250 [==============================] - 3s 14ms/step - loss: 0.8192 - accuracy: 0.7393 - val_loss: 0.9309 - val_accuracy: 0.7766\n",
            "Epoch 56/100\n",
            "250/250 [==============================] - 3s 13ms/step - loss: 0.8098 - accuracy: 0.7394 - val_loss: 0.9041 - val_accuracy: 0.7944\n",
            "Epoch 57/100\n",
            "250/250 [==============================] - 3s 14ms/step - loss: 0.8061 - accuracy: 0.7408 - val_loss: 0.8698 - val_accuracy: 0.7942\n",
            "Epoch 58/100\n",
            "250/250 [==============================] - 3s 14ms/step - loss: 0.7941 - accuracy: 0.7448 - val_loss: 0.8800 - val_accuracy: 0.8030\n",
            "Epoch 59/100\n",
            "250/250 [==============================] - 3s 13ms/step - loss: 0.7774 - accuracy: 0.7504 - val_loss: 0.8676 - val_accuracy: 0.7936\n",
            "Epoch 60/100\n",
            "250/250 [==============================] - 3s 13ms/step - loss: 0.7777 - accuracy: 0.7505 - val_loss: 0.8574 - val_accuracy: 0.7870\n",
            "Epoch 61/100\n",
            "250/250 [==============================] - 3s 14ms/step - loss: 0.7836 - accuracy: 0.7446 - val_loss: 0.8458 - val_accuracy: 0.7962\n",
            "Epoch 62/100\n",
            "250/250 [==============================] - 3s 13ms/step - loss: 0.7693 - accuracy: 0.7523 - val_loss: 0.8280 - val_accuracy: 0.8164\n",
            "Epoch 63/100\n",
            "250/250 [==============================] - 4s 14ms/step - loss: 0.7599 - accuracy: 0.7541 - val_loss: 0.8262 - val_accuracy: 0.7890\n",
            "Epoch 64/100\n",
            "250/250 [==============================] - 3s 13ms/step - loss: 0.7531 - accuracy: 0.7514 - val_loss: 0.8244 - val_accuracy: 0.8196\n",
            "Epoch 65/100\n",
            "250/250 [==============================] - 3s 14ms/step - loss: 0.7577 - accuracy: 0.7527 - val_loss: 0.8014 - val_accuracy: 0.8144\n",
            "Epoch 66/100\n",
            "250/250 [==============================] - 3s 14ms/step - loss: 0.7399 - accuracy: 0.7616 - val_loss: 0.8003 - val_accuracy: 0.8210\n",
            "Epoch 67/100\n",
            "250/250 [==============================] - 3s 14ms/step - loss: 0.7399 - accuracy: 0.7623 - val_loss: 0.8068 - val_accuracy: 0.8112\n",
            "Epoch 68/100\n",
            "250/250 [==============================] - 3s 14ms/step - loss: 0.7235 - accuracy: 0.7645 - val_loss: 0.7983 - val_accuracy: 0.8218\n",
            "Epoch 69/100\n",
            "250/250 [==============================] - 3s 14ms/step - loss: 0.7237 - accuracy: 0.7659 - val_loss: 0.8040 - val_accuracy: 0.8146\n",
            "Epoch 70/100\n",
            "250/250 [==============================] - 3s 14ms/step - loss: 0.7178 - accuracy: 0.7661 - val_loss: 0.7912 - val_accuracy: 0.8228\n",
            "Epoch 71/100\n",
            "250/250 [==============================] - 3s 13ms/step - loss: 0.7198 - accuracy: 0.7651 - val_loss: 0.7861 - val_accuracy: 0.8206\n",
            "Epoch 72/100\n",
            "250/250 [==============================] - 3s 14ms/step - loss: 0.7042 - accuracy: 0.7692 - val_loss: 0.7623 - val_accuracy: 0.8268\n",
            "Epoch 73/100\n",
            "250/250 [==============================] - 3s 14ms/step - loss: 0.7086 - accuracy: 0.7674 - val_loss: 0.7520 - val_accuracy: 0.8250\n",
            "Epoch 74/100\n",
            "250/250 [==============================] - 3s 13ms/step - loss: 0.6965 - accuracy: 0.7745 - val_loss: 0.7598 - val_accuracy: 0.8192\n",
            "Epoch 75/100\n",
            "250/250 [==============================] - 3s 14ms/step - loss: 0.6868 - accuracy: 0.7744 - val_loss: 0.7336 - val_accuracy: 0.8280\n",
            "Epoch 76/100\n",
            "250/250 [==============================] - 3s 14ms/step - loss: 0.6792 - accuracy: 0.7717 - val_loss: 0.7333 - val_accuracy: 0.8450\n",
            "Epoch 77/100\n",
            "250/250 [==============================] - 3s 13ms/step - loss: 0.6695 - accuracy: 0.7816 - val_loss: 0.7135 - val_accuracy: 0.8432\n",
            "Epoch 78/100\n",
            "250/250 [==============================] - 3s 14ms/step - loss: 0.6762 - accuracy: 0.7765 - val_loss: 0.8303 - val_accuracy: 0.7952\n",
            "Epoch 79/100\n",
            "250/250 [==============================] - 3s 14ms/step - loss: 0.6743 - accuracy: 0.7794 - val_loss: 0.7227 - val_accuracy: 0.8330\n",
            "Epoch 80/100\n",
            "250/250 [==============================] - 3s 14ms/step - loss: 0.6711 - accuracy: 0.7815 - val_loss: 0.7119 - val_accuracy: 0.8254\n",
            "Epoch 81/100\n",
            "250/250 [==============================] - 3s 14ms/step - loss: 0.6594 - accuracy: 0.7845 - val_loss: 0.7087 - val_accuracy: 0.8474\n",
            "Epoch 82/100\n",
            "250/250 [==============================] - 3s 13ms/step - loss: 0.6634 - accuracy: 0.7745 - val_loss: 0.7101 - val_accuracy: 0.8424\n",
            "Epoch 83/100\n",
            "250/250 [==============================] - 3s 13ms/step - loss: 0.6519 - accuracy: 0.7789 - val_loss: 0.7113 - val_accuracy: 0.8334\n",
            "Epoch 84/100\n",
            "250/250 [==============================] - 4s 16ms/step - loss: 0.6478 - accuracy: 0.7839 - val_loss: 0.6807 - val_accuracy: 0.8432\n",
            "Epoch 85/100\n",
            "250/250 [==============================] - 3s 14ms/step - loss: 0.6544 - accuracy: 0.7791 - val_loss: 0.6903 - val_accuracy: 0.8508\n",
            "Epoch 86/100\n",
            "250/250 [==============================] - 3s 13ms/step - loss: 0.6328 - accuracy: 0.7860 - val_loss: 0.6785 - val_accuracy: 0.8540\n",
            "Epoch 87/100\n",
            "250/250 [==============================] - 3s 13ms/step - loss: 0.6389 - accuracy: 0.7924 - val_loss: 0.7412 - val_accuracy: 0.8450\n",
            "Epoch 88/100\n",
            "250/250 [==============================] - 3s 14ms/step - loss: 0.6341 - accuracy: 0.7903 - val_loss: 0.6594 - val_accuracy: 0.8516\n",
            "Epoch 89/100\n",
            "250/250 [==============================] - 3s 14ms/step - loss: 0.6283 - accuracy: 0.7931 - val_loss: 0.6850 - val_accuracy: 0.8598\n",
            "Epoch 90/100\n",
            "250/250 [==============================] - 3s 13ms/step - loss: 0.6238 - accuracy: 0.7935 - val_loss: 0.6519 - val_accuracy: 0.8536\n",
            "Epoch 91/100\n",
            "250/250 [==============================] - 3s 14ms/step - loss: 0.6164 - accuracy: 0.7962 - val_loss: 0.6551 - val_accuracy: 0.8554\n",
            "Epoch 92/100\n",
            "250/250 [==============================] - 3s 14ms/step - loss: 0.5991 - accuracy: 0.8058 - val_loss: 0.6309 - val_accuracy: 0.8590\n",
            "Epoch 93/100\n",
            "250/250 [==============================] - 3s 14ms/step - loss: 0.6189 - accuracy: 0.7933 - val_loss: 0.6558 - val_accuracy: 0.8432\n",
            "Epoch 94/100\n",
            "250/250 [==============================] - 4s 14ms/step - loss: 0.5918 - accuracy: 0.8010 - val_loss: 0.6488 - val_accuracy: 0.8620\n",
            "Epoch 95/100\n",
            "250/250 [==============================] - 3s 14ms/step - loss: 0.5986 - accuracy: 0.7999 - val_loss: 0.6288 - val_accuracy: 0.8634\n",
            "Epoch 96/100\n",
            "250/250 [==============================] - 3s 13ms/step - loss: 0.5974 - accuracy: 0.7991 - val_loss: 0.6188 - val_accuracy: 0.8714\n",
            "Epoch 97/100\n",
            "250/250 [==============================] - 3s 13ms/step - loss: 0.5958 - accuracy: 0.7997 - val_loss: 0.6489 - val_accuracy: 0.8566\n",
            "Epoch 98/100\n",
            "250/250 [==============================] - 3s 14ms/step - loss: 0.5998 - accuracy: 0.8024 - val_loss: 0.6297 - val_accuracy: 0.8556\n",
            "Epoch 99/100\n",
            "250/250 [==============================] - 3s 13ms/step - loss: 0.5925 - accuracy: 0.8030 - val_loss: 0.6228 - val_accuracy: 0.8610\n",
            "Epoch 100/100\n",
            "250/250 [==============================] - 3s 14ms/step - loss: 0.5842 - accuracy: 0.8000 - val_loss: 0.6097 - val_accuracy: 0.8600\n"
          ]
        }
      ]
    },
    {
      "cell_type": "code",
      "source": [
        "target_names = pd.Categorical(df_cuisine['cuisine']).categories"
      ],
      "metadata": {
        "id": "QcMXHz3nQghN"
      },
      "execution_count": null,
      "outputs": []
    },
    {
      "cell_type": "code",
      "source": [
        "y_prob = model_cuisine.predict(X_test_glove_padded)\n",
        "y_pred = np.argmax(y_prob,axis=1)\n",
        "print(classification_report(y_test_int_cuisine,y_pred, target_names=target_names))"
      ],
      "metadata": {
        "colab": {
          "base_uri": "https://localhost:8080/"
        },
        "outputId": "15e58883-4bbb-4ca0-f4ab-58ec2c0273b9",
        "id": "X8x28HL7QghN"
      },
      "execution_count": null,
      "outputs": [
        {
          "output_type": "stream",
          "name": "stdout",
          "text": [
            "              precision    recall  f1-score   support\n",
            "\n",
            "   brazilian       0.85      0.53      0.65        62\n",
            "     british       0.78      0.60      0.68        87\n",
            "cajun_creole       0.93      0.81      0.87       217\n",
            "     chinese       0.87      0.87      0.87       337\n",
            "    filipino       0.84      0.69      0.76        91\n",
            "      french       0.71      0.84      0.77       333\n",
            "       greek       0.96      0.80      0.87       152\n",
            "      indian       0.94      0.94      0.94       363\n",
            "       irish       0.94      0.35      0.51        85\n",
            "     italian       0.92      0.92      0.92       953\n",
            "    jamaican       0.90      0.68      0.77        81\n",
            "    japanese       0.74      0.85      0.79       178\n",
            "      korean       0.94      0.78      0.85       108\n",
            "     mexican       0.95      0.95      0.95       825\n",
            "    moroccan       0.96      0.80      0.88       101\n",
            "     russian       0.75      0.61      0.67        62\n",
            " southern_us       0.70      0.92      0.79       563\n",
            "     spanish       0.92      0.72      0.81       127\n",
            "        thai       0.86      0.86      0.86       178\n",
            "  vietnamese       0.84      0.81      0.83        97\n",
            "\n",
            "    accuracy                           0.86      5000\n",
            "   macro avg       0.86      0.77      0.80      5000\n",
            "weighted avg       0.87      0.86      0.86      5000\n",
            "\n"
          ]
        }
      ]
    },
    {
      "cell_type": "code",
      "source": [
        "plt.plot(history_fine.history['loss'])\n",
        "plt.plot(history_fine.history['val_loss'])\n",
        "plt.title('model loss')\n",
        "plt.ylabel('loss')\n",
        "plt.xlabel('epoch')\n",
        "plt.legend(['training set','validation set'], loc='upper left')\n",
        "plt.show()"
      ],
      "metadata": {
        "colab": {
          "base_uri": "https://localhost:8080/",
          "height": 295
        },
        "outputId": "660ca945-7cbd-4080-d8ed-e28d90b377c7",
        "id": "BWOS_nk3QghN"
      },
      "execution_count": null,
      "outputs": [
        {
          "output_type": "display_data",
          "data": {
            "text/plain": [
              "<Figure size 432x288 with 1 Axes>"
            ],
            "image/png": "[encoded data removed]"
          },
          "metadata": {
            "needs_background": "light"
          }
        }
      ]
    },
    {
      "cell_type": "code",
      "source": [
        "plt.plot(history_fine.history['accuracy'])\n",
        "plt.plot(history_fine.history['val_accuracy'])\n",
        "plt.title('model accuracy')\n",
        "plt.ylabel('accuracy')\n",
        "plt.xlabel('epoch')\n",
        "plt.legend(['training set','validation set'], loc='upper left')\n",
        "plt.show()"
      ],
      "metadata": {
        "colab": {
          "base_uri": "https://localhost:8080/",
          "height": 295
        },
        "outputId": "6aa75dcb-691b-4a51-d8a1-78bfc7a170eb",
        "id": "l8RqrocMQghN"
      },
      "execution_count": null,
      "outputs": [
        {
          "output_type": "display_data",
          "data": {
            "text/plain": [
              "<Figure size 432x288 with 1 Axes>"
            ],
            "image/png": "[encoded data removed]"
          },
          "metadata": {
            "needs_background": "light"
          }
        }
      ]
    },
    {
      "cell_type": "code",
      "source": [
        "disp = ConfusionMatrixDisplay.from_predictions(y_test_int_cuisine, y_pred)\n",
        "fig = disp.ax_.get_figure()  \n",
        "fig.set_figwidth(10) \n",
        "fig.set_figheight(10)\n",
        "plt.show()"
      ],
      "metadata": {
        "colab": {
          "base_uri": "https://localhost:8080/",
          "height": 580
        },
        "outputId": "f647860e-ea2d-45e5-dc6f-1b5c97067999",
        "id": "d_yIiiLlQghN"
      },
      "execution_count": null,
      "outputs": [
        {
          "output_type": "display_data",
          "data": {
            "text/plain": [
              "<Figure size 720x720 with 2 Axes>"
            ],
            "image/png": "[encoded data removed]"
          },
          "metadata": {
            "needs_background": "light"
          }
        }
      ]
    },
    {
      "cell_type": "markdown",
      "source": [
        "# LSTM"
      ],
      "metadata": {
        "id": "6RhLUtYqmRHE"
      }
    },
    {
      "cell_type": "code",
      "source": [
        "from keras_tuner import HyperModel\n",
        "\n",
        "class LSTMHyperModel(HyperModel):\n",
        "  def __init__(self, embedding_layer, output):\n",
        "    self.embedding_layer = embedding_layer\n",
        "    self.output = output\n",
        "\n",
        "  def build(self, hp):\n",
        "    model = Sequential()\n",
        "    model.add(self.embedding_layer)\n",
        "    model.add(Masking(mask_value=0.0))\n",
        "    model.add(LSTM(hp.Choice(\"lstm\", [64,128,256]), return_sequences=False, dropout=0.1, recurrent_dropout=0.1))\n",
        "    model.add(Dense(hp.Choice(\"dense1\", [32,64]), activation='relu'))\n",
        "    model.add(Dropout(0.5))\n",
        "    model.add(Dense(self.output, activation='softmax'))\n",
        "    sgd = SGD(learning_rate=0.01)\n",
        "    model.compile(loss=\"categorical_crossentropy\",optimizer=sgd,metrics=['accuracy'])\n",
        "    return model"
      ],
      "metadata": {
        "id": "37iVKIoamPFS"
      },
      "execution_count": 25,
      "outputs": []
    },
    {
      "cell_type": "markdown",
      "source": [
        "### WORD2VEC"
      ],
      "metadata": {
        "id": "l7BqsyzEeAh8"
      }
    },
    {
      "cell_type": "code",
      "source": [
        "embedding_layer = Embedding(input_dim=vocab_size_cuisine, output_dim=EMBEDDING_DIM_W2V, weights=[embedding_w2v], input_length=MAX_LENGTH, trainable=False)"
      ],
      "metadata": {
        "id": "_AYT_xsQeAh8"
      },
      "execution_count": 26,
      "outputs": []
    },
    {
      "cell_type": "code",
      "source": [
        "model_LSTM = LSTMHyperModel(embedding_layer, 20)"
      ],
      "metadata": {
        "id": "2PMIPxWOeAh8"
      },
      "execution_count": 27,
      "outputs": []
    },
    {
      "cell_type": "code",
      "source": [
        "tuner = kt.Hyperband(\n",
        "    model_LSTM,\n",
        "    objective='val_accuracy',\n",
        "    max_epochs=30,\n",
        "    hyperband_iterations=2,\n",
        "    overwrite=True)"
      ],
      "metadata": {
        "id": "875ANa_yeAh8"
      },
      "execution_count": 28,
      "outputs": []
    },
    {
      "cell_type": "code",
      "source": [
        "tuner.search(X_train_w2v_padded,y_train_cuisine,validation_data=(X_valid_w2v_padded,y_valid_cuisine),epochs=50)"
      ],
      "metadata": {
        "colab": {
          "base_uri": "https://localhost:8080/"
        },
        "outputId": "facec7b3-6cd8-446a-b8e6-1a36b49825af",
        "id": "bgP9zFSweAh8"
      },
      "execution_count": 29,
      "outputs": [
        {
          "output_type": "stream",
          "name": "stdout",
          "text": [
            "Trial 6 Complete [00h 01m 07s]\n",
            "val_accuracy: 0.26260000467300415\n",
            "\n",
            "Best val_accuracy So Far: 0.3458000123500824\n",
            "Total elapsed time: 00h 10m 43s\n"
          ]
        }
      ]
    },
    {
      "cell_type": "code",
      "source": [
        "best_hps = tuner.get_best_hyperparameters(num_trials=1)[0]"
      ],
      "metadata": {
        "id": "2px-ocKDeAh8"
      },
      "execution_count": 30,
      "outputs": []
    },
    {
      "cell_type": "code",
      "source": [
        "model_cuisine = tuner.hypermodel.build(best_hps)"
      ],
      "metadata": {
        "id": "3xZAjXiReAh8"
      },
      "execution_count": 31,
      "outputs": []
    },
    {
      "cell_type": "code",
      "source": [
        "model_cuisine.summary()"
      ],
      "metadata": {
        "colab": {
          "base_uri": "https://localhost:8080/"
        },
        "id": "ECRzOu8aeAh8",
        "outputId": "4d5e77c4-1e1e-4de4-9295-3ecd0ee1c6df"
      },
      "execution_count": 32,
      "outputs": [
        {
          "output_type": "stream",
          "name": "stdout",
          "text": [
            "Model: \"sequential_1\"\n",
            "_________________________________________________________________\n",
            " Layer (type)                Output Shape              Param #   \n",
            "=================================================================\n",
            " embedding (Embedding)       (None, 50, 100)           215200    \n",
            "                                                                 \n",
            " masking_1 (Masking)         (None, 50, 100)           0         \n",
            "                                                                 \n",
            " lstm_1 (LSTM)               (None, 256)               365568    \n",
            "                                                                 \n",
            " dense_2 (Dense)             (None, 32)                8224      \n",
            "                                                                 \n",
            " dropout_1 (Dropout)         (None, 32)                0         \n",
            "                                                                 \n",
            " dense_3 (Dense)             (None, 20)                660       \n",
            "                                                                 \n",
            "=================================================================\n",
            "Total params: 589,652\n",
            "Trainable params: 374,452\n",
            "Non-trainable params: 215,200\n",
            "_________________________________________________________________\n"
          ]
        }
      ]
    },
    {
      "cell_type": "code",
      "source": [
        "history_fine = model_cuisine.fit(X_train_w2v_padded,y_train_cuisine,validation_data=(X_valid_w2v_padded,y_valid_cuisine), epochs=100) "
      ],
      "metadata": {
        "id": "TEzbj1yGeAh8",
        "colab": {
          "base_uri": "https://localhost:8080/"
        },
        "outputId": "a1b6f9db-3d51-453c-d294-090a7a3f2819"
      },
      "execution_count": 33,
      "outputs": [
        {
          "output_type": "stream",
          "name": "stdout",
          "text": [
            "Epoch 1/100\n",
            "250/250 [==============================] - 88s 344ms/step - loss: 2.7871 - accuracy: 0.1841 - val_loss: 2.6098 - val_accuracy: 0.2224\n",
            "Epoch 2/100\n",
            "250/250 [==============================] - 85s 341ms/step - loss: 2.5885 - accuracy: 0.2344 - val_loss: 2.4332 - val_accuracy: 0.2884\n",
            "Epoch 3/100\n",
            "250/250 [==============================] - 85s 341ms/step - loss: 2.3980 - accuracy: 0.3002 - val_loss: 2.2019 - val_accuracy: 0.3700\n",
            "Epoch 4/100\n",
            "250/250 [==============================] - 86s 343ms/step - loss: 2.2000 - accuracy: 0.3837 - val_loss: 1.9960 - val_accuracy: 0.4576\n",
            "Epoch 5/100\n",
            "250/250 [==============================] - 85s 342ms/step - loss: 2.0518 - accuracy: 0.4347 - val_loss: 1.8994 - val_accuracy: 0.4848\n",
            "Epoch 6/100\n",
            "250/250 [==============================] - 86s 344ms/step - loss: 1.9613 - accuracy: 0.4530 - val_loss: 1.7805 - val_accuracy: 0.4982\n",
            "Epoch 7/100\n",
            "250/250 [==============================] - 86s 343ms/step - loss: 1.8803 - accuracy: 0.4686 - val_loss: 1.6990 - val_accuracy: 0.5094\n",
            "Epoch 8/100\n",
            "250/250 [==============================] - 85s 342ms/step - loss: 1.8206 - accuracy: 0.4820 - val_loss: 1.6440 - val_accuracy: 0.5138\n",
            "Epoch 9/100\n",
            "250/250 [==============================] - 85s 342ms/step - loss: 1.7867 - accuracy: 0.4904 - val_loss: 1.6031 - val_accuracy: 0.5210\n",
            "Epoch 10/100\n",
            "250/250 [==============================] - 85s 341ms/step - loss: 1.7520 - accuracy: 0.4918 - val_loss: 1.5782 - val_accuracy: 0.5278\n",
            "Epoch 11/100\n",
            "250/250 [==============================] - 85s 340ms/step - loss: 1.7228 - accuracy: 0.4978 - val_loss: 1.5585 - val_accuracy: 0.5392\n",
            "Epoch 12/100\n",
            "250/250 [==============================] - 87s 350ms/step - loss: 1.6885 - accuracy: 0.5061 - val_loss: 1.5126 - val_accuracy: 0.5470\n",
            "Epoch 13/100\n",
            "250/250 [==============================] - 85s 340ms/step - loss: 1.6794 - accuracy: 0.5082 - val_loss: 1.5236 - val_accuracy: 0.5428\n",
            "Epoch 14/100\n",
            "250/250 [==============================] - 85s 338ms/step - loss: 1.6362 - accuracy: 0.5213 - val_loss: 1.4637 - val_accuracy: 0.5528\n",
            "Epoch 15/100\n",
            "250/250 [==============================] - 85s 342ms/step - loss: 1.6267 - accuracy: 0.5160 - val_loss: 1.4574 - val_accuracy: 0.5546\n",
            "Epoch 16/100\n",
            "250/250 [==============================] - 85s 342ms/step - loss: 1.6102 - accuracy: 0.5284 - val_loss: 1.4479 - val_accuracy: 0.5534\n",
            "Epoch 17/100\n",
            "250/250 [==============================] - 85s 340ms/step - loss: 1.5919 - accuracy: 0.5282 - val_loss: 1.4164 - val_accuracy: 0.5598\n",
            "Epoch 18/100\n",
            "250/250 [==============================] - 86s 343ms/step - loss: 1.5675 - accuracy: 0.5346 - val_loss: 1.4192 - val_accuracy: 0.5618\n",
            "Epoch 19/100\n",
            "250/250 [==============================] - 85s 340ms/step - loss: 1.5478 - accuracy: 0.5378 - val_loss: 1.3744 - val_accuracy: 0.5744\n",
            "Epoch 20/100\n",
            "250/250 [==============================] - 85s 339ms/step - loss: 1.5438 - accuracy: 0.5346 - val_loss: 1.3700 - val_accuracy: 0.5744\n",
            "Epoch 21/100\n",
            "250/250 [==============================] - 85s 340ms/step - loss: 1.5327 - accuracy: 0.5435 - val_loss: 1.3600 - val_accuracy: 0.5814\n",
            "Epoch 22/100\n",
            "250/250 [==============================] - 85s 342ms/step - loss: 1.5224 - accuracy: 0.5456 - val_loss: 1.3487 - val_accuracy: 0.5762\n",
            "Epoch 23/100\n",
            "250/250 [==============================] - 86s 346ms/step - loss: 1.5084 - accuracy: 0.5521 - val_loss: 1.3376 - val_accuracy: 0.5836\n",
            "Epoch 24/100\n",
            "250/250 [==============================] - 86s 342ms/step - loss: 1.4999 - accuracy: 0.5504 - val_loss: 1.3257 - val_accuracy: 0.5900\n",
            "Epoch 25/100\n",
            "250/250 [==============================] - 85s 339ms/step - loss: 1.4869 - accuracy: 0.5508 - val_loss: 1.3153 - val_accuracy: 0.5860\n",
            "Epoch 26/100\n",
            "250/250 [==============================] - 86s 344ms/step - loss: 1.4630 - accuracy: 0.5577 - val_loss: 1.3055 - val_accuracy: 0.5940\n",
            "Epoch 27/100\n",
            "250/250 [==============================] - 86s 344ms/step - loss: 1.4699 - accuracy: 0.5559 - val_loss: 1.2885 - val_accuracy: 0.5946\n",
            "Epoch 28/100\n",
            "250/250 [==============================] - 85s 340ms/step - loss: 1.4663 - accuracy: 0.5573 - val_loss: 1.3530 - val_accuracy: 0.5738\n",
            "Epoch 29/100\n",
            "250/250 [==============================] - 85s 339ms/step - loss: 1.4641 - accuracy: 0.5591 - val_loss: 1.3003 - val_accuracy: 0.6004\n",
            "Epoch 30/100\n",
            "250/250 [==============================] - 85s 341ms/step - loss: 1.4520 - accuracy: 0.5651 - val_loss: 1.2940 - val_accuracy: 0.5930\n",
            "Epoch 31/100\n",
            "250/250 [==============================] - 85s 339ms/step - loss: 1.4459 - accuracy: 0.5641 - val_loss: 1.2715 - val_accuracy: 0.5960\n",
            "Epoch 32/100\n",
            "250/250 [==============================] - 84s 337ms/step - loss: 1.4312 - accuracy: 0.5649 - val_loss: 1.2846 - val_accuracy: 0.5954\n",
            "Epoch 33/100\n",
            "250/250 [==============================] - 84s 337ms/step - loss: 1.4494 - accuracy: 0.5636 - val_loss: 1.2610 - val_accuracy: 0.5972\n",
            "Epoch 34/100\n",
            "250/250 [==============================] - 85s 339ms/step - loss: 1.4387 - accuracy: 0.5652 - val_loss: 1.2767 - val_accuracy: 0.5998\n",
            "Epoch 35/100\n",
            "250/250 [==============================] - 85s 339ms/step - loss: 1.4126 - accuracy: 0.5713 - val_loss: 1.2491 - val_accuracy: 0.6024\n",
            "Epoch 36/100\n",
            "250/250 [==============================] - 85s 339ms/step - loss: 1.4118 - accuracy: 0.5773 - val_loss: 1.2492 - val_accuracy: 0.6042\n",
            "Epoch 37/100\n",
            "250/250 [==============================] - 85s 339ms/step - loss: 1.3999 - accuracy: 0.5761 - val_loss: 1.2477 - val_accuracy: 0.6066\n",
            "Epoch 38/100\n",
            "250/250 [==============================] - 90s 360ms/step - loss: 1.4101 - accuracy: 0.5702 - val_loss: 1.2405 - val_accuracy: 0.6062\n",
            "Epoch 39/100\n",
            "250/250 [==============================] - 85s 340ms/step - loss: 1.3821 - accuracy: 0.5781 - val_loss: 1.2922 - val_accuracy: 0.5928\n",
            "Epoch 40/100\n",
            "250/250 [==============================] - 85s 340ms/step - loss: 1.4024 - accuracy: 0.5710 - val_loss: 1.2255 - val_accuracy: 0.6112\n",
            "Epoch 41/100\n",
            "250/250 [==============================] - 84s 338ms/step - loss: 1.3848 - accuracy: 0.5798 - val_loss: 1.2324 - val_accuracy: 0.6044\n",
            "Epoch 42/100\n",
            "250/250 [==============================] - 85s 339ms/step - loss: 1.3792 - accuracy: 0.5794 - val_loss: 1.2309 - val_accuracy: 0.6128\n",
            "Epoch 43/100\n",
            "250/250 [==============================] - 86s 345ms/step - loss: 1.3891 - accuracy: 0.5750 - val_loss: 1.2252 - val_accuracy: 0.6134\n",
            "Epoch 44/100\n",
            "250/250 [==============================] - 86s 343ms/step - loss: 1.3785 - accuracy: 0.5757 - val_loss: 1.2369 - val_accuracy: 0.6112\n",
            "Epoch 45/100\n",
            "250/250 [==============================] - 85s 339ms/step - loss: 1.3766 - accuracy: 0.5786 - val_loss: 1.2121 - val_accuracy: 0.6122\n",
            "Epoch 46/100\n",
            "250/250 [==============================] - 85s 338ms/step - loss: 1.3561 - accuracy: 0.5820 - val_loss: 1.2001 - val_accuracy: 0.6198\n",
            "Epoch 47/100\n",
            "250/250 [==============================] - 84s 338ms/step - loss: 1.3573 - accuracy: 0.5831 - val_loss: 1.2113 - val_accuracy: 0.6130\n",
            "Epoch 48/100\n",
            "250/250 [==============================] - 85s 339ms/step - loss: 1.3616 - accuracy: 0.5798 - val_loss: 1.1978 - val_accuracy: 0.6162\n",
            "Epoch 49/100\n",
            "250/250 [==============================] - 84s 337ms/step - loss: 1.3716 - accuracy: 0.5788 - val_loss: 1.2190 - val_accuracy: 0.6186\n",
            "Epoch 50/100\n",
            "250/250 [==============================] - 85s 339ms/step - loss: 1.3524 - accuracy: 0.5859 - val_loss: 1.2323 - val_accuracy: 0.6080\n",
            "Epoch 51/100\n",
            "250/250 [==============================] - 84s 337ms/step - loss: 1.3480 - accuracy: 0.5896 - val_loss: 1.1947 - val_accuracy: 0.6136\n",
            "Epoch 52/100\n",
            "250/250 [==============================] - 84s 338ms/step - loss: 1.3489 - accuracy: 0.5834 - val_loss: 1.2157 - val_accuracy: 0.6042\n",
            "Epoch 53/100\n",
            "250/250 [==============================] - 88s 352ms/step - loss: 1.3415 - accuracy: 0.5822 - val_loss: 1.1861 - val_accuracy: 0.6170\n",
            "Epoch 54/100\n",
            "250/250 [==============================] - 85s 341ms/step - loss: 1.3483 - accuracy: 0.5814 - val_loss: 1.2137 - val_accuracy: 0.6096\n",
            "Epoch 55/100\n",
            "250/250 [==============================] - 85s 342ms/step - loss: 1.3276 - accuracy: 0.5867 - val_loss: 1.1950 - val_accuracy: 0.6204\n",
            "Epoch 56/100\n",
            "250/250 [==============================] - 85s 339ms/step - loss: 1.3351 - accuracy: 0.5878 - val_loss: 1.1888 - val_accuracy: 0.6238\n",
            "Epoch 57/100\n",
            "250/250 [==============================] - 85s 341ms/step - loss: 1.3405 - accuracy: 0.5869 - val_loss: 1.1771 - val_accuracy: 0.6266\n",
            "Epoch 58/100\n",
            "250/250 [==============================] - 85s 340ms/step - loss: 1.3338 - accuracy: 0.5889 - val_loss: 1.1651 - val_accuracy: 0.6288\n",
            "Epoch 59/100\n",
            "250/250 [==============================] - 86s 343ms/step - loss: 1.3358 - accuracy: 0.5899 - val_loss: 1.1713 - val_accuracy: 0.6266\n",
            "Epoch 60/100\n",
            "250/250 [==============================] - 85s 340ms/step - loss: 1.3324 - accuracy: 0.5878 - val_loss: 1.1777 - val_accuracy: 0.6218\n",
            "Epoch 61/100\n",
            "250/250 [==============================] - 85s 339ms/step - loss: 1.3209 - accuracy: 0.5906 - val_loss: 1.1641 - val_accuracy: 0.6266\n",
            "Epoch 62/100\n",
            "250/250 [==============================] - 85s 339ms/step - loss: 1.3125 - accuracy: 0.5910 - val_loss: 1.1790 - val_accuracy: 0.6258\n",
            "Epoch 63/100\n",
            "250/250 [==============================] - 85s 340ms/step - loss: 1.3095 - accuracy: 0.5946 - val_loss: 1.1829 - val_accuracy: 0.6194\n",
            "Epoch 64/100\n",
            "250/250 [==============================] - 86s 344ms/step - loss: 1.3165 - accuracy: 0.5946 - val_loss: 1.1539 - val_accuracy: 0.6286\n",
            "Epoch 65/100\n",
            "250/250 [==============================] - 85s 339ms/step - loss: 1.3002 - accuracy: 0.5943 - val_loss: 1.1820 - val_accuracy: 0.6186\n",
            "Epoch 66/100\n",
            "250/250 [==============================] - 85s 339ms/step - loss: 1.3175 - accuracy: 0.5931 - val_loss: 1.1626 - val_accuracy: 0.6248\n",
            "Epoch 67/100\n",
            "250/250 [==============================] - 85s 339ms/step - loss: 1.3037 - accuracy: 0.5996 - val_loss: 1.1508 - val_accuracy: 0.6322\n",
            "Epoch 68/100\n",
            "250/250 [==============================] - 85s 340ms/step - loss: 1.3088 - accuracy: 0.5953 - val_loss: 1.1620 - val_accuracy: 0.6274\n",
            "Epoch 69/100\n",
            "250/250 [==============================] - 84s 338ms/step - loss: 1.2986 - accuracy: 0.5980 - val_loss: 1.1392 - val_accuracy: 0.6372\n",
            "Epoch 70/100\n",
            "250/250 [==============================] - 84s 338ms/step - loss: 1.2976 - accuracy: 0.5949 - val_loss: 1.1752 - val_accuracy: 0.6218\n",
            "Epoch 71/100\n",
            "250/250 [==============================] - 85s 339ms/step - loss: 1.3085 - accuracy: 0.5955 - val_loss: 1.1499 - val_accuracy: 0.6232\n",
            "Epoch 72/100\n",
            "250/250 [==============================] - 85s 339ms/step - loss: 1.3054 - accuracy: 0.5944 - val_loss: 1.1307 - val_accuracy: 0.6336\n",
            "Epoch 73/100\n",
            "250/250 [==============================] - 84s 338ms/step - loss: 1.2908 - accuracy: 0.6009 - val_loss: 1.1441 - val_accuracy: 0.6356\n",
            "Epoch 74/100\n",
            "250/250 [==============================] - 85s 339ms/step - loss: 1.2934 - accuracy: 0.6024 - val_loss: 1.1255 - val_accuracy: 0.6388\n",
            "Epoch 75/100\n",
            "250/250 [==============================] - 85s 339ms/step - loss: 1.2939 - accuracy: 0.6010 - val_loss: 1.1325 - val_accuracy: 0.6276\n",
            "Epoch 76/100\n",
            "250/250 [==============================] - 85s 339ms/step - loss: 1.2861 - accuracy: 0.6016 - val_loss: 1.1487 - val_accuracy: 0.6330\n",
            "Epoch 77/100\n",
            "250/250 [==============================] - 85s 339ms/step - loss: 1.2794 - accuracy: 0.5994 - val_loss: 1.1254 - val_accuracy: 0.6388\n",
            "Epoch 78/100\n",
            "250/250 [==============================] - 85s 341ms/step - loss: 1.2878 - accuracy: 0.6016 - val_loss: 1.1430 - val_accuracy: 0.6312\n",
            "Epoch 79/100\n",
            "250/250 [==============================] - 85s 338ms/step - loss: 1.2743 - accuracy: 0.6026 - val_loss: 1.1254 - val_accuracy: 0.6392\n",
            "Epoch 80/100\n",
            "250/250 [==============================] - 85s 339ms/step - loss: 1.2820 - accuracy: 0.6009 - val_loss: 1.1286 - val_accuracy: 0.6340\n",
            "Epoch 81/100\n",
            "250/250 [==============================] - 85s 341ms/step - loss: 1.2598 - accuracy: 0.6054 - val_loss: 1.1202 - val_accuracy: 0.6416\n",
            "Epoch 82/100\n",
            "250/250 [==============================] - 85s 339ms/step - loss: 1.2753 - accuracy: 0.6055 - val_loss: 1.1098 - val_accuracy: 0.6442\n",
            "Epoch 83/100\n",
            "250/250 [==============================] - 85s 338ms/step - loss: 1.2632 - accuracy: 0.6030 - val_loss: 1.1301 - val_accuracy: 0.6470\n",
            "Epoch 84/100\n",
            "250/250 [==============================] - 85s 339ms/step - loss: 1.2647 - accuracy: 0.6094 - val_loss: 1.1314 - val_accuracy: 0.6368\n",
            "Epoch 85/100\n",
            "250/250 [==============================] - 85s 342ms/step - loss: 1.2705 - accuracy: 0.6041 - val_loss: 1.1098 - val_accuracy: 0.6402\n",
            "Epoch 86/100\n",
            "250/250 [==============================] - 85s 339ms/step - loss: 1.2615 - accuracy: 0.6079 - val_loss: 1.1031 - val_accuracy: 0.6486\n",
            "Epoch 87/100\n",
            "250/250 [==============================] - 85s 339ms/step - loss: 1.2656 - accuracy: 0.6059 - val_loss: 1.0966 - val_accuracy: 0.6520\n",
            "Epoch 88/100\n",
            "250/250 [==============================] - 85s 340ms/step - loss: 1.2608 - accuracy: 0.6074 - val_loss: 1.1082 - val_accuracy: 0.6480\n",
            "Epoch 89/100\n",
            "250/250 [==============================] - 85s 339ms/step - loss: 1.2493 - accuracy: 0.6097 - val_loss: 1.1052 - val_accuracy: 0.6428\n",
            "Epoch 90/100\n",
            "250/250 [==============================] - 85s 341ms/step - loss: 1.2497 - accuracy: 0.6087 - val_loss: 1.1051 - val_accuracy: 0.6534\n",
            "Epoch 91/100\n",
            "250/250 [==============================] - 85s 340ms/step - loss: 1.2653 - accuracy: 0.6084 - val_loss: 1.0978 - val_accuracy: 0.6524\n",
            "Epoch 92/100\n",
            "250/250 [==============================] - 85s 339ms/step - loss: 1.2407 - accuracy: 0.6109 - val_loss: 1.0982 - val_accuracy: 0.6510\n",
            "Epoch 93/100\n",
            "250/250 [==============================] - 86s 345ms/step - loss: 1.2457 - accuracy: 0.6133 - val_loss: 1.0800 - val_accuracy: 0.6582\n",
            "Epoch 94/100\n",
            "250/250 [==============================] - 88s 353ms/step - loss: 1.2491 - accuracy: 0.6148 - val_loss: 1.1067 - val_accuracy: 0.6556\n",
            "Epoch 95/100\n",
            "250/250 [==============================] - 87s 349ms/step - loss: 1.2403 - accuracy: 0.6095 - val_loss: 1.0889 - val_accuracy: 0.6580\n",
            "Epoch 96/100\n",
            "250/250 [==============================] - 85s 340ms/step - loss: 1.2370 - accuracy: 0.6120 - val_loss: 1.0750 - val_accuracy: 0.6596\n",
            "Epoch 97/100\n",
            "250/250 [==============================] - 85s 340ms/step - loss: 1.2447 - accuracy: 0.6127 - val_loss: 1.0963 - val_accuracy: 0.6522\n",
            "Epoch 98/100\n",
            "250/250 [==============================] - 85s 342ms/step - loss: 1.2375 - accuracy: 0.6169 - val_loss: 1.0874 - val_accuracy: 0.6514\n",
            "Epoch 99/100\n",
            "250/250 [==============================] - 86s 343ms/step - loss: 1.2248 - accuracy: 0.6196 - val_loss: 1.0934 - val_accuracy: 0.6490\n",
            "Epoch 100/100\n",
            "250/250 [==============================] - 85s 340ms/step - loss: 1.2317 - accuracy: 0.6171 - val_loss: 1.0940 - val_accuracy: 0.6486\n"
          ]
        }
      ]
    },
    {
      "cell_type": "code",
      "source": [
        "target_names = pd.Categorical(df_cuisine['cuisine']).categories"
      ],
      "metadata": {
        "id": "o0Wg2fLmeAh8"
      },
      "execution_count": 34,
      "outputs": []
    },
    {
      "cell_type": "code",
      "source": [
        "y_prob = model_cuisine.predict(X_test_w2v_padded)\n",
        "y_pred = np.argmax(y_prob,axis=1)\n",
        "print(classification_report(y_test_int_cuisine,y_pred, target_names=target_names))"
      ],
      "metadata": {
        "id": "dgx5a3KJeAh8",
        "colab": {
          "base_uri": "https://localhost:8080/"
        },
        "outputId": "d7175fa9-6f2c-45ca-e9f3-721610237869"
      },
      "execution_count": 35,
      "outputs": [
        {
          "output_type": "stream",
          "name": "stdout",
          "text": [
            "              precision    recall  f1-score   support\n",
            "\n",
            "   brazilian       1.00      0.02      0.03        66\n",
            "     british       0.00      0.00      0.00        88\n",
            "cajun_creole       0.79      0.56      0.66       215\n",
            "     chinese       0.51      0.82      0.63       360\n",
            "    filipino       0.00      0.00      0.00        93\n",
            "      french       0.36      0.21      0.27       318\n",
            "       greek       0.53      0.61      0.57       144\n",
            "      indian       0.76      0.90      0.83       356\n",
            "       irish       0.00      0.00      0.00        78\n",
            "     italian       0.64      0.91      0.75       987\n",
            "    jamaican       0.79      0.18      0.30        60\n",
            "    japanese       0.47      0.27      0.35       168\n",
            "      korean       0.00      0.00      0.00       114\n",
            "     mexican       0.83      0.93      0.88       830\n",
            "    moroccan       0.66      0.60      0.63        86\n",
            "     russian       0.00      0.00      0.00        62\n",
            " southern_us       0.54      0.67      0.60       547\n",
            "     spanish       0.52      0.12      0.19       126\n",
            "        thai       0.61      0.82      0.70       190\n",
            "  vietnamese       0.00      0.00      0.00       112\n",
            "\n",
            "    accuracy                           0.64      5000\n",
            "   macro avg       0.45      0.38      0.37      5000\n",
            "weighted avg       0.57      0.64      0.58      5000\n",
            "\n"
          ]
        },
        {
          "output_type": "stream",
          "name": "stderr",
          "text": [
            "/usr/local/lib/python3.7/dist-packages/sklearn/metrics/_classification.py:1318: UndefinedMetricWarning: Precision and F-score are ill-defined and being set to 0.0 in labels with no predicted samples. Use `zero_division` parameter to control this behavior.\n",
            "  _warn_prf(average, modifier, msg_start, len(result))\n",
            "/usr/local/lib/python3.7/dist-packages/sklearn/metrics/_classification.py:1318: UndefinedMetricWarning: Precision and F-score are ill-defined and being set to 0.0 in labels with no predicted samples. Use `zero_division` parameter to control this behavior.\n",
            "  _warn_prf(average, modifier, msg_start, len(result))\n",
            "/usr/local/lib/python3.7/dist-packages/sklearn/metrics/_classification.py:1318: UndefinedMetricWarning: Precision and F-score are ill-defined and being set to 0.0 in labels with no predicted samples. Use `zero_division` parameter to control this behavior.\n",
            "  _warn_prf(average, modifier, msg_start, len(result))\n"
          ]
        }
      ]
    },
    {
      "cell_type": "code",
      "source": [
        "plt.plot(history_fine.history['loss'])\n",
        "plt.plot(history_fine.history['val_loss'])\n",
        "plt.title('model loss')\n",
        "plt.ylabel('loss')\n",
        "plt.xlabel('epoch')\n",
        "plt.legend(['training set','validation set'], loc='upper left')\n",
        "plt.show()"
      ],
      "metadata": {
        "id": "Hisr1gNQeAh8",
        "colab": {
          "base_uri": "https://localhost:8080/",
          "height": 295
        },
        "outputId": "4068ce17-0bcd-41f1-c232-fde88b72606e"
      },
      "execution_count": 36,
      "outputs": [
        {
          "output_type": "display_data",
          "data": {
            "text/plain": [
              "<Figure size 432x288 with 1 Axes>"
            ],
            "image/png": "[encoded data removed]"
          },
          "metadata": {
            "needs_background": "light"
          }
        }
      ]
    },
    {
      "cell_type": "code",
      "source": [
        "plt.plot(history_fine.history['accuracy'])\n",
        "plt.plot(history_fine.history['val_accuracy'])\n",
        "plt.title('model accuracy')\n",
        "plt.ylabel('accuracy')\n",
        "plt.xlabel('epoch')\n",
        "plt.legend(['training set','validation set'], loc='upper left')\n",
        "plt.show()"
      ],
      "metadata": {
        "id": "QsZaybQ9eAh8",
        "colab": {
          "base_uri": "https://localhost:8080/",
          "height": 295
        },
        "outputId": "7e175a8c-51ac-423a-d935-697bc40bfece"
      },
      "execution_count": 37,
      "outputs": [
        {
          "output_type": "display_data",
          "data": {
            "text/plain": [
              "<Figure size 432x288 with 1 Axes>"
            ],
            "image/png": "[encoded data removed]"
          },
          "metadata": {
            "needs_background": "light"
          }
        }
      ]
    },
    {
      "cell_type": "code",
      "source": [
        "disp = ConfusionMatrixDisplay.from_predictions(y_test_int_cuisine, y_pred)\n",
        "fig = disp.ax_.get_figure()  \n",
        "fig.set_figwidth(10) \n",
        "fig.set_figheight(10)\n",
        "plt.show()"
      ],
      "metadata": {
        "id": "-Er6Ps5AeAh9",
        "colab": {
          "base_uri": "https://localhost:8080/",
          "height": 580
        },
        "outputId": "d0d26713-35d7-45e4-eb76-a7a3ea30f24b"
      },
      "execution_count": 38,
      "outputs": [
        {
          "output_type": "display_data",
          "data": {
            "text/plain": [
              "<Figure size 720x720 with 2 Axes>"
            ],
            "image/png": "[encoded data removed]"
          },
          "metadata": {
            "needs_background": "light"
          }
        }
      ]
    },
    {
      "cell_type": "markdown",
      "source": [
        "### GLOVE"
      ],
      "metadata": {
        "id": "60zL_-_EeAh9"
      }
    },
    {
      "cell_type": "code",
      "source": [
        "embedding_layer = Embedding(input_dim=vocab_size_cuisine, output_dim=EMBEDDING_DIM_GLV, weights=[embedding_glove], input_length=MAX_LENGTH, trainable=False)"
      ],
      "metadata": {
        "id": "JWal6OW4eAh9"
      },
      "execution_count": 39,
      "outputs": []
    },
    {
      "cell_type": "code",
      "source": [
        "model_LSTM = LSTMHyperModel(embedding_layer, 20)"
      ],
      "metadata": {
        "id": "xQruN_HPeAh9"
      },
      "execution_count": 41,
      "outputs": []
    },
    {
      "cell_type": "code",
      "source": [
        "tuner = kt.Hyperband(\n",
        "    model_LSTM,\n",
        "    objective='val_accuracy',\n",
        "    max_epochs=30,\n",
        "    hyperband_iterations=2,\n",
        "    overwrite=True)"
      ],
      "metadata": {
        "id": "MswOErzkeAh9"
      },
      "execution_count": 42,
      "outputs": []
    },
    {
      "cell_type": "code",
      "source": [
        "tuner.search(X_train_glove_padded,y_train_cuisine,validation_data=(X_valid_glove_padded,y_valid_cuisine),epochs=50)"
      ],
      "metadata": {
        "id": "wgRwDHvheAh9",
        "colab": {
          "base_uri": "https://localhost:8080/"
        },
        "outputId": "97a36e29-8472-4173-d037-3b25a98de049"
      },
      "execution_count": 43,
      "outputs": [
        {
          "output_type": "stream",
          "name": "stdout",
          "text": [
            "Trial 6 Complete [00h 00m 44s]\n",
            "val_accuracy: 0.22380000352859497\n",
            "\n",
            "Best val_accuracy So Far: 0.2849999964237213\n",
            "Total elapsed time: 00h 10m 00s\n"
          ]
        }
      ]
    },
    {
      "cell_type": "code",
      "source": [
        "best_hps = tuner.get_best_hyperparameters(num_trials=1)[0]"
      ],
      "metadata": {
        "id": "HiopxwFSeAh9"
      },
      "execution_count": 44,
      "outputs": []
    },
    {
      "cell_type": "code",
      "source": [
        "model_cuisine = tuner.hypermodel.build(best_hps)"
      ],
      "metadata": {
        "id": "l4Zmr4dBeAh9"
      },
      "execution_count": 45,
      "outputs": []
    },
    {
      "cell_type": "code",
      "source": [
        "model_cuisine.summary()"
      ],
      "metadata": {
        "id": "l_CJBjYleAh9",
        "colab": {
          "base_uri": "https://localhost:8080/"
        },
        "outputId": "afbfe0fa-dc0b-4683-d653-8b09fcb50cd9"
      },
      "execution_count": 46,
      "outputs": [
        {
          "output_type": "stream",
          "name": "stdout",
          "text": [
            "Model: \"sequential_1\"\n",
            "_________________________________________________________________\n",
            " Layer (type)                Output Shape              Param #   \n",
            "=================================================================\n",
            " embedding (Embedding)       (None, 50, 100)           215200    \n",
            "                                                                 \n",
            " masking_1 (Masking)         (None, 50, 100)           0         \n",
            "                                                                 \n",
            " lstm_1 (LSTM)               (None, 256)               365568    \n",
            "                                                                 \n",
            " dense_2 (Dense)             (None, 32)                8224      \n",
            "                                                                 \n",
            " dropout_1 (Dropout)         (None, 32)                0         \n",
            "                                                                 \n",
            " dense_3 (Dense)             (None, 20)                660       \n",
            "                                                                 \n",
            "=================================================================\n",
            "Total params: 589,652\n",
            "Trainable params: 374,452\n",
            "Non-trainable params: 215,200\n",
            "_________________________________________________________________\n"
          ]
        }
      ]
    },
    {
      "cell_type": "code",
      "source": [
        "history_fine = model_cuisine.fit(X_train_glove_padded,y_train_cuisine,validation_data=(X_valid_glove_padded,y_valid_cuisine), epochs=100) "
      ],
      "metadata": {
        "id": "dkbq34pYeAh9",
        "colab": {
          "base_uri": "https://localhost:8080/"
        },
        "outputId": "76fbe018-0039-45db-e5a0-578e4c20c33f"
      },
      "execution_count": 47,
      "outputs": [
        {
          "output_type": "stream",
          "name": "stdout",
          "text": [
            "Epoch 1/100\n",
            "250/250 [==============================] - 88s 345ms/step - loss: 2.8760 - accuracy: 0.1829 - val_loss: 2.7335 - val_accuracy: 0.2088\n",
            "Epoch 2/100\n",
            "250/250 [==============================] - 86s 345ms/step - loss: 2.6650 - accuracy: 0.2276 - val_loss: 2.5520 - val_accuracy: 0.2728\n",
            "Epoch 3/100\n",
            "250/250 [==============================] - 85s 340ms/step - loss: 2.5215 - accuracy: 0.2739 - val_loss: 2.3892 - val_accuracy: 0.3226\n",
            "Epoch 4/100\n",
            "250/250 [==============================] - 85s 339ms/step - loss: 2.3606 - accuracy: 0.3458 - val_loss: 2.1894 - val_accuracy: 0.4372\n",
            "Epoch 5/100\n",
            "250/250 [==============================] - 85s 340ms/step - loss: 2.1881 - accuracy: 0.4001 - val_loss: 2.0112 - val_accuracy: 0.4484\n",
            "Epoch 6/100\n",
            "250/250 [==============================] - 85s 338ms/step - loss: 2.0948 - accuracy: 0.4098 - val_loss: 1.9352 - val_accuracy: 0.4504\n",
            "Epoch 7/100\n",
            "250/250 [==============================] - 85s 338ms/step - loss: 2.0110 - accuracy: 0.4301 - val_loss: 1.8461 - val_accuracy: 0.4662\n",
            "Epoch 8/100\n",
            "250/250 [==============================] - 85s 338ms/step - loss: 1.9577 - accuracy: 0.4376 - val_loss: 1.7970 - val_accuracy: 0.4750\n",
            "Epoch 9/100\n",
            "250/250 [==============================] - 85s 339ms/step - loss: 1.9214 - accuracy: 0.4459 - val_loss: 1.7761 - val_accuracy: 0.4700\n",
            "Epoch 10/100\n",
            "250/250 [==============================] - 84s 338ms/step - loss: 1.8857 - accuracy: 0.4478 - val_loss: 1.7283 - val_accuracy: 0.4800\n",
            "Epoch 11/100\n",
            "250/250 [==============================] - 85s 338ms/step - loss: 1.8491 - accuracy: 0.4593 - val_loss: 1.7239 - val_accuracy: 0.4802\n",
            "Epoch 12/100\n",
            "250/250 [==============================] - 84s 338ms/step - loss: 1.8312 - accuracy: 0.4621 - val_loss: 1.6836 - val_accuracy: 0.4926\n",
            "Epoch 13/100\n",
            "250/250 [==============================] - 86s 344ms/step - loss: 1.8109 - accuracy: 0.4640 - val_loss: 1.6705 - val_accuracy: 0.4952\n",
            "Epoch 14/100\n",
            "250/250 [==============================] - 85s 340ms/step - loss: 1.8029 - accuracy: 0.4696 - val_loss: 1.6602 - val_accuracy: 0.4956\n",
            "Epoch 15/100\n",
            "250/250 [==============================] - 85s 341ms/step - loss: 1.7829 - accuracy: 0.4757 - val_loss: 1.6480 - val_accuracy: 0.5000\n",
            "Epoch 16/100\n",
            "250/250 [==============================] - 85s 340ms/step - loss: 1.7693 - accuracy: 0.4744 - val_loss: 1.6380 - val_accuracy: 0.5084\n",
            "Epoch 17/100\n",
            "250/250 [==============================] - 87s 348ms/step - loss: 1.7503 - accuracy: 0.4854 - val_loss: 1.6180 - val_accuracy: 0.5110\n",
            "Epoch 18/100\n",
            "250/250 [==============================] - 87s 348ms/step - loss: 1.7447 - accuracy: 0.4839 - val_loss: 1.6046 - val_accuracy: 0.5174\n",
            "Epoch 19/100\n",
            "250/250 [==============================] - 87s 347ms/step - loss: 1.7363 - accuracy: 0.4874 - val_loss: 1.5976 - val_accuracy: 0.5178\n",
            "Epoch 20/100\n",
            "250/250 [==============================] - 88s 354ms/step - loss: 1.7158 - accuracy: 0.4921 - val_loss: 1.5854 - val_accuracy: 0.5212\n",
            "Epoch 21/100\n",
            "250/250 [==============================] - 87s 348ms/step - loss: 1.7071 - accuracy: 0.4954 - val_loss: 1.5686 - val_accuracy: 0.5292\n",
            "Epoch 22/100\n",
            "250/250 [==============================] - 87s 346ms/step - loss: 1.7006 - accuracy: 0.4940 - val_loss: 1.5437 - val_accuracy: 0.5402\n",
            "Epoch 23/100\n",
            "250/250 [==============================] - 87s 348ms/step - loss: 1.6770 - accuracy: 0.5067 - val_loss: 1.5366 - val_accuracy: 0.5324\n",
            "Epoch 24/100\n",
            "250/250 [==============================] - 87s 348ms/step - loss: 1.6707 - accuracy: 0.4999 - val_loss: 1.5257 - val_accuracy: 0.5382\n",
            "Epoch 25/100\n",
            "250/250 [==============================] - 87s 350ms/step - loss: 1.6511 - accuracy: 0.5063 - val_loss: 1.5111 - val_accuracy: 0.5404\n",
            "Epoch 26/100\n",
            "250/250 [==============================] - 87s 349ms/step - loss: 1.6604 - accuracy: 0.5061 - val_loss: 1.4950 - val_accuracy: 0.5436\n",
            "Epoch 27/100\n",
            "250/250 [==============================] - 89s 354ms/step - loss: 1.6372 - accuracy: 0.5066 - val_loss: 1.5009 - val_accuracy: 0.5402\n",
            "Epoch 28/100\n",
            "250/250 [==============================] - 87s 348ms/step - loss: 1.6369 - accuracy: 0.5150 - val_loss: 1.4869 - val_accuracy: 0.5394\n",
            "Epoch 29/100\n",
            "250/250 [==============================] - 87s 348ms/step - loss: 1.6186 - accuracy: 0.5142 - val_loss: 1.4764 - val_accuracy: 0.5424\n",
            "Epoch 30/100\n",
            "250/250 [==============================] - 88s 350ms/step - loss: 1.6137 - accuracy: 0.5163 - val_loss: 1.4695 - val_accuracy: 0.5486\n",
            "Epoch 31/100\n",
            "250/250 [==============================] - 87s 349ms/step - loss: 1.6064 - accuracy: 0.5180 - val_loss: 1.4690 - val_accuracy: 0.5452\n",
            "Epoch 32/100\n",
            "250/250 [==============================] - 87s 348ms/step - loss: 1.5936 - accuracy: 0.5174 - val_loss: 1.4537 - val_accuracy: 0.5504\n",
            "Epoch 33/100\n",
            "250/250 [==============================] - 87s 349ms/step - loss: 1.6016 - accuracy: 0.5195 - val_loss: 1.4476 - val_accuracy: 0.5512\n",
            "Epoch 34/100\n",
            "250/250 [==============================] - 89s 356ms/step - loss: 1.5914 - accuracy: 0.5191 - val_loss: 1.4281 - val_accuracy: 0.5608\n",
            "Epoch 35/100\n",
            "250/250 [==============================] - 88s 351ms/step - loss: 1.5852 - accuracy: 0.5224 - val_loss: 1.4257 - val_accuracy: 0.5566\n",
            "Epoch 36/100\n",
            "250/250 [==============================] - 87s 349ms/step - loss: 1.5749 - accuracy: 0.5213 - val_loss: 1.4314 - val_accuracy: 0.5524\n",
            "Epoch 37/100\n",
            "250/250 [==============================] - 87s 349ms/step - loss: 1.5724 - accuracy: 0.5249 - val_loss: 1.4195 - val_accuracy: 0.5580\n",
            "Epoch 38/100\n",
            "250/250 [==============================] - 88s 352ms/step - loss: 1.5591 - accuracy: 0.5311 - val_loss: 1.4117 - val_accuracy: 0.5632\n",
            "Epoch 39/100\n",
            "250/250 [==============================] - 87s 348ms/step - loss: 1.5547 - accuracy: 0.5320 - val_loss: 1.4099 - val_accuracy: 0.5586\n",
            "Epoch 40/100\n",
            "250/250 [==============================] - 87s 348ms/step - loss: 1.5564 - accuracy: 0.5236 - val_loss: 1.4039 - val_accuracy: 0.5628\n",
            "Epoch 41/100\n",
            "250/250 [==============================] - 87s 350ms/step - loss: 1.5534 - accuracy: 0.5307 - val_loss: 1.4019 - val_accuracy: 0.5620\n",
            "Epoch 42/100\n",
            "250/250 [==============================] - 89s 354ms/step - loss: 1.5537 - accuracy: 0.5286 - val_loss: 1.3909 - val_accuracy: 0.5648\n",
            "Epoch 43/100\n",
            "250/250 [==============================] - 87s 349ms/step - loss: 1.5444 - accuracy: 0.5326 - val_loss: 1.3899 - val_accuracy: 0.5668\n",
            "Epoch 44/100\n",
            "250/250 [==============================] - 87s 348ms/step - loss: 1.5337 - accuracy: 0.5357 - val_loss: 1.3839 - val_accuracy: 0.5694\n",
            "Epoch 45/100\n",
            "250/250 [==============================] - 87s 348ms/step - loss: 1.5295 - accuracy: 0.5360 - val_loss: 1.3814 - val_accuracy: 0.5630\n",
            "Epoch 46/100\n",
            "250/250 [==============================] - 87s 349ms/step - loss: 1.5179 - accuracy: 0.5372 - val_loss: 1.3673 - val_accuracy: 0.5686\n",
            "Epoch 47/100\n",
            "250/250 [==============================] - 87s 348ms/step - loss: 1.5306 - accuracy: 0.5366 - val_loss: 1.3709 - val_accuracy: 0.5718\n",
            "Epoch 48/100\n",
            "250/250 [==============================] - 88s 351ms/step - loss: 1.5257 - accuracy: 0.5357 - val_loss: 1.3774 - val_accuracy: 0.5698\n",
            "Epoch 49/100\n",
            "250/250 [==============================] - 87s 350ms/step - loss: 1.5182 - accuracy: 0.5389 - val_loss: 1.3858 - val_accuracy: 0.5630\n",
            "Epoch 50/100\n",
            "250/250 [==============================] - 87s 348ms/step - loss: 1.5055 - accuracy: 0.5406 - val_loss: 1.3743 - val_accuracy: 0.5656\n",
            "Epoch 51/100\n",
            "250/250 [==============================] - 87s 348ms/step - loss: 1.5103 - accuracy: 0.5434 - val_loss: 1.3621 - val_accuracy: 0.5696\n",
            "Epoch 52/100\n",
            "250/250 [==============================] - 87s 349ms/step - loss: 1.4959 - accuracy: 0.5360 - val_loss: 1.3499 - val_accuracy: 0.5722\n",
            "Epoch 53/100\n",
            "250/250 [==============================] - 87s 349ms/step - loss: 1.5037 - accuracy: 0.5384 - val_loss: 1.3515 - val_accuracy: 0.5724\n",
            "Epoch 54/100\n",
            "250/250 [==============================] - 89s 356ms/step - loss: 1.5005 - accuracy: 0.5430 - val_loss: 1.3624 - val_accuracy: 0.5662\n",
            "Epoch 55/100\n",
            "250/250 [==============================] - 88s 350ms/step - loss: 1.5013 - accuracy: 0.5390 - val_loss: 1.3575 - val_accuracy: 0.5702\n",
            "Epoch 56/100\n",
            "250/250 [==============================] - 88s 350ms/step - loss: 1.5050 - accuracy: 0.5405 - val_loss: 1.3544 - val_accuracy: 0.5754\n",
            "Epoch 57/100\n",
            "250/250 [==============================] - 92s 368ms/step - loss: 1.4965 - accuracy: 0.5458 - val_loss: 1.3539 - val_accuracy: 0.5702\n",
            "Epoch 58/100\n",
            "250/250 [==============================] - 87s 350ms/step - loss: 1.4989 - accuracy: 0.5433 - val_loss: 1.3401 - val_accuracy: 0.5734\n",
            "Epoch 59/100\n",
            "250/250 [==============================] - 88s 350ms/step - loss: 1.5007 - accuracy: 0.5450 - val_loss: 1.3473 - val_accuracy: 0.5774\n",
            "Epoch 60/100\n",
            "250/250 [==============================] - 88s 351ms/step - loss: 1.4887 - accuracy: 0.5487 - val_loss: 1.3390 - val_accuracy: 0.5746\n",
            "Epoch 61/100\n",
            "250/250 [==============================] - 89s 355ms/step - loss: 1.4880 - accuracy: 0.5437 - val_loss: 1.3303 - val_accuracy: 0.5730\n",
            "Epoch 62/100\n",
            "250/250 [==============================] - 88s 352ms/step - loss: 1.4857 - accuracy: 0.5468 - val_loss: 1.3372 - val_accuracy: 0.5758\n",
            "Epoch 63/100\n",
            "250/250 [==============================] - 89s 357ms/step - loss: 1.4802 - accuracy: 0.5466 - val_loss: 1.3390 - val_accuracy: 0.5754\n",
            "Epoch 64/100\n",
            "250/250 [==============================] - 88s 354ms/step - loss: 1.4835 - accuracy: 0.5515 - val_loss: 1.3256 - val_accuracy: 0.5766\n",
            "Epoch 65/100\n",
            "250/250 [==============================] - 87s 346ms/step - loss: 1.4815 - accuracy: 0.5404 - val_loss: 1.3201 - val_accuracy: 0.5786\n",
            "Epoch 66/100\n",
            "250/250 [==============================] - 88s 350ms/step - loss: 1.4738 - accuracy: 0.5508 - val_loss: 1.3188 - val_accuracy: 0.5808\n",
            "Epoch 67/100\n",
            "250/250 [==============================] - 87s 350ms/step - loss: 1.4624 - accuracy: 0.5521 - val_loss: 1.3371 - val_accuracy: 0.5744\n",
            "Epoch 68/100\n",
            "250/250 [==============================] - 89s 354ms/step - loss: 1.4617 - accuracy: 0.5510 - val_loss: 1.3179 - val_accuracy: 0.5794\n",
            "Epoch 69/100\n",
            "250/250 [==============================] - 87s 348ms/step - loss: 1.4697 - accuracy: 0.5506 - val_loss: 1.3282 - val_accuracy: 0.5780\n",
            "Epoch 70/100\n",
            "250/250 [==============================] - 87s 348ms/step - loss: 1.4729 - accuracy: 0.5459 - val_loss: 1.3232 - val_accuracy: 0.5768\n",
            "Epoch 71/100\n",
            "250/250 [==============================] - 87s 349ms/step - loss: 1.4597 - accuracy: 0.5544 - val_loss: 1.3236 - val_accuracy: 0.5784\n",
            "Epoch 72/100\n",
            "250/250 [==============================] - 88s 350ms/step - loss: 1.4586 - accuracy: 0.5540 - val_loss: 1.3031 - val_accuracy: 0.5868\n",
            "Epoch 73/100\n",
            "250/250 [==============================] - 90s 361ms/step - loss: 1.4560 - accuracy: 0.5554 - val_loss: 1.3049 - val_accuracy: 0.5854\n",
            "Epoch 74/100\n",
            "250/250 [==============================] - 89s 358ms/step - loss: 1.4470 - accuracy: 0.5574 - val_loss: 1.3353 - val_accuracy: 0.5690\n",
            "Epoch 75/100\n",
            "250/250 [==============================] - 89s 356ms/step - loss: 1.4519 - accuracy: 0.5544 - val_loss: 1.2949 - val_accuracy: 0.5910\n",
            "Epoch 76/100\n",
            "250/250 [==============================] - 87s 349ms/step - loss: 1.4536 - accuracy: 0.5543 - val_loss: 1.2982 - val_accuracy: 0.5844\n",
            "Epoch 77/100\n",
            "250/250 [==============================] - 88s 351ms/step - loss: 1.4446 - accuracy: 0.5530 - val_loss: 1.2943 - val_accuracy: 0.5924\n",
            "Epoch 78/100\n",
            "250/250 [==============================] - 87s 349ms/step - loss: 1.4457 - accuracy: 0.5552 - val_loss: 1.3033 - val_accuracy: 0.5858\n",
            "Epoch 79/100\n",
            "250/250 [==============================] - 87s 348ms/step - loss: 1.4416 - accuracy: 0.5543 - val_loss: 1.2923 - val_accuracy: 0.5892\n",
            "Epoch 80/100\n",
            "250/250 [==============================] - 89s 357ms/step - loss: 1.4408 - accuracy: 0.5567 - val_loss: 1.2836 - val_accuracy: 0.5900\n",
            "Epoch 81/100\n",
            "250/250 [==============================] - 87s 349ms/step - loss: 1.4345 - accuracy: 0.5544 - val_loss: 1.3086 - val_accuracy: 0.5788\n",
            "Epoch 82/100\n",
            "250/250 [==============================] - 89s 354ms/step - loss: 1.4312 - accuracy: 0.5543 - val_loss: 1.2813 - val_accuracy: 0.5906\n",
            "Epoch 83/100\n",
            "250/250 [==============================] - 88s 350ms/step - loss: 1.4370 - accuracy: 0.5551 - val_loss: 1.2969 - val_accuracy: 0.5876\n",
            "Epoch 84/100\n",
            "250/250 [==============================] - 87s 350ms/step - loss: 1.4368 - accuracy: 0.5579 - val_loss: 1.2923 - val_accuracy: 0.5910\n",
            "Epoch 85/100\n",
            "250/250 [==============================] - 88s 351ms/step - loss: 1.4300 - accuracy: 0.5592 - val_loss: 1.2777 - val_accuracy: 0.5904\n",
            "Epoch 86/100\n",
            "250/250 [==============================] - 87s 349ms/step - loss: 1.4281 - accuracy: 0.5638 - val_loss: 1.2871 - val_accuracy: 0.5886\n",
            "Epoch 87/100\n",
            "250/250 [==============================] - 87s 349ms/step - loss: 1.4215 - accuracy: 0.5617 - val_loss: 1.2816 - val_accuracy: 0.5938\n",
            "Epoch 88/100\n",
            "250/250 [==============================] - 85s 342ms/step - loss: 1.4276 - accuracy: 0.5627 - val_loss: 1.2705 - val_accuracy: 0.5996\n",
            "Epoch 89/100\n",
            "250/250 [==============================] - 86s 343ms/step - loss: 1.4243 - accuracy: 0.5614 - val_loss: 1.2745 - val_accuracy: 0.5948\n",
            "Epoch 90/100\n",
            "250/250 [==============================] - 85s 341ms/step - loss: 1.4173 - accuracy: 0.5596 - val_loss: 1.2790 - val_accuracy: 0.5938\n",
            "Epoch 91/100\n",
            "250/250 [==============================] - 85s 341ms/step - loss: 1.4074 - accuracy: 0.5654 - val_loss: 1.2741 - val_accuracy: 0.5906\n",
            "Epoch 92/100\n",
            "250/250 [==============================] - 87s 346ms/step - loss: 1.4250 - accuracy: 0.5581 - val_loss: 1.2685 - val_accuracy: 0.6002\n",
            "Epoch 93/100\n",
            "250/250 [==============================] - 86s 345ms/step - loss: 1.4208 - accuracy: 0.5640 - val_loss: 1.2728 - val_accuracy: 0.5946\n",
            "Epoch 94/100\n",
            "250/250 [==============================] - 87s 346ms/step - loss: 1.4144 - accuracy: 0.5621 - val_loss: 1.2869 - val_accuracy: 0.5836\n",
            "Epoch 95/100\n",
            "250/250 [==============================] - 86s 342ms/step - loss: 1.4147 - accuracy: 0.5623 - val_loss: 1.2585 - val_accuracy: 0.5970\n",
            "Epoch 96/100\n",
            "250/250 [==============================] - 86s 343ms/step - loss: 1.4161 - accuracy: 0.5645 - val_loss: 1.2653 - val_accuracy: 0.5962\n",
            "Epoch 97/100\n",
            "250/250 [==============================] - 85s 341ms/step - loss: 1.4062 - accuracy: 0.5640 - val_loss: 1.2533 - val_accuracy: 0.6046\n",
            "Epoch 98/100\n",
            "250/250 [==============================] - 85s 340ms/step - loss: 1.4070 - accuracy: 0.5617 - val_loss: 1.2545 - val_accuracy: 0.6006\n",
            "Epoch 99/100\n",
            "250/250 [==============================] - 86s 343ms/step - loss: 1.3982 - accuracy: 0.5709 - val_loss: 1.2606 - val_accuracy: 0.5978\n",
            "Epoch 100/100\n",
            "250/250 [==============================] - 87s 346ms/step - loss: 1.3997 - accuracy: 0.5673 - val_loss: 1.2527 - val_accuracy: 0.6012\n"
          ]
        }
      ]
    },
    {
      "cell_type": "code",
      "source": [
        "target_names = pd.Categorical(df_cuisine['cuisine']).categories"
      ],
      "metadata": {
        "id": "Mww-4sjseAh9"
      },
      "execution_count": 48,
      "outputs": []
    },
    {
      "cell_type": "code",
      "source": [
        "y_prob = model_cuisine.predict(X_test_glove_padded)\n",
        "y_pred = np.argmax(y_prob,axis=1)\n",
        "print(classification_report(y_test_int_cuisine,y_pred, target_names=target_names))"
      ],
      "metadata": {
        "id": "kueSZDELeAh9",
        "colab": {
          "base_uri": "https://localhost:8080/"
        },
        "outputId": "63095265-9c6f-4652-ab34-09011b3152e8"
      },
      "execution_count": 49,
      "outputs": [
        {
          "output_type": "stream",
          "name": "stdout",
          "text": [
            "              precision    recall  f1-score   support\n",
            "\n",
            "   brazilian       0.00      0.00      0.00        66\n",
            "     british       0.00      0.00      0.00        88\n",
            "cajun_creole       0.77      0.57      0.65       215\n",
            "     chinese       0.52      0.84      0.64       360\n",
            "    filipino       0.30      0.06      0.11        93\n",
            "      french       0.37      0.10      0.16       318\n",
            "       greek       0.67      0.22      0.33       144\n",
            "      indian       0.71      0.83      0.76       356\n",
            "       irish       0.00      0.00      0.00        78\n",
            "     italian       0.61      0.87      0.71       987\n",
            "    jamaican       0.00      0.00      0.00        60\n",
            "    japanese       0.09      0.01      0.02       168\n",
            "      korean       0.66      0.32      0.44       114\n",
            "     mexican       0.79      0.88      0.83       830\n",
            "    moroccan       0.62      0.38      0.47        86\n",
            "     russian       0.00      0.00      0.00        62\n",
            " southern_us       0.40      0.71      0.51       547\n",
            "     spanish       0.43      0.02      0.05       126\n",
            "        thai       0.58      0.77      0.66       190\n",
            "  vietnamese       0.00      0.00      0.00       112\n",
            "\n",
            "    accuracy                           0.60      5000\n",
            "   macro avg       0.38      0.33      0.32      5000\n",
            "weighted avg       0.53      0.60      0.53      5000\n",
            "\n"
          ]
        },
        {
          "output_type": "stream",
          "name": "stderr",
          "text": [
            "/usr/local/lib/python3.7/dist-packages/sklearn/metrics/_classification.py:1318: UndefinedMetricWarning: Precision and F-score are ill-defined and being set to 0.0 in labels with no predicted samples. Use `zero_division` parameter to control this behavior.\n",
            "  _warn_prf(average, modifier, msg_start, len(result))\n",
            "/usr/local/lib/python3.7/dist-packages/sklearn/metrics/_classification.py:1318: UndefinedMetricWarning: Precision and F-score are ill-defined and being set to 0.0 in labels with no predicted samples. Use `zero_division` parameter to control this behavior.\n",
            "  _warn_prf(average, modifier, msg_start, len(result))\n",
            "/usr/local/lib/python3.7/dist-packages/sklearn/metrics/_classification.py:1318: UndefinedMetricWarning: Precision and F-score are ill-defined and being set to 0.0 in labels with no predicted samples. Use `zero_division` parameter to control this behavior.\n",
            "  _warn_prf(average, modifier, msg_start, len(result))\n"
          ]
        }
      ]
    },
    {
      "cell_type": "code",
      "source": [
        "plt.plot(history_fine.history['loss'])\n",
        "plt.plot(history_fine.history['val_loss'])\n",
        "plt.title('model loss')\n",
        "plt.ylabel('loss')\n",
        "plt.xlabel('epoch')\n",
        "plt.legend(['training set','validation set'], loc='upper left')\n",
        "plt.show()"
      ],
      "metadata": {
        "id": "E-dv1MRdeAh9",
        "colab": {
          "base_uri": "https://localhost:8080/",
          "height": 295
        },
        "outputId": "baeb01b9-dd6a-4c45-bfcf-960c3e9ea8c9"
      },
      "execution_count": 50,
      "outputs": [
        {
          "output_type": "display_data",
          "data": {
            "text/plain": [
              "<Figure size 432x288 with 1 Axes>"
            ],
            "image/png": "[encoded data removed]"
          },
          "metadata": {
            "needs_background": "light"
          }
        }
      ]
    },
    {
      "cell_type": "code",
      "source": [
        "plt.plot(history_fine.history['accuracy'])\n",
        "plt.plot(history_fine.history['val_accuracy'])\n",
        "plt.title('model accuracy')\n",
        "plt.ylabel('accuracy')\n",
        "plt.xlabel('epoch')\n",
        "plt.legend(['training set','validation set'], loc='upper left')\n",
        "plt.show()"
      ],
      "metadata": {
        "id": "r4SA0IozeAh9",
        "colab": {
          "base_uri": "https://localhost:8080/",
          "height": 295
        },
        "outputId": "30679c99-28a3-40dd-acc2-d18c2922fbcc"
      },
      "execution_count": 51,
      "outputs": [
        {
          "output_type": "display_data",
          "data": {
            "text/plain": [
              "<Figure size 432x288 with 1 Axes>"
            ],
            "image/png": "[encoded data removed]"
          },
          "metadata": {
            "needs_background": "light"
          }
        }
      ]
    },
    {
      "cell_type": "code",
      "source": [
        "disp = ConfusionMatrixDisplay.from_predictions(y_test_int_cuisine, y_pred)\n",
        "fig = disp.ax_.get_figure()  \n",
        "fig.set_figwidth(10) \n",
        "fig.set_figheight(10)\n",
        "plt.show()"
      ],
      "metadata": {
        "id": "bw39O7WIeAh9",
        "colab": {
          "base_uri": "https://localhost:8080/",
          "height": 580
        },
        "outputId": "1c47ee4a-c51b-41d3-b772-67c3e86e79f6"
      },
      "execution_count": 52,
      "outputs": [
        {
          "output_type": "display_data",
          "data": {
            "text/plain": [
              "<Figure size 720x720 with 2 Axes>"
            ],
            "image/png": "[encoded data removed]"
          },
          "metadata": {
            "needs_background": "light"
          }
        }
      ]
    }
  ]
}