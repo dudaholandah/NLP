{
  "nbformat": 4,
  "nbformat_minor": 0,
  "metadata": {
    "colab": {
      "provenance": [],
      "collapsed_sections": [
        "WcLihi-R1K51",
        "7ykGfuKI1Qza",
        "VNAfDGAw1lC2",
        "J_mqxjOc19Hf",
        "W7JGhM5exbF3",
        "KKSQ-tNSxhf7",
        "J-FJCLP-bOqe",
        "zjnrlH62yWnQ",
        "LlVWjOrTCIF-"
      ],
      "authorship_tag": "ABX9TyMbm3nNxBgjaP+PIJvkrvPC",
      "include_colab_link": true
    },
    "kernelspec": {
      "name": "python3",
      "display_name": "Python 3"
    },
    "language_info": {
      "name": "python"
    }
  },
  "cells": [
    {
      "cell_type": "markdown",
      "metadata": {
        "id": "view-in-github",
        "colab_type": "text"
      },
      "source": [
        "<a href=\"https://colab.research.google.com/github/dudaholandah/NLP/blob/main/Projeto/Cuisine_Classification.ipynb\" target=\"_parent\"><img src=\"https://colab.research.google.com/assets/colab-badge.svg\" alt=\"Open In Colab\"/></a>"
      ]
    },
    {
      "cell_type": "markdown",
      "source": [
        "# Google Drive"
      ],
      "metadata": {
        "id": "WcLihi-R1K51"
      }
    },
    {
      "cell_type": "code",
      "execution_count": null,
      "metadata": {
        "id": "HF2bJKuw07dg"
      },
      "outputs": [],
      "source": [
        "from google.colab import drive\n",
        "drive.mount('/content/drive')"
      ]
    },
    {
      "cell_type": "code",
      "source": [
        "!cp -r '/content/drive/MyDrive/NLP-Project/cuisine-classification-ingredients' 'cuisine-classification-ingredients'"
      ],
      "metadata": {
        "id": "sFVXDnEj1ISk"
      },
      "execution_count": 2,
      "outputs": []
    },
    {
      "cell_type": "code",
      "source": [
        "!cp -r '/content/drive/MyDrive/NLP-Project/word-embedding' 'word-embedding'"
      ],
      "metadata": {
        "id": "pPC5lj3YAceR"
      },
      "execution_count": 3,
      "outputs": []
    },
    {
      "cell_type": "markdown",
      "source": [
        "# Imports"
      ],
      "metadata": {
        "id": "7ykGfuKI1Qza"
      }
    },
    {
      "cell_type": "code",
      "source": [
        "#!pip install transformers\n",
        "!pip install gensim --upgrade\n",
        "!pip install keras\n",
        "!pip install tensorflow\n",
        "!pip install keras-tuner --upgrade\n",
        "!pip install glove-python-binary"
      ],
      "metadata": {
        "id": "SwIN9CAP1Rwu"
      },
      "execution_count": null,
      "outputs": []
    },
    {
      "cell_type": "code",
      "source": [
        "#WORD2VEC\n",
        "from gensim.models import Word2Vec\n",
        "import nltk\n",
        "from tensorflow.keras.preprocessing.text import Tokenizer\n",
        "from tensorflow.keras.preprocessing.sequence import pad_sequences\n",
        "nltk.download('punkt')\n",
        "#GLOVE\n",
        "from glove import Corpus, Glove\n",
        "#Neural Network\n",
        "import keras_tuner as kt\n",
        "from tensorflow import keras\n",
        "from keras.models import Sequential\n",
        "from keras.layers import Dense,Conv1D,Embedding,GlobalMaxPooling1D,Activation,SimpleRNN,Dropout,Masking,LSTM\n",
        "from sklearn.feature_extraction.text import TfidfVectorizer\n",
        "from tensorflow.keras.optimizers import SGD\n",
        "from keras_tuner import HyperModel\n",
        "import matplotlib.pyplot as plt\n",
        "from sklearn.metrics import classification_report\n",
        "from sklearn.metrics import ConfusionMatrixDisplay\n",
        "#Data\n",
        "import json\n",
        "import os\n",
        "import pandas as pd\n",
        "import re\n",
        "import numpy as np\n",
        "from sklearn.model_selection import train_test_split\n",
        "from keras.utils.np_utils import to_categorical"
      ],
      "metadata": {
        "id": "-chQxYTs1eCT"
      },
      "execution_count": null,
      "outputs": []
    },
    {
      "cell_type": "markdown",
      "source": [
        "# Data"
      ],
      "metadata": {
        "id": "VNAfDGAw1lC2"
      }
    },
    {
      "cell_type": "markdown",
      "source": [
        "## Download"
      ],
      "metadata": {
        "id": "J_mqxjOc19Hf"
      }
    },
    {
      "cell_type": "code",
      "execution_count": 8,
      "metadata": {
        "id": "5JjYIn_kNSjR"
      },
      "outputs": [],
      "source": [
        "path = 'cuisine-classification-ingredients/train.json'\n",
        "\n",
        "with open(path, 'r') as f:\n",
        "  json_file = json.load(f)"
      ]
    },
    {
      "cell_type": "code",
      "execution_count": 9,
      "metadata": {
        "id": "Gb4Ib7JJP2ux"
      },
      "outputs": [],
      "source": [
        "df_cuisine = pd.DataFrame(json_file, columns=['id', 'cuisine', 'ingredients'])"
      ]
    },
    {
      "cell_type": "code",
      "execution_count": 10,
      "metadata": {
        "id": "YIld3-hEQEc7"
      },
      "outputs": [],
      "source": [
        "df_cuisine = df_cuisine.drop(['id'], axis=1)"
      ]
    },
    {
      "cell_type": "code",
      "source": [
        "df_cuisine = df_cuisine[:10000]"
      ],
      "metadata": {
        "id": "Q5FvHXN9NQZ-"
      },
      "execution_count": 11,
      "outputs": []
    },
    {
      "cell_type": "code",
      "source": [
        "df_cuisine.head(5)"
      ],
      "metadata": {
        "colab": {
          "base_uri": "https://localhost:8080/",
          "height": 206
        },
        "id": "pCXadN5t_c1O",
        "outputId": "c4619a93-e290-49d7-f770-180697eb02b2"
      },
      "execution_count": 12,
      "outputs": [
        {
          "output_type": "execute_result",
          "data": {
            "text/plain": [
              "       cuisine                                        ingredients\n",
              "0        greek  [romaine lettuce, black olives, grape tomatoes...\n",
              "1  southern_us  [plain flour, ground pepper, salt, tomatoes, g...\n",
              "2     filipino  [eggs, pepper, salt, mayonaise, cooking oil, g...\n",
              "3       indian                [water, vegetable oil, wheat, salt]\n",
              "4       indian  [black pepper, shallots, cornflour, cayenne pe..."
            ],
            "text/html": [
              "\n",
              "  <div id=\"df-a0c5d781-f205-427c-b1fc-50a1dd59b6a6\">\n",
              "    <div class=\"colab-df-container\">\n",
              "      <div>\n",
              "<style scoped>\n",
              "    .dataframe tbody tr th:only-of-type {\n",
              "        vertical-align: middle;\n",
              "    }\n",
              "\n",
              "    .dataframe tbody tr th {\n",
              "        vertical-align: top;\n",
              "    }\n",
              "\n",
              "    .dataframe thead th {\n",
              "        text-align: right;\n",
              "    }\n",
              "</style>\n",
              "<table border=\"1\" class=\"dataframe\">\n",
              "  <thead>\n",
              "    <tr style=\"text-align: right;\">\n",
              "      <th></th>\n",
              "      <th>cuisine</th>\n",
              "      <th>ingredients</th>\n",
              "    </tr>\n",
              "  </thead>\n",
              "  <tbody>\n",
              "    <tr>\n",
              "      <th>0</th>\n",
              "      <td>greek</td>\n",
              "      <td>[romaine lettuce, black olives, grape tomatoes...</td>\n",
              "    </tr>\n",
              "    <tr>\n",
              "      <th>1</th>\n",
              "      <td>southern_us</td>\n",
              "      <td>[plain flour, ground pepper, salt, tomatoes, g...</td>\n",
              "    </tr>\n",
              "    <tr>\n",
              "      <th>2</th>\n",
              "      <td>filipino</td>\n",
              "      <td>[eggs, pepper, salt, mayonaise, cooking oil, g...</td>\n",
              "    </tr>\n",
              "    <tr>\n",
              "      <th>3</th>\n",
              "      <td>indian</td>\n",
              "      <td>[water, vegetable oil, wheat, salt]</td>\n",
              "    </tr>\n",
              "    <tr>\n",
              "      <th>4</th>\n",
              "      <td>indian</td>\n",
              "      <td>[black pepper, shallots, cornflour, cayenne pe...</td>\n",
              "    </tr>\n",
              "  </tbody>\n",
              "</table>\n",
              "</div>\n",
              "      <button class=\"colab-df-convert\" onclick=\"convertToInteractive('df-a0c5d781-f205-427c-b1fc-50a1dd59b6a6')\"\n",
              "              title=\"Convert this dataframe to an interactive table.\"\n",
              "              style=\"display:none;\">\n",
              "        \n",
              "  <svg xmlns=\"http://www.w3.org/2000/svg\" height=\"24px\"viewBox=\"0 0 24 24\"\n",
              "       width=\"24px\">\n",
              "    <path d=\"M0 0h24v24H0V0z\" fill=\"none\"/>\n",
              "    <path d=\"M18.56 5.44l.94 2.06.94-2.06 2.06-.94-2.06-.94-.94-2.06-.94 2.06-2.06.94zm-11 1L8.5 8.5l.94-2.06 2.06-.94-2.06-.94L8.5 2.5l-.94 2.06-2.06.94zm10 10l.94 2.06.94-2.06 2.06-.94-2.06-.94-.94-2.06-.94 2.06-2.06.94z\"/><path d=\"M17.41 7.96l-1.37-1.37c-.4-.4-.92-.59-1.43-.59-.52 0-1.04.2-1.43.59L10.3 9.45l-7.72 7.72c-.78.78-.78 2.05 0 2.83L4 21.41c.39.39.9.59 1.41.59.51 0 1.02-.2 1.41-.59l7.78-7.78 2.81-2.81c.8-.78.8-2.07 0-2.86zM5.41 20L4 18.59l7.72-7.72 1.47 1.35L5.41 20z\"/>\n",
              "  </svg>\n",
              "      </button>\n",
              "      \n",
              "  <style>\n",
              "    .colab-df-container {\n",
              "      display:flex;\n",
              "      flex-wrap:wrap;\n",
              "      gap: 12px;\n",
              "    }\n",
              "\n",
              "    .colab-df-convert {\n",
              "      background-color: #E8F0FE;\n",
              "      border: none;\n",
              "      border-radius: 50%;\n",
              "      cursor: pointer;\n",
              "      display: none;\n",
              "      fill: #1967D2;\n",
              "      height: 32px;\n",
              "      padding: 0 0 0 0;\n",
              "      width: 32px;\n",
              "    }\n",
              "\n",
              "    .colab-df-convert:hover {\n",
              "      background-color: #E2EBFA;\n",
              "      box-shadow: 0px 1px 2px rgba(60, 64, 67, 0.3), 0px 1px 3px 1px rgba(60, 64, 67, 0.15);\n",
              "      fill: #174EA6;\n",
              "    }\n",
              "\n",
              "    [theme=dark] .colab-df-convert {\n",
              "      background-color: #3B4455;\n",
              "      fill: #D2E3FC;\n",
              "    }\n",
              "\n",
              "    [theme=dark] .colab-df-convert:hover {\n",
              "      background-color: #434B5C;\n",
              "      box-shadow: 0px 1px 3px 1px rgba(0, 0, 0, 0.15);\n",
              "      filter: drop-shadow(0px 1px 2px rgba(0, 0, 0, 0.3));\n",
              "      fill: #FFFFFF;\n",
              "    }\n",
              "  </style>\n",
              "\n",
              "      <script>\n",
              "        const buttonEl =\n",
              "          document.querySelector('#df-a0c5d781-f205-427c-b1fc-50a1dd59b6a6 button.colab-df-convert');\n",
              "        buttonEl.style.display =\n",
              "          google.colab.kernel.accessAllowed ? 'block' : 'none';\n",
              "\n",
              "        async function convertToInteractive(key) {\n",
              "          const element = document.querySelector('#df-a0c5d781-f205-427c-b1fc-50a1dd59b6a6');\n",
              "          const dataTable =\n",
              "            await google.colab.kernel.invokeFunction('convertToInteractive',\n",
              "                                                     [key], {});\n",
              "          if (!dataTable) return;\n",
              "\n",
              "          const docLinkHtml = 'Like what you see? Visit the ' +\n",
              "            '<a target=\"_blank\" href=https://colab.research.google.com/notebooks/data_table.ipynb>data table notebook</a>'\n",
              "            + ' to learn more about interactive tables.';\n",
              "          element.innerHTML = '';\n",
              "          dataTable['output_type'] = 'display_data';\n",
              "          await google.colab.output.renderOutput(dataTable, element);\n",
              "          const docLink = document.createElement('div');\n",
              "          docLink.innerHTML = docLinkHtml;\n",
              "          element.appendChild(docLink);\n",
              "        }\n",
              "      </script>\n",
              "    </div>\n",
              "  </div>\n",
              "  "
            ]
          },
          "metadata": {},
          "execution_count": 12
        }
      ]
    },
    {
      "cell_type": "markdown",
      "metadata": {
        "id": "J-FJCLP-bOqe"
      },
      "source": [
        "## Pre-Processing"
      ]
    },
    {
      "cell_type": "code",
      "execution_count": 13,
      "metadata": {
        "id": "MRibRNivbUE1"
      },
      "outputs": [],
      "source": [
        "def pre_processing(text):\n",
        "  new = \"\"\n",
        "  for word in text.split(','):\n",
        "    word = re.sub(r'[^\\w\\s]', '', word.lower())\n",
        "    word = re.sub(r'[0-9]+', '', word)\n",
        "    word = re.sub(r'\\boz\\b', '', word)\n",
        "    word = re.sub(r'\\ba taste of\\b', '', word)\n",
        "    new = new + word.strip() + \" \"\n",
        "\n",
        "  return new[:-1]"
      ]
    },
    {
      "cell_type": "code",
      "execution_count": 14,
      "metadata": {
        "id": "bhmVcEwdQnjh"
      },
      "outputs": [],
      "source": [
        "df_cuisine['ingredients'] = [','.join(x).strip() for x in df_cuisine['ingredients']]"
      ]
    },
    {
      "cell_type": "code",
      "execution_count": 15,
      "metadata": {
        "id": "4qc9fp0jcaDG"
      },
      "outputs": [],
      "source": [
        "df_cuisine['ingredients'] = [pre_processing(x) for x in df_cuisine['ingredients']]"
      ]
    },
    {
      "cell_type": "code",
      "source": [
        "X = df_cuisine['ingredients']\n",
        "y = df_cuisine['cuisine']\n",
        "\n",
        "# dados de teste = 20% do treinamento\n",
        "X_train_cuisine, X_test_cuisine, y_train_cuisine, y_test_cuisine = train_test_split(X, y, test_size=0.2)\n",
        "\n",
        "# dados de validacao = 50% do teste\n",
        "X_test_cuisine, X_valid_cuisine, y_test_cuisine, y_valid_cuisine = train_test_split(X, y, test_size=0.5)"
      ],
      "metadata": {
        "id": "u96xaQ5MJO2o"
      },
      "execution_count": 16,
      "outputs": []
    },
    {
      "cell_type": "code",
      "source": [
        "y_train_cuisine = pd.Categorical(y_train_cuisine)\n",
        "y_train_int_cuisine = y_train_cuisine.codes\n",
        "\n",
        "y_valid_cuisine = pd.Categorical(y_valid_cuisine)\n",
        "y_valid_int_cuisine = y_valid_cuisine.codes\n",
        "\n",
        "y_test_cuisine = pd.Categorical(y_test_cuisine)\n",
        "target_names_cuisine = y_test_cuisine.categories\n",
        "y_test_int_cuisine = y_test_cuisine.codes\n",
        "\n",
        "y_train_cuisine = to_categorical(y_train_int_cuisine)\n",
        "y_valid_cuisine = to_categorical(y_valid_int_cuisine)\n",
        "y_test_cuisine = to_categorical(y_test_int_cuisine)"
      ],
      "metadata": {
        "id": "6hNPne2f7SxN"
      },
      "execution_count": 17,
      "outputs": []
    },
    {
      "cell_type": "markdown",
      "source": [
        "# Embeddings"
      ],
      "metadata": {
        "id": "JUwu7ggfBuKk"
      }
    },
    {
      "cell_type": "code",
      "source": [
        "MAX_LENGTH = 50"
      ],
      "metadata": {
        "id": "8q6eOy_DFW1S"
      },
      "execution_count": 148,
      "outputs": []
    },
    {
      "cell_type": "markdown",
      "source": [
        "## Word2Vec"
      ],
      "metadata": {
        "id": "iPpD__hB11D2"
      }
    },
    {
      "cell_type": "code",
      "source": [
        "def create_embedding_w2v(tokenizer, model, vocab_size, embedding_dim):\n",
        "  embedding_w2v = np.zeros((vocab_size, embedding_dim))\n",
        "  for word, i in tokenizer.word_index.items():\n",
        "    if word in model.wv:\n",
        "      embedding_w2v[i] = model.wv.get_vector(word)\n",
        "    else:\n",
        "      embedding_w2v[i]=np.random.normal(0,np.sqrt(0.25), embedding_dim)\n",
        "  return embedding_w2v"
      ],
      "metadata": {
        "id": "9seXGB8U9Gd1"
      },
      "execution_count": 160,
      "outputs": []
    },
    {
      "cell_type": "code",
      "source": [
        "# Tokenizer\n",
        "tokenizer = Tokenizer()\n",
        "tokenizer.fit_on_texts(X_train_cuisine)\n",
        "vocab_size_cuisine = len(tokenizer.word_index) + 1"
      ],
      "metadata": {
        "id": "XWFgwCcVW00s"
      },
      "execution_count": 161,
      "outputs": []
    },
    {
      "cell_type": "code",
      "source": [
        "# Train Data\n",
        "encoded_w2v = tokenizer.texts_to_sequences(X_train_cuisine)\n",
        "X_train_w2v_padded = pad_sequences(encoded_w2v, maxlen=MAX_LENGTH, padding='post', truncating='post')\n",
        "\n",
        "# Valid Data\n",
        "encoded_w2v = tokenizer.texts_to_sequences(X_valid_cuisine)\n",
        "X_valid_w2v_padded = pad_sequences(encoded_w2v, maxlen=MAX_LENGTH, padding='post', truncating='post')\n",
        "\n",
        "# Test Data\n",
        "encoded_w2v = tokenizer.texts_to_sequences(X_test_cuisine)\n",
        "X_test_w2v_padded = pad_sequences(encoded_w2v, maxlen=MAX_LENGTH, padding='post', truncating='post')"
      ],
      "metadata": {
        "id": "b6PPurhP6Blz"
      },
      "execution_count": 162,
      "outputs": []
    },
    {
      "cell_type": "code",
      "source": [
        "# EMBEDDING LAYER\n",
        "\n",
        "EMBEDDING_DIM_W2V = 100\n",
        "\n",
        "sentences = [sentence.split() for sentence in X_train_cuisine]\n",
        "model_word2vec = Word2Vec(sentences, vector_size=EMBEDDING_DIM_W2V, min_count=1, window=5, sg=1,workers=4)\n",
        "\n",
        "embedding_w2v = create_embedding_w2v(tokenizer, model_word2vec, vocab_size_cuisine, EMBEDDING_DIM_W2V)"
      ],
      "metadata": {
        "id": "sOvL-7eLDrwb"
      },
      "execution_count": 163,
      "outputs": []
    },
    {
      "cell_type": "markdown",
      "source": [
        "## GloVe"
      ],
      "metadata": {
        "id": "uOfX_m_m5HQ4"
      }
    },
    {
      "cell_type": "code",
      "source": [
        "def create_embedding_glove(glove, vocab_size, embedding_dim):\n",
        "  embedding_glove = np.zeros((vocab_size, embedding_dim))\n",
        "  for i, word in enumerate(glove.dictionary):\n",
        "    embedding_glove[i+1] = glove.word_vectors[i]\n",
        "  return embedding_glove"
      ],
      "metadata": {
        "id": "ZNQQnNMUGrKU"
      },
      "execution_count": 61,
      "outputs": []
    },
    {
      "cell_type": "code",
      "source": [
        "def texts_to_sequences(df_text):\n",
        "  encoded_glove = []\n",
        "  for sentence in df_text:\n",
        "    xs = []\n",
        "    for word in sentence.split():\n",
        "      if glove.dictionary.get(word) is not None:\n",
        "        xs.append(glove.dictionary[word]+1)\n",
        "      else:\n",
        "        xs.append(0)\n",
        "    encoded_glove.append(xs)\n",
        "  return encoded_glove"
      ],
      "metadata": {
        "id": "uc6EkGgTPcIK"
      },
      "execution_count": 94,
      "outputs": []
    },
    {
      "cell_type": "code",
      "source": [
        "corpus = Corpus() \n",
        " \n",
        "sentences = [sentence.split() for sentence in X_train_cuisine]\n",
        "corpus.fit(sentences, window=10)"
      ],
      "metadata": {
        "id": "rjV8P7qfEj-g"
      },
      "execution_count": 78,
      "outputs": []
    },
    {
      "cell_type": "code",
      "source": [
        "# EMBEDDING LAYER\n",
        "\n",
        "EMBEDDING_DIM_GLV = 100\n",
        "\n",
        "glove = Glove(no_components=EMBEDDING_DIM_GLV, learning_rate=0.05)\n",
        "glove.fit(corpus.matrix, epochs=30, no_threads=2)\n",
        "glove.add_dictionary(corpus.dictionary)\n",
        "embedding_glove = create_embedding_glove(glove, vocab_size_cuisine, EMBEDDING_DIM_GLV)"
      ],
      "metadata": {
        "id": "xr9rXW2hE4oZ"
      },
      "execution_count": 79,
      "outputs": []
    },
    {
      "cell_type": "code",
      "source": [
        "# Train Data\n",
        "encoded_glove = texts_to_sequences(X_train_cuisine)\n",
        "X_train_glove_padded = pad_sequences(encoded_glove, maxlen=MAX_LENGTH, padding='post', truncating='post')\n",
        "\n",
        "# Valid Data\n",
        "encoded_glove = texts_to_sequences(X_valid_cuisine)\n",
        "X_valid_glove_padded = pad_sequences(encoded_glove, maxlen=MAX_LENGTH, padding='post', truncating='post')\n",
        "\n",
        "# Test Data\n",
        "encoded_glove = texts_to_sequences(X_test_cuisine)\n",
        "X_test_glove_padded = pad_sequences(encoded_glove, maxlen=MAX_LENGTH, padding='post', truncating='post')"
      ],
      "metadata": {
        "id": "11XjPAq3Oh7P"
      },
      "execution_count": 95,
      "outputs": []
    },
    {
      "cell_type": "markdown",
      "source": [
        "# CNN"
      ],
      "metadata": {
        "id": "HIQ72WsJ3gAx"
      }
    },
    {
      "cell_type": "code",
      "source": [
        "class CNNHyperModel(HyperModel):\n",
        "  def __init__(self, embedding_layer, output):\n",
        "    self.embedding_layer = embedding_layer\n",
        "    self.output = output\n",
        "\n",
        "  def build(self, hp):\n",
        "    model = Sequential()\n",
        "    model.add(self.embedding_layer)\n",
        "    model.add(Conv1D(filters=hp.Choice(\"conv\", [64,128,256]), kernel_size=6, strides=1, activation='relu'))\n",
        "    model.add(Dropout(0.5))\n",
        "    model.add(GlobalMaxPooling1D())\n",
        "    model.add(Dense(hp.Choice(\"dense1\", [64,128]), activation='relu'))\n",
        "    model.add(Dense(hp.Choice(\"dense2\", [32,64]), activation='relu'))\n",
        "    model.add(Dense(self.output, activation='softmax'))\n",
        "    sgd = SGD(learning_rate=0.01)\n",
        "    model.compile(loss=\"categorical_crossentropy\",optimizer=sgd,metrics=['accuracy'])\n",
        "    return model"
      ],
      "metadata": {
        "id": "E0Mz-bZ03iwE"
      },
      "execution_count": 150,
      "outputs": []
    },
    {
      "cell_type": "markdown",
      "source": [
        "### WORD2VEC"
      ],
      "metadata": {
        "id": "K_Ew4Uj3IqFx"
      }
    },
    {
      "cell_type": "code",
      "source": [
        "embedding_layer = Embedding(input_dim=vocab_size_cuisine, output_dim=EMBEDDING_DIM_W2V, weights=[embedding_w2v_cuisine], input_length=MAX_LENGTH, trainable=False)"
      ],
      "metadata": {
        "id": "QMLmqm2szEo7"
      },
      "execution_count": 164,
      "outputs": []
    },
    {
      "cell_type": "code",
      "source": [
        "model_CNN = CNNHyperModel(embedding_layer, 20)"
      ],
      "metadata": {
        "id": "FyEDxSA5IFwZ"
      },
      "execution_count": 165,
      "outputs": []
    },
    {
      "cell_type": "code",
      "source": [
        "tuner = kt.Hyperband(\n",
        "    model_CNN,\n",
        "    objective='val_accuracy',\n",
        "    max_epochs=30,\n",
        "    hyperband_iterations=2,\n",
        "    overwrite=True)"
      ],
      "metadata": {
        "id": "ToxMDjVMxPkp"
      },
      "execution_count": 166,
      "outputs": []
    },
    {
      "cell_type": "code",
      "source": [
        "tuner.search(X_train_w2v_padded,y_train_cuisine,validation_data=(X_valid_w2v_padded,y_valid_cuisine),epochs=50)"
      ],
      "metadata": {
        "colab": {
          "base_uri": "https://localhost:8080/"
        },
        "id": "oJ629II_xrHh",
        "outputId": "4bf15526-d3a7-4b7f-842b-3909dc6fa31e"
      },
      "execution_count": 167,
      "outputs": [
        {
          "output_type": "stream",
          "name": "stdout",
          "text": [
            "Trial 11 Complete [00h 00m 06s]\n",
            "val_accuracy: 0.5157999992370605\n",
            "\n",
            "Best val_accuracy So Far: 0.5342000126838684\n",
            "Total elapsed time: 00h 01m 58s\n"
          ]
        }
      ]
    },
    {
      "cell_type": "code",
      "source": [
        "best_hps = tuner.get_best_hyperparameters(num_trials=1)[0]"
      ],
      "metadata": {
        "id": "9rdOfzKC1C-_"
      },
      "execution_count": 168,
      "outputs": []
    },
    {
      "cell_type": "code",
      "source": [
        "model_cuisine = tuner.hypermodel.build(best_hps)"
      ],
      "metadata": {
        "id": "iE44c8wx0ncp"
      },
      "execution_count": 169,
      "outputs": []
    },
    {
      "cell_type": "code",
      "source": [
        "model_cuisine.summary()"
      ],
      "metadata": {
        "colab": {
          "base_uri": "https://localhost:8080/"
        },
        "id": "D7KhTzglIRu7",
        "outputId": "71b1b39f-0827-4b26-8556-35fc0668df71"
      },
      "execution_count": 170,
      "outputs": [
        {
          "output_type": "stream",
          "name": "stdout",
          "text": [
            "Model: \"sequential_1\"\n",
            "_________________________________________________________________\n",
            " Layer (type)                Output Shape              Param #   \n",
            "=================================================================\n",
            " embedding (Embedding)       (None, 50, 100)           215000    \n",
            "                                                                 \n",
            " conv1d_1 (Conv1D)           (None, 45, 256)           153856    \n",
            "                                                                 \n",
            " dropout_1 (Dropout)         (None, 45, 256)           0         \n",
            "                                                                 \n",
            " global_max_pooling1d_1 (Glo  (None, 256)              0         \n",
            " balMaxPooling1D)                                                \n",
            "                                                                 \n",
            " dense_3 (Dense)             (None, 64)                16448     \n",
            "                                                                 \n",
            " dense_4 (Dense)             (None, 32)                2080      \n",
            "                                                                 \n",
            " dense_5 (Dense)             (None, 20)                660       \n",
            "                                                                 \n",
            "=================================================================\n",
            "Total params: 388,044\n",
            "Trainable params: 173,044\n",
            "Non-trainable params: 215,000\n",
            "_________________________________________________________________\n"
          ]
        }
      ]
    },
    {
      "cell_type": "code",
      "source": [
        "history_fine = model_cuisine.fit(X_train_w2v_padded,y_train_cuisine,validation_data=(X_valid_w2v_padded,y_valid_cuisine), epochs=100) "
      ],
      "metadata": {
        "id": "eMrbo0RMIFwa",
        "colab": {
          "base_uri": "https://localhost:8080/"
        },
        "outputId": "4c8be0c9-a9d5-4e29-d07b-ca0e6e89c64a"
      },
      "execution_count": 171,
      "outputs": [
        {
          "output_type": "stream",
          "name": "stdout",
          "text": [
            "Epoch 1/100\n",
            "250/250 [==============================] - 8s 30ms/step - loss: 2.5382 - accuracy: 0.2755 - val_loss: 2.4167 - val_accuracy: 0.4406\n",
            "Epoch 2/100\n",
            "250/250 [==============================] - 6s 23ms/step - loss: 1.9589 - accuracy: 0.4804 - val_loss: 2.0347 - val_accuracy: 0.5054\n",
            "Epoch 3/100\n",
            "250/250 [==============================] - 6s 23ms/step - loss: 1.6523 - accuracy: 0.5272 - val_loss: 1.8264 - val_accuracy: 0.5532\n",
            "Epoch 4/100\n",
            "250/250 [==============================] - 6s 23ms/step - loss: 1.5165 - accuracy: 0.5512 - val_loss: 1.6999 - val_accuracy: 0.5714\n",
            "Epoch 5/100\n",
            "250/250 [==============================] - 6s 23ms/step - loss: 1.4453 - accuracy: 0.5634 - val_loss: 1.6260 - val_accuracy: 0.5778\n",
            "Epoch 6/100\n",
            "250/250 [==============================] - 6s 22ms/step - loss: 1.3785 - accuracy: 0.5724 - val_loss: 1.5676 - val_accuracy: 0.5900\n",
            "Epoch 7/100\n",
            "250/250 [==============================] - 6s 22ms/step - loss: 1.3343 - accuracy: 0.5889 - val_loss: 1.5090 - val_accuracy: 0.5956\n",
            "Epoch 8/100\n",
            "250/250 [==============================] - 6s 23ms/step - loss: 1.2937 - accuracy: 0.5947 - val_loss: 1.4798 - val_accuracy: 0.6260\n",
            "Epoch 9/100\n",
            "250/250 [==============================] - 6s 23ms/step - loss: 1.2614 - accuracy: 0.6016 - val_loss: 1.4201 - val_accuracy: 0.6150\n",
            "Epoch 10/100\n",
            "250/250 [==============================] - 7s 28ms/step - loss: 1.2324 - accuracy: 0.6126 - val_loss: 1.3995 - val_accuracy: 0.6408\n",
            "Epoch 11/100\n",
            "250/250 [==============================] - 6s 26ms/step - loss: 1.2044 - accuracy: 0.6180 - val_loss: 1.3586 - val_accuracy: 0.6506\n",
            "Epoch 12/100\n",
            "250/250 [==============================] - 7s 28ms/step - loss: 1.1863 - accuracy: 0.6234 - val_loss: 1.3716 - val_accuracy: 0.6632\n",
            "Epoch 13/100\n",
            "250/250 [==============================] - 6s 25ms/step - loss: 1.1641 - accuracy: 0.6313 - val_loss: 1.3458 - val_accuracy: 0.6646\n",
            "Epoch 14/100\n",
            "250/250 [==============================] - 7s 28ms/step - loss: 1.1417 - accuracy: 0.6376 - val_loss: 1.3187 - val_accuracy: 0.6682\n",
            "Epoch 15/100\n",
            "250/250 [==============================] - 7s 28ms/step - loss: 1.1279 - accuracy: 0.6441 - val_loss: 1.3157 - val_accuracy: 0.6748\n",
            "Epoch 16/100\n",
            "250/250 [==============================] - 6s 25ms/step - loss: 1.1087 - accuracy: 0.6510 - val_loss: 1.2563 - val_accuracy: 0.6862\n",
            "Epoch 17/100\n",
            "250/250 [==============================] - 7s 26ms/step - loss: 1.0826 - accuracy: 0.6551 - val_loss: 1.2330 - val_accuracy: 0.6858\n",
            "Epoch 18/100\n",
            "250/250 [==============================] - 6s 22ms/step - loss: 1.0632 - accuracy: 0.6622 - val_loss: 1.2188 - val_accuracy: 0.7042\n",
            "Epoch 19/100\n",
            "250/250 [==============================] - 5s 22ms/step - loss: 1.0439 - accuracy: 0.6725 - val_loss: 1.1696 - val_accuracy: 0.6986\n",
            "Epoch 20/100\n",
            "250/250 [==============================] - 5s 22ms/step - loss: 1.0249 - accuracy: 0.6787 - val_loss: 1.1898 - val_accuracy: 0.7038\n",
            "Epoch 21/100\n",
            "250/250 [==============================] - 6s 22ms/step - loss: 1.0057 - accuracy: 0.6849 - val_loss: 1.1217 - val_accuracy: 0.7112\n",
            "Epoch 22/100\n",
            "250/250 [==============================] - 6s 22ms/step - loss: 0.9847 - accuracy: 0.6896 - val_loss: 1.1268 - val_accuracy: 0.7244\n",
            "Epoch 23/100\n",
            "250/250 [==============================] - 6s 22ms/step - loss: 0.9734 - accuracy: 0.6889 - val_loss: 1.0794 - val_accuracy: 0.7246\n",
            "Epoch 24/100\n",
            "250/250 [==============================] - 6s 24ms/step - loss: 0.9525 - accuracy: 0.7021 - val_loss: 1.0903 - val_accuracy: 0.7336\n",
            "Epoch 25/100\n",
            "250/250 [==============================] - 8s 31ms/step - loss: 0.9372 - accuracy: 0.7057 - val_loss: 1.0862 - val_accuracy: 0.7324\n",
            "Epoch 26/100\n",
            "250/250 [==============================] - 6s 25ms/step - loss: 0.9222 - accuracy: 0.7079 - val_loss: 1.0726 - val_accuracy: 0.7276\n",
            "Epoch 27/100\n",
            "250/250 [==============================] - 6s 22ms/step - loss: 0.9004 - accuracy: 0.7145 - val_loss: 1.0116 - val_accuracy: 0.7528\n",
            "Epoch 28/100\n",
            "250/250 [==============================] - 6s 23ms/step - loss: 0.8924 - accuracy: 0.7151 - val_loss: 1.0178 - val_accuracy: 0.7616\n",
            "Epoch 29/100\n",
            "250/250 [==============================] - 6s 22ms/step - loss: 0.8722 - accuracy: 0.7210 - val_loss: 1.1028 - val_accuracy: 0.7274\n",
            "Epoch 30/100\n",
            "250/250 [==============================] - 6s 22ms/step - loss: 0.8556 - accuracy: 0.7295 - val_loss: 0.9611 - val_accuracy: 0.7824\n",
            "Epoch 31/100\n",
            "250/250 [==============================] - 6s 23ms/step - loss: 0.8384 - accuracy: 0.7360 - val_loss: 0.9339 - val_accuracy: 0.7732\n",
            "Epoch 32/100\n",
            "250/250 [==============================] - 6s 22ms/step - loss: 0.8263 - accuracy: 0.7400 - val_loss: 0.9404 - val_accuracy: 0.7594\n",
            "Epoch 33/100\n",
            "250/250 [==============================] - 6s 22ms/step - loss: 0.8132 - accuracy: 0.7374 - val_loss: 0.9043 - val_accuracy: 0.8006\n",
            "Epoch 34/100\n",
            "250/250 [==============================] - 6s 23ms/step - loss: 0.7937 - accuracy: 0.7466 - val_loss: 0.8925 - val_accuracy: 0.8038\n",
            "Epoch 35/100\n",
            "250/250 [==============================] - 6s 22ms/step - loss: 0.7795 - accuracy: 0.7508 - val_loss: 0.8693 - val_accuracy: 0.8062\n",
            "Epoch 36/100\n",
            "250/250 [==============================] - 6s 22ms/step - loss: 0.7473 - accuracy: 0.7620 - val_loss: 0.8563 - val_accuracy: 0.8128\n",
            "Epoch 37/100\n",
            "250/250 [==============================] - 5s 22ms/step - loss: 0.7459 - accuracy: 0.7651 - val_loss: 0.8668 - val_accuracy: 0.8054\n",
            "Epoch 38/100\n",
            "250/250 [==============================] - 6s 22ms/step - loss: 0.7282 - accuracy: 0.7673 - val_loss: 0.8127 - val_accuracy: 0.8222\n",
            "Epoch 39/100\n",
            "250/250 [==============================] - 5s 22ms/step - loss: 0.7169 - accuracy: 0.7725 - val_loss: 0.7781 - val_accuracy: 0.8234\n",
            "Epoch 40/100\n",
            "250/250 [==============================] - 5s 22ms/step - loss: 0.6929 - accuracy: 0.7775 - val_loss: 0.7996 - val_accuracy: 0.8202\n",
            "Epoch 41/100\n",
            "250/250 [==============================] - 5s 22ms/step - loss: 0.6897 - accuracy: 0.7744 - val_loss: 0.7768 - val_accuracy: 0.8274\n",
            "Epoch 42/100\n",
            "250/250 [==============================] - 6s 22ms/step - loss: 0.6702 - accuracy: 0.7853 - val_loss: 0.7518 - val_accuracy: 0.8496\n",
            "Epoch 43/100\n",
            "250/250 [==============================] - 6s 22ms/step - loss: 0.6760 - accuracy: 0.7815 - val_loss: 0.7539 - val_accuracy: 0.8528\n",
            "Epoch 44/100\n",
            "250/250 [==============================] - 5s 22ms/step - loss: 0.6490 - accuracy: 0.7906 - val_loss: 0.7420 - val_accuracy: 0.8336\n",
            "Epoch 45/100\n",
            "250/250 [==============================] - 6s 23ms/step - loss: 0.6311 - accuracy: 0.8018 - val_loss: 0.6958 - val_accuracy: 0.8464\n",
            "Epoch 46/100\n",
            "250/250 [==============================] - 6s 22ms/step - loss: 0.6292 - accuracy: 0.8000 - val_loss: 0.7446 - val_accuracy: 0.8486\n",
            "Epoch 47/100\n",
            "250/250 [==============================] - 6s 22ms/step - loss: 0.6071 - accuracy: 0.8067 - val_loss: 0.6807 - val_accuracy: 0.8666\n",
            "Epoch 48/100\n",
            "250/250 [==============================] - 6s 22ms/step - loss: 0.5975 - accuracy: 0.8043 - val_loss: 0.7023 - val_accuracy: 0.8528\n",
            "Epoch 49/100\n",
            "250/250 [==============================] - 6s 22ms/step - loss: 0.5914 - accuracy: 0.8070 - val_loss: 0.7425 - val_accuracy: 0.8082\n",
            "Epoch 50/100\n",
            "250/250 [==============================] - 6s 22ms/step - loss: 0.5788 - accuracy: 0.8109 - val_loss: 0.7715 - val_accuracy: 0.8272\n",
            "Epoch 51/100\n",
            "250/250 [==============================] - 6s 22ms/step - loss: 0.5546 - accuracy: 0.8191 - val_loss: 0.6328 - val_accuracy: 0.8632\n",
            "Epoch 52/100\n",
            "250/250 [==============================] - 6s 22ms/step - loss: 0.5486 - accuracy: 0.8292 - val_loss: 0.6332 - val_accuracy: 0.8712\n",
            "Epoch 53/100\n",
            "250/250 [==============================] - 6s 22ms/step - loss: 0.5493 - accuracy: 0.8246 - val_loss: 0.6245 - val_accuracy: 0.8734\n",
            "Epoch 54/100\n",
            "250/250 [==============================] - 6s 23ms/step - loss: 0.5462 - accuracy: 0.8239 - val_loss: 0.5912 - val_accuracy: 0.8652\n",
            "Epoch 55/100\n",
            "250/250 [==============================] - 6s 22ms/step - loss: 0.5256 - accuracy: 0.8245 - val_loss: 0.5761 - val_accuracy: 0.8736\n",
            "Epoch 56/100\n",
            "250/250 [==============================] - 5s 22ms/step - loss: 0.5128 - accuracy: 0.8320 - val_loss: 0.5691 - val_accuracy: 0.8798\n",
            "Epoch 57/100\n",
            "250/250 [==============================] - 6s 22ms/step - loss: 0.5036 - accuracy: 0.8370 - val_loss: 0.6075 - val_accuracy: 0.8752\n",
            "Epoch 58/100\n",
            "250/250 [==============================] - 5s 22ms/step - loss: 0.4977 - accuracy: 0.8347 - val_loss: 0.6081 - val_accuracy: 0.8646\n",
            "Epoch 59/100\n",
            "250/250 [==============================] - 5s 22ms/step - loss: 0.4666 - accuracy: 0.8484 - val_loss: 0.5263 - val_accuracy: 0.8940\n",
            "Epoch 60/100\n",
            "250/250 [==============================] - 6s 22ms/step - loss: 0.4608 - accuracy: 0.8487 - val_loss: 0.5471 - val_accuracy: 0.8828\n",
            "Epoch 61/100\n",
            "250/250 [==============================] - 6s 22ms/step - loss: 0.4647 - accuracy: 0.8461 - val_loss: 0.5260 - val_accuracy: 0.8866\n",
            "Epoch 62/100\n",
            "250/250 [==============================] - 6s 22ms/step - loss: 0.4450 - accuracy: 0.8526 - val_loss: 0.5680 - val_accuracy: 0.8922\n",
            "Epoch 63/100\n",
            "250/250 [==============================] - 6s 22ms/step - loss: 0.4550 - accuracy: 0.8512 - val_loss: 0.5454 - val_accuracy: 0.8810\n",
            "Epoch 64/100\n",
            "250/250 [==============================] - 6s 22ms/step - loss: 0.4370 - accuracy: 0.8558 - val_loss: 0.4956 - val_accuracy: 0.9018\n",
            "Epoch 65/100\n",
            "250/250 [==============================] - 6s 22ms/step - loss: 0.4306 - accuracy: 0.8626 - val_loss: 0.4919 - val_accuracy: 0.8960\n",
            "Epoch 66/100\n",
            "250/250 [==============================] - 6s 23ms/step - loss: 0.4142 - accuracy: 0.8675 - val_loss: 0.4740 - val_accuracy: 0.9052\n",
            "Epoch 67/100\n",
            "250/250 [==============================] - 6s 23ms/step - loss: 0.4054 - accuracy: 0.8673 - val_loss: 0.4785 - val_accuracy: 0.9106\n",
            "Epoch 68/100\n",
            "250/250 [==============================] - 6s 22ms/step - loss: 0.3855 - accuracy: 0.8730 - val_loss: 0.4700 - val_accuracy: 0.9100\n",
            "Epoch 69/100\n",
            "250/250 [==============================] - 6s 22ms/step - loss: 0.3926 - accuracy: 0.8719 - val_loss: 0.4930 - val_accuracy: 0.8804\n",
            "Epoch 70/100\n",
            "250/250 [==============================] - 6s 22ms/step - loss: 0.3798 - accuracy: 0.8791 - val_loss: 0.4482 - val_accuracy: 0.9070\n",
            "Epoch 71/100\n",
            "250/250 [==============================] - 6s 22ms/step - loss: 0.3849 - accuracy: 0.8745 - val_loss: 0.4411 - val_accuracy: 0.9080\n",
            "Epoch 72/100\n",
            "250/250 [==============================] - 6s 22ms/step - loss: 0.3765 - accuracy: 0.8765 - val_loss: 0.4372 - val_accuracy: 0.9080\n",
            "Epoch 73/100\n",
            "250/250 [==============================] - 6s 23ms/step - loss: 0.3544 - accuracy: 0.8860 - val_loss: 0.4274 - val_accuracy: 0.9098\n",
            "Epoch 74/100\n",
            "250/250 [==============================] - 6s 22ms/step - loss: 0.3613 - accuracy: 0.8825 - val_loss: 0.4144 - val_accuracy: 0.9200\n",
            "Epoch 75/100\n",
            "250/250 [==============================] - 6s 23ms/step - loss: 0.3396 - accuracy: 0.8880 - val_loss: 0.4490 - val_accuracy: 0.9000\n",
            "Epoch 76/100\n",
            "250/250 [==============================] - 5s 22ms/step - loss: 0.3475 - accuracy: 0.8834 - val_loss: 0.4235 - val_accuracy: 0.9172\n",
            "Epoch 77/100\n",
            "250/250 [==============================] - 6s 22ms/step - loss: 0.3204 - accuracy: 0.8953 - val_loss: 0.4300 - val_accuracy: 0.9104\n",
            "Epoch 78/100\n",
            "250/250 [==============================] - 6s 23ms/step - loss: 0.3216 - accuracy: 0.8965 - val_loss: 0.4078 - val_accuracy: 0.9186\n",
            "Epoch 79/100\n",
            "250/250 [==============================] - 5s 22ms/step - loss: 0.3268 - accuracy: 0.8947 - val_loss: 0.4241 - val_accuracy: 0.9190\n",
            "Epoch 80/100\n",
            "250/250 [==============================] - 6s 22ms/step - loss: 0.3163 - accuracy: 0.8975 - val_loss: 0.4549 - val_accuracy: 0.8958\n",
            "Epoch 81/100\n",
            "250/250 [==============================] - 6s 23ms/step - loss: 0.3180 - accuracy: 0.8964 - val_loss: 0.3893 - val_accuracy: 0.9200\n",
            "Epoch 82/100\n",
            "250/250 [==============================] - 6s 22ms/step - loss: 0.3003 - accuracy: 0.9066 - val_loss: 0.3831 - val_accuracy: 0.9208\n",
            "Epoch 83/100\n",
            "250/250 [==============================] - 6s 23ms/step - loss: 0.3046 - accuracy: 0.9003 - val_loss: 0.3739 - val_accuracy: 0.9198\n",
            "Epoch 84/100\n",
            "250/250 [==============================] - 6s 23ms/step - loss: 0.2912 - accuracy: 0.9034 - val_loss: 0.3798 - val_accuracy: 0.9230\n",
            "Epoch 85/100\n",
            "250/250 [==============================] - 6s 23ms/step - loss: 0.2980 - accuracy: 0.8996 - val_loss: 0.3710 - val_accuracy: 0.9238\n",
            "Epoch 86/100\n",
            "250/250 [==============================] - 6s 23ms/step - loss: 0.2842 - accuracy: 0.9095 - val_loss: 0.3816 - val_accuracy: 0.9260\n",
            "Epoch 87/100\n",
            "250/250 [==============================] - 6s 22ms/step - loss: 0.2667 - accuracy: 0.9121 - val_loss: 0.3621 - val_accuracy: 0.9260\n",
            "Epoch 88/100\n",
            "250/250 [==============================] - 6s 23ms/step - loss: 0.2715 - accuracy: 0.9122 - val_loss: 0.3599 - val_accuracy: 0.9268\n",
            "Epoch 89/100\n",
            "250/250 [==============================] - 6s 23ms/step - loss: 0.2774 - accuracy: 0.9086 - val_loss: 0.3771 - val_accuracy: 0.9226\n",
            "Epoch 90/100\n",
            "250/250 [==============================] - 6s 23ms/step - loss: 0.2759 - accuracy: 0.9068 - val_loss: 0.3985 - val_accuracy: 0.9166\n",
            "Epoch 91/100\n",
            "250/250 [==============================] - 6s 23ms/step - loss: 0.2659 - accuracy: 0.9100 - val_loss: 0.3684 - val_accuracy: 0.9238\n",
            "Epoch 92/100\n",
            "250/250 [==============================] - 6s 23ms/step - loss: 0.2744 - accuracy: 0.9126 - val_loss: 0.3666 - val_accuracy: 0.9202\n",
            "Epoch 93/100\n",
            "250/250 [==============================] - 6s 23ms/step - loss: 0.2647 - accuracy: 0.9168 - val_loss: 0.3588 - val_accuracy: 0.9246\n",
            "Epoch 94/100\n",
            "250/250 [==============================] - 6s 23ms/step - loss: 0.2482 - accuracy: 0.9189 - val_loss: 0.3473 - val_accuracy: 0.9286\n",
            "Epoch 95/100\n",
            "250/250 [==============================] - 6s 23ms/step - loss: 0.2508 - accuracy: 0.9145 - val_loss: 0.3476 - val_accuracy: 0.9260\n",
            "Epoch 96/100\n",
            "250/250 [==============================] - 6s 22ms/step - loss: 0.2528 - accuracy: 0.9180 - val_loss: 0.3589 - val_accuracy: 0.9240\n",
            "Epoch 97/100\n",
            "250/250 [==============================] - 6s 23ms/step - loss: 0.2343 - accuracy: 0.9260 - val_loss: 0.3484 - val_accuracy: 0.9270\n",
            "Epoch 98/100\n",
            "250/250 [==============================] - 6s 23ms/step - loss: 0.2443 - accuracy: 0.9200 - val_loss: 0.3605 - val_accuracy: 0.9236\n",
            "Epoch 99/100\n",
            "250/250 [==============================] - 6s 23ms/step - loss: 0.2419 - accuracy: 0.9214 - val_loss: 0.3408 - val_accuracy: 0.9280\n",
            "Epoch 100/100\n",
            "250/250 [==============================] - 6s 22ms/step - loss: 0.2334 - accuracy: 0.9221 - val_loss: 0.3548 - val_accuracy: 0.9256\n"
          ]
        }
      ]
    },
    {
      "cell_type": "code",
      "source": [
        "target_names = pd.Categorical(df_cuisine['cuisine']).categories"
      ],
      "metadata": {
        "id": "U4MpTmGtNSEg"
      },
      "execution_count": 172,
      "outputs": []
    },
    {
      "cell_type": "code",
      "source": [
        "y_prob = model_cuisine.predict(X_test_w2v_padded)\n",
        "y_pred = np.argmax(y_prob,axis=1)\n",
        "print(classification_report(y_test_int_cuisine,y_pred, target_names=target_names))"
      ],
      "metadata": {
        "id": "PETPLG4XfKc5",
        "colab": {
          "base_uri": "https://localhost:8080/"
        },
        "outputId": "f52cbc77-ef5d-44e3-e567-ca56296f93d1"
      },
      "execution_count": 173,
      "outputs": [
        {
          "output_type": "stream",
          "name": "stdout",
          "text": [
            "              precision    recall  f1-score   support\n",
            "\n",
            "   brazilian       0.79      0.85      0.82        62\n",
            "     british       0.85      0.86      0.86        87\n",
            "cajun_creole       0.93      0.90      0.92       217\n",
            "     chinese       0.89      0.93      0.91       337\n",
            "    filipino       0.84      0.84      0.84        91\n",
            "      french       0.84      0.92      0.88       333\n",
            "       greek       0.96      0.88      0.91       152\n",
            "      indian       0.95      0.96      0.95       363\n",
            "       irish       0.89      0.84      0.86        85\n",
            "     italian       0.98      0.94      0.96       953\n",
            "    jamaican       0.89      0.89      0.89        81\n",
            "    japanese       0.92      0.88      0.90       178\n",
            "      korean       0.95      0.88      0.91       108\n",
            "     mexican       0.96      0.99      0.97       825\n",
            "    moroccan       0.95      0.83      0.89       101\n",
            "     russian       0.91      0.84      0.87        62\n",
            " southern_us       0.91      0.92      0.91       563\n",
            "     spanish       0.85      0.85      0.85       127\n",
            "        thai       0.85      0.94      0.89       178\n",
            "  vietnamese       0.91      0.84      0.87        97\n",
            "\n",
            "    accuracy                           0.92      5000\n",
            "   macro avg       0.90      0.89      0.89      5000\n",
            "weighted avg       0.92      0.92      0.92      5000\n",
            "\n"
          ]
        }
      ]
    },
    {
      "cell_type": "code",
      "source": [
        "plt.plot(history_fine.history['loss'])\n",
        "plt.plot(history_fine.history['val_loss'])\n",
        "plt.title('model loss')\n",
        "plt.ylabel('loss')\n",
        "plt.xlabel('epoch')\n",
        "plt.legend(['training set','validation set'], loc='upper left')\n",
        "plt.show()"
      ],
      "metadata": {
        "id": "sTHoxENHict8",
        "colab": {
          "base_uri": "https://localhost:8080/",
          "height": 295
        },
        "outputId": "ece16bd5-24bf-415e-e61b-0a38a48aeee9"
      },
      "execution_count": 174,
      "outputs": [
        {
          "output_type": "display_data",
          "data": {
            "text/plain": [
              "<Figure size 432x288 with 1 Axes>"
            ],
            "image/png": "[encoded data removed]"
          },
          "metadata": {
            "needs_background": "light"
          }
        }
      ]
    },
    {
      "cell_type": "code",
      "source": [
        "plt.plot(history_fine.history['accuracy'])\n",
        "plt.plot(history_fine.history['val_accuracy'])\n",
        "plt.title('model accuracy')\n",
        "plt.ylabel('accuracy')\n",
        "plt.xlabel('epoch')\n",
        "plt.legend(['training set','validation set'], loc='upper left')\n",
        "plt.show()"
      ],
      "metadata": {
        "id": "KVxNIICdict9",
        "colab": {
          "base_uri": "https://localhost:8080/",
          "height": 295
        },
        "outputId": "963bcd91-1049-43b3-f74d-247f28819900"
      },
      "execution_count": 175,
      "outputs": [
        {
          "output_type": "display_data",
          "data": {
            "text/plain": [
              "<Figure size 432x288 with 1 Axes>"
            ],
            "image/png": "[encoded data removed]"
          },
          "metadata": {
            "needs_background": "light"
          }
        }
      ]
    },
    {
      "cell_type": "code",
      "source": [
        "disp = ConfusionMatrixDisplay.from_predictions(y_test_int_cuisine, y_pred)\n",
        "fig = disp.ax_.get_figure()  \n",
        "fig.set_figwidth(10) \n",
        "fig.set_figheight(10)\n",
        "plt.show()"
      ],
      "metadata": {
        "colab": {
          "base_uri": "https://localhost:8080/",
          "height": 580
        },
        "id": "2MUkzXBZTdQG",
        "outputId": "dc0fd540-17be-4df7-b83e-c704df1290b4"
      },
      "execution_count": 176,
      "outputs": [
        {
          "output_type": "display_data",
          "data": {
            "text/plain": [
              "<Figure size 720x720 with 2 Axes>"
            ],
            "image/png": "[encoded data removed]"
          },
          "metadata": {
            "needs_background": "light"
          }
        }
      ]
    },
    {
      "cell_type": "markdown",
      "source": [
        "### GLOVE"
      ],
      "metadata": {
        "id": "DFYNEQqpQghM"
      }
    },
    {
      "cell_type": "code",
      "source": [
        "embedding_layer = Embedding(input_dim=vocab_size_cuisine, output_dim=EMBEDDING_DIM_GLV, weights=[embedding_glove], input_length=MAX_LENGTH, trainable=False)"
      ],
      "metadata": {
        "id": "kTEZW2UFQghM"
      },
      "execution_count": 96,
      "outputs": []
    },
    {
      "cell_type": "code",
      "source": [
        "model_CNN = CNNHyperModel(embedding_layer, 20)"
      ],
      "metadata": {
        "id": "e0sbiwiuQghN"
      },
      "execution_count": 99,
      "outputs": []
    },
    {
      "cell_type": "code",
      "source": [
        "tuner = kt.Hyperband(\n",
        "    model_CNN,\n",
        "    objective='val_accuracy',\n",
        "    max_epochs=30,\n",
        "    hyperband_iterations=2,\n",
        "    overwrite=True)"
      ],
      "metadata": {
        "id": "1taDRaBrQghN"
      },
      "execution_count": 100,
      "outputs": []
    },
    {
      "cell_type": "code",
      "source": [
        "tuner.search(X_train_glove_padded,y_train_cuisine,validation_data=(X_valid_glove_padded,y_valid_cuisine),epochs=50)"
      ],
      "metadata": {
        "colab": {
          "base_uri": "https://localhost:8080/"
        },
        "outputId": "5f2b5acc-2fa7-4f82-99d6-50cd2929931b",
        "id": "MgiVx178QghN"
      },
      "execution_count": 101,
      "outputs": [
        {
          "output_type": "stream",
          "name": "stdout",
          "text": [
            "Trial 11 Complete [00h 00m 06s]\n",
            "val_accuracy: 0.4480000138282776\n",
            "\n",
            "Best val_accuracy So Far: 0.47760000824928284\n",
            "Total elapsed time: 00h 01m 46s\n"
          ]
        }
      ]
    },
    {
      "cell_type": "code",
      "source": [
        "best_hps = tuner.get_best_hyperparameters(num_trials=1)[0]"
      ],
      "metadata": {
        "id": "mzO7HtPNQghN"
      },
      "execution_count": 102,
      "outputs": []
    },
    {
      "cell_type": "code",
      "source": [
        "model_cuisine = tuner.hypermodel.build(best_hps)"
      ],
      "metadata": {
        "id": "bEEaR_MfQghN"
      },
      "execution_count": 103,
      "outputs": []
    },
    {
      "cell_type": "code",
      "source": [
        "model_cuisine.summary()"
      ],
      "metadata": {
        "colab": {
          "base_uri": "https://localhost:8080/"
        },
        "outputId": "c475d7b8-7133-442d-bbf8-d64962fe0b0a",
        "id": "h4jxmqQwQghN"
      },
      "execution_count": 104,
      "outputs": [
        {
          "output_type": "stream",
          "name": "stdout",
          "text": [
            "Model: \"sequential_1\"\n",
            "_________________________________________________________________\n",
            " Layer (type)                Output Shape              Param #   \n",
            "=================================================================\n",
            " embedding (Embedding)       (None, 50, 100)           215000    \n",
            "                                                                 \n",
            " conv1d_1 (Conv1D)           (None, 45, 128)           76928     \n",
            "                                                                 \n",
            " dropout_1 (Dropout)         (None, 45, 128)           0         \n",
            "                                                                 \n",
            " global_max_pooling1d_1 (Glo  (None, 128)              0         \n",
            " balMaxPooling1D)                                                \n",
            "                                                                 \n",
            " dense_3 (Dense)             (None, 128)               16512     \n",
            "                                                                 \n",
            " dense_4 (Dense)             (None, 64)                8256      \n",
            "                                                                 \n",
            " dense_5 (Dense)             (None, 20)                1300      \n",
            "                                                                 \n",
            "=================================================================\n",
            "Total params: 317,996\n",
            "Trainable params: 102,996\n",
            "Non-trainable params: 215,000\n",
            "_________________________________________________________________\n"
          ]
        }
      ]
    },
    {
      "cell_type": "code",
      "source": [
        "history_fine = model_cuisine.fit(X_train_glove_padded,y_train_cuisine,validation_data=(X_valid_glove_padded,y_valid_cuisine), epochs=100) "
      ],
      "metadata": {
        "colab": {
          "base_uri": "https://localhost:8080/"
        },
        "outputId": "9985c834-eb46-4dbc-f512-09167289ee44",
        "id": "CPGhedV3QghN"
      },
      "execution_count": 105,
      "outputs": [
        {
          "output_type": "stream",
          "name": "stdout",
          "text": [
            "Epoch 1/100\n",
            "250/250 [==============================] - 4s 15ms/step - loss: 2.4650 - accuracy: 0.2848 - val_loss: 2.4202 - val_accuracy: 0.4094\n",
            "Epoch 2/100\n",
            "250/250 [==============================] - 3s 13ms/step - loss: 2.0206 - accuracy: 0.4380 - val_loss: 2.1011 - val_accuracy: 0.4760\n",
            "Epoch 3/100\n",
            "250/250 [==============================] - 3s 13ms/step - loss: 1.7970 - accuracy: 0.4770 - val_loss: 1.9587 - val_accuracy: 0.4910\n",
            "Epoch 4/100\n",
            "250/250 [==============================] - 3s 14ms/step - loss: 1.6739 - accuracy: 0.5036 - val_loss: 1.8755 - val_accuracy: 0.5266\n",
            "Epoch 5/100\n",
            "250/250 [==============================] - 3s 14ms/step - loss: 1.5968 - accuracy: 0.5190 - val_loss: 1.7702 - val_accuracy: 0.5394\n",
            "Epoch 6/100\n",
            "250/250 [==============================] - 3s 14ms/step - loss: 1.5359 - accuracy: 0.5329 - val_loss: 1.7071 - val_accuracy: 0.5510\n",
            "Epoch 7/100\n",
            "250/250 [==============================] - 3s 13ms/step - loss: 1.4865 - accuracy: 0.5441 - val_loss: 1.6660 - val_accuracy: 0.5644\n",
            "Epoch 8/100\n",
            "250/250 [==============================] - 3s 14ms/step - loss: 1.4456 - accuracy: 0.5556 - val_loss: 1.6425 - val_accuracy: 0.5764\n",
            "Epoch 9/100\n",
            "250/250 [==============================] - 3s 14ms/step - loss: 1.4073 - accuracy: 0.5655 - val_loss: 1.5785 - val_accuracy: 0.5820\n",
            "Epoch 10/100\n",
            "250/250 [==============================] - 3s 13ms/step - loss: 1.3845 - accuracy: 0.5701 - val_loss: 1.5541 - val_accuracy: 0.5954\n",
            "Epoch 11/100\n",
            "250/250 [==============================] - 3s 13ms/step - loss: 1.3568 - accuracy: 0.5780 - val_loss: 1.5147 - val_accuracy: 0.6084\n",
            "Epoch 12/100\n",
            "250/250 [==============================] - 3s 13ms/step - loss: 1.3328 - accuracy: 0.5829 - val_loss: 1.4886 - val_accuracy: 0.6028\n",
            "Epoch 13/100\n",
            "250/250 [==============================] - 3s 13ms/step - loss: 1.3121 - accuracy: 0.5931 - val_loss: 1.4411 - val_accuracy: 0.6106\n",
            "Epoch 14/100\n",
            "250/250 [==============================] - 3s 14ms/step - loss: 1.2893 - accuracy: 0.5945 - val_loss: 1.4547 - val_accuracy: 0.6250\n",
            "Epoch 15/100\n",
            "250/250 [==============================] - 3s 13ms/step - loss: 1.2648 - accuracy: 0.6033 - val_loss: 1.4076 - val_accuracy: 0.6192\n",
            "Epoch 16/100\n",
            "250/250 [==============================] - 3s 13ms/step - loss: 1.2547 - accuracy: 0.6089 - val_loss: 1.4013 - val_accuracy: 0.6328\n",
            "Epoch 17/100\n",
            "250/250 [==============================] - 3s 13ms/step - loss: 1.2247 - accuracy: 0.6162 - val_loss: 1.3732 - val_accuracy: 0.6454\n",
            "Epoch 18/100\n",
            "250/250 [==============================] - 3s 13ms/step - loss: 1.2103 - accuracy: 0.6206 - val_loss: 1.3486 - val_accuracy: 0.6384\n",
            "Epoch 19/100\n",
            "250/250 [==============================] - 3s 13ms/step - loss: 1.1957 - accuracy: 0.6286 - val_loss: 1.3502 - val_accuracy: 0.6440\n",
            "Epoch 20/100\n",
            "250/250 [==============================] - 3s 13ms/step - loss: 1.1775 - accuracy: 0.6302 - val_loss: 1.3198 - val_accuracy: 0.6562\n",
            "Epoch 21/100\n",
            "250/250 [==============================] - 3s 13ms/step - loss: 1.1717 - accuracy: 0.6315 - val_loss: 1.3019 - val_accuracy: 0.6604\n",
            "Epoch 22/100\n",
            "250/250 [==============================] - 3s 13ms/step - loss: 1.1457 - accuracy: 0.6398 - val_loss: 1.2973 - val_accuracy: 0.6664\n",
            "Epoch 23/100\n",
            "250/250 [==============================] - 3s 13ms/step - loss: 1.1338 - accuracy: 0.6451 - val_loss: 1.2858 - val_accuracy: 0.6832\n",
            "Epoch 24/100\n",
            "250/250 [==============================] - 3s 14ms/step - loss: 1.1236 - accuracy: 0.6476 - val_loss: 1.2578 - val_accuracy: 0.6740\n",
            "Epoch 25/100\n",
            "250/250 [==============================] - 3s 13ms/step - loss: 1.1118 - accuracy: 0.6457 - val_loss: 1.2446 - val_accuracy: 0.6660\n",
            "Epoch 26/100\n",
            "250/250 [==============================] - 3s 13ms/step - loss: 1.0935 - accuracy: 0.6590 - val_loss: 1.2333 - val_accuracy: 0.6810\n",
            "Epoch 27/100\n",
            "250/250 [==============================] - 3s 14ms/step - loss: 1.0786 - accuracy: 0.6555 - val_loss: 1.2202 - val_accuracy: 0.6866\n",
            "Epoch 28/100\n",
            "250/250 [==============================] - 3s 14ms/step - loss: 1.0702 - accuracy: 0.6644 - val_loss: 1.1822 - val_accuracy: 0.6836\n",
            "Epoch 29/100\n",
            "250/250 [==============================] - 3s 14ms/step - loss: 1.0657 - accuracy: 0.6639 - val_loss: 1.1653 - val_accuracy: 0.7002\n",
            "Epoch 30/100\n",
            "250/250 [==============================] - 3s 14ms/step - loss: 1.0458 - accuracy: 0.6695 - val_loss: 1.1869 - val_accuracy: 0.7080\n",
            "Epoch 31/100\n",
            "250/250 [==============================] - 3s 14ms/step - loss: 1.0267 - accuracy: 0.6715 - val_loss: 1.2118 - val_accuracy: 0.6922\n",
            "Epoch 32/100\n",
            "250/250 [==============================] - 3s 14ms/step - loss: 1.0208 - accuracy: 0.6739 - val_loss: 1.1452 - val_accuracy: 0.7150\n",
            "Epoch 33/100\n",
            "250/250 [==============================] - 3s 13ms/step - loss: 1.0027 - accuracy: 0.6806 - val_loss: 1.1032 - val_accuracy: 0.7042\n",
            "Epoch 34/100\n",
            "250/250 [==============================] - 3s 14ms/step - loss: 0.9995 - accuracy: 0.6891 - val_loss: 1.1317 - val_accuracy: 0.7282\n",
            "Epoch 35/100\n",
            "250/250 [==============================] - 3s 14ms/step - loss: 0.9831 - accuracy: 0.6906 - val_loss: 1.0974 - val_accuracy: 0.7348\n",
            "Epoch 36/100\n",
            "250/250 [==============================] - 3s 14ms/step - loss: 0.9756 - accuracy: 0.6948 - val_loss: 1.0783 - val_accuracy: 0.7184\n",
            "Epoch 37/100\n",
            "250/250 [==============================] - 3s 13ms/step - loss: 0.9646 - accuracy: 0.6883 - val_loss: 1.0841 - val_accuracy: 0.7262\n",
            "Epoch 38/100\n",
            "250/250 [==============================] - 3s 13ms/step - loss: 0.9572 - accuracy: 0.6973 - val_loss: 1.0614 - val_accuracy: 0.7430\n",
            "Epoch 39/100\n",
            "250/250 [==============================] - 3s 14ms/step - loss: 0.9576 - accuracy: 0.6985 - val_loss: 1.0709 - val_accuracy: 0.7446\n",
            "Epoch 40/100\n",
            "250/250 [==============================] - 3s 14ms/step - loss: 0.9376 - accuracy: 0.7044 - val_loss: 1.0375 - val_accuracy: 0.7448\n",
            "Epoch 41/100\n",
            "250/250 [==============================] - 3s 13ms/step - loss: 0.9390 - accuracy: 0.6998 - val_loss: 1.0243 - val_accuracy: 0.7336\n",
            "Epoch 42/100\n",
            "250/250 [==============================] - 3s 13ms/step - loss: 0.9281 - accuracy: 0.7045 - val_loss: 1.0169 - val_accuracy: 0.7542\n",
            "Epoch 43/100\n",
            "250/250 [==============================] - 3s 14ms/step - loss: 0.9144 - accuracy: 0.7094 - val_loss: 1.0092 - val_accuracy: 0.7552\n",
            "Epoch 44/100\n",
            "250/250 [==============================] - 3s 14ms/step - loss: 0.9078 - accuracy: 0.7076 - val_loss: 1.0061 - val_accuracy: 0.7614\n",
            "Epoch 45/100\n",
            "250/250 [==============================] - 3s 13ms/step - loss: 0.8937 - accuracy: 0.7154 - val_loss: 1.0062 - val_accuracy: 0.7670\n",
            "Epoch 46/100\n",
            "250/250 [==============================] - 3s 13ms/step - loss: 0.8911 - accuracy: 0.7153 - val_loss: 0.9970 - val_accuracy: 0.7626\n",
            "Epoch 47/100\n",
            "250/250 [==============================] - 3s 14ms/step - loss: 0.8762 - accuracy: 0.7195 - val_loss: 0.9630 - val_accuracy: 0.7536\n",
            "Epoch 48/100\n",
            "250/250 [==============================] - 3s 14ms/step - loss: 0.8666 - accuracy: 0.7261 - val_loss: 0.9582 - val_accuracy: 0.7736\n",
            "Epoch 49/100\n",
            "250/250 [==============================] - 3s 14ms/step - loss: 0.8679 - accuracy: 0.7165 - val_loss: 0.9438 - val_accuracy: 0.7604\n",
            "Epoch 50/100\n",
            "250/250 [==============================] - 3s 14ms/step - loss: 0.8569 - accuracy: 0.7219 - val_loss: 0.9325 - val_accuracy: 0.7676\n",
            "Epoch 51/100\n",
            "250/250 [==============================] - 3s 14ms/step - loss: 0.8419 - accuracy: 0.7330 - val_loss: 0.9124 - val_accuracy: 0.7690\n",
            "Epoch 52/100\n",
            "250/250 [==============================] - 3s 13ms/step - loss: 0.8353 - accuracy: 0.7321 - val_loss: 0.9160 - val_accuracy: 0.7684\n",
            "Epoch 53/100\n",
            "250/250 [==============================] - 3s 13ms/step - loss: 0.8401 - accuracy: 0.7304 - val_loss: 0.9303 - val_accuracy: 0.7784\n",
            "Epoch 54/100\n",
            "250/250 [==============================] - 3s 14ms/step - loss: 0.8143 - accuracy: 0.7369 - val_loss: 0.9177 - val_accuracy: 0.7892\n",
            "Epoch 55/100\n",
            "250/250 [==============================] - 3s 14ms/step - loss: 0.8192 - accuracy: 0.7393 - val_loss: 0.9309 - val_accuracy: 0.7766\n",
            "Epoch 56/100\n",
            "250/250 [==============================] - 3s 13ms/step - loss: 0.8098 - accuracy: 0.7394 - val_loss: 0.9041 - val_accuracy: 0.7944\n",
            "Epoch 57/100\n",
            "250/250 [==============================] - 3s 14ms/step - loss: 0.8061 - accuracy: 0.7408 - val_loss: 0.8698 - val_accuracy: 0.7942\n",
            "Epoch 58/100\n",
            "250/250 [==============================] - 3s 14ms/step - loss: 0.7941 - accuracy: 0.7448 - val_loss: 0.8800 - val_accuracy: 0.8030\n",
            "Epoch 59/100\n",
            "250/250 [==============================] - 3s 13ms/step - loss: 0.7774 - accuracy: 0.7504 - val_loss: 0.8676 - val_accuracy: 0.7936\n",
            "Epoch 60/100\n",
            "250/250 [==============================] - 3s 13ms/step - loss: 0.7777 - accuracy: 0.7505 - val_loss: 0.8574 - val_accuracy: 0.7870\n",
            "Epoch 61/100\n",
            "250/250 [==============================] - 3s 14ms/step - loss: 0.7836 - accuracy: 0.7446 - val_loss: 0.8458 - val_accuracy: 0.7962\n",
            "Epoch 62/100\n",
            "250/250 [==============================] - 3s 13ms/step - loss: 0.7693 - accuracy: 0.7523 - val_loss: 0.8280 - val_accuracy: 0.8164\n",
            "Epoch 63/100\n",
            "250/250 [==============================] - 4s 14ms/step - loss: 0.7599 - accuracy: 0.7541 - val_loss: 0.8262 - val_accuracy: 0.7890\n",
            "Epoch 64/100\n",
            "250/250 [==============================] - 3s 13ms/step - loss: 0.7531 - accuracy: 0.7514 - val_loss: 0.8244 - val_accuracy: 0.8196\n",
            "Epoch 65/100\n",
            "250/250 [==============================] - 3s 14ms/step - loss: 0.7577 - accuracy: 0.7527 - val_loss: 0.8014 - val_accuracy: 0.8144\n",
            "Epoch 66/100\n",
            "250/250 [==============================] - 3s 14ms/step - loss: 0.7399 - accuracy: 0.7616 - val_loss: 0.8003 - val_accuracy: 0.8210\n",
            "Epoch 67/100\n",
            "250/250 [==============================] - 3s 14ms/step - loss: 0.7399 - accuracy: 0.7623 - val_loss: 0.8068 - val_accuracy: 0.8112\n",
            "Epoch 68/100\n",
            "250/250 [==============================] - 3s 14ms/step - loss: 0.7235 - accuracy: 0.7645 - val_loss: 0.7983 - val_accuracy: 0.8218\n",
            "Epoch 69/100\n",
            "250/250 [==============================] - 3s 14ms/step - loss: 0.7237 - accuracy: 0.7659 - val_loss: 0.8040 - val_accuracy: 0.8146\n",
            "Epoch 70/100\n",
            "250/250 [==============================] - 3s 14ms/step - loss: 0.7178 - accuracy: 0.7661 - val_loss: 0.7912 - val_accuracy: 0.8228\n",
            "Epoch 71/100\n",
            "250/250 [==============================] - 3s 13ms/step - loss: 0.7198 - accuracy: 0.7651 - val_loss: 0.7861 - val_accuracy: 0.8206\n",
            "Epoch 72/100\n",
            "250/250 [==============================] - 3s 14ms/step - loss: 0.7042 - accuracy: 0.7692 - val_loss: 0.7623 - val_accuracy: 0.8268\n",
            "Epoch 73/100\n",
            "250/250 [==============================] - 3s 14ms/step - loss: 0.7086 - accuracy: 0.7674 - val_loss: 0.7520 - val_accuracy: 0.8250\n",
            "Epoch 74/100\n",
            "250/250 [==============================] - 3s 13ms/step - loss: 0.6965 - accuracy: 0.7745 - val_loss: 0.7598 - val_accuracy: 0.8192\n",
            "Epoch 75/100\n",
            "250/250 [==============================] - 3s 14ms/step - loss: 0.6868 - accuracy: 0.7744 - val_loss: 0.7336 - val_accuracy: 0.8280\n",
            "Epoch 76/100\n",
            "250/250 [==============================] - 3s 14ms/step - loss: 0.6792 - accuracy: 0.7717 - val_loss: 0.7333 - val_accuracy: 0.8450\n",
            "Epoch 77/100\n",
            "250/250 [==============================] - 3s 13ms/step - loss: 0.6695 - accuracy: 0.7816 - val_loss: 0.7135 - val_accuracy: 0.8432\n",
            "Epoch 78/100\n",
            "250/250 [==============================] - 3s 14ms/step - loss: 0.6762 - accuracy: 0.7765 - val_loss: 0.8303 - val_accuracy: 0.7952\n",
            "Epoch 79/100\n",
            "250/250 [==============================] - 3s 14ms/step - loss: 0.6743 - accuracy: 0.7794 - val_loss: 0.7227 - val_accuracy: 0.8330\n",
            "Epoch 80/100\n",
            "250/250 [==============================] - 3s 14ms/step - loss: 0.6711 - accuracy: 0.7815 - val_loss: 0.7119 - val_accuracy: 0.8254\n",
            "Epoch 81/100\n",
            "250/250 [==============================] - 3s 14ms/step - loss: 0.6594 - accuracy: 0.7845 - val_loss: 0.7087 - val_accuracy: 0.8474\n",
            "Epoch 82/100\n",
            "250/250 [==============================] - 3s 13ms/step - loss: 0.6634 - accuracy: 0.7745 - val_loss: 0.7101 - val_accuracy: 0.8424\n",
            "Epoch 83/100\n",
            "250/250 [==============================] - 3s 13ms/step - loss: 0.6519 - accuracy: 0.7789 - val_loss: 0.7113 - val_accuracy: 0.8334\n",
            "Epoch 84/100\n",
            "250/250 [==============================] - 4s 16ms/step - loss: 0.6478 - accuracy: 0.7839 - val_loss: 0.6807 - val_accuracy: 0.8432\n",
            "Epoch 85/100\n",
            "250/250 [==============================] - 3s 14ms/step - loss: 0.6544 - accuracy: 0.7791 - val_loss: 0.6903 - val_accuracy: 0.8508\n",
            "Epoch 86/100\n",
            "250/250 [==============================] - 3s 13ms/step - loss: 0.6328 - accuracy: 0.7860 - val_loss: 0.6785 - val_accuracy: 0.8540\n",
            "Epoch 87/100\n",
            "250/250 [==============================] - 3s 13ms/step - loss: 0.6389 - accuracy: 0.7924 - val_loss: 0.7412 - val_accuracy: 0.8450\n",
            "Epoch 88/100\n",
            "250/250 [==============================] - 3s 14ms/step - loss: 0.6341 - accuracy: 0.7903 - val_loss: 0.6594 - val_accuracy: 0.8516\n",
            "Epoch 89/100\n",
            "250/250 [==============================] - 3s 14ms/step - loss: 0.6283 - accuracy: 0.7931 - val_loss: 0.6850 - val_accuracy: 0.8598\n",
            "Epoch 90/100\n",
            "250/250 [==============================] - 3s 13ms/step - loss: 0.6238 - accuracy: 0.7935 - val_loss: 0.6519 - val_accuracy: 0.8536\n",
            "Epoch 91/100\n",
            "250/250 [==============================] - 3s 14ms/step - loss: 0.6164 - accuracy: 0.7962 - val_loss: 0.6551 - val_accuracy: 0.8554\n",
            "Epoch 92/100\n",
            "250/250 [==============================] - 3s 14ms/step - loss: 0.5991 - accuracy: 0.8058 - val_loss: 0.6309 - val_accuracy: 0.8590\n",
            "Epoch 93/100\n",
            "250/250 [==============================] - 3s 14ms/step - loss: 0.6189 - accuracy: 0.7933 - val_loss: 0.6558 - val_accuracy: 0.8432\n",
            "Epoch 94/100\n",
            "250/250 [==============================] - 4s 14ms/step - loss: 0.5918 - accuracy: 0.8010 - val_loss: 0.6488 - val_accuracy: 0.8620\n",
            "Epoch 95/100\n",
            "250/250 [==============================] - 3s 14ms/step - loss: 0.5986 - accuracy: 0.7999 - val_loss: 0.6288 - val_accuracy: 0.8634\n",
            "Epoch 96/100\n",
            "250/250 [==============================] - 3s 13ms/step - loss: 0.5974 - accuracy: 0.7991 - val_loss: 0.6188 - val_accuracy: 0.8714\n",
            "Epoch 97/100\n",
            "250/250 [==============================] - 3s 13ms/step - loss: 0.5958 - accuracy: 0.7997 - val_loss: 0.6489 - val_accuracy: 0.8566\n",
            "Epoch 98/100\n",
            "250/250 [==============================] - 3s 14ms/step - loss: 0.5998 - accuracy: 0.8024 - val_loss: 0.6297 - val_accuracy: 0.8556\n",
            "Epoch 99/100\n",
            "250/250 [==============================] - 3s 13ms/step - loss: 0.5925 - accuracy: 0.8030 - val_loss: 0.6228 - val_accuracy: 0.8610\n",
            "Epoch 100/100\n",
            "250/250 [==============================] - 3s 14ms/step - loss: 0.5842 - accuracy: 0.8000 - val_loss: 0.6097 - val_accuracy: 0.8600\n"
          ]
        }
      ]
    },
    {
      "cell_type": "code",
      "source": [
        "target_names = pd.Categorical(df_cuisine['cuisine']).categories"
      ],
      "metadata": {
        "id": "QcMXHz3nQghN"
      },
      "execution_count": 106,
      "outputs": []
    },
    {
      "cell_type": "code",
      "source": [
        "y_prob = model_cuisine.predict(X_test_glove_padded)\n",
        "y_pred = np.argmax(y_prob,axis=1)\n",
        "print(classification_report(y_test_int_cuisine,y_pred, target_names=target_names))"
      ],
      "metadata": {
        "colab": {
          "base_uri": "https://localhost:8080/"
        },
        "outputId": "15e58883-4bbb-4ca0-f4ab-58ec2c0273b9",
        "id": "X8x28HL7QghN"
      },
      "execution_count": 107,
      "outputs": [
        {
          "output_type": "stream",
          "name": "stdout",
          "text": [
            "              precision    recall  f1-score   support\n",
            "\n",
            "   brazilian       0.85      0.53      0.65        62\n",
            "     british       0.78      0.60      0.68        87\n",
            "cajun_creole       0.93      0.81      0.87       217\n",
            "     chinese       0.87      0.87      0.87       337\n",
            "    filipino       0.84      0.69      0.76        91\n",
            "      french       0.71      0.84      0.77       333\n",
            "       greek       0.96      0.80      0.87       152\n",
            "      indian       0.94      0.94      0.94       363\n",
            "       irish       0.94      0.35      0.51        85\n",
            "     italian       0.92      0.92      0.92       953\n",
            "    jamaican       0.90      0.68      0.77        81\n",
            "    japanese       0.74      0.85      0.79       178\n",
            "      korean       0.94      0.78      0.85       108\n",
            "     mexican       0.95      0.95      0.95       825\n",
            "    moroccan       0.96      0.80      0.88       101\n",
            "     russian       0.75      0.61      0.67        62\n",
            " southern_us       0.70      0.92      0.79       563\n",
            "     spanish       0.92      0.72      0.81       127\n",
            "        thai       0.86      0.86      0.86       178\n",
            "  vietnamese       0.84      0.81      0.83        97\n",
            "\n",
            "    accuracy                           0.86      5000\n",
            "   macro avg       0.86      0.77      0.80      5000\n",
            "weighted avg       0.87      0.86      0.86      5000\n",
            "\n"
          ]
        }
      ]
    },
    {
      "cell_type": "code",
      "source": [
        "plt.plot(history_fine.history['loss'])\n",
        "plt.plot(history_fine.history['val_loss'])\n",
        "plt.title('model loss')\n",
        "plt.ylabel('loss')\n",
        "plt.xlabel('epoch')\n",
        "plt.legend(['training set','validation set'], loc='upper left')\n",
        "plt.show()"
      ],
      "metadata": {
        "colab": {
          "base_uri": "https://localhost:8080/",
          "height": 295
        },
        "outputId": "660ca945-7cbd-4080-d8ed-e28d90b377c7",
        "id": "BWOS_nk3QghN"
      },
      "execution_count": 108,
      "outputs": [
        {
          "output_type": "display_data",
          "data": {
            "text/plain": [
              "<Figure size 432x288 with 1 Axes>"
            ],
            "image/png": "[encoded data removed]"
          },
          "metadata": {
            "needs_background": "light"
          }
        }
      ]
    },
    {
      "cell_type": "code",
      "source": [
        "plt.plot(history_fine.history['accuracy'])\n",
        "plt.plot(history_fine.history['val_accuracy'])\n",
        "plt.title('model accuracy')\n",
        "plt.ylabel('accuracy')\n",
        "plt.xlabel('epoch')\n",
        "plt.legend(['training set','validation set'], loc='upper left')\n",
        "plt.show()"
      ],
      "metadata": {
        "colab": {
          "base_uri": "https://localhost:8080/",
          "height": 295
        },
        "outputId": "6aa75dcb-691b-4a51-d8a1-78bfc7a170eb",
        "id": "l8RqrocMQghN"
      },
      "execution_count": 109,
      "outputs": [
        {
          "output_type": "display_data",
          "data": {
            "text/plain": [
              "<Figure size 432x288 with 1 Axes>"
            ],
            "image/png": "[encoded data removed]"
          },
          "metadata": {
            "needs_background": "light"
          }
        }
      ]
    },
    {
      "cell_type": "code",
      "source": [
        "disp = ConfusionMatrixDisplay.from_predictions(y_test_int_cuisine, y_pred)\n",
        "fig = disp.ax_.get_figure()  \n",
        "fig.set_figwidth(10) \n",
        "fig.set_figheight(10)\n",
        "plt.show()"
      ],
      "metadata": {
        "colab": {
          "base_uri": "https://localhost:8080/",
          "height": 580
        },
        "outputId": "f647860e-ea2d-45e5-dc6f-1b5c97067999",
        "id": "d_yIiiLlQghN"
      },
      "execution_count": 110,
      "outputs": [
        {
          "output_type": "display_data",
          "data": {
            "text/plain": [
              "<Figure size 720x720 with 2 Axes>"
            ],
            "image/png": "[encoded data removed]"
          },
          "metadata": {
            "needs_background": "light"
          }
        }
      ]
    },
    {
      "cell_type": "markdown",
      "source": [
        "# LSTM"
      ],
      "metadata": {
        "id": "6RhLUtYqmRHE"
      }
    },
    {
      "cell_type": "code",
      "source": [
        "from keras_tuner import HyperModel\n",
        "\n",
        "class LSTMHyperModel(HyperModel):\n",
        "  def __init__(self, embedding_layer, output):\n",
        "    self.embedding_layer = embedding_layer\n",
        "    self.output = output\n",
        "\n",
        "  def build(self, hp):\n",
        "    model = Sequential()\n",
        "    model.add(self.embedding_layer)\n",
        "    model.add(Masking(mask_value=0.0))\n",
        "    model.add(LSTM(hp.Choice(\"lstm\", [64,128,256]), return_sequences=False, dropout=0.1, recurrent_dropout=0.1))\n",
        "    model.add(Dense(hp.Choice(\"dense1\", [32,64]), activation='relu'))\n",
        "    model.add(Dropout(0.5))\n",
        "    model.add(Dense(self.output, activation='softmax'))\n",
        "    sgd = SGD(learning_rate=0.01)\n",
        "    model.compile(loss=\"categorical_crossentropy\",optimizer=sgd,metrics=['accuracy'])\n",
        "    return model"
      ],
      "metadata": {
        "id": "37iVKIoamPFS"
      },
      "execution_count": 179,
      "outputs": []
    },
    {
      "cell_type": "markdown",
      "source": [
        "### WORD2VEC"
      ],
      "metadata": {
        "id": "l7BqsyzEeAh8"
      }
    },
    {
      "cell_type": "code",
      "source": [
        "embedding_layer = Embedding(input_dim=vocab_size_cuisine, output_dim=EMBEDDING_DIM_W2V, weights=[embedding_w2v], input_length=MAX_LENGTH, trainable=False)"
      ],
      "metadata": {
        "id": "_AYT_xsQeAh8"
      },
      "execution_count": 180,
      "outputs": []
    },
    {
      "cell_type": "code",
      "source": [
        "model_LSTM = LSTMHyperModel(embedding_layer, 20)"
      ],
      "metadata": {
        "id": "2PMIPxWOeAh8"
      },
      "execution_count": 181,
      "outputs": []
    },
    {
      "cell_type": "code",
      "source": [
        "tuner = kt.Hyperband(\n",
        "    model_LSTM,\n",
        "    objective='val_accuracy',\n",
        "    max_epochs=30,\n",
        "    hyperband_iterations=2,\n",
        "    overwrite=True)"
      ],
      "metadata": {
        "id": "875ANa_yeAh8"
      },
      "execution_count": 182,
      "outputs": []
    },
    {
      "cell_type": "code",
      "source": [
        "tuner.search(X_train_w2v_padded,y_train_cuisine,validation_data=(X_valid_w2v_padded,y_valid_cuisine),epochs=50)"
      ],
      "metadata": {
        "colab": {
          "base_uri": "https://localhost:8080/"
        },
        "outputId": "b600a415-6ea6-45ae-db20-e50240f26606",
        "id": "bgP9zFSweAh8"
      },
      "execution_count": 183,
      "outputs": [
        {
          "output_type": "stream",
          "name": "stdout",
          "text": [
            "Trial 6 Complete [00h 02m 24s]\n",
            "val_accuracy: 0.35519999265670776\n",
            "\n",
            "Best val_accuracy So Far: 0.3693999946117401\n",
            "Total elapsed time: 00h 07m 49s\n"
          ]
        }
      ]
    },
    {
      "cell_type": "code",
      "source": [
        "best_hps = tuner.get_best_hyperparameters(num_trials=1)[0]"
      ],
      "metadata": {
        "id": "2px-ocKDeAh8"
      },
      "execution_count": 184,
      "outputs": []
    },
    {
      "cell_type": "code",
      "source": [
        "model_cuisine = tuner.hypermodel.build(best_hps)"
      ],
      "metadata": {
        "id": "3xZAjXiReAh8"
      },
      "execution_count": 185,
      "outputs": []
    },
    {
      "cell_type": "code",
      "source": [
        "model_cuisine.summary()"
      ],
      "metadata": {
        "colab": {
          "base_uri": "https://localhost:8080/"
        },
        "id": "ECRzOu8aeAh8",
        "outputId": "7ed94efc-1301-4cee-ddbe-acf29c67c3f1"
      },
      "execution_count": 186,
      "outputs": [
        {
          "output_type": "stream",
          "name": "stdout",
          "text": [
            "Model: \"sequential_1\"\n",
            "_________________________________________________________________\n",
            " Layer (type)                Output Shape              Param #   \n",
            "=================================================================\n",
            " embedding (Embedding)       (None, 50, 100)           215000    \n",
            "                                                                 \n",
            " masking_1 (Masking)         (None, 50, 100)           0         \n",
            "                                                                 \n",
            " lstm_1 (LSTM)               (None, 256)               365568    \n",
            "                                                                 \n",
            " dense_2 (Dense)             (None, 32)                8224      \n",
            "                                                                 \n",
            " dropout_1 (Dropout)         (None, 32)                0         \n",
            "                                                                 \n",
            " dense_3 (Dense)             (None, 20)                660       \n",
            "                                                                 \n",
            "=================================================================\n",
            "Total params: 589,452\n",
            "Trainable params: 374,452\n",
            "Non-trainable params: 215,000\n",
            "_________________________________________________________________\n"
          ]
        }
      ]
    },
    {
      "cell_type": "code",
      "source": [
        "history_fine = model_cuisine.fit(X_train_w2v_padded,y_train_cuisine,validation_data=(X_valid_w2v_padded,y_valid_cuisine), epochs=100) "
      ],
      "metadata": {
        "id": "TEzbj1yGeAh8"
      },
      "execution_count": null,
      "outputs": []
    },
    {
      "cell_type": "code",
      "source": [
        "target_names = pd.Categorical(df_cuisine['cuisine']).categories"
      ],
      "metadata": {
        "id": "o0Wg2fLmeAh8"
      },
      "execution_count": null,
      "outputs": []
    },
    {
      "cell_type": "code",
      "source": [
        "y_prob = model_cuisine.predict(X_test_w2v_padded)\n",
        "y_pred = np.argmax(y_prob,axis=1)\n",
        "print(classification_report(y_test_int_cuisine,y_pred, target_names=target_names))"
      ],
      "metadata": {
        "id": "dgx5a3KJeAh8"
      },
      "execution_count": null,
      "outputs": []
    },
    {
      "cell_type": "code",
      "source": [
        "plt.plot(history_fine.history['loss'])\n",
        "plt.plot(history_fine.history['val_loss'])\n",
        "plt.title('model loss')\n",
        "plt.ylabel('loss')\n",
        "plt.xlabel('epoch')\n",
        "plt.legend(['training set','validation set'], loc='upper left')\n",
        "plt.show()"
      ],
      "metadata": {
        "id": "Hisr1gNQeAh8"
      },
      "execution_count": null,
      "outputs": []
    },
    {
      "cell_type": "code",
      "source": [
        "plt.plot(history_fine.history['accuracy'])\n",
        "plt.plot(history_fine.history['val_accuracy'])\n",
        "plt.title('model accuracy')\n",
        "plt.ylabel('accuracy')\n",
        "plt.xlabel('epoch')\n",
        "plt.legend(['training set','validation set'], loc='upper left')\n",
        "plt.show()"
      ],
      "metadata": {
        "id": "QsZaybQ9eAh8"
      },
      "execution_count": null,
      "outputs": []
    },
    {
      "cell_type": "code",
      "source": [
        "disp = ConfusionMatrixDisplay.from_predictions(y_test_int_cuisine, y_pred)\n",
        "fig = disp.ax_.get_figure()  \n",
        "fig.set_figwidth(10) \n",
        "fig.set_figheight(10)\n",
        "plt.show()"
      ],
      "metadata": {
        "id": "-Er6Ps5AeAh9"
      },
      "execution_count": null,
      "outputs": []
    },
    {
      "cell_type": "markdown",
      "source": [
        "### GLOVE"
      ],
      "metadata": {
        "id": "60zL_-_EeAh9"
      }
    },
    {
      "cell_type": "code",
      "source": [
        "embedding_layer = Embedding(input_dim=vocab_size_cuisine, output_dim=EMBEDDING_DIM_GLV, weights=[embedding_glove], input_length=MAX_LENGTH, trainable=False)"
      ],
      "metadata": {
        "id": "JWal6OW4eAh9"
      },
      "execution_count": null,
      "outputs": []
    },
    {
      "cell_type": "code",
      "source": [
        "model_CNN = CNNHyperModel(embedding_layer, 20)"
      ],
      "metadata": {
        "id": "xQruN_HPeAh9"
      },
      "execution_count": null,
      "outputs": []
    },
    {
      "cell_type": "code",
      "source": [
        "tuner = kt.Hyperband(\n",
        "    model_CNN,\n",
        "    objective='val_accuracy',\n",
        "    max_epochs=30,\n",
        "    hyperband_iterations=2,\n",
        "    overwrite=True)"
      ],
      "metadata": {
        "id": "MswOErzkeAh9"
      },
      "execution_count": null,
      "outputs": []
    },
    {
      "cell_type": "code",
      "source": [
        "tuner.search(X_train_glove_padded,y_train_cuisine,validation_data=(X_valid_glove_padded,y_valid_cuisine),epochs=50)"
      ],
      "metadata": {
        "id": "wgRwDHvheAh9"
      },
      "execution_count": null,
      "outputs": []
    },
    {
      "cell_type": "code",
      "source": [
        "best_hps = tuner.get_best_hyperparameters(num_trials=1)[0]"
      ],
      "metadata": {
        "id": "HiopxwFSeAh9"
      },
      "execution_count": null,
      "outputs": []
    },
    {
      "cell_type": "code",
      "source": [
        "model_cuisine = tuner.hypermodel.build(best_hps)"
      ],
      "metadata": {
        "id": "l4Zmr4dBeAh9"
      },
      "execution_count": null,
      "outputs": []
    },
    {
      "cell_type": "code",
      "source": [
        "model_cuisine.summary()"
      ],
      "metadata": {
        "id": "l_CJBjYleAh9"
      },
      "execution_count": null,
      "outputs": []
    },
    {
      "cell_type": "code",
      "source": [
        "history_fine = model_cuisine.fit(X_train_glove_padded,y_train_cuisine,validation_data=(X_valid_glove_padded,y_valid_cuisine), epochs=100) "
      ],
      "metadata": {
        "id": "dkbq34pYeAh9"
      },
      "execution_count": null,
      "outputs": []
    },
    {
      "cell_type": "code",
      "source": [
        "target_names = pd.Categorical(df_cuisine['cuisine']).categories"
      ],
      "metadata": {
        "id": "Mww-4sjseAh9"
      },
      "execution_count": null,
      "outputs": []
    },
    {
      "cell_type": "code",
      "source": [
        "y_prob = model_cuisine.predict(X_test_glove_padded)\n",
        "y_pred = np.argmax(y_prob,axis=1)\n",
        "print(classification_report(y_test_int_cuisine,y_pred, target_names=target_names))"
      ],
      "metadata": {
        "id": "kueSZDELeAh9"
      },
      "execution_count": null,
      "outputs": []
    },
    {
      "cell_type": "code",
      "source": [
        "plt.plot(history_fine.history['loss'])\n",
        "plt.plot(history_fine.history['val_loss'])\n",
        "plt.title('model loss')\n",
        "plt.ylabel('loss')\n",
        "plt.xlabel('epoch')\n",
        "plt.legend(['training set','validation set'], loc='upper left')\n",
        "plt.show()"
      ],
      "metadata": {
        "id": "E-dv1MRdeAh9"
      },
      "execution_count": null,
      "outputs": []
    },
    {
      "cell_type": "code",
      "source": [
        "plt.plot(history_fine.history['accuracy'])\n",
        "plt.plot(history_fine.history['val_accuracy'])\n",
        "plt.title('model accuracy')\n",
        "plt.ylabel('accuracy')\n",
        "plt.xlabel('epoch')\n",
        "plt.legend(['training set','validation set'], loc='upper left')\n",
        "plt.show()"
      ],
      "metadata": {
        "id": "r4SA0IozeAh9"
      },
      "execution_count": null,
      "outputs": []
    },
    {
      "cell_type": "code",
      "source": [
        "disp = ConfusionMatrixDisplay.from_predictions(y_test_int_cuisine, y_pred)\n",
        "fig = disp.ax_.get_figure()  \n",
        "fig.set_figwidth(10) \n",
        "fig.set_figheight(10)\n",
        "plt.show()"
      ],
      "metadata": {
        "id": "bw39O7WIeAh9"
      },
      "execution_count": null,
      "outputs": []
    }
  ]
}