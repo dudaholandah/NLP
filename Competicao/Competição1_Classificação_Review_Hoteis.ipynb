{
  "nbformat": 4,
  "nbformat_minor": 0,
  "metadata": {
    "colab": {
      "name": "Competição Classificação Review Hoteis",
      "provenance": [],
      "authorship_tag": "ABX9TyMA4guIHjAMF0+lf32kd2KV",
      "include_colab_link": true
    },
    "kernelspec": {
      "name": "python3",
      "display_name": "Python 3"
    },
    "language_info": {
      "name": "python"
    }
  },
  "cells": [
    {
      "cell_type": "markdown",
      "metadata": {
        "id": "view-in-github",
        "colab_type": "text"
      },
      "source": [
        "<a href=\"https://colab.research.google.com/github/dudaholandah/NLP/blob/main/Competicao/Competi%C3%A7%C3%A3o1_Classifica%C3%A7%C3%A3o_Review_Hoteis.ipynb\" target=\"_parent\"><img src=\"https://colab.research.google.com/assets/colab-badge.svg\" alt=\"Open In Colab\"/></a>"
      ]
    },
    {
      "cell_type": "markdown",
      "source": [
        "MLP - My Little Pony\n",
        "- Maria Eduarda Holanda - 190043725\n",
        "- Ariel Batista - 170099776\n",
        "- Bruno Esteves - 170100863"
      ],
      "metadata": {
        "id": "k-2Kig1BfAA_"
      }
    },
    {
      "cell_type": "markdown",
      "source": [
        "# Imports"
      ],
      "metadata": {
        "id": "aZJoAXsyLpDH"
      }
    },
    {
      "cell_type": "code",
      "source": [
        "!python -m spacy download pt_core_news_sm"
      ],
      "metadata": {
        "id": "WLVj0CNZYBIM"
      },
      "execution_count": null,
      "outputs": []
    },
    {
      "cell_type": "code",
      "source": [
        "import pandas as pd\n",
        "import re\n",
        "import nltk\n",
        "import spacy"
      ],
      "metadata": {
        "id": "TdPjSCEhLqPw"
      },
      "execution_count": 3,
      "outputs": []
    },
    {
      "cell_type": "code",
      "source": [
        "nltk.download('stopwords')\n",
        "nlp = spacy.load('pt_core_news_sm')"
      ],
      "metadata": {
        "id": "sOMxCkdGVIXM"
      },
      "execution_count": null,
      "outputs": []
    },
    {
      "cell_type": "markdown",
      "source": [
        "# Pre-Processamento"
      ],
      "metadata": {
        "id": "hsWBfQswLqoO"
      }
    },
    {
      "cell_type": "code",
      "source": [
        "link = \"https://raw.githubusercontent.com/viniciusrpb/cic0269_natural_language_processing/main/datasets/corpora/training.csv\"\n",
        "df = pd.read_csv(link)"
      ],
      "metadata": {
        "id": "PSgdufdJLso-"
      },
      "execution_count": 6,
      "outputs": []
    },
    {
      "cell_type": "code",
      "source": [
        "df"
      ],
      "metadata": {
        "colab": {
          "base_uri": "https://localhost:8080/",
          "height": 424
        },
        "id": "FUh25kYpSORK",
        "outputId": "3c83b5e3-3e8b-468d-dec0-869a9e8abfa6"
      },
      "execution_count": 7,
      "outputs": [
        {
          "output_type": "execute_result",
          "data": {
            "text/plain": [
              "        Id                                               text  Expected\n",
              "0        0  Ótima localização, bom atendimento, bom sinal ...         1\n",
              "1        1  O hotel é bem localizado e silencioso, o que c...         1\n",
              "2        2  O hotel é muito bom. O atendimento é excelente...         2\n",
              "3        3  Hotel antigo, mal conservado e mal reformado, ...         0\n",
              "4        4  Hotel bem localizado, perto de dois shopping, ...         2\n",
              "...    ...                                                ...       ...\n",
              "4995  4995  Hotel muito bem localizado, com shopping e dem...         2\n",
              "4996  4996  Além de oferecer uma boa hospedagem com confor...         2\n",
              "4997  4997  Hotel charmoso, bom atendimento, quartos confo...         2\n",
              "4998  4998  O hotel fica super bem localizado, em frente a...         2\n",
              "4999  4999  O serviço atendeu a todas as expectativas. Ide...         2\n",
              "\n",
              "[5000 rows x 3 columns]"
            ],
            "text/html": [
              "\n",
              "  <div id=\"df-df90598f-c9f8-42fc-9c4a-e82069c12d72\">\n",
              "    <div class=\"colab-df-container\">\n",
              "      <div>\n",
              "<style scoped>\n",
              "    .dataframe tbody tr th:only-of-type {\n",
              "        vertical-align: middle;\n",
              "    }\n",
              "\n",
              "    .dataframe tbody tr th {\n",
              "        vertical-align: top;\n",
              "    }\n",
              "\n",
              "    .dataframe thead th {\n",
              "        text-align: right;\n",
              "    }\n",
              "</style>\n",
              "<table border=\"1\" class=\"dataframe\">\n",
              "  <thead>\n",
              "    <tr style=\"text-align: right;\">\n",
              "      <th></th>\n",
              "      <th>Id</th>\n",
              "      <th>text</th>\n",
              "      <th>Expected</th>\n",
              "    </tr>\n",
              "  </thead>\n",
              "  <tbody>\n",
              "    <tr>\n",
              "      <th>0</th>\n",
              "      <td>0</td>\n",
              "      <td>Ótima localização, bom atendimento, bom sinal ...</td>\n",
              "      <td>1</td>\n",
              "    </tr>\n",
              "    <tr>\n",
              "      <th>1</th>\n",
              "      <td>1</td>\n",
              "      <td>O hotel é bem localizado e silencioso, o que c...</td>\n",
              "      <td>1</td>\n",
              "    </tr>\n",
              "    <tr>\n",
              "      <th>2</th>\n",
              "      <td>2</td>\n",
              "      <td>O hotel é muito bom. O atendimento é excelente...</td>\n",
              "      <td>2</td>\n",
              "    </tr>\n",
              "    <tr>\n",
              "      <th>3</th>\n",
              "      <td>3</td>\n",
              "      <td>Hotel antigo, mal conservado e mal reformado, ...</td>\n",
              "      <td>0</td>\n",
              "    </tr>\n",
              "    <tr>\n",
              "      <th>4</th>\n",
              "      <td>4</td>\n",
              "      <td>Hotel bem localizado, perto de dois shopping, ...</td>\n",
              "      <td>2</td>\n",
              "    </tr>\n",
              "    <tr>\n",
              "      <th>...</th>\n",
              "      <td>...</td>\n",
              "      <td>...</td>\n",
              "      <td>...</td>\n",
              "    </tr>\n",
              "    <tr>\n",
              "      <th>4995</th>\n",
              "      <td>4995</td>\n",
              "      <td>Hotel muito bem localizado, com shopping e dem...</td>\n",
              "      <td>2</td>\n",
              "    </tr>\n",
              "    <tr>\n",
              "      <th>4996</th>\n",
              "      <td>4996</td>\n",
              "      <td>Além de oferecer uma boa hospedagem com confor...</td>\n",
              "      <td>2</td>\n",
              "    </tr>\n",
              "    <tr>\n",
              "      <th>4997</th>\n",
              "      <td>4997</td>\n",
              "      <td>Hotel charmoso, bom atendimento, quartos confo...</td>\n",
              "      <td>2</td>\n",
              "    </tr>\n",
              "    <tr>\n",
              "      <th>4998</th>\n",
              "      <td>4998</td>\n",
              "      <td>O hotel fica super bem localizado, em frente a...</td>\n",
              "      <td>2</td>\n",
              "    </tr>\n",
              "    <tr>\n",
              "      <th>4999</th>\n",
              "      <td>4999</td>\n",
              "      <td>O serviço atendeu a todas as expectativas. Ide...</td>\n",
              "      <td>2</td>\n",
              "    </tr>\n",
              "  </tbody>\n",
              "</table>\n",
              "<p>5000 rows × 3 columns</p>\n",
              "</div>\n",
              "      <button class=\"colab-df-convert\" onclick=\"convertToInteractive('df-df90598f-c9f8-42fc-9c4a-e82069c12d72')\"\n",
              "              title=\"Convert this dataframe to an interactive table.\"\n",
              "              style=\"display:none;\">\n",
              "        \n",
              "  <svg xmlns=\"http://www.w3.org/2000/svg\" height=\"24px\"viewBox=\"0 0 24 24\"\n",
              "       width=\"24px\">\n",
              "    <path d=\"M0 0h24v24H0V0z\" fill=\"none\"/>\n",
              "    <path d=\"M18.56 5.44l.94 2.06.94-2.06 2.06-.94-2.06-.94-.94-2.06-.94 2.06-2.06.94zm-11 1L8.5 8.5l.94-2.06 2.06-.94-2.06-.94L8.5 2.5l-.94 2.06-2.06.94zm10 10l.94 2.06.94-2.06 2.06-.94-2.06-.94-.94-2.06-.94 2.06-2.06.94z\"/><path d=\"M17.41 7.96l-1.37-1.37c-.4-.4-.92-.59-1.43-.59-.52 0-1.04.2-1.43.59L10.3 9.45l-7.72 7.72c-.78.78-.78 2.05 0 2.83L4 21.41c.39.39.9.59 1.41.59.51 0 1.02-.2 1.41-.59l7.78-7.78 2.81-2.81c.8-.78.8-2.07 0-2.86zM5.41 20L4 18.59l7.72-7.72 1.47 1.35L5.41 20z\"/>\n",
              "  </svg>\n",
              "      </button>\n",
              "      \n",
              "  <style>\n",
              "    .colab-df-container {\n",
              "      display:flex;\n",
              "      flex-wrap:wrap;\n",
              "      gap: 12px;\n",
              "    }\n",
              "\n",
              "    .colab-df-convert {\n",
              "      background-color: #E8F0FE;\n",
              "      border: none;\n",
              "      border-radius: 50%;\n",
              "      cursor: pointer;\n",
              "      display: none;\n",
              "      fill: #1967D2;\n",
              "      height: 32px;\n",
              "      padding: 0 0 0 0;\n",
              "      width: 32px;\n",
              "    }\n",
              "\n",
              "    .colab-df-convert:hover {\n",
              "      background-color: #E2EBFA;\n",
              "      box-shadow: 0px 1px 2px rgba(60, 64, 67, 0.3), 0px 1px 3px 1px rgba(60, 64, 67, 0.15);\n",
              "      fill: #174EA6;\n",
              "    }\n",
              "\n",
              "    [theme=dark] .colab-df-convert {\n",
              "      background-color: #3B4455;\n",
              "      fill: #D2E3FC;\n",
              "    }\n",
              "\n",
              "    [theme=dark] .colab-df-convert:hover {\n",
              "      background-color: #434B5C;\n",
              "      box-shadow: 0px 1px 3px 1px rgba(0, 0, 0, 0.15);\n",
              "      filter: drop-shadow(0px 1px 2px rgba(0, 0, 0, 0.3));\n",
              "      fill: #FFFFFF;\n",
              "    }\n",
              "  </style>\n",
              "\n",
              "      <script>\n",
              "        const buttonEl =\n",
              "          document.querySelector('#df-df90598f-c9f8-42fc-9c4a-e82069c12d72 button.colab-df-convert');\n",
              "        buttonEl.style.display =\n",
              "          google.colab.kernel.accessAllowed ? 'block' : 'none';\n",
              "\n",
              "        async function convertToInteractive(key) {\n",
              "          const element = document.querySelector('#df-df90598f-c9f8-42fc-9c4a-e82069c12d72');\n",
              "          const dataTable =\n",
              "            await google.colab.kernel.invokeFunction('convertToInteractive',\n",
              "                                                     [key], {});\n",
              "          if (!dataTable) return;\n",
              "\n",
              "          const docLinkHtml = 'Like what you see? Visit the ' +\n",
              "            '<a target=\"_blank\" href=https://colab.research.google.com/notebooks/data_table.ipynb>data table notebook</a>'\n",
              "            + ' to learn more about interactive tables.';\n",
              "          element.innerHTML = '';\n",
              "          dataTable['output_type'] = 'display_data';\n",
              "          await google.colab.output.renderOutput(dataTable, element);\n",
              "          const docLink = document.createElement('div');\n",
              "          docLink.innerHTML = docLinkHtml;\n",
              "          element.appendChild(docLink);\n",
              "        }\n",
              "      </script>\n",
              "    </div>\n",
              "  </div>\n",
              "  "
            ]
          },
          "metadata": {},
          "execution_count": 7
        }
      ]
    },
    {
      "cell_type": "code",
      "source": [
        "link = \"https://raw.githubusercontent.com/viniciusrpb/cic0269_natural_language_processing/main/resources/SentiLex-lem-PT02.txt\"\n",
        "df_dic = pd.read_csv(link , sep=';', encoding='utf-8', names=['palavra', 'TG', 'POL', 'ANOT'])"
      ],
      "metadata": {
        "id": "VZpFUZa6QZHf"
      },
      "execution_count": 8,
      "outputs": []
    },
    {
      "cell_type": "code",
      "source": [
        "aux = df_dic['palavra']"
      ],
      "metadata": {
        "id": "N0ZX6WxeQnWO"
      },
      "execution_count": 9,
      "outputs": []
    },
    {
      "cell_type": "code",
      "source": [
        "vocab = []\n",
        "classific = []\n",
        "\n",
        "for word in aux:\n",
        "  x = word.split(sep='.')\n",
        "  vocab.append(x[0])\n",
        "  classific.append(x[1])"
      ],
      "metadata": {
        "id": "KDxse1C0VlsG"
      },
      "execution_count": 10,
      "outputs": []
    },
    {
      "cell_type": "code",
      "source": [
        "vocab"
      ],
      "metadata": {
        "id": "oJbRGdSqV9dy"
      },
      "execution_count": null,
      "outputs": []
    },
    {
      "cell_type": "code",
      "source": [
        "def pre_processing(text):\n",
        "  stopwords = nltk.corpus.stopwords.words('portuguese')\n",
        "  \n",
        "  # regex para tirar caracteres especiais, numeros\n",
        "  words = re.sub(r'[\\s!%*~\\^´`=+<\\[\\]?&$:,.;@#.0-9()\\/\\\"\\'_-]+', \" \", text.lower())\n",
        "  words = words.strip()\n",
        "  \n",
        "  phrase = \"\"\n",
        "  words = words.split()\n",
        "\n",
        "  for x in words:\n",
        "      if x not in stopwords:\n",
        "          phrase = phrase + \" \" + x\n",
        "        \n",
        "  return phrase.strip()"
      ],
      "metadata": {
        "id": "JR-dO4pONHhh"
      },
      "execution_count": 26,
      "outputs": []
    },
    {
      "cell_type": "code",
      "source": [
        "reviews = df['text']"
      ],
      "metadata": {
        "id": "InbD1FaVSZjK"
      },
      "execution_count": 13,
      "outputs": []
    },
    {
      "cell_type": "code",
      "source": [
        "reviews"
      ],
      "metadata": {
        "colab": {
          "base_uri": "https://localhost:8080/"
        },
        "id": "GN6mtgnRchQy",
        "outputId": "096bba90-5179-4c5d-d943-3019cd7f8749"
      },
      "execution_count": 34,
      "outputs": [
        {
          "output_type": "execute_result",
          "data": {
            "text/plain": [
              "0       Ótima localização, bom atendimento, bom sinal ...\n",
              "1       O hotel é bem localizado e silencioso, o que c...\n",
              "2       O hotel é muito bom. O atendimento é excelente...\n",
              "3       Hotel antigo, mal conservado e mal reformado, ...\n",
              "4       Hotel bem localizado, perto de dois shopping, ...\n",
              "                              ...                        \n",
              "4995    Hotel muito bem localizado, com shopping e dem...\n",
              "4996    Além de oferecer uma boa hospedagem com confor...\n",
              "4997    Hotel charmoso, bom atendimento, quartos confo...\n",
              "4998    O hotel fica super bem localizado, em frente a...\n",
              "4999    O serviço atendeu a todas as expectativas. Ide...\n",
              "Name: text, Length: 5000, dtype: object"
            ]
          },
          "metadata": {},
          "execution_count": 34
        }
      ]
    },
    {
      "cell_type": "code",
      "source": [
        "reviews_pp = []\n",
        "\n",
        "for x in reviews:\n",
        "  text = pre_processing(x)\n",
        "  reviews_pp.append(text)"
      ],
      "metadata": {
        "id": "BHZvnKhBRmtw"
      },
      "execution_count": 29,
      "outputs": []
    },
    {
      "cell_type": "code",
      "source": [
        "classificacao = []\n",
        "\n",
        "for x in reviews_pp:\n",
        "  doc = nlp(x)\n",
        "  classific = [x.pos_ for x in doc]\n",
        "  text = ' '.join(classific)\n",
        "  classificacao.append(text)"
      ],
      "metadata": {
        "id": "96LU-QBPbU2w"
      },
      "execution_count": 40,
      "outputs": []
    },
    {
      "cell_type": "code",
      "source": [
        "classificacao"
      ],
      "metadata": {
        "id": "6pTwmZStc3mE"
      },
      "execution_count": null,
      "outputs": []
    },
    {
      "cell_type": "code",
      "source": [
        "df_class = pd.DataFrame(classificacao, columns = ['review'])"
      ],
      "metadata": {
        "id": "NP_4U1cMcVmC"
      },
      "execution_count": 42,
      "outputs": []
    },
    {
      "cell_type": "code",
      "source": [
        "df_class"
      ],
      "metadata": {
        "colab": {
          "base_uri": "https://localhost:8080/",
          "height": 424
        },
        "id": "jCzNp_2mdwh_",
        "outputId": "f681a5ff-995c-49d6-d5ff-bec74855fb9d"
      },
      "execution_count": 43,
      "outputs": [
        {
          "output_type": "execute_result",
          "data": {
            "text/plain": [
              "                                                 review\n",
              "0     ADJ NOUN ADJ NOUN ADJ NOUN ADP PROPN ADJ ADJ N...\n",
              "1     NOUN ADV VERB PROPN VERB CCONJ VERB VERB ADV N...\n",
              "2     NOUN ADJ NOUN ADJ ADJ ADV ADJ ADJ NOUN VERB PR...\n",
              "3     NOUN ADJ NOUN VERB ADV VERB ADV VERB ADV NOUN ...\n",
              "4     NOUN ADV VERB ADV NUM NOUN ADJ ADJ VERB PROPN ...\n",
              "...                                                 ...\n",
              "4995  NOUN ADV VERB NOUN DET NOUN ADJ ADJ NOUN VERB ...\n",
              "4996  ADV VERB ADJ NOUN ADJ PROPN PROPN VERB NOUN AD...\n",
              "4997  NOUN ADJ ADJ NOUN ADJ ADJ CCONJ VERB NOUN ADJ ...\n",
              "4998  NOUN VERB ADJ ADV VERB ADV X NOUN PROPN NOUN A...\n",
              "4999  NOUN VERB DET NOUN PROPN NOUN ADJ NOUN VERB VE...\n",
              "\n",
              "[5000 rows x 1 columns]"
            ],
            "text/html": [
              "\n",
              "  <div id=\"df-886d8283-e0ae-4afb-96b3-45b62b1d1913\">\n",
              "    <div class=\"colab-df-container\">\n",
              "      <div>\n",
              "<style scoped>\n",
              "    .dataframe tbody tr th:only-of-type {\n",
              "        vertical-align: middle;\n",
              "    }\n",
              "\n",
              "    .dataframe tbody tr th {\n",
              "        vertical-align: top;\n",
              "    }\n",
              "\n",
              "    .dataframe thead th {\n",
              "        text-align: right;\n",
              "    }\n",
              "</style>\n",
              "<table border=\"1\" class=\"dataframe\">\n",
              "  <thead>\n",
              "    <tr style=\"text-align: right;\">\n",
              "      <th></th>\n",
              "      <th>review</th>\n",
              "    </tr>\n",
              "  </thead>\n",
              "  <tbody>\n",
              "    <tr>\n",
              "      <th>0</th>\n",
              "      <td>ADJ NOUN ADJ NOUN ADJ NOUN ADP PROPN ADJ ADJ N...</td>\n",
              "    </tr>\n",
              "    <tr>\n",
              "      <th>1</th>\n",
              "      <td>NOUN ADV VERB PROPN VERB CCONJ VERB VERB ADV N...</td>\n",
              "    </tr>\n",
              "    <tr>\n",
              "      <th>2</th>\n",
              "      <td>NOUN ADJ NOUN ADJ ADJ ADV ADJ ADJ NOUN VERB PR...</td>\n",
              "    </tr>\n",
              "    <tr>\n",
              "      <th>3</th>\n",
              "      <td>NOUN ADJ NOUN VERB ADV VERB ADV VERB ADV NOUN ...</td>\n",
              "    </tr>\n",
              "    <tr>\n",
              "      <th>4</th>\n",
              "      <td>NOUN ADV VERB ADV NUM NOUN ADJ ADJ VERB PROPN ...</td>\n",
              "    </tr>\n",
              "    <tr>\n",
              "      <th>...</th>\n",
              "      <td>...</td>\n",
              "    </tr>\n",
              "    <tr>\n",
              "      <th>4995</th>\n",
              "      <td>NOUN ADV VERB NOUN DET NOUN ADJ ADJ NOUN VERB ...</td>\n",
              "    </tr>\n",
              "    <tr>\n",
              "      <th>4996</th>\n",
              "      <td>ADV VERB ADJ NOUN ADJ PROPN PROPN VERB NOUN AD...</td>\n",
              "    </tr>\n",
              "    <tr>\n",
              "      <th>4997</th>\n",
              "      <td>NOUN ADJ ADJ NOUN ADJ ADJ CCONJ VERB NOUN ADJ ...</td>\n",
              "    </tr>\n",
              "    <tr>\n",
              "      <th>4998</th>\n",
              "      <td>NOUN VERB ADJ ADV VERB ADV X NOUN PROPN NOUN A...</td>\n",
              "    </tr>\n",
              "    <tr>\n",
              "      <th>4999</th>\n",
              "      <td>NOUN VERB DET NOUN PROPN NOUN ADJ NOUN VERB VE...</td>\n",
              "    </tr>\n",
              "  </tbody>\n",
              "</table>\n",
              "<p>5000 rows × 1 columns</p>\n",
              "</div>\n",
              "      <button class=\"colab-df-convert\" onclick=\"convertToInteractive('df-886d8283-e0ae-4afb-96b3-45b62b1d1913')\"\n",
              "              title=\"Convert this dataframe to an interactive table.\"\n",
              "              style=\"display:none;\">\n",
              "        \n",
              "  <svg xmlns=\"http://www.w3.org/2000/svg\" height=\"24px\"viewBox=\"0 0 24 24\"\n",
              "       width=\"24px\">\n",
              "    <path d=\"M0 0h24v24H0V0z\" fill=\"none\"/>\n",
              "    <path d=\"M18.56 5.44l.94 2.06.94-2.06 2.06-.94-2.06-.94-.94-2.06-.94 2.06-2.06.94zm-11 1L8.5 8.5l.94-2.06 2.06-.94-2.06-.94L8.5 2.5l-.94 2.06-2.06.94zm10 10l.94 2.06.94-2.06 2.06-.94-2.06-.94-.94-2.06-.94 2.06-2.06.94z\"/><path d=\"M17.41 7.96l-1.37-1.37c-.4-.4-.92-.59-1.43-.59-.52 0-1.04.2-1.43.59L10.3 9.45l-7.72 7.72c-.78.78-.78 2.05 0 2.83L4 21.41c.39.39.9.59 1.41.59.51 0 1.02-.2 1.41-.59l7.78-7.78 2.81-2.81c.8-.78.8-2.07 0-2.86zM5.41 20L4 18.59l7.72-7.72 1.47 1.35L5.41 20z\"/>\n",
              "  </svg>\n",
              "      </button>\n",
              "      \n",
              "  <style>\n",
              "    .colab-df-container {\n",
              "      display:flex;\n",
              "      flex-wrap:wrap;\n",
              "      gap: 12px;\n",
              "    }\n",
              "\n",
              "    .colab-df-convert {\n",
              "      background-color: #E8F0FE;\n",
              "      border: none;\n",
              "      border-radius: 50%;\n",
              "      cursor: pointer;\n",
              "      display: none;\n",
              "      fill: #1967D2;\n",
              "      height: 32px;\n",
              "      padding: 0 0 0 0;\n",
              "      width: 32px;\n",
              "    }\n",
              "\n",
              "    .colab-df-convert:hover {\n",
              "      background-color: #E2EBFA;\n",
              "      box-shadow: 0px 1px 2px rgba(60, 64, 67, 0.3), 0px 1px 3px 1px rgba(60, 64, 67, 0.15);\n",
              "      fill: #174EA6;\n",
              "    }\n",
              "\n",
              "    [theme=dark] .colab-df-convert {\n",
              "      background-color: #3B4455;\n",
              "      fill: #D2E3FC;\n",
              "    }\n",
              "\n",
              "    [theme=dark] .colab-df-convert:hover {\n",
              "      background-color: #434B5C;\n",
              "      box-shadow: 0px 1px 3px 1px rgba(0, 0, 0, 0.15);\n",
              "      filter: drop-shadow(0px 1px 2px rgba(0, 0, 0, 0.3));\n",
              "      fill: #FFFFFF;\n",
              "    }\n",
              "  </style>\n",
              "\n",
              "      <script>\n",
              "        const buttonEl =\n",
              "          document.querySelector('#df-886d8283-e0ae-4afb-96b3-45b62b1d1913 button.colab-df-convert');\n",
              "        buttonEl.style.display =\n",
              "          google.colab.kernel.accessAllowed ? 'block' : 'none';\n",
              "\n",
              "        async function convertToInteractive(key) {\n",
              "          const element = document.querySelector('#df-886d8283-e0ae-4afb-96b3-45b62b1d1913');\n",
              "          const dataTable =\n",
              "            await google.colab.kernel.invokeFunction('convertToInteractive',\n",
              "                                                     [key], {});\n",
              "          if (!dataTable) return;\n",
              "\n",
              "          const docLinkHtml = 'Like what you see? Visit the ' +\n",
              "            '<a target=\"_blank\" href=https://colab.research.google.com/notebooks/data_table.ipynb>data table notebook</a>'\n",
              "            + ' to learn more about interactive tables.';\n",
              "          element.innerHTML = '';\n",
              "          dataTable['output_type'] = 'display_data';\n",
              "          await google.colab.output.renderOutput(dataTable, element);\n",
              "          const docLink = document.createElement('div');\n",
              "          docLink.innerHTML = docLinkHtml;\n",
              "          element.appendChild(docLink);\n",
              "        }\n",
              "      </script>\n",
              "    </div>\n",
              "  </div>\n",
              "  "
            ]
          },
          "metadata": {},
          "execution_count": 43
        }
      ]
    },
    {
      "cell_type": "code",
      "source": [
        "reviews"
      ],
      "metadata": {
        "colab": {
          "base_uri": "https://localhost:8080/"
        },
        "id": "pwv2DwGCfeLd",
        "outputId": "e3a46650-96e9-478d-a41f-939453cb7ea1"
      },
      "execution_count": 45,
      "outputs": [
        {
          "output_type": "execute_result",
          "data": {
            "text/plain": [
              "0       Ótima localização, bom atendimento, bom sinal ...\n",
              "1       O hotel é bem localizado e silencioso, o que c...\n",
              "2       O hotel é muito bom. O atendimento é excelente...\n",
              "3       Hotel antigo, mal conservado e mal reformado, ...\n",
              "4       Hotel bem localizado, perto de dois shopping, ...\n",
              "                              ...                        \n",
              "4995    Hotel muito bem localizado, com shopping e dem...\n",
              "4996    Além de oferecer uma boa hospedagem com confor...\n",
              "4997    Hotel charmoso, bom atendimento, quartos confo...\n",
              "4998    O hotel fica super bem localizado, em frente a...\n",
              "4999    O serviço atendeu a todas as expectativas. Ide...\n",
              "Name: text, Length: 5000, dtype: object"
            ]
          },
          "metadata": {},
          "execution_count": 45
        }
      ]
    }
  ]
}