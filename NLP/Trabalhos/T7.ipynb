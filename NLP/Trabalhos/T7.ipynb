{
  "nbformat": 4,
  "nbformat_minor": 0,
  "metadata": {
    "colab": {
      "name": "Aula_RedesNeuraisConvolucionais.ipynb",
      "provenance": [],
      "collapsed_sections": [],
      "authorship_tag": "ABX9TyOwqdH5rBrZhLmKfP8F42mQ",
      "include_colab_link": true
    },
    "kernelspec": {
      "name": "python3",
      "display_name": "Python 3"
    },
    "language_info": {
      "name": "python"
    },
    "accelerator": "GPU",
    "gpuClass": "standard"
  },
  "cells": [
    {
      "cell_type": "markdown",
      "metadata": {
        "id": "view-in-github",
        "colab_type": "text"
      },
      "source": [
        "<a href=\"https://colab.research.google.com/github/dudaholandah/NLP/blob/main/NLP/Trabalhos/T7.ipynb\" target=\"_parent\"><img src=\"https://colab.research.google.com/assets/colab-badge.svg\" alt=\"Open In Colab\"/></a>"
      ]
    },
    {
      "cell_type": "code",
      "source": [
        "from google.colab import drive\n",
        "drive.mount('/content/drive')"
      ],
      "metadata": {
        "id": "k-zMgSH2FFu2"
      },
      "execution_count": null,
      "outputs": []
    },
    {
      "cell_type": "code",
      "source": [
        "!cp -r '/content/drive/MyDrive/full_3/' 'documents'"
      ],
      "metadata": {
        "id": "LHn_hJskF5v0"
      },
      "execution_count": 2,
      "outputs": []
    },
    {
      "cell_type": "code",
      "execution_count": null,
      "metadata": {
        "id": "R9uZ22fJhAAP"
      },
      "outputs": [],
      "source": [
        "!pip install -U keras\n",
        "!pip install tensorflow"
      ]
    },
    {
      "cell_type": "code",
      "source": [
        "# from tf.keras.layers import Resizing\n",
        "from tensorflow.keras import layers\n",
        "from tensorflow.keras.models import Sequential\n",
        "from tensorflow.keras.layers import Dense, Activation, Conv2D, MaxPooling2D, BatchNormalization, Flatten, Dropout\n",
        "from tensorflow.keras.optimizers import SGD\n",
        "from tensorflow.keras.preprocessing.image import ImageDataGenerator\n",
        "from tensorflow.keras.applications import ResNet50\n",
        "from sklearn.model_selection import train_test_split\n",
        "from sklearn.metrics import classification_report\n",
        "import matplotlib.pyplot as plt\n",
        "import numpy as np\n",
        "import os\n",
        "import pandas as pd"
      ],
      "metadata": {
        "id": "zg_m7LT9hXpk"
      },
      "execution_count": 34,
      "outputs": []
    },
    {
      "cell_type": "markdown",
      "source": [
        "Leitura dos dados"
      ],
      "metadata": {
        "id": "DSWJr57QKccr"
      }
    },
    {
      "cell_type": "code",
      "source": [
        "lista_subfolders = os.listdir('documents')\n",
        "\n",
        "dataset_dict = {}\n",
        "\n",
        "dataset_dict['filename'] = []\n",
        "dataset_dict['label'] = []\n",
        "\n",
        "for folder in lista_subfolders:\n",
        "  lista_imagens = os.listdir('documents/'+folder)\n",
        "\n",
        "  for img_file in lista_imagens:\n",
        "    dataset_dict['filename'].append(folder+'/'+img_file)\n",
        "    dataset_dict['label'].append(folder)"
      ],
      "metadata": {
        "id": "G3OEAh-KKgNN"
      },
      "execution_count": 5,
      "outputs": []
    },
    {
      "cell_type": "code",
      "source": [
        "df = pd.DataFrame(dataset_dict, columns=['filename', 'label'])"
      ],
      "metadata": {
        "id": "ZM3XbxkbLIix"
      },
      "execution_count": 6,
      "outputs": []
    },
    {
      "cell_type": "code",
      "source": [
        "df"
      ],
      "metadata": {
        "colab": {
          "base_uri": "https://localhost:8080/",
          "height": 424
        },
        "id": "bv3CY7BhLomn",
        "outputId": "6df77dbf-d191-49a6-e14d-32c7eca9fc4a"
      },
      "execution_count": 7,
      "outputs": [
        {
          "output_type": "execute_result",
          "data": {
            "text/plain": [
              "                                               filename                    label\n",
              "0           scientific _publication/2502255678_5684.tif  scientific _publication\n",
              "1         scientific _publication/10046987_10047002.tif  scientific _publication\n",
              "2     scientific _publication/2046398702_2046398712.tif  scientific _publication\n",
              "3                scientific _publication/2505350166.tif  scientific _publication\n",
              "4                scientific _publication/2505421989.tif  scientific _publication\n",
              "...                                                 ...                      ...\n",
              "2956                       advertisement/2044905226.tif            advertisement\n",
              "2957                       advertisement/2058504145.tif            advertisement\n",
              "2958                         advertisement/91383464.tif            advertisement\n",
              "2959                             advertisement/6132.tif            advertisement\n",
              "2960                         advertisement/13025280.tif            advertisement\n",
              "\n",
              "[2961 rows x 2 columns]"
            ],
            "text/html": [
              "\n",
              "  <div id=\"df-a1071e38-f5d9-43c2-918e-e3de5caed7a6\">\n",
              "    <div class=\"colab-df-container\">\n",
              "      <div>\n",
              "<style scoped>\n",
              "    .dataframe tbody tr th:only-of-type {\n",
              "        vertical-align: middle;\n",
              "    }\n",
              "\n",
              "    .dataframe tbody tr th {\n",
              "        vertical-align: top;\n",
              "    }\n",
              "\n",
              "    .dataframe thead th {\n",
              "        text-align: right;\n",
              "    }\n",
              "</style>\n",
              "<table border=\"1\" class=\"dataframe\">\n",
              "  <thead>\n",
              "    <tr style=\"text-align: right;\">\n",
              "      <th></th>\n",
              "      <th>filename</th>\n",
              "      <th>label</th>\n",
              "    </tr>\n",
              "  </thead>\n",
              "  <tbody>\n",
              "    <tr>\n",
              "      <th>0</th>\n",
              "      <td>scientific _publication/2502255678_5684.tif</td>\n",
              "      <td>scientific _publication</td>\n",
              "    </tr>\n",
              "    <tr>\n",
              "      <th>1</th>\n",
              "      <td>scientific _publication/10046987_10047002.tif</td>\n",
              "      <td>scientific _publication</td>\n",
              "    </tr>\n",
              "    <tr>\n",
              "      <th>2</th>\n",
              "      <td>scientific _publication/2046398702_2046398712.tif</td>\n",
              "      <td>scientific _publication</td>\n",
              "    </tr>\n",
              "    <tr>\n",
              "      <th>3</th>\n",
              "      <td>scientific _publication/2505350166.tif</td>\n",
              "      <td>scientific _publication</td>\n",
              "    </tr>\n",
              "    <tr>\n",
              "      <th>4</th>\n",
              "      <td>scientific _publication/2505421989.tif</td>\n",
              "      <td>scientific _publication</td>\n",
              "    </tr>\n",
              "    <tr>\n",
              "      <th>...</th>\n",
              "      <td>...</td>\n",
              "      <td>...</td>\n",
              "    </tr>\n",
              "    <tr>\n",
              "      <th>2956</th>\n",
              "      <td>advertisement/2044905226.tif</td>\n",
              "      <td>advertisement</td>\n",
              "    </tr>\n",
              "    <tr>\n",
              "      <th>2957</th>\n",
              "      <td>advertisement/2058504145.tif</td>\n",
              "      <td>advertisement</td>\n",
              "    </tr>\n",
              "    <tr>\n",
              "      <th>2958</th>\n",
              "      <td>advertisement/91383464.tif</td>\n",
              "      <td>advertisement</td>\n",
              "    </tr>\n",
              "    <tr>\n",
              "      <th>2959</th>\n",
              "      <td>advertisement/6132.tif</td>\n",
              "      <td>advertisement</td>\n",
              "    </tr>\n",
              "    <tr>\n",
              "      <th>2960</th>\n",
              "      <td>advertisement/13025280.tif</td>\n",
              "      <td>advertisement</td>\n",
              "    </tr>\n",
              "  </tbody>\n",
              "</table>\n",
              "<p>2961 rows × 2 columns</p>\n",
              "</div>\n",
              "      <button class=\"colab-df-convert\" onclick=\"convertToInteractive('df-a1071e38-f5d9-43c2-918e-e3de5caed7a6')\"\n",
              "              title=\"Convert this dataframe to an interactive table.\"\n",
              "              style=\"display:none;\">\n",
              "        \n",
              "  <svg xmlns=\"http://www.w3.org/2000/svg\" height=\"24px\"viewBox=\"0 0 24 24\"\n",
              "       width=\"24px\">\n",
              "    <path d=\"M0 0h24v24H0V0z\" fill=\"none\"/>\n",
              "    <path d=\"M18.56 5.44l.94 2.06.94-2.06 2.06-.94-2.06-.94-.94-2.06-.94 2.06-2.06.94zm-11 1L8.5 8.5l.94-2.06 2.06-.94-2.06-.94L8.5 2.5l-.94 2.06-2.06.94zm10 10l.94 2.06.94-2.06 2.06-.94-2.06-.94-.94-2.06-.94 2.06-2.06.94z\"/><path d=\"M17.41 7.96l-1.37-1.37c-.4-.4-.92-.59-1.43-.59-.52 0-1.04.2-1.43.59L10.3 9.45l-7.72 7.72c-.78.78-.78 2.05 0 2.83L4 21.41c.39.39.9.59 1.41.59.51 0 1.02-.2 1.41-.59l7.78-7.78 2.81-2.81c.8-.78.8-2.07 0-2.86zM5.41 20L4 18.59l7.72-7.72 1.47 1.35L5.41 20z\"/>\n",
              "  </svg>\n",
              "      </button>\n",
              "      \n",
              "  <style>\n",
              "    .colab-df-container {\n",
              "      display:flex;\n",
              "      flex-wrap:wrap;\n",
              "      gap: 12px;\n",
              "    }\n",
              "\n",
              "    .colab-df-convert {\n",
              "      background-color: #E8F0FE;\n",
              "      border: none;\n",
              "      border-radius: 50%;\n",
              "      cursor: pointer;\n",
              "      display: none;\n",
              "      fill: #1967D2;\n",
              "      height: 32px;\n",
              "      padding: 0 0 0 0;\n",
              "      width: 32px;\n",
              "    }\n",
              "\n",
              "    .colab-df-convert:hover {\n",
              "      background-color: #E2EBFA;\n",
              "      box-shadow: 0px 1px 2px rgba(60, 64, 67, 0.3), 0px 1px 3px 1px rgba(60, 64, 67, 0.15);\n",
              "      fill: #174EA6;\n",
              "    }\n",
              "\n",
              "    [theme=dark] .colab-df-convert {\n",
              "      background-color: #3B4455;\n",
              "      fill: #D2E3FC;\n",
              "    }\n",
              "\n",
              "    [theme=dark] .colab-df-convert:hover {\n",
              "      background-color: #434B5C;\n",
              "      box-shadow: 0px 1px 3px 1px rgba(0, 0, 0, 0.15);\n",
              "      filter: drop-shadow(0px 1px 2px rgba(0, 0, 0, 0.3));\n",
              "      fill: #FFFFFF;\n",
              "    }\n",
              "  </style>\n",
              "\n",
              "      <script>\n",
              "        const buttonEl =\n",
              "          document.querySelector('#df-a1071e38-f5d9-43c2-918e-e3de5caed7a6 button.colab-df-convert');\n",
              "        buttonEl.style.display =\n",
              "          google.colab.kernel.accessAllowed ? 'block' : 'none';\n",
              "\n",
              "        async function convertToInteractive(key) {\n",
              "          const element = document.querySelector('#df-a1071e38-f5d9-43c2-918e-e3de5caed7a6');\n",
              "          const dataTable =\n",
              "            await google.colab.kernel.invokeFunction('convertToInteractive',\n",
              "                                                     [key], {});\n",
              "          if (!dataTable) return;\n",
              "\n",
              "          const docLinkHtml = 'Like what you see? Visit the ' +\n",
              "            '<a target=\"_blank\" href=https://colab.research.google.com/notebooks/data_table.ipynb>data table notebook</a>'\n",
              "            + ' to learn more about interactive tables.';\n",
              "          element.innerHTML = '';\n",
              "          dataTable['output_type'] = 'display_data';\n",
              "          await google.colab.output.renderOutput(dataTable, element);\n",
              "          const docLink = document.createElement('div');\n",
              "          docLink.innerHTML = docLinkHtml;\n",
              "          element.appendChild(docLink);\n",
              "        }\n",
              "      </script>\n",
              "    </div>\n",
              "  </div>\n",
              "  "
            ]
          },
          "metadata": {},
          "execution_count": 7
        }
      ]
    },
    {
      "cell_type": "code",
      "source": [
        "# df['label'] = pd.Categorical(df['label'])"
      ],
      "metadata": {
        "id": "shUmDgw1Pjyd"
      },
      "execution_count": null,
      "outputs": []
    },
    {
      "cell_type": "code",
      "source": [
        "# X = df['filename'].values\n",
        "# y = df['label'].cat.codes"
      ],
      "metadata": {
        "id": "OHGOcIlbN4G_"
      },
      "execution_count": null,
      "outputs": []
    },
    {
      "cell_type": "code",
      "source": [
        "X = df['filename'].values\n",
        "y = df['label'].values"
      ],
      "metadata": {
        "id": "9ECBAHf5SSwa"
      },
      "execution_count": 8,
      "outputs": []
    },
    {
      "cell_type": "code",
      "source": [
        "X_train, X_test, y_train, y_test = train_test_split(X,y,test_size=0.3, random_state=42)\n",
        "X_valid, X_test, y_valid, y_test = train_test_split(X_test,y_test,test_size=0.6, random_state=42)"
      ],
      "metadata": {
        "id": "CsLSFbpLJhc3"
      },
      "execution_count": 9,
      "outputs": []
    },
    {
      "cell_type": "markdown",
      "source": [
        "Criação dos logits dos labels"
      ],
      "metadata": {
        "id": "iP-S3FOnOvBx"
      }
    },
    {
      "cell_type": "code",
      "source": [
        "from keras.utils.np_utils import to_categorical\n",
        "\n",
        "train_labels = pd.Categorical(y_train)\n",
        "valid_labels = pd.Categorical(y_valid)\n",
        "test_labels = pd.Categorical(y_test)\n",
        "\n",
        "y_train_int = train_labels.codes\n",
        "y_valid_int = valid_labels.codes\n",
        "y_test_int = test_labels.codes\n",
        "\n",
        "y_train_logits = to_categorical(y_train_int)\n",
        "y_valid_logits = to_categorical(y_valid_int)\n",
        "y_test_logits = to_categorical(y_test_int)"
      ],
      "metadata": {
        "id": "vLER--qDQmQ8"
      },
      "execution_count": 10,
      "outputs": []
    },
    {
      "cell_type": "code",
      "source": [
        "lista_train = []\n",
        "\n",
        "for i in range(0,len(X_train)):\n",
        "  lista_train.append([X_train[i], y_train[i]])\n",
        "\n",
        "lista_valid = []\n",
        "for i in range(0,len(X_valid)):\n",
        "  lista_valid.append([X_valid[i], y_valid[i]])\n",
        "\n",
        "lista_test = []\n",
        "for i in range(0,len(X_test)):\n",
        "  lista_test.append([X_test[i], y_test[i]])"
      ],
      "metadata": {
        "id": "NEUeOy1RRU_a"
      },
      "execution_count": 11,
      "outputs": []
    },
    {
      "cell_type": "code",
      "source": [
        "df_train = pd.DataFrame(lista_train, columns=['filename', 'label'])\n",
        "df_valid = pd.DataFrame(lista_valid, columns=['filename', 'label'])\n",
        "df_test = pd.DataFrame(lista_test, columns=['filename', 'label'])"
      ],
      "metadata": {
        "id": "c6DQblYfSgIO"
      },
      "execution_count": 12,
      "outputs": []
    },
    {
      "cell_type": "code",
      "source": [
        "datagen = ImageDataGenerator(rescale=1./255)\n",
        "\n",
        "train_generator = datagen.flow_from_dataframe(df_train,\n",
        "                                              directory='documents',\n",
        "                                              x_col='filename',\n",
        "                                              y_col='label',\n",
        "                                              class_mode='categorical',\n",
        "                                              shuffle=True)\n",
        "\n",
        "valid_generator = datagen.flow_from_dataframe(df_valid,\n",
        "                                              directory='documents',\n",
        "                                              x_col='filename',\n",
        "                                              y_col='label',\n",
        "                                              class_mode='categorical',\n",
        "                                              shuffle=True)\n",
        "\n",
        "test_generator = datagen.flow_from_dataframe(df_test,\n",
        "                                              directory='documents',\n",
        "                                              x_col='filename',\n",
        "                                              y_col='label',\n",
        "                                              class_mode='categorical',\n",
        "                                              shuffle=True)"
      ],
      "metadata": {
        "colab": {
          "base_uri": "https://localhost:8080/"
        },
        "id": "C5dHbpU0KMCX",
        "outputId": "a40ba21d-23e0-49f8-f638-0cc6e210411b"
      },
      "execution_count": 13,
      "outputs": [
        {
          "output_type": "stream",
          "name": "stdout",
          "text": [
            "Found 2072 validated image filenames belonging to 3 classes.\n",
            "Found 355 validated image filenames belonging to 3 classes.\n",
            "Found 534 validated image filenames belonging to 3 classes.\n"
          ]
        }
      ]
    },
    {
      "cell_type": "code",
      "source": [
        "test_generator.image_shape"
      ],
      "metadata": {
        "colab": {
          "base_uri": "https://localhost:8080/"
        },
        "id": "p0FLMLF2X0hO",
        "outputId": "697ba6e3-c26b-4690-8e59-8bea9cdd8318"
      },
      "execution_count": 14,
      "outputs": [
        {
          "output_type": "execute_result",
          "data": {
            "text/plain": [
              "(256, 256, 3)"
            ]
          },
          "metadata": {},
          "execution_count": 14
        }
      ]
    },
    {
      "cell_type": "code",
      "source": [
        "dims = (224,224,3)\n",
        "num_classes = 3"
      ],
      "metadata": {
        "id": "9D9AKW9DjOGN"
      },
      "execution_count": 15,
      "outputs": []
    },
    {
      "cell_type": "code",
      "source": [
        "model = Sequential()\n",
        "\n",
        "model.add(layers.experimental.preprocessing.Resizing(224,224,interpolation=\"bilinear\",input_shape=(224,224,3)))\n",
        "model.add(Conv2D(96, (11,11), strides=(4,4), activation='relu'))\n",
        "model.add(Dropout(0.5))\n",
        "model.add(MaxPooling2D((3,3), strides=(2,2)))\n",
        "model.add(BatchNormalization())\n",
        "\n",
        "model.add(Conv2D(256, (5,5), strides=(1,1), activation='relu', padding='same'))\n",
        "model.add(Dropout(0.5))\n",
        "model.add(MaxPooling2D((3,3), strides=(2,2)))\n",
        "model.add(BatchNormalization())\n",
        "\n",
        "model.add(Conv2D(384, (3,3), strides=(1,1), activation='relu', padding='same'))\n",
        "model.add(Dropout(0.5))\n",
        "\n",
        "model.add(Conv2D(384, (3,3), strides=(1,1), activation='relu', padding='same'))\n",
        "model.add(Dropout(0.5))\n",
        "\n",
        "model.add(Conv2D(256, (3,3), strides=(1,1), activation='relu', padding='same'))\n",
        "model.add(Dropout(0.5))\n",
        "\n",
        "model.add(MaxPooling2D((3,3), strides=(2,2)))\n",
        "model.add(Flatten())\n",
        "\n",
        "model.add(Dense(4096))\n",
        "model.add(Activation('relu'))\n",
        "\n",
        "model.add(Dense(4096))\n",
        "model.add(Activation('relu'))\n",
        "\n",
        "model.add(Dense(num_classes))\n",
        "model.add(Activation('softmax'))"
      ],
      "metadata": {
        "id": "qHYNwSjVjDA4"
      },
      "execution_count": 35,
      "outputs": []
    },
    {
      "cell_type": "code",
      "source": [
        "model.summary()"
      ],
      "metadata": {
        "colab": {
          "base_uri": "https://localhost:8080/"
        },
        "id": "DE0RPguvqlmG",
        "outputId": "73cead66-3112-468b-d045-c4b86719dd14"
      },
      "execution_count": 36,
      "outputs": [
        {
          "output_type": "stream",
          "name": "stdout",
          "text": [
            "Model: \"sequential_2\"\n",
            "_________________________________________________________________\n",
            " Layer (type)                Output Shape              Param #   \n",
            "=================================================================\n",
            " resizing_2 (Resizing)       (None, 224, 224, 3)       0         \n",
            "                                                                 \n",
            " conv2d_5 (Conv2D)           (None, 54, 54, 96)        34944     \n",
            "                                                                 \n",
            " activation_4 (Activation)   (None, 54, 54, 96)        0         \n",
            "                                                                 \n",
            " max_pooling2d_3 (MaxPooling  (None, 26, 26, 96)       0         \n",
            " 2D)                                                             \n",
            "                                                                 \n",
            " batch_normalization_2 (Batc  (None, 26, 26, 96)       384       \n",
            " hNormalization)                                                 \n",
            "                                                                 \n",
            " conv2d_6 (Conv2D)           (None, 26, 26, 256)       614656    \n",
            "                                                                 \n",
            " max_pooling2d_4 (MaxPooling  (None, 12, 12, 256)      0         \n",
            " 2D)                                                             \n",
            "                                                                 \n",
            " batch_normalization_3 (Batc  (None, 12, 12, 256)      1024      \n",
            " hNormalization)                                                 \n",
            "                                                                 \n",
            " conv2d_7 (Conv2D)           (None, 12, 12, 384)       885120    \n",
            "                                                                 \n",
            " dropout (Dropout)           (None, 12, 12, 384)       0         \n",
            "                                                                 \n",
            " conv2d_8 (Conv2D)           (None, 12, 12, 384)       1327488   \n",
            "                                                                 \n",
            " conv2d_9 (Conv2D)           (None, 12, 12, 256)       884992    \n",
            "                                                                 \n",
            " max_pooling2d_5 (MaxPooling  (None, 5, 5, 256)        0         \n",
            " 2D)                                                             \n",
            "                                                                 \n",
            " flatten_1 (Flatten)         (None, 6400)              0         \n",
            "                                                                 \n",
            " dense_3 (Dense)             (None, 4096)              26218496  \n",
            "                                                                 \n",
            " activation_5 (Activation)   (None, 4096)              0         \n",
            "                                                                 \n",
            " dense_4 (Dense)             (None, 4096)              16781312  \n",
            "                                                                 \n",
            " activation_6 (Activation)   (None, 4096)              0         \n",
            "                                                                 \n",
            " dense_5 (Dense)             (None, 3)                 12291     \n",
            "                                                                 \n",
            " activation_7 (Activation)   (None, 3)                 0         \n",
            "                                                                 \n",
            "=================================================================\n",
            "Total params: 46,760,707\n",
            "Trainable params: 46,760,003\n",
            "Non-trainable params: 704\n",
            "_________________________________________________________________\n"
          ]
        }
      ]
    },
    {
      "cell_type": "code",
      "source": [
        "sgd = SGD(lr=0.0001)\n",
        "\n",
        "model.compile(optimizer=sgd, loss='categorical_crossentropy', metrics=['accuracy'])\n",
        "\n",
        "history_fine = model.fit(train_generator, \n",
        "          epochs=70, \n",
        "          batch_size=16, \n",
        "          validation_data=valid_generator)"
      ],
      "metadata": {
        "id": "iug19ugeEkCC",
        "colab": {
          "base_uri": "https://localhost:8080/"
        },
        "outputId": "90f34ade-6d15-4b78-adf1-8bc22b335314"
      },
      "execution_count": 37,
      "outputs": [
        {
          "output_type": "stream",
          "name": "stdout",
          "text": [
            "Epoch 1/70\n"
          ]
        },
        {
          "output_type": "stream",
          "name": "stderr",
          "text": [
            "/usr/local/lib/python3.7/dist-packages/keras/optimizer_v2/gradient_descent.py:102: UserWarning: The `lr` argument is deprecated, use `learning_rate` instead.\n",
            "  super(SGD, self).__init__(name, **kwargs)\n"
          ]
        },
        {
          "output_type": "stream",
          "name": "stdout",
          "text": [
            "65/65 [==============================] - 12s 169ms/step - loss: 0.9267 - accuracy: 0.5854 - val_loss: 1.0910 - val_accuracy: 0.3493\n",
            "Epoch 2/70\n",
            "65/65 [==============================] - 11s 165ms/step - loss: 0.7461 - accuracy: 0.7698 - val_loss: 1.1031 - val_accuracy: 0.3493\n",
            "Epoch 3/70\n",
            "65/65 [==============================] - 11s 176ms/step - loss: 0.6451 - accuracy: 0.8012 - val_loss: 1.1356 - val_accuracy: 0.3493\n",
            "Epoch 4/70\n",
            "65/65 [==============================] - 11s 168ms/step - loss: 0.5867 - accuracy: 0.8108 - val_loss: 1.1442 - val_accuracy: 0.3493\n",
            "Epoch 5/70\n",
            "65/65 [==============================] - 10s 157ms/step - loss: 0.5433 - accuracy: 0.8214 - val_loss: 1.1162 - val_accuracy: 0.3493\n",
            "Epoch 6/70\n",
            "65/65 [==============================] - 10s 157ms/step - loss: 0.5174 - accuracy: 0.8229 - val_loss: 1.0031 - val_accuracy: 0.4479\n",
            "Epoch 7/70\n",
            "65/65 [==============================] - 11s 171ms/step - loss: 0.4944 - accuracy: 0.8253 - val_loss: 0.8617 - val_accuracy: 0.5211\n",
            "Epoch 8/70\n",
            "65/65 [==============================] - 10s 158ms/step - loss: 0.4768 - accuracy: 0.8393 - val_loss: 0.7251 - val_accuracy: 0.6479\n",
            "Epoch 9/70\n",
            "65/65 [==============================] - 10s 157ms/step - loss: 0.4668 - accuracy: 0.8359 - val_loss: 0.6085 - val_accuracy: 0.7831\n",
            "Epoch 10/70\n",
            "65/65 [==============================] - 11s 167ms/step - loss: 0.4602 - accuracy: 0.8306 - val_loss: 0.5334 - val_accuracy: 0.8310\n",
            "Epoch 11/70\n",
            "65/65 [==============================] - 10s 156ms/step - loss: 0.4468 - accuracy: 0.8383 - val_loss: 0.4922 - val_accuracy: 0.8507\n",
            "Epoch 12/70\n",
            "65/65 [==============================] - 10s 156ms/step - loss: 0.4413 - accuracy: 0.8374 - val_loss: 0.4713 - val_accuracy: 0.8620\n",
            "Epoch 13/70\n",
            "65/65 [==============================] - 10s 156ms/step - loss: 0.4263 - accuracy: 0.8436 - val_loss: 0.4525 - val_accuracy: 0.8592\n",
            "Epoch 14/70\n",
            "65/65 [==============================] - 10s 159ms/step - loss: 0.4272 - accuracy: 0.8436 - val_loss: 0.4457 - val_accuracy: 0.8620\n",
            "Epoch 15/70\n",
            "65/65 [==============================] - 10s 157ms/step - loss: 0.4208 - accuracy: 0.8499 - val_loss: 0.4351 - val_accuracy: 0.8620\n",
            "Epoch 16/70\n",
            "65/65 [==============================] - 10s 156ms/step - loss: 0.4131 - accuracy: 0.8489 - val_loss: 0.4265 - val_accuracy: 0.8592\n",
            "Epoch 17/70\n",
            "65/65 [==============================] - 11s 167ms/step - loss: 0.4082 - accuracy: 0.8518 - val_loss: 0.4224 - val_accuracy: 0.8592\n",
            "Epoch 18/70\n",
            "65/65 [==============================] - 10s 157ms/step - loss: 0.3977 - accuracy: 0.8504 - val_loss: 0.4156 - val_accuracy: 0.8648\n",
            "Epoch 19/70\n",
            "65/65 [==============================] - 10s 155ms/step - loss: 0.3956 - accuracy: 0.8610 - val_loss: 0.4135 - val_accuracy: 0.8676\n",
            "Epoch 20/70\n",
            "65/65 [==============================] - 10s 157ms/step - loss: 0.3868 - accuracy: 0.8620 - val_loss: 0.4111 - val_accuracy: 0.8620\n",
            "Epoch 21/70\n",
            "65/65 [==============================] - 11s 169ms/step - loss: 0.3794 - accuracy: 0.8615 - val_loss: 0.4009 - val_accuracy: 0.8676\n",
            "Epoch 22/70\n",
            "65/65 [==============================] - 11s 169ms/step - loss: 0.3760 - accuracy: 0.8678 - val_loss: 0.3965 - val_accuracy: 0.8676\n",
            "Epoch 23/70\n",
            "65/65 [==============================] - 10s 155ms/step - loss: 0.3817 - accuracy: 0.8581 - val_loss: 0.3957 - val_accuracy: 0.8676\n",
            "Epoch 24/70\n",
            "65/65 [==============================] - 10s 156ms/step - loss: 0.3676 - accuracy: 0.8644 - val_loss: 0.3891 - val_accuracy: 0.8761\n",
            "Epoch 25/70\n",
            "65/65 [==============================] - 10s 155ms/step - loss: 0.3641 - accuracy: 0.8682 - val_loss: 0.3864 - val_accuracy: 0.8732\n",
            "Epoch 26/70\n",
            "65/65 [==============================] - 11s 169ms/step - loss: 0.3658 - accuracy: 0.8692 - val_loss: 0.3847 - val_accuracy: 0.8761\n",
            "Epoch 27/70\n",
            "65/65 [==============================] - 10s 157ms/step - loss: 0.3570 - accuracy: 0.8692 - val_loss: 0.3814 - val_accuracy: 0.8704\n",
            "Epoch 28/70\n",
            "65/65 [==============================] - 10s 155ms/step - loss: 0.3552 - accuracy: 0.8678 - val_loss: 0.3757 - val_accuracy: 0.8761\n",
            "Epoch 29/70\n",
            "65/65 [==============================] - 10s 154ms/step - loss: 0.3522 - accuracy: 0.8764 - val_loss: 0.3729 - val_accuracy: 0.8732\n",
            "Epoch 30/70\n",
            "65/65 [==============================] - 10s 156ms/step - loss: 0.3410 - accuracy: 0.8755 - val_loss: 0.3700 - val_accuracy: 0.8789\n",
            "Epoch 31/70\n",
            "65/65 [==============================] - 11s 169ms/step - loss: 0.3440 - accuracy: 0.8769 - val_loss: 0.3696 - val_accuracy: 0.8761\n",
            "Epoch 32/70\n",
            "65/65 [==============================] - 10s 156ms/step - loss: 0.3377 - accuracy: 0.8760 - val_loss: 0.3629 - val_accuracy: 0.8789\n",
            "Epoch 33/70\n",
            "65/65 [==============================] - 10s 156ms/step - loss: 0.3360 - accuracy: 0.8798 - val_loss: 0.3619 - val_accuracy: 0.8817\n",
            "Epoch 34/70\n",
            "65/65 [==============================] - 10s 154ms/step - loss: 0.3306 - accuracy: 0.8760 - val_loss: 0.3575 - val_accuracy: 0.8817\n",
            "Epoch 35/70\n",
            "65/65 [==============================] - 11s 165ms/step - loss: 0.3310 - accuracy: 0.8818 - val_loss: 0.3528 - val_accuracy: 0.8789\n",
            "Epoch 36/70\n",
            "65/65 [==============================] - 10s 156ms/step - loss: 0.3258 - accuracy: 0.8803 - val_loss: 0.3499 - val_accuracy: 0.8817\n",
            "Epoch 37/70\n",
            "65/65 [==============================] - 11s 163ms/step - loss: 0.3240 - accuracy: 0.8803 - val_loss: 0.3475 - val_accuracy: 0.8817\n",
            "Epoch 38/70\n",
            "65/65 [==============================] - 10s 156ms/step - loss: 0.3208 - accuracy: 0.8803 - val_loss: 0.3449 - val_accuracy: 0.8873\n",
            "Epoch 39/70\n",
            "65/65 [==============================] - 11s 176ms/step - loss: 0.3180 - accuracy: 0.8837 - val_loss: 0.3607 - val_accuracy: 0.8761\n",
            "Epoch 40/70\n",
            "65/65 [==============================] - 11s 166ms/step - loss: 0.3179 - accuracy: 0.8822 - val_loss: 0.3371 - val_accuracy: 0.8901\n",
            "Epoch 41/70\n",
            "65/65 [==============================] - 10s 156ms/step - loss: 0.3108 - accuracy: 0.8871 - val_loss: 0.3344 - val_accuracy: 0.8845\n",
            "Epoch 42/70\n",
            "65/65 [==============================] - 10s 155ms/step - loss: 0.3059 - accuracy: 0.8890 - val_loss: 0.3514 - val_accuracy: 0.8761\n",
            "Epoch 43/70\n",
            "65/65 [==============================] - 11s 169ms/step - loss: 0.3168 - accuracy: 0.8851 - val_loss: 0.3320 - val_accuracy: 0.8958\n",
            "Epoch 44/70\n",
            "65/65 [==============================] - 10s 156ms/step - loss: 0.3028 - accuracy: 0.8900 - val_loss: 0.3292 - val_accuracy: 0.8901\n",
            "Epoch 45/70\n",
            "65/65 [==============================] - 10s 155ms/step - loss: 0.2982 - accuracy: 0.8962 - val_loss: 0.3260 - val_accuracy: 0.8930\n",
            "Epoch 46/70\n",
            "65/65 [==============================] - 10s 154ms/step - loss: 0.2989 - accuracy: 0.8904 - val_loss: 0.3246 - val_accuracy: 0.8930\n",
            "Epoch 47/70\n",
            "65/65 [==============================] - 10s 160ms/step - loss: 0.2958 - accuracy: 0.8919 - val_loss: 0.3221 - val_accuracy: 0.8930\n",
            "Epoch 48/70\n",
            "65/65 [==============================] - 17s 268ms/step - loss: 0.2931 - accuracy: 0.8953 - val_loss: 0.3283 - val_accuracy: 0.8901\n",
            "Epoch 49/70\n",
            "65/65 [==============================] - 10s 157ms/step - loss: 0.2916 - accuracy: 0.8948 - val_loss: 0.3465 - val_accuracy: 0.8704\n",
            "Epoch 50/70\n",
            "65/65 [==============================] - 11s 169ms/step - loss: 0.2867 - accuracy: 0.8938 - val_loss: 0.3231 - val_accuracy: 0.8930\n",
            "Epoch 51/70\n",
            "65/65 [==============================] - 12s 183ms/step - loss: 0.2912 - accuracy: 0.8938 - val_loss: 0.3187 - val_accuracy: 0.8958\n",
            "Epoch 52/70\n",
            "65/65 [==============================] - 11s 168ms/step - loss: 0.2808 - accuracy: 0.8953 - val_loss: 0.3235 - val_accuracy: 0.8901\n",
            "Epoch 53/70\n",
            "65/65 [==============================] - 12s 188ms/step - loss: 0.2822 - accuracy: 0.8924 - val_loss: 0.3107 - val_accuracy: 0.9042\n",
            "Epoch 54/70\n",
            "65/65 [==============================] - 16s 253ms/step - loss: 0.2804 - accuracy: 0.8967 - val_loss: 0.3117 - val_accuracy: 0.9042\n",
            "Epoch 55/70\n",
            "65/65 [==============================] - 14s 220ms/step - loss: 0.2803 - accuracy: 0.9025 - val_loss: 0.3050 - val_accuracy: 0.9099\n",
            "Epoch 56/70\n",
            "65/65 [==============================] - 13s 206ms/step - loss: 0.2715 - accuracy: 0.9006 - val_loss: 0.3065 - val_accuracy: 0.8986\n",
            "Epoch 57/70\n",
            "65/65 [==============================] - 11s 165ms/step - loss: 0.2711 - accuracy: 0.8996 - val_loss: 0.3100 - val_accuracy: 0.9070\n",
            "Epoch 58/70\n",
            "65/65 [==============================] - 10s 156ms/step - loss: 0.2802 - accuracy: 0.8996 - val_loss: 0.3010 - val_accuracy: 0.9042\n",
            "Epoch 59/70\n",
            "65/65 [==============================] - 10s 156ms/step - loss: 0.2712 - accuracy: 0.9015 - val_loss: 0.2981 - val_accuracy: 0.9042\n",
            "Epoch 60/70\n",
            "65/65 [==============================] - 11s 164ms/step - loss: 0.2609 - accuracy: 0.8991 - val_loss: 0.3086 - val_accuracy: 0.8901\n",
            "Epoch 61/70\n",
            "65/65 [==============================] - 10s 156ms/step - loss: 0.2736 - accuracy: 0.8967 - val_loss: 0.2982 - val_accuracy: 0.9127\n",
            "Epoch 62/70\n",
            "65/65 [==============================] - 12s 181ms/step - loss: 0.2681 - accuracy: 0.9011 - val_loss: 0.3007 - val_accuracy: 0.8958\n",
            "Epoch 63/70\n",
            "65/65 [==============================] - 11s 169ms/step - loss: 0.2704 - accuracy: 0.9035 - val_loss: 0.2918 - val_accuracy: 0.9127\n",
            "Epoch 64/70\n",
            "65/65 [==============================] - 12s 180ms/step - loss: 0.2665 - accuracy: 0.9040 - val_loss: 0.2900 - val_accuracy: 0.9042\n",
            "Epoch 65/70\n",
            "65/65 [==============================] - 12s 189ms/step - loss: 0.2647 - accuracy: 0.9030 - val_loss: 0.3114 - val_accuracy: 0.8873\n",
            "Epoch 66/70\n",
            "65/65 [==============================] - 10s 154ms/step - loss: 0.2576 - accuracy: 0.9030 - val_loss: 0.2958 - val_accuracy: 0.9014\n",
            "Epoch 67/70\n",
            "65/65 [==============================] - 14s 214ms/step - loss: 0.2584 - accuracy: 0.9078 - val_loss: 0.2945 - val_accuracy: 0.9070\n",
            "Epoch 68/70\n",
            "65/65 [==============================] - 10s 155ms/step - loss: 0.2650 - accuracy: 0.9001 - val_loss: 0.3036 - val_accuracy: 0.9155\n",
            "Epoch 69/70\n",
            "65/65 [==============================] - 10s 155ms/step - loss: 0.2563 - accuracy: 0.9073 - val_loss: 0.2832 - val_accuracy: 0.9127\n",
            "Epoch 70/70\n",
            "65/65 [==============================] - 10s 155ms/step - loss: 0.2519 - accuracy: 0.9044 - val_loss: 0.2900 - val_accuracy: 0.9014\n"
          ]
        }
      ]
    },
    {
      "cell_type": "code",
      "source": [
        "loss = history_fine.history['loss']\n",
        "val_loss = history_fine.history['val_loss']\n",
        "\n",
        "plt.plot(history_fine.history['loss'])\n",
        "plt.plot(history_fine.history['val_loss'])\n",
        "plt.title('model loss')\n",
        "plt.ylabel('loss')\n",
        "plt.xlabel('epoch')\n",
        "plt.legend(['training set','validation set'], loc='upper left')\n",
        "plt.show()"
      ],
      "metadata": {
        "id": "74JAvxlwH4x2",
        "colab": {
          "base_uri": "https://localhost:8080/",
          "height": 295
        },
        "outputId": "346daed0-bb89-409e-9dad-ca91300322c1"
      },
      "execution_count": 38,
      "outputs": [
        {
          "output_type": "display_data",
          "data": {
            "text/plain": [
              "<Figure size 432x288 with 1 Axes>"
            ],
            "image/png": "[encoded data removed]"
          },
          "metadata": {
            "needs_background": "light"
          }
        }
      ]
    },
    {
      "cell_type": "code",
      "source": [
        "y_prob = model.predict(test_generator)\n",
        "y_pred = np.argmax(y_prob,axis=1)"
      ],
      "metadata": {
        "id": "3A8bZSCiHZAh"
      },
      "execution_count": 39,
      "outputs": []
    },
    {
      "cell_type": "code",
      "source": [
        "y_prob"
      ],
      "metadata": {
        "colab": {
          "base_uri": "https://localhost:8080/"
        },
        "id": "HnCag0zcHbAH",
        "outputId": "7a9cf3a0-f08a-4f39-8ee0-89f2453343a5"
      },
      "execution_count": 40,
      "outputs": [
        {
          "output_type": "execute_result",
          "data": {
            "text/plain": [
              "array([[0.17742153, 0.37363234, 0.44894618],\n",
              "       [0.9883151 , 0.00470605, 0.00697884],\n",
              "       [0.03586066, 0.02197297, 0.94216645],\n",
              "       ...,\n",
              "       [0.0551803 , 0.02652379, 0.91829586],\n",
              "       [0.68654287, 0.11795753, 0.19549958],\n",
              "       [0.28955385, 0.0379662 , 0.67248   ]], dtype=float32)"
            ]
          },
          "metadata": {},
          "execution_count": 40
        }
      ]
    },
    {
      "cell_type": "code",
      "source": [
        "y_test = test_generator.classes"
      ],
      "metadata": {
        "id": "VSzq_XjWHc0O"
      },
      "execution_count": 41,
      "outputs": []
    },
    {
      "cell_type": "code",
      "source": [
        "print(classification_report(y_test,y_pred))"
      ],
      "metadata": {
        "colab": {
          "base_uri": "https://localhost:8080/"
        },
        "id": "zb5z8kJ6Helu",
        "outputId": "79f072e6-b283-4a73-bea5-a978e0d168a4"
      },
      "execution_count": 42,
      "outputs": [
        {
          "output_type": "stream",
          "name": "stdout",
          "text": [
            "              precision    recall  f1-score   support\n",
            "\n",
            "           0       0.34      0.32      0.33       180\n",
            "           1       0.32      0.32      0.32       170\n",
            "           2       0.33      0.34      0.34       184\n",
            "\n",
            "    accuracy                           0.33       534\n",
            "   macro avg       0.33      0.33      0.33       534\n",
            "weighted avg       0.33      0.33      0.33       534\n",
            "\n"
          ]
        }
      ]
    },
    {
      "cell_type": "code",
      "source": [
        "model_resnet = Sequential()\n",
        "\n",
        "model_resnet.add(layers.experimental.preprocessing.Resizing(224,224,interpolation=\"bilinear\",input_shape=(224,224,3)))\n",
        "model_resnet.add(ResNet50(include_top = False, weights = None))\n",
        "model_resnet.add(Dropout(0.5))\n",
        "model_resnet.add(Flatten())\n",
        "model_resnet.add(Dense(num_classes))\n",
        "model_resnet.add(Activation('softmax'))\n",
        "\n",
        "model_resnet.summary()"
      ],
      "metadata": {
        "colab": {
          "base_uri": "https://localhost:8080/"
        },
        "id": "jh56dZ0XAzIQ",
        "outputId": "202c640e-5395-4576-a77b-cb05ed8852ef"
      },
      "execution_count": 49,
      "outputs": [
        {
          "output_type": "stream",
          "name": "stdout",
          "text": [
            "Model: \"sequential_7\"\n",
            "_________________________________________________________________\n",
            " Layer (type)                Output Shape              Param #   \n",
            "=================================================================\n",
            " resizing_5 (Resizing)       (None, 224, 224, 3)       0         \n",
            "                                                                 \n",
            " resnet50 (Functional)       (None, None, None, 2048)  23587712  \n",
            "                                                                 \n",
            " dropout_1 (Dropout)         (None, 7, 7, 2048)        0         \n",
            "                                                                 \n",
            " flatten_5 (Flatten)         (None, 100352)            0         \n",
            "                                                                 \n",
            " dense_9 (Dense)             (None, 3)                 301059    \n",
            "                                                                 \n",
            " activation_11 (Activation)  (None, 3)                 0         \n",
            "                                                                 \n",
            "=================================================================\n",
            "Total params: 23,888,771\n",
            "Trainable params: 23,835,651\n",
            "Non-trainable params: 53,120\n",
            "_________________________________________________________________\n"
          ]
        }
      ]
    },
    {
      "cell_type": "code",
      "source": [
        "sgd = SGD(lr=0.0001)\n",
        "\n",
        "model_resnet.compile(optimizer=sgd, loss='categorical_crossentropy', metrics=['accuracy'])\n",
        "\n",
        "history_fine_resnet = model_resnet.fit(train_generator, \n",
        "          epochs=70, \n",
        "          batch_size=16, \n",
        "          validation_data=valid_generator)"
      ],
      "metadata": {
        "colab": {
          "base_uri": "https://localhost:8080/"
        },
        "id": "xMou4unLLmOh",
        "outputId": "c931b5bc-36f0-4692-954e-e700687004d7"
      },
      "execution_count": 50,
      "outputs": [
        {
          "output_type": "stream",
          "name": "stdout",
          "text": [
            "Epoch 1/70\n",
            "65/65 [==============================] - 29s 363ms/step - loss: 1.1925 - accuracy: 0.6134 - val_loss: 1.2151 - val_accuracy: 0.3493\n",
            "Epoch 2/70\n",
            "65/65 [==============================] - 23s 354ms/step - loss: 0.9405 - accuracy: 0.7042 - val_loss: 2.0773 - val_accuracy: 0.3493\n",
            "Epoch 3/70\n",
            "65/65 [==============================] - 23s 349ms/step - loss: 0.9636 - accuracy: 0.7307 - val_loss: 2.0049 - val_accuracy: 0.3493\n",
            "Epoch 4/70\n",
            "65/65 [==============================] - 23s 356ms/step - loss: 0.8428 - accuracy: 0.7534 - val_loss: 1.8977 - val_accuracy: 0.3493\n",
            "Epoch 5/70\n",
            "65/65 [==============================] - 23s 347ms/step - loss: 0.8112 - accuracy: 0.7616 - val_loss: 1.6172 - val_accuracy: 0.3662\n",
            "Epoch 6/70\n",
            "65/65 [==============================] - 23s 345ms/step - loss: 0.7784 - accuracy: 0.7717 - val_loss: 0.9285 - val_accuracy: 0.6085\n",
            "Epoch 7/70\n",
            "65/65 [==============================] - 23s 347ms/step - loss: 0.8218 - accuracy: 0.7606 - val_loss: 0.8344 - val_accuracy: 0.6338\n",
            "Epoch 8/70\n",
            "65/65 [==============================] - 23s 349ms/step - loss: 0.7731 - accuracy: 0.7703 - val_loss: 1.5060 - val_accuracy: 0.5408\n",
            "Epoch 9/70\n",
            "65/65 [==============================] - 23s 353ms/step - loss: 0.7403 - accuracy: 0.7741 - val_loss: 1.0003 - val_accuracy: 0.6028\n",
            "Epoch 10/70\n",
            "65/65 [==============================] - 23s 345ms/step - loss: 0.7441 - accuracy: 0.7679 - val_loss: 3.9149 - val_accuracy: 0.4056\n",
            "Epoch 11/70\n",
            "65/65 [==============================] - 23s 347ms/step - loss: 0.7534 - accuracy: 0.7732 - val_loss: 3.7906 - val_accuracy: 0.3803\n",
            "Epoch 12/70\n",
            "65/65 [==============================] - 23s 346ms/step - loss: 0.7067 - accuracy: 0.8016 - val_loss: 2.6689 - val_accuracy: 0.4000\n",
            "Epoch 13/70\n",
            "65/65 [==============================] - 23s 347ms/step - loss: 0.7883 - accuracy: 0.7664 - val_loss: 3.0825 - val_accuracy: 0.4113\n",
            "Epoch 14/70\n",
            "65/65 [==============================] - 23s 346ms/step - loss: 0.7394 - accuracy: 0.7896 - val_loss: 5.4907 - val_accuracy: 0.3380\n",
            "Epoch 15/70\n",
            "65/65 [==============================] - 23s 348ms/step - loss: 0.7201 - accuracy: 0.7809 - val_loss: 1.8057 - val_accuracy: 0.5099\n",
            "Epoch 16/70\n",
            "65/65 [==============================] - 23s 353ms/step - loss: 0.6865 - accuracy: 0.7954 - val_loss: 1.6937 - val_accuracy: 0.5577\n",
            "Epoch 17/70\n",
            "65/65 [==============================] - 23s 347ms/step - loss: 0.6861 - accuracy: 0.7934 - val_loss: 1.0921 - val_accuracy: 0.6113\n",
            "Epoch 18/70\n",
            "65/65 [==============================] - 23s 357ms/step - loss: 0.6288 - accuracy: 0.8084 - val_loss: 3.1019 - val_accuracy: 0.4394\n",
            "Epoch 19/70\n",
            "65/65 [==============================] - 23s 348ms/step - loss: 0.6527 - accuracy: 0.7978 - val_loss: 1.9237 - val_accuracy: 0.5239\n",
            "Epoch 20/70\n",
            "65/65 [==============================] - 23s 345ms/step - loss: 0.6673 - accuracy: 0.8045 - val_loss: 0.8577 - val_accuracy: 0.7042\n",
            "Epoch 21/70\n",
            "65/65 [==============================] - 23s 345ms/step - loss: 0.5865 - accuracy: 0.8166 - val_loss: 5.8171 - val_accuracy: 0.3493\n",
            "Epoch 22/70\n",
            "65/65 [==============================] - 23s 348ms/step - loss: 0.5771 - accuracy: 0.8166 - val_loss: 1.8987 - val_accuracy: 0.5352\n",
            "Epoch 23/70\n",
            "65/65 [==============================] - 23s 347ms/step - loss: 0.6333 - accuracy: 0.8113 - val_loss: 0.9336 - val_accuracy: 0.7042\n",
            "Epoch 24/70\n",
            "65/65 [==============================] - 23s 349ms/step - loss: 0.6013 - accuracy: 0.8089 - val_loss: 0.6431 - val_accuracy: 0.8056\n",
            "Epoch 25/70\n",
            "65/65 [==============================] - 23s 347ms/step - loss: 0.5845 - accuracy: 0.8181 - val_loss: 2.5668 - val_accuracy: 0.3775\n",
            "Epoch 26/70\n",
            "65/65 [==============================] - 23s 347ms/step - loss: 0.6043 - accuracy: 0.8132 - val_loss: 1.3973 - val_accuracy: 0.5521\n",
            "Epoch 27/70\n",
            "65/65 [==============================] - 23s 347ms/step - loss: 0.5571 - accuracy: 0.8205 - val_loss: 0.8270 - val_accuracy: 0.6620\n",
            "Epoch 28/70\n",
            "65/65 [==============================] - 23s 348ms/step - loss: 0.5881 - accuracy: 0.8108 - val_loss: 13.4433 - val_accuracy: 0.3324\n",
            "Epoch 29/70\n",
            "65/65 [==============================] - 23s 347ms/step - loss: 0.6425 - accuracy: 0.8089 - val_loss: 0.9284 - val_accuracy: 0.5859\n",
            "Epoch 30/70\n",
            "65/65 [==============================] - 23s 347ms/step - loss: 0.6220 - accuracy: 0.8074 - val_loss: 1.6210 - val_accuracy: 0.4451\n",
            "Epoch 31/70\n",
            "65/65 [==============================] - 23s 346ms/step - loss: 0.6389 - accuracy: 0.8016 - val_loss: 13.2317 - val_accuracy: 0.3380\n",
            "Epoch 32/70\n",
            "65/65 [==============================] - 23s 347ms/step - loss: 0.6013 - accuracy: 0.8060 - val_loss: 1.9395 - val_accuracy: 0.4620\n",
            "Epoch 33/70\n",
            "65/65 [==============================] - 23s 347ms/step - loss: 0.6147 - accuracy: 0.8098 - val_loss: 3.3815 - val_accuracy: 0.4000\n",
            "Epoch 34/70\n",
            "65/65 [==============================] - 23s 348ms/step - loss: 0.5370 - accuracy: 0.8359 - val_loss: 2.1112 - val_accuracy: 0.4113\n",
            "Epoch 35/70\n",
            "65/65 [==============================] - 24s 361ms/step - loss: 0.5194 - accuracy: 0.8383 - val_loss: 2.1719 - val_accuracy: 0.5352\n",
            "Epoch 36/70\n",
            "65/65 [==============================] - 23s 350ms/step - loss: 0.5772 - accuracy: 0.8258 - val_loss: 0.5079 - val_accuracy: 0.8451\n",
            "Epoch 37/70\n",
            "65/65 [==============================] - 24s 361ms/step - loss: 0.5317 - accuracy: 0.8282 - val_loss: 1.2966 - val_accuracy: 0.5662\n",
            "Epoch 38/70\n",
            "65/65 [==============================] - 23s 356ms/step - loss: 0.5213 - accuracy: 0.8407 - val_loss: 0.8371 - val_accuracy: 0.6254\n",
            "Epoch 39/70\n",
            "65/65 [==============================] - 24s 370ms/step - loss: 0.5290 - accuracy: 0.8403 - val_loss: 1.0845 - val_accuracy: 0.5718\n",
            "Epoch 40/70\n",
            "65/65 [==============================] - 24s 362ms/step - loss: 0.4950 - accuracy: 0.8287 - val_loss: 0.5798 - val_accuracy: 0.8085\n",
            "Epoch 41/70\n",
            "65/65 [==============================] - 22s 343ms/step - loss: 0.5465 - accuracy: 0.8229 - val_loss: 1.1928 - val_accuracy: 0.5718\n",
            "Epoch 42/70\n",
            "65/65 [==============================] - 24s 361ms/step - loss: 0.4986 - accuracy: 0.8316 - val_loss: 0.6383 - val_accuracy: 0.7718\n",
            "Epoch 43/70\n",
            "65/65 [==============================] - 24s 360ms/step - loss: 0.5354 - accuracy: 0.8253 - val_loss: 0.5906 - val_accuracy: 0.8197\n",
            "Epoch 44/70\n",
            "65/65 [==============================] - 24s 364ms/step - loss: 0.5082 - accuracy: 0.8456 - val_loss: 0.6246 - val_accuracy: 0.8366\n",
            "Epoch 45/70\n",
            "65/65 [==============================] - 23s 346ms/step - loss: 0.4684 - accuracy: 0.8485 - val_loss: 0.5348 - val_accuracy: 0.8507\n",
            "Epoch 46/70\n",
            "65/65 [==============================] - 26s 403ms/step - loss: 0.4865 - accuracy: 0.8427 - val_loss: 0.5276 - val_accuracy: 0.8338\n",
            "Epoch 47/70\n",
            "65/65 [==============================] - 23s 348ms/step - loss: 0.4533 - accuracy: 0.8441 - val_loss: 1.3096 - val_accuracy: 0.5746\n",
            "Epoch 48/70\n",
            "65/65 [==============================] - 23s 356ms/step - loss: 0.4352 - accuracy: 0.8586 - val_loss: 0.8849 - val_accuracy: 0.6507\n",
            "Epoch 49/70\n",
            "65/65 [==============================] - 23s 350ms/step - loss: 0.4738 - accuracy: 0.8509 - val_loss: 0.5246 - val_accuracy: 0.8366\n",
            "Epoch 50/70\n",
            "65/65 [==============================] - 22s 345ms/step - loss: 0.4435 - accuracy: 0.8682 - val_loss: 0.6834 - val_accuracy: 0.7606\n",
            "Epoch 51/70\n",
            "65/65 [==============================] - 23s 346ms/step - loss: 0.4612 - accuracy: 0.8542 - val_loss: 0.5836 - val_accuracy: 0.8394\n",
            "Epoch 52/70\n",
            "65/65 [==============================] - 23s 352ms/step - loss: 0.4348 - accuracy: 0.8523 - val_loss: 0.5555 - val_accuracy: 0.8282\n",
            "Epoch 53/70\n",
            "65/65 [==============================] - 23s 351ms/step - loss: 0.4161 - accuracy: 0.8634 - val_loss: 1.1128 - val_accuracy: 0.5831\n",
            "Epoch 54/70\n",
            "65/65 [==============================] - 23s 345ms/step - loss: 0.4535 - accuracy: 0.8600 - val_loss: 0.6930 - val_accuracy: 0.7465\n",
            "Epoch 55/70\n",
            "65/65 [==============================] - 23s 346ms/step - loss: 0.4269 - accuracy: 0.8600 - val_loss: 0.4348 - val_accuracy: 0.8676\n",
            "Epoch 56/70\n",
            "65/65 [==============================] - 23s 346ms/step - loss: 0.4140 - accuracy: 0.8639 - val_loss: 0.9201 - val_accuracy: 0.6085\n",
            "Epoch 57/70\n",
            "65/65 [==============================] - 23s 350ms/step - loss: 0.3802 - accuracy: 0.8726 - val_loss: 0.5066 - val_accuracy: 0.8507\n",
            "Epoch 58/70\n",
            "65/65 [==============================] - 23s 346ms/step - loss: 0.4226 - accuracy: 0.8736 - val_loss: 0.5783 - val_accuracy: 0.8507\n",
            "Epoch 59/70\n",
            "65/65 [==============================] - 23s 347ms/step - loss: 0.3503 - accuracy: 0.8750 - val_loss: 0.5030 - val_accuracy: 0.8592\n",
            "Epoch 60/70\n",
            "65/65 [==============================] - 23s 346ms/step - loss: 0.4249 - accuracy: 0.8721 - val_loss: 0.4436 - val_accuracy: 0.8732\n",
            "Epoch 61/70\n",
            "65/65 [==============================] - 23s 348ms/step - loss: 0.3790 - accuracy: 0.8707 - val_loss: 0.4506 - val_accuracy: 0.8676\n",
            "Epoch 62/70\n",
            "65/65 [==============================] - 23s 346ms/step - loss: 0.3847 - accuracy: 0.8678 - val_loss: 0.5863 - val_accuracy: 0.8113\n",
            "Epoch 63/70\n",
            "65/65 [==============================] - 23s 347ms/step - loss: 0.3958 - accuracy: 0.8774 - val_loss: 0.3928 - val_accuracy: 0.8817\n",
            "Epoch 64/70\n",
            "65/65 [==============================] - 23s 346ms/step - loss: 0.3656 - accuracy: 0.8731 - val_loss: 0.4105 - val_accuracy: 0.8676\n",
            "Epoch 65/70\n",
            "65/65 [==============================] - 23s 349ms/step - loss: 0.3617 - accuracy: 0.8716 - val_loss: 0.6226 - val_accuracy: 0.7775\n",
            "Epoch 66/70\n",
            "65/65 [==============================] - 23s 348ms/step - loss: 0.3699 - accuracy: 0.8774 - val_loss: 0.4755 - val_accuracy: 0.8704\n",
            "Epoch 67/70\n",
            "65/65 [==============================] - 23s 348ms/step - loss: 0.3269 - accuracy: 0.8900 - val_loss: 0.5276 - val_accuracy: 0.8169\n",
            "Epoch 68/70\n",
            "65/65 [==============================] - 23s 345ms/step - loss: 0.3362 - accuracy: 0.8866 - val_loss: 0.4566 - val_accuracy: 0.8761\n",
            "Epoch 69/70\n",
            "65/65 [==============================] - 23s 347ms/step - loss: 0.3669 - accuracy: 0.8818 - val_loss: 0.6993 - val_accuracy: 0.7239\n",
            "Epoch 70/70\n",
            "65/65 [==============================] - 23s 346ms/step - loss: 0.3354 - accuracy: 0.8851 - val_loss: 0.4516 - val_accuracy: 0.8873\n"
          ]
        }
      ]
    },
    {
      "cell_type": "code",
      "source": [
        "loss = history_fine_resnet.history['loss']\n",
        "val_loss = history_fine_resnet.history['val_loss']\n",
        "\n",
        "plt.plot(history_fine_resnet.history['loss'])\n",
        "plt.plot(history_fine_resnet.history['val_loss'])\n",
        "plt.title('model loss')\n",
        "plt.ylabel('loss')\n",
        "plt.xlabel('epoch')\n",
        "plt.legend(['training set','validation set'], loc='upper left')\n",
        "plt.show()"
      ],
      "metadata": {
        "colab": {
          "base_uri": "https://localhost:8080/",
          "height": 295
        },
        "id": "To9LrA2VM5UK",
        "outputId": "73be64f1-893d-4f58-eebe-f9251f0aa49c"
      },
      "execution_count": 53,
      "outputs": [
        {
          "output_type": "display_data",
          "data": {
            "text/plain": [
              "<Figure size 432x288 with 1 Axes>"
            ],
            "image/png": "[encoded data removed]"
          },
          "metadata": {
            "needs_background": "light"
          }
        }
      ]
    },
    {
      "cell_type": "code",
      "source": [
        "y_prob = model.predict(test_generator)\n",
        "y_pred = np.argmax(y_prob,axis=1)\n",
        "y_test = test_generator.classes"
      ],
      "metadata": {
        "id": "iWEIR8AnM9B8"
      },
      "execution_count": null,
      "outputs": []
    },
    {
      "cell_type": "code",
      "source": [
        "print(classification_report(y_test,y_pred))"
      ],
      "metadata": {
        "id": "tIdNlBbINF4O"
      },
      "execution_count": null,
      "outputs": []
    },
    {
      "cell_type": "code",
      "source": [
        "!sudo apt install tesseract-ocr"
      ],
      "metadata": {
        "colab": {
          "base_uri": "https://localhost:8080/"
        },
        "id": "TEvnaBvlSB39",
        "outputId": "7061c9ba-82a1-4b3a-fe35-ffd74e7ba4a1"
      },
      "execution_count": 51,
      "outputs": [
        {
          "output_type": "stream",
          "name": "stdout",
          "text": [
            "Reading package lists... Done\n",
            "Building dependency tree       \n",
            "Reading state information... Done\n",
            "The following package was automatically installed and is no longer required:\n",
            "  libnvidia-common-460\n",
            "Use 'sudo apt autoremove' to remove it.\n",
            "The following additional packages will be installed:\n",
            "  tesseract-ocr-eng tesseract-ocr-osd\n",
            "The following NEW packages will be installed:\n",
            "  tesseract-ocr tesseract-ocr-eng tesseract-ocr-osd\n",
            "0 upgraded, 3 newly installed, 0 to remove and 20 not upgraded.\n",
            "Need to get 4,795 kB of archives.\n",
            "After this operation, 15.8 MB of additional disk space will be used.\n",
            "Get:1 http://archive.ubuntu.com/ubuntu bionic/universe amd64 tesseract-ocr-eng all 4.00~git24-0e00fe6-1.2 [1,588 kB]\n",
            "Get:2 http://archive.ubuntu.com/ubuntu bionic/universe amd64 tesseract-ocr-osd all 4.00~git24-0e00fe6-1.2 [2,989 kB]\n",
            "Get:3 http://archive.ubuntu.com/ubuntu bionic/universe amd64 tesseract-ocr amd64 4.00~git2288-10f4998a-2 [218 kB]\n",
            "Fetched 4,795 kB in 0s (13.3 MB/s)\n",
            "debconf: unable to initialize frontend: Dialog\n",
            "debconf: (No usable dialog-like program is installed, so the dialog based frontend cannot be used. at /usr/share/perl5/Debconf/FrontEnd/Dialog.pm line 76, <> line 3.)\n",
            "debconf: falling back to frontend: Readline\n",
            "debconf: unable to initialize frontend: Readline\n",
            "debconf: (This frontend requires a controlling tty.)\n",
            "debconf: falling back to frontend: Teletype\n",
            "dpkg-preconfigure: unable to re-open stdin: \n",
            "Selecting previously unselected package tesseract-ocr-eng.\n",
            "(Reading database ... 155676 files and directories currently installed.)\n",
            "Preparing to unpack .../tesseract-ocr-eng_4.00~git24-0e00fe6-1.2_all.deb ...\n",
            "Unpacking tesseract-ocr-eng (4.00~git24-0e00fe6-1.2) ...\n",
            "Selecting previously unselected package tesseract-ocr-osd.\n",
            "Preparing to unpack .../tesseract-ocr-osd_4.00~git24-0e00fe6-1.2_all.deb ...\n",
            "Unpacking tesseract-ocr-osd (4.00~git24-0e00fe6-1.2) ...\n",
            "Selecting previously unselected package tesseract-ocr.\n",
            "Preparing to unpack .../tesseract-ocr_4.00~git2288-10f4998a-2_amd64.deb ...\n",
            "Unpacking tesseract-ocr (4.00~git2288-10f4998a-2) ...\n",
            "Setting up tesseract-ocr-osd (4.00~git24-0e00fe6-1.2) ...\n",
            "Setting up tesseract-ocr-eng (4.00~git24-0e00fe6-1.2) ...\n",
            "Setting up tesseract-ocr (4.00~git2288-10f4998a-2) ...\n",
            "Processing triggers for man-db (2.8.3-2ubuntu0.1) ...\n"
          ]
        }
      ]
    },
    {
      "cell_type": "code",
      "source": [
        "!pip install pytesseract"
      ],
      "metadata": {
        "colab": {
          "base_uri": "https://localhost:8080/",
          "height": 346
        },
        "id": "dow7FAQASGCg",
        "outputId": "e17c2304-4037-40f4-d987-98cd79f74e0c"
      },
      "execution_count": 55,
      "outputs": [
        {
          "output_type": "stream",
          "name": "stdout",
          "text": [
            "Looking in indexes: https://pypi.org/simple, https://us-python.pkg.dev/colab-wheels/public/simple/\n",
            "Collecting pytesseract\n",
            "  Downloading pytesseract-0.3.10-py3-none-any.whl (14 kB)\n",
            "Collecting Pillow>=8.0.0\n",
            "  Downloading Pillow-9.2.0-cp37-cp37m-manylinux_2_17_x86_64.manylinux2014_x86_64.whl (3.1 MB)\n",
            "\u001b[K     |████████████████████████████████| 3.1 MB 5.0 MB/s \n",
            "\u001b[?25hRequirement already satisfied: packaging>=21.3 in /usr/local/lib/python3.7/dist-packages (from pytesseract) (21.3)\n",
            "Requirement already satisfied: pyparsing!=3.0.5,>=2.0.2 in /usr/local/lib/python3.7/dist-packages (from packaging>=21.3->pytesseract) (3.0.9)\n",
            "Installing collected packages: Pillow, pytesseract\n",
            "  Attempting uninstall: Pillow\n",
            "    Found existing installation: Pillow 7.1.2\n",
            "    Uninstalling Pillow-7.1.2:\n",
            "      Successfully uninstalled Pillow-7.1.2\n",
            "Successfully installed Pillow-9.2.0 pytesseract-0.3.10\n"
          ]
        },
        {
          "output_type": "display_data",
          "data": {
            "application/vnd.colab-display-data+json": {
              "pip_warning": {
                "packages": [
                  "PIL"
                ]
              }
            }
          },
          "metadata": {}
        }
      ]
    },
    {
      "cell_type": "code",
      "source": [
        "import pytesseract\n",
        "try:\n",
        "    from PIL import Image\n",
        "except ImportError:\n",
        "    import Image"
      ],
      "metadata": {
        "id": "2jPd08fOSZyN"
      },
      "execution_count": 56,
      "outputs": []
    },
    {
      "cell_type": "code",
      "source": [
        "lista_subfolders = os.listdir('documents')\n",
        "\n",
        "tesseract_dict = {}\n",
        "\n",
        "tesseract_dict['filename'] = []\n",
        "tesseract_dict['label'] = []\n",
        "tesseract_dict['extracted_text'] = []\n",
        "\n",
        "for folder in lista_subfolders:\n",
        "  lista_imagens = os.listdir('documents/'+folder)\n",
        "\n",
        "  i = 0\n",
        "  for img_file in lista_imagens:\n",
        "    if i > 100:\n",
        "      break\n",
        "    file_path = 'documents/' + str(folder) + '/' + str(img_file)\n",
        "    tesseract_dict['filename'].append(img_file)\n",
        "    tesseract_dict['label'].append(folder) \n",
        "    extracted = pytesseract.image_to_string(Image.open(file_path))\n",
        "    tesseract_dict['extracted_text'].append(extracted)\n",
        "    print(img_file)\n",
        "    i += 1"
      ],
      "metadata": {
        "colab": {
          "base_uri": "https://localhost:8080/"
        },
        "id": "TxzSSywPStbh",
        "outputId": "92af8825-8e8f-4ceb-d776-322eec6dbc12"
      },
      "execution_count": null,
      "outputs": [
        {
          "output_type": "stream",
          "name": "stdout",
          "text": [
            "2502255678_5684.tif\n",
            "10046987_10047002.tif\n",
            "2046398702_2046398712.tif\n",
            "2505350166.tif\n",
            "2505421989.tif\n",
            "1005118878_1005118879.tif\n",
            "2029135744.tif\n",
            "2501984338.tif\n",
            "2505222280_2282.tif\n",
            "5841.tif\n",
            "2505104637.tif\n",
            "00271353_1359.tif\n",
            "1003932591_2597.tif\n",
            "2073327385.tif\n",
            "2024547819_2024547820.tif\n",
            "10420093.tif\n",
            "10416983_10416988.tif\n",
            "1003193821_1003193822.tif\n",
            "10120754_10120755.tif\n",
            "2074809052_9064.tif\n",
            "10416772_10416778.tif\n",
            "00270787_0792.tif\n",
            "3382.tif\n",
            "2022953444_2022953454.tif\n",
            "6179.tif\n",
            "10360328_10360345.tif\n",
            "2022167150_2022167161.tif\n",
            "10199250_10199256.tif\n",
            "10335527_10335530.tif\n",
            "85864368_85864374.tif\n",
            "2028906178.tif\n",
            "1386.tif\n",
            "2072852008.tif\n",
            "0541.tif\n",
            "2024957498.tif\n",
            "85864268_85864272.tif\n",
            "6733.tif\n",
            "10346887_10346894.tif\n",
            "7255.tif\n",
            "10412566_10412581.tif\n",
            "2025612553_2561.tif\n",
            "4434.tif\n",
            "2024226092_2024226098.tif\n",
            "1003819910.tif\n",
            "2505135366_5370.tif\n",
            "2029241562.tif\n",
            "2026411695_2026411698.tif\n",
            "6291.tif\n",
            "2075584611_4620.tif\n",
            "7307.tif\n",
            "11313337.tif\n",
            "2081783279_3285.tif\n",
            "88837047_88837052.tif\n",
            "8485.tif\n",
            "10342284_10342290.tif\n",
            "2505269678_9684.tif\n",
            "96957355_7367.tif\n",
            "10017194_10017199.tif\n",
            "87468083.tif\n",
            "2025050682_2025050693.tif\n",
            "7708.tif\n",
            "8307.tif\n",
            "2505913365_3376.tif\n",
            "2023693870_2023693876.tif\n",
            "00982660_00982663.tif\n",
            "60043673_60043685.tif\n",
            "2063644501_2063644514.tif\n",
            "1244.tif\n",
            "7179.tif\n",
            "2050235057.tif\n",
            "5803.tif\n",
            "2074809300_9305.tif\n",
            "2502288093_8106.tif\n",
            "2028436650_2028436656.tif\n",
            "8083.tif\n",
            "2076911031.tif\n",
            "10081242_10081243.tif\n",
            "83253515_3529.tif\n",
            "87622538_2554.tif\n",
            "10418770_10418772.tif\n",
            "0487.tif\n",
            "10413380.tif\n",
            "1000150550_1000150554.tif\n",
            "2060556435.tif\n",
            "10330097_10330105.tif\n",
            ".tif\n",
            "10343301_10343306.tif\n",
            "7989.tif\n"
          ]
        }
      ]
    },
    {
      "cell_type": "code",
      "source": [
        "\n",
        "tesseract_df = pd.DataFrame(tesseract_dict, columns=['filename', 'label', 'extracted_text'])\n",
        "tesseract_df"
      ],
      "metadata": {
        "colab": {
          "base_uri": "https://localhost:8080/",
          "height": 424
        },
        "id": "Cj8EFt2XW9Jv",
        "outputId": "8c21d273-d0bd-49cb-e42c-dd7dee9e408e"
      },
      "execution_count": 64,
      "outputs": [
        {
          "output_type": "execute_result",
          "data": {
            "text/plain": [
              "                      filename  ...                                     extracted_text\n",
              "0          2502255678_5684.tif  ...  Jets S\\n\\nBs ra of sean 2.8 08\\n\\n\"Sed tea chi...\n",
              "1        10046987_10047002.tif  ...   \\n\\nWKBO061175\\n\\nEEG THETA ACTIVITY AND FAST...\n",
              "2    2046398702_2046398712.tif  ...  VALIDITY OF THE SACHS\\nOPTIMUM DOSING\\nALGORIT...\n",
              "3               2505350166.tif  ...   \\n\\n \\n\\n \\n\\n \\n\\n \\n\\n‘horas, 1YTT, 32 155-...\n",
              "4               2505421989.tif  ...  26/02 \"97 18:38 FAX 41328887776\\n\\n> SA Neucha...\n",
              "..                         ...  ...                                                ...\n",
              "298                   4775.tif  ...  pe isle\\n\\n1 Aq seas $304OWS UIOOY PUB JEL. MO...\n",
              "299        2084419441_9442.tif  ...   \\n\\nBaHM #342\\nBLACK MEN 1/00\\n\\na aL\\naid i ...\n",
              "300             2026002661.tif  ...  2 Ror. $2 13:28 000 THIELE UA, KOELN TeL 49122...\n",
              "301             2080263049.tif  ...                                  \\n\\n6r0E9z080z\\n\n",
              "\n",
              "302          91662217_2220.tif  ...                    Satin Wo man. nas\\n\\nTe\\n\\n \\n\n",
              "\n",
              "\n",
              "[303 rows x 3 columns]"
            ],
            "text/html": [
              "\n",
              "  <div id=\"df-ef01158e-ac81-4d8c-8787-c1632403ce0a\">\n",
              "    <div class=\"colab-df-container\">\n",
              "      <div>\n",
              "<style scoped>\n",
              "    .dataframe tbody tr th:only-of-type {\n",
              "        vertical-align: middle;\n",
              "    }\n",
              "\n",
              "    .dataframe tbody tr th {\n",
              "        vertical-align: top;\n",
              "    }\n",
              "\n",
              "    .dataframe thead th {\n",
              "        text-align: right;\n",
              "    }\n",
              "</style>\n",
              "<table border=\"1\" class=\"dataframe\">\n",
              "  <thead>\n",
              "    <tr style=\"text-align: right;\">\n",
              "      <th></th>\n",
              "      <th>filename</th>\n",
              "      <th>label</th>\n",
              "      <th>extracted_text</th>\n",
              "    </tr>\n",
              "  </thead>\n",
              "  <tbody>\n",
              "    <tr>\n",
              "      <th>0</th>\n",
              "      <td>2502255678_5684.tif</td>\n",
              "      <td>scientific _publication</td>\n",
              "      <td>Jets S\\n\\nBs ra of sean 2.8 08\\n\\n\"Sed tea chi...</td>\n",
              "    </tr>\n",
              "    <tr>\n",
              "      <th>1</th>\n",
              "      <td>10046987_10047002.tif</td>\n",
              "      <td>scientific _publication</td>\n",
              "      <td>\\n\\nWKBO061175\\n\\nEEG THETA ACTIVITY AND FAST...</td>\n",
              "    </tr>\n",
              "    <tr>\n",
              "      <th>2</th>\n",
              "      <td>2046398702_2046398712.tif</td>\n",
              "      <td>scientific _publication</td>\n",
              "      <td>VALIDITY OF THE SACHS\\nOPTIMUM DOSING\\nALGORIT...</td>\n",
              "    </tr>\n",
              "    <tr>\n",
              "      <th>3</th>\n",
              "      <td>2505350166.tif</td>\n",
              "      <td>scientific _publication</td>\n",
              "      <td>\\n\\n \\n\\n \\n\\n \\n\\n \\n\\n‘horas, 1YTT, 32 155-...</td>\n",
              "    </tr>\n",
              "    <tr>\n",
              "      <th>4</th>\n",
              "      <td>2505421989.tif</td>\n",
              "      <td>scientific _publication</td>\n",
              "      <td>26/02 \"97 18:38 FAX 41328887776\\n\\n&gt; SA Neucha...</td>\n",
              "    </tr>\n",
              "    <tr>\n",
              "      <th>...</th>\n",
              "      <td>...</td>\n",
              "      <td>...</td>\n",
              "      <td>...</td>\n",
              "    </tr>\n",
              "    <tr>\n",
              "      <th>298</th>\n",
              "      <td>4775.tif</td>\n",
              "      <td>advertisement</td>\n",
              "      <td>pe isle\\n\\n1 Aq seas $304OWS UIOOY PUB JEL. MO...</td>\n",
              "    </tr>\n",
              "    <tr>\n",
              "      <th>299</th>\n",
              "      <td>2084419441_9442.tif</td>\n",
              "      <td>advertisement</td>\n",
              "      <td>\\n\\nBaHM #342\\nBLACK MEN 1/00\\n\\na aL\\naid i ...</td>\n",
              "    </tr>\n",
              "    <tr>\n",
              "      <th>300</th>\n",
              "      <td>2026002661.tif</td>\n",
              "      <td>advertisement</td>\n",
              "      <td>2 Ror. $2 13:28 000 THIELE UA, KOELN TeL 49122...</td>\n",
              "    </tr>\n",
              "    <tr>\n",
              "      <th>301</th>\n",
              "      <td>2080263049.tif</td>\n",
              "      <td>advertisement</td>\n",
              "      <td>\\n\\n6r0E9z080z\\n</td>\n",
              "    </tr>\n",
              "    <tr>\n",
              "      <th>302</th>\n",
              "      <td>91662217_2220.tif</td>\n",
              "      <td>advertisement</td>\n",
              "      <td>Satin Wo man. nas\\n\\nTe\\n\\n \\n</td>\n",
              "    </tr>\n",
              "  </tbody>\n",
              "</table>\n",
              "<p>303 rows × 3 columns</p>\n",
              "</div>\n",
              "      <button class=\"colab-df-convert\" onclick=\"convertToInteractive('df-ef01158e-ac81-4d8c-8787-c1632403ce0a')\"\n",
              "              title=\"Convert this dataframe to an interactive table.\"\n",
              "              style=\"display:none;\">\n",
              "        \n",
              "  <svg xmlns=\"http://www.w3.org/2000/svg\" height=\"24px\"viewBox=\"0 0 24 24\"\n",
              "       width=\"24px\">\n",
              "    <path d=\"M0 0h24v24H0V0z\" fill=\"none\"/>\n",
              "    <path d=\"M18.56 5.44l.94 2.06.94-2.06 2.06-.94-2.06-.94-.94-2.06-.94 2.06-2.06.94zm-11 1L8.5 8.5l.94-2.06 2.06-.94-2.06-.94L8.5 2.5l-.94 2.06-2.06.94zm10 10l.94 2.06.94-2.06 2.06-.94-2.06-.94-.94-2.06-.94 2.06-2.06.94z\"/><path d=\"M17.41 7.96l-1.37-1.37c-.4-.4-.92-.59-1.43-.59-.52 0-1.04.2-1.43.59L10.3 9.45l-7.72 7.72c-.78.78-.78 2.05 0 2.83L4 21.41c.39.39.9.59 1.41.59.51 0 1.02-.2 1.41-.59l7.78-7.78 2.81-2.81c.8-.78.8-2.07 0-2.86zM5.41 20L4 18.59l7.72-7.72 1.47 1.35L5.41 20z\"/>\n",
              "  </svg>\n",
              "      </button>\n",
              "      \n",
              "  <style>\n",
              "    .colab-df-container {\n",
              "      display:flex;\n",
              "      flex-wrap:wrap;\n",
              "      gap: 12px;\n",
              "    }\n",
              "\n",
              "    .colab-df-convert {\n",
              "      background-color: #E8F0FE;\n",
              "      border: none;\n",
              "      border-radius: 50%;\n",
              "      cursor: pointer;\n",
              "      display: none;\n",
              "      fill: #1967D2;\n",
              "      height: 32px;\n",
              "      padding: 0 0 0 0;\n",
              "      width: 32px;\n",
              "    }\n",
              "\n",
              "    .colab-df-convert:hover {\n",
              "      background-color: #E2EBFA;\n",
              "      box-shadow: 0px 1px 2px rgba(60, 64, 67, 0.3), 0px 1px 3px 1px rgba(60, 64, 67, 0.15);\n",
              "      fill: #174EA6;\n",
              "    }\n",
              "\n",
              "    [theme=dark] .colab-df-convert {\n",
              "      background-color: #3B4455;\n",
              "      fill: #D2E3FC;\n",
              "    }\n",
              "\n",
              "    [theme=dark] .colab-df-convert:hover {\n",
              "      background-color: #434B5C;\n",
              "      box-shadow: 0px 1px 3px 1px rgba(0, 0, 0, 0.15);\n",
              "      filter: drop-shadow(0px 1px 2px rgba(0, 0, 0, 0.3));\n",
              "      fill: #FFFFFF;\n",
              "    }\n",
              "  </style>\n",
              "\n",
              "      <script>\n",
              "        const buttonEl =\n",
              "          document.querySelector('#df-ef01158e-ac81-4d8c-8787-c1632403ce0a button.colab-df-convert');\n",
              "        buttonEl.style.display =\n",
              "          google.colab.kernel.accessAllowed ? 'block' : 'none';\n",
              "\n",
              "        async function convertToInteractive(key) {\n",
              "          const element = document.querySelector('#df-ef01158e-ac81-4d8c-8787-c1632403ce0a');\n",
              "          const dataTable =\n",
              "            await google.colab.kernel.invokeFunction('convertToInteractive',\n",
              "                                                     [key], {});\n",
              "          if (!dataTable) return;\n",
              "\n",
              "          const docLinkHtml = 'Like what you see? Visit the ' +\n",
              "            '<a target=\"_blank\" href=https://colab.research.google.com/notebooks/data_table.ipynb>data table notebook</a>'\n",
              "            + ' to learn more about interactive tables.';\n",
              "          element.innerHTML = '';\n",
              "          dataTable['output_type'] = 'display_data';\n",
              "          await google.colab.output.renderOutput(dataTable, element);\n",
              "          const docLink = document.createElement('div');\n",
              "          docLink.innerHTML = docLinkHtml;\n",
              "          element.appendChild(docLink);\n",
              "        }\n",
              "      </script>\n",
              "    </div>\n",
              "  </div>\n",
              "  "
            ]
          },
          "metadata": {},
          "execution_count": 64
        }
      ]
    }
  ]
}