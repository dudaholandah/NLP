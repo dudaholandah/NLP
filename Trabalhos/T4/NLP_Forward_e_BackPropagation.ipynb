{
  "nbformat": 4,
  "nbformat_minor": 0,
  "metadata": {
    "colab": {
      "name": "NLP - Forward e BackPropagation",
      "provenance": [],
      "collapsed_sections": [],
      "authorship_tag": "ABX9TyMtsVC3weLaUENdqydR79Qu",
      "include_colab_link": true
    },
    "kernelspec": {
      "name": "python3",
      "display_name": "Python 3"
    },
    "language_info": {
      "name": "python"
    }
  },
  "cells": [
    {
      "cell_type": "markdown",
      "metadata": {
        "id": "view-in-github",
        "colab_type": "text"
      },
      "source": [
        "<a href=\"https://colab.research.google.com/github/dudaholandah/NLP/blob/main/Trabalhos/T4/NLP_Forward_e_BackPropagation.ipynb\" target=\"_parent\"><img src=\"https://colab.research.google.com/assets/colab-badge.svg\" alt=\"Open In Colab\"/></a>"
      ]
    },
    {
      "cell_type": "markdown",
      "source": [
        "# Imports"
      ],
      "metadata": {
        "id": "kks3hKPM5xKy"
      }
    },
    {
      "cell_type": "code",
      "source": [
        "import numpy as np"
      ],
      "metadata": {
        "id": "eHTSd7RG509R"
      },
      "execution_count": 1,
      "outputs": []
    },
    {
      "cell_type": "markdown",
      "source": [
        "# Forward Propagation"
      ],
      "metadata": {
        "id": "dF9hmK9Z52RP"
      }
    },
    {
      "cell_type": "markdown",
      "source": [
        "XOR"
      ],
      "metadata": {
        "id": "Ry4c_Lc16HoO"
      }
    },
    {
      "cell_type": "code",
      "source": [
        "def activation(x):\n",
        "  return 1/(1 + np.exp(-x))"
      ],
      "metadata": {
        "id": "RXkvOsSf6iuz"
      },
      "execution_count": 2,
      "outputs": []
    },
    {
      "cell_type": "code",
      "source": [
        "X = np.array([[0,0],[0,1],[1,0],[1,1]])\n",
        "labels = np.array([0,1,1,0])"
      ],
      "metadata": {
        "id": "7WNwljOp6Fo4"
      },
      "execution_count": 3,
      "outputs": []
    },
    {
      "cell_type": "code",
      "source": [
        "# first layer\n",
        "weights_l1 = np.array([np.random.random(2), np.random.random(2)])\n",
        "# second layer\n",
        "weights_l2 = np.array(np.random.random(2))"
      ],
      "metadata": {
        "id": "XdFXUdik8g0y"
      },
      "execution_count": 4,
      "outputs": []
    },
    {
      "cell_type": "code",
      "source": [
        "for j, weight in enumerate(weights_l1):\n",
        "  print(weight)"
      ],
      "metadata": {
        "colab": {
          "base_uri": "https://localhost:8080/"
        },
        "id": "9F1hYOcKejR8",
        "outputId": "735ca19f-909e-48c7-8a04-87949edf91fe"
      },
      "execution_count": 5,
      "outputs": [
        {
          "output_type": "stream",
          "name": "stdout",
          "text": [
            "[0.25666336 0.65490823]\n",
            "[0.78956962 0.42437608]\n"
          ]
        }
      ]
    },
    {
      "cell_type": "code",
      "source": [
        "weights_l2"
      ],
      "metadata": {
        "colab": {
          "base_uri": "https://localhost:8080/"
        },
        "id": "pnNAQn7Sek9F",
        "outputId": "be4cb161-5fff-44c9-8d38-64273650211a"
      },
      "execution_count": 6,
      "outputs": [
        {
          "output_type": "execute_result",
          "data": {
            "text/plain": [
              "array([0.23833069, 0.82113078])"
            ]
          },
          "metadata": {},
          "execution_count": 6
        }
      ]
    },
    {
      "cell_type": "markdown",
      "source": [
        "Forward Propagation"
      ],
      "metadata": {
        "id": "d96_KdvKdi7P"
      }
    },
    {
      "cell_type": "code",
      "source": [
        "O = []\n",
        "y = []\n",
        "\n",
        "for i,x in enumerate(X):\n",
        "\n",
        "  layer_o = []\n",
        "  layer_f = 0 \n",
        "\n",
        "  # first layer\n",
        "  for neuron in range( len(weights_l1) ):\n",
        "    m = np.multiply(x, weights_l1[neuron])\n",
        "    u = np.sum(m)\n",
        "    layer_o.append(activation(u))\n",
        "\n",
        "  # output layer \n",
        "  m = np.multiply(layer_o, weights_l2)\n",
        "  u = np.sum(m)\n",
        "  layer_f = activation(u)\n",
        "\n",
        "  O.append(layer_o)\n",
        "  y.append(layer_f)"
      ],
      "metadata": {
        "id": "kwDWIQsp6Oee"
      },
      "execution_count": 7,
      "outputs": []
    },
    {
      "cell_type": "markdown",
      "source": [
        "Backward Propagation"
      ],
      "metadata": {
        "id": "KrEX0LsQKR-E"
      }
    },
    {
      "cell_type": "code",
      "source": [
        "O"
      ],
      "metadata": {
        "colab": {
          "base_uri": "https://localhost:8080/"
        },
        "id": "3CjYme3Dki2K",
        "outputId": "633207fc-ff7c-4e50-9285-d241b87335f5"
      },
      "execution_count": 8,
      "outputs": [
        {
          "output_type": "execute_result",
          "data": {
            "text/plain": [
              "[[0.5, 0.5],\n",
              " [0.6581156668893144, 0.6045299317035359],\n",
              " [0.5638158945526646, 0.6877389120399415],\n",
              " [0.7133216498744428, 0.7709963503803826]]"
            ]
          },
          "metadata": {},
          "execution_count": 8
        }
      ]
    },
    {
      "cell_type": "code",
      "source": [
        "lr = 0.1"
      ],
      "metadata": {
        "id": "xHfgqSdNmzFm"
      },
      "execution_count": 9,
      "outputs": []
    },
    {
      "cell_type": "code",
      "source": [
        "#for epoch in range(5):\n",
        "for i,x in enumerate(X):\n",
        "    \n",
        "  grad3 = ( y[i]-labels[i] ) * ( y[i]*(1-y[i]) )\n",
        "  grad2 = ( O[i][1]*(1-O[i][1]) ) * grad3 * weights_l2[1]\n",
        "  grad1 = ( O[i][0]*(1-O[i][0]) ) * grad3 * weights_l2[0]\n",
        "\n",
        "  for j, weight in enumerate(weights_l2):\n",
        "    weights_l2[j] = lr*grad3*weight\n",
        "  \n",
        "  for j, weight in enumerate(weights_l1):\n",
        "    weights_l1[j][1] = lr*grad2*weight[1]\n",
        "    weights_l1[j][0] = lr*grad1*weight[0]\n",
        "\n",
        "  print(f\"Gradiente 3: {grad3}\")\n",
        "  print(f\"Gradiente 2: {grad2}\")\n",
        "  print(f\"Gradiente 1: {grad1}\")\n",
        "  print(\"---\")\n",
        "  print(f\"Pesos 2 camada: {weights_l2}\")\n",
        "  print(f\"Pesos 1 camada: {weights_l1}\")\n",
        "  print(\"---\")"
      ],
      "metadata": {
        "colab": {
          "base_uri": "https://localhost:8080/"
        },
        "id": "SiuViMoAjFYW",
        "outputId": "4b4b1b28-6e7d-4071-ba06-e2c879c95bd6"
      },
      "execution_count": 10,
      "outputs": [
        {
          "output_type": "stream",
          "name": "stdout",
          "text": [
            "Gradiente 3: 0.1468125284856062\n",
            "Gradiente 2: 0.030138071533611224\n",
            "Gradiente 1: 0.008747482889597239\n",
            "---\n",
            "Pesos 2 camada: [0.00349899 0.01205523]\n",
            "Pesos 1 camada: [[0.00022452 0.00197377]\n",
            " [0.00069067 0.00127899]]\n",
            "---\n",
            "Gradiente 3: -0.07704829869947533\n",
            "Gradiente 2: -0.0002220597935798484\n",
            "Gradiente 1: -6.065792862833953e-05\n",
            "---\n",
            "Pesos 2 camada: [-2.69591470e-05 -9.28834855e-05]\n",
            "Pesos 1 camada: [[-1.36186653e-09 -4.38294316e-08]\n",
            " [-4.18948951e-09 -2.84011737e-08]]\n",
            "---\n",
            "Gradiente 3: -0.07363369656130861\n",
            "Gradiente 2: 1.4687794022855867e-06\n",
            "Gradiente 1: 4.881911483742055e-07\n",
            "---\n",
            "Pesos 2 camada: [1.98510165e-07 6.83935439e-07]\n",
            "Pesos 1 camada: [[-6.64851184e-17 -6.43757663e-15]\n",
            " [-2.04527169e-16 -4.17150589e-15]]\n",
            "---\n",
            "Gradiente 3: 0.1475598381287213\n",
            "Gradiente 2: 1.781878155828593e-08\n",
            "Gradiente 1: 5.990060680723811e-09\n",
            "---\n",
            "Pesos 2 camada: [2.92921278e-09 1.00921403e-08]\n",
            "Pesos 1 camada: [[-3.98249893e-26 -1.14709772e-23]\n",
            " [-1.22513015e-25 -7.43311523e-24]]\n",
            "---\n"
          ]
        }
      ]
    }
  ]
}