{
  "nbformat": 4,
  "nbformat_minor": 0,
  "metadata": {
    "colab": {
      "name": "NLP - Forward e BackPropagation",
      "provenance": [],
      "collapsed_sections": [],
      "authorship_tag": "ABX9TyPIc/qIdSDoaZtV1kdRGnYG",
      "include_colab_link": true
    },
    "kernelspec": {
      "name": "python3",
      "display_name": "Python 3"
    },
    "language_info": {
      "name": "python"
    }
  },
  "cells": [
    {
      "cell_type": "markdown",
      "metadata": {
        "id": "view-in-github",
        "colab_type": "text"
      },
      "source": [
        "<a href=\"https://colab.research.google.com/github/dudaholandah/NLP/blob/main/Trabalhos/T4/NLP_Forward_e_BackPropagation.ipynb\" target=\"_parent\"><img src=\"https://colab.research.google.com/assets/colab-badge.svg\" alt=\"Open In Colab\"/></a>"
      ]
    },
    {
      "cell_type": "markdown",
      "source": [
        "# Imports"
      ],
      "metadata": {
        "id": "kks3hKPM5xKy"
      }
    },
    {
      "cell_type": "code",
      "source": [
        "import numpy as np"
      ],
      "metadata": {
        "id": "eHTSd7RG509R"
      },
      "execution_count": 1,
      "outputs": []
    },
    {
      "cell_type": "markdown",
      "source": [
        "# XOR MLP"
      ],
      "metadata": {
        "id": "SSDTwwNotTaK"
      }
    },
    {
      "cell_type": "code",
      "source": [
        "def activation(x):\n",
        "  return 1/(1 + np.exp(-x))"
      ],
      "metadata": {
        "id": "RXkvOsSf6iuz"
      },
      "execution_count": 2,
      "outputs": []
    },
    {
      "cell_type": "code",
      "source": [
        "X = np.array([[0,0],[0,1],[1,0],[1,1]])\n",
        "labels = np.array([0,1,1,0])"
      ],
      "metadata": {
        "id": "7WNwljOp6Fo4"
      },
      "execution_count": 3,
      "outputs": []
    },
    {
      "cell_type": "code",
      "source": [
        "# first layer\n",
        "weights_l1 = np.array([np.random.random(2), np.random.random(2)])\n",
        "# second layer\n",
        "weights_l2 = np.array(np.random.random(2))"
      ],
      "metadata": {
        "id": "XdFXUdik8g0y"
      },
      "execution_count": 4,
      "outputs": []
    },
    {
      "cell_type": "markdown",
      "source": [
        "## Forward Propagation"
      ],
      "metadata": {
        "id": "d96_KdvKdi7P"
      }
    },
    {
      "cell_type": "code",
      "source": [
        "O = []\n",
        "y = []\n",
        "\n",
        "for i,x in enumerate(X):\n",
        "\n",
        "  layer_o = []\n",
        "  layer_f = 0 \n",
        "\n",
        "  # first layer\n",
        "  for neuron in range( len(weights_l1) ):\n",
        "    m = np.multiply(x, weights_l1[neuron])\n",
        "    u = np.sum(m)\n",
        "    layer_o.append(activation(u))\n",
        "\n",
        "  # output layer \n",
        "  m = np.multiply(layer_o, weights_l2)\n",
        "  u = np.sum(m)\n",
        "  layer_f = activation(u)\n",
        "\n",
        "  O.append(layer_o)\n",
        "  y.append(layer_f)"
      ],
      "metadata": {
        "id": "kwDWIQsp6Oee"
      },
      "execution_count": 5,
      "outputs": []
    },
    {
      "cell_type": "markdown",
      "source": [
        "## Backward Propagation"
      ],
      "metadata": {
        "id": "KrEX0LsQKR-E"
      }
    },
    {
      "cell_type": "code",
      "source": [
        "lr = 0.1"
      ],
      "metadata": {
        "id": "xHfgqSdNmzFm"
      },
      "execution_count": 6,
      "outputs": []
    },
    {
      "cell_type": "code",
      "source": [
        "#for epoch in range(5):\n",
        "for i,x in enumerate(X):\n",
        "    \n",
        "  grad3 = ( y[i]-labels[i] ) * ( y[i]*(1-y[i]) )\n",
        "  grad2 = ( O[i][1]*(1-O[i][1]) ) * grad3 * weights_l2[1]\n",
        "  grad1 = ( O[i][0]*(1-O[i][0]) ) * grad3 * weights_l2[0]\n",
        "\n",
        "  for j, weight in enumerate(weights_l2):\n",
        "    weights_l2[j] = lr*grad3*weight\n",
        "  \n",
        "  for j, weight in enumerate(weights_l1):\n",
        "    weights_l1[j][1] = lr*grad2*weight[1]\n",
        "    weights_l1[j][0] = lr*grad1*weight[0]\n",
        "\n",
        "  print(f\"Gradiente 3: {grad3}\")\n",
        "  print(f\"Gradiente 2: {grad2}\")\n",
        "  print(f\"Gradiente 1: {grad1}\")\n",
        "  print(\"---\")\n",
        "  print(f\"Pesos 2 camada: {weights_l2}\")\n",
        "  print(f\"Pesos 1 camada: {weights_l1}\")\n",
        "  print(\"---\")"
      ],
      "metadata": {
        "colab": {
          "base_uri": "https://localhost:8080/"
        },
        "id": "SiuViMoAjFYW",
        "outputId": "e6de382c-0e53-4955-f286-e600c4dcb1b6"
      },
      "execution_count": 7,
      "outputs": [
        {
          "output_type": "stream",
          "name": "stdout",
          "text": [
            "Gradiente 3: 0.14810665901760417\n",
            "Gradiente 2: 0.012824709350254381\n",
            "Gradiente 1: 0.036361947683552345\n",
            "---\n",
            "Pesos 2 camada: [0.01454478 0.00512988]\n",
            "Pesos 1 camada: [[0.00118098 0.00051193]\n",
            " [0.0024299  0.00063223]]\n",
            "---\n",
            "Gradiente 3: -0.06612101474229472\n",
            "Gradiente 2: -7.984788025369263e-05\n",
            "Gradiente 1: -0.00023110015531774004\n",
            "---\n",
            "Pesos 2 camada: [-9.61715552e-05 -3.39193118e-05]\n",
            "Pesos 1 camada: [[-2.72923921e-08 -4.08763959e-09]\n",
            " [-5.61550739e-08 -5.04824526e-09]]\n",
            "---\n",
            "Gradiente 3: -0.0663846031179391\n",
            "Gradiente 2: 5.044818628701754e-07\n",
            "Gradiente 1: 1.5547163576082726e-06\n",
            "---\n",
            "Pesos 2 camada: [6.38431052e-07 2.25172005e-07]\n",
            "Pesos 1 camada: [[-4.24319285e-15 -2.06214003e-16]\n",
            " [-8.73052120e-15 -2.54674817e-16]]\n",
            "---\n",
            "Gradiente 3: 0.1455844395601568\n",
            "Gradiente 2: 5.952733420492904e-09\n",
            "Gradiente 1: 2.0439249592913698e-08\n",
            "---\n",
            "Pesos 2 camada: [9.29456269e-09 3.27815402e-09]\n",
            "Pesos 1 camada: [[-8.67276777e-24 -1.22753699e-25]\n",
            " [-1.78445302e-23 -1.51601130e-25]]\n",
            "---\n"
          ]
        }
      ]
    }
  ]
}