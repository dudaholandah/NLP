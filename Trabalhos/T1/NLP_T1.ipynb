{
  "nbformat": 4,
  "nbformat_minor": 0,
  "metadata": {
    "colab": {
      "name": "NLP T1.ipynb",
      "provenance": [],
      "toc_visible": true,
      "authorship_tag": "ABX9TyNyLqSP9iAFA91CL0P7fI39",
      "include_colab_link": true
    },
    "kernelspec": {
      "name": "python3",
      "display_name": "Python 3"
    },
    "language_info": {
      "name": "python"
    }
  },
  "cells": [
    {
      "cell_type": "markdown",
      "metadata": {
        "id": "view-in-github",
        "colab_type": "text"
      },
      "source": [
        "<a href=\"https://colab.research.google.com/github/dudaholandah/NLP/blob/main/Trabalhos/T1/NLP_T1.ipynb\" target=\"_parent\"><img src=\"https://colab.research.google.com/assets/colab-badge.svg\" alt=\"Open In Colab\"/></a>"
      ]
    },
    {
      "cell_type": "markdown",
      "source": [
        "Feito por:\n",
        "* Ariel Batista da Silva - 170099776\n",
        "* Bruno Esteves Dalla Costa Filho - 170100863\n",
        "* Maria Eduarda Machado de Holanda - 190043725"
      ],
      "metadata": {
        "id": "nRUKyTPn_MdB"
      }
    },
    {
      "cell_type": "code",
      "execution_count": 36,
      "metadata": {
        "id": "ZlpGmIWYvzGa"
      },
      "outputs": [],
      "source": [
        "import re\n",
        "import pandas as pd"
      ]
    },
    {
      "cell_type": "code",
      "source": [
        "data = pd.read_csv('dosp_29012016.csv')"
      ],
      "metadata": {
        "id": "MfrVoB5Hv2Jq"
      },
      "execution_count": 37,
      "outputs": []
    },
    {
      "cell_type": "code",
      "source": [
        "data.head()"
      ],
      "metadata": {
        "colab": {
          "base_uri": "https://localhost:8080/",
          "height": 426
        },
        "id": "zO8oB_7bwTDS",
        "outputId": "61f5af66-81b0-4b6e-d2f9-899f97d543c5"
      },
      "execution_count": 38,
      "outputs": [
        {
          "output_type": "execute_result",
          "data": {
            "text/plain": [
              "             ID                  Data Retranca Tipo do Conteúdo  \\\n",
              "0  2016/01/29/0  2016-01-29T00:00:00Z  efmaadm       LICITAÇÕES   \n",
              "1  2016/01/29/1  2016-01-29T00:00:00Z  efaaadm       LICITAÇÕES   \n",
              "2  2016/01/29/2  2016-01-29T00:00:00Z  efmaadm       LICITAÇÕES   \n",
              "3  2016/01/29/3  2016-01-29T00:00:00Z  epaaadm       LICITAÇÕES   \n",
              "4  2016/01/29/4  2016-01-29T00:00:00Z  epwbadm       LICITAÇÕES   \n",
              "\n",
              "                       Secretaria                           Orgão  \\\n",
              "0                               -                               -   \n",
              "1                         CULTURA          GABINETE DO SECRETÁRIO   \n",
              "2                               -                               -   \n",
              "3                           SAÚDE          GABINETE DO SECRETÁRIO   \n",
              "4  AUTARQUIA HOSPITALAR MUNICIPAL  DIRETORIA DE GESTÃO DE PESSOAL   \n",
              "\n",
              "                                               Texto Unnamed: 7 Unnamed: 8  \\\n",
              "0  ((TITULO))Extrato de Termo de Aditamento\\n((TE...        NaN        NaN   \n",
              "1  ((TITULO))CONTRAÇÃO DE NATUREZA ARTÍSTICA\\n\\n(...        NaN        NaN   \n",
              "2  ((TITULO))Extrato de Termo de Aditamento\\n((TE...        NaN        NaN   \n",
              "3  ((TITULO))PROCESSO: 2015-0.272.291-3\\n((TEXTO)...        NaN        NaN   \n",
              "4  ((TITULO))PENALIDADE\\n((TEXTO))((NG))PROCESSO ...        NaN        NaN   \n",
              "\n",
              "  Unnamed: 9 Unnamed: 10 Unnamed: 11 Unnamed: 12  \n",
              "0        NaN         NaN         NaN         NaN  \n",
              "1        NaN         NaN         NaN         NaN  \n",
              "2        NaN         NaN         NaN         NaN  \n",
              "3        NaN         NaN         NaN         NaN  \n",
              "4        NaN         NaN         NaN         NaN  "
            ],
            "text/html": [
              "\n",
              "  <div id=\"df-d0b903ee-cc29-4ad5-87d6-29059c037263\">\n",
              "    <div class=\"colab-df-container\">\n",
              "      <div>\n",
              "<style scoped>\n",
              "    .dataframe tbody tr th:only-of-type {\n",
              "        vertical-align: middle;\n",
              "    }\n",
              "\n",
              "    .dataframe tbody tr th {\n",
              "        vertical-align: top;\n",
              "    }\n",
              "\n",
              "    .dataframe thead th {\n",
              "        text-align: right;\n",
              "    }\n",
              "</style>\n",
              "<table border=\"1\" class=\"dataframe\">\n",
              "  <thead>\n",
              "    <tr style=\"text-align: right;\">\n",
              "      <th></th>\n",
              "      <th>ID</th>\n",
              "      <th>Data</th>\n",
              "      <th>Retranca</th>\n",
              "      <th>Tipo do Conteúdo</th>\n",
              "      <th>Secretaria</th>\n",
              "      <th>Orgão</th>\n",
              "      <th>Texto</th>\n",
              "      <th>Unnamed: 7</th>\n",
              "      <th>Unnamed: 8</th>\n",
              "      <th>Unnamed: 9</th>\n",
              "      <th>Unnamed: 10</th>\n",
              "      <th>Unnamed: 11</th>\n",
              "      <th>Unnamed: 12</th>\n",
              "    </tr>\n",
              "  </thead>\n",
              "  <tbody>\n",
              "    <tr>\n",
              "      <th>0</th>\n",
              "      <td>2016/01/29/0</td>\n",
              "      <td>2016-01-29T00:00:00Z</td>\n",
              "      <td>efmaadm</td>\n",
              "      <td>LICITAÇÕES</td>\n",
              "      <td>-</td>\n",
              "      <td>-</td>\n",
              "      <td>((TITULO))Extrato de Termo de Aditamento\\n((TE...</td>\n",
              "      <td>NaN</td>\n",
              "      <td>NaN</td>\n",
              "      <td>NaN</td>\n",
              "      <td>NaN</td>\n",
              "      <td>NaN</td>\n",
              "      <td>NaN</td>\n",
              "    </tr>\n",
              "    <tr>\n",
              "      <th>1</th>\n",
              "      <td>2016/01/29/1</td>\n",
              "      <td>2016-01-29T00:00:00Z</td>\n",
              "      <td>efaaadm</td>\n",
              "      <td>LICITAÇÕES</td>\n",
              "      <td>CULTURA</td>\n",
              "      <td>GABINETE DO SECRETÁRIO</td>\n",
              "      <td>((TITULO))CONTRAÇÃO DE NATUREZA ARTÍSTICA\\n\\n(...</td>\n",
              "      <td>NaN</td>\n",
              "      <td>NaN</td>\n",
              "      <td>NaN</td>\n",
              "      <td>NaN</td>\n",
              "      <td>NaN</td>\n",
              "      <td>NaN</td>\n",
              "    </tr>\n",
              "    <tr>\n",
              "      <th>2</th>\n",
              "      <td>2016/01/29/2</td>\n",
              "      <td>2016-01-29T00:00:00Z</td>\n",
              "      <td>efmaadm</td>\n",
              "      <td>LICITAÇÕES</td>\n",
              "      <td>-</td>\n",
              "      <td>-</td>\n",
              "      <td>((TITULO))Extrato de Termo de Aditamento\\n((TE...</td>\n",
              "      <td>NaN</td>\n",
              "      <td>NaN</td>\n",
              "      <td>NaN</td>\n",
              "      <td>NaN</td>\n",
              "      <td>NaN</td>\n",
              "      <td>NaN</td>\n",
              "    </tr>\n",
              "    <tr>\n",
              "      <th>3</th>\n",
              "      <td>2016/01/29/3</td>\n",
              "      <td>2016-01-29T00:00:00Z</td>\n",
              "      <td>epaaadm</td>\n",
              "      <td>LICITAÇÕES</td>\n",
              "      <td>SAÚDE</td>\n",
              "      <td>GABINETE DO SECRETÁRIO</td>\n",
              "      <td>((TITULO))PROCESSO: 2015-0.272.291-3\\n((TEXTO)...</td>\n",
              "      <td>NaN</td>\n",
              "      <td>NaN</td>\n",
              "      <td>NaN</td>\n",
              "      <td>NaN</td>\n",
              "      <td>NaN</td>\n",
              "      <td>NaN</td>\n",
              "    </tr>\n",
              "    <tr>\n",
              "      <th>4</th>\n",
              "      <td>2016/01/29/4</td>\n",
              "      <td>2016-01-29T00:00:00Z</td>\n",
              "      <td>epwbadm</td>\n",
              "      <td>LICITAÇÕES</td>\n",
              "      <td>AUTARQUIA HOSPITALAR MUNICIPAL</td>\n",
              "      <td>DIRETORIA DE GESTÃO DE PESSOAL</td>\n",
              "      <td>((TITULO))PENALIDADE\\n((TEXTO))((NG))PROCESSO ...</td>\n",
              "      <td>NaN</td>\n",
              "      <td>NaN</td>\n",
              "      <td>NaN</td>\n",
              "      <td>NaN</td>\n",
              "      <td>NaN</td>\n",
              "      <td>NaN</td>\n",
              "    </tr>\n",
              "  </tbody>\n",
              "</table>\n",
              "</div>\n",
              "      <button class=\"colab-df-convert\" onclick=\"convertToInteractive('df-d0b903ee-cc29-4ad5-87d6-29059c037263')\"\n",
              "              title=\"Convert this dataframe to an interactive table.\"\n",
              "              style=\"display:none;\">\n",
              "        \n",
              "  <svg xmlns=\"http://www.w3.org/2000/svg\" height=\"24px\"viewBox=\"0 0 24 24\"\n",
              "       width=\"24px\">\n",
              "    <path d=\"M0 0h24v24H0V0z\" fill=\"none\"/>\n",
              "    <path d=\"M18.56 5.44l.94 2.06.94-2.06 2.06-.94-2.06-.94-.94-2.06-.94 2.06-2.06.94zm-11 1L8.5 8.5l.94-2.06 2.06-.94-2.06-.94L8.5 2.5l-.94 2.06-2.06.94zm10 10l.94 2.06.94-2.06 2.06-.94-2.06-.94-.94-2.06-.94 2.06-2.06.94z\"/><path d=\"M17.41 7.96l-1.37-1.37c-.4-.4-.92-.59-1.43-.59-.52 0-1.04.2-1.43.59L10.3 9.45l-7.72 7.72c-.78.78-.78 2.05 0 2.83L4 21.41c.39.39.9.59 1.41.59.51 0 1.02-.2 1.41-.59l7.78-7.78 2.81-2.81c.8-.78.8-2.07 0-2.86zM5.41 20L4 18.59l7.72-7.72 1.47 1.35L5.41 20z\"/>\n",
              "  </svg>\n",
              "      </button>\n",
              "      \n",
              "  <style>\n",
              "    .colab-df-container {\n",
              "      display:flex;\n",
              "      flex-wrap:wrap;\n",
              "      gap: 12px;\n",
              "    }\n",
              "\n",
              "    .colab-df-convert {\n",
              "      background-color: #E8F0FE;\n",
              "      border: none;\n",
              "      border-radius: 50%;\n",
              "      cursor: pointer;\n",
              "      display: none;\n",
              "      fill: #1967D2;\n",
              "      height: 32px;\n",
              "      padding: 0 0 0 0;\n",
              "      width: 32px;\n",
              "    }\n",
              "\n",
              "    .colab-df-convert:hover {\n",
              "      background-color: #E2EBFA;\n",
              "      box-shadow: 0px 1px 2px rgba(60, 64, 67, 0.3), 0px 1px 3px 1px rgba(60, 64, 67, 0.15);\n",
              "      fill: #174EA6;\n",
              "    }\n",
              "\n",
              "    [theme=dark] .colab-df-convert {\n",
              "      background-color: #3B4455;\n",
              "      fill: #D2E3FC;\n",
              "    }\n",
              "\n",
              "    [theme=dark] .colab-df-convert:hover {\n",
              "      background-color: #434B5C;\n",
              "      box-shadow: 0px 1px 3px 1px rgba(0, 0, 0, 0.15);\n",
              "      filter: drop-shadow(0px 1px 2px rgba(0, 0, 0, 0.3));\n",
              "      fill: #FFFFFF;\n",
              "    }\n",
              "  </style>\n",
              "\n",
              "      <script>\n",
              "        const buttonEl =\n",
              "          document.querySelector('#df-d0b903ee-cc29-4ad5-87d6-29059c037263 button.colab-df-convert');\n",
              "        buttonEl.style.display =\n",
              "          google.colab.kernel.accessAllowed ? 'block' : 'none';\n",
              "\n",
              "        async function convertToInteractive(key) {\n",
              "          const element = document.querySelector('#df-d0b903ee-cc29-4ad5-87d6-29059c037263');\n",
              "          const dataTable =\n",
              "            await google.colab.kernel.invokeFunction('convertToInteractive',\n",
              "                                                     [key], {});\n",
              "          if (!dataTable) return;\n",
              "\n",
              "          const docLinkHtml = 'Like what you see? Visit the ' +\n",
              "            '<a target=\"_blank\" href=https://colab.research.google.com/notebooks/data_table.ipynb>data table notebook</a>'\n",
              "            + ' to learn more about interactive tables.';\n",
              "          element.innerHTML = '';\n",
              "          dataTable['output_type'] = 'display_data';\n",
              "          await google.colab.output.renderOutput(dataTable, element);\n",
              "          const docLink = document.createElement('div');\n",
              "          docLink.innerHTML = docLinkHtml;\n",
              "          element.appendChild(docLink);\n",
              "        }\n",
              "      </script>\n",
              "    </div>\n",
              "  </div>\n",
              "  "
            ]
          },
          "metadata": {},
          "execution_count": 38
        }
      ]
    },
    {
      "cell_type": "code",
      "source": [
        "data = data['Texto']"
      ],
      "metadata": {
        "id": "MX6QjcMGwXe_"
      },
      "execution_count": 39,
      "outputs": []
    },
    {
      "cell_type": "code",
      "source": [
        "print(data[6])"
      ],
      "metadata": {
        "colab": {
          "base_uri": "https://localhost:8080/"
        },
        "id": "gfI_Kxe85bmm",
        "outputId": "9b531938-9c31-4ce6-f003-ca9ad3f492c1"
      },
      "execution_count": 40,
      "outputs": [
        {
          "output_type": "stream",
          "name": "stdout",
          "text": [
            "((TITULO))DISPENSA DE LICITAÇÃO\n",
            "\n",
            "((TEXTO))((NG)) Processo SEI 6025.2016/0000004-8((CL))\n",
            "\n",
            "À vista dos elementos constantes do presente, ((NG)) AUTORIZO((CL)), com fundamento no artigo 24, inciso VIII, da Lei Federal nº 8.666/93 e no Decreto Municipal nº 46.356/05, a contratação direta da empresa ((NG)) SÃO PAULO TURISMO S/A((CL)), inscrita no CNPJ sob nº 62.002.886/0001-60, para prestação de serviços de planejamento, produção, execução e fiscalização de eventos referentes ao Calendário Anual de Eventos, de janeiro a dezembro de 2016, conforme proposta apresentada, pelo valor total estimado de R$ 11.999.014,74 (onze milhões, novecentos e noventa e nove mil, catorze reais e setenta e quatro centavos), ficando, desde já, autorizado o empenho de recursos onerando a dotação orçamentária nº 25.10.13.392.3015.2.118.3.3.90.39.00.00, de acordo com a nota de reserva n° 431/2016.\n",
            "\n",
            " Nos termos do art. 6° do Decreto n° 54.873/14, nomeio como fiscal do contrato Gabriela Fontana Junqueira Pereira – RF 803.051-1 e, como substituta, Luiza Helena Thesin – RF 826.775-2.\n"
          ]
        }
      ]
    },
    {
      "cell_type": "code",
      "source": [
        "texto = []\n",
        "texto.extend([data[0],data[1],data[6],data[8],data[4]])"
      ],
      "metadata": {
        "id": "at4Aun1UwmOW"
      },
      "execution_count": 41,
      "outputs": []
    },
    {
      "cell_type": "code",
      "source": [
        "lista = []\n",
        "\n",
        "for x in texto:\n",
        "  regextitulo = re.findall(r'\\(\\(TITULO\\)\\)(.*)', x)\n",
        "  print(regextitulo)\n",
        "  regexprocesso = re.findall(r'[pP][rR][oO][cC][eE][sS][sS][oO][\\D\\s]*([^a-zA-Z\\(]*)', x)\n",
        "  print(regexprocesso)\n",
        "  regexvalor = re.findall(r'R\\$[\\s]*[0-9.]*[,][0-9]*', x)\n",
        "  print(regexvalor)\n",
        "\n",
        "  if not regextitulo: regextitulo = ['NaN']\n",
        "  if not regexprocesso: regexprocesso = ['NaN']\n",
        "  if not regexvalor: regexvalor = ['NaN']\n",
        "  lista.append([regextitulo[0], regexprocesso[0], regexvalor[0]])"
      ],
      "metadata": {
        "colab": {
          "base_uri": "https://localhost:8080/"
        },
        "id": "xBQWnNug4gQj",
        "outputId": "813e28f5-919e-4a2c-ed09-11ef81d6a506"
      },
      "execution_count": 42,
      "outputs": [
        {
          "output_type": "stream",
          "name": "stdout",
          "text": [
            "['Extrato de Termo de Aditamento']\n",
            "[]\n",
            "['R$ 14.100,00']\n",
            "['CONTRAÇÃO DE NATUREZA ARTÍSTICA']\n",
            "['6025.2016/0000082-0']\n",
            "['R$ 14.000,00']\n",
            "['DISPENSA DE LICITAÇÃO']\n",
            "['6025.2016/0000004-8']\n",
            "['R$ 11.999.014,74']\n",
            "['CONTRAÇÃO DE NATUREZA ARTÍSTICA']\n",
            "['6025.2016/0000078-1']\n",
            "['R$ 55.000,00', 'R$ 13.750,00', 'R$ 13.750,00', 'R$ 13.750,00', 'R$ 13.750,00']\n",
            "['PENALIDADE']\n",
            "['2015-0.245.159-6', '099/2015–']\n",
            "[]\n"
          ]
        }
      ]
    },
    {
      "cell_type": "code",
      "source": [
        "df = pd.DataFrame(lista, columns = ['Titulo', 'Numero do Processo', 'Valor'])\n",
        "print(df)"
      ],
      "metadata": {
        "colab": {
          "base_uri": "https://localhost:8080/"
        },
        "id": "NPO7B6xz2J-6",
        "outputId": "baec0f01-6893-4a3b-d6bc-44e1ea749c0a"
      },
      "execution_count": 43,
      "outputs": [
        {
          "output_type": "stream",
          "name": "stdout",
          "text": [
            "                            Titulo   Numero do Processo             Valor\n",
            "0   Extrato de Termo de Aditamento                  NaN      R$ 14.100,00\n",
            "1  CONTRAÇÃO DE NATUREZA ARTÍSTICA  6025.2016/0000082-0      R$ 14.000,00\n",
            "2            DISPENSA DE LICITAÇÃO  6025.2016/0000004-8  R$ 11.999.014,74\n",
            "3  CONTRAÇÃO DE NATUREZA ARTÍSTICA  6025.2016/0000078-1      R$ 55.000,00\n",
            "4                       PENALIDADE     2015-0.245.159-6               NaN\n"
          ]
        }
      ]
    }
  ]
}