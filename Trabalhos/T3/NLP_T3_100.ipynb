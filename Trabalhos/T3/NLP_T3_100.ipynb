{
  "nbformat": 4,
  "nbformat_minor": 0,
  "metadata": {
    "colab": {
      "name": "NLP_T3.ipynb",
      "provenance": [],
      "collapsed_sections": [
        "USWx_1C_CiFM",
        "y5BiKMVVCohJ",
        "Qdbo4CiyK1Iq",
        "D4q55GzNK3GM",
        "ofen6OXoC8Y6",
        "DxxFf9AbIS16",
        "aImwsVPvVXW-",
        "GHyPDoguWCFg"
      ],
      "authorship_tag": "ABX9TyNGFpy4iO/Xau2KLRVQRamf",
      "include_colab_link": true
    },
    "kernelspec": {
      "name": "python3",
      "display_name": "Python 3"
    },
    "language_info": {
      "name": "python"
    }
  },
  "cells": [
    {
      "cell_type": "markdown",
      "metadata": {
        "id": "view-in-github",
        "colab_type": "text"
      },
      "source": [
        "<a href=\"https://colab.research.google.com/github/dudaholandah/NLP/blob/main/Trabalhos/T3/NLP_T3_100.ipynb\" target=\"_parent\"><img src=\"https://colab.research.google.com/assets/colab-badge.svg\" alt=\"Open In Colab\"/></a>"
      ]
    },
    {
      "cell_type": "markdown",
      "source": [
        "# Imports"
      ],
      "metadata": {
        "id": "iPllaCSVCcTO"
      }
    },
    {
      "cell_type": "code",
      "execution_count": 1,
      "metadata": {
        "id": "jeszgAh6CVr2"
      },
      "outputs": [],
      "source": [
        "import pandas as pd\n",
        "import re\n",
        "import numpy as np\n",
        "import nltk\n",
        "from nltk.corpus import reuters\n",
        "import math\n",
        "from nltk.corpus import stopwords\n",
        "from nltk.stem.porter import *\n",
        "from nltk.corpus import wordnet as wn"
      ]
    },
    {
      "cell_type": "code",
      "source": [
        "nltk.download('stopwords')\n",
        "nltk.download('wordnet')\n",
        "nltk.download('omw-1.4')\n",
        "nltk.download('reuters')"
      ],
      "metadata": {
        "id": "kzOmvrQCMI4N"
      },
      "execution_count": null,
      "outputs": []
    },
    {
      "cell_type": "markdown",
      "source": [
        "# Pre-Processing"
      ],
      "metadata": {
        "id": "USWx_1C_CiFM"
      }
    },
    {
      "cell_type": "code",
      "source": [
        "def pre_processing(text):\n",
        "  stopwords_nltk = stopwords.words('english')\n",
        "  stemmer = PorterStemmer()\n",
        "  emojiDict = {':)' : 'happy', '(:' : 'happy', ':(': 'sad', '):': 'sad', '(;' : 'wink', ';)' : 'wink', ':D' : 'happy', 'D:': 'sad'}\n",
        "  wn_lemmas = set(wn.all_lemma_names())\n",
        "\n",
        "  # substituindo os emojis por palavras\n",
        "  for word, initial in emojiDict.items():\n",
        "    text = text.replace(word.lower(), initial)\n",
        "  \n",
        "  # regex para tirar caracteres, numeros, upcode e links htpp\n",
        "  words = re.sub(r'[\\s!%*~\\^´`=+<\\[\\]?&$:;@#.0-9()\\/\\\"\\'_-]+|[\\s]*[\\\\]u[a-z0-9]{4}[\\s]*|[\\s]*http[^\\s]+[\\s]*', \" \", text.lower())\n",
        "  words = re.sub(r'\\brt\\b', \"\", words)\n",
        "  words = re.sub(r'[\\\\]+', \" \", words)\n",
        "  words = words.strip()\n",
        "  \n",
        "  phrase = \"\"\n",
        "  words = words.split()\n",
        "\n",
        "  # tirando stopwords\n",
        "  # colocando apenas as palavras que estao na gramatica wordnet\n",
        "  # fazendo stematizacao\n",
        "  for x in words:\n",
        "      if x not in stopwords_nltk and x in wn_lemmas:\n",
        "          x = stemmer.stem(x)\n",
        "          phrase = phrase + \" \" + x\n",
        "        \n",
        "  return phrase.strip()"
      ],
      "metadata": {
        "id": "ZmZne5KKRUi1"
      },
      "execution_count": 6,
      "outputs": []
    },
    {
      "cell_type": "code",
      "source": [
        "categories = []\n",
        "corpus = []\n",
        "fileids = reuters.fileids()\n",
        "\n",
        "for file in fileids:\n",
        "    categories.append(reuters.categories(file))\n",
        "    corpus.append(pre_processing(reuters.raw(file)))\n",
        "\n",
        "df = pd.DataFrame({'ids':fileids, 'categories':categories, 'text':corpus})"
      ],
      "metadata": {
        "id": "2bu_NFf3CmTK"
      },
      "execution_count": 7,
      "outputs": []
    },
    {
      "cell_type": "code",
      "source": [
        "df"
      ],
      "metadata": {
        "colab": {
          "base_uri": "https://localhost:8080/",
          "height": 424
        },
        "id": "T9yDCKCkD6vr",
        "outputId": "e7ee482d-6a8c-45c3-d042-48b7c4a00733"
      },
      "execution_count": 8,
      "outputs": [
        {
          "output_type": "execute_result",
          "data": {
            "text/plain": [
              "                 ids                                      categories  \\\n",
              "0         test/14826                                         [trade]   \n",
              "1         test/14828                                         [grain]   \n",
              "2         test/14829                                [crude, nat-gas]   \n",
              "3         test/14832  [corn, grain, rice, rubber, sugar, tin, trade]   \n",
              "4         test/14833                             [palm-oil, veg-oil]   \n",
              "...              ...                                             ...   \n",
              "10783   training/999                            [interest, money-fx]   \n",
              "10784  training/9992                                          [earn]   \n",
              "10785  training/9993                                          [earn]   \n",
              "10786  training/9994                                          [earn]   \n",
              "10787  training/9995                                          [earn]   \n",
              "\n",
              "                                                    text  \n",
              "0      asian fear damag u japan rift mount trade fric...  \n",
              "1      china daili vermin eat pct grain stock survey ...  \n",
              "2      japan revis long term energi demand downward m...  \n",
              "3      thai trade deficit first quarter thailand trad...  \n",
              "4      indonesia price rise sharpli indonesia crude p...  \n",
              "...                                                  ...  \n",
              "10783  u k money market shortag forecast revis bank e...  \n",
              "10784  knight inc quarterli prior pay april record ap...  \n",
              "10785   inc quarterli prior pay april record april seven  \n",
              "10786  nationwid cellular servic inc th loss six loss...  \n",
              "10787                       h automot year net dilut net  \n",
              "\n",
              "[10788 rows x 3 columns]"
            ],
            "text/html": [
              "\n",
              "  <div id=\"df-8e0daef8-0d08-411e-9856-2b28328c9d37\">\n",
              "    <div class=\"colab-df-container\">\n",
              "      <div>\n",
              "<style scoped>\n",
              "    .dataframe tbody tr th:only-of-type {\n",
              "        vertical-align: middle;\n",
              "    }\n",
              "\n",
              "    .dataframe tbody tr th {\n",
              "        vertical-align: top;\n",
              "    }\n",
              "\n",
              "    .dataframe thead th {\n",
              "        text-align: right;\n",
              "    }\n",
              "</style>\n",
              "<table border=\"1\" class=\"dataframe\">\n",
              "  <thead>\n",
              "    <tr style=\"text-align: right;\">\n",
              "      <th></th>\n",
              "      <th>ids</th>\n",
              "      <th>categories</th>\n",
              "      <th>text</th>\n",
              "    </tr>\n",
              "  </thead>\n",
              "  <tbody>\n",
              "    <tr>\n",
              "      <th>0</th>\n",
              "      <td>test/14826</td>\n",
              "      <td>[trade]</td>\n",
              "      <td>asian fear damag u japan rift mount trade fric...</td>\n",
              "    </tr>\n",
              "    <tr>\n",
              "      <th>1</th>\n",
              "      <td>test/14828</td>\n",
              "      <td>[grain]</td>\n",
              "      <td>china daili vermin eat pct grain stock survey ...</td>\n",
              "    </tr>\n",
              "    <tr>\n",
              "      <th>2</th>\n",
              "      <td>test/14829</td>\n",
              "      <td>[crude, nat-gas]</td>\n",
              "      <td>japan revis long term energi demand downward m...</td>\n",
              "    </tr>\n",
              "    <tr>\n",
              "      <th>3</th>\n",
              "      <td>test/14832</td>\n",
              "      <td>[corn, grain, rice, rubber, sugar, tin, trade]</td>\n",
              "      <td>thai trade deficit first quarter thailand trad...</td>\n",
              "    </tr>\n",
              "    <tr>\n",
              "      <th>4</th>\n",
              "      <td>test/14833</td>\n",
              "      <td>[palm-oil, veg-oil]</td>\n",
              "      <td>indonesia price rise sharpli indonesia crude p...</td>\n",
              "    </tr>\n",
              "    <tr>\n",
              "      <th>...</th>\n",
              "      <td>...</td>\n",
              "      <td>...</td>\n",
              "      <td>...</td>\n",
              "    </tr>\n",
              "    <tr>\n",
              "      <th>10783</th>\n",
              "      <td>training/999</td>\n",
              "      <td>[interest, money-fx]</td>\n",
              "      <td>u k money market shortag forecast revis bank e...</td>\n",
              "    </tr>\n",
              "    <tr>\n",
              "      <th>10784</th>\n",
              "      <td>training/9992</td>\n",
              "      <td>[earn]</td>\n",
              "      <td>knight inc quarterli prior pay april record ap...</td>\n",
              "    </tr>\n",
              "    <tr>\n",
              "      <th>10785</th>\n",
              "      <td>training/9993</td>\n",
              "      <td>[earn]</td>\n",
              "      <td>inc quarterli prior pay april record april seven</td>\n",
              "    </tr>\n",
              "    <tr>\n",
              "      <th>10786</th>\n",
              "      <td>training/9994</td>\n",
              "      <td>[earn]</td>\n",
              "      <td>nationwid cellular servic inc th loss six loss...</td>\n",
              "    </tr>\n",
              "    <tr>\n",
              "      <th>10787</th>\n",
              "      <td>training/9995</td>\n",
              "      <td>[earn]</td>\n",
              "      <td>h automot year net dilut net</td>\n",
              "    </tr>\n",
              "  </tbody>\n",
              "</table>\n",
              "<p>10788 rows × 3 columns</p>\n",
              "</div>\n",
              "      <button class=\"colab-df-convert\" onclick=\"convertToInteractive('df-8e0daef8-0d08-411e-9856-2b28328c9d37')\"\n",
              "              title=\"Convert this dataframe to an interactive table.\"\n",
              "              style=\"display:none;\">\n",
              "        \n",
              "  <svg xmlns=\"http://www.w3.org/2000/svg\" height=\"24px\"viewBox=\"0 0 24 24\"\n",
              "       width=\"24px\">\n",
              "    <path d=\"M0 0h24v24H0V0z\" fill=\"none\"/>\n",
              "    <path d=\"M18.56 5.44l.94 2.06.94-2.06 2.06-.94-2.06-.94-.94-2.06-.94 2.06-2.06.94zm-11 1L8.5 8.5l.94-2.06 2.06-.94-2.06-.94L8.5 2.5l-.94 2.06-2.06.94zm10 10l.94 2.06.94-2.06 2.06-.94-2.06-.94-.94-2.06-.94 2.06-2.06.94z\"/><path d=\"M17.41 7.96l-1.37-1.37c-.4-.4-.92-.59-1.43-.59-.52 0-1.04.2-1.43.59L10.3 9.45l-7.72 7.72c-.78.78-.78 2.05 0 2.83L4 21.41c.39.39.9.59 1.41.59.51 0 1.02-.2 1.41-.59l7.78-7.78 2.81-2.81c.8-.78.8-2.07 0-2.86zM5.41 20L4 18.59l7.72-7.72 1.47 1.35L5.41 20z\"/>\n",
              "  </svg>\n",
              "      </button>\n",
              "      \n",
              "  <style>\n",
              "    .colab-df-container {\n",
              "      display:flex;\n",
              "      flex-wrap:wrap;\n",
              "      gap: 12px;\n",
              "    }\n",
              "\n",
              "    .colab-df-convert {\n",
              "      background-color: #E8F0FE;\n",
              "      border: none;\n",
              "      border-radius: 50%;\n",
              "      cursor: pointer;\n",
              "      display: none;\n",
              "      fill: #1967D2;\n",
              "      height: 32px;\n",
              "      padding: 0 0 0 0;\n",
              "      width: 32px;\n",
              "    }\n",
              "\n",
              "    .colab-df-convert:hover {\n",
              "      background-color: #E2EBFA;\n",
              "      box-shadow: 0px 1px 2px rgba(60, 64, 67, 0.3), 0px 1px 3px 1px rgba(60, 64, 67, 0.15);\n",
              "      fill: #174EA6;\n",
              "    }\n",
              "\n",
              "    [theme=dark] .colab-df-convert {\n",
              "      background-color: #3B4455;\n",
              "      fill: #D2E3FC;\n",
              "    }\n",
              "\n",
              "    [theme=dark] .colab-df-convert:hover {\n",
              "      background-color: #434B5C;\n",
              "      box-shadow: 0px 1px 3px 1px rgba(0, 0, 0, 0.15);\n",
              "      filter: drop-shadow(0px 1px 2px rgba(0, 0, 0, 0.3));\n",
              "      fill: #FFFFFF;\n",
              "    }\n",
              "  </style>\n",
              "\n",
              "      <script>\n",
              "        const buttonEl =\n",
              "          document.querySelector('#df-8e0daef8-0d08-411e-9856-2b28328c9d37 button.colab-df-convert');\n",
              "        buttonEl.style.display =\n",
              "          google.colab.kernel.accessAllowed ? 'block' : 'none';\n",
              "\n",
              "        async function convertToInteractive(key) {\n",
              "          const element = document.querySelector('#df-8e0daef8-0d08-411e-9856-2b28328c9d37');\n",
              "          const dataTable =\n",
              "            await google.colab.kernel.invokeFunction('convertToInteractive',\n",
              "                                                     [key], {});\n",
              "          if (!dataTable) return;\n",
              "\n",
              "          const docLinkHtml = 'Like what you see? Visit the ' +\n",
              "            '<a target=\"_blank\" href=https://colab.research.google.com/notebooks/data_table.ipynb>data table notebook</a>'\n",
              "            + ' to learn more about interactive tables.';\n",
              "          element.innerHTML = '';\n",
              "          dataTable['output_type'] = 'display_data';\n",
              "          await google.colab.output.renderOutput(dataTable, element);\n",
              "          const docLink = document.createElement('div');\n",
              "          docLink.innerHTML = docLinkHtml;\n",
              "          element.appendChild(docLink);\n",
              "        }\n",
              "      </script>\n",
              "    </div>\n",
              "  </div>\n",
              "  "
            ]
          },
          "metadata": {},
          "execution_count": 8
        }
      ]
    },
    {
      "cell_type": "code",
      "source": [
        "phrase = \" \".join(corpus)\n",
        "tokens = phrase.split()\n",
        "vocab = sorted(set(tokens))"
      ],
      "metadata": {
        "id": "Dq92wsJLLqsY"
      },
      "execution_count": 9,
      "outputs": []
    },
    {
      "cell_type": "markdown",
      "source": [
        "# Bag of Words"
      ],
      "metadata": {
        "id": "y5BiKMVVCohJ"
      }
    },
    {
      "cell_type": "markdown",
      "source": [
        "## Bag of Words Binário"
      ],
      "metadata": {
        "id": "Qdbo4CiyK1Iq"
      }
    },
    {
      "cell_type": "code",
      "source": [
        "bow_binario = {}\n",
        "\n",
        "for i,doc in enumerate(corpus):\n",
        "  bow_binario[i] = dict()\n",
        "  for word in doc.split():\n",
        "    bow_binario[i][word] = 1"
      ],
      "metadata": {
        "id": "3uZXXtGBK-rG"
      },
      "execution_count": 10,
      "outputs": []
    },
    {
      "cell_type": "code",
      "source": [
        "bow_binario"
      ],
      "metadata": {
        "id": "0W6I7WRqLCr0"
      },
      "execution_count": null,
      "outputs": []
    },
    {
      "cell_type": "markdown",
      "source": [
        "## Bag of Words Contagem"
      ],
      "metadata": {
        "id": "D4q55GzNK3GM"
      }
    },
    {
      "cell_type": "code",
      "source": [
        "bow_contagem = {}\n",
        "\n",
        "for i,doc in enumerate(corpus):\n",
        "  bow_contagem[i] = dict()\n",
        "  for word in doc.split():\n",
        "    if word in bow_contagem[i]:\n",
        "      bow_contagem[i][word] += 1\n",
        "    else:\n",
        "      bow_contagem[i][word] = 1"
      ],
      "metadata": {
        "id": "PGrZuw_tLOx5"
      },
      "execution_count": 12,
      "outputs": []
    },
    {
      "cell_type": "code",
      "source": [
        "bow_contagem"
      ],
      "metadata": {
        "id": "khsMaIKMLdrn"
      },
      "execution_count": null,
      "outputs": []
    },
    {
      "cell_type": "markdown",
      "source": [
        "## Bag of Words Ponderado"
      ],
      "metadata": {
        "id": "ofen6OXoC8Y6"
      }
    },
    {
      "cell_type": "code",
      "source": [
        "bow_ponderado = {}\n",
        "N = {} # qntd de termos de cada sentenca\n",
        "\n",
        "for i,doc in enumerate(corpus):\n",
        "    bow_ponderado[i] = dict()\n",
        "    N[i] = len(doc.split())\n",
        "    for word in doc.split():\n",
        "        if word in bow_ponderado[i]:\n",
        "            bow_ponderado[i][word] += 1\n",
        "        else:\n",
        "            bow_ponderado[i][word] = 1\n",
        "\n",
        "for doc in bow_ponderado:\n",
        "    for word in bow_ponderado[doc]:\n",
        "        bow_ponderado[doc][word] /= N[doc]   "
      ],
      "metadata": {
        "id": "tFsvNku4CuK6"
      },
      "execution_count": 14,
      "outputs": []
    },
    {
      "cell_type": "code",
      "source": [
        "bow_ponderado"
      ],
      "metadata": {
        "id": "2JMHM9dDKQnu"
      },
      "execution_count": null,
      "outputs": []
    },
    {
      "cell_type": "markdown",
      "source": [
        "# Inverse Document Frequency"
      ],
      "metadata": {
        "id": "DxxFf9AbIS16"
      }
    },
    {
      "cell_type": "code",
      "source": [
        "idf = {}\n",
        "\n",
        "for word in vocab:\n",
        "  idf[word] = 0\n",
        "  for doc in bow_contagem:\n",
        "    if word in bow_contagem[doc]:\n",
        "      idf[word] += 1\n",
        "\n",
        "for word in idf:\n",
        "  idf[word] = math.log(len(corpus)/idf[word])"
      ],
      "metadata": {
        "id": "82qQsYEdIVh2"
      },
      "execution_count": 16,
      "outputs": []
    },
    {
      "cell_type": "code",
      "source": [
        "idf"
      ],
      "metadata": {
        "id": "8UHpbpWTMLcM"
      },
      "execution_count": null,
      "outputs": []
    },
    {
      "cell_type": "markdown",
      "source": [
        "# TF-IDF"
      ],
      "metadata": {
        "id": "aImwsVPvVXW-"
      }
    },
    {
      "cell_type": "code",
      "source": [
        "bow_tfidf = {}\n",
        "\n",
        "for doc in bow_ponderado:\n",
        "  bow_tfidf[doc] = dict()\n",
        "  for word in bow_ponderado[doc]:\n",
        "    bow_tfidf[doc][word] = bow_ponderado[doc][word] * idf[word]"
      ],
      "metadata": {
        "id": "nhmvOdK4VbHA"
      },
      "execution_count": 18,
      "outputs": []
    },
    {
      "cell_type": "code",
      "source": [
        "tfidf = pd.DataFrame().from_records(bow_tfidf).fillna(0).T"
      ],
      "metadata": {
        "id": "1e5-Q4mWvnjz"
      },
      "execution_count": 19,
      "outputs": []
    },
    {
      "cell_type": "code",
      "source": [
        "tfidf"
      ],
      "metadata": {
        "colab": {
          "base_uri": "https://localhost:8080/",
          "height": 424
        },
        "id": "g3ihRceQ_2zf",
        "outputId": "e68849f1-3c78-4740-fd8b-c9cbafc35f64"
      },
      "execution_count": 20,
      "outputs": [
        {
          "output_type": "execute_result",
          "data": {
            "text/plain": [
              "          asian      fear     damag         u     japan      rift    mount  \\\n",
              "0      0.032158  0.016389  0.012359  0.084695  0.112599  0.024587  0.01721   \n",
              "1      0.000000  0.000000  0.000000  0.000000  0.000000  0.000000  0.00000   \n",
              "2      0.000000  0.000000  0.000000  0.000000  0.066305  0.000000  0.00000   \n",
              "3      0.000000  0.000000  0.000000  0.000000  0.000000  0.000000  0.00000   \n",
              "4      0.000000  0.000000  0.000000  0.000000  0.000000  0.000000  0.00000   \n",
              "...         ...       ...       ...       ...       ...       ...      ...   \n",
              "10783  0.000000  0.000000  0.000000  0.067472  0.000000  0.000000  0.00000   \n",
              "10784  0.000000  0.000000  0.000000  0.000000  0.000000  0.000000  0.00000   \n",
              "10785  0.000000  0.000000  0.000000  0.000000  0.000000  0.000000  0.00000   \n",
              "10786  0.000000  0.000000  0.000000  0.000000  0.000000  0.000000  0.00000   \n",
              "10787  0.000000  0.000000  0.000000  0.000000  0.000000  0.000000  0.00000   \n",
              "\n",
              "          trade  friction      rais  ...  egregi  misread  articul  weill  \\\n",
              "0      0.091437   0.01822  0.008697  ...     0.0      0.0      0.0    0.0   \n",
              "1      0.000000   0.00000  0.000000  ...     0.0      0.0      0.0    0.0   \n",
              "2      0.023332   0.00000  0.000000  ...     0.0      0.0      0.0    0.0   \n",
              "3      0.052049   0.00000  0.000000  ...     0.0      0.0      0.0    0.0   \n",
              "4      0.000000   0.00000  0.000000  ...     0.0      0.0      0.0    0.0   \n",
              "...         ...       ...       ...  ...     ...      ...      ...    ...   \n",
              "10783  0.000000   0.00000  0.000000  ...     0.0      0.0      0.0    0.0   \n",
              "10784  0.000000   0.00000  0.000000  ...     0.0      0.0      0.0    0.0   \n",
              "10785  0.000000   0.00000  0.000000  ...     0.0      0.0      0.0    0.0   \n",
              "10786  0.000000   0.00000  0.000000  ...     0.0      0.0      0.0    0.0   \n",
              "10787  0.000000   0.00000  0.000000  ...     0.0      0.0      0.0    0.0   \n",
              "\n",
              "       switchboard  showcas  triennial   ig  obstinaci  rejuven  \n",
              "0              0.0      0.0        0.0  0.0        0.0      0.0  \n",
              "1              0.0      0.0        0.0  0.0        0.0      0.0  \n",
              "2              0.0      0.0        0.0  0.0        0.0      0.0  \n",
              "3              0.0      0.0        0.0  0.0        0.0      0.0  \n",
              "4              0.0      0.0        0.0  0.0        0.0      0.0  \n",
              "...            ...      ...        ...  ...        ...      ...  \n",
              "10783          0.0      0.0        0.0  0.0        0.0      0.0  \n",
              "10784          0.0      0.0        0.0  0.0        0.0      0.0  \n",
              "10785          0.0      0.0        0.0  0.0        0.0      0.0  \n",
              "10786          0.0      0.0        0.0  0.0        0.0      0.0  \n",
              "10787          0.0      0.0        0.0  0.0        0.0      0.0  \n",
              "\n",
              "[10788 rows x 8831 columns]"
            ],
            "text/html": [
              "\n",
              "  <div id=\"df-880a679f-dc16-490e-8439-a5d4b4c122f9\">\n",
              "    <div class=\"colab-df-container\">\n",
              "      <div>\n",
              "<style scoped>\n",
              "    .dataframe tbody tr th:only-of-type {\n",
              "        vertical-align: middle;\n",
              "    }\n",
              "\n",
              "    .dataframe tbody tr th {\n",
              "        vertical-align: top;\n",
              "    }\n",
              "\n",
              "    .dataframe thead th {\n",
              "        text-align: right;\n",
              "    }\n",
              "</style>\n",
              "<table border=\"1\" class=\"dataframe\">\n",
              "  <thead>\n",
              "    <tr style=\"text-align: right;\">\n",
              "      <th></th>\n",
              "      <th>asian</th>\n",
              "      <th>fear</th>\n",
              "      <th>damag</th>\n",
              "      <th>u</th>\n",
              "      <th>japan</th>\n",
              "      <th>rift</th>\n",
              "      <th>mount</th>\n",
              "      <th>trade</th>\n",
              "      <th>friction</th>\n",
              "      <th>rais</th>\n",
              "      <th>...</th>\n",
              "      <th>egregi</th>\n",
              "      <th>misread</th>\n",
              "      <th>articul</th>\n",
              "      <th>weill</th>\n",
              "      <th>switchboard</th>\n",
              "      <th>showcas</th>\n",
              "      <th>triennial</th>\n",
              "      <th>ig</th>\n",
              "      <th>obstinaci</th>\n",
              "      <th>rejuven</th>\n",
              "    </tr>\n",
              "  </thead>\n",
              "  <tbody>\n",
              "    <tr>\n",
              "      <th>0</th>\n",
              "      <td>0.032158</td>\n",
              "      <td>0.016389</td>\n",
              "      <td>0.012359</td>\n",
              "      <td>0.084695</td>\n",
              "      <td>0.112599</td>\n",
              "      <td>0.024587</td>\n",
              "      <td>0.01721</td>\n",
              "      <td>0.091437</td>\n",
              "      <td>0.01822</td>\n",
              "      <td>0.008697</td>\n",
              "      <td>...</td>\n",
              "      <td>0.0</td>\n",
              "      <td>0.0</td>\n",
              "      <td>0.0</td>\n",
              "      <td>0.0</td>\n",
              "      <td>0.0</td>\n",
              "      <td>0.0</td>\n",
              "      <td>0.0</td>\n",
              "      <td>0.0</td>\n",
              "      <td>0.0</td>\n",
              "      <td>0.0</td>\n",
              "    </tr>\n",
              "    <tr>\n",
              "      <th>1</th>\n",
              "      <td>0.000000</td>\n",
              "      <td>0.000000</td>\n",
              "      <td>0.000000</td>\n",
              "      <td>0.000000</td>\n",
              "      <td>0.000000</td>\n",
              "      <td>0.000000</td>\n",
              "      <td>0.00000</td>\n",
              "      <td>0.000000</td>\n",
              "      <td>0.00000</td>\n",
              "      <td>0.000000</td>\n",
              "      <td>...</td>\n",
              "      <td>0.0</td>\n",
              "      <td>0.0</td>\n",
              "      <td>0.0</td>\n",
              "      <td>0.0</td>\n",
              "      <td>0.0</td>\n",
              "      <td>0.0</td>\n",
              "      <td>0.0</td>\n",
              "      <td>0.0</td>\n",
              "      <td>0.0</td>\n",
              "      <td>0.0</td>\n",
              "    </tr>\n",
              "    <tr>\n",
              "      <th>2</th>\n",
              "      <td>0.000000</td>\n",
              "      <td>0.000000</td>\n",
              "      <td>0.000000</td>\n",
              "      <td>0.000000</td>\n",
              "      <td>0.066305</td>\n",
              "      <td>0.000000</td>\n",
              "      <td>0.00000</td>\n",
              "      <td>0.023332</td>\n",
              "      <td>0.00000</td>\n",
              "      <td>0.000000</td>\n",
              "      <td>...</td>\n",
              "      <td>0.0</td>\n",
              "      <td>0.0</td>\n",
              "      <td>0.0</td>\n",
              "      <td>0.0</td>\n",
              "      <td>0.0</td>\n",
              "      <td>0.0</td>\n",
              "      <td>0.0</td>\n",
              "      <td>0.0</td>\n",
              "      <td>0.0</td>\n",
              "      <td>0.0</td>\n",
              "    </tr>\n",
              "    <tr>\n",
              "      <th>3</th>\n",
              "      <td>0.000000</td>\n",
              "      <td>0.000000</td>\n",
              "      <td>0.000000</td>\n",
              "      <td>0.000000</td>\n",
              "      <td>0.000000</td>\n",
              "      <td>0.000000</td>\n",
              "      <td>0.00000</td>\n",
              "      <td>0.052049</td>\n",
              "      <td>0.00000</td>\n",
              "      <td>0.000000</td>\n",
              "      <td>...</td>\n",
              "      <td>0.0</td>\n",
              "      <td>0.0</td>\n",
              "      <td>0.0</td>\n",
              "      <td>0.0</td>\n",
              "      <td>0.0</td>\n",
              "      <td>0.0</td>\n",
              "      <td>0.0</td>\n",
              "      <td>0.0</td>\n",
              "      <td>0.0</td>\n",
              "      <td>0.0</td>\n",
              "    </tr>\n",
              "    <tr>\n",
              "      <th>4</th>\n",
              "      <td>0.000000</td>\n",
              "      <td>0.000000</td>\n",
              "      <td>0.000000</td>\n",
              "      <td>0.000000</td>\n",
              "      <td>0.000000</td>\n",
              "      <td>0.000000</td>\n",
              "      <td>0.00000</td>\n",
              "      <td>0.000000</td>\n",
              "      <td>0.00000</td>\n",
              "      <td>0.000000</td>\n",
              "      <td>...</td>\n",
              "      <td>0.0</td>\n",
              "      <td>0.0</td>\n",
              "      <td>0.0</td>\n",
              "      <td>0.0</td>\n",
              "      <td>0.0</td>\n",
              "      <td>0.0</td>\n",
              "      <td>0.0</td>\n",
              "      <td>0.0</td>\n",
              "      <td>0.0</td>\n",
              "      <td>0.0</td>\n",
              "    </tr>\n",
              "    <tr>\n",
              "      <th>...</th>\n",
              "      <td>...</td>\n",
              "      <td>...</td>\n",
              "      <td>...</td>\n",
              "      <td>...</td>\n",
              "      <td>...</td>\n",
              "      <td>...</td>\n",
              "      <td>...</td>\n",
              "      <td>...</td>\n",
              "      <td>...</td>\n",
              "      <td>...</td>\n",
              "      <td>...</td>\n",
              "      <td>...</td>\n",
              "      <td>...</td>\n",
              "      <td>...</td>\n",
              "      <td>...</td>\n",
              "      <td>...</td>\n",
              "      <td>...</td>\n",
              "      <td>...</td>\n",
              "      <td>...</td>\n",
              "      <td>...</td>\n",
              "      <td>...</td>\n",
              "    </tr>\n",
              "    <tr>\n",
              "      <th>10783</th>\n",
              "      <td>0.000000</td>\n",
              "      <td>0.000000</td>\n",
              "      <td>0.000000</td>\n",
              "      <td>0.067472</td>\n",
              "      <td>0.000000</td>\n",
              "      <td>0.000000</td>\n",
              "      <td>0.00000</td>\n",
              "      <td>0.000000</td>\n",
              "      <td>0.00000</td>\n",
              "      <td>0.000000</td>\n",
              "      <td>...</td>\n",
              "      <td>0.0</td>\n",
              "      <td>0.0</td>\n",
              "      <td>0.0</td>\n",
              "      <td>0.0</td>\n",
              "      <td>0.0</td>\n",
              "      <td>0.0</td>\n",
              "      <td>0.0</td>\n",
              "      <td>0.0</td>\n",
              "      <td>0.0</td>\n",
              "      <td>0.0</td>\n",
              "    </tr>\n",
              "    <tr>\n",
              "      <th>10784</th>\n",
              "      <td>0.000000</td>\n",
              "      <td>0.000000</td>\n",
              "      <td>0.000000</td>\n",
              "      <td>0.000000</td>\n",
              "      <td>0.000000</td>\n",
              "      <td>0.000000</td>\n",
              "      <td>0.00000</td>\n",
              "      <td>0.000000</td>\n",
              "      <td>0.00000</td>\n",
              "      <td>0.000000</td>\n",
              "      <td>...</td>\n",
              "      <td>0.0</td>\n",
              "      <td>0.0</td>\n",
              "      <td>0.0</td>\n",
              "      <td>0.0</td>\n",
              "      <td>0.0</td>\n",
              "      <td>0.0</td>\n",
              "      <td>0.0</td>\n",
              "      <td>0.0</td>\n",
              "      <td>0.0</td>\n",
              "      <td>0.0</td>\n",
              "    </tr>\n",
              "    <tr>\n",
              "      <th>10785</th>\n",
              "      <td>0.000000</td>\n",
              "      <td>0.000000</td>\n",
              "      <td>0.000000</td>\n",
              "      <td>0.000000</td>\n",
              "      <td>0.000000</td>\n",
              "      <td>0.000000</td>\n",
              "      <td>0.00000</td>\n",
              "      <td>0.000000</td>\n",
              "      <td>0.00000</td>\n",
              "      <td>0.000000</td>\n",
              "      <td>...</td>\n",
              "      <td>0.0</td>\n",
              "      <td>0.0</td>\n",
              "      <td>0.0</td>\n",
              "      <td>0.0</td>\n",
              "      <td>0.0</td>\n",
              "      <td>0.0</td>\n",
              "      <td>0.0</td>\n",
              "      <td>0.0</td>\n",
              "      <td>0.0</td>\n",
              "      <td>0.0</td>\n",
              "    </tr>\n",
              "    <tr>\n",
              "      <th>10786</th>\n",
              "      <td>0.000000</td>\n",
              "      <td>0.000000</td>\n",
              "      <td>0.000000</td>\n",
              "      <td>0.000000</td>\n",
              "      <td>0.000000</td>\n",
              "      <td>0.000000</td>\n",
              "      <td>0.00000</td>\n",
              "      <td>0.000000</td>\n",
              "      <td>0.00000</td>\n",
              "      <td>0.000000</td>\n",
              "      <td>...</td>\n",
              "      <td>0.0</td>\n",
              "      <td>0.0</td>\n",
              "      <td>0.0</td>\n",
              "      <td>0.0</td>\n",
              "      <td>0.0</td>\n",
              "      <td>0.0</td>\n",
              "      <td>0.0</td>\n",
              "      <td>0.0</td>\n",
              "      <td>0.0</td>\n",
              "      <td>0.0</td>\n",
              "    </tr>\n",
              "    <tr>\n",
              "      <th>10787</th>\n",
              "      <td>0.000000</td>\n",
              "      <td>0.000000</td>\n",
              "      <td>0.000000</td>\n",
              "      <td>0.000000</td>\n",
              "      <td>0.000000</td>\n",
              "      <td>0.000000</td>\n",
              "      <td>0.00000</td>\n",
              "      <td>0.000000</td>\n",
              "      <td>0.00000</td>\n",
              "      <td>0.000000</td>\n",
              "      <td>...</td>\n",
              "      <td>0.0</td>\n",
              "      <td>0.0</td>\n",
              "      <td>0.0</td>\n",
              "      <td>0.0</td>\n",
              "      <td>0.0</td>\n",
              "      <td>0.0</td>\n",
              "      <td>0.0</td>\n",
              "      <td>0.0</td>\n",
              "      <td>0.0</td>\n",
              "      <td>0.0</td>\n",
              "    </tr>\n",
              "  </tbody>\n",
              "</table>\n",
              "<p>10788 rows × 8831 columns</p>\n",
              "</div>\n",
              "      <button class=\"colab-df-convert\" onclick=\"convertToInteractive('df-880a679f-dc16-490e-8439-a5d4b4c122f9')\"\n",
              "              title=\"Convert this dataframe to an interactive table.\"\n",
              "              style=\"display:none;\">\n",
              "        \n",
              "  <svg xmlns=\"http://www.w3.org/2000/svg\" height=\"24px\"viewBox=\"0 0 24 24\"\n",
              "       width=\"24px\">\n",
              "    <path d=\"M0 0h24v24H0V0z\" fill=\"none\"/>\n",
              "    <path d=\"M18.56 5.44l.94 2.06.94-2.06 2.06-.94-2.06-.94-.94-2.06-.94 2.06-2.06.94zm-11 1L8.5 8.5l.94-2.06 2.06-.94-2.06-.94L8.5 2.5l-.94 2.06-2.06.94zm10 10l.94 2.06.94-2.06 2.06-.94-2.06-.94-.94-2.06-.94 2.06-2.06.94z\"/><path d=\"M17.41 7.96l-1.37-1.37c-.4-.4-.92-.59-1.43-.59-.52 0-1.04.2-1.43.59L10.3 9.45l-7.72 7.72c-.78.78-.78 2.05 0 2.83L4 21.41c.39.39.9.59 1.41.59.51 0 1.02-.2 1.41-.59l7.78-7.78 2.81-2.81c.8-.78.8-2.07 0-2.86zM5.41 20L4 18.59l7.72-7.72 1.47 1.35L5.41 20z\"/>\n",
              "  </svg>\n",
              "      </button>\n",
              "      \n",
              "  <style>\n",
              "    .colab-df-container {\n",
              "      display:flex;\n",
              "      flex-wrap:wrap;\n",
              "      gap: 12px;\n",
              "    }\n",
              "\n",
              "    .colab-df-convert {\n",
              "      background-color: #E8F0FE;\n",
              "      border: none;\n",
              "      border-radius: 50%;\n",
              "      cursor: pointer;\n",
              "      display: none;\n",
              "      fill: #1967D2;\n",
              "      height: 32px;\n",
              "      padding: 0 0 0 0;\n",
              "      width: 32px;\n",
              "    }\n",
              "\n",
              "    .colab-df-convert:hover {\n",
              "      background-color: #E2EBFA;\n",
              "      box-shadow: 0px 1px 2px rgba(60, 64, 67, 0.3), 0px 1px 3px 1px rgba(60, 64, 67, 0.15);\n",
              "      fill: #174EA6;\n",
              "    }\n",
              "\n",
              "    [theme=dark] .colab-df-convert {\n",
              "      background-color: #3B4455;\n",
              "      fill: #D2E3FC;\n",
              "    }\n",
              "\n",
              "    [theme=dark] .colab-df-convert:hover {\n",
              "      background-color: #434B5C;\n",
              "      box-shadow: 0px 1px 3px 1px rgba(0, 0, 0, 0.15);\n",
              "      filter: drop-shadow(0px 1px 2px rgba(0, 0, 0, 0.3));\n",
              "      fill: #FFFFFF;\n",
              "    }\n",
              "  </style>\n",
              "\n",
              "      <script>\n",
              "        const buttonEl =\n",
              "          document.querySelector('#df-880a679f-dc16-490e-8439-a5d4b4c122f9 button.colab-df-convert');\n",
              "        buttonEl.style.display =\n",
              "          google.colab.kernel.accessAllowed ? 'block' : 'none';\n",
              "\n",
              "        async function convertToInteractive(key) {\n",
              "          const element = document.querySelector('#df-880a679f-dc16-490e-8439-a5d4b4c122f9');\n",
              "          const dataTable =\n",
              "            await google.colab.kernel.invokeFunction('convertToInteractive',\n",
              "                                                     [key], {});\n",
              "          if (!dataTable) return;\n",
              "\n",
              "          const docLinkHtml = 'Like what you see? Visit the ' +\n",
              "            '<a target=\"_blank\" href=https://colab.research.google.com/notebooks/data_table.ipynb>data table notebook</a>'\n",
              "            + ' to learn more about interactive tables.';\n",
              "          element.innerHTML = '';\n",
              "          dataTable['output_type'] = 'display_data';\n",
              "          await google.colab.output.renderOutput(dataTable, element);\n",
              "          const docLink = document.createElement('div');\n",
              "          docLink.innerHTML = docLinkHtml;\n",
              "          element.appendChild(docLink);\n",
              "        }\n",
              "      </script>\n",
              "    </div>\n",
              "  </div>\n",
              "  "
            ]
          },
          "metadata": {},
          "execution_count": 20
        }
      ]
    },
    {
      "cell_type": "markdown",
      "source": [
        "# Similaridade Cosseno"
      ],
      "metadata": {
        "id": "GHyPDoguWCFg"
      }
    },
    {
      "cell_type": "code",
      "source": [
        "def cosine_similarity(vetor1,vetor2):\n",
        "\n",
        "    prod_interno = 0\n",
        "\n",
        "    for i,valor in enumerate(vetor1):\n",
        "        prod_interno += valor*vetor2[i]\n",
        "    \n",
        "    norma_vetor1 = 0\n",
        "    for x in vetor1:\n",
        "        norma_vetor1 += x*x\n",
        "    norma_vetor1 = norma_vetor1**0.5\n",
        "\n",
        "    norma_vetor2 = 0\n",
        "    for x in vetor2:\n",
        "        norma_vetor2 += x*x\n",
        "    norma_vetor2 = norma_vetor2**0.5\n",
        "\n",
        "    return prod_interno/(norma_vetor1*norma_vetor2)"
      ],
      "metadata": {
        "id": "8iHTdWo-WIY8"
      },
      "execution_count": 21,
      "outputs": []
    },
    {
      "cell_type": "markdown",
      "source": [
        "# Recuperação de Textos"
      ],
      "metadata": {
        "id": "0Vzj5hcyW6ed"
      }
    },
    {
      "cell_type": "code",
      "source": [
        "top10 = [0] * 10\n",
        "\n",
        "categ = categories[:100]\n",
        "for i in range(len(categ)):\n",
        "  vec1 = tfidf.iloc[i]\n",
        "  best = []\n",
        "\n",
        "  for j in range(len(categ)):\n",
        "    if i == j: continue\n",
        "    vec2 = tfidf.iloc[j]\n",
        "    similarity = cosine_similarity(vec1, vec2)\n",
        "    best.append( (similarity,j) )\n",
        "\n",
        "  best.sort(reverse=True)\n",
        "  top = best[:10]\n",
        "  for idx, [sim, j] in enumerate(top):\n",
        "    for cat in categ[j] :\n",
        "      if cat in categ[i]:\n",
        "        top10[idx] += 1\n",
        "\n",
        "print(top10)"
      ],
      "metadata": {
        "colab": {
          "base_uri": "https://localhost:8080/"
        },
        "id": "RjAY0GSpW87i",
        "outputId": "391659fc-412e-4301-bc1e-d69ba22066a6"
      },
      "execution_count": 22,
      "outputs": [
        {
          "output_type": "stream",
          "name": "stdout",
          "text": [
            "[79, 72, 48, 52, 55, 56, 45, 45, 35, 37]\n"
          ]
        }
      ]
    },
    {
      "cell_type": "code",
      "source": [
        "acuracia = 0\n",
        "for x in top10:\n",
        "  acuracia += x/100\n",
        "\n",
        "acuracia = acuracia*10\n",
        "print(f\"Acurácia: {acuracia:.2f}%\")"
      ],
      "metadata": {
        "colab": {
          "base_uri": "https://localhost:8080/"
        },
        "id": "BCA4ult1x7_Z",
        "outputId": "08622ac4-3e09-4d2d-f44f-a62ba5a7092c"
      },
      "execution_count": 31,
      "outputs": [
        {
          "output_type": "stream",
          "name": "stdout",
          "text": [
            "Acurácia: 52.40%\n"
          ]
        }
      ]
    }
  ]
}