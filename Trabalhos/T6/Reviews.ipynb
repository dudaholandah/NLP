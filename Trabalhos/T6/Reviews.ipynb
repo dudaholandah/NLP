{
  "nbformat": 4,
  "nbformat_minor": 0,
  "metadata": {
    "colab": {
      "name": "Reviews.ipynb",
      "provenance": [],
      "include_colab_link": true
    },
    "kernelspec": {
      "name": "python3",
      "display_name": "Python 3"
    },
    "language_info": {
      "name": "python"
    }
  },
  "cells": [
    {
      "cell_type": "markdown",
      "metadata": {
        "id": "view-in-github",
        "colab_type": "text"
      },
      "source": [
        "<a href=\"https://colab.research.google.com/github/dudaholandah/NLP/blob/main/Trabalhos/T6/Reviews.ipynb\" target=\"_parent\"><img src=\"https://colab.research.google.com/assets/colab-badge.svg\" alt=\"Open In Colab\"/></a>"
      ]
    },
    {
      "cell_type": "markdown",
      "source": [
        "Feito por:\n",
        "\n",
        "- Ariel Batista da Silva - 170099776\n",
        "- Bruno Esteves Dalla Costa Filho - 170100863\n",
        "- Maria Eduarda Machado de Holanda - 190043725"
      ],
      "metadata": {
        "id": "Au9OgG2JKjRX"
      }
    },
    {
      "cell_type": "markdown",
      "source": [
        "# Imports"
      ],
      "metadata": {
        "id": "k2yc8ZIzIjTT"
      }
    },
    {
      "cell_type": "code",
      "source": [
        "!pip install krippendorff"
      ],
      "metadata": {
        "id": "qetpZjJpUCnb"
      },
      "execution_count": null,
      "outputs": []
    },
    {
      "cell_type": "code",
      "execution_count": 23,
      "metadata": {
        "id": "OsmOtqFrN1Tl"
      },
      "outputs": [],
      "source": [
        "import json\n",
        "import os\n",
        "import glob\n",
        "import pandas as pd\n",
        "import krippendorff\n",
        "import numpy as np\n",
        "from sklearn.metrics import cohen_kappa_score"
      ]
    },
    {
      "cell_type": "markdown",
      "source": [
        "# Pré Processamento"
      ],
      "metadata": {
        "id": "XU_YM2eFIlqN"
      }
    },
    {
      "cell_type": "code",
      "source": [
        "df_dict = {}"
      ],
      "metadata": {
        "id": "glSJ78RbGuTk"
      },
      "execution_count": 3,
      "outputs": []
    },
    {
      "cell_type": "code",
      "source": [
        "keywordListAriel = {}\n",
        "path = '/content/Ariel'\n",
        "for filename in glob.glob(os.path.join(path, '*.json')):   \n",
        "    with open(filename, encoding='utf-8', mode='r') as currentFile:\n",
        "        data=currentFile.read().replace('\\n', '')\n",
        "        keyword = json.loads(data)['metas']['m_1']['value']\n",
        "        x = filename.split(\"food.csv_\")\n",
        "        x = x[1].split(\".ann.json\")\n",
        "        keywordListAriel['doc ' + x[0]] = keyword\n",
        "\n",
        "print(keywordListAriel)\n",
        "df_dict['Ariel'] = keywordListAriel"
      ],
      "metadata": {
        "colab": {
          "base_uri": "https://localhost:8080/"
        },
        "id": "rVFMgO2AOZAe",
        "outputId": "6524a883-d044-43ae-c67b-c13a6118cf2e"
      },
      "execution_count": 6,
      "outputs": [
        {
          "output_type": "stream",
          "name": "stdout",
          "text": [
            "{'doc 32': 'Bom', 'doc 62': 'Neutro', 'doc 133': 'Bom', 'doc 101': 'Bom', 'doc 130': 'Bom', 'doc 50': 'Ruim', 'doc 49': 'Neutro', 'doc 98': 'Bom', 'doc 113': 'Bom', 'doc 58': 'Bom', 'doc 128': 'Bom', 'doc 114': 'Bom', 'doc 52': 'Bom', 'doc 29': 'Bom', 'doc 117': 'Ruim', 'doc 129': 'Bom', 'doc 34': 'Bom', 'doc 131': 'Bom', 'doc 23': 'Neutro', 'doc 126': 'Bom', 'doc 54': 'Ruim', 'doc 35': 'Bom', 'doc 88': 'Bom', 'doc 110': 'Bom', 'doc 122': 'Bom', 'doc 37': 'Bom', 'doc 79': 'Bom', 'doc 55': 'Bom', 'doc 36': 'Bom', 'doc 68': 'Ruim', 'doc 70': 'Bom', 'doc 74': 'Ruim', 'doc 77': 'Bom', 'doc 93': 'Bom', 'doc 63': 'Ruim', 'doc 84': 'Bom', 'doc 116': 'Bom', 'doc 41': 'Bom', 'doc 81': 'Bom', 'doc 83': 'Neutro', 'doc 69': 'Neutro', 'doc 119': 'Ruim', 'doc 89': 'Bom', 'doc 75': 'Ruim', 'doc 26': 'Neutro', 'doc 120': 'Bom', 'doc 105': 'Bom', 'doc 87': 'Bom', 'doc 67': 'Bom', 'doc 124': 'Bom', 'doc 123': 'Neutro', 'doc 103': 'Ruim', 'doc 99': 'Ruim', 'doc 106': 'Bom', 'doc 82': 'Bom', 'doc 73': 'Bom', 'doc 100': 'Bom', 'doc 61': 'Bom', 'doc 125': 'Bom', 'doc 80': 'Bom', 'doc 30': 'Bom', 'doc 65': 'Bom', 'doc 109': 'Bom', 'doc 56': 'Bom', 'doc 85': 'Bom', 'doc 104': 'Bom', 'doc 78': 'Bom', 'doc 95': 'Bom', 'doc 91': 'Bom', 'doc 76': 'Neutro', 'doc 71': 'Bom', 'doc 107': 'Bom', 'doc 24': 'Bom', 'doc 92': 'Bom', 'doc 25': 'Bom', 'doc 60': 'Bom', 'doc 127': 'Bom', 'doc 86': 'Bom', 'doc 42': 'Bom', 'doc 94': 'Bom', 'doc 66': 'Bom', 'doc 115': 'Neutro', 'doc 112': 'Bom', 'doc 59': 'Bom', 'doc 43': 'Bom', 'doc 64': 'Ruim', 'doc 53': 'Bom', 'doc 111': 'Bom', 'doc 57': 'Bom', 'doc 28': 'Bom', 'doc 102': 'Bom', 'doc 72': 'Bom', 'doc 132': 'Neutro', 'doc 118': 'Bom', 'doc 108': 'Bom', 'doc 97': 'Bom', 'doc 96': 'Bom', 'doc 39': 'Bom', 'doc 90': 'Bom', 'doc 121': 'Bom'}\n"
          ]
        }
      ]
    },
    {
      "cell_type": "code",
      "source": [
        "keywordListBruno = {}\n",
        "path = '/content/Bruno'\n",
        "for filename in glob.glob(os.path.join(path, '*.json')):   \n",
        "    with open(filename, encoding='utf-8', mode='r') as currentFile:\n",
        "        data=currentFile.read().replace('\\n', '')\n",
        "        keyword = json.loads(data)['metas']['m_1']['value']\n",
        "        x = filename.split(\"food.csv_\")\n",
        "        x = x[1].split(\".ann.json\")\n",
        "        keywordListBruno['doc ' + x[0]] = keyword\n",
        "\n",
        "print(keywordListBruno)\n",
        "df_dict['Bruno'] = keywordListBruno"
      ],
      "metadata": {
        "colab": {
          "base_uri": "https://localhost:8080/"
        },
        "id": "g9sUyJWwQaO7",
        "outputId": "27492fe4-6f93-4b82-8074-19603965eaa8"
      },
      "execution_count": 7,
      "outputs": [
        {
          "output_type": "stream",
          "name": "stdout",
          "text": [
            "{'doc 32': 'Bom', 'doc 62': 'Ruim', 'doc 133': 'Ruim', 'doc 101': 'Bom', 'doc 130': 'Bom', 'doc 50': 'Ruim', 'doc 49': 'Bom', 'doc 98': 'Neutro', 'doc 113': 'Bom', 'doc 58': 'Bom', 'doc 128': 'Neutro', 'doc 114': 'Bom', 'doc 52': 'Bom', 'doc 29': 'Bom', 'doc 117': 'Ruim', 'doc 129': 'Neutro', 'doc 34': 'Bom', 'doc 131': 'Bom', 'doc 23': 'Bom', 'doc 126': 'Bom', 'doc 54': 'Ruim', 'doc 35': 'Bom', 'doc 88': 'Bom', 'doc 110': 'Neutro', 'doc 122': 'Bom', 'doc 37': 'Bom', 'doc 79': 'Bom', 'doc 55': 'Bom', 'doc 36': 'Bom', 'doc 68': 'Ruim', 'doc 70': 'Bom', 'doc 74': 'Ruim', 'doc 77': 'Bom', 'doc 93': 'Neutro', 'doc 63': 'Ruim', 'doc 84': 'Ruim', 'doc 116': 'Bom', 'doc 41': 'Bom', 'doc 81': 'Bom', 'doc 83': 'Neutro', 'doc 69': 'Neutro', 'doc 119': 'Ruim', 'doc 89': 'Bom', 'doc 75': 'Ruim', 'doc 26': 'Neutro', 'doc 120': 'Bom', 'doc 105': 'Bom', 'doc 87': 'Bom', 'doc 67': 'Bom', 'doc 124': 'Bom', 'doc 123': 'Bom', 'doc 103': 'Ruim', 'doc 99': 'Ruim', 'doc 106': 'Bom', 'doc 82': 'Neutro', 'doc 73': 'Bom', 'doc 100': 'Bom', 'doc 61': 'Ruim', 'doc 125': 'Bom', 'doc 80': 'Bom', 'doc 30': 'Bom', 'doc 65': 'Bom', 'doc 109': 'Bom', 'doc 56': 'Bom', 'doc 85': 'Bom', 'doc 104': 'Bom', 'doc 78': 'Bom', 'doc 95': 'Neutro', 'doc 91': 'Bom', 'doc 76': 'Ruim', 'doc 71': 'Bom', 'doc 107': 'Bom', 'doc 24': 'Bom', 'doc 92': 'Bom', 'doc 25': 'Bom', 'doc 60': 'Bom', 'doc 127': 'Bom', 'doc 86': 'Bom', 'doc 42': 'Neutro', 'doc 94': 'Bom', 'doc 66': 'Bom', 'doc 115': 'Neutro', 'doc 112': 'Bom', 'doc 59': 'Bom', 'doc 43': 'Bom', 'doc 64': 'Bom', 'doc 53': 'Neutro', 'doc 111': 'Bom', 'doc 57': 'Bom', 'doc 28': 'Bom', 'doc 102': 'Bom', 'doc 72': 'Bom', 'doc 132': 'Ruim', 'doc 118': 'Bom', 'doc 108': 'Bom', 'doc 97': 'Bom', 'doc 96': 'Bom', 'doc 39': 'Bom', 'doc 90': 'Bom', 'doc 121': 'Bom'}\n"
          ]
        }
      ]
    },
    {
      "cell_type": "code",
      "source": [
        "keywordListDuda = {}\n",
        "path = '/content/Duda'\n",
        "for filename in glob.glob(os.path.join(path, '*.json')):   \n",
        "    with open(filename, encoding='utf-8', mode='r') as currentFile:\n",
        "        data=currentFile.read().replace('\\n', '')\n",
        "        keyword = json.loads(data)['metas']['m_1']['value']\n",
        "        x = filename.split(\"food.csv_\")\n",
        "        x = x[1].split(\".ann.json\")\n",
        "        keywordListDuda['doc ' + x[0]] = keyword\n",
        "\n",
        "print(keywordListDuda)\n",
        "df_dict['Duda'] = keywordListDuda"
      ],
      "metadata": {
        "colab": {
          "base_uri": "https://localhost:8080/"
        },
        "id": "RNwsdL19R1-7",
        "outputId": "81d59117-47b0-40d7-8364-e31d1d8a32d2"
      },
      "execution_count": 8,
      "outputs": [
        {
          "output_type": "stream",
          "name": "stdout",
          "text": [
            "{'doc 32': 'Bom', 'doc 62': 'Neutro', 'doc 133': 'Bom', 'doc 101': 'Bom', 'doc 130': 'Bom', 'doc 50': 'Ruim', 'doc 49': 'Bom', 'doc 98': 'Bom', 'doc 113': 'Bom', 'doc 58': 'Bom', 'doc 128': 'Neutro', 'doc 114': 'Bom', 'doc 52': 'Bom', 'doc 29': 'Bom', 'doc 117': 'Ruim', 'doc 129': 'Bom', 'doc 34': 'Bom', 'doc 131': 'Bom', 'doc 23': 'Bom', 'doc 126': 'Bom', 'doc 54': 'Ruim', 'doc 35': 'Bom', 'doc 88': 'Bom', 'doc 110': 'Bom', 'doc 122': 'Bom', 'doc 37': 'Bom', 'doc 79': 'Bom', 'doc 55': 'Bom', 'doc 36': 'Bom', 'doc 68': 'Ruim', 'doc 70': 'Bom', 'doc 74': 'Ruim', 'doc 77': 'Bom', 'doc 93': 'Bom', 'doc 63': 'Ruim', 'doc 84': 'Neutro', 'doc 116': 'Bom', 'doc 41': 'Bom', 'doc 81': 'Bom', 'doc 83': 'Neutro', 'doc 69': 'Neutro', 'doc 119': 'Ruim', 'doc 89': 'Bom', 'doc 75': 'Ruim', 'doc 26': 'Neutro', 'doc 120': 'Bom', 'doc 105': 'Bom', 'doc 87': 'Bom', 'doc 67': 'Bom', 'doc 124': 'Bom', 'doc 123': 'Bom', 'doc 103': 'Ruim', 'doc 99': 'Ruim', 'doc 106': 'Bom', 'doc 82': 'Bom', 'doc 73': 'Bom', 'doc 100': 'Bom', 'doc 61': 'Ruim', 'doc 125': 'Bom', 'doc 80': 'Bom', 'doc 30': 'Bom', 'doc 65': 'Bom', 'doc 109': 'Bom', 'doc 56': 'Bom', 'doc 85': 'Bom', 'doc 104': 'Bom', 'doc 78': 'Neutro', 'doc 95': 'Bom', 'doc 91': 'Bom', 'doc 76': 'Ruim', 'doc 71': 'Bom', 'doc 107': 'Bom', 'doc 24': 'Bom', 'doc 92': 'Bom', 'doc 25': 'Bom', 'doc 60': 'Bom', 'doc 127': 'Bom', 'doc 86': 'Bom', 'doc 42': 'Bom', 'doc 94': 'Bom', 'doc 66': 'Bom', 'doc 115': 'Ruim', 'doc 112': 'Bom', 'doc 59': 'Bom', 'doc 43': 'Bom', 'doc 64': 'Bom', 'doc 53': 'Neutro', 'doc 111': 'Bom', 'doc 57': 'Bom', 'doc 28': 'Bom', 'doc 102': 'Bom', 'doc 72': 'Bom', 'doc 132': 'Ruim', 'doc 118': 'Bom', 'doc 108': 'Bom', 'doc 97': 'Bom', 'doc 96': 'Bom', 'doc 39': 'Bom', 'doc 90': 'Bom', 'doc 121': 'Bom'}\n"
          ]
        }
      ]
    },
    {
      "cell_type": "code",
      "source": [
        "df = pd.DataFrame.from_dict(df_dict)\n",
        "df"
      ],
      "metadata": {
        "colab": {
          "base_uri": "https://localhost:8080/",
          "height": 424
        },
        "id": "5E53wEXaSDIy",
        "outputId": "7a1aa112-df4c-4bf9-ad42-257ff749ae7a"
      },
      "execution_count": 17,
      "outputs": [
        {
          "output_type": "execute_result",
          "data": {
            "text/plain": [
              "          Ariel Bruno    Duda\n",
              "doc 32      Bom   Bom     Bom\n",
              "doc 62   Neutro  Ruim  Neutro\n",
              "doc 133     Bom  Ruim     Bom\n",
              "doc 101     Bom   Bom     Bom\n",
              "doc 130     Bom   Bom     Bom\n",
              "...         ...   ...     ...\n",
              "doc 97      Bom   Bom     Bom\n",
              "doc 96      Bom   Bom     Bom\n",
              "doc 39      Bom   Bom     Bom\n",
              "doc 90      Bom   Bom     Bom\n",
              "doc 121     Bom   Bom     Bom\n",
              "\n",
              "[100 rows x 3 columns]"
            ],
            "text/html": [
              "\n",
              "  <div id=\"df-ed234f1e-0074-494c-b5e0-888b88962f97\">\n",
              "    <div class=\"colab-df-container\">\n",
              "      <div>\n",
              "<style scoped>\n",
              "    .dataframe tbody tr th:only-of-type {\n",
              "        vertical-align: middle;\n",
              "    }\n",
              "\n",
              "    .dataframe tbody tr th {\n",
              "        vertical-align: top;\n",
              "    }\n",
              "\n",
              "    .dataframe thead th {\n",
              "        text-align: right;\n",
              "    }\n",
              "</style>\n",
              "<table border=\"1\" class=\"dataframe\">\n",
              "  <thead>\n",
              "    <tr style=\"text-align: right;\">\n",
              "      <th></th>\n",
              "      <th>Ariel</th>\n",
              "      <th>Bruno</th>\n",
              "      <th>Duda</th>\n",
              "    </tr>\n",
              "  </thead>\n",
              "  <tbody>\n",
              "    <tr>\n",
              "      <th>doc 32</th>\n",
              "      <td>Bom</td>\n",
              "      <td>Bom</td>\n",
              "      <td>Bom</td>\n",
              "    </tr>\n",
              "    <tr>\n",
              "      <th>doc 62</th>\n",
              "      <td>Neutro</td>\n",
              "      <td>Ruim</td>\n",
              "      <td>Neutro</td>\n",
              "    </tr>\n",
              "    <tr>\n",
              "      <th>doc 133</th>\n",
              "      <td>Bom</td>\n",
              "      <td>Ruim</td>\n",
              "      <td>Bom</td>\n",
              "    </tr>\n",
              "    <tr>\n",
              "      <th>doc 101</th>\n",
              "      <td>Bom</td>\n",
              "      <td>Bom</td>\n",
              "      <td>Bom</td>\n",
              "    </tr>\n",
              "    <tr>\n",
              "      <th>doc 130</th>\n",
              "      <td>Bom</td>\n",
              "      <td>Bom</td>\n",
              "      <td>Bom</td>\n",
              "    </tr>\n",
              "    <tr>\n",
              "      <th>...</th>\n",
              "      <td>...</td>\n",
              "      <td>...</td>\n",
              "      <td>...</td>\n",
              "    </tr>\n",
              "    <tr>\n",
              "      <th>doc 97</th>\n",
              "      <td>Bom</td>\n",
              "      <td>Bom</td>\n",
              "      <td>Bom</td>\n",
              "    </tr>\n",
              "    <tr>\n",
              "      <th>doc 96</th>\n",
              "      <td>Bom</td>\n",
              "      <td>Bom</td>\n",
              "      <td>Bom</td>\n",
              "    </tr>\n",
              "    <tr>\n",
              "      <th>doc 39</th>\n",
              "      <td>Bom</td>\n",
              "      <td>Bom</td>\n",
              "      <td>Bom</td>\n",
              "    </tr>\n",
              "    <tr>\n",
              "      <th>doc 90</th>\n",
              "      <td>Bom</td>\n",
              "      <td>Bom</td>\n",
              "      <td>Bom</td>\n",
              "    </tr>\n",
              "    <tr>\n",
              "      <th>doc 121</th>\n",
              "      <td>Bom</td>\n",
              "      <td>Bom</td>\n",
              "      <td>Bom</td>\n",
              "    </tr>\n",
              "  </tbody>\n",
              "</table>\n",
              "<p>100 rows × 3 columns</p>\n",
              "</div>\n",
              "      <button class=\"colab-df-convert\" onclick=\"convertToInteractive('df-ed234f1e-0074-494c-b5e0-888b88962f97')\"\n",
              "              title=\"Convert this dataframe to an interactive table.\"\n",
              "              style=\"display:none;\">\n",
              "        \n",
              "  <svg xmlns=\"http://www.w3.org/2000/svg\" height=\"24px\"viewBox=\"0 0 24 24\"\n",
              "       width=\"24px\">\n",
              "    <path d=\"M0 0h24v24H0V0z\" fill=\"none\"/>\n",
              "    <path d=\"M18.56 5.44l.94 2.06.94-2.06 2.06-.94-2.06-.94-.94-2.06-.94 2.06-2.06.94zm-11 1L8.5 8.5l.94-2.06 2.06-.94-2.06-.94L8.5 2.5l-.94 2.06-2.06.94zm10 10l.94 2.06.94-2.06 2.06-.94-2.06-.94-.94-2.06-.94 2.06-2.06.94z\"/><path d=\"M17.41 7.96l-1.37-1.37c-.4-.4-.92-.59-1.43-.59-.52 0-1.04.2-1.43.59L10.3 9.45l-7.72 7.72c-.78.78-.78 2.05 0 2.83L4 21.41c.39.39.9.59 1.41.59.51 0 1.02-.2 1.41-.59l7.78-7.78 2.81-2.81c.8-.78.8-2.07 0-2.86zM5.41 20L4 18.59l7.72-7.72 1.47 1.35L5.41 20z\"/>\n",
              "  </svg>\n",
              "      </button>\n",
              "      \n",
              "  <style>\n",
              "    .colab-df-container {\n",
              "      display:flex;\n",
              "      flex-wrap:wrap;\n",
              "      gap: 12px;\n",
              "    }\n",
              "\n",
              "    .colab-df-convert {\n",
              "      background-color: #E8F0FE;\n",
              "      border: none;\n",
              "      border-radius: 50%;\n",
              "      cursor: pointer;\n",
              "      display: none;\n",
              "      fill: #1967D2;\n",
              "      height: 32px;\n",
              "      padding: 0 0 0 0;\n",
              "      width: 32px;\n",
              "    }\n",
              "\n",
              "    .colab-df-convert:hover {\n",
              "      background-color: #E2EBFA;\n",
              "      box-shadow: 0px 1px 2px rgba(60, 64, 67, 0.3), 0px 1px 3px 1px rgba(60, 64, 67, 0.15);\n",
              "      fill: #174EA6;\n",
              "    }\n",
              "\n",
              "    [theme=dark] .colab-df-convert {\n",
              "      background-color: #3B4455;\n",
              "      fill: #D2E3FC;\n",
              "    }\n",
              "\n",
              "    [theme=dark] .colab-df-convert:hover {\n",
              "      background-color: #434B5C;\n",
              "      box-shadow: 0px 1px 3px 1px rgba(0, 0, 0, 0.15);\n",
              "      filter: drop-shadow(0px 1px 2px rgba(0, 0, 0, 0.3));\n",
              "      fill: #FFFFFF;\n",
              "    }\n",
              "  </style>\n",
              "\n",
              "      <script>\n",
              "        const buttonEl =\n",
              "          document.querySelector('#df-ed234f1e-0074-494c-b5e0-888b88962f97 button.colab-df-convert');\n",
              "        buttonEl.style.display =\n",
              "          google.colab.kernel.accessAllowed ? 'block' : 'none';\n",
              "\n",
              "        async function convertToInteractive(key) {\n",
              "          const element = document.querySelector('#df-ed234f1e-0074-494c-b5e0-888b88962f97');\n",
              "          const dataTable =\n",
              "            await google.colab.kernel.invokeFunction('convertToInteractive',\n",
              "                                                     [key], {});\n",
              "          if (!dataTable) return;\n",
              "\n",
              "          const docLinkHtml = 'Like what you see? Visit the ' +\n",
              "            '<a target=\"_blank\" href=https://colab.research.google.com/notebooks/data_table.ipynb>data table notebook</a>'\n",
              "            + ' to learn more about interactive tables.';\n",
              "          element.innerHTML = '';\n",
              "          dataTable['output_type'] = 'display_data';\n",
              "          await google.colab.output.renderOutput(dataTable, element);\n",
              "          const docLink = document.createElement('div');\n",
              "          docLink.innerHTML = docLinkHtml;\n",
              "          element.appendChild(docLink);\n",
              "        }\n",
              "      </script>\n",
              "    </div>\n",
              "  </div>\n",
              "  "
            ]
          },
          "metadata": {},
          "execution_count": 17
        }
      ]
    },
    {
      "cell_type": "code",
      "source": [
        "corpus_transpose = []\n",
        "\n",
        "for atrib in df:\n",
        "  lista = np.array(df[atrib])\n",
        "  corpus_transpose.append(list(lista.T))"
      ],
      "metadata": {
        "id": "tdUyycSxHVYO"
      },
      "execution_count": 19,
      "outputs": []
    },
    {
      "cell_type": "code",
      "source": [
        "mapping = {'Bom' : 2, 'Neutro' : 1, 'Ruim' : 0}"
      ],
      "metadata": {
        "id": "qrSIeO97H-Rn"
      },
      "execution_count": 20,
      "outputs": []
    },
    {
      "cell_type": "code",
      "source": [
        "corpus_transpose_int = []\n",
        "\n",
        "for labels in corpus_transpose:\n",
        "    t = []\n",
        "    for doc in labels:\n",
        "        t.append(mapping[doc])\n",
        "    corpus_transpose_int.append(t)"
      ],
      "metadata": {
        "id": "wvM4Ug91IDhr"
      },
      "execution_count": 22,
      "outputs": []
    },
    {
      "cell_type": "markdown",
      "source": [
        "# Métricas de Concordâncias entre Anotadores"
      ],
      "metadata": {
        "id": "lNxwUg1_Iu0M"
      }
    },
    {
      "cell_type": "markdown",
      "source": [
        "Coeficiente de Cohen's Kappa "
      ],
      "metadata": {
        "id": "XwV5rbPWIz-I"
      }
    },
    {
      "cell_type": "code",
      "source": [
        "print(\"Concordância entre Ariel e Bruno\")\n",
        "print(cohen_kappa_score(corpus_transpose[0], corpus_transpose[1]))"
      ],
      "metadata": {
        "colab": {
          "base_uri": "https://localhost:8080/"
        },
        "id": "iNGT9b30IQt3",
        "outputId": "8931c7bb-1aa7-4773-9e05-61befff261ac"
      },
      "execution_count": 32,
      "outputs": [
        {
          "output_type": "stream",
          "name": "stdout",
          "text": [
            "Concordância entre Ariel e Bruno\n",
            "0.5348837209302326\n"
          ]
        }
      ]
    },
    {
      "cell_type": "code",
      "source": [
        "print(\"Concordância entre Ariel e Duda\")\n",
        "print(cohen_kappa_score(corpus_transpose[0], corpus_transpose[2]))"
      ],
      "metadata": {
        "colab": {
          "base_uri": "https://localhost:8080/"
        },
        "id": "4xFtT03sJQ1T",
        "outputId": "276cf81e-19cc-4028-ba38-ded3405a625d"
      },
      "execution_count": 33,
      "outputs": [
        {
          "output_type": "stream",
          "name": "stdout",
          "text": [
            "Concordância entre Ariel e Duda\n",
            "0.6670366259711431\n"
          ]
        }
      ]
    },
    {
      "cell_type": "code",
      "source": [
        "print(\"Concordância entre Bruno e Duda\")\n",
        "print(cohen_kappa_score(corpus_transpose[1], corpus_transpose[2]))"
      ],
      "metadata": {
        "colab": {
          "base_uri": "https://localhost:8080/"
        },
        "id": "45p9aPw6JR5U",
        "outputId": "0ff4fa52-fcf1-4b60-d30b-594cb7d1adf3"
      },
      "execution_count": 34,
      "outputs": [
        {
          "output_type": "stream",
          "name": "stdout",
          "text": [
            "Concordância entre Bruno e Duda\n",
            "0.7097242380261248\n"
          ]
        }
      ]
    },
    {
      "cell_type": "markdown",
      "source": [
        "Coeficiente de Krippendorff"
      ],
      "metadata": {
        "id": "2B7idcNvJfpM"
      }
    },
    {
      "cell_type": "code",
      "source": [
        "print(\"Krippendorff's alpha for nominal metric: \", krippendorff.alpha(reliability_data=corpus_transpose_int,\n",
        "                                                                          level_of_measurement=\"nominal\"))"
      ],
      "metadata": {
        "colab": {
          "base_uri": "https://localhost:8080/"
        },
        "id": "7z_ODit5Jipw",
        "outputId": "dc7578a2-b3ae-43a4-ebc0-50f9de3a4835"
      },
      "execution_count": 35,
      "outputs": [
        {
          "output_type": "stream",
          "name": "stdout",
          "text": [
            "Krippendorff's alpha for nominal metric:  0.6365409622886866\n"
          ]
        }
      ]
    }
  ]
}