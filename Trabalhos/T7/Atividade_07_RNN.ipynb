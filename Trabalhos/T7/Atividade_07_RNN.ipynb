{
  "nbformat": 4,
  "nbformat_minor": 0,
  "metadata": {
    "colab": {
      "provenance": [],
      "collapsed_sections": [],
      "include_colab_link": true
    },
    "kernelspec": {
      "name": "python3",
      "display_name": "Python 3"
    },
    "language_info": {
      "name": "python"
    }
  },
  "cells": [
    {
      "cell_type": "markdown",
      "metadata": {
        "id": "view-in-github",
        "colab_type": "text"
      },
      "source": [
        "<a href=\"https://colab.research.google.com/github/dudaholandah/NLP/blob/main/Trabalhos/T7/Atividade_07_RNN.ipynb\" target=\"_parent\"><img src=\"https://colab.research.google.com/assets/colab-badge.svg\" alt=\"Open In Colab\"/></a>"
      ]
    },
    {
      "cell_type": "markdown",
      "source": [
        "#Inferência de Linguagem Natural"
      ],
      "metadata": {
        "id": "ZicsanEjhFtF"
      }
    },
    {
      "cell_type": "markdown",
      "source": [
        "```\n",
        "Alunas:\n",
        "Maria Eduarda Holanda 190043725\n",
        "Tong Zhou 190038764\n",
        "```"
      ],
      "metadata": {
        "id": "noK5RyOgm1Ap"
      }
    },
    {
      "cell_type": "code",
      "execution_count": null,
      "metadata": {
        "id": "1PghlUOE6zVq"
      },
      "outputs": [],
      "source": [
        "!pip install -U keras\n",
        "!pip install tensorflow"
      ]
    },
    {
      "cell_type": "code",
      "source": [
        "!pip install tensorflow-datasets"
      ],
      "metadata": {
        "id": "I2BANZf6GW54"
      },
      "execution_count": null,
      "outputs": []
    },
    {
      "cell_type": "code",
      "source": [
        "import pandas as pd\n",
        "import numpy as np\n",
        "import tensorflow as tf\n",
        "import csv\n",
        "import os\n",
        "from keras.models import Sequential, Model\n",
        "from keras.layers import Dense,Activation, Input,SimpleRNN,Embedding,Dropout,GlobalMaxPooling1D,MaxPooling1D,Flatten,LSTM\n",
        "from tensorflow.keras.optimizers import SGD\n",
        "from tensorflow.keras.preprocessing.text import Tokenizer\n",
        "from tensorflow.keras.preprocessing.sequence import pad_sequences\n",
        "import tensorflow_datasets.public_api as tfds\n",
        "from keras.utils.np_utils import to_categorical\n",
        "from sklearn.feature_extraction.text import TfidfVectorizer\n",
        "from sklearn.metrics import classification_report\n",
        "import matplotlib.pyplot as plt"
      ],
      "metadata": {
        "id": "S3x2yE8162AN"
      },
      "execution_count": null,
      "outputs": []
    },
    {
      "cell_type": "markdown",
      "source": [
        "##Corpus SNLI"
      ],
      "metadata": {
        "id": "hH2cVVjehW4A"
      }
    },
    {
      "cell_type": "markdown",
      "source": [
        "Obs: Otimização de hiperparametros"
      ],
      "metadata": {
        "id": "uK__L2CJ9s_U"
      }
    },
    {
      "cell_type": "code",
      "source": [
        "ds_train = tfds.load('snli', split='train[:50%]', shuffle_files=True)\n",
        "ds_valid = tfds.load('snli', split='validation', shuffle_files=False)\n",
        "ds_test = tfds.load('snli', split='test', shuffle_files=False)\n",
        "ds_train"
      ],
      "metadata": {
        "colab": {
          "base_uri": "https://localhost:8080/"
        },
        "id": "FMA7NZHQD3vy",
        "outputId": "a813dc65-be8e-47b0-8bbd-6a72d772696e"
      },
      "execution_count": null,
      "outputs": [
        {
          "output_type": "execute_result",
          "data": {
            "text/plain": [
              "<PrefetchDataset element_spec={'hypothesis': TensorSpec(shape=(), dtype=tf.string, name=None), 'label': TensorSpec(shape=(), dtype=tf.int64, name=None), 'premise': TensorSpec(shape=(), dtype=tf.string, name=None)}>"
            ]
          },
          "metadata": {},
          "execution_count": 46
        }
      ]
    },
    {
      "cell_type": "code",
      "source": [
        "df_train = tfds.as_dataframe(ds_train)\n",
        "df_valid = tfds.as_dataframe(ds_valid)\n",
        "df_test = tfds.as_dataframe(ds_test)"
      ],
      "metadata": {
        "id": "jqpCYBbBJVj_"
      },
      "execution_count": null,
      "outputs": []
    },
    {
      "cell_type": "code",
      "source": [
        "df_test.head()"
      ],
      "metadata": {
        "colab": {
          "base_uri": "https://localhost:8080/",
          "height": 206
        },
        "id": "d6szVP5dJtVn",
        "outputId": "4dfacda1-496e-4ab3-90e3-4c6cf3155a96"
      },
      "execution_count": null,
      "outputs": [
        {
          "output_type": "execute_result",
          "data": {
            "text/plain": [
              "                                          hypothesis  label  \\\n",
              "0                 b'A girl is entertaining on stage'      0   \n",
              "1  b'A group of people posing in front of a body ...      0   \n",
              "2  b\"The group of people aren't inide of the buil...      0   \n",
              "3          b'The people are taking a carriage ride.'      0   \n",
              "4     b'Two girls are getting ready to ride horses.'      1   \n",
              "\n",
              "                                             premise  \n",
              "0  b'A girl in a blue leotard hula hoops on a sta...  \n",
              "1  b'A group of people taking pictures on a walkw...  \n",
              "2  b'Many people standing outside of a place talk...  \n",
              "3  b'Three people are riding a carriage pulled by...  \n",
              "4             b'Two girls feeding a horse an apple.'  "
            ],
            "text/html": [
              "\n",
              "  <div id=\"df-26b6c5ed-e7d9-4f49-8489-eb6c242bc0b9\">\n",
              "    <div class=\"colab-df-container\">\n",
              "      <div>\n",
              "<style scoped>\n",
              "    .dataframe tbody tr th:only-of-type {\n",
              "        vertical-align: middle;\n",
              "    }\n",
              "\n",
              "    .dataframe tbody tr th {\n",
              "        vertical-align: top;\n",
              "    }\n",
              "\n",
              "    .dataframe thead th {\n",
              "        text-align: right;\n",
              "    }\n",
              "</style>\n",
              "<table border=\"1\" class=\"dataframe\">\n",
              "  <thead>\n",
              "    <tr style=\"text-align: right;\">\n",
              "      <th></th>\n",
              "      <th>hypothesis</th>\n",
              "      <th>label</th>\n",
              "      <th>premise</th>\n",
              "    </tr>\n",
              "  </thead>\n",
              "  <tbody>\n",
              "    <tr>\n",
              "      <th>0</th>\n",
              "      <td>b'A girl is entertaining on stage'</td>\n",
              "      <td>0</td>\n",
              "      <td>b'A girl in a blue leotard hula hoops on a sta...</td>\n",
              "    </tr>\n",
              "    <tr>\n",
              "      <th>1</th>\n",
              "      <td>b'A group of people posing in front of a body ...</td>\n",
              "      <td>0</td>\n",
              "      <td>b'A group of people taking pictures on a walkw...</td>\n",
              "    </tr>\n",
              "    <tr>\n",
              "      <th>2</th>\n",
              "      <td>b\"The group of people aren't inide of the buil...</td>\n",
              "      <td>0</td>\n",
              "      <td>b'Many people standing outside of a place talk...</td>\n",
              "    </tr>\n",
              "    <tr>\n",
              "      <th>3</th>\n",
              "      <td>b'The people are taking a carriage ride.'</td>\n",
              "      <td>0</td>\n",
              "      <td>b'Three people are riding a carriage pulled by...</td>\n",
              "    </tr>\n",
              "    <tr>\n",
              "      <th>4</th>\n",
              "      <td>b'Two girls are getting ready to ride horses.'</td>\n",
              "      <td>1</td>\n",
              "      <td>b'Two girls feeding a horse an apple.'</td>\n",
              "    </tr>\n",
              "  </tbody>\n",
              "</table>\n",
              "</div>\n",
              "      <button class=\"colab-df-convert\" onclick=\"convertToInteractive('df-26b6c5ed-e7d9-4f49-8489-eb6c242bc0b9')\"\n",
              "              title=\"Convert this dataframe to an interactive table.\"\n",
              "              style=\"display:none;\">\n",
              "        \n",
              "  <svg xmlns=\"http://www.w3.org/2000/svg\" height=\"24px\"viewBox=\"0 0 24 24\"\n",
              "       width=\"24px\">\n",
              "    <path d=\"M0 0h24v24H0V0z\" fill=\"none\"/>\n",
              "    <path d=\"M18.56 5.44l.94 2.06.94-2.06 2.06-.94-2.06-.94-.94-2.06-.94 2.06-2.06.94zm-11 1L8.5 8.5l.94-2.06 2.06-.94-2.06-.94L8.5 2.5l-.94 2.06-2.06.94zm10 10l.94 2.06.94-2.06 2.06-.94-2.06-.94-.94-2.06-.94 2.06-2.06.94z\"/><path d=\"M17.41 7.96l-1.37-1.37c-.4-.4-.92-.59-1.43-.59-.52 0-1.04.2-1.43.59L10.3 9.45l-7.72 7.72c-.78.78-.78 2.05 0 2.83L4 21.41c.39.39.9.59 1.41.59.51 0 1.02-.2 1.41-.59l7.78-7.78 2.81-2.81c.8-.78.8-2.07 0-2.86zM5.41 20L4 18.59l7.72-7.72 1.47 1.35L5.41 20z\"/>\n",
              "  </svg>\n",
              "      </button>\n",
              "      \n",
              "  <style>\n",
              "    .colab-df-container {\n",
              "      display:flex;\n",
              "      flex-wrap:wrap;\n",
              "      gap: 12px;\n",
              "    }\n",
              "\n",
              "    .colab-df-convert {\n",
              "      background-color: #E8F0FE;\n",
              "      border: none;\n",
              "      border-radius: 50%;\n",
              "      cursor: pointer;\n",
              "      display: none;\n",
              "      fill: #1967D2;\n",
              "      height: 32px;\n",
              "      padding: 0 0 0 0;\n",
              "      width: 32px;\n",
              "    }\n",
              "\n",
              "    .colab-df-convert:hover {\n",
              "      background-color: #E2EBFA;\n",
              "      box-shadow: 0px 1px 2px rgba(60, 64, 67, 0.3), 0px 1px 3px 1px rgba(60, 64, 67, 0.15);\n",
              "      fill: #174EA6;\n",
              "    }\n",
              "\n",
              "    [theme=dark] .colab-df-convert {\n",
              "      background-color: #3B4455;\n",
              "      fill: #D2E3FC;\n",
              "    }\n",
              "\n",
              "    [theme=dark] .colab-df-convert:hover {\n",
              "      background-color: #434B5C;\n",
              "      box-shadow: 0px 1px 3px 1px rgba(0, 0, 0, 0.15);\n",
              "      filter: drop-shadow(0px 1px 2px rgba(0, 0, 0, 0.3));\n",
              "      fill: #FFFFFF;\n",
              "    }\n",
              "  </style>\n",
              "\n",
              "      <script>\n",
              "        const buttonEl =\n",
              "          document.querySelector('#df-26b6c5ed-e7d9-4f49-8489-eb6c242bc0b9 button.colab-df-convert');\n",
              "        buttonEl.style.display =\n",
              "          google.colab.kernel.accessAllowed ? 'block' : 'none';\n",
              "\n",
              "        async function convertToInteractive(key) {\n",
              "          const element = document.querySelector('#df-26b6c5ed-e7d9-4f49-8489-eb6c242bc0b9');\n",
              "          const dataTable =\n",
              "            await google.colab.kernel.invokeFunction('convertToInteractive',\n",
              "                                                     [key], {});\n",
              "          if (!dataTable) return;\n",
              "\n",
              "          const docLinkHtml = 'Like what you see? Visit the ' +\n",
              "            '<a target=\"_blank\" href=https://colab.research.google.com/notebooks/data_table.ipynb>data table notebook</a>'\n",
              "            + ' to learn more about interactive tables.';\n",
              "          element.innerHTML = '';\n",
              "          dataTable['output_type'] = 'display_data';\n",
              "          await google.colab.output.renderOutput(dataTable, element);\n",
              "          const docLink = document.createElement('div');\n",
              "          docLink.innerHTML = docLinkHtml;\n",
              "          element.appendChild(docLink);\n",
              "        }\n",
              "      </script>\n",
              "    </div>\n",
              "  </div>\n",
              "  "
            ]
          },
          "metadata": {},
          "execution_count": 48
        }
      ]
    },
    {
      "cell_type": "code",
      "source": [
        "df_train['hypothesis'] = [x.decode('utf-8') for x in df_train['hypothesis']] \n",
        "df_train['premise'] = [x.decode('utf-8') for x in df_train['premise']] \n",
        "\n",
        "df_valid['hypothesis'] = [x.decode('utf-8') for x in df_valid['hypothesis']] \n",
        "df_valid['premise'] = [x.decode('utf-8') for x in df_valid['premise']] \n",
        "\n",
        "df_test['hypothesis'] = [x.decode('utf-8') for x in df_test['hypothesis']] \n",
        "df_test['premise'] = [x.decode('utf-8') for x in df_test['premise']] "
      ],
      "metadata": {
        "id": "YRZ0sEuIPCl0"
      },
      "execution_count": null,
      "outputs": []
    },
    {
      "cell_type": "code",
      "source": [
        "df_test.head()"
      ],
      "metadata": {
        "colab": {
          "base_uri": "https://localhost:8080/",
          "height": 206
        },
        "id": "GR6IpLMa-HuV",
        "outputId": "2c49e7cf-4e95-4ae9-cf91-32d6f67fbc5c"
      },
      "execution_count": null,
      "outputs": [
        {
          "output_type": "execute_result",
          "data": {
            "text/plain": [
              "                                          hypothesis  label  \\\n",
              "0                    A girl is entertaining on stage      0   \n",
              "1  A group of people posing in front of a body of...      0   \n",
              "2  The group of people aren't inide of the building.      0   \n",
              "3             The people are taking a carriage ride.      0   \n",
              "4        Two girls are getting ready to ride horses.      1   \n",
              "\n",
              "                                             premise  \n",
              "0  A girl in a blue leotard hula hoops on a stage...  \n",
              "1  A group of people taking pictures on a walkway...  \n",
              "2  Many people standing outside of a place talkin...  \n",
              "3  Three people are riding a carriage pulled by f...  \n",
              "4                Two girls feeding a horse an apple.  "
            ],
            "text/html": [
              "\n",
              "  <div id=\"df-d91c81b1-c074-4252-add6-6e942f1aeef9\">\n",
              "    <div class=\"colab-df-container\">\n",
              "      <div>\n",
              "<style scoped>\n",
              "    .dataframe tbody tr th:only-of-type {\n",
              "        vertical-align: middle;\n",
              "    }\n",
              "\n",
              "    .dataframe tbody tr th {\n",
              "        vertical-align: top;\n",
              "    }\n",
              "\n",
              "    .dataframe thead th {\n",
              "        text-align: right;\n",
              "    }\n",
              "</style>\n",
              "<table border=\"1\" class=\"dataframe\">\n",
              "  <thead>\n",
              "    <tr style=\"text-align: right;\">\n",
              "      <th></th>\n",
              "      <th>hypothesis</th>\n",
              "      <th>label</th>\n",
              "      <th>premise</th>\n",
              "    </tr>\n",
              "  </thead>\n",
              "  <tbody>\n",
              "    <tr>\n",
              "      <th>0</th>\n",
              "      <td>A girl is entertaining on stage</td>\n",
              "      <td>0</td>\n",
              "      <td>A girl in a blue leotard hula hoops on a stage...</td>\n",
              "    </tr>\n",
              "    <tr>\n",
              "      <th>1</th>\n",
              "      <td>A group of people posing in front of a body of...</td>\n",
              "      <td>0</td>\n",
              "      <td>A group of people taking pictures on a walkway...</td>\n",
              "    </tr>\n",
              "    <tr>\n",
              "      <th>2</th>\n",
              "      <td>The group of people aren't inide of the building.</td>\n",
              "      <td>0</td>\n",
              "      <td>Many people standing outside of a place talkin...</td>\n",
              "    </tr>\n",
              "    <tr>\n",
              "      <th>3</th>\n",
              "      <td>The people are taking a carriage ride.</td>\n",
              "      <td>0</td>\n",
              "      <td>Three people are riding a carriage pulled by f...</td>\n",
              "    </tr>\n",
              "    <tr>\n",
              "      <th>4</th>\n",
              "      <td>Two girls are getting ready to ride horses.</td>\n",
              "      <td>1</td>\n",
              "      <td>Two girls feeding a horse an apple.</td>\n",
              "    </tr>\n",
              "  </tbody>\n",
              "</table>\n",
              "</div>\n",
              "      <button class=\"colab-df-convert\" onclick=\"convertToInteractive('df-d91c81b1-c074-4252-add6-6e942f1aeef9')\"\n",
              "              title=\"Convert this dataframe to an interactive table.\"\n",
              "              style=\"display:none;\">\n",
              "        \n",
              "  <svg xmlns=\"http://www.w3.org/2000/svg\" height=\"24px\"viewBox=\"0 0 24 24\"\n",
              "       width=\"24px\">\n",
              "    <path d=\"M0 0h24v24H0V0z\" fill=\"none\"/>\n",
              "    <path d=\"M18.56 5.44l.94 2.06.94-2.06 2.06-.94-2.06-.94-.94-2.06-.94 2.06-2.06.94zm-11 1L8.5 8.5l.94-2.06 2.06-.94-2.06-.94L8.5 2.5l-.94 2.06-2.06.94zm10 10l.94 2.06.94-2.06 2.06-.94-2.06-.94-.94-2.06-.94 2.06-2.06.94z\"/><path d=\"M17.41 7.96l-1.37-1.37c-.4-.4-.92-.59-1.43-.59-.52 0-1.04.2-1.43.59L10.3 9.45l-7.72 7.72c-.78.78-.78 2.05 0 2.83L4 21.41c.39.39.9.59 1.41.59.51 0 1.02-.2 1.41-.59l7.78-7.78 2.81-2.81c.8-.78.8-2.07 0-2.86zM5.41 20L4 18.59l7.72-7.72 1.47 1.35L5.41 20z\"/>\n",
              "  </svg>\n",
              "      </button>\n",
              "      \n",
              "  <style>\n",
              "    .colab-df-container {\n",
              "      display:flex;\n",
              "      flex-wrap:wrap;\n",
              "      gap: 12px;\n",
              "    }\n",
              "\n",
              "    .colab-df-convert {\n",
              "      background-color: #E8F0FE;\n",
              "      border: none;\n",
              "      border-radius: 50%;\n",
              "      cursor: pointer;\n",
              "      display: none;\n",
              "      fill: #1967D2;\n",
              "      height: 32px;\n",
              "      padding: 0 0 0 0;\n",
              "      width: 32px;\n",
              "    }\n",
              "\n",
              "    .colab-df-convert:hover {\n",
              "      background-color: #E2EBFA;\n",
              "      box-shadow: 0px 1px 2px rgba(60, 64, 67, 0.3), 0px 1px 3px 1px rgba(60, 64, 67, 0.15);\n",
              "      fill: #174EA6;\n",
              "    }\n",
              "\n",
              "    [theme=dark] .colab-df-convert {\n",
              "      background-color: #3B4455;\n",
              "      fill: #D2E3FC;\n",
              "    }\n",
              "\n",
              "    [theme=dark] .colab-df-convert:hover {\n",
              "      background-color: #434B5C;\n",
              "      box-shadow: 0px 1px 3px 1px rgba(0, 0, 0, 0.15);\n",
              "      filter: drop-shadow(0px 1px 2px rgba(0, 0, 0, 0.3));\n",
              "      fill: #FFFFFF;\n",
              "    }\n",
              "  </style>\n",
              "\n",
              "      <script>\n",
              "        const buttonEl =\n",
              "          document.querySelector('#df-d91c81b1-c074-4252-add6-6e942f1aeef9 button.colab-df-convert');\n",
              "        buttonEl.style.display =\n",
              "          google.colab.kernel.accessAllowed ? 'block' : 'none';\n",
              "\n",
              "        async function convertToInteractive(key) {\n",
              "          const element = document.querySelector('#df-d91c81b1-c074-4252-add6-6e942f1aeef9');\n",
              "          const dataTable =\n",
              "            await google.colab.kernel.invokeFunction('convertToInteractive',\n",
              "                                                     [key], {});\n",
              "          if (!dataTable) return;\n",
              "\n",
              "          const docLinkHtml = 'Like what you see? Visit the ' +\n",
              "            '<a target=\"_blank\" href=https://colab.research.google.com/notebooks/data_table.ipynb>data table notebook</a>'\n",
              "            + ' to learn more about interactive tables.';\n",
              "          element.innerHTML = '';\n",
              "          dataTable['output_type'] = 'display_data';\n",
              "          await google.colab.output.renderOutput(dataTable, element);\n",
              "          const docLink = document.createElement('div');\n",
              "          docLink.innerHTML = docLinkHtml;\n",
              "          element.appendChild(docLink);\n",
              "        }\n",
              "      </script>\n",
              "    </div>\n",
              "  </div>\n",
              "  "
            ]
          },
          "metadata": {},
          "execution_count": 50
        }
      ]
    },
    {
      "cell_type": "code",
      "source": [
        "df_train['label'] = pd.Categorical(df_train['label'])\n",
        "y_train_int = df_train['label'].cat.codes\n",
        "\n",
        "df_valid['label'] = pd.Categorical(df_valid['label'])\n",
        "y_valid_int = df_valid['label'].cat.codes\n",
        "\n",
        "df_test['label'] = pd.Categorical(df_test['label'])\n",
        "y_test_int = df_test['label'].cat.codes"
      ],
      "metadata": {
        "id": "e3o6YeIRFB_Z"
      },
      "execution_count": null,
      "outputs": []
    },
    {
      "cell_type": "code",
      "source": [
        "y_train = to_categorical(y_train_int)\n",
        "y_valid = to_categorical(y_valid_int)\n",
        "y_test = to_categorical(y_test_int)"
      ],
      "metadata": {
        "id": "GjXZ04QdLtI-"
      },
      "execution_count": null,
      "outputs": []
    },
    {
      "cell_type": "code",
      "source": [
        "train_tweets = df_train['premise'].to_list() + df_train['hypothesis'].to_list()\n",
        "\n",
        "vocabulary = {}\n",
        "\n",
        "for i in range(0,len(train_tweets)):\n",
        "    train_tweets[i] = train_tweets[i].lower()\n",
        "    for word in train_tweets[i].split():\n",
        "        if word not in vocabulary:\n",
        "            vocabulary[word] = 1\n",
        "        else:\n",
        "            vocabulary[word]+=1"
      ],
      "metadata": {
        "id": "AJgJvnEqNzNF"
      },
      "execution_count": null,
      "outputs": []
    },
    {
      "cell_type": "code",
      "source": [
        "vocab_size = len(vocabulary)"
      ],
      "metadata": {
        "id": "s6NV2FYxN4IM"
      },
      "execution_count": null,
      "outputs": []
    },
    {
      "cell_type": "code",
      "source": [
        "tokenizer = Tokenizer(num_words = vocab_size)\n",
        "tokenizer.fit_on_texts(df_train['hypothesis'] + df_train['premise'])"
      ],
      "metadata": {
        "id": "vE4XzAY_L-_e"
      },
      "execution_count": null,
      "outputs": []
    },
    {
      "cell_type": "code",
      "source": [
        "train_sequences = tokenizer.texts_to_sequences(df_train['hypothesis'] + df_train['premise'])"
      ],
      "metadata": {
        "id": "-uKwb5JL_kd5"
      },
      "execution_count": null,
      "outputs": []
    },
    {
      "cell_type": "markdown",
      "source": [
        "##Pós-processamento da numericalização"
      ],
      "metadata": {
        "id": "wTxh1P5cAxeo"
      }
    },
    {
      "cell_type": "code",
      "source": [
        "max_words = 105\n",
        "\n",
        "hist = {}\n",
        "\n",
        "hist['qtde'] = [x for x in range(0,max_words)]\n",
        "\n",
        "lista = [0]*(max_words)\n",
        "for x in train_sequences:\n",
        "    lista[len(x)]+=1\n",
        "\n",
        "hist['num tweets'] = lista"
      ],
      "metadata": {
        "id": "FNCn8X_Z_6o0"
      },
      "execution_count": null,
      "outputs": []
    },
    {
      "cell_type": "code",
      "source": [
        "fig = plt.figure(figsize = (10, 5))\n",
        " \n",
        "# creating the bar plot\n",
        "plt.bar(hist['qtde'],hist['num tweets'],\n",
        "        color ='blue')\n",
        " \n",
        "plt.xlabel(\"Number of words\")\n",
        "plt.ylabel(\"Number of tweets\")\n",
        "plt.title(\"Comparando a quantidade de palavras e a quantidade de tweets\")\n",
        "plt.show()"
      ],
      "metadata": {
        "colab": {
          "base_uri": "https://localhost:8080/",
          "height": 350
        },
        "id": "c7kRQt4JAi0B",
        "outputId": "719fb7d4-bbbc-4ebb-b4e7-40b6921b62ee"
      },
      "execution_count": null,
      "outputs": [
        {
          "output_type": "display_data",
          "data": {
            "text/plain": [
              "<Figure size 720x360 with 1 Axes>"
            ],
            "image/png": "[encoded data removed]"
          },
          "metadata": {
            "needs_background": "light"
          }
        }
      ]
    },
    {
      "cell_type": "markdown",
      "source": [
        "##RNN "
      ],
      "metadata": {
        "id": "aCGyMHD8hL01"
      }
    },
    {
      "cell_type": "code",
      "source": [
        "max_length = 60"
      ],
      "metadata": {
        "id": "8ltHssiQAs42"
      },
      "execution_count": null,
      "outputs": []
    },
    {
      "cell_type": "code",
      "source": [
        "trunc_type = 'post'\n",
        "padding_type = 'post'\n",
        "train_padded = pad_sequences(train_sequences,max_length, padding=padding_type, truncating=trunc_type)"
      ],
      "metadata": {
        "id": "o7U6E50nMIPl"
      },
      "execution_count": null,
      "outputs": []
    },
    {
      "cell_type": "code",
      "source": [
        "valid_sequences = tokenizer.texts_to_sequences(df_valid['hypothesis'] + df_valid['premise'])\n",
        "test_sequences = tokenizer.texts_to_sequences(df_test['hypothesis'] + df_test['premise'])\n",
        "\n",
        "valid_padded = pad_sequences(valid_sequences, maxlen=max_length, padding=padding_type, truncating=trunc_type)\n",
        "test_padded = pad_sequences(test_sequences, maxlen=max_length, padding=padding_type, truncating=trunc_type)"
      ],
      "metadata": {
        "id": "pEf_YTKcME8O"
      },
      "execution_count": null,
      "outputs": []
    },
    {
      "cell_type": "code",
      "source": [
        "model = Sequential()\n",
        "model.add(Embedding(vocab_size, output_dim = 64))\n",
        "model.add(SimpleRNN(128,return_sequences=True,activation='relu'))\n",
        "model.add(Dropout(0.5))\n",
        "model.add(SimpleRNN(64,activation='relu'))\n",
        "model.add(Dropout(0.5))\n",
        "model.add(Dense(4, activation=\"softmax\"))\n",
        "model.summary()"
      ],
      "metadata": {
        "colab": {
          "base_uri": "https://localhost:8080/"
        },
        "id": "aT0_7k6Y7Ztm",
        "outputId": "8403992c-5e2f-4f75-dc5b-4de5b01f2d54"
      },
      "execution_count": null,
      "outputs": [
        {
          "output_type": "stream",
          "name": "stdout",
          "text": [
            "Model: \"sequential_9\"\n",
            "_________________________________________________________________\n",
            " Layer (type)                Output Shape              Param #   \n",
            "=================================================================\n",
            " embedding_9 (Embedding)     (None, None, 64)          2904128   \n",
            "                                                                 \n",
            " simple_rnn_22 (SimpleRNN)   (None, None, 128)         24704     \n",
            "                                                                 \n",
            " dropout_18 (Dropout)        (None, None, 128)         0         \n",
            "                                                                 \n",
            " simple_rnn_23 (SimpleRNN)   (None, 64)                12352     \n",
            "                                                                 \n",
            " dropout_19 (Dropout)        (None, 64)                0         \n",
            "                                                                 \n",
            " dense_10 (Dense)            (None, 4)                 260       \n",
            "                                                                 \n",
            "=================================================================\n",
            "Total params: 2,941,444\n",
            "Trainable params: 2,941,444\n",
            "Non-trainable params: 0\n",
            "_________________________________________________________________\n"
          ]
        }
      ]
    },
    {
      "cell_type": "code",
      "source": [
        "#input1 = Input(shape=(3,1))\n",
        "#rnn_output = SimpleRNN(1,return_sequences= True, activation='relu')(input1)\n",
        "#model = Model(inputs=input1, outputs=rnn_output)\n",
        "\n",
        "#t = [0.4,0.6,0.3]\n",
        "#p = model.predict(array(t).reshape(1,3,1))\n",
        "#print(p)\n",
        "#model.summary()"
      ],
      "metadata": {
        "id": "I2pJQXuZOIo1",
        "colab": {
          "base_uri": "https://localhost:8080/"
        },
        "outputId": "6fe7cd80-5353-413a-b121-72bca713efd9"
      },
      "execution_count": null,
      "outputs": [
        {
          "output_type": "stream",
          "name": "stdout",
          "text": [
            "Model: \"model_5\"\n",
            "_________________________________________________________________\n",
            " Layer (type)                Output Shape              Param #   \n",
            "=================================================================\n",
            " input_7 (InputLayer)        [(None, 3, 1)]            0         \n",
            "                                                                 \n",
            " simple_rnn_17 (SimpleRNN)   (None, 3, 1)              3         \n",
            "                                                                 \n",
            "=================================================================\n",
            "Total params: 3\n",
            "Trainable params: 3\n",
            "Non-trainable params: 0\n",
            "_________________________________________________________________\n"
          ]
        }
      ]
    },
    {
      "cell_type": "code",
      "source": [
        "sgd = SGD(learning_rate=0.01)\n",
        "model.compile(loss=\"categorical_crossentropy\",optimizer=sgd,metrics=['accuracy'])\n",
        "history_fine = model.fit(train_padded,y_train,validation_data=(valid_padded,y_valid),epochs=10)"
      ],
      "metadata": {
        "id": "1pFOiwfNIPUv",
        "colab": {
          "base_uri": "https://localhost:8080/"
        },
        "outputId": "8b34d30d-6ed4-4792-a69f-4a2c64c9038b"
      },
      "execution_count": null,
      "outputs": [
        {
          "output_type": "stream",
          "name": "stdout",
          "text": [
            "Epoch 1/10\n",
            "8597/8597 [==============================] - 407s 47ms/step - loss: 1.1205 - accuracy: 0.3328 - val_loss: 1.1901 - val_accuracy: 0.3278\n",
            "Epoch 2/10\n",
            "8597/8597 [==============================] - 402s 47ms/step - loss: 1.1112 - accuracy: 0.3336 - val_loss: 1.1849 - val_accuracy: 0.3330\n",
            "Epoch 3/10\n",
            "8597/8597 [==============================] - 430s 50ms/step - loss: 1.1104 - accuracy: 0.3325 - val_loss: 1.1847 - val_accuracy: 0.3278\n",
            "Epoch 4/10\n",
            "8597/8597 [==============================] - 402s 47ms/step - loss: 1.1100 - accuracy: 0.3338 - val_loss: 1.1842 - val_accuracy: 0.3329\n",
            "Epoch 5/10\n",
            "8597/8597 [==============================] - 408s 47ms/step - loss: 1.1098 - accuracy: 0.3316 - val_loss: 1.1897 - val_accuracy: 0.3329\n",
            "Epoch 6/10\n",
            "8597/8597 [==============================] - 399s 46ms/step - loss: 1.1096 - accuracy: 0.3341 - val_loss: 1.1823 - val_accuracy: 0.3278\n",
            "Epoch 7/10\n",
            "8597/8597 [==============================] - 409s 48ms/step - loss: 1.1095 - accuracy: 0.3325 - val_loss: 1.1909 - val_accuracy: 0.3235\n",
            "Epoch 8/10\n",
            "8597/8597 [==============================] - 399s 46ms/step - loss: 1.1095 - accuracy: 0.3321 - val_loss: 1.1928 - val_accuracy: 0.3278\n",
            "Epoch 9/10\n",
            "8597/8597 [==============================] - 393s 46ms/step - loss: 1.1093 - accuracy: 0.3318 - val_loss: 1.1908 - val_accuracy: 0.3235\n",
            "Epoch 10/10\n",
            "8597/8597 [==============================] - 390s 45ms/step - loss: 1.1091 - accuracy: 0.3327 - val_loss: 1.1867 - val_accuracy: 0.3278\n"
          ]
        }
      ]
    },
    {
      "cell_type": "code",
      "source": [
        "plt.plot(history_fine.history['loss'])\n",
        "plt.plot(history_fine.history['val_loss'])\n",
        "plt.title('model loss')\n",
        "plt.ylabel('loss')\n",
        "plt.xlabel('epoch')\n",
        "plt.legend(['training set','validation set'], loc='upper left')\n",
        "plt.show()"
      ],
      "metadata": {
        "colab": {
          "base_uri": "https://localhost:8080/",
          "height": 295
        },
        "id": "pUk5k9UO6mUn",
        "outputId": "b20e313c-ce62-42cc-b676-acbffc776b15"
      },
      "execution_count": null,
      "outputs": [
        {
          "output_type": "display_data",
          "data": {
            "text/plain": [
              "<Figure size 432x288 with 1 Axes>"
            ],
            "image/png": "[encoded data removed]"
          },
          "metadata": {
            "needs_background": "light"
          }
        }
      ]
    },
    {
      "cell_type": "code",
      "source": [
        "plt.plot(history_fine.history['accuracy'])\n",
        "plt.plot(history_fine.history['val_accuracy'])\n",
        "plt.title('model accuracy')\n",
        "plt.ylabel('accuracy')\n",
        "plt.xlabel('epoch')\n",
        "plt.legend(['training set','validation set'], loc='upper left')\n",
        "plt.show()"
      ],
      "metadata": {
        "colab": {
          "base_uri": "https://localhost:8080/",
          "height": 295
        },
        "id": "fm4jQi-P6p8W",
        "outputId": "dc4d5439-2b17-4745-e6c1-3c98b68448ea"
      },
      "execution_count": null,
      "outputs": [
        {
          "output_type": "display_data",
          "data": {
            "text/plain": [
              "<Figure size 432x288 with 1 Axes>"
            ],
            "image/png": "[encoded data removed]"
          },
          "metadata": {
            "needs_background": "light"
          }
        }
      ]
    },
    {
      "cell_type": "code",
      "source": [
        "y_prob = model.predict(test_padded)\n",
        "y_pred = np.argmax(y_prob,axis=1)"
      ],
      "metadata": {
        "id": "GW0Stpml6rxp"
      },
      "execution_count": null,
      "outputs": []
    },
    {
      "cell_type": "code",
      "source": [
        "print(classification_report(y_test_int,y_pred))"
      ],
      "metadata": {
        "colab": {
          "base_uri": "https://localhost:8080/"
        },
        "id": "lN_sKyQo6tmv",
        "outputId": "de23ac50-2329-4f92-9961-79f5c624b44d"
      },
      "execution_count": null,
      "outputs": [
        {
          "output_type": "stream",
          "name": "stdout",
          "text": [
            "              precision    recall  f1-score   support\n",
            "\n",
            "           0       0.00      0.00      0.00       176\n",
            "           1       0.00      0.00      0.00      3368\n",
            "           2       0.00      0.00      0.00      3219\n",
            "           3       0.32      1.00      0.49      3237\n",
            "\n",
            "    accuracy                           0.32     10000\n",
            "   macro avg       0.08      0.25      0.12     10000\n",
            "weighted avg       0.10      0.32      0.16     10000\n",
            "\n"
          ]
        },
        {
          "output_type": "stream",
          "name": "stderr",
          "text": [
            "/usr/local/lib/python3.7/dist-packages/sklearn/metrics/_classification.py:1318: UndefinedMetricWarning: Precision and F-score are ill-defined and being set to 0.0 in labels with no predicted samples. Use `zero_division` parameter to control this behavior.\n",
            "  _warn_prf(average, modifier, msg_start, len(result))\n",
            "/usr/local/lib/python3.7/dist-packages/sklearn/metrics/_classification.py:1318: UndefinedMetricWarning: Precision and F-score are ill-defined and being set to 0.0 in labels with no predicted samples. Use `zero_division` parameter to control this behavior.\n",
            "  _warn_prf(average, modifier, msg_start, len(result))\n",
            "/usr/local/lib/python3.7/dist-packages/sklearn/metrics/_classification.py:1318: UndefinedMetricWarning: Precision and F-score are ill-defined and being set to 0.0 in labels with no predicted samples. Use `zero_division` parameter to control this behavior.\n",
            "  _warn_prf(average, modifier, msg_start, len(result))\n"
          ]
        }
      ]
    },
    {
      "cell_type": "markdown",
      "source": [
        "##LSTM"
      ],
      "metadata": {
        "id": "RQs07w3WhPtm"
      }
    },
    {
      "cell_type": "code",
      "source": [
        "model = Sequential()\n",
        "model.add(Embedding(vocab_size, output_dim=max_length, input_length=max_length))\n",
        "model.add(LSTM(32))\n",
        "model.add(Activation('relu'))\n",
        "model.add(Dense(4))\n",
        "model.add(Activation('softmax'))\n",
        "model.summary()"
      ],
      "metadata": {
        "colab": {
          "base_uri": "https://localhost:8080/"
        },
        "id": "54JYsEG2Z7yg",
        "outputId": "afef44bc-d57d-4551-aaf2-062731dbc19d"
      },
      "execution_count": null,
      "outputs": [
        {
          "output_type": "stream",
          "name": "stdout",
          "text": [
            "Model: \"sequential_10\"\n",
            "_________________________________________________________________\n",
            " Layer (type)                Output Shape              Param #   \n",
            "=================================================================\n",
            " embedding_10 (Embedding)    (None, 60, 60)            2722620   \n",
            "                                                                 \n",
            " lstm_2 (LSTM)               (None, 32)                11904     \n",
            "                                                                 \n",
            " activation_1 (Activation)   (None, 32)                0         \n",
            "                                                                 \n",
            " dense_11 (Dense)            (None, 4)                 132       \n",
            "                                                                 \n",
            " activation_2 (Activation)   (None, 4)                 0         \n",
            "                                                                 \n",
            "=================================================================\n",
            "Total params: 2,734,656\n",
            "Trainable params: 2,734,656\n",
            "Non-trainable params: 0\n",
            "_________________________________________________________________\n"
          ]
        }
      ]
    },
    {
      "cell_type": "code",
      "source": [
        "max_length = 40"
      ],
      "metadata": {
        "id": "Jbqz7NLXhA2K"
      },
      "execution_count": null,
      "outputs": []
    },
    {
      "cell_type": "code",
      "source": [
        "sgd = SGD(learning_rate=0.01)\n",
        "model.compile(loss=\"categorical_crossentropy\",optimizer=sgd,metrics=['accuracy'])\n",
        "history_fine = model.fit(train_padded,y_train,validation_data=(valid_padded,y_valid),epochs=10)"
      ],
      "metadata": {
        "id": "JhTWnuTemnIe"
      },
      "execution_count": null,
      "outputs": []
    },
    {
      "cell_type": "code",
      "source": [
        "#Keras Tuner\n",
        "#!pip install keras-tuner --upgrade"
      ],
      "metadata": {
        "id": "AJr11Q9y9sOk"
      },
      "execution_count": null,
      "outputs": []
    }
  ]
}