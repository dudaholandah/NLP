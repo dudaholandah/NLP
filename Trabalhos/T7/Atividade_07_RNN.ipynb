{
  "nbformat": 4,
  "nbformat_minor": 0,
  "metadata": {
    "colab": {
      "provenance": [],
      "collapsed_sections": [],
      "include_colab_link": true
    },
    "kernelspec": {
      "name": "python3",
      "display_name": "Python 3"
    },
    "language_info": {
      "name": "python"
    }
  },
  "cells": [
    {
      "cell_type": "markdown",
      "metadata": {
        "id": "view-in-github",
        "colab_type": "text"
      },
      "source": [
        "<a href=\"https://colab.research.google.com/github/dudaholandah/NLP/blob/main/Trabalhos/T7/Atividade_07_RNN.ipynb\" target=\"_parent\"><img src=\"https://colab.research.google.com/assets/colab-badge.svg\" alt=\"Open In Colab\"/></a>"
      ]
    },
    {
      "cell_type": "markdown",
      "source": [
        "#Inferência de Linguagem Natural"
      ],
      "metadata": {
        "id": "ZicsanEjhFtF"
      }
    },
    {
      "cell_type": "markdown",
      "source": [
        "```\n",
        "Alunas:\n",
        "Maria Eduarda Holanda 190043725\n",
        "Tong Zhou 190038764\n",
        "```"
      ],
      "metadata": {
        "id": "noK5RyOgm1Ap"
      }
    },
    {
      "cell_type": "markdown",
      "source": [
        "## Imports"
      ],
      "metadata": {
        "id": "Jt8mqyXZL6ux"
      }
    },
    {
      "cell_type": "code",
      "execution_count": null,
      "metadata": {
        "id": "1PghlUOE6zVq"
      },
      "outputs": [],
      "source": [
        "!pip install -U keras\n",
        "!pip install tensorflow"
      ]
    },
    {
      "cell_type": "code",
      "source": [
        "!pip install tensorflow-datasets"
      ],
      "metadata": {
        "id": "I2BANZf6GW54"
      },
      "execution_count": 2,
      "outputs": []
    },
    {
      "cell_type": "code",
      "source": [
        "import pandas as pd\n",
        "import numpy as np\n",
        "import tensorflow as tf\n",
        "import csv\n",
        "import os\n",
        "from keras.models import Sequential, Model\n",
        "from keras.layers import Dense,Activation, Input,SimpleRNN,Embedding,Dropout,GlobalMaxPooling1D,MaxPooling1D,Flatten,LSTM\n",
        "from tensorflow.keras.optimizers import SGD\n",
        "from tensorflow.keras.preprocessing.text import Tokenizer\n",
        "from tensorflow.keras.preprocessing.sequence import pad_sequences\n",
        "import tensorflow_datasets.public_api as tfds\n",
        "from keras.utils.np_utils import to_categorical\n",
        "from sklearn.feature_extraction.text import TfidfVectorizer\n",
        "from sklearn.metrics import classification_report\n",
        "import matplotlib.pyplot as plt"
      ],
      "metadata": {
        "id": "S3x2yE8162AN"
      },
      "execution_count": 3,
      "outputs": []
    },
    {
      "cell_type": "markdown",
      "source": [
        "##Corpus SNLI"
      ],
      "metadata": {
        "id": "hH2cVVjehW4A"
      }
    },
    {
      "cell_type": "markdown",
      "source": [
        "Obs: Otimização de hiperparametros"
      ],
      "metadata": {
        "id": "uK__L2CJ9s_U"
      }
    },
    {
      "cell_type": "code",
      "source": [
        "ds_train = tfds.load('snli', split='train[:50%]', shuffle_files=True)\n",
        "ds_valid = tfds.load('snli', split='validation', shuffle_files=False)\n",
        "ds_test = tfds.load('snli', split='test', shuffle_files=False)\n",
        "ds_train"
      ],
      "metadata": {
        "id": "FMA7NZHQD3vy"
      },
      "execution_count": null,
      "outputs": []
    },
    {
      "cell_type": "code",
      "source": [
        "df_train = tfds.as_dataframe(ds_train)\n",
        "df_valid = tfds.as_dataframe(ds_valid)\n",
        "df_test = tfds.as_dataframe(ds_test)"
      ],
      "metadata": {
        "id": "jqpCYBbBJVj_"
      },
      "execution_count": 5,
      "outputs": []
    },
    {
      "cell_type": "code",
      "source": [
        "df_train['hypothesis'] = [x.decode('utf-8') for x in df_train['hypothesis']] \n",
        "df_train['premise'] = [x.decode('utf-8') for x in df_train['premise']] \n",
        "\n",
        "df_valid['hypothesis'] = [x.decode('utf-8') for x in df_valid['hypothesis']] \n",
        "df_valid['premise'] = [x.decode('utf-8') for x in df_valid['premise']] \n",
        "\n",
        "df_test['hypothesis'] = [x.decode('utf-8') for x in df_test['hypothesis']] \n",
        "df_test['premise'] = [x.decode('utf-8') for x in df_test['premise']] "
      ],
      "metadata": {
        "id": "YRZ0sEuIPCl0"
      },
      "execution_count": 6,
      "outputs": []
    },
    {
      "cell_type": "code",
      "source": [
        "df_test.head()"
      ],
      "metadata": {
        "colab": {
          "base_uri": "https://localhost:8080/",
          "height": 206
        },
        "id": "GR6IpLMa-HuV",
        "outputId": "965c33b2-a9d9-4ebe-d8d8-6f1bd862f6c0"
      },
      "execution_count": 7,
      "outputs": [
        {
          "output_type": "execute_result",
          "data": {
            "text/plain": [
              "                                          hypothesis  label  \\\n",
              "0                    A girl is entertaining on stage      0   \n",
              "1  A group of people posing in front of a body of...      0   \n",
              "2  The group of people aren't inide of the building.      0   \n",
              "3             The people are taking a carriage ride.      0   \n",
              "4        Two girls are getting ready to ride horses.      1   \n",
              "\n",
              "                                             premise  \n",
              "0  A girl in a blue leotard hula hoops on a stage...  \n",
              "1  A group of people taking pictures on a walkway...  \n",
              "2  Many people standing outside of a place talkin...  \n",
              "3  Three people are riding a carriage pulled by f...  \n",
              "4                Two girls feeding a horse an apple.  "
            ],
            "text/html": [
              "\n",
              "  <div id=\"df-d8777ea9-3eb5-49e5-885c-a0f7a46c3359\">\n",
              "    <div class=\"colab-df-container\">\n",
              "      <div>\n",
              "<style scoped>\n",
              "    .dataframe tbody tr th:only-of-type {\n",
              "        vertical-align: middle;\n",
              "    }\n",
              "\n",
              "    .dataframe tbody tr th {\n",
              "        vertical-align: top;\n",
              "    }\n",
              "\n",
              "    .dataframe thead th {\n",
              "        text-align: right;\n",
              "    }\n",
              "</style>\n",
              "<table border=\"1\" class=\"dataframe\">\n",
              "  <thead>\n",
              "    <tr style=\"text-align: right;\">\n",
              "      <th></th>\n",
              "      <th>hypothesis</th>\n",
              "      <th>label</th>\n",
              "      <th>premise</th>\n",
              "    </tr>\n",
              "  </thead>\n",
              "  <tbody>\n",
              "    <tr>\n",
              "      <th>0</th>\n",
              "      <td>A girl is entertaining on stage</td>\n",
              "      <td>0</td>\n",
              "      <td>A girl in a blue leotard hula hoops on a stage...</td>\n",
              "    </tr>\n",
              "    <tr>\n",
              "      <th>1</th>\n",
              "      <td>A group of people posing in front of a body of...</td>\n",
              "      <td>0</td>\n",
              "      <td>A group of people taking pictures on a walkway...</td>\n",
              "    </tr>\n",
              "    <tr>\n",
              "      <th>2</th>\n",
              "      <td>The group of people aren't inide of the building.</td>\n",
              "      <td>0</td>\n",
              "      <td>Many people standing outside of a place talkin...</td>\n",
              "    </tr>\n",
              "    <tr>\n",
              "      <th>3</th>\n",
              "      <td>The people are taking a carriage ride.</td>\n",
              "      <td>0</td>\n",
              "      <td>Three people are riding a carriage pulled by f...</td>\n",
              "    </tr>\n",
              "    <tr>\n",
              "      <th>4</th>\n",
              "      <td>Two girls are getting ready to ride horses.</td>\n",
              "      <td>1</td>\n",
              "      <td>Two girls feeding a horse an apple.</td>\n",
              "    </tr>\n",
              "  </tbody>\n",
              "</table>\n",
              "</div>\n",
              "      <button class=\"colab-df-convert\" onclick=\"convertToInteractive('df-d8777ea9-3eb5-49e5-885c-a0f7a46c3359')\"\n",
              "              title=\"Convert this dataframe to an interactive table.\"\n",
              "              style=\"display:none;\">\n",
              "        \n",
              "  <svg xmlns=\"http://www.w3.org/2000/svg\" height=\"24px\"viewBox=\"0 0 24 24\"\n",
              "       width=\"24px\">\n",
              "    <path d=\"M0 0h24v24H0V0z\" fill=\"none\"/>\n",
              "    <path d=\"M18.56 5.44l.94 2.06.94-2.06 2.06-.94-2.06-.94-.94-2.06-.94 2.06-2.06.94zm-11 1L8.5 8.5l.94-2.06 2.06-.94-2.06-.94L8.5 2.5l-.94 2.06-2.06.94zm10 10l.94 2.06.94-2.06 2.06-.94-2.06-.94-.94-2.06-.94 2.06-2.06.94z\"/><path d=\"M17.41 7.96l-1.37-1.37c-.4-.4-.92-.59-1.43-.59-.52 0-1.04.2-1.43.59L10.3 9.45l-7.72 7.72c-.78.78-.78 2.05 0 2.83L4 21.41c.39.39.9.59 1.41.59.51 0 1.02-.2 1.41-.59l7.78-7.78 2.81-2.81c.8-.78.8-2.07 0-2.86zM5.41 20L4 18.59l7.72-7.72 1.47 1.35L5.41 20z\"/>\n",
              "  </svg>\n",
              "      </button>\n",
              "      \n",
              "  <style>\n",
              "    .colab-df-container {\n",
              "      display:flex;\n",
              "      flex-wrap:wrap;\n",
              "      gap: 12px;\n",
              "    }\n",
              "\n",
              "    .colab-df-convert {\n",
              "      background-color: #E8F0FE;\n",
              "      border: none;\n",
              "      border-radius: 50%;\n",
              "      cursor: pointer;\n",
              "      display: none;\n",
              "      fill: #1967D2;\n",
              "      height: 32px;\n",
              "      padding: 0 0 0 0;\n",
              "      width: 32px;\n",
              "    }\n",
              "\n",
              "    .colab-df-convert:hover {\n",
              "      background-color: #E2EBFA;\n",
              "      box-shadow: 0px 1px 2px rgba(60, 64, 67, 0.3), 0px 1px 3px 1px rgba(60, 64, 67, 0.15);\n",
              "      fill: #174EA6;\n",
              "    }\n",
              "\n",
              "    [theme=dark] .colab-df-convert {\n",
              "      background-color: #3B4455;\n",
              "      fill: #D2E3FC;\n",
              "    }\n",
              "\n",
              "    [theme=dark] .colab-df-convert:hover {\n",
              "      background-color: #434B5C;\n",
              "      box-shadow: 0px 1px 3px 1px rgba(0, 0, 0, 0.15);\n",
              "      filter: drop-shadow(0px 1px 2px rgba(0, 0, 0, 0.3));\n",
              "      fill: #FFFFFF;\n",
              "    }\n",
              "  </style>\n",
              "\n",
              "      <script>\n",
              "        const buttonEl =\n",
              "          document.querySelector('#df-d8777ea9-3eb5-49e5-885c-a0f7a46c3359 button.colab-df-convert');\n",
              "        buttonEl.style.display =\n",
              "          google.colab.kernel.accessAllowed ? 'block' : 'none';\n",
              "\n",
              "        async function convertToInteractive(key) {\n",
              "          const element = document.querySelector('#df-d8777ea9-3eb5-49e5-885c-a0f7a46c3359');\n",
              "          const dataTable =\n",
              "            await google.colab.kernel.invokeFunction('convertToInteractive',\n",
              "                                                     [key], {});\n",
              "          if (!dataTable) return;\n",
              "\n",
              "          const docLinkHtml = 'Like what you see? Visit the ' +\n",
              "            '<a target=\"_blank\" href=https://colab.research.google.com/notebooks/data_table.ipynb>data table notebook</a>'\n",
              "            + ' to learn more about interactive tables.';\n",
              "          element.innerHTML = '';\n",
              "          dataTable['output_type'] = 'display_data';\n",
              "          await google.colab.output.renderOutput(dataTable, element);\n",
              "          const docLink = document.createElement('div');\n",
              "          docLink.innerHTML = docLinkHtml;\n",
              "          element.appendChild(docLink);\n",
              "        }\n",
              "      </script>\n",
              "    </div>\n",
              "  </div>\n",
              "  "
            ]
          },
          "metadata": {},
          "execution_count": 7
        }
      ]
    },
    {
      "cell_type": "code",
      "source": [
        "df_train['label'] = pd.Categorical(df_train['label'])\n",
        "y_train_int = df_train['label'].cat.codes\n",
        "\n",
        "df_valid['label'] = pd.Categorical(df_valid['label'])\n",
        "y_valid_int = df_valid['label'].cat.codes\n",
        "\n",
        "df_test['label'] = pd.Categorical(df_test['label'])\n",
        "y_test_int = df_test['label'].cat.codes"
      ],
      "metadata": {
        "id": "e3o6YeIRFB_Z"
      },
      "execution_count": 8,
      "outputs": []
    },
    {
      "cell_type": "code",
      "source": [
        "y_train = to_categorical(y_train_int)\n",
        "y_valid = to_categorical(y_valid_int)\n",
        "y_test = to_categorical(y_test_int)"
      ],
      "metadata": {
        "id": "GjXZ04QdLtI-"
      },
      "execution_count": 9,
      "outputs": []
    },
    {
      "cell_type": "code",
      "source": [
        "train_tweets = df_train['premise'].to_list() + df_train['hypothesis'].to_list()\n",
        "\n",
        "vocabulary = {}\n",
        "\n",
        "for i in range(0,len(train_tweets)):\n",
        "    train_tweets[i] = train_tweets[i].lower()\n",
        "    for word in train_tweets[i].split():\n",
        "        if word not in vocabulary:\n",
        "            vocabulary[word] = 1\n",
        "        else:\n",
        "            vocabulary[word]+=1"
      ],
      "metadata": {
        "id": "AJgJvnEqNzNF"
      },
      "execution_count": 10,
      "outputs": []
    },
    {
      "cell_type": "code",
      "source": [
        "vocab_size = len(vocabulary)"
      ],
      "metadata": {
        "id": "s6NV2FYxN4IM"
      },
      "execution_count": 12,
      "outputs": []
    },
    {
      "cell_type": "code",
      "source": [
        "tokenizer = Tokenizer(num_words = vocab_size)\n",
        "tokenizer.fit_on_texts(df_train['hypothesis'] + df_train['premise'])"
      ],
      "metadata": {
        "id": "vE4XzAY_L-_e"
      },
      "execution_count": 13,
      "outputs": []
    },
    {
      "cell_type": "code",
      "source": [
        "train_sequences = tokenizer.texts_to_sequences(df_train['hypothesis'] + df_train['premise'])"
      ],
      "metadata": {
        "id": "-uKwb5JL_kd5"
      },
      "execution_count": 14,
      "outputs": []
    },
    {
      "cell_type": "code",
      "source": [
        "train_sequences = train_sequences[:10000]\n",
        "y_train = y_train[:10000]"
      ],
      "metadata": {
        "id": "7CvAIthaNw4a"
      },
      "execution_count": 26,
      "outputs": []
    },
    {
      "cell_type": "markdown",
      "source": [
        "##Pós-processamento da numericalização"
      ],
      "metadata": {
        "id": "wTxh1P5cAxeo"
      }
    },
    {
      "cell_type": "code",
      "source": [
        "max_words = 105\n",
        "\n",
        "hist = {}\n",
        "\n",
        "hist['qtde'] = [x for x in range(0,max_words)]\n",
        "\n",
        "lista = [0]*(max_words)\n",
        "for x in train_sequences:\n",
        "    lista[len(x)]+=1\n",
        "\n",
        "hist['num tweets'] = lista"
      ],
      "metadata": {
        "id": "FNCn8X_Z_6o0"
      },
      "execution_count": 19,
      "outputs": []
    },
    {
      "cell_type": "code",
      "source": [
        "fig = plt.figure(figsize = (10, 5))\n",
        " \n",
        "# creating the bar plot\n",
        "plt.bar(hist['qtde'],hist['num tweets'],\n",
        "        color ='blue')\n",
        " \n",
        "plt.xlabel(\"Number of words\")\n",
        "plt.ylabel(\"Number of tweets\")\n",
        "plt.title(\"Comparando a quantidade de palavras e a quantidade de tweets\")\n",
        "plt.show()"
      ],
      "metadata": {
        "colab": {
          "base_uri": "https://localhost:8080/",
          "height": 350
        },
        "id": "c7kRQt4JAi0B",
        "outputId": "3ad48bae-e15c-436e-ea73-965a02c7c4cb"
      },
      "execution_count": 20,
      "outputs": [
        {
          "output_type": "display_data",
          "data": {
            "text/plain": [
              "<Figure size 720x360 with 1 Axes>"
            ],
            "image/png": "[encoded data removed]"
          },
          "metadata": {
            "needs_background": "light"
          }
        }
      ]
    },
    {
      "cell_type": "markdown",
      "source": [
        "##RNN "
      ],
      "metadata": {
        "id": "aCGyMHD8hL01"
      }
    },
    {
      "cell_type": "code",
      "source": [
        "max_length = 40"
      ],
      "metadata": {
        "id": "8ltHssiQAs42"
      },
      "execution_count": 21,
      "outputs": []
    },
    {
      "cell_type": "code",
      "source": [
        "trunc_type = 'post'\n",
        "padding_type = 'post'\n",
        "train_padded = pad_sequences(train_sequences,max_length, padding=padding_type, truncating=trunc_type)"
      ],
      "metadata": {
        "id": "o7U6E50nMIPl"
      },
      "execution_count": 22,
      "outputs": []
    },
    {
      "cell_type": "code",
      "source": [
        "valid_sequences = tokenizer.texts_to_sequences(df_valid['hypothesis'] + df_valid['premise'])\n",
        "test_sequences = tokenizer.texts_to_sequences(df_test['hypothesis'] + df_test['premise'])\n",
        "\n",
        "valid_padded = pad_sequences(valid_sequences, maxlen=max_length, padding=padding_type, truncating=trunc_type)\n",
        "test_padded = pad_sequences(test_sequences, maxlen=max_length, padding=padding_type, truncating=trunc_type)"
      ],
      "metadata": {
        "id": "pEf_YTKcME8O"
      },
      "execution_count": 23,
      "outputs": []
    },
    {
      "cell_type": "code",
      "source": [
        "model = Sequential()\n",
        "model.add(Embedding(vocab_size, output_dim = 64))\n",
        "model.add(SimpleRNN(128,return_sequences=True,activation='relu'))\n",
        "model.add(Dropout(0.5))\n",
        "model.add(SimpleRNN(64,activation='relu'))\n",
        "model.add(Dropout(0.5))\n",
        "model.add(Dense(4, activation=\"softmax\"))\n",
        "model.summary()"
      ],
      "metadata": {
        "colab": {
          "base_uri": "https://localhost:8080/"
        },
        "id": "aT0_7k6Y7Ztm",
        "outputId": "b408e8d1-799f-4a1c-9393-4beb2d0cf68b"
      },
      "execution_count": 24,
      "outputs": [
        {
          "output_type": "stream",
          "name": "stdout",
          "text": [
            "Model: \"sequential\"\n",
            "_________________________________________________________________\n",
            " Layer (type)                Output Shape              Param #   \n",
            "=================================================================\n",
            " embedding (Embedding)       (None, None, 64)          2904128   \n",
            "                                                                 \n",
            " simple_rnn (SimpleRNN)      (None, None, 128)         24704     \n",
            "                                                                 \n",
            " dropout (Dropout)           (None, None, 128)         0         \n",
            "                                                                 \n",
            " simple_rnn_1 (SimpleRNN)    (None, 64)                12352     \n",
            "                                                                 \n",
            " dropout_1 (Dropout)         (None, 64)                0         \n",
            "                                                                 \n",
            " dense (Dense)               (None, 4)                 260       \n",
            "                                                                 \n",
            "=================================================================\n",
            "Total params: 2,941,444\n",
            "Trainable params: 2,941,444\n",
            "Non-trainable params: 0\n",
            "_________________________________________________________________\n"
          ]
        }
      ]
    },
    {
      "cell_type": "code",
      "source": [
        "sgd = SGD(learning_rate=0.05)\n",
        "model.compile(loss=\"categorical_crossentropy\",optimizer=sgd,metrics=['accuracy'])\n",
        "history_fine = model.fit(train_padded,y_train,validation_data=(valid_padded,y_valid),epochs=30)"
      ],
      "metadata": {
        "id": "1pFOiwfNIPUv",
        "colab": {
          "base_uri": "https://localhost:8080/"
        },
        "outputId": "e2647be1-833d-4476-8669-b9f0ed1b14a8"
      },
      "execution_count": 28,
      "outputs": [
        {
          "output_type": "stream",
          "name": "stdout",
          "text": [
            "Epoch 1/30\n",
            "313/313 [==============================] - 19s 52ms/step - loss: 1.1320 - accuracy: 0.3300 - val_loss: 1.1726 - val_accuracy: 0.3332\n",
            "Epoch 2/30\n",
            "313/313 [==============================] - 14s 45ms/step - loss: 1.1178 - accuracy: 0.3332 - val_loss: 1.1995 - val_accuracy: 0.3235\n",
            "Epoch 3/30\n",
            "313/313 [==============================] - 14s 45ms/step - loss: 1.1158 - accuracy: 0.3271 - val_loss: 1.1828 - val_accuracy: 0.3235\n",
            "Epoch 4/30\n",
            "313/313 [==============================] - 14s 44ms/step - loss: 1.1147 - accuracy: 0.3304 - val_loss: 1.1842 - val_accuracy: 0.3328\n",
            "Epoch 5/30\n",
            "313/313 [==============================] - 16s 52ms/step - loss: 1.1139 - accuracy: 0.3346 - val_loss: 1.1743 - val_accuracy: 0.3329\n",
            "Epoch 6/30\n",
            "313/313 [==============================] - 14s 45ms/step - loss: 1.1136 - accuracy: 0.3277 - val_loss: 1.1929 - val_accuracy: 0.3278\n",
            "Epoch 7/30\n",
            "313/313 [==============================] - 15s 46ms/step - loss: 1.1116 - accuracy: 0.3360 - val_loss: 1.1879 - val_accuracy: 0.3235\n",
            "Epoch 8/30\n",
            "313/313 [==============================] - 15s 49ms/step - loss: 1.1139 - accuracy: 0.3289 - val_loss: 1.1805 - val_accuracy: 0.3278\n",
            "Epoch 9/30\n",
            "313/313 [==============================] - 14s 45ms/step - loss: 1.1115 - accuracy: 0.3430 - val_loss: 1.1842 - val_accuracy: 0.3278\n",
            "Epoch 10/30\n",
            "313/313 [==============================] - 14s 44ms/step - loss: 1.1122 - accuracy: 0.3345 - val_loss: 1.1779 - val_accuracy: 0.3329\n",
            "Epoch 11/30\n",
            "313/313 [==============================] - 14s 44ms/step - loss: 1.1126 - accuracy: 0.3320 - val_loss: 1.1781 - val_accuracy: 0.3329\n",
            "Epoch 12/30\n",
            "313/313 [==============================] - 14s 44ms/step - loss: 1.1119 - accuracy: 0.3324 - val_loss: 1.1745 - val_accuracy: 0.3329\n",
            "Epoch 13/30\n",
            "313/313 [==============================] - 14s 44ms/step - loss: 1.1120 - accuracy: 0.3299 - val_loss: 1.1803 - val_accuracy: 0.3278\n",
            "Epoch 14/30\n",
            "313/313 [==============================] - 17s 53ms/step - loss: 1.1113 - accuracy: 0.3346 - val_loss: 1.1843 - val_accuracy: 0.3329\n",
            "Epoch 15/30\n",
            "313/313 [==============================] - 15s 47ms/step - loss: 1.1117 - accuracy: 0.3337 - val_loss: 1.1814 - val_accuracy: 0.3329\n",
            "Epoch 16/30\n",
            "313/313 [==============================] - 14s 45ms/step - loss: 1.1111 - accuracy: 0.3378 - val_loss: 1.1761 - val_accuracy: 0.3329\n",
            "Epoch 17/30\n",
            "313/313 [==============================] - 14s 44ms/step - loss: 1.1111 - accuracy: 0.3352 - val_loss: 1.1818 - val_accuracy: 0.3278\n",
            "Epoch 18/30\n",
            "313/313 [==============================] - 17s 54ms/step - loss: 1.1111 - accuracy: 0.3428 - val_loss: 1.1967 - val_accuracy: 0.3278\n",
            "Epoch 19/30\n",
            "313/313 [==============================] - 14s 45ms/step - loss: 1.1115 - accuracy: 0.3373 - val_loss: 1.1817 - val_accuracy: 0.3278\n",
            "Epoch 20/30\n",
            "313/313 [==============================] - 14s 44ms/step - loss: 1.1120 - accuracy: 0.3306 - val_loss: 1.1774 - val_accuracy: 0.3329\n",
            "Epoch 21/30\n",
            "313/313 [==============================] - 14s 44ms/step - loss: 1.1110 - accuracy: 0.3390 - val_loss: 1.1826 - val_accuracy: 0.3235\n",
            "Epoch 22/30\n",
            "313/313 [==============================] - 14s 45ms/step - loss: 1.1119 - accuracy: 0.3301 - val_loss: 1.1827 - val_accuracy: 0.3278\n",
            "Epoch 23/30\n",
            "313/313 [==============================] - 14s 44ms/step - loss: 1.1122 - accuracy: 0.3335 - val_loss: 1.1793 - val_accuracy: 0.3235\n",
            "Epoch 24/30\n",
            "313/313 [==============================] - 14s 45ms/step - loss: 1.1111 - accuracy: 0.3274 - val_loss: 1.1830 - val_accuracy: 0.3235\n",
            "Epoch 25/30\n",
            "313/313 [==============================] - 14s 45ms/step - loss: 1.1103 - accuracy: 0.3325 - val_loss: 1.1884 - val_accuracy: 0.3329\n",
            "Epoch 26/30\n",
            "313/313 [==============================] - 14s 46ms/step - loss: 1.1099 - accuracy: 0.3357 - val_loss: 1.1867 - val_accuracy: 0.3329\n",
            "Epoch 27/30\n",
            "313/313 [==============================] - 14s 45ms/step - loss: 1.1113 - accuracy: 0.3288 - val_loss: 1.1878 - val_accuracy: 0.3235\n",
            "Epoch 28/30\n",
            "313/313 [==============================] - 14s 44ms/step - loss: 1.1113 - accuracy: 0.3328 - val_loss: 1.1774 - val_accuracy: 0.3329\n",
            "Epoch 29/30\n",
            "313/313 [==============================] - 14s 44ms/step - loss: 1.1106 - accuracy: 0.3316 - val_loss: 1.1824 - val_accuracy: 0.3329\n",
            "Epoch 30/30\n",
            "313/313 [==============================] - 14s 45ms/step - loss: 1.1107 - accuracy: 0.3398 - val_loss: 1.1825 - val_accuracy: 0.3329\n"
          ]
        }
      ]
    },
    {
      "cell_type": "code",
      "source": [
        "plt.plot(history_fine.history['loss'])\n",
        "plt.plot(history_fine.history['val_loss'])\n",
        "plt.title('model loss')\n",
        "plt.ylabel('loss')\n",
        "plt.xlabel('epoch')\n",
        "plt.legend(['training set','validation set'], loc='upper left')\n",
        "plt.show()"
      ],
      "metadata": {
        "colab": {
          "base_uri": "https://localhost:8080/",
          "height": 295
        },
        "id": "pUk5k9UO6mUn",
        "outputId": "28e8ded2-c3aa-409b-d170-da99bcf8bb48"
      },
      "execution_count": 29,
      "outputs": [
        {
          "output_type": "display_data",
          "data": {
            "text/plain": [
              "<Figure size 432x288 with 1 Axes>"
            ],
            "image/png": "[encoded data removed]"
          },
          "metadata": {
            "needs_background": "light"
          }
        }
      ]
    },
    {
      "cell_type": "code",
      "source": [
        "plt.plot(history_fine.history['accuracy'])\n",
        "plt.plot(history_fine.history['val_accuracy'])\n",
        "plt.title('model accuracy')\n",
        "plt.ylabel('accuracy')\n",
        "plt.xlabel('epoch')\n",
        "plt.legend(['training set','validation set'], loc='upper left')\n",
        "plt.show()"
      ],
      "metadata": {
        "colab": {
          "base_uri": "https://localhost:8080/",
          "height": 295
        },
        "id": "fm4jQi-P6p8W",
        "outputId": "345d34ca-1151-49c8-ad6f-2c0accd814bd"
      },
      "execution_count": 30,
      "outputs": [
        {
          "output_type": "display_data",
          "data": {
            "text/plain": [
              "<Figure size 432x288 with 1 Axes>"
            ],
            "image/png": "[encoded data removed]"
          },
          "metadata": {
            "needs_background": "light"
          }
        }
      ]
    },
    {
      "cell_type": "code",
      "source": [
        "y_prob = model.predict(test_padded)\n",
        "y_pred = np.argmax(y_prob,axis=1)"
      ],
      "metadata": {
        "id": "GW0Stpml6rxp"
      },
      "execution_count": 31,
      "outputs": []
    },
    {
      "cell_type": "code",
      "source": [
        "print(classification_report(y_test_int,y_pred))"
      ],
      "metadata": {
        "colab": {
          "base_uri": "https://localhost:8080/"
        },
        "id": "lN_sKyQo6tmv",
        "outputId": "84c29baf-1ee1-4595-c0f8-27b40b114d03"
      },
      "execution_count": 32,
      "outputs": [
        {
          "output_type": "stream",
          "name": "stdout",
          "text": [
            "              precision    recall  f1-score   support\n",
            "\n",
            "           0       0.00      0.00      0.00       176\n",
            "           1       0.34      1.00      0.50      3368\n",
            "           2       0.00      0.00      0.00      3219\n",
            "           3       0.00      0.00      0.00      3237\n",
            "\n",
            "    accuracy                           0.34     10000\n",
            "   macro avg       0.08      0.25      0.13     10000\n",
            "weighted avg       0.11      0.34      0.17     10000\n",
            "\n"
          ]
        },
        {
          "output_type": "stream",
          "name": "stderr",
          "text": [
            "/usr/local/lib/python3.7/dist-packages/sklearn/metrics/_classification.py:1318: UndefinedMetricWarning: Precision and F-score are ill-defined and being set to 0.0 in labels with no predicted samples. Use `zero_division` parameter to control this behavior.\n",
            "  _warn_prf(average, modifier, msg_start, len(result))\n",
            "/usr/local/lib/python3.7/dist-packages/sklearn/metrics/_classification.py:1318: UndefinedMetricWarning: Precision and F-score are ill-defined and being set to 0.0 in labels with no predicted samples. Use `zero_division` parameter to control this behavior.\n",
            "  _warn_prf(average, modifier, msg_start, len(result))\n",
            "/usr/local/lib/python3.7/dist-packages/sklearn/metrics/_classification.py:1318: UndefinedMetricWarning: Precision and F-score are ill-defined and being set to 0.0 in labels with no predicted samples. Use `zero_division` parameter to control this behavior.\n",
            "  _warn_prf(average, modifier, msg_start, len(result))\n"
          ]
        }
      ]
    },
    {
      "cell_type": "markdown",
      "source": [
        "##LSTM"
      ],
      "metadata": {
        "id": "RQs07w3WhPtm"
      }
    },
    {
      "cell_type": "code",
      "source": [
        "model = Sequential()\n",
        "model.add(Embedding(vocab_size, output_dim=max_length, input_length=max_length))\n",
        "model.add(LSTM(32))\n",
        "model.add(Activation('relu'))\n",
        "model.add(Dense(4))\n",
        "model.add(Activation('softmax'))\n",
        "model.summary()"
      ],
      "metadata": {
        "colab": {
          "base_uri": "https://localhost:8080/"
        },
        "id": "54JYsEG2Z7yg",
        "outputId": "a238261e-cfcf-431b-c8e2-eb4678e325c1"
      },
      "execution_count": 33,
      "outputs": [
        {
          "output_type": "stream",
          "name": "stdout",
          "text": [
            "Model: \"sequential_1\"\n",
            "_________________________________________________________________\n",
            " Layer (type)                Output Shape              Param #   \n",
            "=================================================================\n",
            " embedding_1 (Embedding)     (None, 40, 40)            1815080   \n",
            "                                                                 \n",
            " lstm (LSTM)                 (None, 32)                9344      \n",
            "                                                                 \n",
            " activation (Activation)     (None, 32)                0         \n",
            "                                                                 \n",
            " dense_1 (Dense)             (None, 4)                 132       \n",
            "                                                                 \n",
            " activation_1 (Activation)   (None, 4)                 0         \n",
            "                                                                 \n",
            "=================================================================\n",
            "Total params: 1,824,556\n",
            "Trainable params: 1,824,556\n",
            "Non-trainable params: 0\n",
            "_________________________________________________________________\n"
          ]
        }
      ]
    },
    {
      "cell_type": "code",
      "source": [
        "max_length = 40"
      ],
      "metadata": {
        "id": "Jbqz7NLXhA2K"
      },
      "execution_count": null,
      "outputs": []
    },
    {
      "cell_type": "code",
      "source": [
        "sgd = SGD(learning_rate=0.01)\n",
        "model.compile(loss=\"categorical_crossentropy\",optimizer=sgd,metrics=['accuracy'])\n",
        "history_fine = model.fit(train_padded,y_train,validation_data=(valid_padded,y_valid),epochs=30)"
      ],
      "metadata": {
        "id": "JhTWnuTemnIe",
        "outputId": "8c7d6b64-8c15-4a9e-ddbe-e925702b052b",
        "colab": {
          "base_uri": "https://localhost:8080/"
        }
      },
      "execution_count": 39,
      "outputs": [
        {
          "output_type": "stream",
          "name": "stdout",
          "text": [
            "Epoch 1/30\n",
            "313/313 [==============================] - 12s 31ms/step - loss: 1.1118 - accuracy: 0.3304 - val_loss: 1.1672 - val_accuracy: 0.3316\n",
            "Epoch 2/30\n",
            "313/313 [==============================] - 9s 30ms/step - loss: 1.1111 - accuracy: 0.3420 - val_loss: 1.1681 - val_accuracy: 0.3322\n",
            "Epoch 3/30\n",
            "313/313 [==============================] - 11s 36ms/step - loss: 1.1108 - accuracy: 0.3401 - val_loss: 1.1691 - val_accuracy: 0.3315\n",
            "Epoch 4/30\n",
            "313/313 [==============================] - 9s 29ms/step - loss: 1.1106 - accuracy: 0.3349 - val_loss: 1.1697 - val_accuracy: 0.3278\n",
            "Epoch 5/30\n",
            "313/313 [==============================] - 9s 30ms/step - loss: 1.1104 - accuracy: 0.3291 - val_loss: 1.1705 - val_accuracy: 0.3312\n",
            "Epoch 6/30\n",
            "313/313 [==============================] - 9s 29ms/step - loss: 1.1102 - accuracy: 0.3365 - val_loss: 1.1712 - val_accuracy: 0.3284\n",
            "Epoch 7/30\n",
            "313/313 [==============================] - 9s 30ms/step - loss: 1.1099 - accuracy: 0.3376 - val_loss: 1.1718 - val_accuracy: 0.3230\n",
            "Epoch 8/30\n",
            "313/313 [==============================] - 10s 31ms/step - loss: 1.1097 - accuracy: 0.3410 - val_loss: 1.1723 - val_accuracy: 0.3346\n",
            "Epoch 9/30\n",
            "313/313 [==============================] - 9s 29ms/step - loss: 1.1096 - accuracy: 0.3352 - val_loss: 1.1731 - val_accuracy: 0.3341\n",
            "Epoch 10/30\n",
            "313/313 [==============================] - 9s 30ms/step - loss: 1.1096 - accuracy: 0.3358 - val_loss: 1.1734 - val_accuracy: 0.3327\n",
            "Epoch 11/30\n",
            "313/313 [==============================] - 10s 31ms/step - loss: 1.1094 - accuracy: 0.3350 - val_loss: 1.1741 - val_accuracy: 0.3329\n",
            "Epoch 12/30\n",
            "313/313 [==============================] - 9s 30ms/step - loss: 1.1092 - accuracy: 0.3375 - val_loss: 1.1747 - val_accuracy: 0.3235\n",
            "Epoch 13/30\n",
            "313/313 [==============================] - 13s 43ms/step - loss: 1.1094 - accuracy: 0.3336 - val_loss: 1.1750 - val_accuracy: 0.3347\n",
            "Epoch 14/30\n",
            "313/313 [==============================] - 11s 35ms/step - loss: 1.1093 - accuracy: 0.3341 - val_loss: 1.1755 - val_accuracy: 0.3342\n",
            "Epoch 15/30\n",
            "313/313 [==============================] - 9s 30ms/step - loss: 1.1091 - accuracy: 0.3407 - val_loss: 1.1759 - val_accuracy: 0.3352\n",
            "Epoch 16/30\n",
            "313/313 [==============================] - 9s 30ms/step - loss: 1.1089 - accuracy: 0.3412 - val_loss: 1.1764 - val_accuracy: 0.3530\n",
            "Epoch 17/30\n",
            "313/313 [==============================] - 10s 30ms/step - loss: 1.1092 - accuracy: 0.3334 - val_loss: 1.1769 - val_accuracy: 0.3328\n",
            "Epoch 18/30\n",
            "313/313 [==============================] - 10s 32ms/step - loss: 1.1090 - accuracy: 0.3389 - val_loss: 1.1769 - val_accuracy: 0.3364\n",
            "Epoch 19/30\n",
            "313/313 [==============================] - 10s 30ms/step - loss: 1.1090 - accuracy: 0.3379 - val_loss: 1.1772 - val_accuracy: 0.3332\n",
            "Epoch 20/30\n",
            "313/313 [==============================] - 9s 30ms/step - loss: 1.1089 - accuracy: 0.3350 - val_loss: 1.1774 - val_accuracy: 0.3368\n",
            "Epoch 21/30\n",
            "313/313 [==============================] - 10s 31ms/step - loss: 1.1089 - accuracy: 0.3391 - val_loss: 1.1776 - val_accuracy: 0.3346\n",
            "Epoch 22/30\n",
            "313/313 [==============================] - 11s 36ms/step - loss: 1.1089 - accuracy: 0.3378 - val_loss: 1.1779 - val_accuracy: 0.3395\n",
            "Epoch 23/30\n",
            "313/313 [==============================] - 9s 29ms/step - loss: 1.1086 - accuracy: 0.3472 - val_loss: 1.1792 - val_accuracy: 0.3329\n",
            "Epoch 24/30\n",
            "313/313 [==============================] - 10s 32ms/step - loss: 1.1090 - accuracy: 0.3342 - val_loss: 1.1789 - val_accuracy: 0.3331\n",
            "Epoch 25/30\n",
            "313/313 [==============================] - 9s 30ms/step - loss: 1.1087 - accuracy: 0.3382 - val_loss: 1.1792 - val_accuracy: 0.3278\n",
            "Epoch 26/30\n",
            "313/313 [==============================] - 9s 30ms/step - loss: 1.1088 - accuracy: 0.3377 - val_loss: 1.1792 - val_accuracy: 0.3436\n",
            "Epoch 27/30\n",
            "313/313 [==============================] - 9s 30ms/step - loss: 1.1088 - accuracy: 0.3375 - val_loss: 1.1794 - val_accuracy: 0.3333\n",
            "Epoch 28/30\n",
            "313/313 [==============================] - 9s 30ms/step - loss: 1.1087 - accuracy: 0.3462 - val_loss: 1.1799 - val_accuracy: 0.3278\n",
            "Epoch 29/30\n",
            "313/313 [==============================] - 9s 30ms/step - loss: 1.1087 - accuracy: 0.3338 - val_loss: 1.1795 - val_accuracy: 0.3355\n",
            "Epoch 30/30\n",
            "313/313 [==============================] - 9s 30ms/step - loss: 1.1087 - accuracy: 0.3362 - val_loss: 1.1799 - val_accuracy: 0.3318\n"
          ]
        }
      ]
    },
    {
      "cell_type": "code",
      "source": [
        "#Keras Tuner\n",
        "#!pip install keras-tuner --upgrade"
      ],
      "metadata": {
        "id": "AJr11Q9y9sOk"
      },
      "execution_count": null,
      "outputs": []
    },
    {
      "cell_type": "code",
      "source": [
        "plt.plot(history_fine.history['loss'])\n",
        "plt.plot(history_fine.history['val_loss'])\n",
        "plt.title('model loss')\n",
        "plt.ylabel('loss')\n",
        "plt.xlabel('epoch')\n",
        "plt.legend(['training set','validation set'], loc='upper left')\n",
        "plt.show()"
      ],
      "metadata": {
        "colab": {
          "base_uri": "https://localhost:8080/",
          "height": 295
        },
        "outputId": "e70c1f4f-9e60-4f39-c627-b74e1f64a575",
        "id": "q0Ys3xqYRem1"
      },
      "execution_count": 40,
      "outputs": [
        {
          "output_type": "display_data",
          "data": {
            "text/plain": [
              "<Figure size 432x288 with 1 Axes>"
            ],
            "image/png": "[encoded data removed]"
          },
          "metadata": {
            "needs_background": "light"
          }
        }
      ]
    },
    {
      "cell_type": "code",
      "source": [
        "plt.plot(history_fine.history['accuracy'])\n",
        "plt.plot(history_fine.history['val_accuracy'])\n",
        "plt.title('model accuracy')\n",
        "plt.ylabel('accuracy')\n",
        "plt.xlabel('epoch')\n",
        "plt.legend(['training set','validation set'], loc='upper left')\n",
        "plt.show()"
      ],
      "metadata": {
        "colab": {
          "base_uri": "https://localhost:8080/",
          "height": 295
        },
        "outputId": "294ec666-da0a-4ffe-b606-5e653c9a6ca3",
        "id": "cSo8GRDgRem2"
      },
      "execution_count": 41,
      "outputs": [
        {
          "output_type": "display_data",
          "data": {
            "text/plain": [
              "<Figure size 432x288 with 1 Axes>"
            ],
            "image/png": "[encoded data removed]"
          },
          "metadata": {
            "needs_background": "light"
          }
        }
      ]
    },
    {
      "cell_type": "code",
      "source": [
        "y_prob = model.predict(test_padded)\n",
        "y_pred = np.argmax(y_prob,axis=1)"
      ],
      "metadata": {
        "id": "frcdrq8sRem2"
      },
      "execution_count": 42,
      "outputs": []
    },
    {
      "cell_type": "code",
      "source": [
        "print(classification_report(y_test_int,y_pred))"
      ],
      "metadata": {
        "colab": {
          "base_uri": "https://localhost:8080/"
        },
        "outputId": "d7e53fd9-833a-4d6a-ae86-716b210e32a4",
        "id": "LQVBlQT8Rem2"
      },
      "execution_count": 43,
      "outputs": [
        {
          "output_type": "stream",
          "name": "stdout",
          "text": [
            "              precision    recall  f1-score   support\n",
            "\n",
            "           0       0.00      0.00      0.00       176\n",
            "           1       0.00      0.00      0.00      3368\n",
            "           2       0.41      0.08      0.13      3219\n",
            "           3       0.33      0.95      0.49      3237\n",
            "\n",
            "    accuracy                           0.33     10000\n",
            "   macro avg       0.18      0.26      0.15     10000\n",
            "weighted avg       0.24      0.33      0.20     10000\n",
            "\n"
          ]
        },
        {
          "output_type": "stream",
          "name": "stderr",
          "text": [
            "/usr/local/lib/python3.7/dist-packages/sklearn/metrics/_classification.py:1318: UndefinedMetricWarning: Precision and F-score are ill-defined and being set to 0.0 in labels with no predicted samples. Use `zero_division` parameter to control this behavior.\n",
            "  _warn_prf(average, modifier, msg_start, len(result))\n",
            "/usr/local/lib/python3.7/dist-packages/sklearn/metrics/_classification.py:1318: UndefinedMetricWarning: Precision and F-score are ill-defined and being set to 0.0 in labels with no predicted samples. Use `zero_division` parameter to control this behavior.\n",
            "  _warn_prf(average, modifier, msg_start, len(result))\n",
            "/usr/local/lib/python3.7/dist-packages/sklearn/metrics/_classification.py:1318: UndefinedMetricWarning: Precision and F-score are ill-defined and being set to 0.0 in labels with no predicted samples. Use `zero_division` parameter to control this behavior.\n",
            "  _warn_prf(average, modifier, msg_start, len(result))\n"
          ]
        }
      ]
    }
  ]
}