{
  "nbformat": 4,
  "nbformat_minor": 0,
  "metadata": {
    "colab": {
      "name": "Reviews.ipynb",
      "provenance": [],
      "authorship_tag": "ABX9TyOtu7IZmb/BzSmJH1vXbnZ8",
      "include_colab_link": true
    },
    "kernelspec": {
      "name": "python3",
      "display_name": "Python 3"
    },
    "language_info": {
      "name": "python"
    }
  },
  "cells": [
    {
      "cell_type": "markdown",
      "metadata": {
        "id": "view-in-github",
        "colab_type": "text"
      },
      "source": [
        "<a href=\"https://colab.research.google.com/github/dudaholandah/NLP/blob/main/Reviews.ipynb\" target=\"_parent\"><img src=\"https://colab.research.google.com/assets/colab-badge.svg\" alt=\"Open In Colab\"/></a>"
      ]
    },
    {
      "cell_type": "code",
      "source": [
        "!pip install krippendorff"
      ],
      "metadata": {
        "id": "qetpZjJpUCnb"
      },
      "execution_count": null,
      "outputs": []
    },
    {
      "cell_type": "code",
      "execution_count": 28,
      "metadata": {
        "id": "OsmOtqFrN1Tl"
      },
      "outputs": [],
      "source": [
        "import json\n",
        "import os\n",
        "import glob\n",
        "import pandas as pd\n",
        "import krippendorff"
      ]
    },
    {
      "cell_type": "code",
      "source": [
        "keywordListAriel = {}\n",
        "path = '/content/ariel'\n",
        "for filename in glob.glob(os.path.join(path, '*.json')):   \n",
        "    with open(filename, encoding='utf-8', mode='r') as currentFile:\n",
        "        data=currentFile.read().replace('\\n', '')\n",
        "        keyword = json.loads(data)['metas']['m_1']['value']\n",
        "        x = filename.split(\"food.csv_\")\n",
        "        keywordListAriel[x[1]] = keyword\n",
        "\n",
        "print(keywordListAriel)"
      ],
      "metadata": {
        "colab": {
          "base_uri": "https://localhost:8080/"
        },
        "id": "rVFMgO2AOZAe",
        "outputId": "7409f276-dc78-4fef-d54b-754c8b55dc69"
      },
      "execution_count": 26,
      "outputs": [
        {
          "output_type": "stream",
          "name": "stdout",
          "text": [
            "{'62.ann.json': 'Neutro', '127.ann.json': 'Bom', '34.ann.json': 'Bom', '39.ann.json': 'Bom', '61.ann.json': 'Bom', '50.ann.json': 'Ruim', '55.ann.json': 'Bom', '53.ann.json': 'Bom', '41.ann.json': 'Bom', '85.ann.json': 'Bom', '84.ann.json': 'Bom', '30.ann.json': 'Bom', '49.ann.json': 'Neutro', '56.ann.json': 'Bom', '76.ann.json': 'Neutro', '54.ann.json': 'Ruim', '28.ann.json': 'Bom', '58.ann.json': 'Bom', '64.ann.json': 'Ruim', '83.ann.json': 'Neutro', '118.ann.json': 'Bom', '24.ann.json': 'Bom', '75.ann.json': 'Ruim', '67.ann.json': 'Bom', '81.ann.json': 'Bom', '72.ann.json': 'Bom', '35.ann.json': 'Bom', '23.ann.json': 'Neutro', '37.ann.json': 'Bom', '78.ann.json': 'Bom', '86.ann.json': 'Bom', '77.ann.json': 'Bom', '36.ann.json': 'Bom', '80.ann.json': 'Bom', '42.ann.json': 'Bom', '52.ann.json': 'Bom', '121.ann.json': 'Bom', '66.ann.json': 'Bom', '71.ann.json': 'Bom', '65.ann.json': 'Bom', '26.ann.json': 'Neutro', '82.ann.json': 'Bom', '60.ann.json': 'Bom', '43.ann.json': 'Bom', '29.ann.json': 'Bom', '73.ann.json': 'Bom', '69.ann.json': 'Neutro', '57.ann.json': 'Bom', '32.ann.json': 'Bom', '59.ann.json': 'Bom', '25.ann.json': 'Bom', '131.ann.json': 'Bom', '116.ann.json': 'Bom', '68.ann.json': 'Ruim', '79.ann.json': 'Bom', '70.ann.json': 'Bom', '74.ann.json': 'Ruim', '63.ann.json': 'Ruim'}\n"
          ]
        }
      ]
    },
    {
      "cell_type": "code",
      "source": [
        "keywordListBruno = {}\n",
        "path = '/content/bruno'\n",
        "for filename in glob.glob(os.path.join(path, '*.json')):   \n",
        "    with open(filename, encoding='utf-8', mode='r') as currentFile:\n",
        "        data=currentFile.read().replace('\\n', '')\n",
        "        keyword = json.loads(data)['metas']['m_1']['value']\n",
        "        x = filename.split(\"food.csv_\")\n",
        "        keywordListBruno[x[1]] = keyword\n",
        "\n",
        "print(keywordListBruno)"
      ],
      "metadata": {
        "colab": {
          "base_uri": "https://localhost:8080/"
        },
        "id": "g9sUyJWwQaO7",
        "outputId": "e8af826a-4b9f-4a49-fd06-242f3d48b232"
      },
      "execution_count": 25,
      "outputs": [
        {
          "output_type": "stream",
          "name": "stdout",
          "text": [
            "{'62.ann.json': 'Ruim', '89.ann.json': 'Bom', '127.ann.json': 'Bom', '34.ann.json': 'Bom', '132.ann.json': 'Ruim', '107.ann.json': 'Bom', '130.ann.json': 'Bom', '90.ann.json': 'Bom', '39.ann.json': 'Bom', '61.ann.json': 'Ruim', '112.ann.json': 'Bom', '124.ann.json': 'Bom', '50.ann.json': 'Ruim', '125.ann.json': 'Bom', '106.ann.json': 'Bom', '55.ann.json': 'Bom', '53.ann.json': 'Neutro', '41.ann.json': 'Bom', '85.ann.json': 'Bom', '126.ann.json': 'Bom', '84.ann.json': 'Ruim', '30.ann.json': 'Bom', '49.ann.json': 'Bom', '56.ann.json': 'Bom', '103.ann.json': 'Ruim', '76.ann.json': 'Ruim', '102.ann.json': 'Bom', '54.ann.json': 'Ruim', '28.ann.json': 'Bom', '109.ann.json': 'Bom', '98.ann.json': 'Neutro', '58.ann.json': 'Bom', '100.ann.json': 'Bom', '64.ann.json': 'Bom', '96.ann.json': 'Bom', '92.ann.json': 'Bom', '83.ann.json': 'Neutro', '118.ann.json': 'Bom', '24.ann.json': 'Bom', '75.ann.json': 'Ruim', '67.ann.json': 'Bom', '119.ann.json': 'Ruim', '81.ann.json': 'Bom', '72.ann.json': 'Bom', '35.ann.json': 'Bom', '23.ann.json': 'Bom', '37.ann.json': 'Bom', '78.ann.json': 'Bom', '113.ann.json': 'Bom', '86.ann.json': 'Bom', '77.ann.json': 'Bom', '36.ann.json': 'Bom', '114.ann.json': 'Bom', '110.ann.json': 'Neutro', '80.ann.json': 'Bom', '122.ann.json': 'Bom', '42.ann.json': 'Neutro', '97.ann.json': 'Bom', '52.ann.json': 'Bom', '121.ann.json': 'Bom', '66.ann.json': 'Bom', '111.ann.json': 'Bom', '71.ann.json': 'Bom', '65.ann.json': 'Bom', '26.ann.json': 'Neutro', '82.ann.json': 'Neutro', '117.ann.json': 'Ruim', '95.ann.json': 'Neutro', '120.ann.json': 'Bom', '104.ann.json': 'Bom', '60.ann.json': 'Bom', '43.ann.json': 'Bom', '105.ann.json': 'Bom', '29.ann.json': 'Bom', '133.ann.json': 'Ruim', '73.ann.json': 'Bom', '69.ann.json': 'Neutro', '129.ann.json': 'Neutro', '57.ann.json': 'Bom', '32.ann.json': 'Bom', '93.ann.json': 'Neutro', '101.ann.json': 'Bom', '99.ann.json': 'Ruim', '59.ann.json': 'Bom', '128.ann.json': 'Neutro', '25.ann.json': 'Bom', '131.ann.json': 'Bom', '88.ann.json': 'Bom', '115.ann.json': 'Neutro', '91.ann.json': 'Bom', '116.ann.json': 'Bom', '87.ann.json': 'Bom', '68.ann.json': 'Ruim', '79.ann.json': 'Bom', '70.ann.json': 'Bom', '108.ann.json': 'Bom', '74.ann.json': 'Ruim', '63.ann.json': 'Ruim', '94.ann.json': 'Bom', '123.ann.json': 'Bom'}\n"
          ]
        }
      ]
    },
    {
      "cell_type": "code",
      "source": [
        "keywordListDuda = {}\n",
        "path = '/content/duda'\n",
        "for filename in glob.glob(os.path.join(path, '*.json')):   \n",
        "    with open(filename, encoding='utf-8', mode='r') as currentFile:\n",
        "        data=currentFile.read().replace('\\n', '')\n",
        "        keyword = json.loads(data)['metas']['m_1']['value']\n",
        "        x = filename.split(\"food.csv_\")\n",
        "        keywordListDuda[x[1]] = keyword\n",
        "\n",
        "print(keywordListDuda)\n",
        "\n",
        "Duda = {}\n",
        "Duda['Duda'] = keywordListDuda"
      ],
      "metadata": {
        "colab": {
          "base_uri": "https://localhost:8080/"
        },
        "id": "RNwsdL19R1-7",
        "outputId": "909e0e98-b21c-4429-9186-4682b1ee93f8"
      },
      "execution_count": 33,
      "outputs": [
        {
          "output_type": "stream",
          "name": "stdout",
          "text": [
            "{'89.ann.json': 'Bom', '127.ann.json': 'Bom', '132.ann.json': 'Ruim', '107.ann.json': 'Bom', '130.ann.json': 'Bom', '90.ann.json': 'Bom', '61.ann.json': 'Ruim', '112.ann.json': 'Bom', '124.ann.json': 'Bom', '125.ann.json': 'Bom', '106.ann.json': 'Bom', '55.ann.json': 'Bom', '126.ann.json': 'Bom', '56.ann.json': 'Bom', '103.ann.json': 'Ruim', '102.ann.json': 'Bom', '54.ann.json': 'Ruim', '109.ann.json': 'Bom', '98.ann.json': 'Bom', '58.ann.json': 'Bom', '100.ann.json': 'Bom', '64.ann.json': 'Bom', '96.ann.json': 'Bom', '92.ann.json': 'Bom', '118.ann.json': 'Bom', '67.ann.json': 'Bom', '119.ann.json': 'Ruim', '113.ann.json': 'Bom', '114.ann.json': 'Bom', '110.ann.json': 'Bom', '80.ann.json': 'Bom', '122.ann.json': 'Bom', '97.ann.json': 'Bom', '121.ann.json': 'Bom', '66.ann.json': 'Bom', '111.ann.json': 'Bom', '71.ann.json': 'Bom', '82.ann.json': 'Bom', '117.ann.json': 'Ruim', '95.ann.json': 'Bom', '120.ann.json': 'Bom', '104.ann.json': 'Bom', '60.ann.json': 'Bom', '105.ann.json': 'Bom', '133.ann.json': 'Bom', '73.ann.json': 'Bom', '129.ann.json': 'Bom', '93.ann.json': 'Bom', '101.ann.json': 'Bom', '99.ann.json': 'Ruim', '128.ann.json': 'Neutro', '131.ann.json': 'Bom', '88.ann.json': 'Bom', '115.ann.json': 'Ruim', '91.ann.json': 'Bom', '116.ann.json': 'Bom', '87.ann.json': 'Bom', '70.ann.json': 'Bom', '108.ann.json': 'Bom', '94.ann.json': 'Bom', '123.ann.json': 'Bom'}\n"
          ]
        }
      ]
    },
    {
      "cell_type": "code",
      "source": [
        "df = pd.DataFrame.from_dict(keywordListBruno)"
      ],
      "metadata": {
        "colab": {
          "base_uri": "https://localhost:8080/",
          "height": 311
        },
        "id": "5E53wEXaSDIy",
        "outputId": "2f533526-c58c-43e4-b5ac-b3ded1b3da93"
      },
      "execution_count": 32,
      "outputs": [
        {
          "output_type": "error",
          "ename": "ValueError",
          "evalue": "ignored",
          "traceback": [
            "\u001b[0;31m---------------------------------------------------------------------------\u001b[0m",
            "\u001b[0;31mValueError\u001b[0m                                Traceback (most recent call last)",
            "\u001b[0;32m<ipython-input-32-11bb77564e4d>\u001b[0m in \u001b[0;36m<module>\u001b[0;34m()\u001b[0m\n\u001b[0;32m----> 1\u001b[0;31m \u001b[0mpd\u001b[0m\u001b[0;34m.\u001b[0m\u001b[0mDataFrame\u001b[0m\u001b[0;34m.\u001b[0m\u001b[0mfrom_dict\u001b[0m\u001b[0;34m(\u001b[0m\u001b[0mkeywordListBruno\u001b[0m\u001b[0;34m)\u001b[0m\u001b[0;34m\u001b[0m\u001b[0;34m\u001b[0m\u001b[0m\n\u001b[0m",
            "\u001b[0;32m/usr/local/lib/python3.7/dist-packages/pandas/core/frame.py\u001b[0m in \u001b[0;36mfrom_dict\u001b[0;34m(cls, data, orient, dtype, columns)\u001b[0m\n\u001b[1;32m   1591\u001b[0m             \u001b[0;32mraise\u001b[0m \u001b[0mValueError\u001b[0m\u001b[0;34m(\u001b[0m\u001b[0;34m\"only recognize index or columns for orient\"\u001b[0m\u001b[0;34m)\u001b[0m\u001b[0;34m\u001b[0m\u001b[0;34m\u001b[0m\u001b[0m\n\u001b[1;32m   1592\u001b[0m \u001b[0;34m\u001b[0m\u001b[0m\n\u001b[0;32m-> 1593\u001b[0;31m         \u001b[0;32mreturn\u001b[0m \u001b[0mcls\u001b[0m\u001b[0;34m(\u001b[0m\u001b[0mdata\u001b[0m\u001b[0;34m,\u001b[0m \u001b[0mindex\u001b[0m\u001b[0;34m=\u001b[0m\u001b[0mindex\u001b[0m\u001b[0;34m,\u001b[0m \u001b[0mcolumns\u001b[0m\u001b[0;34m=\u001b[0m\u001b[0mcolumns\u001b[0m\u001b[0;34m,\u001b[0m \u001b[0mdtype\u001b[0m\u001b[0;34m=\u001b[0m\u001b[0mdtype\u001b[0m\u001b[0;34m)\u001b[0m\u001b[0;34m\u001b[0m\u001b[0;34m\u001b[0m\u001b[0m\n\u001b[0m\u001b[1;32m   1594\u001b[0m \u001b[0;34m\u001b[0m\u001b[0m\n\u001b[1;32m   1595\u001b[0m     def to_numpy(\n",
            "\u001b[0;32m/usr/local/lib/python3.7/dist-packages/pandas/core/frame.py\u001b[0m in \u001b[0;36m__init__\u001b[0;34m(self, data, index, columns, dtype, copy)\u001b[0m\n\u001b[1;32m    612\u001b[0m         \u001b[0;32melif\u001b[0m \u001b[0misinstance\u001b[0m\u001b[0;34m(\u001b[0m\u001b[0mdata\u001b[0m\u001b[0;34m,\u001b[0m \u001b[0mdict\u001b[0m\u001b[0;34m)\u001b[0m\u001b[0;34m:\u001b[0m\u001b[0;34m\u001b[0m\u001b[0;34m\u001b[0m\u001b[0m\n\u001b[1;32m    613\u001b[0m             \u001b[0;31m# GH#38939 de facto copy defaults to False only in non-dict cases\u001b[0m\u001b[0;34m\u001b[0m\u001b[0;34m\u001b[0m\u001b[0;34m\u001b[0m\u001b[0m\n\u001b[0;32m--> 614\u001b[0;31m             \u001b[0mmgr\u001b[0m \u001b[0;34m=\u001b[0m \u001b[0mdict_to_mgr\u001b[0m\u001b[0;34m(\u001b[0m\u001b[0mdata\u001b[0m\u001b[0;34m,\u001b[0m \u001b[0mindex\u001b[0m\u001b[0;34m,\u001b[0m \u001b[0mcolumns\u001b[0m\u001b[0;34m,\u001b[0m \u001b[0mdtype\u001b[0m\u001b[0;34m=\u001b[0m\u001b[0mdtype\u001b[0m\u001b[0;34m,\u001b[0m \u001b[0mcopy\u001b[0m\u001b[0;34m=\u001b[0m\u001b[0mcopy\u001b[0m\u001b[0;34m,\u001b[0m \u001b[0mtyp\u001b[0m\u001b[0;34m=\u001b[0m\u001b[0mmanager\u001b[0m\u001b[0;34m)\u001b[0m\u001b[0;34m\u001b[0m\u001b[0;34m\u001b[0m\u001b[0m\n\u001b[0m\u001b[1;32m    615\u001b[0m         \u001b[0;32melif\u001b[0m \u001b[0misinstance\u001b[0m\u001b[0;34m(\u001b[0m\u001b[0mdata\u001b[0m\u001b[0;34m,\u001b[0m \u001b[0mma\u001b[0m\u001b[0;34m.\u001b[0m\u001b[0mMaskedArray\u001b[0m\u001b[0;34m)\u001b[0m\u001b[0;34m:\u001b[0m\u001b[0;34m\u001b[0m\u001b[0;34m\u001b[0m\u001b[0m\n\u001b[1;32m    616\u001b[0m             \u001b[0;32mimport\u001b[0m \u001b[0mnumpy\u001b[0m\u001b[0;34m.\u001b[0m\u001b[0mma\u001b[0m\u001b[0;34m.\u001b[0m\u001b[0mmrecords\u001b[0m \u001b[0;32mas\u001b[0m \u001b[0mmrecords\u001b[0m\u001b[0;34m\u001b[0m\u001b[0;34m\u001b[0m\u001b[0m\n",
            "\u001b[0;32m/usr/local/lib/python3.7/dist-packages/pandas/core/internals/construction.py\u001b[0m in \u001b[0;36mdict_to_mgr\u001b[0;34m(data, index, columns, dtype, typ, copy)\u001b[0m\n\u001b[1;32m    463\u001b[0m \u001b[0;34m\u001b[0m\u001b[0m\n\u001b[1;32m    464\u001b[0m     return arrays_to_mgr(\n\u001b[0;32m--> 465\u001b[0;31m         \u001b[0marrays\u001b[0m\u001b[0;34m,\u001b[0m \u001b[0mdata_names\u001b[0m\u001b[0;34m,\u001b[0m \u001b[0mindex\u001b[0m\u001b[0;34m,\u001b[0m \u001b[0mcolumns\u001b[0m\u001b[0;34m,\u001b[0m \u001b[0mdtype\u001b[0m\u001b[0;34m=\u001b[0m\u001b[0mdtype\u001b[0m\u001b[0;34m,\u001b[0m \u001b[0mtyp\u001b[0m\u001b[0;34m=\u001b[0m\u001b[0mtyp\u001b[0m\u001b[0;34m,\u001b[0m \u001b[0mconsolidate\u001b[0m\u001b[0;34m=\u001b[0m\u001b[0mcopy\u001b[0m\u001b[0;34m\u001b[0m\u001b[0;34m\u001b[0m\u001b[0m\n\u001b[0m\u001b[1;32m    466\u001b[0m     )\n\u001b[1;32m    467\u001b[0m \u001b[0;34m\u001b[0m\u001b[0m\n",
            "\u001b[0;32m/usr/local/lib/python3.7/dist-packages/pandas/core/internals/construction.py\u001b[0m in \u001b[0;36marrays_to_mgr\u001b[0;34m(arrays, arr_names, index, columns, dtype, verify_integrity, typ, consolidate)\u001b[0m\n\u001b[1;32m    117\u001b[0m         \u001b[0;31m# figure out the index, if necessary\u001b[0m\u001b[0;34m\u001b[0m\u001b[0;34m\u001b[0m\u001b[0;34m\u001b[0m\u001b[0m\n\u001b[1;32m    118\u001b[0m         \u001b[0;32mif\u001b[0m \u001b[0mindex\u001b[0m \u001b[0;32mis\u001b[0m \u001b[0;32mNone\u001b[0m\u001b[0;34m:\u001b[0m\u001b[0;34m\u001b[0m\u001b[0;34m\u001b[0m\u001b[0m\n\u001b[0;32m--> 119\u001b[0;31m             \u001b[0mindex\u001b[0m \u001b[0;34m=\u001b[0m \u001b[0m_extract_index\u001b[0m\u001b[0;34m(\u001b[0m\u001b[0marrays\u001b[0m\u001b[0;34m)\u001b[0m\u001b[0;34m\u001b[0m\u001b[0;34m\u001b[0m\u001b[0m\n\u001b[0m\u001b[1;32m    120\u001b[0m         \u001b[0;32melse\u001b[0m\u001b[0;34m:\u001b[0m\u001b[0;34m\u001b[0m\u001b[0;34m\u001b[0m\u001b[0m\n\u001b[1;32m    121\u001b[0m             \u001b[0mindex\u001b[0m \u001b[0;34m=\u001b[0m \u001b[0mensure_index\u001b[0m\u001b[0;34m(\u001b[0m\u001b[0mindex\u001b[0m\u001b[0;34m)\u001b[0m\u001b[0;34m\u001b[0m\u001b[0;34m\u001b[0m\u001b[0m\n",
            "\u001b[0;32m/usr/local/lib/python3.7/dist-packages/pandas/core/internals/construction.py\u001b[0m in \u001b[0;36m_extract_index\u001b[0;34m(data)\u001b[0m\n\u001b[1;32m    623\u001b[0m \u001b[0;34m\u001b[0m\u001b[0m\n\u001b[1;32m    624\u001b[0m         \u001b[0;32mif\u001b[0m \u001b[0;32mnot\u001b[0m \u001b[0mindexes\u001b[0m \u001b[0;32mand\u001b[0m \u001b[0;32mnot\u001b[0m \u001b[0mraw_lengths\u001b[0m\u001b[0;34m:\u001b[0m\u001b[0;34m\u001b[0m\u001b[0;34m\u001b[0m\u001b[0m\n\u001b[0;32m--> 625\u001b[0;31m             \u001b[0;32mraise\u001b[0m \u001b[0mValueError\u001b[0m\u001b[0;34m(\u001b[0m\u001b[0;34m\"If using all scalar values, you must pass an index\"\u001b[0m\u001b[0;34m)\u001b[0m\u001b[0;34m\u001b[0m\u001b[0;34m\u001b[0m\u001b[0m\n\u001b[0m\u001b[1;32m    626\u001b[0m \u001b[0;34m\u001b[0m\u001b[0m\n\u001b[1;32m    627\u001b[0m         \u001b[0;32mif\u001b[0m \u001b[0mhave_series\u001b[0m\u001b[0;34m:\u001b[0m\u001b[0;34m\u001b[0m\u001b[0;34m\u001b[0m\u001b[0m\n",
            "\u001b[0;31mValueError\u001b[0m: If using all scalar values, you must pass an index"
          ]
        }
      ]
    }
  ]
}