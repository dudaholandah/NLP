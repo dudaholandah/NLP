{
  "nbformat": 4,
  "nbformat_minor": 0,
  "metadata": {
    "colab": {
      "name": "Reviews.ipynb",
      "provenance": [],
      "include_colab_link": true
    },
    "kernelspec": {
      "name": "python3",
      "display_name": "Python 3"
    },
    "language_info": {
      "name": "python"
    }
  },
  "cells": [
    {
      "cell_type": "markdown",
      "metadata": {
        "id": "view-in-github",
        "colab_type": "text"
      },
      "source": [
        "<a href=\"https://colab.research.google.com/github/dudaholandah/NLP/blob/main/Reviews.ipynb\" target=\"_parent\"><img src=\"https://colab.research.google.com/assets/colab-badge.svg\" alt=\"Open In Colab\"/></a>"
      ]
    },
    {
      "cell_type": "code",
      "source": [
        "!pip install krippendorff"
      ],
      "metadata": {
        "id": "qetpZjJpUCnb",
        "outputId": "2541cf84-e9f5-4c53-f7ad-f60e8a60fa95",
        "colab": {
          "base_uri": "https://localhost:8080/"
        }
      },
      "execution_count": 1,
      "outputs": [
        {
          "output_type": "stream",
          "name": "stdout",
          "text": [
            "Looking in indexes: https://pypi.org/simple, https://us-python.pkg.dev/colab-wheels/public/simple/\n",
            "Collecting krippendorff\n",
            "  Downloading krippendorff-0.5.1-py3-none-any.whl (17 kB)\n",
            "Requirement already satisfied: numpy in /usr/local/lib/python3.7/dist-packages (from krippendorff) (1.21.6)\n",
            "Installing collected packages: krippendorff\n",
            "Successfully installed krippendorff-0.5.1\n"
          ]
        }
      ]
    },
    {
      "cell_type": "code",
      "execution_count": 2,
      "metadata": {
        "id": "OsmOtqFrN1Tl"
      },
      "outputs": [],
      "source": [
        "import json\n",
        "import os\n",
        "import glob\n",
        "import pandas as pd\n",
        "import krippendorff"
      ]
    },
    {
      "cell_type": "code",
      "source": [
        "keywordListAriel = {}\n",
        "path = '/content/Muzamba'\n",
        "for filename in glob.glob(os.path.join(path, '*.json')):   \n",
        "    with open(filename, encoding='utf-8', mode='r') as currentFile:\n",
        "        data=currentFile.read().replace('\\n', '')\n",
        "        keyword = json.loads(data)['metas']['m_1']['value']\n",
        "        x = filename.split(\"food.csv_\")\n",
        "        keywordListAriel[x[1]] = keyword\n",
        "\n",
        "print(keywordListAriel)"
      ],
      "metadata": {
        "colab": {
          "base_uri": "https://localhost:8080/"
        },
        "id": "rVFMgO2AOZAe",
        "outputId": "513471cb-8086-491d-fc70-cf1b3e845866"
      },
      "execution_count": 3,
      "outputs": [
        {
          "output_type": "stream",
          "name": "stdout",
          "text": [
            "{'62.ann.json': 'Neutro', '89.ann.json': 'Bom', '127.ann.json': 'Bom', '34.ann.json': 'Bom', '132.ann.json': 'Neutro', '107.ann.json': 'Bom', '130.ann.json': 'Bom', '90.ann.json': 'Bom', '39.ann.json': 'Bom', '61.ann.json': 'Bom', '112.ann.json': 'Bom', '124.ann.json': 'Bom', '50.ann.json': 'Ruim', '125.ann.json': 'Bom', '106.ann.json': 'Bom', '55.ann.json': 'Bom', '53.ann.json': 'Bom', '41.ann.json': 'Bom', '85.ann.json': 'Bom', '126.ann.json': 'Bom', '84.ann.json': 'Bom', '30.ann.json': 'Bom', '49.ann.json': 'Neutro', '56.ann.json': 'Bom', '103.ann.json': 'Ruim', '76.ann.json': 'Neutro', '102.ann.json': 'Bom', '54.ann.json': 'Ruim', '28.ann.json': 'Bom', '109.ann.json': 'Bom', '98.ann.json': 'Bom', '58.ann.json': 'Bom', '100.ann.json': 'Bom', '64.ann.json': 'Ruim', '96.ann.json': 'Bom', '92.ann.json': 'Bom', '83.ann.json': 'Neutro', '118.ann.json': 'Bom', '24.ann.json': 'Bom', '75.ann.json': 'Ruim', '67.ann.json': 'Bom', '119.ann.json': 'Ruim', '81.ann.json': 'Bom', '72.ann.json': 'Bom', '35.ann.json': 'Bom', '23.ann.json': 'Neutro', '37.ann.json': 'Bom', '78.ann.json': 'Bom', '113.ann.json': 'Bom', '86.ann.json': 'Bom', '77.ann.json': 'Bom', '36.ann.json': 'Bom', '114.ann.json': 'Bom', '110.ann.json': 'Bom', '80.ann.json': 'Bom', '122.ann.json': 'Bom', '42.ann.json': 'Bom', '97.ann.json': 'Bom', '52.ann.json': 'Bom', '121.ann.json': 'Bom', '66.ann.json': 'Bom', '111.ann.json': 'Bom', '71.ann.json': 'Bom', '65.ann.json': 'Bom', '26.ann.json': 'Neutro', '82.ann.json': 'Bom', '117.ann.json': 'Ruim', '95.ann.json': 'Bom', '120.ann.json': 'Bom', '104.ann.json': 'Bom', '60.ann.json': 'Bom', '43.ann.json': 'Bom', '105.ann.json': 'Bom', '29.ann.json': 'Bom', '133.ann.json': 'Bom', '73.ann.json': 'Bom', '69.ann.json': 'Neutro', '129.ann.json': 'Bom', '57.ann.json': 'Bom', '32.ann.json': 'Bom', '93.ann.json': 'Bom', '101.ann.json': 'Bom', '99.ann.json': 'Ruim', '59.ann.json': 'Bom', '128.ann.json': 'Bom', '25.ann.json': 'Bom', '131.ann.json': 'Bom', '88.ann.json': 'Bom', '115.ann.json': 'Neutro', '91.ann.json': 'Bom', '116.ann.json': 'Bom', '87.ann.json': 'Bom', '68.ann.json': 'Ruim', '79.ann.json': 'Bom', '70.ann.json': 'Bom', '108.ann.json': 'Bom', '74.ann.json': 'Ruim', '63.ann.json': 'Ruim', '94.ann.json': 'Bom', '123.ann.json': 'Neutro'}\n"
          ]
        }
      ]
    },
    {
      "cell_type": "code",
      "source": [
        "keywordListBruno = {}\n",
        "path = '/content/Brest'\n",
        "for filename in glob.glob(os.path.join(path, '*.json')):   \n",
        "    with open(filename, encoding='utf-8', mode='r') as currentFile:\n",
        "        data=currentFile.read().replace('\\n', '')\n",
        "        keyword = json.loads(data)['metas']['m_1']['value']\n",
        "        x = filename.split(\"food.csv_\")\n",
        "        keywordListBruno[x[1]] = keyword\n",
        "\n",
        "print(keywordListBruno)\n",
        "Bruno = {}\n",
        "Bruno['Bruno'] = keywordListBruno\n",
        "print(Bruno)"
      ],
      "metadata": {
        "colab": {
          "base_uri": "https://localhost:8080/"
        },
        "id": "g9sUyJWwQaO7",
        "outputId": "cc8db012-e322-4195-94c9-8cfa51b5970a"
      },
      "execution_count": 4,
      "outputs": [
        {
          "output_type": "stream",
          "name": "stdout",
          "text": [
            "{'62.ann.json': 'Ruim', '89.ann.json': 'Bom', '127.ann.json': 'Bom', '34.ann.json': 'Bom', '132.ann.json': 'Ruim', '107.ann.json': 'Bom', '130.ann.json': 'Bom', '90.ann.json': 'Bom', '39.ann.json': 'Bom', '61.ann.json': 'Ruim', '112.ann.json': 'Bom', '124.ann.json': 'Bom', '50.ann.json': 'Ruim', '125.ann.json': 'Bom', '106.ann.json': 'Bom', '55.ann.json': 'Bom', '53.ann.json': 'Neutro', '41.ann.json': 'Bom', '85.ann.json': 'Bom', '126.ann.json': 'Bom', '84.ann.json': 'Ruim', '30.ann.json': 'Bom', '49.ann.json': 'Bom', '56.ann.json': 'Bom', '103.ann.json': 'Ruim', '76.ann.json': 'Ruim', '102.ann.json': 'Bom', '54.ann.json': 'Ruim', '28.ann.json': 'Bom', '109.ann.json': 'Bom', '98.ann.json': 'Neutro', '58.ann.json': 'Bom', '100.ann.json': 'Bom', '64.ann.json': 'Bom', '96.ann.json': 'Bom', '92.ann.json': 'Bom', '83.ann.json': 'Neutro', '118.ann.json': 'Bom', '24.ann.json': 'Bom', '75.ann.json': 'Ruim', '67.ann.json': 'Bom', '119.ann.json': 'Ruim', '81.ann.json': 'Bom', '72.ann.json': 'Bom', '35.ann.json': 'Bom', '23.ann.json': 'Bom', '37.ann.json': 'Bom', '78.ann.json': 'Bom', '113.ann.json': 'Bom', '86.ann.json': 'Bom', '77.ann.json': 'Bom', '36.ann.json': 'Bom', '114.ann.json': 'Bom', '110.ann.json': 'Neutro', '80.ann.json': 'Bom', '122.ann.json': 'Bom', '42.ann.json': 'Neutro', '97.ann.json': 'Bom', '52.ann.json': 'Bom', '121.ann.json': 'Bom', '66.ann.json': 'Bom', '111.ann.json': 'Bom', '71.ann.json': 'Bom', '65.ann.json': 'Bom', '26.ann.json': 'Neutro', '82.ann.json': 'Neutro', '117.ann.json': 'Ruim', '95.ann.json': 'Neutro', '120.ann.json': 'Bom', '104.ann.json': 'Bom', '60.ann.json': 'Bom', '43.ann.json': 'Bom', '105.ann.json': 'Bom', '29.ann.json': 'Bom', '133.ann.json': 'Ruim', '73.ann.json': 'Bom', '69.ann.json': 'Neutro', '129.ann.json': 'Neutro', '57.ann.json': 'Bom', '32.ann.json': 'Bom', '93.ann.json': 'Neutro', '101.ann.json': 'Bom', '99.ann.json': 'Ruim', '59.ann.json': 'Bom', '128.ann.json': 'Neutro', '25.ann.json': 'Bom', '131.ann.json': 'Bom', '88.ann.json': 'Bom', '115.ann.json': 'Neutro', '91.ann.json': 'Bom', '116.ann.json': 'Bom', '87.ann.json': 'Bom', '68.ann.json': 'Ruim', '79.ann.json': 'Bom', '70.ann.json': 'Bom', '108.ann.json': 'Bom', '74.ann.json': 'Ruim', '63.ann.json': 'Ruim', '94.ann.json': 'Bom', '123.ann.json': 'Bom'}\n"
          ]
        }
      ]
    },
    {
      "cell_type": "code",
      "source": [
        "keywordListDuda = {}\n",
        "path = '/content/dudaholandah'\n",
        "for filename in glob.glob(os.path.join(path, '*.json')):   \n",
        "    with open(filename, encoding='utf-8', mode='r') as currentFile:\n",
        "        data=currentFile.read().replace('\\n', '')\n",
        "        keyword = json.loads(data)['metas']['m_1']['value']\n",
        "        x = filename.split(\"food.csv_\")\n",
        "        keywordListDuda[x[1]] = keyword\n",
        "\n",
        "print(keywordListDuda)\n",
        "\n",
        "dfxxx = {}\n",
        "dfxxx['Duda'] = keywordListDuda\n",
        "dfxxx['Bruno'] = keywordListBruno\n",
        "dfxxx['Ariel'] = keywordListAriel\n",
        "print(dfxxx)"
      ],
      "metadata": {
        "colab": {
          "base_uri": "https://localhost:8080/"
        },
        "id": "RNwsdL19R1-7",
        "outputId": "3e0973b7-b1ee-4507-df59-ebd41d87d06c"
      },
      "execution_count": 12,
      "outputs": [
        {
          "output_type": "stream",
          "name": "stdout",
          "text": [
            "{'89.ann.json': 'Bom', '127.ann.json': 'Bom', '132.ann.json': 'Ruim', '107.ann.json': 'Bom', '130.ann.json': 'Bom', '90.ann.json': 'Bom', '61.ann.json': 'Ruim', '112.ann.json': 'Bom', '124.ann.json': 'Bom', '125.ann.json': 'Bom', '106.ann.json': 'Bom', '55.ann.json': 'Bom', '126.ann.json': 'Bom', '56.ann.json': 'Bom', '103.ann.json': 'Ruim', '102.ann.json': 'Bom', '54.ann.json': 'Ruim', '109.ann.json': 'Bom', '98.ann.json': 'Bom', '58.ann.json': 'Bom', '100.ann.json': 'Bom', '64.ann.json': 'Bom', '96.ann.json': 'Bom', '92.ann.json': 'Bom', '118.ann.json': 'Bom', '67.ann.json': 'Bom', '119.ann.json': 'Ruim', '113.ann.json': 'Bom', '114.ann.json': 'Bom', '110.ann.json': 'Bom', '80.ann.json': 'Bom', '122.ann.json': 'Bom', '97.ann.json': 'Bom', '121.ann.json': 'Bom', '66.ann.json': 'Bom', '111.ann.json': 'Bom', '71.ann.json': 'Bom', '82.ann.json': 'Bom', '117.ann.json': 'Ruim', '95.ann.json': 'Bom', '120.ann.json': 'Bom', '104.ann.json': 'Bom', '60.ann.json': 'Bom', '105.ann.json': 'Bom', '133.ann.json': 'Bom', '73.ann.json': 'Bom', '129.ann.json': 'Bom', '93.ann.json': 'Bom', '101.ann.json': 'Bom', '99.ann.json': 'Ruim', '128.ann.json': 'Neutro', '131.ann.json': 'Bom', '88.ann.json': 'Bom', '115.ann.json': 'Ruim', '91.ann.json': 'Bom', '116.ann.json': 'Bom', '87.ann.json': 'Bom', '70.ann.json': 'Bom', '108.ann.json': 'Bom', '94.ann.json': 'Bom', '123.ann.json': 'Bom'}\n",
            "{'Duda': {'89.ann.json': 'Bom', '127.ann.json': 'Bom', '132.ann.json': 'Ruim', '107.ann.json': 'Bom', '130.ann.json': 'Bom', '90.ann.json': 'Bom', '61.ann.json': 'Ruim', '112.ann.json': 'Bom', '124.ann.json': 'Bom', '125.ann.json': 'Bom', '106.ann.json': 'Bom', '55.ann.json': 'Bom', '126.ann.json': 'Bom', '56.ann.json': 'Bom', '103.ann.json': 'Ruim', '102.ann.json': 'Bom', '54.ann.json': 'Ruim', '109.ann.json': 'Bom', '98.ann.json': 'Bom', '58.ann.json': 'Bom', '100.ann.json': 'Bom', '64.ann.json': 'Bom', '96.ann.json': 'Bom', '92.ann.json': 'Bom', '118.ann.json': 'Bom', '67.ann.json': 'Bom', '119.ann.json': 'Ruim', '113.ann.json': 'Bom', '114.ann.json': 'Bom', '110.ann.json': 'Bom', '80.ann.json': 'Bom', '122.ann.json': 'Bom', '97.ann.json': 'Bom', '121.ann.json': 'Bom', '66.ann.json': 'Bom', '111.ann.json': 'Bom', '71.ann.json': 'Bom', '82.ann.json': 'Bom', '117.ann.json': 'Ruim', '95.ann.json': 'Bom', '120.ann.json': 'Bom', '104.ann.json': 'Bom', '60.ann.json': 'Bom', '105.ann.json': 'Bom', '133.ann.json': 'Bom', '73.ann.json': 'Bom', '129.ann.json': 'Bom', '93.ann.json': 'Bom', '101.ann.json': 'Bom', '99.ann.json': 'Ruim', '128.ann.json': 'Neutro', '131.ann.json': 'Bom', '88.ann.json': 'Bom', '115.ann.json': 'Ruim', '91.ann.json': 'Bom', '116.ann.json': 'Bom', '87.ann.json': 'Bom', '70.ann.json': 'Bom', '108.ann.json': 'Bom', '94.ann.json': 'Bom', '123.ann.json': 'Bom'}, 'Bruno': {'62.ann.json': 'Ruim', '89.ann.json': 'Bom', '127.ann.json': 'Bom', '34.ann.json': 'Bom', '132.ann.json': 'Ruim', '107.ann.json': 'Bom', '130.ann.json': 'Bom', '90.ann.json': 'Bom', '39.ann.json': 'Bom', '61.ann.json': 'Ruim', '112.ann.json': 'Bom', '124.ann.json': 'Bom', '50.ann.json': 'Ruim', '125.ann.json': 'Bom', '106.ann.json': 'Bom', '55.ann.json': 'Bom', '53.ann.json': 'Neutro', '41.ann.json': 'Bom', '85.ann.json': 'Bom', '126.ann.json': 'Bom', '84.ann.json': 'Ruim', '30.ann.json': 'Bom', '49.ann.json': 'Bom', '56.ann.json': 'Bom', '103.ann.json': 'Ruim', '76.ann.json': 'Ruim', '102.ann.json': 'Bom', '54.ann.json': 'Ruim', '28.ann.json': 'Bom', '109.ann.json': 'Bom', '98.ann.json': 'Neutro', '58.ann.json': 'Bom', '100.ann.json': 'Bom', '64.ann.json': 'Bom', '96.ann.json': 'Bom', '92.ann.json': 'Bom', '83.ann.json': 'Neutro', '118.ann.json': 'Bom', '24.ann.json': 'Bom', '75.ann.json': 'Ruim', '67.ann.json': 'Bom', '119.ann.json': 'Ruim', '81.ann.json': 'Bom', '72.ann.json': 'Bom', '35.ann.json': 'Bom', '23.ann.json': 'Bom', '37.ann.json': 'Bom', '78.ann.json': 'Bom', '113.ann.json': 'Bom', '86.ann.json': 'Bom', '77.ann.json': 'Bom', '36.ann.json': 'Bom', '114.ann.json': 'Bom', '110.ann.json': 'Neutro', '80.ann.json': 'Bom', '122.ann.json': 'Bom', '42.ann.json': 'Neutro', '97.ann.json': 'Bom', '52.ann.json': 'Bom', '121.ann.json': 'Bom', '66.ann.json': 'Bom', '111.ann.json': 'Bom', '71.ann.json': 'Bom', '65.ann.json': 'Bom', '26.ann.json': 'Neutro', '82.ann.json': 'Neutro', '117.ann.json': 'Ruim', '95.ann.json': 'Neutro', '120.ann.json': 'Bom', '104.ann.json': 'Bom', '60.ann.json': 'Bom', '43.ann.json': 'Bom', '105.ann.json': 'Bom', '29.ann.json': 'Bom', '133.ann.json': 'Ruim', '73.ann.json': 'Bom', '69.ann.json': 'Neutro', '129.ann.json': 'Neutro', '57.ann.json': 'Bom', '32.ann.json': 'Bom', '93.ann.json': 'Neutro', '101.ann.json': 'Bom', '99.ann.json': 'Ruim', '59.ann.json': 'Bom', '128.ann.json': 'Neutro', '25.ann.json': 'Bom', '131.ann.json': 'Bom', '88.ann.json': 'Bom', '115.ann.json': 'Neutro', '91.ann.json': 'Bom', '116.ann.json': 'Bom', '87.ann.json': 'Bom', '68.ann.json': 'Ruim', '79.ann.json': 'Bom', '70.ann.json': 'Bom', '108.ann.json': 'Bom', '74.ann.json': 'Ruim', '63.ann.json': 'Ruim', '94.ann.json': 'Bom', '123.ann.json': 'Bom'}, 'Ariel': {'62.ann.json': 'Neutro', '89.ann.json': 'Bom', '127.ann.json': 'Bom', '34.ann.json': 'Bom', '132.ann.json': 'Neutro', '107.ann.json': 'Bom', '130.ann.json': 'Bom', '90.ann.json': 'Bom', '39.ann.json': 'Bom', '61.ann.json': 'Bom', '112.ann.json': 'Bom', '124.ann.json': 'Bom', '50.ann.json': 'Ruim', '125.ann.json': 'Bom', '106.ann.json': 'Bom', '55.ann.json': 'Bom', '53.ann.json': 'Bom', '41.ann.json': 'Bom', '85.ann.json': 'Bom', '126.ann.json': 'Bom', '84.ann.json': 'Bom', '30.ann.json': 'Bom', '49.ann.json': 'Neutro', '56.ann.json': 'Bom', '103.ann.json': 'Ruim', '76.ann.json': 'Neutro', '102.ann.json': 'Bom', '54.ann.json': 'Ruim', '28.ann.json': 'Bom', '109.ann.json': 'Bom', '98.ann.json': 'Bom', '58.ann.json': 'Bom', '100.ann.json': 'Bom', '64.ann.json': 'Ruim', '96.ann.json': 'Bom', '92.ann.json': 'Bom', '83.ann.json': 'Neutro', '118.ann.json': 'Bom', '24.ann.json': 'Bom', '75.ann.json': 'Ruim', '67.ann.json': 'Bom', '119.ann.json': 'Ruim', '81.ann.json': 'Bom', '72.ann.json': 'Bom', '35.ann.json': 'Bom', '23.ann.json': 'Neutro', '37.ann.json': 'Bom', '78.ann.json': 'Bom', '113.ann.json': 'Bom', '86.ann.json': 'Bom', '77.ann.json': 'Bom', '36.ann.json': 'Bom', '114.ann.json': 'Bom', '110.ann.json': 'Bom', '80.ann.json': 'Bom', '122.ann.json': 'Bom', '42.ann.json': 'Bom', '97.ann.json': 'Bom', '52.ann.json': 'Bom', '121.ann.json': 'Bom', '66.ann.json': 'Bom', '111.ann.json': 'Bom', '71.ann.json': 'Bom', '65.ann.json': 'Bom', '26.ann.json': 'Neutro', '82.ann.json': 'Bom', '117.ann.json': 'Ruim', '95.ann.json': 'Bom', '120.ann.json': 'Bom', '104.ann.json': 'Bom', '60.ann.json': 'Bom', '43.ann.json': 'Bom', '105.ann.json': 'Bom', '29.ann.json': 'Bom', '133.ann.json': 'Bom', '73.ann.json': 'Bom', '69.ann.json': 'Neutro', '129.ann.json': 'Bom', '57.ann.json': 'Bom', '32.ann.json': 'Bom', '93.ann.json': 'Bom', '101.ann.json': 'Bom', '99.ann.json': 'Ruim', '59.ann.json': 'Bom', '128.ann.json': 'Bom', '25.ann.json': 'Bom', '131.ann.json': 'Bom', '88.ann.json': 'Bom', '115.ann.json': 'Neutro', '91.ann.json': 'Bom', '116.ann.json': 'Bom', '87.ann.json': 'Bom', '68.ann.json': 'Ruim', '79.ann.json': 'Bom', '70.ann.json': 'Bom', '108.ann.json': 'Bom', '74.ann.json': 'Ruim', '63.ann.json': 'Ruim', '94.ann.json': 'Bom', '123.ann.json': 'Neutro'}}\n"
          ]
        }
      ]
    },
    {
      "cell_type": "code",
      "source": [
        "df = pd.DataFrame.from_dict(dfxxx).T\n",
        "df\n"
      ],
      "metadata": {
        "colab": {
          "base_uri": "https://localhost:8080/",
          "height": 237
        },
        "id": "5E53wEXaSDIy",
        "outputId": "b46b7fde-514b-4ce2-99ed-910105b4f7cf"
      },
      "execution_count": 15,
      "outputs": [
        {
          "output_type": "execute_result",
          "data": {
            "text/plain": [
              "      89.ann.json 127.ann.json 132.ann.json 107.ann.json 130.ann.json  \\\n",
              "Duda          Bom          Bom         Ruim          Bom          Bom   \n",
              "Bruno         Bom          Bom         Ruim          Bom          Bom   \n",
              "Ariel         Bom          Bom       Neutro          Bom          Bom   \n",
              "\n",
              "      90.ann.json 61.ann.json 112.ann.json 124.ann.json 125.ann.json  ...  \\\n",
              "Duda          Bom        Ruim          Bom          Bom          Bom  ...   \n",
              "Bruno         Bom        Ruim          Bom          Bom          Bom  ...   \n",
              "Ariel         Bom         Bom          Bom          Bom          Bom  ...   \n",
              "\n",
              "      29.ann.json 69.ann.json 57.ann.json 32.ann.json 59.ann.json 25.ann.json  \\\n",
              "Duda          NaN         NaN         NaN         NaN         NaN         NaN   \n",
              "Bruno         Bom      Neutro         Bom         Bom         Bom         Bom   \n",
              "Ariel         Bom      Neutro         Bom         Bom         Bom         Bom   \n",
              "\n",
              "      68.ann.json 79.ann.json 74.ann.json 63.ann.json  \n",
              "Duda          NaN         NaN         NaN         NaN  \n",
              "Bruno        Ruim         Bom        Ruim        Ruim  \n",
              "Ariel        Ruim         Bom        Ruim        Ruim  \n",
              "\n",
              "[3 rows x 100 columns]"
            ],
            "text/html": [
              "\n",
              "  <div id=\"df-7ccdc3bc-d4e6-4083-89cd-e5015d8c6024\">\n",
              "    <div class=\"colab-df-container\">\n",
              "      <div>\n",
              "<style scoped>\n",
              "    .dataframe tbody tr th:only-of-type {\n",
              "        vertical-align: middle;\n",
              "    }\n",
              "\n",
              "    .dataframe tbody tr th {\n",
              "        vertical-align: top;\n",
              "    }\n",
              "\n",
              "    .dataframe thead th {\n",
              "        text-align: right;\n",
              "    }\n",
              "</style>\n",
              "<table border=\"1\" class=\"dataframe\">\n",
              "  <thead>\n",
              "    <tr style=\"text-align: right;\">\n",
              "      <th></th>\n",
              "      <th>89.ann.json</th>\n",
              "      <th>127.ann.json</th>\n",
              "      <th>132.ann.json</th>\n",
              "      <th>107.ann.json</th>\n",
              "      <th>130.ann.json</th>\n",
              "      <th>90.ann.json</th>\n",
              "      <th>61.ann.json</th>\n",
              "      <th>112.ann.json</th>\n",
              "      <th>124.ann.json</th>\n",
              "      <th>125.ann.json</th>\n",
              "      <th>...</th>\n",
              "      <th>29.ann.json</th>\n",
              "      <th>69.ann.json</th>\n",
              "      <th>57.ann.json</th>\n",
              "      <th>32.ann.json</th>\n",
              "      <th>59.ann.json</th>\n",
              "      <th>25.ann.json</th>\n",
              "      <th>68.ann.json</th>\n",
              "      <th>79.ann.json</th>\n",
              "      <th>74.ann.json</th>\n",
              "      <th>63.ann.json</th>\n",
              "    </tr>\n",
              "  </thead>\n",
              "  <tbody>\n",
              "    <tr>\n",
              "      <th>Duda</th>\n",
              "      <td>Bom</td>\n",
              "      <td>Bom</td>\n",
              "      <td>Ruim</td>\n",
              "      <td>Bom</td>\n",
              "      <td>Bom</td>\n",
              "      <td>Bom</td>\n",
              "      <td>Ruim</td>\n",
              "      <td>Bom</td>\n",
              "      <td>Bom</td>\n",
              "      <td>Bom</td>\n",
              "      <td>...</td>\n",
              "      <td>NaN</td>\n",
              "      <td>NaN</td>\n",
              "      <td>NaN</td>\n",
              "      <td>NaN</td>\n",
              "      <td>NaN</td>\n",
              "      <td>NaN</td>\n",
              "      <td>NaN</td>\n",
              "      <td>NaN</td>\n",
              "      <td>NaN</td>\n",
              "      <td>NaN</td>\n",
              "    </tr>\n",
              "    <tr>\n",
              "      <th>Bruno</th>\n",
              "      <td>Bom</td>\n",
              "      <td>Bom</td>\n",
              "      <td>Ruim</td>\n",
              "      <td>Bom</td>\n",
              "      <td>Bom</td>\n",
              "      <td>Bom</td>\n",
              "      <td>Ruim</td>\n",
              "      <td>Bom</td>\n",
              "      <td>Bom</td>\n",
              "      <td>Bom</td>\n",
              "      <td>...</td>\n",
              "      <td>Bom</td>\n",
              "      <td>Neutro</td>\n",
              "      <td>Bom</td>\n",
              "      <td>Bom</td>\n",
              "      <td>Bom</td>\n",
              "      <td>Bom</td>\n",
              "      <td>Ruim</td>\n",
              "      <td>Bom</td>\n",
              "      <td>Ruim</td>\n",
              "      <td>Ruim</td>\n",
              "    </tr>\n",
              "    <tr>\n",
              "      <th>Ariel</th>\n",
              "      <td>Bom</td>\n",
              "      <td>Bom</td>\n",
              "      <td>Neutro</td>\n",
              "      <td>Bom</td>\n",
              "      <td>Bom</td>\n",
              "      <td>Bom</td>\n",
              "      <td>Bom</td>\n",
              "      <td>Bom</td>\n",
              "      <td>Bom</td>\n",
              "      <td>Bom</td>\n",
              "      <td>...</td>\n",
              "      <td>Bom</td>\n",
              "      <td>Neutro</td>\n",
              "      <td>Bom</td>\n",
              "      <td>Bom</td>\n",
              "      <td>Bom</td>\n",
              "      <td>Bom</td>\n",
              "      <td>Ruim</td>\n",
              "      <td>Bom</td>\n",
              "      <td>Ruim</td>\n",
              "      <td>Ruim</td>\n",
              "    </tr>\n",
              "  </tbody>\n",
              "</table>\n",
              "<p>3 rows × 100 columns</p>\n",
              "</div>\n",
              "      <button class=\"colab-df-convert\" onclick=\"convertToInteractive('df-7ccdc3bc-d4e6-4083-89cd-e5015d8c6024')\"\n",
              "              title=\"Convert this dataframe to an interactive table.\"\n",
              "              style=\"display:none;\">\n",
              "        \n",
              "  <svg xmlns=\"http://www.w3.org/2000/svg\" height=\"24px\"viewBox=\"0 0 24 24\"\n",
              "       width=\"24px\">\n",
              "    <path d=\"M0 0h24v24H0V0z\" fill=\"none\"/>\n",
              "    <path d=\"M18.56 5.44l.94 2.06.94-2.06 2.06-.94-2.06-.94-.94-2.06-.94 2.06-2.06.94zm-11 1L8.5 8.5l.94-2.06 2.06-.94-2.06-.94L8.5 2.5l-.94 2.06-2.06.94zm10 10l.94 2.06.94-2.06 2.06-.94-2.06-.94-.94-2.06-.94 2.06-2.06.94z\"/><path d=\"M17.41 7.96l-1.37-1.37c-.4-.4-.92-.59-1.43-.59-.52 0-1.04.2-1.43.59L10.3 9.45l-7.72 7.72c-.78.78-.78 2.05 0 2.83L4 21.41c.39.39.9.59 1.41.59.51 0 1.02-.2 1.41-.59l7.78-7.78 2.81-2.81c.8-.78.8-2.07 0-2.86zM5.41 20L4 18.59l7.72-7.72 1.47 1.35L5.41 20z\"/>\n",
              "  </svg>\n",
              "      </button>\n",
              "      \n",
              "  <style>\n",
              "    .colab-df-container {\n",
              "      display:flex;\n",
              "      flex-wrap:wrap;\n",
              "      gap: 12px;\n",
              "    }\n",
              "\n",
              "    .colab-df-convert {\n",
              "      background-color: #E8F0FE;\n",
              "      border: none;\n",
              "      border-radius: 50%;\n",
              "      cursor: pointer;\n",
              "      display: none;\n",
              "      fill: #1967D2;\n",
              "      height: 32px;\n",
              "      padding: 0 0 0 0;\n",
              "      width: 32px;\n",
              "    }\n",
              "\n",
              "    .colab-df-convert:hover {\n",
              "      background-color: #E2EBFA;\n",
              "      box-shadow: 0px 1px 2px rgba(60, 64, 67, 0.3), 0px 1px 3px 1px rgba(60, 64, 67, 0.15);\n",
              "      fill: #174EA6;\n",
              "    }\n",
              "\n",
              "    [theme=dark] .colab-df-convert {\n",
              "      background-color: #3B4455;\n",
              "      fill: #D2E3FC;\n",
              "    }\n",
              "\n",
              "    [theme=dark] .colab-df-convert:hover {\n",
              "      background-color: #434B5C;\n",
              "      box-shadow: 0px 1px 3px 1px rgba(0, 0, 0, 0.15);\n",
              "      filter: drop-shadow(0px 1px 2px rgba(0, 0, 0, 0.3));\n",
              "      fill: #FFFFFF;\n",
              "    }\n",
              "  </style>\n",
              "\n",
              "      <script>\n",
              "        const buttonEl =\n",
              "          document.querySelector('#df-7ccdc3bc-d4e6-4083-89cd-e5015d8c6024 button.colab-df-convert');\n",
              "        buttonEl.style.display =\n",
              "          google.colab.kernel.accessAllowed ? 'block' : 'none';\n",
              "\n",
              "        async function convertToInteractive(key) {\n",
              "          const element = document.querySelector('#df-7ccdc3bc-d4e6-4083-89cd-e5015d8c6024');\n",
              "          const dataTable =\n",
              "            await google.colab.kernel.invokeFunction('convertToInteractive',\n",
              "                                                     [key], {});\n",
              "          if (!dataTable) return;\n",
              "\n",
              "          const docLinkHtml = 'Like what you see? Visit the ' +\n",
              "            '<a target=\"_blank\" href=https://colab.research.google.com/notebooks/data_table.ipynb>data table notebook</a>'\n",
              "            + ' to learn more about interactive tables.';\n",
              "          element.innerHTML = '';\n",
              "          dataTable['output_type'] = 'display_data';\n",
              "          await google.colab.output.renderOutput(dataTable, element);\n",
              "          const docLink = document.createElement('div');\n",
              "          docLink.innerHTML = docLinkHtml;\n",
              "          element.appendChild(docLink);\n",
              "        }\n",
              "      </script>\n",
              "    </div>\n",
              "  </div>\n",
              "  "
            ]
          },
          "metadata": {},
          "execution_count": 15
        }
      ]
    }
  ]
}